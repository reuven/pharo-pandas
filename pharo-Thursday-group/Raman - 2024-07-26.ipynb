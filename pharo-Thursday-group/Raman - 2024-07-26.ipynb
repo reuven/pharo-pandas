{
 "cells": [
  {
   "cell_type": "code",
   "execution_count": 1,
   "id": "f2df1e9c-4e8e-40a7-af82-a882a2df7bf6",
   "metadata": {},
   "outputs": [],
   "source": [
    "import pandas as pd\n",
    "from pandas import Series, DataFrame"
   ]
  },
  {
   "cell_type": "code",
   "execution_count": 3,
   "id": "e01b3654-fd0c-4144-b898-8117ab6f78ae",
   "metadata": {},
   "outputs": [],
   "source": [
    "filename = '../data/winemag-150k-reviews.csv'\n",
    "df = pd.read_csv(filename)"
   ]
  },
  {
   "cell_type": "code",
   "execution_count": 4,
   "id": "6062ef72-7f28-4d1b-bd9f-6f6a9312d648",
   "metadata": {},
   "outputs": [
    {
     "data": {
      "text/html": [
       "<div>\n",
       "<style scoped>\n",
       "    .dataframe tbody tr th:only-of-type {\n",
       "        vertical-align: middle;\n",
       "    }\n",
       "\n",
       "    .dataframe tbody tr th {\n",
       "        vertical-align: top;\n",
       "    }\n",
       "\n",
       "    .dataframe thead th {\n",
       "        text-align: right;\n",
       "    }\n",
       "</style>\n",
       "<table border=\"1\" class=\"dataframe\">\n",
       "  <thead>\n",
       "    <tr style=\"text-align: right;\">\n",
       "      <th></th>\n",
       "      <th>Unnamed: 0</th>\n",
       "      <th>country</th>\n",
       "      <th>description</th>\n",
       "      <th>designation</th>\n",
       "      <th>points</th>\n",
       "      <th>price</th>\n",
       "      <th>province</th>\n",
       "      <th>region_1</th>\n",
       "      <th>region_2</th>\n",
       "      <th>variety</th>\n",
       "      <th>winery</th>\n",
       "    </tr>\n",
       "  </thead>\n",
       "  <tbody>\n",
       "    <tr>\n",
       "      <th>0</th>\n",
       "      <td>0</td>\n",
       "      <td>US</td>\n",
       "      <td>This tremendous 100% varietal wine hails from ...</td>\n",
       "      <td>Martha's Vineyard</td>\n",
       "      <td>96</td>\n",
       "      <td>235.0</td>\n",
       "      <td>California</td>\n",
       "      <td>Napa Valley</td>\n",
       "      <td>Napa</td>\n",
       "      <td>Cabernet Sauvignon</td>\n",
       "      <td>Heitz</td>\n",
       "    </tr>\n",
       "    <tr>\n",
       "      <th>1</th>\n",
       "      <td>1</td>\n",
       "      <td>Spain</td>\n",
       "      <td>Ripe aromas of fig, blackberry and cassis are ...</td>\n",
       "      <td>Carodorum Selección Especial Reserva</td>\n",
       "      <td>96</td>\n",
       "      <td>110.0</td>\n",
       "      <td>Northern Spain</td>\n",
       "      <td>Toro</td>\n",
       "      <td>NaN</td>\n",
       "      <td>Tinta de Toro</td>\n",
       "      <td>Bodega Carmen Rodríguez</td>\n",
       "    </tr>\n",
       "    <tr>\n",
       "      <th>2</th>\n",
       "      <td>2</td>\n",
       "      <td>US</td>\n",
       "      <td>Mac Watson honors the memory of a wine once ma...</td>\n",
       "      <td>Special Selected Late Harvest</td>\n",
       "      <td>96</td>\n",
       "      <td>90.0</td>\n",
       "      <td>California</td>\n",
       "      <td>Knights Valley</td>\n",
       "      <td>Sonoma</td>\n",
       "      <td>Sauvignon Blanc</td>\n",
       "      <td>Macauley</td>\n",
       "    </tr>\n",
       "    <tr>\n",
       "      <th>3</th>\n",
       "      <td>3</td>\n",
       "      <td>US</td>\n",
       "      <td>This spent 20 months in 30% new French oak, an...</td>\n",
       "      <td>Reserve</td>\n",
       "      <td>96</td>\n",
       "      <td>65.0</td>\n",
       "      <td>Oregon</td>\n",
       "      <td>Willamette Valley</td>\n",
       "      <td>Willamette Valley</td>\n",
       "      <td>Pinot Noir</td>\n",
       "      <td>Ponzi</td>\n",
       "    </tr>\n",
       "    <tr>\n",
       "      <th>4</th>\n",
       "      <td>4</td>\n",
       "      <td>France</td>\n",
       "      <td>This is the top wine from La Bégude, named aft...</td>\n",
       "      <td>La Brûlade</td>\n",
       "      <td>95</td>\n",
       "      <td>66.0</td>\n",
       "      <td>Provence</td>\n",
       "      <td>Bandol</td>\n",
       "      <td>NaN</td>\n",
       "      <td>Provence red blend</td>\n",
       "      <td>Domaine de la Bégude</td>\n",
       "    </tr>\n",
       "  </tbody>\n",
       "</table>\n",
       "</div>"
      ],
      "text/plain": [
       "   Unnamed: 0 country                                        description  \\\n",
       "0           0      US  This tremendous 100% varietal wine hails from ...   \n",
       "1           1   Spain  Ripe aromas of fig, blackberry and cassis are ...   \n",
       "2           2      US  Mac Watson honors the memory of a wine once ma...   \n",
       "3           3      US  This spent 20 months in 30% new French oak, an...   \n",
       "4           4  France  This is the top wine from La Bégude, named aft...   \n",
       "\n",
       "                            designation  points  price        province  \\\n",
       "0                     Martha's Vineyard      96  235.0      California   \n",
       "1  Carodorum Selección Especial Reserva      96  110.0  Northern Spain   \n",
       "2         Special Selected Late Harvest      96   90.0      California   \n",
       "3                               Reserve      96   65.0          Oregon   \n",
       "4                            La Brûlade      95   66.0        Provence   \n",
       "\n",
       "            region_1           region_2             variety  \\\n",
       "0        Napa Valley               Napa  Cabernet Sauvignon   \n",
       "1               Toro                NaN       Tinta de Toro   \n",
       "2     Knights Valley             Sonoma     Sauvignon Blanc   \n",
       "3  Willamette Valley  Willamette Valley          Pinot Noir   \n",
       "4             Bandol                NaN  Provence red blend   \n",
       "\n",
       "                    winery  \n",
       "0                    Heitz  \n",
       "1  Bodega Carmen Rodríguez  \n",
       "2                 Macauley  \n",
       "3                    Ponzi  \n",
       "4     Domaine de la Bégude  "
      ]
     },
     "execution_count": 4,
     "metadata": {},
     "output_type": "execute_result"
    }
   ],
   "source": [
    "df.head()"
   ]
  },
  {
   "cell_type": "code",
   "execution_count": 6,
   "id": "f401aba5-672f-4cc9-84f2-44786b081668",
   "metadata": {},
   "outputs": [
    {
     "data": {
      "text/plain": [
       "(150930, 11)"
      ]
     },
     "execution_count": 6,
     "metadata": {},
     "output_type": "execute_result"
    }
   ],
   "source": [
    "df.shape"
   ]
  },
  {
   "cell_type": "code",
   "execution_count": 7,
   "id": "6252eba3-b44b-4084-8138-f2bb37113a0f",
   "metadata": {},
   "outputs": [
    {
     "data": {
      "text/plain": [
       "Unnamed: 0       int64\n",
       "country         object\n",
       "description     object\n",
       "designation     object\n",
       "points           int64\n",
       "price          float64\n",
       "province        object\n",
       "region_1        object\n",
       "region_2        object\n",
       "variety         object\n",
       "winery          object\n",
       "dtype: object"
      ]
     },
     "execution_count": 7,
     "metadata": {},
     "output_type": "execute_result"
    }
   ],
   "source": [
    "df.dtypes"
   ]
  },
  {
   "cell_type": "code",
   "execution_count": 9,
   "id": "09a5099e-ca85-47da-8aad-52cde360e0c9",
   "metadata": {},
   "outputs": [
    {
     "data": {
      "text/plain": [
       "0         2.0\n",
       "1         5.0\n",
       "2         2.0\n",
       "3         2.0\n",
       "4         6.0\n",
       "         ... \n",
       "150925    5.0\n",
       "150926    6.0\n",
       "150927    5.0\n",
       "150928    6.0\n",
       "150929    5.0\n",
       "Name: country, Length: 150930, dtype: float64"
      ]
     },
     "execution_count": 9,
     "metadata": {},
     "output_type": "execute_result"
    }
   ],
   "source": [
    "df['country'].str.len()"
   ]
  },
  {
   "cell_type": "code",
   "execution_count": 21,
   "id": "2ff63493-68f4-438f-acad-189851be9719",
   "metadata": {},
   "outputs": [],
   "source": [
    "nrEle = df['description'].str.len()"
   ]
  },
  {
   "cell_type": "code",
   "execution_count": 28,
   "id": "6a04deac-c7b8-484f-8107-017495bab05e",
   "metadata": {},
   "outputs": [
    {
     "data": {
      "text/plain": [
       "90.02646323819545"
      ]
     },
     "execution_count": 28,
     "metadata": {},
     "output_type": "execute_result"
    }
   ],
   "source": [
    "df[nrEle>=nrEle.quantile(0.75)]['points'].mean()"
   ]
  },
  {
   "cell_type": "code",
   "execution_count": 31,
   "id": "9ea83edc-5669-4979-9d4d-b3dfb0cdd406",
   "metadata": {},
   "outputs": [
    {
     "data": {
      "text/plain": [
       "85.838828701523"
      ]
     },
     "execution_count": 31,
     "metadata": {},
     "output_type": "execute_result"
    }
   ],
   "source": [
    "df.loc[nrEle<=nrEle.quantile(0.25),'points'].mean()"
   ]
  },
  {
   "cell_type": "code",
   "execution_count": 32,
   "id": "0d60aa12-b079-4993-99dc-15cb41fad9ee",
   "metadata": {},
   "outputs": [
    {
     "data": {
      "text/plain": [
       "0         [This, tremendous, 100%, varietal, wine, hails...\n",
       "1         [Ripe, aromas, of, fig,, blackberry, and, cass...\n",
       "2         [Mac, Watson, honors, the, memory, of, a, wine...\n",
       "3         [This, spent, 20, months, in, 30%, new, French...\n",
       "4         [This, is, the, top, wine, from, La, Bégude,, ...\n",
       "                                ...                        \n",
       "150925    [Many, people, feel, Fiano, represents, southe...\n",
       "150926    [Offers, an, intriguing, nose, with, ginger,, ...\n",
       "150927    [This, classic, example, comes, from, a, cru, ...\n",
       "150928    [A, perfect, salmon, shade,, with, scents, of,...\n",
       "150929    [More, Pinot, Grigios, should, taste, like, th...\n",
       "Name: description, Length: 150930, dtype: object"
      ]
     },
     "execution_count": 32,
     "metadata": {},
     "output_type": "execute_result"
    }
   ],
   "source": [
    "df['description'].str.split()"
   ]
  },
  {
   "cell_type": "code",
   "execution_count": 33,
   "id": "7e716cb3-ece0-4a25-b9bf-5902a4e5dfe3",
   "metadata": {},
   "outputs": [
    {
     "data": {
      "text/plain": [
       "0         t\n",
       "1         a\n",
       "2         a\n",
       "3         s\n",
       "4         i\n",
       "         ..\n",
       "150925    p\n",
       "150926    s\n",
       "150927    c\n",
       "150928    f\n",
       "150929    P\n",
       "Name: description, Length: 150930, dtype: object"
      ]
     },
     "execution_count": 33,
     "metadata": {},
     "output_type": "execute_result"
    }
   ],
   "source": [
    "df['description'].str.get(5)"
   ]
  },
  {
   "cell_type": "code",
   "execution_count": 36,
   "id": "128cccf2-5e38-48a7-950f-1fa171ea4407",
   "metadata": {},
   "outputs": [
    {
     "data": {
      "text/plain": [
       "description\n",
       "This           25499\n",
       "A              19389\n",
       "The             7694\n",
       "Here's          2970\n",
       "An              2128\n",
       "               ...  \n",
       "Symmetry           1\n",
       "Nanfrè             1\n",
       "Villalta's         1\n",
       "Pineapples,        1\n",
       "Oreo               1\n",
       "Name: count, Length: 6988, dtype: int64"
      ]
     },
     "execution_count": 36,
     "metadata": {},
     "output_type": "execute_result"
    }
   ],
   "source": [
    "df['description'].str.split().str.get(0).value_counts()"
   ]
  },
  {
   "cell_type": "code",
   "execution_count": 37,
   "id": "e128feda-e126-4a47-a381-4bdc371d8820",
   "metadata": {},
   "outputs": [
    {
     "data": {
      "text/html": [
       "<div>\n",
       "<style scoped>\n",
       "    .dataframe tbody tr th:only-of-type {\n",
       "        vertical-align: middle;\n",
       "    }\n",
       "\n",
       "    .dataframe tbody tr th {\n",
       "        vertical-align: top;\n",
       "    }\n",
       "\n",
       "    .dataframe thead th {\n",
       "        text-align: right;\n",
       "    }\n",
       "</style>\n",
       "<table border=\"1\" class=\"dataframe\">\n",
       "  <thead>\n",
       "    <tr style=\"text-align: right;\">\n",
       "      <th></th>\n",
       "      <th>Unnamed: 0</th>\n",
       "      <th>country</th>\n",
       "      <th>description</th>\n",
       "      <th>designation</th>\n",
       "      <th>points</th>\n",
       "      <th>price</th>\n",
       "      <th>province</th>\n",
       "      <th>region_1</th>\n",
       "      <th>region_2</th>\n",
       "      <th>variety</th>\n",
       "      <th>winery</th>\n",
       "    </tr>\n",
       "  </thead>\n",
       "  <tbody>\n",
       "    <tr>\n",
       "      <th>2523</th>\n",
       "      <td>2523</td>\n",
       "      <td>Lebanon</td>\n",
       "      <td>Deep ruby in color, with aromas of black cherr...</td>\n",
       "      <td>Altitudes</td>\n",
       "      <td>91</td>\n",
       "      <td>20.0</td>\n",
       "      <td>Lebanon</td>\n",
       "      <td>NaN</td>\n",
       "      <td>NaN</td>\n",
       "      <td>Red Blend</td>\n",
       "      <td>Ixsir</td>\n",
       "    </tr>\n",
       "    <tr>\n",
       "      <th>2616</th>\n",
       "      <td>2616</td>\n",
       "      <td>Serbia</td>\n",
       "      <td>This white wine from Serbia has aromas of cara...</td>\n",
       "      <td>NaN</td>\n",
       "      <td>87</td>\n",
       "      <td>26.0</td>\n",
       "      <td>Pocerina</td>\n",
       "      <td>NaN</td>\n",
       "      <td>NaN</td>\n",
       "      <td>Morava</td>\n",
       "      <td>Milijan Jelić</td>\n",
       "    </tr>\n",
       "    <tr>\n",
       "      <th>2664</th>\n",
       "      <td>2664</td>\n",
       "      <td>Serbia</td>\n",
       "      <td>White flowers, eucalyptus and a slight whiff o...</td>\n",
       "      <td>Margus Margi</td>\n",
       "      <td>89</td>\n",
       "      <td>20.0</td>\n",
       "      <td>Župa</td>\n",
       "      <td>NaN</td>\n",
       "      <td>NaN</td>\n",
       "      <td>Riesling</td>\n",
       "      <td>Budimir</td>\n",
       "    </tr>\n",
       "    <tr>\n",
       "      <th>2666</th>\n",
       "      <td>2666</td>\n",
       "      <td>Serbia</td>\n",
       "      <td>A blend of 60% Prokupac and 40% Cabernet Sauvi...</td>\n",
       "      <td>Sub Rosa</td>\n",
       "      <td>89</td>\n",
       "      <td>40.0</td>\n",
       "      <td>Župa</td>\n",
       "      <td>NaN</td>\n",
       "      <td>NaN</td>\n",
       "      <td>Red Blend</td>\n",
       "      <td>Budimir</td>\n",
       "    </tr>\n",
       "    <tr>\n",
       "      <th>2841</th>\n",
       "      <td>2841</td>\n",
       "      <td>Serbia</td>\n",
       "      <td>A blend of 60% Prokupac and 40% Cabernet Sauvi...</td>\n",
       "      <td>Sub Rosa</td>\n",
       "      <td>89</td>\n",
       "      <td>40.0</td>\n",
       "      <td>Župa</td>\n",
       "      <td>NaN</td>\n",
       "      <td>NaN</td>\n",
       "      <td>Red Blend</td>\n",
       "      <td>Budimir</td>\n",
       "    </tr>\n",
       "    <tr>\n",
       "      <th>...</th>\n",
       "      <td>...</td>\n",
       "      <td>...</td>\n",
       "      <td>...</td>\n",
       "      <td>...</td>\n",
       "      <td>...</td>\n",
       "      <td>...</td>\n",
       "      <td>...</td>\n",
       "      <td>...</td>\n",
       "      <td>...</td>\n",
       "      <td>...</td>\n",
       "      <td>...</td>\n",
       "    </tr>\n",
       "    <tr>\n",
       "      <th>126992</th>\n",
       "      <td>126992</td>\n",
       "      <td>Lebanon</td>\n",
       "      <td>Simple, solid aromas of cherry, cinnamon and s...</td>\n",
       "      <td>Hochar Père et Fils</td>\n",
       "      <td>83</td>\n",
       "      <td>25.0</td>\n",
       "      <td>Bekaa Valley</td>\n",
       "      <td>NaN</td>\n",
       "      <td>NaN</td>\n",
       "      <td>Red Blend</td>\n",
       "      <td>Château Musar</td>\n",
       "    </tr>\n",
       "    <tr>\n",
       "      <th>127344</th>\n",
       "      <td>127344</td>\n",
       "      <td>Lebanon</td>\n",
       "      <td>This white blend from Lebanon has a nose of al...</td>\n",
       "      <td>Gaston Hochar</td>\n",
       "      <td>81</td>\n",
       "      <td>38.0</td>\n",
       "      <td>Bekaa Valley</td>\n",
       "      <td>NaN</td>\n",
       "      <td>NaN</td>\n",
       "      <td>White Blend</td>\n",
       "      <td>Château Musar</td>\n",
       "    </tr>\n",
       "    <tr>\n",
       "      <th>134565</th>\n",
       "      <td>134565</td>\n",
       "      <td>Luxembourg</td>\n",
       "      <td>Starts with aromas of minerals, pear and apple...</td>\n",
       "      <td>Domaine et Tradition Machtum Hohfels</td>\n",
       "      <td>88</td>\n",
       "      <td>50.0</td>\n",
       "      <td>Moselle Luxembourgeoise</td>\n",
       "      <td>NaN</td>\n",
       "      <td>NaN</td>\n",
       "      <td>Pinot Gris</td>\n",
       "      <td>Mme Aly Duhr et Fils</td>\n",
       "    </tr>\n",
       "    <tr>\n",
       "      <th>137278</th>\n",
       "      <td>137278</td>\n",
       "      <td>Luxembourg</td>\n",
       "      <td>Offers aromas of honey, almond and white fruit...</td>\n",
       "      <td>Ahn Hohfels Grand Premier Cru</td>\n",
       "      <td>87</td>\n",
       "      <td>36.0</td>\n",
       "      <td>Moselle Luxembourgeoise</td>\n",
       "      <td>NaN</td>\n",
       "      <td>NaN</td>\n",
       "      <td>Pinot Gris</td>\n",
       "      <td>Mme Aly Duhr et Fils</td>\n",
       "    </tr>\n",
       "    <tr>\n",
       "      <th>137890</th>\n",
       "      <td>137890</td>\n",
       "      <td>Luxembourg</td>\n",
       "      <td>A fresh but flirty nose of fresh white flowers...</td>\n",
       "      <td>Mertert Herrenberg Grand Premier Cru</td>\n",
       "      <td>86</td>\n",
       "      <td>36.0</td>\n",
       "      <td>Moselle Luxembourgeoise</td>\n",
       "      <td>NaN</td>\n",
       "      <td>NaN</td>\n",
       "      <td>Riesling</td>\n",
       "      <td>Mme Aly Duhr et Fils</td>\n",
       "    </tr>\n",
       "  </tbody>\n",
       "</table>\n",
       "<p>68 rows × 11 columns</p>\n",
       "</div>"
      ],
      "text/plain": [
       "        Unnamed: 0     country  \\\n",
       "2523          2523     Lebanon   \n",
       "2616          2616      Serbia   \n",
       "2664          2664      Serbia   \n",
       "2666          2666      Serbia   \n",
       "2841          2841      Serbia   \n",
       "...            ...         ...   \n",
       "126992      126992     Lebanon   \n",
       "127344      127344     Lebanon   \n",
       "134565      134565  Luxembourg   \n",
       "137278      137278  Luxembourg   \n",
       "137890      137890  Luxembourg   \n",
       "\n",
       "                                              description  \\\n",
       "2523    Deep ruby in color, with aromas of black cherr...   \n",
       "2616    This white wine from Serbia has aromas of cara...   \n",
       "2664    White flowers, eucalyptus and a slight whiff o...   \n",
       "2666    A blend of 60% Prokupac and 40% Cabernet Sauvi...   \n",
       "2841    A blend of 60% Prokupac and 40% Cabernet Sauvi...   \n",
       "...                                                   ...   \n",
       "126992  Simple, solid aromas of cherry, cinnamon and s...   \n",
       "127344  This white blend from Lebanon has a nose of al...   \n",
       "134565  Starts with aromas of minerals, pear and apple...   \n",
       "137278  Offers aromas of honey, almond and white fruit...   \n",
       "137890  A fresh but flirty nose of fresh white flowers...   \n",
       "\n",
       "                                 designation  points  price  \\\n",
       "2523                               Altitudes      91   20.0   \n",
       "2616                                     NaN      87   26.0   \n",
       "2664                            Margus Margi      89   20.0   \n",
       "2666                                Sub Rosa      89   40.0   \n",
       "2841                                Sub Rosa      89   40.0   \n",
       "...                                      ...     ...    ...   \n",
       "126992                   Hochar Père et Fils      83   25.0   \n",
       "127344                         Gaston Hochar      81   38.0   \n",
       "134565  Domaine et Tradition Machtum Hohfels      88   50.0   \n",
       "137278         Ahn Hohfels Grand Premier Cru      87   36.0   \n",
       "137890  Mertert Herrenberg Grand Premier Cru      86   36.0   \n",
       "\n",
       "                       province region_1 region_2      variety  \\\n",
       "2523                    Lebanon      NaN      NaN    Red Blend   \n",
       "2616                   Pocerina      NaN      NaN       Morava   \n",
       "2664                       Župa      NaN      NaN     Riesling   \n",
       "2666                       Župa      NaN      NaN    Red Blend   \n",
       "2841                       Župa      NaN      NaN    Red Blend   \n",
       "...                         ...      ...      ...          ...   \n",
       "126992             Bekaa Valley      NaN      NaN    Red Blend   \n",
       "127344             Bekaa Valley      NaN      NaN  White Blend   \n",
       "134565  Moselle Luxembourgeoise      NaN      NaN   Pinot Gris   \n",
       "137278  Moselle Luxembourgeoise      NaN      NaN   Pinot Gris   \n",
       "137890  Moselle Luxembourgeoise      NaN      NaN     Riesling   \n",
       "\n",
       "                      winery  \n",
       "2523                   Ixsir  \n",
       "2616           Milijan Jelić  \n",
       "2664                 Budimir  \n",
       "2666                 Budimir  \n",
       "2841                 Budimir  \n",
       "...                      ...  \n",
       "126992         Château Musar  \n",
       "127344         Château Musar  \n",
       "134565  Mme Aly Duhr et Fils  \n",
       "137278  Mme Aly Duhr et Fils  \n",
       "137890  Mme Aly Duhr et Fils  \n",
       "\n",
       "[68 rows x 11 columns]"
      ]
     },
     "execution_count": 37,
     "metadata": {},
     "output_type": "execute_result"
    }
   ],
   "source": [
    "# let's say we want to find rows where the country contains \"j\"\n",
    "\n",
    "(\n",
    "    df\n",
    "    .dropna(subset='country')\n",
    "    .loc[   \n",
    "        df.dropna(subset='country')['country'].str.contains('b')  \n",
    "    ]\n",
    ")"
   ]
  },
  {
   "cell_type": "code",
   "execution_count": 38,
   "id": "95bd5150-ffc6-4b82-8265-3f5553515b9f",
   "metadata": {},
   "outputs": [
    {
     "data": {
      "text/html": [
       "<div>\n",
       "<style scoped>\n",
       "    .dataframe tbody tr th:only-of-type {\n",
       "        vertical-align: middle;\n",
       "    }\n",
       "\n",
       "    .dataframe tbody tr th {\n",
       "        vertical-align: top;\n",
       "    }\n",
       "\n",
       "    .dataframe thead th {\n",
       "        text-align: right;\n",
       "    }\n",
       "</style>\n",
       "<table border=\"1\" class=\"dataframe\">\n",
       "  <thead>\n",
       "    <tr style=\"text-align: right;\">\n",
       "      <th></th>\n",
       "      <th>Unnamed: 0</th>\n",
       "      <th>country</th>\n",
       "      <th>description</th>\n",
       "      <th>designation</th>\n",
       "      <th>points</th>\n",
       "      <th>price</th>\n",
       "      <th>province</th>\n",
       "      <th>region_1</th>\n",
       "      <th>region_2</th>\n",
       "      <th>variety</th>\n",
       "      <th>winery</th>\n",
       "    </tr>\n",
       "  </thead>\n",
       "  <tbody>\n",
       "    <tr>\n",
       "      <th>2523</th>\n",
       "      <td>2523</td>\n",
       "      <td>Lebanon</td>\n",
       "      <td>Deep ruby in color, with aromas of black cherr...</td>\n",
       "      <td>Altitudes</td>\n",
       "      <td>91</td>\n",
       "      <td>20.0</td>\n",
       "      <td>Lebanon</td>\n",
       "      <td>NaN</td>\n",
       "      <td>NaN</td>\n",
       "      <td>Red Blend</td>\n",
       "      <td>Ixsir</td>\n",
       "    </tr>\n",
       "    <tr>\n",
       "      <th>2616</th>\n",
       "      <td>2616</td>\n",
       "      <td>Serbia</td>\n",
       "      <td>This white wine from Serbia has aromas of cara...</td>\n",
       "      <td>NaN</td>\n",
       "      <td>87</td>\n",
       "      <td>26.0</td>\n",
       "      <td>Pocerina</td>\n",
       "      <td>NaN</td>\n",
       "      <td>NaN</td>\n",
       "      <td>Morava</td>\n",
       "      <td>Milijan Jelić</td>\n",
       "    </tr>\n",
       "    <tr>\n",
       "      <th>2664</th>\n",
       "      <td>2664</td>\n",
       "      <td>Serbia</td>\n",
       "      <td>White flowers, eucalyptus and a slight whiff o...</td>\n",
       "      <td>Margus Margi</td>\n",
       "      <td>89</td>\n",
       "      <td>20.0</td>\n",
       "      <td>Župa</td>\n",
       "      <td>NaN</td>\n",
       "      <td>NaN</td>\n",
       "      <td>Riesling</td>\n",
       "      <td>Budimir</td>\n",
       "    </tr>\n",
       "    <tr>\n",
       "      <th>2666</th>\n",
       "      <td>2666</td>\n",
       "      <td>Serbia</td>\n",
       "      <td>A blend of 60% Prokupac and 40% Cabernet Sauvi...</td>\n",
       "      <td>Sub Rosa</td>\n",
       "      <td>89</td>\n",
       "      <td>40.0</td>\n",
       "      <td>Župa</td>\n",
       "      <td>NaN</td>\n",
       "      <td>NaN</td>\n",
       "      <td>Red Blend</td>\n",
       "      <td>Budimir</td>\n",
       "    </tr>\n",
       "    <tr>\n",
       "      <th>2841</th>\n",
       "      <td>2841</td>\n",
       "      <td>Serbia</td>\n",
       "      <td>A blend of 60% Prokupac and 40% Cabernet Sauvi...</td>\n",
       "      <td>Sub Rosa</td>\n",
       "      <td>89</td>\n",
       "      <td>40.0</td>\n",
       "      <td>Župa</td>\n",
       "      <td>NaN</td>\n",
       "      <td>NaN</td>\n",
       "      <td>Red Blend</td>\n",
       "      <td>Budimir</td>\n",
       "    </tr>\n",
       "    <tr>\n",
       "      <th>...</th>\n",
       "      <td>...</td>\n",
       "      <td>...</td>\n",
       "      <td>...</td>\n",
       "      <td>...</td>\n",
       "      <td>...</td>\n",
       "      <td>...</td>\n",
       "      <td>...</td>\n",
       "      <td>...</td>\n",
       "      <td>...</td>\n",
       "      <td>...</td>\n",
       "      <td>...</td>\n",
       "    </tr>\n",
       "    <tr>\n",
       "      <th>126992</th>\n",
       "      <td>126992</td>\n",
       "      <td>Lebanon</td>\n",
       "      <td>Simple, solid aromas of cherry, cinnamon and s...</td>\n",
       "      <td>Hochar Père et Fils</td>\n",
       "      <td>83</td>\n",
       "      <td>25.0</td>\n",
       "      <td>Bekaa Valley</td>\n",
       "      <td>NaN</td>\n",
       "      <td>NaN</td>\n",
       "      <td>Red Blend</td>\n",
       "      <td>Château Musar</td>\n",
       "    </tr>\n",
       "    <tr>\n",
       "      <th>127344</th>\n",
       "      <td>127344</td>\n",
       "      <td>Lebanon</td>\n",
       "      <td>This white blend from Lebanon has a nose of al...</td>\n",
       "      <td>Gaston Hochar</td>\n",
       "      <td>81</td>\n",
       "      <td>38.0</td>\n",
       "      <td>Bekaa Valley</td>\n",
       "      <td>NaN</td>\n",
       "      <td>NaN</td>\n",
       "      <td>White Blend</td>\n",
       "      <td>Château Musar</td>\n",
       "    </tr>\n",
       "    <tr>\n",
       "      <th>134565</th>\n",
       "      <td>134565</td>\n",
       "      <td>Luxembourg</td>\n",
       "      <td>Starts with aromas of minerals, pear and apple...</td>\n",
       "      <td>Domaine et Tradition Machtum Hohfels</td>\n",
       "      <td>88</td>\n",
       "      <td>50.0</td>\n",
       "      <td>Moselle Luxembourgeoise</td>\n",
       "      <td>NaN</td>\n",
       "      <td>NaN</td>\n",
       "      <td>Pinot Gris</td>\n",
       "      <td>Mme Aly Duhr et Fils</td>\n",
       "    </tr>\n",
       "    <tr>\n",
       "      <th>137278</th>\n",
       "      <td>137278</td>\n",
       "      <td>Luxembourg</td>\n",
       "      <td>Offers aromas of honey, almond and white fruit...</td>\n",
       "      <td>Ahn Hohfels Grand Premier Cru</td>\n",
       "      <td>87</td>\n",
       "      <td>36.0</td>\n",
       "      <td>Moselle Luxembourgeoise</td>\n",
       "      <td>NaN</td>\n",
       "      <td>NaN</td>\n",
       "      <td>Pinot Gris</td>\n",
       "      <td>Mme Aly Duhr et Fils</td>\n",
       "    </tr>\n",
       "    <tr>\n",
       "      <th>137890</th>\n",
       "      <td>137890</td>\n",
       "      <td>Luxembourg</td>\n",
       "      <td>A fresh but flirty nose of fresh white flowers...</td>\n",
       "      <td>Mertert Herrenberg Grand Premier Cru</td>\n",
       "      <td>86</td>\n",
       "      <td>36.0</td>\n",
       "      <td>Moselle Luxembourgeoise</td>\n",
       "      <td>NaN</td>\n",
       "      <td>NaN</td>\n",
       "      <td>Riesling</td>\n",
       "      <td>Mme Aly Duhr et Fils</td>\n",
       "    </tr>\n",
       "  </tbody>\n",
       "</table>\n",
       "<p>68 rows × 11 columns</p>\n",
       "</div>"
      ],
      "text/plain": [
       "        Unnamed: 0     country  \\\n",
       "2523          2523     Lebanon   \n",
       "2616          2616      Serbia   \n",
       "2664          2664      Serbia   \n",
       "2666          2666      Serbia   \n",
       "2841          2841      Serbia   \n",
       "...            ...         ...   \n",
       "126992      126992     Lebanon   \n",
       "127344      127344     Lebanon   \n",
       "134565      134565  Luxembourg   \n",
       "137278      137278  Luxembourg   \n",
       "137890      137890  Luxembourg   \n",
       "\n",
       "                                              description  \\\n",
       "2523    Deep ruby in color, with aromas of black cherr...   \n",
       "2616    This white wine from Serbia has aromas of cara...   \n",
       "2664    White flowers, eucalyptus and a slight whiff o...   \n",
       "2666    A blend of 60% Prokupac and 40% Cabernet Sauvi...   \n",
       "2841    A blend of 60% Prokupac and 40% Cabernet Sauvi...   \n",
       "...                                                   ...   \n",
       "126992  Simple, solid aromas of cherry, cinnamon and s...   \n",
       "127344  This white blend from Lebanon has a nose of al...   \n",
       "134565  Starts with aromas of minerals, pear and apple...   \n",
       "137278  Offers aromas of honey, almond and white fruit...   \n",
       "137890  A fresh but flirty nose of fresh white flowers...   \n",
       "\n",
       "                                 designation  points  price  \\\n",
       "2523                               Altitudes      91   20.0   \n",
       "2616                                     NaN      87   26.0   \n",
       "2664                            Margus Margi      89   20.0   \n",
       "2666                                Sub Rosa      89   40.0   \n",
       "2841                                Sub Rosa      89   40.0   \n",
       "...                                      ...     ...    ...   \n",
       "126992                   Hochar Père et Fils      83   25.0   \n",
       "127344                         Gaston Hochar      81   38.0   \n",
       "134565  Domaine et Tradition Machtum Hohfels      88   50.0   \n",
       "137278         Ahn Hohfels Grand Premier Cru      87   36.0   \n",
       "137890  Mertert Herrenberg Grand Premier Cru      86   36.0   \n",
       "\n",
       "                       province region_1 region_2      variety  \\\n",
       "2523                    Lebanon      NaN      NaN    Red Blend   \n",
       "2616                   Pocerina      NaN      NaN       Morava   \n",
       "2664                       Župa      NaN      NaN     Riesling   \n",
       "2666                       Župa      NaN      NaN    Red Blend   \n",
       "2841                       Župa      NaN      NaN    Red Blend   \n",
       "...                         ...      ...      ...          ...   \n",
       "126992             Bekaa Valley      NaN      NaN    Red Blend   \n",
       "127344             Bekaa Valley      NaN      NaN  White Blend   \n",
       "134565  Moselle Luxembourgeoise      NaN      NaN   Pinot Gris   \n",
       "137278  Moselle Luxembourgeoise      NaN      NaN   Pinot Gris   \n",
       "137890  Moselle Luxembourgeoise      NaN      NaN     Riesling   \n",
       "\n",
       "                      winery  \n",
       "2523                   Ixsir  \n",
       "2616           Milijan Jelić  \n",
       "2664                 Budimir  \n",
       "2666                 Budimir  \n",
       "2841                 Budimir  \n",
       "...                      ...  \n",
       "126992         Château Musar  \n",
       "127344         Château Musar  \n",
       "134565  Mme Aly Duhr et Fils  \n",
       "137278  Mme Aly Duhr et Fils  \n",
       "137890  Mme Aly Duhr et Fils  \n",
       "\n",
       "[68 rows x 11 columns]"
      ]
     },
     "execution_count": 38,
     "metadata": {},
     "output_type": "execute_result"
    }
   ],
   "source": [
    "# improve this with method chaining\n",
    "# plus some use of lambda (anonymous function)\n",
    "\n",
    "(\n",
    "    df\n",
    "    .dropna(subset='country')\n",
    "    .loc[   \n",
    "        lambda df_: df_['country'].str.contains('b')  # here, our use of lambda (anonymous function) and df_ means -- use what we got in the chain\n",
    "    ]\n",
    ")"
   ]
  },
  {
   "cell_type": "code",
   "execution_count": 40,
   "id": "b8ae363b-0c90-47a4-94fd-639f25efa39c",
   "metadata": {},
   "outputs": [
    {
     "data": {
      "text/plain": [
       "0       10\n",
       "1       20\n",
       "2       30\n",
       "3    hello\n",
       "4       40\n",
       "5       50\n",
       "dtype: object"
      ]
     },
     "execution_count": 40,
     "metadata": {},
     "output_type": "execute_result"
    }
   ],
   "source": [
    "s = Series('10 20 30 hello 40 50'.split())\n",
    "s"
   ]
  },
  {
   "cell_type": "code",
   "execution_count": 43,
   "id": "31d204ed-7478-4cbf-adfe-5fe596781c96",
   "metadata": {},
   "outputs": [
    {
     "ename": "ValueError",
     "evalue": "invalid literal for int() with base 10: 'hello'",
     "output_type": "error",
     "traceback": [
      "\u001b[0;31m---------------------------------------------------------------------------\u001b[0m",
      "\u001b[0;31mValueError\u001b[0m                                Traceback (most recent call last)",
      "Cell \u001b[0;32mIn[43], line 4\u001b[0m\n\u001b[1;32m      1\u001b[0m \u001b[38;5;66;03m# I want to turn this series into a series of integers\u001b[39;00m\n\u001b[1;32m      2\u001b[0m \u001b[38;5;66;03m# what happens if I run .astype(int) on this?\u001b[39;00m\n\u001b[0;32m----> 4\u001b[0m \u001b[43ms\u001b[49m\u001b[38;5;241;43m.\u001b[39;49m\u001b[43mastype\u001b[49m\u001b[43m(\u001b[49m\u001b[38;5;28;43mint\u001b[39;49m\u001b[43m)\u001b[49m\n",
      "File \u001b[0;32m~/.pyenv/versions/3.12.3/lib/python3.12/site-packages/pandas/core/generic.py:6643\u001b[0m, in \u001b[0;36mNDFrame.astype\u001b[0;34m(self, dtype, copy, errors)\u001b[0m\n\u001b[1;32m   6637\u001b[0m     results \u001b[38;5;241m=\u001b[39m [\n\u001b[1;32m   6638\u001b[0m         ser\u001b[38;5;241m.\u001b[39mastype(dtype, copy\u001b[38;5;241m=\u001b[39mcopy, errors\u001b[38;5;241m=\u001b[39merrors) \u001b[38;5;28;01mfor\u001b[39;00m _, ser \u001b[38;5;129;01min\u001b[39;00m \u001b[38;5;28mself\u001b[39m\u001b[38;5;241m.\u001b[39mitems()\n\u001b[1;32m   6639\u001b[0m     ]\n\u001b[1;32m   6641\u001b[0m \u001b[38;5;28;01melse\u001b[39;00m:\n\u001b[1;32m   6642\u001b[0m     \u001b[38;5;66;03m# else, only a single dtype is given\u001b[39;00m\n\u001b[0;32m-> 6643\u001b[0m     new_data \u001b[38;5;241m=\u001b[39m \u001b[38;5;28;43mself\u001b[39;49m\u001b[38;5;241;43m.\u001b[39;49m\u001b[43m_mgr\u001b[49m\u001b[38;5;241;43m.\u001b[39;49m\u001b[43mastype\u001b[49m\u001b[43m(\u001b[49m\u001b[43mdtype\u001b[49m\u001b[38;5;241;43m=\u001b[39;49m\u001b[43mdtype\u001b[49m\u001b[43m,\u001b[49m\u001b[43m \u001b[49m\u001b[43mcopy\u001b[49m\u001b[38;5;241;43m=\u001b[39;49m\u001b[43mcopy\u001b[49m\u001b[43m,\u001b[49m\u001b[43m \u001b[49m\u001b[43merrors\u001b[49m\u001b[38;5;241;43m=\u001b[39;49m\u001b[43merrors\u001b[49m\u001b[43m)\u001b[49m\n\u001b[1;32m   6644\u001b[0m     res \u001b[38;5;241m=\u001b[39m \u001b[38;5;28mself\u001b[39m\u001b[38;5;241m.\u001b[39m_constructor_from_mgr(new_data, axes\u001b[38;5;241m=\u001b[39mnew_data\u001b[38;5;241m.\u001b[39maxes)\n\u001b[1;32m   6645\u001b[0m     \u001b[38;5;28;01mreturn\u001b[39;00m res\u001b[38;5;241m.\u001b[39m__finalize__(\u001b[38;5;28mself\u001b[39m, method\u001b[38;5;241m=\u001b[39m\u001b[38;5;124m\"\u001b[39m\u001b[38;5;124mastype\u001b[39m\u001b[38;5;124m\"\u001b[39m)\n",
      "File \u001b[0;32m~/.pyenv/versions/3.12.3/lib/python3.12/site-packages/pandas/core/internals/managers.py:430\u001b[0m, in \u001b[0;36mBaseBlockManager.astype\u001b[0;34m(self, dtype, copy, errors)\u001b[0m\n\u001b[1;32m    427\u001b[0m \u001b[38;5;28;01melif\u001b[39;00m using_copy_on_write():\n\u001b[1;32m    428\u001b[0m     copy \u001b[38;5;241m=\u001b[39m \u001b[38;5;28;01mFalse\u001b[39;00m\n\u001b[0;32m--> 430\u001b[0m \u001b[38;5;28;01mreturn\u001b[39;00m \u001b[38;5;28;43mself\u001b[39;49m\u001b[38;5;241;43m.\u001b[39;49m\u001b[43mapply\u001b[49m\u001b[43m(\u001b[49m\n\u001b[1;32m    431\u001b[0m \u001b[43m    \u001b[49m\u001b[38;5;124;43m\"\u001b[39;49m\u001b[38;5;124;43mastype\u001b[39;49m\u001b[38;5;124;43m\"\u001b[39;49m\u001b[43m,\u001b[49m\n\u001b[1;32m    432\u001b[0m \u001b[43m    \u001b[49m\u001b[43mdtype\u001b[49m\u001b[38;5;241;43m=\u001b[39;49m\u001b[43mdtype\u001b[49m\u001b[43m,\u001b[49m\n\u001b[1;32m    433\u001b[0m \u001b[43m    \u001b[49m\u001b[43mcopy\u001b[49m\u001b[38;5;241;43m=\u001b[39;49m\u001b[43mcopy\u001b[49m\u001b[43m,\u001b[49m\n\u001b[1;32m    434\u001b[0m \u001b[43m    \u001b[49m\u001b[43merrors\u001b[49m\u001b[38;5;241;43m=\u001b[39;49m\u001b[43merrors\u001b[49m\u001b[43m,\u001b[49m\n\u001b[1;32m    435\u001b[0m \u001b[43m    \u001b[49m\u001b[43musing_cow\u001b[49m\u001b[38;5;241;43m=\u001b[39;49m\u001b[43musing_copy_on_write\u001b[49m\u001b[43m(\u001b[49m\u001b[43m)\u001b[49m\u001b[43m,\u001b[49m\n\u001b[1;32m    436\u001b[0m \u001b[43m\u001b[49m\u001b[43m)\u001b[49m\n",
      "File \u001b[0;32m~/.pyenv/versions/3.12.3/lib/python3.12/site-packages/pandas/core/internals/managers.py:363\u001b[0m, in \u001b[0;36mBaseBlockManager.apply\u001b[0;34m(self, f, align_keys, **kwargs)\u001b[0m\n\u001b[1;32m    361\u001b[0m         applied \u001b[38;5;241m=\u001b[39m b\u001b[38;5;241m.\u001b[39mapply(f, \u001b[38;5;241m*\u001b[39m\u001b[38;5;241m*\u001b[39mkwargs)\n\u001b[1;32m    362\u001b[0m     \u001b[38;5;28;01melse\u001b[39;00m:\n\u001b[0;32m--> 363\u001b[0m         applied \u001b[38;5;241m=\u001b[39m \u001b[38;5;28;43mgetattr\u001b[39;49m\u001b[43m(\u001b[49m\u001b[43mb\u001b[49m\u001b[43m,\u001b[49m\u001b[43m \u001b[49m\u001b[43mf\u001b[49m\u001b[43m)\u001b[49m\u001b[43m(\u001b[49m\u001b[38;5;241;43m*\u001b[39;49m\u001b[38;5;241;43m*\u001b[39;49m\u001b[43mkwargs\u001b[49m\u001b[43m)\u001b[49m\n\u001b[1;32m    364\u001b[0m     result_blocks \u001b[38;5;241m=\u001b[39m extend_blocks(applied, result_blocks)\n\u001b[1;32m    366\u001b[0m out \u001b[38;5;241m=\u001b[39m \u001b[38;5;28mtype\u001b[39m(\u001b[38;5;28mself\u001b[39m)\u001b[38;5;241m.\u001b[39mfrom_blocks(result_blocks, \u001b[38;5;28mself\u001b[39m\u001b[38;5;241m.\u001b[39maxes)\n",
      "File \u001b[0;32m~/.pyenv/versions/3.12.3/lib/python3.12/site-packages/pandas/core/internals/blocks.py:758\u001b[0m, in \u001b[0;36mBlock.astype\u001b[0;34m(self, dtype, copy, errors, using_cow, squeeze)\u001b[0m\n\u001b[1;32m    755\u001b[0m         \u001b[38;5;28;01mraise\u001b[39;00m \u001b[38;5;167;01mValueError\u001b[39;00m(\u001b[38;5;124m\"\u001b[39m\u001b[38;5;124mCan not squeeze with more than one column.\u001b[39m\u001b[38;5;124m\"\u001b[39m)\n\u001b[1;32m    756\u001b[0m     values \u001b[38;5;241m=\u001b[39m values[\u001b[38;5;241m0\u001b[39m, :]  \u001b[38;5;66;03m# type: ignore[call-overload]\u001b[39;00m\n\u001b[0;32m--> 758\u001b[0m new_values \u001b[38;5;241m=\u001b[39m \u001b[43mastype_array_safe\u001b[49m\u001b[43m(\u001b[49m\u001b[43mvalues\u001b[49m\u001b[43m,\u001b[49m\u001b[43m \u001b[49m\u001b[43mdtype\u001b[49m\u001b[43m,\u001b[49m\u001b[43m \u001b[49m\u001b[43mcopy\u001b[49m\u001b[38;5;241;43m=\u001b[39;49m\u001b[43mcopy\u001b[49m\u001b[43m,\u001b[49m\u001b[43m \u001b[49m\u001b[43merrors\u001b[49m\u001b[38;5;241;43m=\u001b[39;49m\u001b[43merrors\u001b[49m\u001b[43m)\u001b[49m\n\u001b[1;32m    760\u001b[0m new_values \u001b[38;5;241m=\u001b[39m maybe_coerce_values(new_values)\n\u001b[1;32m    762\u001b[0m refs \u001b[38;5;241m=\u001b[39m \u001b[38;5;28;01mNone\u001b[39;00m\n",
      "File \u001b[0;32m~/.pyenv/versions/3.12.3/lib/python3.12/site-packages/pandas/core/dtypes/astype.py:237\u001b[0m, in \u001b[0;36mastype_array_safe\u001b[0;34m(values, dtype, copy, errors)\u001b[0m\n\u001b[1;32m    234\u001b[0m     dtype \u001b[38;5;241m=\u001b[39m dtype\u001b[38;5;241m.\u001b[39mnumpy_dtype\n\u001b[1;32m    236\u001b[0m \u001b[38;5;28;01mtry\u001b[39;00m:\n\u001b[0;32m--> 237\u001b[0m     new_values \u001b[38;5;241m=\u001b[39m \u001b[43mastype_array\u001b[49m\u001b[43m(\u001b[49m\u001b[43mvalues\u001b[49m\u001b[43m,\u001b[49m\u001b[43m \u001b[49m\u001b[43mdtype\u001b[49m\u001b[43m,\u001b[49m\u001b[43m \u001b[49m\u001b[43mcopy\u001b[49m\u001b[38;5;241;43m=\u001b[39;49m\u001b[43mcopy\u001b[49m\u001b[43m)\u001b[49m\n\u001b[1;32m    238\u001b[0m \u001b[38;5;28;01mexcept\u001b[39;00m (\u001b[38;5;167;01mValueError\u001b[39;00m, \u001b[38;5;167;01mTypeError\u001b[39;00m):\n\u001b[1;32m    239\u001b[0m     \u001b[38;5;66;03m# e.g. _astype_nansafe can fail on object-dtype of strings\u001b[39;00m\n\u001b[1;32m    240\u001b[0m     \u001b[38;5;66;03m#  trying to convert to float\u001b[39;00m\n\u001b[1;32m    241\u001b[0m     \u001b[38;5;28;01mif\u001b[39;00m errors \u001b[38;5;241m==\u001b[39m \u001b[38;5;124m\"\u001b[39m\u001b[38;5;124mignore\u001b[39m\u001b[38;5;124m\"\u001b[39m:\n",
      "File \u001b[0;32m~/.pyenv/versions/3.12.3/lib/python3.12/site-packages/pandas/core/dtypes/astype.py:182\u001b[0m, in \u001b[0;36mastype_array\u001b[0;34m(values, dtype, copy)\u001b[0m\n\u001b[1;32m    179\u001b[0m     values \u001b[38;5;241m=\u001b[39m values\u001b[38;5;241m.\u001b[39mastype(dtype, copy\u001b[38;5;241m=\u001b[39mcopy)\n\u001b[1;32m    181\u001b[0m \u001b[38;5;28;01melse\u001b[39;00m:\n\u001b[0;32m--> 182\u001b[0m     values \u001b[38;5;241m=\u001b[39m \u001b[43m_astype_nansafe\u001b[49m\u001b[43m(\u001b[49m\u001b[43mvalues\u001b[49m\u001b[43m,\u001b[49m\u001b[43m \u001b[49m\u001b[43mdtype\u001b[49m\u001b[43m,\u001b[49m\u001b[43m \u001b[49m\u001b[43mcopy\u001b[49m\u001b[38;5;241;43m=\u001b[39;49m\u001b[43mcopy\u001b[49m\u001b[43m)\u001b[49m\n\u001b[1;32m    184\u001b[0m \u001b[38;5;66;03m# in pandas we don't store numpy str dtypes, so convert to object\u001b[39;00m\n\u001b[1;32m    185\u001b[0m \u001b[38;5;28;01mif\u001b[39;00m \u001b[38;5;28misinstance\u001b[39m(dtype, np\u001b[38;5;241m.\u001b[39mdtype) \u001b[38;5;129;01mand\u001b[39;00m \u001b[38;5;28missubclass\u001b[39m(values\u001b[38;5;241m.\u001b[39mdtype\u001b[38;5;241m.\u001b[39mtype, \u001b[38;5;28mstr\u001b[39m):\n",
      "File \u001b[0;32m~/.pyenv/versions/3.12.3/lib/python3.12/site-packages/pandas/core/dtypes/astype.py:133\u001b[0m, in \u001b[0;36m_astype_nansafe\u001b[0;34m(arr, dtype, copy, skipna)\u001b[0m\n\u001b[1;32m    129\u001b[0m     \u001b[38;5;28;01mraise\u001b[39;00m \u001b[38;5;167;01mValueError\u001b[39;00m(msg)\n\u001b[1;32m    131\u001b[0m \u001b[38;5;28;01mif\u001b[39;00m copy \u001b[38;5;129;01mor\u001b[39;00m arr\u001b[38;5;241m.\u001b[39mdtype \u001b[38;5;241m==\u001b[39m \u001b[38;5;28mobject\u001b[39m \u001b[38;5;129;01mor\u001b[39;00m dtype \u001b[38;5;241m==\u001b[39m \u001b[38;5;28mobject\u001b[39m:\n\u001b[1;32m    132\u001b[0m     \u001b[38;5;66;03m# Explicit copy, or required since NumPy can't view from / to object.\u001b[39;00m\n\u001b[0;32m--> 133\u001b[0m     \u001b[38;5;28;01mreturn\u001b[39;00m \u001b[43marr\u001b[49m\u001b[38;5;241;43m.\u001b[39;49m\u001b[43mastype\u001b[49m\u001b[43m(\u001b[49m\u001b[43mdtype\u001b[49m\u001b[43m,\u001b[49m\u001b[43m \u001b[49m\u001b[43mcopy\u001b[49m\u001b[38;5;241;43m=\u001b[39;49m\u001b[38;5;28;43;01mTrue\u001b[39;49;00m\u001b[43m)\u001b[49m\n\u001b[1;32m    135\u001b[0m \u001b[38;5;28;01mreturn\u001b[39;00m arr\u001b[38;5;241m.\u001b[39mastype(dtype, copy\u001b[38;5;241m=\u001b[39mcopy)\n",
      "\u001b[0;31mValueError\u001b[0m: invalid literal for int() with base 10: 'hello'"
     ]
    }
   ],
   "source": [
    "# I want to turn this series into a series of integers\n",
    "# what happens if I run .astype(int) on this?\n",
    "\n",
    "s.astype(int)"
   ]
  },
  {
   "cell_type": "code",
   "execution_count": 41,
   "id": "bd1b1f9f-23d7-432b-87d3-bd161fdcf7ea",
   "metadata": {},
   "outputs": [
    {
     "data": {
      "text/plain": [
       "0    10\n",
       "1    20\n",
       "2    30\n",
       "4    40\n",
       "5    50\n",
       "dtype: object"
      ]
     },
     "execution_count": 41,
     "metadata": {},
     "output_type": "execute_result"
    }
   ],
   "source": [
    "s.loc[s.str.isdigit()]"
   ]
  },
  {
   "cell_type": "code",
   "execution_count": 39,
   "id": "9e85e065-c1dd-47ac-82a1-22f28a32437f",
   "metadata": {},
   "outputs": [
    {
     "ename": "NameError",
     "evalue": "name 's' is not defined",
     "output_type": "error",
     "traceback": [
      "\u001b[0;31m---------------------------------------------------------------------------\u001b[0m",
      "\u001b[0;31mNameError\u001b[0m                                 Traceback (most recent call last)",
      "Cell \u001b[0;32mIn[39], line 1\u001b[0m\n\u001b[0;32m----> 1\u001b[0m \u001b[43ms\u001b[49m\u001b[38;5;241m.\u001b[39mloc[s\u001b[38;5;241m.\u001b[39mstr\u001b[38;5;241m.\u001b[39misdigit()]\n",
      "\u001b[0;31mNameError\u001b[0m: name 's' is not defined"
     ]
    }
   ],
   "source": [
    "s.loc[s.str.isdigit()]"
   ]
  },
  {
   "cell_type": "code",
   "execution_count": 42,
   "id": "9d3c8f2c-2d98-4b2e-bc42-4d4b4624b4c1",
   "metadata": {},
   "outputs": [
    {
     "data": {
      "text/plain": [
       "0    10\n",
       "1    20\n",
       "2    30\n",
       "4    40\n",
       "5    50\n",
       "dtype: int64"
      ]
     },
     "execution_count": 42,
     "metadata": {},
     "output_type": "execute_result"
    }
   ],
   "source": [
    "s.loc[s.str.isdigit()].astype(int)"
   ]
  },
  {
   "cell_type": "code",
   "execution_count": 46,
   "id": "252c8d74-a4e4-4ab9-a07f-9e2b775c8a14",
   "metadata": {},
   "outputs": [
    {
     "data": {
      "text/plain": [
       "(8763, 11)"
      ]
     },
     "execution_count": 46,
     "metadata": {},
     "output_type": "execute_result"
    }
   ],
   "source": [
    "df.loc[df['description'].str.contains('strawberry|melon')].shape\n"
   ]
  },
  {
   "cell_type": "code",
   "execution_count": 47,
   "id": "3beccbec-fa8c-49c6-9262-32f452656e1f",
   "metadata": {},
   "outputs": [
    {
     "ename": "AttributeError",
     "evalue": "'DataFrame' object has no attribute 'locdf'",
     "output_type": "error",
     "traceback": [
      "\u001b[0;31m---------------------------------------------------------------------------\u001b[0m",
      "\u001b[0;31mAttributeError\u001b[0m                            Traceback (most recent call last)",
      "\u001b[0;32m/tmp/ipykernel_110694/2942798579.py\u001b[0m in \u001b[0;36m?\u001b[0;34m()\u001b[0m\n\u001b[0;32m----> 1\u001b[0;31m \u001b[0mdf\u001b[0m\u001b[0;34m.\u001b[0m\u001b[0mlocdf\u001b[0m\u001b[0;34m[\u001b[0m\u001b[0;34m'description'\u001b[0m\u001b[0;34m]\u001b[0m\u001b[0;34m.\u001b[0m\u001b[0mstr\u001b[0m\u001b[0;34m.\u001b[0m\u001b[0mlen\u001b[0m\u001b[0;34m(\u001b[0m\u001b[0;34m)\u001b[0m\u001b[0;34m.\u001b[0m\u001b[0mmean\u001b[0m\u001b[0;34m(\u001b[0m\u001b[0;34m)\u001b[0m\u001b[0;34m\u001b[0m\u001b[0;34m\u001b[0m\u001b[0m\n\u001b[0m",
      "\u001b[0;32m~/.pyenv/versions/3.12.3/lib/python3.12/site-packages/pandas/core/generic.py\u001b[0m in \u001b[0;36m?\u001b[0;34m(self, name)\u001b[0m\n\u001b[1;32m   6295\u001b[0m             \u001b[0;32mand\u001b[0m \u001b[0mname\u001b[0m \u001b[0;32mnot\u001b[0m \u001b[0;32min\u001b[0m \u001b[0mself\u001b[0m\u001b[0;34m.\u001b[0m\u001b[0m_accessors\u001b[0m\u001b[0;34m\u001b[0m\u001b[0;34m\u001b[0m\u001b[0m\n\u001b[1;32m   6296\u001b[0m             \u001b[0;32mand\u001b[0m \u001b[0mself\u001b[0m\u001b[0;34m.\u001b[0m\u001b[0m_info_axis\u001b[0m\u001b[0;34m.\u001b[0m\u001b[0m_can_hold_identifiers_and_holds_name\u001b[0m\u001b[0;34m(\u001b[0m\u001b[0mname\u001b[0m\u001b[0;34m)\u001b[0m\u001b[0;34m\u001b[0m\u001b[0;34m\u001b[0m\u001b[0m\n\u001b[1;32m   6297\u001b[0m         \u001b[0;34m)\u001b[0m\u001b[0;34m:\u001b[0m\u001b[0;34m\u001b[0m\u001b[0;34m\u001b[0m\u001b[0m\n\u001b[1;32m   6298\u001b[0m             \u001b[0;32mreturn\u001b[0m \u001b[0mself\u001b[0m\u001b[0;34m[\u001b[0m\u001b[0mname\u001b[0m\u001b[0;34m]\u001b[0m\u001b[0;34m\u001b[0m\u001b[0;34m\u001b[0m\u001b[0m\n\u001b[0;32m-> 6299\u001b[0;31m         \u001b[0;32mreturn\u001b[0m \u001b[0mobject\u001b[0m\u001b[0;34m.\u001b[0m\u001b[0m__getattribute__\u001b[0m\u001b[0;34m(\u001b[0m\u001b[0mself\u001b[0m\u001b[0;34m,\u001b[0m \u001b[0mname\u001b[0m\u001b[0;34m)\u001b[0m\u001b[0;34m\u001b[0m\u001b[0;34m\u001b[0m\u001b[0m\n\u001b[0m",
      "\u001b[0;31mAttributeError\u001b[0m: 'DataFrame' object has no attribute 'locdf'"
     ]
    }
   ],
   "source": [
    "df.locdf['description'].str.len().mean()"
   ]
  }
 ],
 "metadata": {
  "kernelspec": {
   "display_name": "Python 3 (ipykernel)",
   "language": "python",
   "name": "python3"
  },
  "language_info": {
   "codemirror_mode": {
    "name": "ipython",
    "version": 3
   },
   "file_extension": ".py",
   "mimetype": "text/x-python",
   "name": "python",
   "nbconvert_exporter": "python",
   "pygments_lexer": "ipython3",
   "version": "3.12.3"
  }
 },
 "nbformat": 4,
 "nbformat_minor": 5
}
