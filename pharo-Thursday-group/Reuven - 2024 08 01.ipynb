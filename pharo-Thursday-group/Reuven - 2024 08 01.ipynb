{
 "cells": [
  {
   "cell_type": "markdown",
   "id": "a678fa56-feb0-4672-986b-d26b1a435371",
   "metadata": {},
   "source": [
    "# Agenda: Dates and times\n",
    "\n",
    "1. Background theory\n",
    "2. How to turn a column into datetime info\n",
    "3. Calculations we can perform\n",
    "4. Datetime columns as our index (\"time series\")"
   ]
  },
  {
   "cell_type": "markdown",
   "id": "18f80e1b-3245-493e-ad6f-f25e21ae8b04",
   "metadata": {},
   "source": [
    "# Background\n",
    "\n",
    "When we use the word \"time\" in our everyday speech, we might mean one of two different things:\n",
    "\n",
    "1. One specific, unique point in time, specified with year/month/day and hour/minute/second. Of course, you can get even more precise than that. Examples: Time of birth. Time of death. When you graduated university. When a meeting starts. Each of these things is a unique point in time, and you can specify when precisely it happened. When we keep track of these on a computer, they're known as either a `datetime` value or a `timestamp`. "
   ]
  }
 ],
 "metadata": {
  "kernelspec": {
   "display_name": "Python 3 (ipykernel)",
   "language": "python",
   "name": "python3"
  },
  "language_info": {
   "codemirror_mode": {
    "name": "ipython",
    "version": 3
   },
   "file_extension": ".py",
   "mimetype": "text/x-python",
   "name": "python",
   "nbconvert_exporter": "python",
   "pygments_lexer": "ipython3",
   "version": "3.12.3"
  }
 },
 "nbformat": 4,
 "nbformat_minor": 5
}
