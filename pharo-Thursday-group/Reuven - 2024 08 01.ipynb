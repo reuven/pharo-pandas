{
 "cells": [
  {
   "cell_type": "markdown",
   "id": "a678fa56-feb0-4672-986b-d26b1a435371",
   "metadata": {},
   "source": [
    "# Agenda: Dates and times\n",
    "\n",
    "1. Background theory\n",
    "2. How to turn a column into datetime info\n",
    "3. Calculations we can perform\n",
    "4. Datetime columns as our index (\"time series\")"
   ]
  },
  {
   "cell_type": "markdown",
   "id": "18f80e1b-3245-493e-ad6f-f25e21ae8b04",
   "metadata": {},
   "source": [
    "# Background\n",
    "\n",
    "When we use the word \"time\" in our everyday speech, we might mean one of two different things:\n",
    "\n",
    "1. One specific, unique point in time, specified with year/month/day and hour/minute/second. Of course, you can get even more precise than that. Examples: Time of birth. Time of death. When you graduated university. When a meeting starts. Each of these things is a unique point in time, and you can specify when precisely it happened. When we keep track of these on a computer, they're known as either a `datetime` value or a `timestamp`.\n",
    "2. A span of time, between two points. This isn't unique, and it doesn't have a specific year/month/day, but we do measure it with the same units. We can use this kind of value to measure a lifespan, or the time spent in school, or the time that people were married, or the time you were in a meeting. The data type used for this is known as a `timedelta` or an `interval`.\n",
    "\n",
    "Date math:\n",
    "- `timestamp` - `timestamp` = `timedelta`\n",
    "- `timestamp` + `timedelta` = `timestamp`\n",
    "- `timestamp` - `timedelta` = `timestamp`"
   ]
  },
  {
   "cell_type": "code",
   "execution_count": 13,
   "id": "43723cdb-599b-41b6-9e96-d3fa3d03277f",
   "metadata": {},
   "outputs": [],
   "source": [
    "import pandas as pd\n",
    "filename = '../data/taxi.csv'\n",
    "\n",
    "df = pd.read_csv(filename,\n",
    "                 usecols=['tpep_pickup_datetime',\n",
    "                          'tpep_dropoff_datetime',\n",
    "                          'passenger_count',\n",
    "                          'trip_distance',\n",
    "                          'total_amount'])\n",
    "                          "
   ]
  },
  {
   "cell_type": "code",
   "execution_count": 14,
   "id": "a96a1e5a-15b6-4111-ab17-5c7fa99d8d0d",
   "metadata": {},
   "outputs": [
    {
     "data": {
      "text/html": [
       "<div>\n",
       "<style scoped>\n",
       "    .dataframe tbody tr th:only-of-type {\n",
       "        vertical-align: middle;\n",
       "    }\n",
       "\n",
       "    .dataframe tbody tr th {\n",
       "        vertical-align: top;\n",
       "    }\n",
       "\n",
       "    .dataframe thead th {\n",
       "        text-align: right;\n",
       "    }\n",
       "</style>\n",
       "<table border=\"1\" class=\"dataframe\">\n",
       "  <thead>\n",
       "    <tr style=\"text-align: right;\">\n",
       "      <th></th>\n",
       "      <th>tpep_pickup_datetime</th>\n",
       "      <th>tpep_dropoff_datetime</th>\n",
       "      <th>passenger_count</th>\n",
       "      <th>trip_distance</th>\n",
       "      <th>total_amount</th>\n",
       "    </tr>\n",
       "  </thead>\n",
       "  <tbody>\n",
       "    <tr>\n",
       "      <th>0</th>\n",
       "      <td>2015-06-02 11:19:29</td>\n",
       "      <td>2015-06-02 11:47:52</td>\n",
       "      <td>1</td>\n",
       "      <td>1.63</td>\n",
       "      <td>17.80</td>\n",
       "    </tr>\n",
       "    <tr>\n",
       "      <th>1</th>\n",
       "      <td>2015-06-02 11:19:30</td>\n",
       "      <td>2015-06-02 11:27:56</td>\n",
       "      <td>1</td>\n",
       "      <td>0.46</td>\n",
       "      <td>8.30</td>\n",
       "    </tr>\n",
       "    <tr>\n",
       "      <th>2</th>\n",
       "      <td>2015-06-02 11:19:31</td>\n",
       "      <td>2015-06-02 11:30:30</td>\n",
       "      <td>1</td>\n",
       "      <td>0.87</td>\n",
       "      <td>11.00</td>\n",
       "    </tr>\n",
       "    <tr>\n",
       "      <th>3</th>\n",
       "      <td>2015-06-02 11:19:31</td>\n",
       "      <td>2015-06-02 11:39:02</td>\n",
       "      <td>1</td>\n",
       "      <td>2.13</td>\n",
       "      <td>17.16</td>\n",
       "    </tr>\n",
       "    <tr>\n",
       "      <th>4</th>\n",
       "      <td>2015-06-02 11:19:32</td>\n",
       "      <td>2015-06-02 11:32:49</td>\n",
       "      <td>1</td>\n",
       "      <td>1.40</td>\n",
       "      <td>10.30</td>\n",
       "    </tr>\n",
       "  </tbody>\n",
       "</table>\n",
       "</div>"
      ],
      "text/plain": [
       "  tpep_pickup_datetime tpep_dropoff_datetime  passenger_count  trip_distance  \\\n",
       "0  2015-06-02 11:19:29   2015-06-02 11:47:52                1           1.63   \n",
       "1  2015-06-02 11:19:30   2015-06-02 11:27:56                1           0.46   \n",
       "2  2015-06-02 11:19:31   2015-06-02 11:30:30                1           0.87   \n",
       "3  2015-06-02 11:19:31   2015-06-02 11:39:02                1           2.13   \n",
       "4  2015-06-02 11:19:32   2015-06-02 11:32:49                1           1.40   \n",
       "\n",
       "   total_amount  \n",
       "0         17.80  \n",
       "1          8.30  \n",
       "2         11.00  \n",
       "3         17.16  \n",
       "4         10.30  "
      ]
     },
     "execution_count": 14,
     "metadata": {},
     "output_type": "execute_result"
    }
   ],
   "source": [
    "df.head()"
   ]
  },
  {
   "cell_type": "code",
   "execution_count": 15,
   "id": "934879c4-04fa-4a27-999b-8da74c51fe33",
   "metadata": {},
   "outputs": [
    {
     "data": {
      "text/plain": [
       "tpep_pickup_datetime      object\n",
       "tpep_dropoff_datetime     object\n",
       "passenger_count            int64\n",
       "trip_distance            float64\n",
       "total_amount             float64\n",
       "dtype: object"
      ]
     },
     "execution_count": 15,
     "metadata": {},
     "output_type": "execute_result"
    }
   ],
   "source": [
    "df.dtypes"
   ]
  },
  {
   "cell_type": "code",
   "execution_count": 16,
   "id": "096caa2a-9553-4b97-be9d-459d6c6c0ba8",
   "metadata": {},
   "outputs": [
    {
     "data": {
      "text/plain": [
       "0      2015-06-02 11:19:29\n",
       "1      2015-06-02 11:19:30\n",
       "2      2015-06-02 11:19:31\n",
       "3      2015-06-02 11:19:31\n",
       "4      2015-06-02 11:19:32\n",
       "               ...        \n",
       "9994   2015-06-01 00:12:59\n",
       "9995   2015-06-01 00:12:59\n",
       "9996   2015-06-01 00:13:00\n",
       "9997   2015-06-01 00:13:02\n",
       "9998   2015-06-01 00:13:04\n",
       "Name: tpep_pickup_datetime, Length: 9999, dtype: datetime64[ns]"
      ]
     },
     "execution_count": 16,
     "metadata": {},
     "output_type": "execute_result"
    }
   ],
   "source": [
    "# the main way to take a string column and get a datetime column based on it\n",
    "# is with pd.to_datetime, a function that comes with Pandas.\n",
    "\n",
    "pd.to_datetime(df['tpep_pickup_datetime'])"
   ]
  },
  {
   "cell_type": "code",
   "execution_count": 17,
   "id": "7330039c-3991-461f-8f33-60b4f07e1890",
   "metadata": {},
   "outputs": [
    {
     "data": {
      "text/plain": [
       "1599972"
      ]
     },
     "execution_count": 17,
     "metadata": {},
     "output_type": "execute_result"
    }
   ],
   "source": [
    "# how much memory are we *really* using right now on this data frame?\n",
    "df.memory_usage(deep=True).sum()    # 1,599,972"
   ]
  },
  {
   "cell_type": "code",
   "execution_count": 18,
   "id": "4f24e7e2-89bf-4568-8ff2-c9a56420cff4",
   "metadata": {},
   "outputs": [],
   "source": [
    "# we can assign the datetime version of these columns back to the orignal data frame\n",
    "\n",
    "df['tpep_pickup_datetime'] = pd.to_datetime(df['tpep_pickup_datetime'])\n",
    "df['tpep_dropoff_datetime'] = pd.to_datetime(df['tpep_dropoff_datetime'])"
   ]
  },
  {
   "cell_type": "code",
   "execution_count": 19,
   "id": "8a9af1b5-879e-49d6-a57b-8549534961fb",
   "metadata": {},
   "outputs": [
    {
     "data": {
      "text/plain": [
       "400092"
      ]
     },
     "execution_count": 19,
     "metadata": {},
     "output_type": "execute_result"
    }
   ],
   "source": [
    "df.memory_usage(deep=True).sum()   "
   ]
  },
  {
   "cell_type": "markdown",
   "id": "74558a58-d600-44bf-a428-57cd75460910",
   "metadata": {},
   "source": [
    "Dates and times come in *many* different formats. How did pd.to_datetime know how to convert our strings into datetime values?\n",
    "\n",
    "- If the datetime value (as a string) looks like `YYYY-MM-DD HH:MM:SS`, then Pandas can handle it just fine.\n",
    "- If the value is in US format (i.e., `MM-DD-YYYY HH:MM:SS`, then it can also handle it just fine, and by default.\n",
    "- If the value is in European format (i.e., `DD-MM-YYYY HH:MM:SS`, then you need to pass an argument to `to_datetime`, `dayfirst=True`, which overrides the defaults for US time format.\n",
    "- If it's in another format, then you have to specify it with a special formatting string that uses lots of `%` characters. These format strings are used in the `strftime` and `strptime` methods for strings in Python (and in many other languages).  You can pass this string as the `date_format` keyword argument to `pd.to_datetime`."
   ]
  },
  {
   "cell_type": "code",
   "execution_count": 21,
   "id": "6dda242f-3642-40b9-ad90-b62137ad7768",
   "metadata": {},
   "outputs": [],
   "source": [
    "# another (my preferred) way is when we call pd.read_csv\n",
    "# we can pass an argument, \"parse_dates\", which takes a list of column names. Those will all be parsed as datetime values.\n",
    "\n",
    "df = pd.read_csv(filename,\n",
    "                 usecols=['tpep_pickup_datetime',\n",
    "                          'tpep_dropoff_datetime',\n",
    "                          'passenger_count',\n",
    "                          'trip_distance',\n",
    "                          'total_amount'],\n",
    "                parse_dates=['tpep_pickup_datetime',\n",
    "                             'tpep_dropoff_datetime'])\n",
    "                          "
   ]
  },
  {
   "cell_type": "code",
   "execution_count": 22,
   "id": "214e3e7c-ce9c-4d8c-b2c7-4752099be076",
   "metadata": {},
   "outputs": [
    {
     "data": {
      "text/html": [
       "<div>\n",
       "<style scoped>\n",
       "    .dataframe tbody tr th:only-of-type {\n",
       "        vertical-align: middle;\n",
       "    }\n",
       "\n",
       "    .dataframe tbody tr th {\n",
       "        vertical-align: top;\n",
       "    }\n",
       "\n",
       "    .dataframe thead th {\n",
       "        text-align: right;\n",
       "    }\n",
       "</style>\n",
       "<table border=\"1\" class=\"dataframe\">\n",
       "  <thead>\n",
       "    <tr style=\"text-align: right;\">\n",
       "      <th></th>\n",
       "      <th>tpep_pickup_datetime</th>\n",
       "      <th>tpep_dropoff_datetime</th>\n",
       "      <th>passenger_count</th>\n",
       "      <th>trip_distance</th>\n",
       "      <th>total_amount</th>\n",
       "    </tr>\n",
       "  </thead>\n",
       "  <tbody>\n",
       "    <tr>\n",
       "      <th>0</th>\n",
       "      <td>2015-06-02 11:19:29</td>\n",
       "      <td>2015-06-02 11:47:52</td>\n",
       "      <td>1</td>\n",
       "      <td>1.63</td>\n",
       "      <td>17.80</td>\n",
       "    </tr>\n",
       "    <tr>\n",
       "      <th>1</th>\n",
       "      <td>2015-06-02 11:19:30</td>\n",
       "      <td>2015-06-02 11:27:56</td>\n",
       "      <td>1</td>\n",
       "      <td>0.46</td>\n",
       "      <td>8.30</td>\n",
       "    </tr>\n",
       "    <tr>\n",
       "      <th>2</th>\n",
       "      <td>2015-06-02 11:19:31</td>\n",
       "      <td>2015-06-02 11:30:30</td>\n",
       "      <td>1</td>\n",
       "      <td>0.87</td>\n",
       "      <td>11.00</td>\n",
       "    </tr>\n",
       "    <tr>\n",
       "      <th>3</th>\n",
       "      <td>2015-06-02 11:19:31</td>\n",
       "      <td>2015-06-02 11:39:02</td>\n",
       "      <td>1</td>\n",
       "      <td>2.13</td>\n",
       "      <td>17.16</td>\n",
       "    </tr>\n",
       "    <tr>\n",
       "      <th>4</th>\n",
       "      <td>2015-06-02 11:19:32</td>\n",
       "      <td>2015-06-02 11:32:49</td>\n",
       "      <td>1</td>\n",
       "      <td>1.40</td>\n",
       "      <td>10.30</td>\n",
       "    </tr>\n",
       "  </tbody>\n",
       "</table>\n",
       "</div>"
      ],
      "text/plain": [
       "  tpep_pickup_datetime tpep_dropoff_datetime  passenger_count  trip_distance  \\\n",
       "0  2015-06-02 11:19:29   2015-06-02 11:47:52                1           1.63   \n",
       "1  2015-06-02 11:19:30   2015-06-02 11:27:56                1           0.46   \n",
       "2  2015-06-02 11:19:31   2015-06-02 11:30:30                1           0.87   \n",
       "3  2015-06-02 11:19:31   2015-06-02 11:39:02                1           2.13   \n",
       "4  2015-06-02 11:19:32   2015-06-02 11:32:49                1           1.40   \n",
       "\n",
       "   total_amount  \n",
       "0         17.80  \n",
       "1          8.30  \n",
       "2         11.00  \n",
       "3         17.16  \n",
       "4         10.30  "
      ]
     },
     "execution_count": 22,
     "metadata": {},
     "output_type": "execute_result"
    }
   ],
   "source": [
    "df.head()"
   ]
  },
  {
   "cell_type": "code",
   "execution_count": 23,
   "id": "d572fb80-8469-45a0-aa63-f19404523ec3",
   "metadata": {},
   "outputs": [
    {
     "data": {
      "text/plain": [
       "tpep_pickup_datetime     datetime64[ns]\n",
       "tpep_dropoff_datetime    datetime64[ns]\n",
       "passenger_count                   int64\n",
       "trip_distance                   float64\n",
       "total_amount                    float64\n",
       "dtype: object"
      ]
     },
     "execution_count": 23,
     "metadata": {},
     "output_type": "execute_result"
    }
   ],
   "source": [
    "df.dtypes"
   ]
  },
  {
   "cell_type": "markdown",
   "id": "630e0a3e-2d73-4a4e-8421-fa376476ca3c",
   "metadata": {},
   "source": [
    "# Exercise: Chicago weather\n",
    "\n",
    "1. Read the weather data from Chicago (`../data/chicago,il.csv`)\n",
    "2. Don't parse the datetime column (the first one). Check to see how much memory it uses as strings.\n",
    "3. Re-read it using `parse_dates`.\n",
    "4. Compare the memory usage."
   ]
  },
  {
   "cell_type": "code",
   "execution_count": 25,
   "id": "61154858-9b9e-4fe5-bbed-9502a7dbc1d5",
   "metadata": {},
   "outputs": [
    {
     "data": {
      "text/plain": [
       "332220"
      ]
     },
     "execution_count": 25,
     "metadata": {},
     "output_type": "execute_result"
    }
   ],
   "source": [
    "filename = '../data/chicago,il.csv'\n",
    "df = pd.read_csv(filename)\n",
    "df.memory_usage(deep=True).sum()  # 332,220"
   ]
  },
  {
   "cell_type": "code",
   "execution_count": 27,
   "id": "100bf261-d499-4ae6-9a75-1f21a74b96cb",
   "metadata": {},
   "outputs": [
    {
     "data": {
      "text/plain": [
       "288540"
      ]
     },
     "execution_count": 27,
     "metadata": {},
     "output_type": "execute_result"
    }
   ],
   "source": [
    "df = pd.read_csv(filename,\n",
    "                parse_dates=['date_time'])\n",
    "df.memory_usage(deep=True).sum()  # 288,540"
   ]
  },
  {
   "cell_type": "code",
   "execution_count": 28,
   "id": "11644b44-806c-4527-940b-3fbfcce311a7",
   "metadata": {},
   "outputs": [
    {
     "data": {
      "text/plain": [
       "0.8685208596713021"
      ]
     },
     "execution_count": 28,
     "metadata": {},
     "output_type": "execute_result"
    }
   ],
   "source": [
    "288540 / 332220"
   ]
  },
  {
   "cell_type": "code",
   "execution_count": 30,
   "id": "d579256d-0d9f-4aee-b1e0-99f37645378f",
   "metadata": {},
   "outputs": [],
   "source": [
    "filename = '../data/taxi.csv'\n",
    "\n",
    "df = pd.read_csv(filename,\n",
    "                 usecols=['tpep_pickup_datetime',\n",
    "                          'tpep_dropoff_datetime',\n",
    "                          'passenger_count',\n",
    "                          'trip_distance',\n",
    "                          'total_amount'],\n",
    "                parse_dates=['tpep_pickup_datetime',\n",
    "                             'tpep_dropoff_datetime'])\n",
    "                          "
   ]
  },
  {
   "cell_type": "code",
   "execution_count": 31,
   "id": "165af6cc-cb8c-4255-9df4-799adce7cf94",
   "metadata": {},
   "outputs": [
    {
     "data": {
      "text/html": [
       "<div>\n",
       "<style scoped>\n",
       "    .dataframe tbody tr th:only-of-type {\n",
       "        vertical-align: middle;\n",
       "    }\n",
       "\n",
       "    .dataframe tbody tr th {\n",
       "        vertical-align: top;\n",
       "    }\n",
       "\n",
       "    .dataframe thead th {\n",
       "        text-align: right;\n",
       "    }\n",
       "</style>\n",
       "<table border=\"1\" class=\"dataframe\">\n",
       "  <thead>\n",
       "    <tr style=\"text-align: right;\">\n",
       "      <th></th>\n",
       "      <th>tpep_pickup_datetime</th>\n",
       "      <th>tpep_dropoff_datetime</th>\n",
       "      <th>passenger_count</th>\n",
       "      <th>trip_distance</th>\n",
       "      <th>total_amount</th>\n",
       "    </tr>\n",
       "  </thead>\n",
       "  <tbody>\n",
       "    <tr>\n",
       "      <th>0</th>\n",
       "      <td>2015-06-02 11:19:29</td>\n",
       "      <td>2015-06-02 11:47:52</td>\n",
       "      <td>1</td>\n",
       "      <td>1.63</td>\n",
       "      <td>17.80</td>\n",
       "    </tr>\n",
       "    <tr>\n",
       "      <th>1</th>\n",
       "      <td>2015-06-02 11:19:30</td>\n",
       "      <td>2015-06-02 11:27:56</td>\n",
       "      <td>1</td>\n",
       "      <td>0.46</td>\n",
       "      <td>8.30</td>\n",
       "    </tr>\n",
       "    <tr>\n",
       "      <th>2</th>\n",
       "      <td>2015-06-02 11:19:31</td>\n",
       "      <td>2015-06-02 11:30:30</td>\n",
       "      <td>1</td>\n",
       "      <td>0.87</td>\n",
       "      <td>11.00</td>\n",
       "    </tr>\n",
       "    <tr>\n",
       "      <th>3</th>\n",
       "      <td>2015-06-02 11:19:31</td>\n",
       "      <td>2015-06-02 11:39:02</td>\n",
       "      <td>1</td>\n",
       "      <td>2.13</td>\n",
       "      <td>17.16</td>\n",
       "    </tr>\n",
       "    <tr>\n",
       "      <th>4</th>\n",
       "      <td>2015-06-02 11:19:32</td>\n",
       "      <td>2015-06-02 11:32:49</td>\n",
       "      <td>1</td>\n",
       "      <td>1.40</td>\n",
       "      <td>10.30</td>\n",
       "    </tr>\n",
       "  </tbody>\n",
       "</table>\n",
       "</div>"
      ],
      "text/plain": [
       "  tpep_pickup_datetime tpep_dropoff_datetime  passenger_count  trip_distance  \\\n",
       "0  2015-06-02 11:19:29   2015-06-02 11:47:52                1           1.63   \n",
       "1  2015-06-02 11:19:30   2015-06-02 11:27:56                1           0.46   \n",
       "2  2015-06-02 11:19:31   2015-06-02 11:30:30                1           0.87   \n",
       "3  2015-06-02 11:19:31   2015-06-02 11:39:02                1           2.13   \n",
       "4  2015-06-02 11:19:32   2015-06-02 11:32:49                1           1.40   \n",
       "\n",
       "   total_amount  \n",
       "0         17.80  \n",
       "1          8.30  \n",
       "2         11.00  \n",
       "3         17.16  \n",
       "4         10.30  "
      ]
     },
     "execution_count": 31,
     "metadata": {},
     "output_type": "execute_result"
    }
   ],
   "source": [
    "df.head()"
   ]
  },
  {
   "cell_type": "markdown",
   "id": "6d1baa08-7556-4267-93b9-68900db72a54",
   "metadata": {},
   "source": [
    "# How can we extract data from a `datetime` column?\n",
    "\n",
    "We use the `.dt` accessor, an attribute that is designed to retrieve one part of the `datetime` value. It's very similar in spirit to what we did last week with the `.str` accessor, giving us access to many string functions. Here, we're more typically retrieving pieces of the `datetime`, but there are some methods, too."
   ]
  },
  {
   "cell_type": "code",
   "execution_count": 42,
   "id": "996645dc-8c3a-444a-b781-2e227fceb4ed",
   "metadata": {},
   "outputs": [
    {
     "data": {
      "text/plain": [
       "0       False\n",
       "1       False\n",
       "2       False\n",
       "3       False\n",
       "4       False\n",
       "        ...  \n",
       "9994    False\n",
       "9995    False\n",
       "9996    False\n",
       "9997    False\n",
       "9998    False\n",
       "Name: tpep_pickup_datetime, Length: 9999, dtype: bool"
      ]
     },
     "execution_count": 42,
     "metadata": {},
     "output_type": "execute_result"
    }
   ],
   "source": [
    "df['tpep_pickup_datetime'].dt.is_leap_year"
   ]
  },
  {
   "cell_type": "markdown",
   "id": "63999b1d-e7b4-45b7-83f5-5b36817c9ace",
   "metadata": {},
   "source": [
    "# How can we use this?\n",
    "\n",
    "1. Find only those rows in which a particular datetime component is `True`\n",
    "2. We can use them for grouping\n",
    "3. We can use them in calculations"
   ]
  },
  {
   "cell_type": "markdown",
   "id": "ca3fb7e9-a24f-46fa-b4a6-94a08d197e1b",
   "metadata": {},
   "source": [
    "# Exercise: NYC taxis from July 2020\n",
    "\n",
    "1. Load the file `../data/nyc_taxi_2020-07.csv` into a data frame. *BUT* only read in the columns `tpep_pickup_datetime`, `tpep_dropoff_datetime`, `passenger_count`, `trip_distance`, `total_amount`. Don't use `parse_dates` just yet; like last time, get the memory usage.\n",
    "2. Use `parse_dates` and compare the memory usage.\n",
    "3. What were the three hours of the day at which taxis were most often called?\n",
    "4. This data is all supposed to be from July; how many rows have non-July 2020 data?\n",
    "5. How many rows have non-2020 data?"
   ]
  },
  {
   "cell_type": "code",
   "execution_count": 43,
   "id": "7811b136-2b6a-4bab-936a-1110e7446056",
   "metadata": {},
   "outputs": [],
   "source": [
    "filename = '../data/nyc_taxi_2020-07.csv'\n",
    "\n",
    "df = pd.read_csv(filename,\n",
    "                 usecols=['tpep_pickup_datetime',\n",
    "                          'tpep_dropoff_datetime',\n",
    "                          'passenger_count',\n",
    "                          'trip_distance', 'total_amount'])\n"
   ]
  },
  {
   "cell_type": "code",
   "execution_count": 44,
   "id": "c0e0aaa0-6cd9-47df-8645-630ea7eac040",
   "metadata": {},
   "outputs": [
    {
     "data": {
      "text/plain": [
       "(800412, 5)"
      ]
     },
     "execution_count": 44,
     "metadata": {},
     "output_type": "execute_result"
    }
   ],
   "source": [
    "df.shape"
   ]
  },
  {
   "cell_type": "code",
   "execution_count": 46,
   "id": "519b8f6c-f9c3-4460-a63d-22f3247ac753",
   "metadata": {},
   "outputs": [
    {
     "data": {
      "text/plain": [
       "128066052"
      ]
     },
     "execution_count": 46,
     "metadata": {},
     "output_type": "execute_result"
    }
   ],
   "source": [
    "df.memory_usage(deep=True).sum()   # 128,066,052"
   ]
  },
  {
   "cell_type": "code",
   "execution_count": 47,
   "id": "d7a8f4f9-73f2-4c8f-adf3-7574ef672ad3",
   "metadata": {},
   "outputs": [],
   "source": [
    "filename = '../data/nyc_taxi_2020-07.csv'\n",
    "\n",
    "df = pd.read_csv(filename,\n",
    "                 usecols=['tpep_pickup_datetime',\n",
    "                          'tpep_dropoff_datetime',\n",
    "                          'passenger_count',\n",
    "                          'trip_distance', 'total_amount'],\n",
    "                parse_dates=['tpep_pickup_datetime',\n",
    "                             'tpep_dropoff_datetime'])\n"
   ]
  },
  {
   "cell_type": "code",
   "execution_count": 48,
   "id": "47c68cb9-853a-4a13-9e16-b531aa017343",
   "metadata": {},
   "outputs": [
    {
     "data": {
      "text/plain": [
       "32016612"
      ]
     },
     "execution_count": 48,
     "metadata": {},
     "output_type": "execute_result"
    }
   ],
   "source": [
    "df.memory_usage(deep=True).sum()    # 32,016,612"
   ]
  },
  {
   "cell_type": "code",
   "execution_count": 49,
   "id": "db47a831-0bd6-4bc8-91a0-c44f98a563ea",
   "metadata": {},
   "outputs": [
    {
     "data": {
      "text/plain": [
       "0.2500007730385879"
      ]
     },
     "execution_count": 49,
     "metadata": {},
     "output_type": "execute_result"
    }
   ],
   "source": [
    "32016612 / 128066052"
   ]
  },
  {
   "cell_type": "code",
   "execution_count": 54,
   "id": "433bc32e-b2ce-4201-acc9-b5829cab8f5e",
   "metadata": {},
   "outputs": [
    {
     "data": {
      "text/plain": [
       "tpep_pickup_datetime\n",
       "15    0.073974\n",
       "14    0.073803\n",
       "13    0.071938\n",
       "16    0.071393\n",
       "17    0.070799\n",
       "12    0.068169\n",
       "18    0.066377\n",
       "11    0.062275\n",
       "10    0.057823\n",
       "19    0.053063\n",
       "9     0.051235\n",
       "8     0.043840\n",
       "20    0.038292\n",
       "7     0.032345\n",
       "21    0.030812\n",
       "22    0.025965\n",
       "6     0.023181\n",
       "23    0.022728\n",
       "0     0.014314\n",
       "1     0.011970\n",
       "4     0.009213\n",
       "2     0.009047\n",
       "3     0.008942\n",
       "5     0.008504\n",
       "Name: proportion, dtype: float64"
      ]
     },
     "execution_count": 54,
     "metadata": {},
     "output_type": "execute_result"
    }
   ],
   "source": [
    "# What were the three hours of the day at which taxis were most often called?\n",
    "\n",
    "(\n",
    "    df['tpep_pickup_datetime']\n",
    "    .dt.hour\n",
    "    .value_counts(normalize=True)\n",
    ")\n"
   ]
  },
  {
   "cell_type": "code",
   "execution_count": 59,
   "id": "41d6319a-b278-42ed-aa3c-5916461b9161",
   "metadata": {},
   "outputs": [
    {
     "data": {
      "text/html": [
       "<div>\n",
       "<style scoped>\n",
       "    .dataframe tbody tr th:only-of-type {\n",
       "        vertical-align: middle;\n",
       "    }\n",
       "\n",
       "    .dataframe tbody tr th {\n",
       "        vertical-align: top;\n",
       "    }\n",
       "\n",
       "    .dataframe thead th {\n",
       "        text-align: right;\n",
       "    }\n",
       "</style>\n",
       "<table border=\"1\" class=\"dataframe\">\n",
       "  <thead>\n",
       "    <tr style=\"text-align: right;\">\n",
       "      <th></th>\n",
       "      <th>tpep_pickup_datetime</th>\n",
       "      <th>tpep_dropoff_datetime</th>\n",
       "      <th>passenger_count</th>\n",
       "      <th>trip_distance</th>\n",
       "      <th>total_amount</th>\n",
       "    </tr>\n",
       "  </thead>\n",
       "  <tbody>\n",
       "    <tr>\n",
       "      <th>198195</th>\n",
       "      <td>2008-12-31 23:12:22</td>\n",
       "      <td>2008-12-31 23:25:04</td>\n",
       "      <td>1.0</td>\n",
       "      <td>1.62</td>\n",
       "      <td>11.8</td>\n",
       "    </tr>\n",
       "    <tr>\n",
       "      <th>198275</th>\n",
       "      <td>2009-01-01 01:29:56</td>\n",
       "      <td>2009-01-01 01:38:44</td>\n",
       "      <td>1.0</td>\n",
       "      <td>1.31</td>\n",
       "      <td>10.3</td>\n",
       "    </tr>\n",
       "  </tbody>\n",
       "</table>\n",
       "</div>"
      ],
      "text/plain": [
       "       tpep_pickup_datetime tpep_dropoff_datetime  passenger_count  \\\n",
       "198195  2008-12-31 23:12:22   2008-12-31 23:25:04              1.0   \n",
       "198275  2009-01-01 01:29:56   2009-01-01 01:38:44              1.0   \n",
       "\n",
       "        trip_distance  total_amount  \n",
       "198195           1.62          11.8  \n",
       "198275           1.31          10.3  "
      ]
     },
     "execution_count": 59,
     "metadata": {},
     "output_type": "execute_result"
    }
   ],
   "source": [
    "# This data is all supposed to be from July; how many rows have non-July 2020 data?\n",
    "\n",
    "df.loc[(df['tpep_pickup_datetime'].dt.month != 7) &\n",
    "       (df['tpep_pickup_datetime'].dt.year != 2020)]"
   ]
  },
  {
   "cell_type": "code",
   "execution_count": 60,
   "id": "c4278d7d-9e15-478d-8c8b-b2aad9fc34ac",
   "metadata": {},
   "outputs": [
    {
     "data": {
      "text/html": [
       "<div>\n",
       "<style scoped>\n",
       "    .dataframe tbody tr th:only-of-type {\n",
       "        vertical-align: middle;\n",
       "    }\n",
       "\n",
       "    .dataframe tbody tr th {\n",
       "        vertical-align: top;\n",
       "    }\n",
       "\n",
       "    .dataframe thead th {\n",
       "        text-align: right;\n",
       "    }\n",
       "</style>\n",
       "<table border=\"1\" class=\"dataframe\">\n",
       "  <thead>\n",
       "    <tr style=\"text-align: right;\">\n",
       "      <th></th>\n",
       "      <th>tpep_pickup_datetime</th>\n",
       "      <th>tpep_dropoff_datetime</th>\n",
       "      <th>passenger_count</th>\n",
       "      <th>trip_distance</th>\n",
       "      <th>total_amount</th>\n",
       "    </tr>\n",
       "  </thead>\n",
       "  <tbody>\n",
       "    <tr>\n",
       "      <th>198195</th>\n",
       "      <td>2008-12-31 23:12:22</td>\n",
       "      <td>2008-12-31 23:25:04</td>\n",
       "      <td>1.0</td>\n",
       "      <td>1.62</td>\n",
       "      <td>11.8</td>\n",
       "    </tr>\n",
       "    <tr>\n",
       "      <th>198275</th>\n",
       "      <td>2009-01-01 01:29:56</td>\n",
       "      <td>2009-01-01 01:38:44</td>\n",
       "      <td>1.0</td>\n",
       "      <td>1.31</td>\n",
       "      <td>10.3</td>\n",
       "    </tr>\n",
       "  </tbody>\n",
       "</table>\n",
       "</div>"
      ],
      "text/plain": [
       "       tpep_pickup_datetime tpep_dropoff_datetime  passenger_count  \\\n",
       "198195  2008-12-31 23:12:22   2008-12-31 23:25:04              1.0   \n",
       "198275  2009-01-01 01:29:56   2009-01-01 01:38:44              1.0   \n",
       "\n",
       "        trip_distance  total_amount  \n",
       "198195           1.62          11.8  \n",
       "198275           1.31          10.3  "
      ]
     },
     "execution_count": 60,
     "metadata": {},
     "output_type": "execute_result"
    }
   ],
   "source": [
    "# How many rows have non-2020 data?\n",
    "\n",
    "df.loc[df['tpep_pickup_datetime'].dt.year != 2020]"
   ]
  },
  {
   "cell_type": "markdown",
   "id": "c6bcaa96-fed0-4b1b-b272-ebf7193994d5",
   "metadata": {},
   "source": [
    "# Grouping\n",
    "\n",
    "We can run `groupby` on any categorical column. That includes the result of invoking `.dt.NAME` for any `NAME` on our datetime columns.\n"
   ]
  },
  {
   "cell_type": "code",
   "execution_count": 61,
   "id": "dfcc839b-2b9e-40ac-94e1-637acb4ca8d6",
   "metadata": {},
   "outputs": [
    {
     "data": {
      "text/plain": [
       "4.304164880086755"
      ]
     },
     "execution_count": 61,
     "metadata": {},
     "output_type": "execute_result"
    }
   ],
   "source": [
    "# Example: How far did people travel, on average, in taxis in July 2020?\n",
    "\n",
    "df['trip_distance'].mean()"
   ]
  },
  {
   "cell_type": "code",
   "execution_count": null,
   "id": "0d4d67f2-a3e8-494d-9ae4-708f421f4629",
   "metadata": {},
   "outputs": [],
   "source": [
    "# How far did people travel, on average *PER HOUR* in July 2020?\n",
    "\n",
    "df.groupby()"
   ]
  }
 ],
 "metadata": {
  "kernelspec": {
   "display_name": "Python 3 (ipykernel)",
   "language": "python",
   "name": "python3"
  },
  "language_info": {
   "codemirror_mode": {
    "name": "ipython",
    "version": 3
   },
   "file_extension": ".py",
   "mimetype": "text/x-python",
   "name": "python",
   "nbconvert_exporter": "python",
   "pygments_lexer": "ipython3",
   "version": "3.12.3"
  }
 },
 "nbformat": 4,
 "nbformat_minor": 5
}
