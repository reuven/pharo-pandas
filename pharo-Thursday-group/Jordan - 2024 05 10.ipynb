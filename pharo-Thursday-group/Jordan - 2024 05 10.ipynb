{
 "cells": [
  {
   "cell_type": "code",
   "execution_count": 1,
   "id": "f373393d-3733-4ea8-af3b-606638586846",
   "metadata": {},
   "outputs": [],
   "source": [
    "import pandas as pd\n",
    "from pandas import Series"
   ]
  },
  {
   "cell_type": "code",
   "execution_count": 4,
   "id": "490a803e-468e-486d-8f35-24d76ae889e9",
   "metadata": {},
   "outputs": [],
   "source": [
    "s = Series([10,20,30,40,50])"
   ]
  },
  {
   "cell_type": "code",
   "execution_count": 5,
   "id": "f806014a-63f2-46f5-b91f-98e8d0aee9c0",
   "metadata": {},
   "outputs": [
    {
     "data": {
      "text/plain": [
       "pandas.core.series.Series"
      ]
     },
     "execution_count": 5,
     "metadata": {},
     "output_type": "execute_result"
    }
   ],
   "source": [
    "type(s)"
   ]
  },
  {
   "cell_type": "code",
   "execution_count": 6,
   "id": "0f1f9c73-2ec8-475b-87a8-c5f0438d901b",
   "metadata": {},
   "outputs": [
    {
     "data": {
      "text/plain": [
       "0    10\n",
       "1    20\n",
       "2    30\n",
       "3    40\n",
       "4    50\n",
       "dtype: int64"
      ]
     },
     "execution_count": 6,
     "metadata": {},
     "output_type": "execute_result"
    }
   ],
   "source": [
    "s"
   ]
  },
  {
   "cell_type": "code",
   "execution_count": 14,
   "id": "c3d7f5b4-f6a8-43b3-aaa6-bc927b7b676d",
   "metadata": {},
   "outputs": [
    {
     "data": {
      "text/plain": [
       "0    10.0\n",
       "1    20.0\n",
       "2    30.5\n",
       "3    40.0\n",
       "4    50.0\n",
       "dtype: float64"
      ]
     },
     "execution_count": 14,
     "metadata": {},
     "output_type": "execute_result"
    }
   ],
   "source": [
    "s = Series([10,20,30.5,40,50])\n",
    "s"
   ]
  },
  {
   "cell_type": "code",
   "execution_count": 15,
   "id": "24d0a79f-db04-44f4-b052-d7c2e8ef855d",
   "metadata": {},
   "outputs": [
    {
     "data": {
      "text/plain": [
       "dtype('float64')"
      ]
     },
     "execution_count": 15,
     "metadata": {},
     "output_type": "execute_result"
    }
   ],
   "source": [
    "s.dtype"
   ]
  },
  {
   "cell_type": "code",
   "execution_count": 24,
   "id": "89370787-ab03-44e6-82f4-99aedd6b0f4d",
   "metadata": {},
   "outputs": [
    {
     "data": {
      "text/plain": [
       "1    20.0\n",
       "2    30.5\n",
       "3    40.0\n",
       "dtype: float64"
      ]
     },
     "execution_count": 24,
     "metadata": {},
     "output_type": "execute_result"
    }
   ],
   "source": [
    "s.loc[1:3]"
   ]
  },
  {
   "cell_type": "code",
   "execution_count": 25,
   "id": "803a534d-6d57-414b-a1db-b4a843139cf5",
   "metadata": {},
   "outputs": [
    {
     "data": {
      "text/plain": [
       "1    20.0\n",
       "2    30.5\n",
       "dtype: float64"
      ]
     },
     "execution_count": 25,
     "metadata": {},
     "output_type": "execute_result"
    }
   ],
   "source": [
    "s.iloc[1:3]"
   ]
  },
  {
   "cell_type": "code",
   "execution_count": 51,
   "id": "907ba8bd-f950-4e56-993e-01bdcb90607e",
   "metadata": {},
   "outputs": [
    {
     "name": "stdout",
     "output_type": "stream",
     "text": [
      "10 day mean is 19.3\n",
      "10 day median is 18.0\n",
      "first 5 day mean is 21.0\n",
      "last 5 day mean is 17.6\n",
      "first 5 mean is 3.3999999999999986 hotter\n"
     ]
    }
   ],
   "source": [
    "# high temperatures\n",
    "\n",
    "tempMax = Series([23,23,24,18,17,16,18,18,18,18])\n",
    "print(f\"10 day mean is {tempMax.mean()}\")\n",
    "print(f\"10 day median is {tempMax.median()}\")\n",
    "\n",
    "firstFiveMean = tempMax.loc[:4].mean()\n",
    "lastFiveMean = tempMax.loc[5:].mean()\n",
    "\n",
    "print(f\"first 5 day mean is {firstFiveMean}\")\n",
    "print(f\"last 5 day mean is {lastFiveMean}\")\n",
    "\n",
    "if firstFiveMean > lastFiveMean:\n",
    "    print(f\"first 5 mean is {firstFiveMean - lastFiveMean} hotter\")"
   ]
  },
  {
   "cell_type": "code",
   "execution_count": 30,
   "id": "42b0b1bf-3638-40c6-be67-6e3f497f0afc",
   "metadata": {},
   "outputs": [
    {
     "data": {
      "text/plain": [
       "19.3"
      ]
     },
     "execution_count": 30,
     "metadata": {},
     "output_type": "execute_result"
    }
   ],
   "source": [
    "tempMax.mean()"
   ]
  },
  {
   "cell_type": "code",
   "execution_count": 55,
   "id": "89543e35-f08d-4963-a405-d36524a26eb6",
   "metadata": {},
   "outputs": [
    {
     "data": {
      "text/plain": [
       "Index(['a', 'b', 'c', 'd', 'e'], dtype='object')"
      ]
     },
     "execution_count": 55,
     "metadata": {},
     "output_type": "execute_result"
    }
   ],
   "source": [
    "s = Series([10,20,30,40,50],\n",
    "    index=list('abcde'))\n",
    "s.index"
   ]
  },
  {
   "cell_type": "code",
   "execution_count": 84,
   "id": "ad7e691c-c371-43e1-86e7-880f3ab75d00",
   "metadata": {},
   "outputs": [],
   "source": [
    "# Exercise : Better Temperatures\n",
    "\n",
    "tempMax = Series([23,23,24,18,17,16,18,18,18,18],\n",
    "                index=['Fri','Sat','Sun','Mon','Tue','Wed','Thu','Fri','Sat','Sun'])\n"
   ]
  },
  {
   "cell_type": "code",
   "execution_count": 72,
   "id": "fff7d6d3-3b25-4b86-be24-a28922fb9bef",
   "metadata": {},
   "outputs": [
    {
     "data": {
      "text/plain": [
       "20.5"
      ]
     },
     "execution_count": 72,
     "metadata": {},
     "output_type": "execute_result"
    }
   ],
   "source": [
    "tempMax.loc['Fri'].mean()"
   ]
  },
  {
   "cell_type": "code",
   "execution_count": 86,
   "id": "479ebc48-04b7-4cf9-a4e7-ed4365cba098",
   "metadata": {},
   "outputs": [
    {
     "data": {
      "text/plain": [
       "18"
      ]
     },
     "execution_count": 86,
     "metadata": {},
     "output_type": "execute_result"
    }
   ],
   "source": [
    "tempMax.loc['Fri']\n",
    "tempMax.loc['Mon']"
   ]
  },
  {
   "cell_type": "code",
   "execution_count": null,
   "id": "f91dba3c-93c6-43b6-a266-c9c32492bd62",
   "metadata": {},
   "outputs": [],
   "source": []
  }
 ],
 "metadata": {
  "kernelspec": {
   "display_name": "Python 3 (ipykernel)",
   "language": "python",
   "name": "python3"
  },
  "language_info": {
   "codemirror_mode": {
    "name": "ipython",
    "version": 3
   },
   "file_extension": ".py",
   "mimetype": "text/x-python",
   "name": "python",
   "nbconvert_exporter": "python",
   "pygments_lexer": "ipython3",
   "version": "3.12.3"
  }
 },
 "nbformat": 4,
 "nbformat_minor": 5
}
