{
 "cells": [
  {
   "cell_type": "markdown",
   "id": "812dc892-86df-4d67-ae6e-4cde93b73d85",
   "metadata": {},
   "source": [
    "AGENDA\n",
    "\n",
    "1. Series\n",
    "2. Creating them\n",
    "3. Retrieving with '[]', '.loc', '.iloc'\n",
    "4. Indexs and how that affects retrieval\n",
    "5. Broadcasting and retrieving"
   ]
  },
  {
   "cell_type": "code",
   "execution_count": null,
   "id": "93bf9dcb-70f6-4035-bdbd-d86c2c174aa7",
   "metadata": {},
   "outputs": [],
   "source": [
    "import pandas as pd"
   ]
  },
  {
   "cell_type": "code",
   "execution_count": 1,
   "id": "2cdea12b-5b83-4ffa-a9fc-4d5a2314f6f5",
   "metadata": {},
   "outputs": [],
   "source": [
    "from pandas import Series"
   ]
  },
  {
   "cell_type": "code",
   "execution_count": null,
   "id": "5dde0462-52b1-4381-bf91-85cbadfdb161",
   "metadata": {},
   "outputs": [],
   "source": [
    "s-"
   ]
  }
 ],
 "metadata": {
  "kernelspec": {
   "display_name": "Python 3 (ipykernel)",
   "language": "python",
   "name": "python3"
  },
  "language_info": {
   "codemirror_mode": {
    "name": "ipython",
    "version": 3
   },
   "file_extension": ".py",
   "mimetype": "text/x-python",
   "name": "python",
   "nbconvert_exporter": "python",
   "pygments_lexer": "ipython3",
   "version": "3.12.3"
  }
 },
 "nbformat": 4,
 "nbformat_minor": 5
}
