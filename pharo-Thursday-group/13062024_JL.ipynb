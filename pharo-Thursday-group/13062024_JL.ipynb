{
 "cells": [
  {
   "cell_type": "markdown",
   "id": "9695ce2f-e06f-4172-9809-fd0f2becd74d",
   "metadata": {},
   "source": [
    "Agenda\n",
    "Fun with promotions\n",
    "Data frames\n",
    "1. What are they?\n",
    "2. How can we create simple ones by hand?\n",
    "3. How do we retrieve from them?\n",
    "        -Reading from CSV files\n",
    "        - Some basic options\n",
    "\n",
    "Things to watch out for\n",
    "Retrieving with .loc -- ways to think about it\n",
    "How to avoid a common Pandas warning / error"
   ]
  },
  {
   "cell_type": "code",
   "execution_count": 1,
   "id": "990637e2-0ac5-43a2-83ad-3edaeb2fed7d",
   "metadata": {},
   "outputs": [],
   "source": [
    "import pandas as pd\n",
    "from pandas import Series, DataFrame\n"
   ]
  },
  {
   "cell_type": "code",
   "execution_count": 2,
   "id": "2da0ac57-1962-47a9-87e0-8143d5d085b8",
   "metadata": {},
   "outputs": [
    {
     "data": {
      "text/plain": [
       "0    10\n",
       "1    20\n",
       "2    30\n",
       "3    40\n",
       "4    50\n",
       "dtype: int8"
      ]
     },
     "execution_count": 2,
     "metadata": {},
     "output_type": "execute_result"
    }
   ],
   "source": [
    "s = Series([10, 20, 30, 40, 50], dtype='int8')\n",
    "s"
   ]
  },
  {
   "cell_type": "code",
   "execution_count": 3,
   "id": "7c698520-8bee-423b-af03-24b7e2e8ddb5",
   "metadata": {},
   "outputs": [
    {
     "data": {
      "text/plain": [
       "256"
      ]
     },
     "execution_count": 3,
     "metadata": {},
     "output_type": "execute_result"
    }
   ],
   "source": [
    "2 ** 8\n"
   ]
  },
  {
   "cell_type": "code",
   "execution_count": 4,
   "id": "e805ac92-16ee-4185-8171-35aec55d6661",
   "metadata": {},
   "outputs": [
    {
     "data": {
      "text/plain": [
       "0     20\n",
       "1     40\n",
       "2     60\n",
       "3     80\n",
       "4    100\n",
       "dtype: int8"
      ]
     },
     "execution_count": 4,
     "metadata": {},
     "output_type": "execute_result"
    }
   ],
   "source": [
    "s * 2"
   ]
  },
  {
   "cell_type": "code",
   "execution_count": 5,
   "id": "e40162fb-a184-4909-bc51-af615838d7e1",
   "metadata": {},
   "outputs": [
    {
     "data": {
      "text/plain": [
       "0    100\n",
       "1    -56\n",
       "2     44\n",
       "3   -112\n",
       "4    -12\n",
       "dtype: int8"
      ]
     },
     "execution_count": 5,
     "metadata": {},
     "output_type": "execute_result"
    }
   ],
   "source": [
    "s * 10  # here, we multiply by 10 and the numbers \"roll over\" -- because int8 isn't big enough for some solutions"
   ]
  },
  {
   "cell_type": "code",
   "execution_count": 6,
   "id": "b28d9773-9798-4e21-ba82-0e1784ee7525",
   "metadata": {},
   "outputs": [
    {
     "data": {
      "text/plain": [
       "0     2000\n",
       "1     4000\n",
       "2     6000\n",
       "3     8000\n",
       "4    10000\n",
       "dtype: int16"
      ]
     },
     "execution_count": 6,
     "metadata": {},
     "output_type": "execute_result"
    }
   ],
   "source": [
    "\n",
    "s * 200   # will this have similar problems?  no!"
   ]
  },
  {
   "cell_type": "code",
   "execution_count": 7,
   "id": "b8736d74-e18c-472f-853b-d88431a6580e",
   "metadata": {},
   "outputs": [
    {
     "data": {
      "text/plain": [
       "0   -120\n",
       "1   -110\n",
       "2   -100\n",
       "3    -90\n",
       "4    -80\n",
       "dtype: int8"
      ]
     },
     "execution_count": 7,
     "metadata": {},
     "output_type": "execute_result"
    }
   ],
   "source": [
    "s + 126\n"
   ]
  },
  {
   "cell_type": "code",
   "execution_count": 8,
   "id": "73332f87-04a5-44fc-9b47-2b12dab1ee39",
   "metadata": {},
   "outputs": [
    {
     "data": {
      "text/plain": [
       "0    138\n",
       "1    148\n",
       "2    158\n",
       "3    168\n",
       "4    178\n",
       "dtype: int16"
      ]
     },
     "execution_count": 8,
     "metadata": {},
     "output_type": "execute_result"
    }
   ],
   "source": [
    "\n",
    "s + 128\n",
    "\n"
   ]
  },
  {
   "cell_type": "markdown",
   "id": "ca6b5765-e1f2-496a-86a0-5c1b054abef4",
   "metadata": {},
   "source": [
    "Data frames\n",
    "A data frame is a 2D table with rows and columns:\n",
    "\n",
    "Each row is identified by an index\n",
    "Each column is identified by a name, or a column name\n",
    "Each column is basically a Pandas series. So anything that you can do on a series, you can do on a column.\n",
    "\n",
    "Because each column is a series, we continue to use the index to identify each element.\n",
    "All of teh series (columns) in a data frame share an index\n",
    "When we retrieve a column, it's a series, like usual.\n",
    "When we retrieve a row, Pandas creates a new series on the fly\n",
    "Every column has a dtype, whereas rows are a combination of whatever dtypes are in their columns, and are often \"object\" columns"
   ]
  },
  {
   "cell_type": "code",
   "execution_count": 9,
   "id": "319d595b-f535-4ce8-abb8-c35d08883f2a",
   "metadata": {},
   "outputs": [
    {
     "data": {
      "text/html": [
       "<div>\n",
       "<style scoped>\n",
       "    .dataframe tbody tr th:only-of-type {\n",
       "        vertical-align: middle;\n",
       "    }\n",
       "\n",
       "    .dataframe tbody tr th {\n",
       "        vertical-align: top;\n",
       "    }\n",
       "\n",
       "    .dataframe thead th {\n",
       "        text-align: right;\n",
       "    }\n",
       "</style>\n",
       "<table border=\"1\" class=\"dataframe\">\n",
       "  <thead>\n",
       "    <tr style=\"text-align: right;\">\n",
       "      <th></th>\n",
       "      <th>0</th>\n",
       "      <th>1</th>\n",
       "      <th>2</th>\n",
       "    </tr>\n",
       "  </thead>\n",
       "  <tbody>\n",
       "    <tr>\n",
       "      <th>0</th>\n",
       "      <td>10</td>\n",
       "      <td>20</td>\n",
       "      <td>30</td>\n",
       "    </tr>\n",
       "    <tr>\n",
       "      <th>1</th>\n",
       "      <td>40</td>\n",
       "      <td>50</td>\n",
       "      <td>60</td>\n",
       "    </tr>\n",
       "    <tr>\n",
       "      <th>2</th>\n",
       "      <td>70</td>\n",
       "      <td>80</td>\n",
       "      <td>90</td>\n",
       "    </tr>\n",
       "    <tr>\n",
       "      <th>3</th>\n",
       "      <td>100</td>\n",
       "      <td>110</td>\n",
       "      <td>120</td>\n",
       "    </tr>\n",
       "  </tbody>\n",
       "</table>\n",
       "</div>"
      ],
      "text/plain": [
       "     0    1    2\n",
       "0   10   20   30\n",
       "1   40   50   60\n",
       "2   70   80   90\n",
       "3  100  110  120"
      ]
     },
     "execution_count": 9,
     "metadata": {},
     "output_type": "execute_result"
    }
   ],
   "source": [
    "# create a data frame with a list of lists\n",
    "# each inner list describes a row in the data frame\n",
    "\n",
    "df = DataFrame([[10, 20, 30],\n",
    "                [40, 50, 60],\n",
    "                [70, 80, 90],\n",
    "               [100, 110, 120]])\n",
    "df"
   ]
  },
  {
   "cell_type": "markdown",
   "id": "8d5ab94f-aade-4884-a943-144c970cf5c1",
   "metadata": {},
   "source": [
    "Exercise: Create a data frame\n",
    "Create a data frame containing your local weather forecast\n",
    "It should have six rows, each for a different day\n",
    "The index will contain day names/abbreviations\n",
    "The columns will be high and low, showing the forecast high and low temps on each\n",
    "Describe the values in high and low, b\n"
   ]
  },
  {
   "cell_type": "code",
   "execution_count": 11,
   "id": "8fa51b90-614e-42d2-9f75-69d247ba27bf",
   "metadata": {},
   "outputs": [
    {
     "data": {
      "text/html": [
       "<div>\n",
       "<style scoped>\n",
       "    .dataframe tbody tr th:only-of-type {\n",
       "        vertical-align: middle;\n",
       "    }\n",
       "\n",
       "    .dataframe tbody tr th {\n",
       "        vertical-align: top;\n",
       "    }\n",
       "\n",
       "    .dataframe thead th {\n",
       "        text-align: right;\n",
       "    }\n",
       "</style>\n",
       "<table border=\"1\" class=\"dataframe\">\n",
       "  <thead>\n",
       "    <tr style=\"text-align: right;\">\n",
       "      <th></th>\n",
       "      <th>0</th>\n",
       "      <th>1</th>\n",
       "    </tr>\n",
       "  </thead>\n",
       "  <tbody>\n",
       "    <tr>\n",
       "      <th>0</th>\n",
       "      <td>9</td>\n",
       "      <td>15</td>\n",
       "    </tr>\n",
       "    <tr>\n",
       "      <th>1</th>\n",
       "      <td>8</td>\n",
       "      <td>15</td>\n",
       "    </tr>\n",
       "    <tr>\n",
       "      <th>2</th>\n",
       "      <td>9</td>\n",
       "      <td>16</td>\n",
       "    </tr>\n",
       "    <tr>\n",
       "      <th>3</th>\n",
       "      <td>9</td>\n",
       "      <td>17</td>\n",
       "    </tr>\n",
       "    <tr>\n",
       "      <th>4</th>\n",
       "      <td>10</td>\n",
       "      <td>18</td>\n",
       "    </tr>\n",
       "    <tr>\n",
       "      <th>5</th>\n",
       "      <td>9</td>\n",
       "      <td>16</td>\n",
       "    </tr>\n",
       "  </tbody>\n",
       "</table>\n",
       "</div>"
      ],
      "text/plain": [
       "    0   1\n",
       "0   9  15\n",
       "1   8  15\n",
       "2   9  16\n",
       "3   9  17\n",
       "4  10  18\n",
       "5   9  16"
      ]
     },
     "execution_count": 11,
     "metadata": {},
     "output_type": "execute_result"
    }
   ],
   "source": [
    "df = DataFrame([[9, 15],\n",
    "                [8, 15],\n",
    "                [9, 16],\n",
    "                [9, 17],\n",
    "                [10, 18],\n",
    "               [9, 16]])\n",
    "df"
   ]
  },
  {
   "cell_type": "code",
   "execution_count": null,
   "id": "82b22c59-3423-4e9b-bd9d-24a5bcdbc6f7",
   "metadata": {},
   "outputs": [],
   "source": []
  }
 ],
 "metadata": {
  "kernelspec": {
   "display_name": "Python 3 (ipykernel)",
   "language": "python",
   "name": "python3"
  },
  "language_info": {
   "codemirror_mode": {
    "name": "ipython",
    "version": 3
   },
   "file_extension": ".py",
   "mimetype": "text/x-python",
   "name": "python",
   "nbconvert_exporter": "python",
   "pygments_lexer": "ipython3",
   "version": "3.12.3"
  }
 },
 "nbformat": 4,
 "nbformat_minor": 5
}
