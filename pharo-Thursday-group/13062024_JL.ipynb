{
 "cells": [
  {
   "cell_type": "markdown",
   "id": "9695ce2f-e06f-4172-9809-fd0f2becd74d",
   "metadata": {},
   "source": [
    "Agenda\n",
    "Fun with promotions\n",
    "Data frames\n",
    "1. What are they?\n",
    "2. How can we create simple ones by hand?\n",
    "3. How do we retrieve from them?\n",
    "        -Reading from CSV files\n",
    "        - Some basic options\n",
    "\n",
    "Things to watch out for\n",
    "Retrieving with .loc -- ways to think about it\n",
    "How to avoid a common Pandas warning / error"
   ]
  },
  {
   "cell_type": "code",
   "execution_count": 1,
   "id": "990637e2-0ac5-43a2-83ad-3edaeb2fed7d",
   "metadata": {},
   "outputs": [],
   "source": [
    "import pandas as pd\n",
    "from pandas import Series, DataFrame\n"
   ]
  },
  {
   "cell_type": "code",
   "execution_count": 2,
   "id": "2da0ac57-1962-47a9-87e0-8143d5d085b8",
   "metadata": {},
   "outputs": [
    {
     "data": {
      "text/plain": [
       "0    10\n",
       "1    20\n",
       "2    30\n",
       "3    40\n",
       "4    50\n",
       "dtype: int8"
      ]
     },
     "execution_count": 2,
     "metadata": {},
     "output_type": "execute_result"
    }
   ],
   "source": [
    "s = Series([10, 20, 30, 40, 50], dtype='int8')\n",
    "s"
   ]
  }
 ],
 "metadata": {
  "kernelspec": {
   "display_name": "Python 3 (ipykernel)",
   "language": "python",
   "name": "python3"
  },
  "language_info": {
   "codemirror_mode": {
    "name": "ipython",
    "version": 3
   },
   "file_extension": ".py",
   "mimetype": "text/x-python",
   "name": "python",
   "nbconvert_exporter": "python",
   "pygments_lexer": "ipython3",
   "version": "3.12.3"
  }
 },
 "nbformat": 4,
 "nbformat_minor": 5
}
