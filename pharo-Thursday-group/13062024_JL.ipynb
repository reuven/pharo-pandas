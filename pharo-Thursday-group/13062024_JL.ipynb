{
 "cells": [
  {
   "cell_type": "markdown",
   "id": "9695ce2f-e06f-4172-9809-fd0f2becd74d",
   "metadata": {},
   "source": [
    "Agenda\n",
    "Fun with promotions\n",
    "Data frames\n",
    "1. What are they?\n",
    "2. How can we create simple ones by hand?\n",
    "3. How do we retrieve from them?\n",
    "       Reading from CSV files\n",
    "Some basic options\n",
    "Things to watch out for\n",
    "Retrieving with .loc -- ways to think about it\n",
    "How to avoid a common Pandas warning / error"
   ]
  }
 ],
 "metadata": {
  "kernelspec": {
   "display_name": "Python 3 (ipykernel)",
   "language": "python",
   "name": "python3"
  },
  "language_info": {
   "codemirror_mode": {
    "name": "ipython",
    "version": 3
   },
   "file_extension": ".py",
   "mimetype": "text/x-python",
   "name": "python",
   "nbconvert_exporter": "python",
   "pygments_lexer": "ipython3",
   "version": "3.12.3"
  }
 },
 "nbformat": 4,
 "nbformat_minor": 5
}
