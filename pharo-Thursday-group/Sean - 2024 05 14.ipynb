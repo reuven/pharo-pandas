{
 "cells": [
  {
   "cell_type": "markdown",
   "id": "add7fe9b-6439-4f45-91f8-44cd4de9a8d2",
   "metadata": {},
   "source": [
    "# Agenda: Mask Index\n",
    "\n",
    "- Comparisons\n",
    "- Broadcasts and comparisons\n",
    "- Using that to filter our series with a \"boolean index\" or a \"mask index\"\n",
    "- Complex comparisons with \"and\" and \"or\""
   ]
  },
  {
   "cell_type": "code",
   "execution_count": 1,
   "id": "039d7170-8b27-4c46-b85d-f1d9f808497a",
   "metadata": {},
   "outputs": [],
   "source": [
    "import numpy as np\n",
    "import pandas as pd\n",
    "from pandas import Series, DataFrame"
   ]
  },
  {
   "cell_type": "code",
   "execution_count": null,
   "id": "8dc65756-3228-43c0-8c70-1ca571b8d323",
   "metadata": {},
   "outputs": [],
   "source": [
    "s = Series("
   ]
  }
 ],
 "metadata": {
  "kernelspec": {
   "display_name": "Python 3 (ipykernel)",
   "language": "python",
   "name": "python3"
  },
  "language_info": {
   "codemirror_mode": {
    "name": "ipython",
    "version": 3
   },
   "file_extension": ".py",
   "mimetype": "text/x-python",
   "name": "python",
   "nbconvert_exporter": "python",
   "pygments_lexer": "ipython3",
   "version": "3.12.3"
  }
 },
 "nbformat": 4,
 "nbformat_minor": 5
}
