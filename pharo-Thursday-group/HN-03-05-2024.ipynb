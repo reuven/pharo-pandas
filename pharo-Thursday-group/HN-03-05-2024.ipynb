{
 "cells": [
  {
   "cell_type": "markdown",
   "id": "99b7b4a3-f4d5-4631-8cd6-45fa8d06fdc3",
   "metadata": {},
   "source": [
    "# Intro\n",
    "\n",
    "Hello. "
   ]
  },
  {
   "cell_type": "code",
   "execution_count": 7,
   "id": "35b3f6b5-8296-4fde-a430-d4f4e8cee0b4",
   "metadata": {},
   "outputs": [
    {
     "data": {
      "text/plain": [
       "5"
      ]
     },
     "execution_count": 7,
     "metadata": {},
     "output_type": "execute_result"
    }
   ],
   "source": [
    "2+3"
   ]
  },
  {
   "cell_type": "code",
   "execution_count": null,
   "id": "a74c2280-97e5-4bff-b3b5-1417703b4a54",
   "metadata": {},
   "outputs": [],
   "source": []
  }
 ],
 "metadata": {
  "kernelspec": {
   "display_name": "Python 3 (ipykernel)",
   "language": "python",
   "name": "python3"
  },
  "language_info": {
   "codemirror_mode": {
    "name": "ipython",
    "version": 3
   },
   "file_extension": ".py",
   "mimetype": "text/x-python",
   "name": "python",
   "nbconvert_exporter": "python",
   "pygments_lexer": "ipython3",
   "version": "3.12.3"
  }
 },
 "nbformat": 4,
 "nbformat_minor": 5
}
