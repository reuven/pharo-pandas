{
 "cells": [
  {
   "cell_type": "markdown",
   "id": "5057e99d-4d47-4b64-91bc-28cd84fe3e4c",
   "metadata": {},
   "source": [
    "# Jupyter intro\n",
    "\n",
    "This is a cell. When I type into a cell, one of two things can happen:\n",
    "\n",
    "- If the cell is in \"edit mode,\" then anything I type is actually put into the cell. You can tell that it's in edit mode because of the blue outline around the cell, and the white background in the cell. You can enter edit mode by pressing ENTER or by clicking inside of the cell.\n",
    "- If the cell is in \"command mode,\" then anything I type is taken to be a command to Jupyter itself. You can enter command mode by pressing ESC or by clicking to the left of the cell. You can tell it's in command mode by the lack of a blue outline around the cell, and a gray background in the cell.\n",
    "\n",
    "If I'm editing, then I might be editing code and I might be editing Markdown text (like right now). When you press shift+ENTER, that forces the cell to be \"executed,\" meaning the Python code is run or the Markdown is displayed nicely.\n",
    "\n",
    "Some of the commands you can use in Jupyter are:\n",
    "\n",
    "- `c` -- copy the current cell\n",
    "- `x` -- cut the current cell\n",
    "- `v` -- paste the most recently cut/copied cell\n",
    "- `a` -- create a new cell above the current one\n",
    "- `b` -- create a new cell below the current one\n",
    "- `m` -- turn the current cell into markdown\n",
    "- `y` -- turn the current cell into Python code"
   ]
  },
  {
   "cell_type": "code",
   "execution_count": 1,
   "id": "513c5979-5d03-4408-b882-47c24507d59e",
   "metadata": {},
   "outputs": [
    {
     "data": {
      "text/plain": [
       "5"
      ]
     },
     "execution_count": 1,
     "metadata": {},
     "output_type": "execute_result"
    }
   ],
   "source": [
    "2+3"
   ]
  },
  {
   "cell_type": "code",
   "execution_count": 1,
   "id": "854fb3ad-fe7b-4512-9331-9307db91a832",
   "metadata": {},
   "outputs": [
    {
     "data": {
      "text/plain": [
       "5"
      ]
     },
     "execution_count": 1,
     "metadata": {},
     "output_type": "execute_result"
    }
   ],
   "source": [
    "2+3"
   ]
  },
  {
   "cell_type": "code",
   "execution_count": 2,
   "id": "74130668-291e-4be7-9832-1dde73fb707d",
   "metadata": {},
   "outputs": [
    {
     "name": "stdout",
     "output_type": "stream",
     "text": [
      "abc\n"
     ]
    }
   ],
   "source": [
    "print('a' + 'b' + 'c')"
   ]
  },
  {
   "cell_type": "markdown",
   "id": "167d8453-256e-4bef-a4ce-3d7c900f50bc",
   "metadata": {},
   "source": [
    "# Syllabus \n",
    "\n",
    "1. Intro to analytics in Python\n",
    "    - What is Pandas? How does it relate to libraries like NumPy?\n",
    "    - Basics of reading data from a CSV file\n",
    "    - Basics of analysis and some methods\n",
    "    - Simple visualization\n",
    "2. Pandas series (1D data structures)\n",
    "    - Creating a series\n",
    "    - Analyzing a series\n",
    "    - Broadcasting\n",
    "    - What *not* to do if you're an experienced Python programmer\n",
    "3. Mask/boolean arrays\n",
    "    - Retrieving from a series with booleans\n",
    "    - Using a mask array to select which items we want\n",
    "4. Indexes\n",
    "    - Setting the index\n",
    "    - Retrieving using the index\n",
    "    - Multi-indexing (a little bit)\n",
    "5. Dtype\n",
    "    - What are dtypes?\n",
    "    - Choosing a dtype\n",
    "    - Changing dtypes\n",
    "    - `NaN` (\"not a number\") and working with it\n",
    "6. Reading data from a file\n",
    "    - Turning a file into a \"data frame\" with 2D (rows and columns)\n",
    "    - CSV files\n",
    "    - Retrieving rows\n",
    "    - Retrieving columns\n",
    "7. Different data types\n",
    "    - Excel\n",
    "    - JSON\n",
    "    - Retrieving resources from the Internet\n",
    "    - Scraping Web sites\n",
    "8. Sorting\n",
    "9. Grouping and pivot tables\n",
    "10. Cleaning our data\n",
    "    - Removing bad data\n",
    "    - Identifying bad data\n",
    "    - Interpolation\n",
    "11. Working with text\n",
    "12. Dates and times\n",
    "13. Visualization\n",
    "    - Charts\n",
    "    - Plots\n",
    "14. New trends, and where to go from here"
   ]
  },
  {
   "cell_type": "markdown",
   "id": "a1647409-4617-4d0c-bedd-de49c24f9efc",
   "metadata": {},
   "source": [
    "# What is Pandas?\n",
    "\n",
    "Python is a great high-level language -- it has useful data structures, it is very consistent, and it's even very forgiving when we make mistakes.\n",
    "\n",
    "However, this all comes with many trade-offs. For example, Python uses a lot more memory than other languages, such as C. It also takes much more time for Python code to execute than C, Java, or C# code.\n",
    "\n",
    "Which raises the question: Why in the world would we be using Python to analyze our data?\n",
    "\n",
    "The answer is: NumPy and Pandas.\n",
    "\n",
    "NumPy is a Python module that's 95% written in C. It basically exposes C data structures to us via a very thin layer of Python. We can thus benefit from the ease of Python but the speed and efficiency of C.\n",
    "\n",
    "NumPy is the most important piece of code for numeric and scientific computing. There's a whole package called SciPy which has functions built up around NumPy's data structures, so that engineers, scientists, and mathematicians can do their calculations quickly and easily.\n",
    "\n",
    "NumPy is very low level. You get the data structure, and then you have to do the work yourself. Pandas provides us with lots of convenient methods to work with NumPy at a higher level. Pandas knows how to perform many more calculations, many more advanced functions with strings, dates, and plotting. Also, retrieving and setting data more easily.\n",
    "\n",
    "Pandas is thus this great compromise, allowing us to use Python and high-level functionality but also get the speed and efficiency of NumPy. \n",
    "\n",
    "Pandas allows us to:\n",
    "- Read data from a wide variety of formats and sources\n",
    "- Clean the data\n",
    "- Analyze the data in numerous ways\n",
    "- Write our analysis out to different formats and outputs\n",
    "- Create visualizations of our work in charts and graphs\n",
    "\n"
   ]
  },
  {
   "cell_type": "markdown",
   "id": "f3d9bb96-b92f-4733-81c4-d4fdf9e9e2d7",
   "metadata": {},
   "source": [
    "# Using Pandas\n",
    "\n"
   ]
  }
 ],
 "metadata": {
  "kernelspec": {
   "display_name": "Python 3 (ipykernel)",
   "language": "python",
   "name": "python3"
  },
  "language_info": {
   "codemirror_mode": {
    "name": "ipython",
    "version": 3
   },
   "file_extension": ".py",
   "mimetype": "text/x-python",
   "name": "python",
   "nbconvert_exporter": "python",
   "pygments_lexer": "ipython3",
   "version": "3.12.3"
  }
 },
 "nbformat": 4,
 "nbformat_minor": 5
}
