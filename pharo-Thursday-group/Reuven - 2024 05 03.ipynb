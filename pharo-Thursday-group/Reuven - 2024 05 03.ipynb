{
 "cells": [
  {
   "cell_type": "markdown",
   "id": "5057e99d-4d47-4b64-91bc-28cd84fe3e4c",
   "metadata": {},
   "source": [
    "# Jupyter intro\n",
    "\n",
    "This is a cell. When I type into a cell, one of two things can happen:\n",
    "\n",
    "- If the cell is in \"edit mode,\" then anything I type is actually put into the cell. You can tell that it's in edit mode because of the blue outline around the cell, and the white background in the cell. You can enter edit mode by pressing ENTER or by clicking inside of the cell.\n",
    "- If the cell is in \"command mode,\" then anything I type is taken to be a command to Jupyter itself. You can enter command mode by pressing ESC or by clicking to the left of the cell. You can tell it's in command mode by the lack of a blue outline around the cell, and a gray background in the cell.\n",
    "\n",
    "If I'm editing, then I might be editing code and I might be editing Markdown text (like right now). When you press shift+ENTER, that forces the cell to be \"executed,\" meaning the Python code is run or the Markdown is displayed nicely.\n",
    "\n",
    "Some of the commands you can use in Jupyter are:\n",
    "\n",
    "- `c` -- copy the current cell\n",
    "- `x` -- cut the current cell\n",
    "- `v` -- paste the most recently cut/copied cell\n",
    "- `a` -- create a new cell above the current one\n",
    "- `b` -- create a new cell below the current one\n",
    "- `m` -- turn the current cell into markdown\n",
    "- `y` -- turn the current cell into Python code"
   ]
  },
  {
   "cell_type": "code",
   "execution_count": 1,
   "id": "513c5979-5d03-4408-b882-47c24507d59e",
   "metadata": {},
   "outputs": [
    {
     "data": {
      "text/plain": [
       "5"
      ]
     },
     "execution_count": 1,
     "metadata": {},
     "output_type": "execute_result"
    }
   ],
   "source": [
    "2+3"
   ]
  },
  {
   "cell_type": "code",
   "execution_count": 1,
   "id": "854fb3ad-fe7b-4512-9331-9307db91a832",
   "metadata": {},
   "outputs": [
    {
     "data": {
      "text/plain": [
       "5"
      ]
     },
     "execution_count": 1,
     "metadata": {},
     "output_type": "execute_result"
    }
   ],
   "source": [
    "2+3"
   ]
  },
  {
   "cell_type": "code",
   "execution_count": 2,
   "id": "74130668-291e-4be7-9832-1dde73fb707d",
   "metadata": {},
   "outputs": [
    {
     "name": "stdout",
     "output_type": "stream",
     "text": [
      "abc\n"
     ]
    }
   ],
   "source": [
    "print('a' + 'b' + 'c')"
   ]
  },
  {
   "cell_type": "markdown",
   "id": "167d8453-256e-4bef-a4ce-3d7c900f50bc",
   "metadata": {},
   "source": [
    "# Syllabus \n",
    "\n",
    "1. Intro to analytics in Python\n",
    "    - What is Pandas? How does it relate to libraries like NumPy?\n",
    "    - Basics of reading data from a CSV file\n",
    "    - Basics of analysis and some methods\n",
    "    - Simple visualization\n",
    "2. Pandas series (1D data structures)\n",
    "    - Creating a series\n",
    "    - Analyzing a series\n",
    "    - Broadcasting\n",
    "    - What *not* to do if you're an experienced Python programmer\n",
    "3. Mask/boolean arrays\n",
    "    - Retrieving from a series with booleans\n",
    "    - Using a mask array to select which items we want\n",
    "4. Indexes\n",
    "    - Setting the index\n",
    "    - Retrieving using the index\n",
    "    - Multi-indexing (a little bit)\n",
    "5. Dtype\n",
    "    - What are dtypes?\n",
    "    - Choosing a dtype\n",
    "    - Changing dtypes\n",
    "    - `NaN` (\"not a number\") and working with it\n",
    "6. Reading data from a file\n",
    "    - Turning a file into a \"data frame\" with 2D (rows and columns)\n",
    "    - CSV files\n",
    "    - Retrieving rows\n",
    "    - Retrieving columns\n",
    "7. Different data types\n",
    "    - Excel\n",
    "    - JSON\n",
    "    - Retrieving resources from the Internet\n",
    "    - Scraping Web sites\n",
    "8. Sorting\n",
    "9. Grouping and pivot tables\n",
    "10. Cleaning our data\n",
    "    - Removing bad data\n",
    "    - Identifying bad data\n",
    "    - Interpolation\n",
    "11. Working with text\n",
    "12. Dates and times\n",
    "13. Visualization\n",
    "    - Charts\n",
    "    - Plots\n",
    "14. New trends, and where to go from here"
   ]
  },
  {
   "cell_type": "markdown",
   "id": "a1647409-4617-4d0c-bedd-de49c24f9efc",
   "metadata": {},
   "source": [
    "# What is Pandas?\n",
    "\n",
    "Python is a great high-level language -- it has useful data structures, it is very consistent, and it's even very forgiving when we make mistakes.\n",
    "\n",
    "However, this all comes with many trade-offs. For example, Python uses a lot more memory than other languages, such as C. It also takes much more time for Python code to execute than C, Java, or C# code.\n",
    "\n",
    "Which raises the question: Why in the world would we be using Python to analyze our data?\n",
    "\n",
    "The answer is: NumPy and Pandas.\n",
    "\n",
    "NumPy is a Python module that's 95% written in C. It basically exposes C data structures to us via a very thin layer of Python. We can thus benefit from the ease of Python but the speed and efficiency of C.\n",
    "\n",
    "NumPy is the most important piece of code for numeric and scientific computing. There's a whole package called SciPy which has functions built up around NumPy's data structures, so that engineers, scientists, and mathematicians can do their calculations quickly and easily.\n",
    "\n",
    "NumPy is very low level. You get the data structure, and then you have to do the work yourself. Pandas provides us with lots of convenient methods to work with NumPy at a higher level. Pandas knows how to perform many more calculations, many more advanced functions with strings, dates, and plotting. Also, retrieving and setting data more easily.\n",
    "\n",
    "Pandas is thus this great compromise, allowing us to use Python and high-level functionality but also get the speed and efficiency of NumPy. \n",
    "\n",
    "Pandas allows us to:\n",
    "- Read data from a wide variety of formats and sources\n",
    "- Clean the data\n",
    "- Analyze the data in numerous ways\n",
    "- Write our analysis out to different formats and outputs\n",
    "- Create visualizations of our work in charts and graphs\n",
    "\n"
   ]
  },
  {
   "cell_type": "markdown",
   "id": "f3d9bb96-b92f-4733-81c4-d4fdf9e9e2d7",
   "metadata": {},
   "source": [
    "# Using Pandas\n",
    "\n",
    "If you want to work with Pandas, you'll have to load it as a Python module using `import`.\n",
    "\n",
    "    import pandas as pd\n",
    "\n",
    "Everyone uses that alias!"
   ]
  },
  {
   "cell_type": "code",
   "execution_count": 3,
   "id": "3aa07921-e4ec-4243-baf1-e8a3a1f540a0",
   "metadata": {},
   "outputs": [],
   "source": [
    "import pandas as pd"
   ]
  },
  {
   "cell_type": "code",
   "execution_count": 4,
   "id": "4ebead4b-c58e-4914-84ba-1d65db8a7e9a",
   "metadata": {},
   "outputs": [
    {
     "data": {
      "text/plain": [
       "'2.2.2'"
      ]
     },
     "execution_count": 4,
     "metadata": {},
     "output_type": "execute_result"
    }
   ],
   "source": [
    "pd.__version__"
   ]
  },
  {
   "cell_type": "markdown",
   "id": "2f903dc4-95a5-4705-b3c5-71de5f35ca87",
   "metadata": {},
   "source": [
    "# Loading data\n",
    "\n",
    "If I want to load data from a file into Pandas, what I'm really saying is: There is a file on disk that contains information in a format that Pandas knows -- most often, in CSV (\"comma separated values\") format. CSV means that every line of the file contains one record, and each record is separated into fields with commas.\n",
    "\n",
    "    apple,10,2\n",
    "    banana,8,1.5\n",
    "    cucumber,20,0.8\n",
    "\n",
    "If I want to load a CSV file into Pandas, what I'm basically saying is: There's a file containing data in CSV format. I want to turn that into a data frame. A data frame is sort of like one Excel sheet, with rows and columns.\n",
    "\n",
    "To create a new data frame based on this file, I'll use the Pandas function \"read_csv\""
   ]
  },
  {
   "cell_type": "code",
   "execution_count": 6,
   "id": "dc8cb15c-cec1-4fd0-9fff-ef4aa5fcc1a6",
   "metadata": {},
   "outputs": [],
   "source": [
    "filename = '../data/taxi.csv'     # the file I want to read from is in the parallel \"data\" directory\n",
    "df = pd.read_csv(filename)        # give me a data frame based on this data"
   ]
  },
  {
   "cell_type": "code",
   "execution_count": 7,
   "id": "6d0deb95-9782-47cb-a85c-215531632845",
   "metadata": {},
   "outputs": [
    {
     "data": {
      "text/plain": [
       "pandas.core.frame.DataFrame"
      ]
     },
     "execution_count": 7,
     "metadata": {},
     "output_type": "execute_result"
    }
   ],
   "source": [
    "type(df)   # what kind of value does df refer to?"
   ]
  },
  {
   "cell_type": "code",
   "execution_count": 8,
   "id": "bcd76c1e-a930-460c-bc2f-50ac17a0fdc8",
   "metadata": {},
   "outputs": [
    {
     "data": {
      "text/plain": [
       "(9999, 19)"
      ]
     },
     "execution_count": 8,
     "metadata": {},
     "output_type": "execute_result"
    }
   ],
   "source": [
    "# how big are you, in terms of rows and columns?\n",
    "df.shape"
   ]
  },
  {
   "cell_type": "code",
   "execution_count": 9,
   "id": "272c7b06-d0e0-4e05-a452-cd06b4b7b70d",
   "metadata": {},
   "outputs": [
    {
     "data": {
      "text/html": [
       "<div>\n",
       "<style scoped>\n",
       "    .dataframe tbody tr th:only-of-type {\n",
       "        vertical-align: middle;\n",
       "    }\n",
       "\n",
       "    .dataframe tbody tr th {\n",
       "        vertical-align: top;\n",
       "    }\n",
       "\n",
       "    .dataframe thead th {\n",
       "        text-align: right;\n",
       "    }\n",
       "</style>\n",
       "<table border=\"1\" class=\"dataframe\">\n",
       "  <thead>\n",
       "    <tr style=\"text-align: right;\">\n",
       "      <th></th>\n",
       "      <th>VendorID</th>\n",
       "      <th>tpep_pickup_datetime</th>\n",
       "      <th>tpep_dropoff_datetime</th>\n",
       "      <th>passenger_count</th>\n",
       "      <th>trip_distance</th>\n",
       "      <th>pickup_longitude</th>\n",
       "      <th>pickup_latitude</th>\n",
       "      <th>RateCodeID</th>\n",
       "      <th>store_and_fwd_flag</th>\n",
       "      <th>dropoff_longitude</th>\n",
       "      <th>dropoff_latitude</th>\n",
       "      <th>payment_type</th>\n",
       "      <th>fare_amount</th>\n",
       "      <th>extra</th>\n",
       "      <th>mta_tax</th>\n",
       "      <th>tip_amount</th>\n",
       "      <th>tolls_amount</th>\n",
       "      <th>improvement_surcharge</th>\n",
       "      <th>total_amount</th>\n",
       "    </tr>\n",
       "  </thead>\n",
       "  <tbody>\n",
       "    <tr>\n",
       "      <th>0</th>\n",
       "      <td>2</td>\n",
       "      <td>2015-06-02 11:19:29</td>\n",
       "      <td>2015-06-02 11:47:52</td>\n",
       "      <td>1</td>\n",
       "      <td>1.63</td>\n",
       "      <td>-73.954430</td>\n",
       "      <td>40.764141</td>\n",
       "      <td>1</td>\n",
       "      <td>N</td>\n",
       "      <td>-73.974754</td>\n",
       "      <td>40.754093</td>\n",
       "      <td>2</td>\n",
       "      <td>17.0</td>\n",
       "      <td>0.0</td>\n",
       "      <td>0.5</td>\n",
       "      <td>0.00</td>\n",
       "      <td>0.0</td>\n",
       "      <td>0.3</td>\n",
       "      <td>17.80</td>\n",
       "    </tr>\n",
       "    <tr>\n",
       "      <th>1</th>\n",
       "      <td>2</td>\n",
       "      <td>2015-06-02 11:19:30</td>\n",
       "      <td>2015-06-02 11:27:56</td>\n",
       "      <td>1</td>\n",
       "      <td>0.46</td>\n",
       "      <td>-73.971443</td>\n",
       "      <td>40.758942</td>\n",
       "      <td>1</td>\n",
       "      <td>N</td>\n",
       "      <td>-73.978539</td>\n",
       "      <td>40.761909</td>\n",
       "      <td>1</td>\n",
       "      <td>6.5</td>\n",
       "      <td>0.0</td>\n",
       "      <td>0.5</td>\n",
       "      <td>1.00</td>\n",
       "      <td>0.0</td>\n",
       "      <td>0.3</td>\n",
       "      <td>8.30</td>\n",
       "    </tr>\n",
       "    <tr>\n",
       "      <th>2</th>\n",
       "      <td>2</td>\n",
       "      <td>2015-06-02 11:19:31</td>\n",
       "      <td>2015-06-02 11:30:30</td>\n",
       "      <td>1</td>\n",
       "      <td>0.87</td>\n",
       "      <td>-73.978111</td>\n",
       "      <td>40.738434</td>\n",
       "      <td>1</td>\n",
       "      <td>N</td>\n",
       "      <td>-73.990273</td>\n",
       "      <td>40.745438</td>\n",
       "      <td>1</td>\n",
       "      <td>8.0</td>\n",
       "      <td>0.0</td>\n",
       "      <td>0.5</td>\n",
       "      <td>2.20</td>\n",
       "      <td>0.0</td>\n",
       "      <td>0.3</td>\n",
       "      <td>11.00</td>\n",
       "    </tr>\n",
       "    <tr>\n",
       "      <th>3</th>\n",
       "      <td>2</td>\n",
       "      <td>2015-06-02 11:19:31</td>\n",
       "      <td>2015-06-02 11:39:02</td>\n",
       "      <td>1</td>\n",
       "      <td>2.13</td>\n",
       "      <td>-73.945892</td>\n",
       "      <td>40.773529</td>\n",
       "      <td>1</td>\n",
       "      <td>N</td>\n",
       "      <td>-73.971527</td>\n",
       "      <td>40.760330</td>\n",
       "      <td>1</td>\n",
       "      <td>13.5</td>\n",
       "      <td>0.0</td>\n",
       "      <td>0.5</td>\n",
       "      <td>2.86</td>\n",
       "      <td>0.0</td>\n",
       "      <td>0.3</td>\n",
       "      <td>17.16</td>\n",
       "    </tr>\n",
       "    <tr>\n",
       "      <th>4</th>\n",
       "      <td>1</td>\n",
       "      <td>2015-06-02 11:19:32</td>\n",
       "      <td>2015-06-02 11:32:49</td>\n",
       "      <td>1</td>\n",
       "      <td>1.40</td>\n",
       "      <td>-73.979088</td>\n",
       "      <td>40.776772</td>\n",
       "      <td>1</td>\n",
       "      <td>N</td>\n",
       "      <td>-73.982162</td>\n",
       "      <td>40.758999</td>\n",
       "      <td>2</td>\n",
       "      <td>9.5</td>\n",
       "      <td>0.0</td>\n",
       "      <td>0.5</td>\n",
       "      <td>0.00</td>\n",
       "      <td>0.0</td>\n",
       "      <td>0.3</td>\n",
       "      <td>10.30</td>\n",
       "    </tr>\n",
       "  </tbody>\n",
       "</table>\n",
       "</div>"
      ],
      "text/plain": [
       "   VendorID tpep_pickup_datetime tpep_dropoff_datetime  passenger_count  \\\n",
       "0         2  2015-06-02 11:19:29   2015-06-02 11:47:52                1   \n",
       "1         2  2015-06-02 11:19:30   2015-06-02 11:27:56                1   \n",
       "2         2  2015-06-02 11:19:31   2015-06-02 11:30:30                1   \n",
       "3         2  2015-06-02 11:19:31   2015-06-02 11:39:02                1   \n",
       "4         1  2015-06-02 11:19:32   2015-06-02 11:32:49                1   \n",
       "\n",
       "   trip_distance  pickup_longitude  pickup_latitude  RateCodeID  \\\n",
       "0           1.63        -73.954430        40.764141           1   \n",
       "1           0.46        -73.971443        40.758942           1   \n",
       "2           0.87        -73.978111        40.738434           1   \n",
       "3           2.13        -73.945892        40.773529           1   \n",
       "4           1.40        -73.979088        40.776772           1   \n",
       "\n",
       "  store_and_fwd_flag  dropoff_longitude  dropoff_latitude  payment_type  \\\n",
       "0                  N         -73.974754         40.754093             2   \n",
       "1                  N         -73.978539         40.761909             1   \n",
       "2                  N         -73.990273         40.745438             1   \n",
       "3                  N         -73.971527         40.760330             1   \n",
       "4                  N         -73.982162         40.758999             2   \n",
       "\n",
       "   fare_amount  extra  mta_tax  tip_amount  tolls_amount  \\\n",
       "0         17.0    0.0      0.5        0.00           0.0   \n",
       "1          6.5    0.0      0.5        1.00           0.0   \n",
       "2          8.0    0.0      0.5        2.20           0.0   \n",
       "3         13.5    0.0      0.5        2.86           0.0   \n",
       "4          9.5    0.0      0.5        0.00           0.0   \n",
       "\n",
       "   improvement_surcharge  total_amount  \n",
       "0                    0.3         17.80  \n",
       "1                    0.3          8.30  \n",
       "2                    0.3         11.00  \n",
       "3                    0.3         17.16  \n",
       "4                    0.3         10.30  "
      ]
     },
     "execution_count": 9,
     "metadata": {},
     "output_type": "execute_result"
    }
   ],
   "source": [
    "df.head()   # show me the first five rows of this data frame, df"
   ]
  },
  {
   "cell_type": "markdown",
   "id": "d25ba131-012b-46ae-840f-2a1ef83eda20",
   "metadata": {},
   "source": [
    "# Exercise: Load the taxi data\n",
    "\n",
    "1. Create a notebook (if you haven't already)\n",
    "2. Set the notebook's name to be your own + the date\n",
    "3. Load Pandas with `import pandas as pd`\n",
    "4. Create a data frame using `pd.read_csv`, reading `../data/taxi.csv`\n",
    "5. Use `df.head()` to see the first five rows of the data frame."
   ]
  },
  {
   "cell_type": "markdown",
   "id": "169a9c94-1010-4c3f-831e-b78e773729aa",
   "metadata": {},
   "source": [
    "# How is Jupyter different from \"regular\" Python?\n",
    "\n",
    "When you execute code in Jupyter, it's running in Python on our server. It's regular Python in every way except for two:\n",
    "\n",
    "1. The Python session extends across all of the cells. So if you define a variable in cell 123, and then you access that variable in cell 150, and nothing has changed is value across them, you'll still have access to the variable.\n",
    "2. If the final line of a cell is a Python expression (e.g., a variable), then Jupyter displays that value right below the cell. Only the final line is treated this way."
   ]
  },
  {
   "cell_type": "code",
   "execution_count": null,
   "id": "4839ac5c-cf9d-4ae7-84e8-afaebba94d4e",
   "metadata": {},
   "outputs": [],
   "source": [
    "10+10\n",
    "20+2"
   ]
  }
 ],
 "metadata": {
  "kernelspec": {
   "display_name": "Python 3 (ipykernel)",
   "language": "python",
   "name": "python3"
  },
  "language_info": {
   "codemirror_mode": {
    "name": "ipython",
    "version": 3
   },
   "file_extension": ".py",
   "mimetype": "text/x-python",
   "name": "python",
   "nbconvert_exporter": "python",
   "pygments_lexer": "ipython3",
   "version": "3.12.3"
  }
 },
 "nbformat": 4,
 "nbformat_minor": 5
}
