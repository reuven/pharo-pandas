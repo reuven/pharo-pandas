{
 "cells": [
  {
   "cell_type": "code",
   "execution_count": 1,
   "id": "ffd9b944-3bc5-4352-839b-f10dc135a52e",
   "metadata": {},
   "outputs": [],
   "source": [
    "# Agenda\n",
    "# Series\n",
    "# Creating a series\n",
    "# Retrieving from a series with .loc and .iloc\n",
    "# Fancy indexing\n",
    "# Setting an index\n",
    "# Broadcasting and retrieving\n"
   ]
  },
  {
   "cell_type": "code",
   "execution_count": 17,
   "id": "b9c22f32-6f15-40c0-8764-86a36cebe13b",
   "metadata": {},
   "outputs": [
    {
     "data": {
      "text/plain": [
       "0     10.0\n",
       "1     20.0\n",
       "2     30.5\n",
       "3     40.0\n",
       "4     60.0\n",
       "5    100.0\n",
       "6    120.0\n",
       "7    120.5\n",
       "8    150.0\n",
       "9    150.7\n",
       "dtype: float64"
      ]
     },
     "execution_count": 17,
     "metadata": {},
     "output_type": "execute_result"
    }
   ],
   "source": [
    "import pandas as pd\n",
    "from pandas import Series\n",
    "\n",
    "seriesData = Series([10,20,30.5,40,60,100,120,120.5,150,150.7])\n",
    "seriesData"
   ]
  },
  {
   "cell_type": "code",
   "execution_count": 18,
   "id": "c2f17518-d5c4-4eff-8840-f08a1a2d82cc",
   "metadata": {},
   "outputs": [
    {
     "data": {
      "text/plain": [
       "10"
      ]
     },
     "execution_count": 18,
     "metadata": {},
     "output_type": "execute_result"
    }
   ],
   "source": [
    "seriesData.count()"
   ]
  },
  {
   "cell_type": "code",
   "execution_count": 22,
   "id": "b517da08-3b58-46f4-92fd-d0ca1b38ba5d",
   "metadata": {},
   "outputs": [
    {
     "data": {
      "text/plain": [
       "1    20.0\n",
       "2    30.5\n",
       "dtype: float64"
      ]
     },
     "execution_count": 22,
     "metadata": {},
     "output_type": "execute_result"
    }
   ],
   "source": [
    "seriesData.iloc[1:3]"
   ]
  },
  {
   "cell_type": "code",
   "execution_count": null,
   "id": "3fb3eabd-d432-41fa-b19c-f2e1ac5cbf49",
   "metadata": {},
   "outputs": [],
   "source": []
  }
 ],
 "metadata": {
  "kernelspec": {
   "display_name": "Python 3 (ipykernel)",
   "language": "python",
   "name": "python3"
  },
  "language_info": {
   "codemirror_mode": {
    "name": "ipython",
    "version": 3
   },
   "file_extension": ".py",
   "mimetype": "text/x-python",
   "name": "python",
   "nbconvert_exporter": "python",
   "pygments_lexer": "ipython3",
   "version": "3.12.3"
  }
 },
 "nbformat": 4,
 "nbformat_minor": 5
}
