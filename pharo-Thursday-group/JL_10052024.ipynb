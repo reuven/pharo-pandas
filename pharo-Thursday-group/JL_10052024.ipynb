{
 "cells": [
  {
   "cell_type": "code",
   "execution_count": 1,
   "id": "ffd9b944-3bc5-4352-839b-f10dc135a52e",
   "metadata": {},
   "outputs": [],
   "source": [
    "# Agenda\n",
    "# Series\n",
    "# Creating a series\n",
    "# Retrieving from a series with .loc and .iloc\n",
    "# Fancy indexing\n",
    "# Setting an index\n",
    "# Broadcasting and retrieving\n"
   ]
  },
  {
   "cell_type": "code",
   "execution_count": 86,
   "id": "b9c22f32-6f15-40c0-8764-86a36cebe13b",
   "metadata": {},
   "outputs": [],
   "source": [
    "import pandas as pd\n",
    "from pandas import Series\n",
    "\n",
    "seriesData1 = Series([10,9,10,9,7,10,11,10,12,13])\n",
    "seriesData2 = Series([18,19,22,23,22,25,19,21,22,25])"
   ]
  },
  {
   "cell_type": "code",
   "execution_count": 91,
   "id": "c2f17518-d5c4-4eff-8840-f08a1a2d82cc",
   "metadata": {},
   "outputs": [
    {
     "data": {
      "text/plain": [
       "10"
      ]
     },
     "execution_count": 91,
     "metadata": {},
     "output_type": "execute_result"
    }
   ],
   "source": [
    "seriesData1.count()\n",
    "seriesData2.count()"
   ]
  },
  {
   "cell_type": "code",
   "execution_count": 32,
   "id": "b517da08-3b58-46f4-92fd-d0ca1b38ba5d",
   "metadata": {},
   "outputs": [
    {
     "data": {
      "text/plain": [
       "16.5"
      ]
     },
     "execution_count": 32,
     "metadata": {},
     "output_type": "execute_result"
    }
   ],
   "source": [
    "seriesData.iloc[0:4].mean()"
   ]
  },
  {
   "cell_type": "code",
   "execution_count": 50,
   "id": "3fb3eabd-d432-41fa-b19c-f2e1ac5cbf49",
   "metadata": {},
   "outputs": [
    {
     "data": {
      "text/plain": [
       "16.5"
      ]
     },
     "execution_count": 50,
     "metadata": {},
     "output_type": "execute_result"
    }
   ],
   "source": [
    "seriesData.iloc[0:4].median()"
   ]
  },
  {
   "cell_type": "code",
   "execution_count": 34,
   "id": "62ba7b20-3bd2-4688-afdb-dcc184c5ef19",
   "metadata": {},
   "outputs": [
    {
     "data": {
      "text/plain": [
       "18.6"
      ]
     },
     "execution_count": 34,
     "metadata": {},
     "output_type": "execute_result"
    }
   ],
   "source": [
    "seriesData.iloc[5:10].mean()\n"
   ]
  },
  {
   "cell_type": "code",
   "execution_count": 51,
   "id": "b33903ae-5995-414a-8fd4-3694d60e058a",
   "metadata": {},
   "outputs": [
    {
     "data": {
      "text/plain": [
       "19.0"
      ]
     },
     "execution_count": 51,
     "metadata": {},
     "output_type": "execute_result"
    }
   ],
   "source": [
    "seriesData.iloc[5:10].median()"
   ]
  },
  {
   "cell_type": "code",
   "execution_count": 52,
   "id": "3f9f38cd-6bbe-4923-93d5-c48542c7a34b",
   "metadata": {},
   "outputs": [
    {
     "data": {
      "text/plain": [
       "93"
      ]
     },
     "execution_count": 52,
     "metadata": {},
     "output_type": "execute_result"
    }
   ],
   "source": [
    "seriesData.iloc[5:10].sum()"
   ]
  },
  {
   "cell_type": "code",
   "execution_count": 53,
   "id": "8a22b12e-8506-40ad-b49d-48d7443854ab",
   "metadata": {},
   "outputs": [
    {
     "data": {
      "text/plain": [
       "1.140175425099138"
      ]
     },
     "execution_count": 53,
     "metadata": {},
     "output_type": "execute_result"
    }
   ],
   "source": [
    "seriesData.iloc[5:10].std()"
   ]
  },
  {
   "cell_type": "code",
   "execution_count": 54,
   "id": "b3c152c2-45ba-4333-abfa-ad54f0f083ee",
   "metadata": {},
   "outputs": [
    {
     "data": {
      "text/plain": [
       "17"
      ]
     },
     "execution_count": 54,
     "metadata": {},
     "output_type": "execute_result"
    }
   ],
   "source": [
    "seriesData.iloc[5:10].min()"
   ]
  },
  {
   "cell_type": "code",
   "execution_count": 55,
   "id": "f744d990-ca62-4dce-9070-9daab85ae1f1",
   "metadata": {},
   "outputs": [
    {
     "data": {
      "text/plain": [
       "20"
      ]
     },
     "execution_count": 55,
     "metadata": {},
     "output_type": "execute_result"
    }
   ],
   "source": [
    "seriesData.iloc[5:10].max()"
   ]
  },
  {
   "cell_type": "code",
   "execution_count": 56,
   "id": "8b000f45-efa0-4861-bdc1-5f5e5f162b27",
   "metadata": {},
   "outputs": [
    {
     "data": {
      "text/plain": [
       "count    10.000000\n",
       "mean     17.400000\n",
       "std       1.712698\n",
       "min      15.000000\n",
       "25%      16.250000\n",
       "50%      17.500000\n",
       "75%      18.750000\n",
       "max      20.000000\n",
       "dtype: float64"
      ]
     },
     "execution_count": 56,
     "metadata": {},
     "output_type": "execute_result"
    }
   ],
   "source": [
    "seriesData.describe()"
   ]
  },
  {
   "cell_type": "code",
   "execution_count": 42,
   "id": "2fa15aaf-d503-4195-bb44-9dbd044d7ef2",
   "metadata": {},
   "outputs": [
    {
     "data": {
      "text/plain": [
       "count     5.00000\n",
       "mean     16.20000\n",
       "std       1.30384\n",
       "min      15.00000\n",
       "25%      15.00000\n",
       "50%      16.00000\n",
       "75%      17.00000\n",
       "max      18.00000\n",
       "dtype: float64"
      ]
     },
     "execution_count": 42,
     "metadata": {},
     "output_type": "execute_result"
    }
   ],
   "source": [
    "seriesData.loc[:4].describe()"
   ]
  },
  {
   "cell_type": "code",
   "execution_count": 43,
   "id": "385576bb-2845-41b7-aa02-ca2449214c09",
   "metadata": {},
   "outputs": [
    {
     "data": {
      "text/plain": [
       "count     5.000000\n",
       "mean     18.600000\n",
       "std       1.140175\n",
       "min      17.000000\n",
       "25%      18.000000\n",
       "50%      19.000000\n",
       "75%      19.000000\n",
       "max      20.000000\n",
       "dtype: float64"
      ]
     },
     "execution_count": 43,
     "metadata": {},
     "output_type": "execute_result"
    }
   ],
   "source": [
    "seriesData.loc[5:].describe()"
   ]
  },
  {
   "cell_type": "code",
   "execution_count": 44,
   "id": "6c8c4942-4b16-4fcc-a06f-7bc5f326bdb8",
   "metadata": {},
   "outputs": [
    {
     "ename": "TypeError",
     "evalue": "'Index' object is not callable",
     "output_type": "error",
     "traceback": [
      "\u001b[0;31m---------------------------------------------------------------------------\u001b[0m",
      "\u001b[0;31mTypeError\u001b[0m                                 Traceback (most recent call last)",
      "Cell \u001b[0;32mIn[44], line 1\u001b[0m\n\u001b[0;32m----> 1\u001b[0m \u001b[43mseriesData\u001b[49m\u001b[38;5;241;43m.\u001b[39;49m\u001b[43mloc\u001b[49m\u001b[43m[\u001b[49m\u001b[43m:\u001b[49m\u001b[38;5;241;43m4\u001b[39;49m\u001b[43m]\u001b[49m\u001b[38;5;241;43m.\u001b[39;49m\u001b[43mdescribe\u001b[49m\u001b[43m(\u001b[49m\u001b[43m)\u001b[49m\u001b[38;5;241;43m.\u001b[39;49m\u001b[43mindex\u001b[49m\u001b[43m(\u001b[49m\u001b[43m)\u001b[49m\n",
      "\u001b[0;31mTypeError\u001b[0m: 'Index' object is not callable"
     ]
    }
   ],
   "source": [
    "seriesData.loc[:4].describe().index()"
   ]
  },
  {
   "cell_type": "code",
   "execution_count": 69,
   "id": "75422d64-b5db-4a89-b7a3-279644ae6a0a",
   "metadata": {},
   "outputs": [],
   "source": [
    "seriesData.index = ['MON','TUE','WED','THU','FRI','SAT','SUN','MON','TUE','WED']"
   ]
  },
  {
   "cell_type": "code",
   "execution_count": 70,
   "id": "1f4ecae3-b585-44f8-9326-bbfc44852107",
   "metadata": {},
   "outputs": [
    {
     "data": {
      "text/plain": [
       "MON    15\n",
       "TUE    16\n",
       "WED    17\n",
       "THU    18\n",
       "FRI    15\n",
       "SAT    19\n",
       "SUN    20\n",
       "MON    19\n",
       "TUE    17\n",
       "WED    18\n",
       "dtype: int64"
      ]
     },
     "execution_count": 70,
     "metadata": {},
     "output_type": "execute_result"
    }
   ],
   "source": [
    "seriesData"
   ]
  },
  {
   "cell_type": "code",
   "execution_count": 71,
   "id": "99623bcf-d7ee-4f0b-a7ea-54590f32dd9c",
   "metadata": {},
   "outputs": [
    {
     "data": {
      "text/plain": [
       "MON    15\n",
       "TUE    16\n",
       "WED    17\n",
       "THU    18\n",
       "FRI    15\n",
       "SAT    19\n",
       "SUN    20\n",
       "MON    19\n",
       "TUE    17\n",
       "WED    18\n",
       "dtype: int64"
      ]
     },
     "execution_count": 71,
     "metadata": {},
     "output_type": "execute_result"
    }
   ],
   "source": [
    "seriesData"
   ]
  },
  {
   "cell_type": "code",
   "execution_count": 73,
   "id": "3b3144ee-a7c7-47b9-bba5-a056451aee1f",
   "metadata": {},
   "outputs": [
    {
     "data": {
      "text/plain": [
       "MON    15\n",
       "MON    19\n",
       "dtype: int64"
      ]
     },
     "execution_count": 73,
     "metadata": {},
     "output_type": "execute_result"
    }
   ],
   "source": [
    "seriesData.loc['MON']"
   ]
  },
  {
   "cell_type": "code",
   "execution_count": 74,
   "id": "a797147f-1318-4299-88d3-b51296fb78b5",
   "metadata": {},
   "outputs": [
    {
     "data": {
      "text/plain": [
       "17.0"
      ]
     },
     "execution_count": 74,
     "metadata": {},
     "output_type": "execute_result"
    }
   ],
   "source": [
    "seriesData.loc['MON'].mean()"
   ]
  },
  {
   "cell_type": "code",
   "execution_count": 76,
   "id": "13230596-8b97-4d08-a868-c9d10ff4becb",
   "metadata": {},
   "outputs": [
    {
     "data": {
      "text/plain": [
       "MON    15\n",
       "MON    19\n",
       "FRI    15\n",
       "dtype: int64"
      ]
     },
     "execution_count": 76,
     "metadata": {},
     "output_type": "execute_result"
    }
   ],
   "source": [
    "seriesData.loc[['MON', 'FRI']]"
   ]
  },
  {
   "cell_type": "code",
   "execution_count": 80,
   "id": "1a079dd3-a93b-4bef-93ee-738c1b7c5d90",
   "metadata": {},
   "outputs": [
    {
     "data": {
      "text/plain": [
       "MON    15\n",
       "MON    19\n",
       "TUE    16\n",
       "TUE    17\n",
       "FRI    15\n",
       "dtype: int64"
      ]
     },
     "execution_count": 80,
     "metadata": {},
     "output_type": "execute_result"
    }
   ],
   "source": [
    "seriesData.loc[['MON','TUE', 'FRI']]"
   ]
  },
  {
   "cell_type": "raw",
   "id": "fce2aab8-5cc8-4c8a-bd48-c80c49bb46ed",
   "metadata": {},
   "source": [
    "seriesData1.count()"
   ]
  },
  {
   "cell_type": "code",
   "execution_count": 100,
   "id": "081becd1-e2d3-4253-bf33-dd417d5fecb5",
   "metadata": {},
   "outputs": [
    {
     "ename": "SyntaxError",
     "evalue": "invalid syntax. Maybe you meant '==' or ':=' instead of '='? (4272863411.py, line 6)",
     "output_type": "error",
     "traceback": [
      "\u001b[0;36m  Cell \u001b[0;32mIn[100], line 6\u001b[0;36m\u001b[0m\n\u001b[0;31m    seriesData2 = Series([18,19,22,23,22,25,19,21,22,25]),index='MON TUE WED THU FRI SAT SUN MON TUE WED'.split()\u001b[0m\n\u001b[0m    ^\u001b[0m\n\u001b[0;31mSyntaxError\u001b[0m\u001b[0;31m:\u001b[0m invalid syntax. Maybe you meant '==' or ':=' instead of '='?\n"
     ]
    }
   ],
   "source": [
    "import pandas as pd\n",
    "from pandas import Series\n",
    "\n",
    "seriesData1 = Series([10,9,10,9,7,10,11,10,12,13])\n",
    "seriesData1.index = ['MON','TUE','WED','THU','FRI','SAT','SUN','MON','TUE','WED']\n",
    "seriesData2 = Series([18,19,22,23,22,25,19,21,22,25]),index='MON TUE WED THU FRI SAT SUN MON TUE WED'.split()\n",
    "## seriesData2.index = ['MON','TUE','WED','THU','FRI','SAT','SUN','MON','TUE','WED']"
   ]
  },
  {
   "cell_type": "code",
   "execution_count": 98,
   "id": "4e8c83ea-c5ae-4014-ae48-8ce6b6511697",
   "metadata": {},
   "outputs": [
    {
     "data": {
      "text/plain": [
       "MON    10\n",
       "TUE     9\n",
       "WED    10\n",
       "THU     9\n",
       "FRI     7\n",
       "SAT    10\n",
       "SUN    11\n",
       "MON    10\n",
       "TUE    12\n",
       "WED    13\n",
       "dtype: int64"
      ]
     },
     "execution_count": 98,
     "metadata": {},
     "output_type": "execute_result"
    }
   ],
   "source": [
    "seriesData1"
   ]
  },
  {
   "cell_type": "code",
   "execution_count": null,
   "id": "550661cc-f944-4344-b63c-df27be19365c",
   "metadata": {},
   "outputs": [],
   "source": []
  }
 ],
 "metadata": {
  "kernelspec": {
   "display_name": "Python 3 (ipykernel)",
   "language": "python",
   "name": "python3"
  },
  "language_info": {
   "codemirror_mode": {
    "name": "ipython",
    "version": 3
   },
   "file_extension": ".py",
   "mimetype": "text/x-python",
   "name": "python",
   "nbconvert_exporter": "python",
   "pygments_lexer": "ipython3",
   "version": "3.12.3"
  }
 },
 "nbformat": 4,
 "nbformat_minor": 5
}
