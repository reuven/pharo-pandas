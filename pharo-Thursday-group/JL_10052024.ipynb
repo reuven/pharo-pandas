{
 "cells": [
  {
   "cell_type": "code",
   "execution_count": 1,
   "id": "ffd9b944-3bc5-4352-839b-f10dc135a52e",
   "metadata": {},
   "outputs": [],
   "source": [
    "# Agenda\n",
    "# Series\n",
    "# Creating a series\n",
    "# Retrieving from a series with .loc and .iloc\n",
    "# Fancy indexing\n",
    "# Setting an index\n",
    "# Broadcasting and retrieving\n"
   ]
  },
  {
   "cell_type": "code",
   "execution_count": 4,
   "id": "b9c22f32-6f15-40c0-8764-86a36cebe13b",
   "metadata": {},
   "outputs": [
    {
     "ename": "NameError",
     "evalue": "name 'Series' is not defined",
     "output_type": "error",
     "traceback": [
      "\u001b[0;31m---------------------------------------------------------------------------\u001b[0m",
      "\u001b[0;31mNameError\u001b[0m                                 Traceback (most recent call last)",
      "Cell \u001b[0;32mIn[4], line 1\u001b[0m\n\u001b[0;32m----> 1\u001b[0m seriesData \u001b[38;5;241m=\u001b[39m \u001b[43mSeries\u001b[49m([\u001b[38;5;241m10\u001b[39m,\u001b[38;5;241m20\u001b[39m,\u001b[38;5;241m30.5\u001b[39m,\u001b[38;5;241m40\u001b[39m,\u001b[38;5;241m60\u001b[39m,\u001b[38;5;241m100\u001b[39m])\n",
      "\u001b[0;31mNameError\u001b[0m: name 'Series' is not defined"
     ]
    }
   ],
   "source": [
    "seriesData = Series([10,20,30.5,40,60,100])\n"
   ]
  },
  {
   "cell_type": "code",
   "execution_count": null,
   "id": "c2f17518-d5c4-4eff-8840-f08a1a2d82cc",
   "metadata": {},
   "outputs": [],
   "source": []
  }
 ],
 "metadata": {
  "kernelspec": {
   "display_name": "Python 3 (ipykernel)",
   "language": "python",
   "name": "python3"
  },
  "language_info": {
   "codemirror_mode": {
    "name": "ipython",
    "version": 3
   },
   "file_extension": ".py",
   "mimetype": "text/x-python",
   "name": "python",
   "nbconvert_exporter": "python",
   "pygments_lexer": "ipython3",
   "version": "3.12.3"
  }
 },
 "nbformat": 4,
 "nbformat_minor": 5
}
