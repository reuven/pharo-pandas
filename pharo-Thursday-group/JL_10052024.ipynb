{
 "cells": [
  {
   "cell_type": "code",
   "execution_count": 1,
   "id": "ffd9b944-3bc5-4352-839b-f10dc135a52e",
   "metadata": {},
   "outputs": [],
   "source": [
    "# Agenda\n",
    "# Series\n",
    "# Creating a series\n",
    "# Retrieving from a series with .loc and .iloc\n",
    "# Fancy indexing\n",
    "# Setting an index\n",
    "# Broadcasting and retrieving\n"
   ]
  },
  {
   "cell_type": "code",
   "execution_count": 30,
   "id": "b9c22f32-6f15-40c0-8764-86a36cebe13b",
   "metadata": {},
   "outputs": [
    {
     "data": {
      "text/plain": [
       "0    15\n",
       "1    16\n",
       "2    17\n",
       "3    18\n",
       "4    15\n",
       "5    19\n",
       "6    20\n",
       "7    19\n",
       "8    17\n",
       "9    18\n",
       "dtype: int64"
      ]
     },
     "execution_count": 30,
     "metadata": {},
     "output_type": "execute_result"
    }
   ],
   "source": [
    "import pandas as pd\n",
    "from pandas import Series\n",
    "\n",
    "seriesData = Series([15,16,17,18,15,19,20,19,17,18])\n",
    "seriesData"
   ]
  },
  {
   "cell_type": "code",
   "execution_count": 31,
   "id": "c2f17518-d5c4-4eff-8840-f08a1a2d82cc",
   "metadata": {},
   "outputs": [
    {
     "data": {
      "text/plain": [
       "10"
      ]
     },
     "execution_count": 31,
     "metadata": {},
     "output_type": "execute_result"
    }
   ],
   "source": [
    "seriesData.count()"
   ]
  },
  {
   "cell_type": "code",
   "execution_count": 32,
   "id": "b517da08-3b58-46f4-92fd-d0ca1b38ba5d",
   "metadata": {},
   "outputs": [
    {
     "data": {
      "text/plain": [
       "16.5"
      ]
     },
     "execution_count": 32,
     "metadata": {},
     "output_type": "execute_result"
    }
   ],
   "source": [
    "seriesData.iloc[0:4].mean()"
   ]
  },
  {
   "cell_type": "code",
   "execution_count": 33,
   "id": "3fb3eabd-d432-41fa-b19c-f2e1ac5cbf49",
   "metadata": {},
   "outputs": [
    {
     "data": {
      "text/plain": [
       "16.5"
      ]
     },
     "execution_count": 33,
     "metadata": {},
     "output_type": "execute_result"
    }
   ],
   "source": [
    "seriesData.iloc[0:4].median()"
   ]
  },
  {
   "cell_type": "code",
   "execution_count": 34,
   "id": "62ba7b20-3bd2-4688-afdb-dcc184c5ef19",
   "metadata": {},
   "outputs": [
    {
     "data": {
      "text/plain": [
       "18.6"
      ]
     },
     "execution_count": 34,
     "metadata": {},
     "output_type": "execute_result"
    }
   ],
   "source": [
    "seriesData.iloc[5:10].mean()\n"
   ]
  },
  {
   "cell_type": "code",
   "execution_count": 35,
   "id": "b33903ae-5995-414a-8fd4-3694d60e058a",
   "metadata": {},
   "outputs": [
    {
     "data": {
      "text/plain": [
       "19.0"
      ]
     },
     "execution_count": 35,
     "metadata": {},
     "output_type": "execute_result"
    }
   ],
   "source": [
    "seriesData.iloc[5:10].median()"
   ]
  },
  {
   "cell_type": "code",
   "execution_count": 36,
   "id": "3f9f38cd-6bbe-4923-93d5-c48542c7a34b",
   "metadata": {},
   "outputs": [
    {
     "data": {
      "text/plain": [
       "93"
      ]
     },
     "execution_count": 36,
     "metadata": {},
     "output_type": "execute_result"
    }
   ],
   "source": [
    "seriesData.iloc[5:10].sum()"
   ]
  },
  {
   "cell_type": "code",
   "execution_count": 37,
   "id": "8a22b12e-8506-40ad-b49d-48d7443854ab",
   "metadata": {},
   "outputs": [
    {
     "data": {
      "text/plain": [
       "1.140175425099138"
      ]
     },
     "execution_count": 37,
     "metadata": {},
     "output_type": "execute_result"
    }
   ],
   "source": [
    "seriesData.iloc[5:10].std()"
   ]
  },
  {
   "cell_type": "code",
   "execution_count": 38,
   "id": "b3c152c2-45ba-4333-abfa-ad54f0f083ee",
   "metadata": {},
   "outputs": [
    {
     "data": {
      "text/plain": [
       "17"
      ]
     },
     "execution_count": 38,
     "metadata": {},
     "output_type": "execute_result"
    }
   ],
   "source": [
    "seriesData.iloc[5:10].min()"
   ]
  },
  {
   "cell_type": "code",
   "execution_count": 39,
   "id": "f744d990-ca62-4dce-9070-9daab85ae1f1",
   "metadata": {},
   "outputs": [
    {
     "data": {
      "text/plain": [
       "20"
      ]
     },
     "execution_count": 39,
     "metadata": {},
     "output_type": "execute_result"
    }
   ],
   "source": [
    "seriesData.iloc[5:10].max()"
   ]
  },
  {
   "cell_type": "code",
   "execution_count": null,
   "id": "8b000f45-efa0-4861-bdc1-5f5e5f162b27",
   "metadata": {},
   "outputs": [],
   "source": []
  }
 ],
 "metadata": {
  "kernelspec": {
   "display_name": "Python 3 (ipykernel)",
   "language": "python",
   "name": "python3"
  },
  "language_info": {
   "codemirror_mode": {
    "name": "ipython",
    "version": 3
   },
   "file_extension": ".py",
   "mimetype": "text/x-python",
   "name": "python",
   "nbconvert_exporter": "python",
   "pygments_lexer": "ipython3",
   "version": "3.12.3"
  }
 },
 "nbformat": 4,
 "nbformat_minor": 5
}
