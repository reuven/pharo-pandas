{
 "cells": [
  {
   "cell_type": "code",
   "execution_count": 1,
   "id": "ffd9b944-3bc5-4352-839b-f10dc135a52e",
   "metadata": {},
   "outputs": [],
   "source": [
    "# Agenda\n",
    "# Series\n",
    "# Creating a series\n",
    "# Retrieving from a series with .loc and .iloc\n",
    "# Fancy indexing\n",
    "# Setting an index\n",
    "# Broadcasting and retrieving\n"
   ]
  },
  {
   "cell_type": "code",
   "execution_count": null,
   "id": "b9c22f32-6f15-40c0-8764-86a36cebe13b",
   "metadata": {},
   "outputs": [],
   "source": [
    "seriesData = Series([10,20,])"
   ]
  }
 ],
 "metadata": {
  "kernelspec": {
   "display_name": "Python 3 (ipykernel)",
   "language": "python",
   "name": "python3"
  },
  "language_info": {
   "codemirror_mode": {
    "name": "ipython",
    "version": 3
   },
   "file_extension": ".py",
   "mimetype": "text/x-python",
   "name": "python",
   "nbconvert_exporter": "python",
   "pygments_lexer": "ipython3",
   "version": "3.12.3"
  }
 },
 "nbformat": 4,
 "nbformat_minor": 5
}
