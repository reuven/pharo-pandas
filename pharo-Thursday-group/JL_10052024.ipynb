{
 "cells": [
  {
   "cell_type": "code",
   "execution_count": null,
   "id": "ffd9b944-3bc5-4352-839b-f10dc135a52e",
   "metadata": {},
   "outputs": [],
   "source": []
  }
 ],
 "metadata": {
  "kernelspec": {
   "display_name": "",
   "name": ""
  },
  "language_info": {
   "name": ""
  }
 },
 "nbformat": 4,
 "nbformat_minor": 5
}
