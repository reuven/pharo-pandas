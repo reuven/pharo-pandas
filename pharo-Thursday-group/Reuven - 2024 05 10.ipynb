{
 "cells": [
  {
   "cell_type": "markdown",
   "id": "09f5b8cb-264e-41fa-8deb-7d3100c0f4d0",
   "metadata": {},
   "source": [
    "# Agenda\n",
    "\n",
    "1. Series\n",
    "2. Creating a series\n",
    "3. Retrieving from a series with `.loc` and `.iloc`\n",
    "5. Fancy indexing\n",
    "6. Setting an index\n",
    "7. Broadcasting and retrieving"
   ]
  },
  {
   "cell_type": "markdown",
   "id": "d43cd107-e623-499f-8d28-06c24546cacc",
   "metadata": {},
   "source": [
    "import pandas as pd\n",
    "from pandas import Series"
   ]
  },
  {
   "cell_type": "code",
   "execution_count": null,
   "id": "c333c5b8-f9bd-4145-8b2f-31d2e87fc98f",
   "metadata": {},
   "outputs": [],
   "source": []
  }
 ],
 "metadata": {
  "kernelspec": {
   "display_name": "Python 3 (ipykernel)",
   "language": "python",
   "name": "python3"
  },
  "language_info": {
   "codemirror_mode": {
    "name": "ipython",
    "version": 3
   },
   "file_extension": ".py",
   "mimetype": "text/x-python",
   "name": "python",
   "nbconvert_exporter": "python",
   "pygments_lexer": "ipython3",
   "version": "3.12.3"
  }
 },
 "nbformat": 4,
 "nbformat_minor": 5
}
