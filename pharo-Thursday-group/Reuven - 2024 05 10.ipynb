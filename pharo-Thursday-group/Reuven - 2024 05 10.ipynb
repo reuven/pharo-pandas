{
 "cells": [
  {
   "cell_type": "markdown",
   "id": "09f5b8cb-264e-41fa-8deb-7d3100c0f4d0",
   "metadata": {},
   "source": [
    "# Agenda\n",
    "\n",
    "1. Series\n",
    "2. Creating a series\n",
    "3. Retrieving from a series with `.loc` and `.iloc`\n",
    "5. Fancy indexing\n",
    "6. Setting an index\n",
    "7. Broadcasting and retrieving"
   ]
  },
  {
   "cell_type": "code",
   "execution_count": 1,
   "id": "e65612e6-ded9-4b6b-9b2d-da4b4a53c446",
   "metadata": {},
   "outputs": [],
   "source": [
    "import pandas as pd\n",
    "from pandas import Series"
   ]
  },
  {
   "cell_type": "code",
   "execution_count": 2,
   "id": "c333c5b8-f9bd-4145-8b2f-31d2e87fc98f",
   "metadata": {},
   "outputs": [],
   "source": [
    "s = Series([10, 20, 30, 40, 50])"
   ]
  },
  {
   "cell_type": "code",
   "execution_count": 3,
   "id": "c36db363-8f70-465a-8386-5ef4f2c7c794",
   "metadata": {},
   "outputs": [
    {
     "data": {
      "text/plain": [
       "pandas.core.series.Series"
      ]
     },
     "execution_count": 3,
     "metadata": {},
     "output_type": "execute_result"
    }
   ],
   "source": [
    "type(s)"
   ]
  },
  {
   "cell_type": "code",
   "execution_count": 4,
   "id": "9a20bd79-d895-428d-935a-c032f6a24d4c",
   "metadata": {},
   "outputs": [
    {
     "data": {
      "text/plain": [
       "0    10\n",
       "1    20\n",
       "2    30\n",
       "3    40\n",
       "4    50\n",
       "dtype: int64"
      ]
     },
     "execution_count": 4,
     "metadata": {},
     "output_type": "execute_result"
    }
   ],
   "source": [
    "s"
   ]
  },
  {
   "cell_type": "markdown",
   "id": "2fe2a15a-8085-4e52-80c4-57e18c81af29",
   "metadata": {},
   "source": [
    "# Series vs. list\n",
    "\n",
    "A Python list can contain any number of values, of any types, including a mix of any types. It's traditional not to do that, but there's no technical barrier from doing so.\n",
    "\n",
    "By contrast, a series *must* contain values that are all of the same type. There is no way around this.\n",
    "\n",
    "The type of data that a series contains is determined by its `dtype`. By default, if it sees that we're creating a series with integers, Pandas will use a `dtype` of \"int64\", meaning 64-bit (8-byte) integers. "
   ]
  },
  {
   "cell_type": "code",
   "execution_count": null,
   "id": "46bbc358-fd70-4322-b948-30a6a78fd4b4",
   "metadata": {},
   "outputs": [],
   "source": []
  }
 ],
 "metadata": {
  "kernelspec": {
   "display_name": "Python 3 (ipykernel)",
   "language": "python",
   "name": "python3"
  },
  "language_info": {
   "codemirror_mode": {
    "name": "ipython",
    "version": 3
   },
   "file_extension": ".py",
   "mimetype": "text/x-python",
   "name": "python",
   "nbconvert_exporter": "python",
   "pygments_lexer": "ipython3",
   "version": "3.12.3"
  }
 },
 "nbformat": 4,
 "nbformat_minor": 5
}
