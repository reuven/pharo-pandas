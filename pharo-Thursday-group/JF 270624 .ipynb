{
 "cells": [
  {
   "cell_type": "code",
   "execution_count": 2,
   "id": "aa672d67-c950-4cda-9c07-06858deb4977",
   "metadata": {},
   "outputs": [],
   "source": [
    "import pandas as pd\n",
    "import numpy as np\n",
    "from pandas import Series, DataFrame"
   ]
  },
  {
   "cell_type": "code",
   "execution_count": 3,
   "id": "a48266d2-7d8f-44c1-a191-3658eadcdc4e",
   "metadata": {},
   "outputs": [
    {
     "data": {
      "text/plain": [
       "a    -6\n",
       "c    -3\n",
       "e    14\n",
       "g    17\n",
       "i    17\n",
       "h   -41\n",
       "f    33\n",
       "j   -29\n",
       "d   -14\n",
       "b    37\n",
       "dtype: int64"
      ]
     },
     "execution_count": 3,
     "metadata": {},
     "output_type": "execute_result"
    }
   ],
   "source": [
    "np.random.seed(0)\n",
    "s = Series(np.random.randint(-50, 50, 10),\n",
    "           index=list('acegihfjdb'))\n",
    "s"
   ]
  },
  {
   "cell_type": "code",
   "execution_count": 4,
   "id": "8ea61863-c519-4271-8e5e-1504697a6469",
   "metadata": {},
   "outputs": [
    {
     "data": {
      "text/plain": [
       "14"
      ]
     },
     "execution_count": 4,
     "metadata": {},
     "output_type": "execute_result"
    }
   ],
   "source": [
    "s.loc['e']"
   ]
  },
  {
   "cell_type": "code",
   "execution_count": 5,
   "id": "8b46974c-b95a-4422-864d-be77166e4e31",
   "metadata": {},
   "outputs": [
    {
     "data": {
      "text/plain": [
       "e    14\n",
       "a    -6\n",
       "dtype: int64"
      ]
     },
     "execution_count": 5,
     "metadata": {},
     "output_type": "execute_result"
    }
   ],
   "source": [
    "# fancy index\n",
    "s.loc[['e','a']]"
   ]
  },
  {
   "cell_type": "code",
   "execution_count": null,
   "id": "d06317d5-5013-4bde-a1e8-2e0eaad39038",
   "metadata": {},
   "outputs": [],
   "source": [
    "s.lic['e':'h'"
   ]
  }
 ],
 "metadata": {
  "kernelspec": {
   "display_name": "Python 3 (ipykernel)",
   "language": "python",
   "name": "python3"
  },
  "language_info": {
   "codemirror_mode": {
    "name": "ipython",
    "version": 3
   },
   "file_extension": ".py",
   "mimetype": "text/x-python",
   "name": "python",
   "nbconvert_exporter": "python",
   "pygments_lexer": "ipython3",
   "version": "3.12.3"
  }
 },
 "nbformat": 4,
 "nbformat_minor": 5
}
