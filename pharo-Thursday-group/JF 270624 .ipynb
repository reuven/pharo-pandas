{
 "cells": [
  {
   "cell_type": "code",
   "execution_count": 2,
   "id": "aa672d67-c950-4cda-9c07-06858deb4977",
   "metadata": {},
   "outputs": [],
   "source": [
    "import pandas as pd\n",
    "import numpy as np\n",
    "from pandas import Series, DataFrame"
   ]
  },
  {
   "cell_type": "code",
   "execution_count": 8,
   "id": "a48266d2-7d8f-44c1-a191-3658eadcdc4e",
   "metadata": {},
   "outputs": [
    {
     "data": {
      "text/plain": [
       "a    -6\n",
       "c    -3\n",
       "e    14\n",
       "g    17\n",
       "i    17\n",
       "h   -41\n",
       "f    33\n",
       "j   -29\n",
       "d   -14\n",
       "b    37\n",
       "dtype: int64"
      ]
     },
     "execution_count": 8,
     "metadata": {},
     "output_type": "execute_result"
    }
   ],
   "source": [
    "np.random.seed(0)\n",
    "s = Series(np.random.randint(-50, 50, 10),\n",
    "           index=list('acegihfjdb'))\n",
    "s"
   ]
  },
  {
   "cell_type": "code",
   "execution_count": 4,
   "id": "8ea61863-c519-4271-8e5e-1504697a6469",
   "metadata": {},
   "outputs": [
    {
     "data": {
      "text/plain": [
       "14"
      ]
     },
     "execution_count": 4,
     "metadata": {},
     "output_type": "execute_result"
    }
   ],
   "source": [
    "s.loc['e']"
   ]
  },
  {
   "cell_type": "code",
   "execution_count": 5,
   "id": "8b46974c-b95a-4422-864d-be77166e4e31",
   "metadata": {},
   "outputs": [
    {
     "data": {
      "text/plain": [
       "e    14\n",
       "a    -6\n",
       "dtype: int64"
      ]
     },
     "execution_count": 5,
     "metadata": {},
     "output_type": "execute_result"
    }
   ],
   "source": [
    "# fancy index\n",
    "s.loc[['e','a']]"
   ]
  },
  {
   "cell_type": "code",
   "execution_count": 6,
   "id": "d06317d5-5013-4bde-a1e8-2e0eaad39038",
   "metadata": {},
   "outputs": [
    {
     "data": {
      "text/plain": [
       "e    14\n",
       "g    17\n",
       "i    17\n",
       "h   -41\n",
       "dtype: int64"
      ]
     },
     "execution_count": 6,
     "metadata": {},
     "output_type": "execute_result"
    }
   ],
   "source": [
    "s.loc['e':'h']"
   ]
  },
  {
   "cell_type": "code",
   "execution_count": 7,
   "id": "761aad17-b1f9-4806-b567-d85200b4cf0c",
   "metadata": {},
   "outputs": [
    {
     "data": {
      "text/plain": [
       "a    -6\n",
       "b    37\n",
       "c    -3\n",
       "d   -14\n",
       "e    14\n",
       "dtype: int64"
      ]
     },
     "execution_count": 7,
     "metadata": {},
     "output_type": "execute_result"
    }
   ],
   "source": [
    "# sort the index\n",
    "(\n",
    "    s\n",
    "    .sort_index()\n",
    "    .head()\n",
    ")"
   ]
  },
  {
   "cell_type": "code",
   "execution_count": 10,
   "id": "5200c908-f856-44d4-b19b-8868c8e23180",
   "metadata": {},
   "outputs": [
    {
     "data": {
      "text/plain": [
       "a    -6\n",
       "b    -3\n",
       "c    14\n",
       "f    17\n",
       "h    17\n",
       "i   -41\n",
       "a    33\n",
       "j   -29\n",
       "b   -14\n",
       "l    37\n",
       "dtype: int64"
      ]
     },
     "execution_count": 10,
     "metadata": {},
     "output_type": "execute_result"
    }
   ],
   "source": [
    "np.random.seed(0)\n",
    "s = Series(np.random.randint(-50, 50, 10),\n",
    "           index=list('abcfhiajbl'))\n",
    "s"
   ]
  },
  {
   "cell_type": "code",
   "execution_count": 11,
   "id": "b5b200ab-2fe3-472c-93b3-f9488b1eb58c",
   "metadata": {},
   "outputs": [
    {
     "data": {
      "text/plain": [
       "a    -6\n",
       "a    33\n",
       "b    -3\n",
       "b   -14\n",
       "c    14\n",
       "dtype: int64"
      ]
     },
     "execution_count": 11,
     "metadata": {},
     "output_type": "execute_result"
    }
   ],
   "source": [
    "(\n",
    "    s\n",
    "    .sort_index()\n",
    "    ['a':'c']\n",
    ")\n"
   ]
  },
  {
   "cell_type": "code",
   "execution_count": 13,
   "id": "86276bf0-002a-4f72-bf7d-cf457321cec2",
   "metadata": {},
   "outputs": [
    {
     "data": {
      "text/plain": [
       "i   -41\n",
       "j   -29\n",
       "b   -14\n",
       "a    -6\n",
       "b    -3\n",
       "c    14\n",
       "f    17\n",
       "h    17\n",
       "a    33\n",
       "l    37\n",
       "dtype: int64"
      ]
     },
     "execution_count": 13,
     "metadata": {},
     "output_type": "execute_result"
    }
   ],
   "source": [
    "# sort_values method to sort by value\n",
    "s.sort_values()"
   ]
  },
  {
   "cell_type": "code",
   "execution_count": 24,
   "id": "d39e6c0f-6ee9-4612-bf1c-6d9cb85dfd28",
   "metadata": {},
   "outputs": [
    {
     "data": {
      "text/plain": [
       "Jack       25\n",
       "Gary       60\n",
       "Jenny      86\n",
       "Jason      12\n",
       "Greg        5\n",
       "Charles    49\n",
       "Matilda    32\n",
       "dtype: int64"
      ]
     },
     "execution_count": 24,
     "metadata": {},
     "output_type": "execute_result"
    }
   ],
   "source": [
    "s = Series([25, 60, 86, 12, 5, 49, 32],\n",
    "           index=('Jack','Gary','Jenny','Jason','Greg','Charles','Matilda'))\n",
    "s"
   ]
  },
  {
   "cell_type": "code",
   "execution_count": 25,
   "id": "94b42126-1a89-475b-bf82-d616b73ba875",
   "metadata": {},
   "outputs": [
    {
     "data": {
      "text/plain": [
       "38.0"
      ]
     },
     "execution_count": 25,
     "metadata": {},
     "output_type": "execute_result"
    }
   ],
   "source": [
    "# mean age of first 3 people\n",
    "(\n",
    "    s\n",
    "    .sort_index()\n",
    "    .head(3)\n",
    "    .mean()\n",
    ")"
   ]
  },
  {
   "cell_type": "code",
   "execution_count": 35,
   "id": "151d1463-ffad-41ae-9c8e-b1ff230d946e",
   "metadata": {},
   "outputs": [
    {
     "data": {
      "text/plain": [
       "Greg    5\n",
       "dtype: int64"
      ]
     },
     "execution_count": 35,
     "metadata": {},
     "output_type": "execute_result"
    }
   ],
   "source": [
    "# names of eldest and youngest\n",
    "(\n",
    "    s\n",
    "    .sort_values()\n",
    "    .head(1)\n",
    ")"
   ]
  },
  {
   "cell_type": "code",
   "execution_count": 36,
   "id": "f6ebf968-250c-462d-bc35-d19f96d27ca3",
   "metadata": {},
   "outputs": [
    {
     "data": {
      "text/plain": [
       "'Greg'"
      ]
     },
     "execution_count": 36,
     "metadata": {},
     "output_type": "execute_result"
    }
   ],
   "source": []
  },
  {
   "cell_type": "code",
   "execution_count": 43,
   "id": "d0661d0e-8c42-4435-a0e5-f387f115ff40",
   "metadata": {},
   "outputs": [
    {
     "data": {
      "text/plain": [
       "Greg      5\n",
       "Jenny    86\n",
       "dtype: int64"
      ]
     },
     "execution_count": 43,
     "metadata": {},
     "output_type": "execute_result"
    }
   ],
   "source": [
    "(\n",
    "    s\n",
    "    .sort_values()\n",
    "    .iloc[[0, -1]]\n",
    ")"
   ]
  },
  {
   "cell_type": "code",
   "execution_count": 40,
   "id": "2a3f8b92-6611-4c92-ba7f-1f14a9cedbcf",
   "metadata": {},
   "outputs": [
    {
     "data": {
      "text/plain": [
       "idxmin     Greg\n",
       "idxmax    Jenny\n",
       "dtype: object"
      ]
     },
     "execution_count": 40,
     "metadata": {},
     "output_type": "execute_result"
    }
   ],
   "source": [
    "# Aggregate idxmin and idxmax methods\n",
    "(\n",
    "    s\n",
    "    .agg(['idxmin', 'idxmax'])\n",
    ")"
   ]
  },
  {
   "cell_type": "code",
   "execution_count": 44,
   "id": "a3dc5dac-2fec-4599-a41f-02da6542767f",
   "metadata": {},
   "outputs": [
    {
     "data": {
      "text/plain": [
       "Jenny      86\n",
       "Gary       60\n",
       "Charles    49\n",
       "Matilda    32\n",
       "Jack       25\n",
       "Jason      12\n",
       "Greg        5\n",
       "dtype: int64"
      ]
     },
     "execution_count": 44,
     "metadata": {},
     "output_type": "execute_result"
    }
   ],
   "source": [
    "# sort in descending order\n",
    "\n",
    "(\n",
    "    s\n",
    "    .sort_values(ascending=False)\n",
    ")"
   ]
  },
  {
   "cell_type": "code",
   "execution_count": 45,
   "id": "a5f48480-1285-46ce-b265-772773632ba0",
   "metadata": {},
   "outputs": [
    {
     "data": {
      "text/plain": [
       "Matilda    32\n",
       "Jenny      86\n",
       "Jason      12\n",
       "Jack       25\n",
       "Greg        5\n",
       "Gary       60\n",
       "Charles    49\n",
       "dtype: int64"
      ]
     },
     "execution_count": 45,
     "metadata": {},
     "output_type": "execute_result"
    }
   ],
   "source": [
    "# sort in descending order\n",
    "\n",
    "(\n",
    "    s\n",
    "    .sort_index(ascending=False)\n",
    ")"
   ]
  },
  {
   "cell_type": "code",
   "execution_count": 47,
   "id": "8aa4326a-f87b-4364-a382-5b5baf566c1a",
   "metadata": {},
   "outputs": [
    {
     "data": {
      "text/plain": [
       "a    -6\n",
       "b    -3\n",
       "c    14\n",
       "d    17\n",
       "e    17\n",
       "f   -41\n",
       "g    33\n",
       "h   -29\n",
       "i   -14\n",
       "j    37\n",
       "dtype: int64"
      ]
     },
     "execution_count": 47,
     "metadata": {},
     "output_type": "execute_result"
    }
   ],
   "source": [
    "# change the way they are compared\n",
    "\n",
    "np.random.seed(0)\n",
    "s = Series(np.random.randint(-50, 50, 10),\n",
    "           index=list('abcdefghij'))\n",
    "s"
   ]
  },
  {
   "cell_type": "code",
   "execution_count": 48,
   "id": "ba353d4e-c799-4456-97ab-443e870cb004",
   "metadata": {},
   "outputs": [
    {
     "data": {
      "text/plain": [
       "f   -41\n",
       "h   -29\n",
       "i   -14\n",
       "a    -6\n",
       "b    -3\n",
       "c    14\n",
       "d    17\n",
       "e    17\n",
       "g    33\n",
       "j    37\n",
       "dtype: int64"
      ]
     },
     "execution_count": 48,
     "metadata": {},
     "output_type": "execute_result"
    }
   ],
   "source": [
    "s.sort_values()"
   ]
  },
  {
   "cell_type": "code",
   "execution_count": 49,
   "id": "9d9b8d28-451b-47fc-bbe5-881f6611a8b0",
   "metadata": {},
   "outputs": [
    {
     "data": {
      "text/plain": [
       "b     3\n",
       "a     6\n",
       "c    14\n",
       "i    14\n",
       "d    17\n",
       "e    17\n",
       "h    29\n",
       "g    33\n",
       "j    37\n",
       "f    41\n",
       "dtype: int64"
      ]
     },
     "execution_count": 49,
     "metadata": {},
     "output_type": "execute_result"
    }
   ],
   "source": [
    "# sort by absolute values - however makes negative positive\n",
    "s.abs().sort_values()"
   ]
  },
  {
   "cell_type": "code",
   "execution_count": 51,
   "id": "71d188e1-d100-4dee-b248-339f3eb89ab1",
   "metadata": {},
   "outputs": [
    {
     "data": {
      "text/plain": [
       "b    -3\n",
       "a    -6\n",
       "c    14\n",
       "i   -14\n",
       "d    17\n",
       "e    17\n",
       "h   -29\n",
       "g    33\n",
       "j    37\n",
       "f   -41\n",
       "dtype: int64"
      ]
     },
     "execution_count": 51,
     "metadata": {},
     "output_type": "execute_result"
    }
   ],
   "source": [
    "# sort by absolute value AND keep original values?\n",
    "\n",
    "# pass kwarg of \"key\" to sort_index or sort_values\n",
    "\n",
    "# value for \"key\" arg is a function\n",
    "# function is invoked on each element, used for sorting purposes only\n",
    "# we dont see its outputs\n",
    "\n",
    "s.sort_values(key=abs)"
   ]
  },
  {
   "cell_type": "code",
   "execution_count": 55,
   "id": "3d636bf5-f65d-455d-ad3f-4da1620005be",
   "metadata": {},
   "outputs": [
    {
     "data": {
      "text/plain": [
       "a     6\n",
       "b     3\n",
       "c    14\n",
       "d    17\n",
       "e    17\n",
       "f    41\n",
       "g    33\n",
       "h    29\n",
       "i    14\n",
       "j    37\n",
       "dtype: int64"
      ]
     },
     "execution_count": 55,
     "metadata": {},
     "output_type": "execute_result"
    }
   ],
   "source": []
  }
 ],
 "metadata": {
  "kernelspec": {
   "display_name": "Python 3 (ipykernel)",
   "language": "python",
   "name": "python3"
  },
  "language_info": {
   "codemirror_mode": {
    "name": "ipython",
    "version": 3
   },
   "file_extension": ".py",
   "mimetype": "text/x-python",
   "name": "python",
   "nbconvert_exporter": "python",
   "pygments_lexer": "ipython3",
   "version": "3.12.3"
  }
 },
 "nbformat": 4,
 "nbformat_minor": 5
}
