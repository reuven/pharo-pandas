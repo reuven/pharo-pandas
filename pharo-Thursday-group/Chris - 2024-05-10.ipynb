{
 "cells": [
  {
   "cell_type": "code",
   "execution_count": 1,
   "id": "d5e266e1-7da0-486e-a63a-4ce95f64749d",
   "metadata": {},
   "outputs": [],
   "source": [
    "import pandas as pd\n",
    "from pandas import Series"
   ]
  },
  {
   "cell_type": "code",
   "execution_count": 2,
   "id": "7ba9251b-cb38-4dd2-a362-fb78d52870a3",
   "metadata": {},
   "outputs": [],
   "source": [
    "s = Series( [10,20,30,40,50])"
   ]
  },
  {
   "cell_type": "code",
   "execution_count": 3,
   "id": "c82e889d-076c-48b0-b1d9-0300779d55e2",
   "metadata": {},
   "outputs": [
    {
     "data": {
      "text/plain": [
       "pandas.core.series.Series"
      ]
     },
     "execution_count": 3,
     "metadata": {},
     "output_type": "execute_result"
    }
   ],
   "source": [
    "type(s)"
   ]
  },
  {
   "cell_type": "code",
   "execution_count": 4,
   "id": "6a34cfc6-0ba3-43de-be8d-aa3d4b0d316d",
   "metadata": {},
   "outputs": [
    {
     "data": {
      "text/plain": [
       "0    10\n",
       "1    20\n",
       "2    30\n",
       "3    40\n",
       "4    50\n",
       "dtype: int64"
      ]
     },
     "execution_count": 4,
     "metadata": {},
     "output_type": "execute_result"
    }
   ],
   "source": [
    "s"
   ]
  },
  {
   "cell_type": "code",
   "execution_count": 6,
   "id": "75335c10-5161-49f0-beb8-cdf3bf4ec675",
   "metadata": {},
   "outputs": [
    {
     "data": {
      "text/plain": [
       "50"
      ]
     },
     "execution_count": 6,
     "metadata": {},
     "output_type": "execute_result"
    }
   ],
   "source": [
    "s[4]"
   ]
  },
  {
   "cell_type": "code",
   "execution_count": 7,
   "id": "8cd9c7ef-e84f-4ef5-9edb-e723d7b786f4",
   "metadata": {},
   "outputs": [
    {
     "data": {
      "text/plain": [
       "50"
      ]
     },
     "execution_count": 7,
     "metadata": {},
     "output_type": "execute_result"
    }
   ],
   "source": [
    "s.iloc[4]"
   ]
  },
  {
   "cell_type": "code",
   "execution_count": 8,
   "id": "d5b00110-77eb-4863-bfc4-0f6801cc396c",
   "metadata": {},
   "outputs": [
    {
     "data": {
      "text/plain": [
       "50"
      ]
     },
     "execution_count": 8,
     "metadata": {},
     "output_type": "execute_result"
    }
   ],
   "source": [
    "s.loc[4]"
   ]
  },
  {
   "cell_type": "code",
   "execution_count": 9,
   "id": "d2e3385d-81ae-40c3-bbcc-9d948178c337",
   "metadata": {},
   "outputs": [
    {
     "data": {
      "text/plain": [
       "1    20\n",
       "2    30\n",
       "3    40\n",
       "dtype: int64"
      ]
     },
     "execution_count": 9,
     "metadata": {},
     "output_type": "execute_result"
    }
   ],
   "source": [
    "s.loc[1:3]"
   ]
  },
  {
   "cell_type": "code",
   "execution_count": 10,
   "id": "2daa6090-bbba-4cd4-8f84-4d42fb89ccec",
   "metadata": {},
   "outputs": [
    {
     "data": {
      "text/plain": [
       "1    20\n",
       "2    30\n",
       "dtype: int64"
      ]
     },
     "execution_count": 10,
     "metadata": {},
     "output_type": "execute_result"
    }
   ],
   "source": [
    "s.iloc[1:3]"
   ]
  },
  {
   "cell_type": "code",
   "execution_count": 11,
   "id": "61fd2e6d-651f-4408-a9d4-9b233f2f5803",
   "metadata": {},
   "outputs": [
    {
     "data": {
      "text/plain": [
       "30.0"
      ]
     },
     "execution_count": 11,
     "metadata": {},
     "output_type": "execute_result"
    }
   ],
   "source": [
    "s.mean()"
   ]
  },
  {
   "cell_type": "code",
   "execution_count": 12,
   "id": "cb9a74a9-7342-41bc-ab12-59f712c61800",
   "metadata": {},
   "outputs": [
    {
     "data": {
      "text/plain": [
       "150"
      ]
     },
     "execution_count": 12,
     "metadata": {},
     "output_type": "execute_result"
    }
   ],
   "source": [
    "s.sum()"
   ]
  },
  {
   "cell_type": "code",
   "execution_count": 15,
   "id": "31fede6e-4a27-486d-b0e7-982386939466",
   "metadata": {},
   "outputs": [],
   "source": [
    "temp = Series([22,22,24,18,17,17,17,18,17,18])"
   ]
  },
  {
   "cell_type": "code",
   "execution_count": 16,
   "id": "a1a6a9cb-df46-4608-b96b-f98f59915285",
   "metadata": {},
   "outputs": [
    {
     "data": {
      "text/plain": [
       "0    22\n",
       "1    22\n",
       "2    24\n",
       "3    18\n",
       "4    17\n",
       "5    17\n",
       "6    17\n",
       "7    18\n",
       "8    17\n",
       "9    18\n",
       "dtype: int64"
      ]
     },
     "execution_count": 16,
     "metadata": {},
     "output_type": "execute_result"
    }
   ],
   "source": [
    "temp"
   ]
  },
  {
   "cell_type": "code",
   "execution_count": 17,
   "id": "9b6789b7-953e-40e7-b59c-8c8b9b06a6a5",
   "metadata": {},
   "outputs": [],
   "source": [
    "mean = temp.mean()"
   ]
  },
  {
   "cell_type": "code",
   "execution_count": 18,
   "id": "ca93cc87-4385-4ac5-b871-be260321760b",
   "metadata": {},
   "outputs": [
    {
     "data": {
      "text/plain": [
       "19.0"
      ]
     },
     "execution_count": 18,
     "metadata": {},
     "output_type": "execute_result"
    }
   ],
   "source": [
    "mean"
   ]
  },
  {
   "cell_type": "code",
   "execution_count": 19,
   "id": "1e7c83cd-845e-4bfa-84e7-c9deb8cc3f43",
   "metadata": {},
   "outputs": [
    {
     "data": {
      "text/plain": [
       "18.0"
      ]
     },
     "execution_count": 19,
     "metadata": {},
     "output_type": "execute_result"
    }
   ],
   "source": [
    "median = temp.median()\n",
    "median"
   ]
  },
  {
   "cell_type": "code",
   "execution_count": 20,
   "id": "c3ee4cfb-c5a0-4a8e-b0af-9802552de50d",
   "metadata": {},
   "outputs": [
    {
     "data": {
      "text/plain": [
       "20.6"
      ]
     },
     "execution_count": 20,
     "metadata": {},
     "output_type": "execute_result"
    }
   ],
   "source": [
    "mean5 = temp.iloc[:5].mean()\n",
    "mean5"
   ]
  },
  {
   "cell_type": "code",
   "execution_count": 22,
   "id": "53c84b1f-7abe-4663-a5c5-b8d96a503c55",
   "metadata": {},
   "outputs": [
    {
     "data": {
      "text/plain": [
       "5    17\n",
       "6    17\n",
       "7    18\n",
       "8    17\n",
       "9    18\n",
       "dtype: int64"
      ]
     },
     "execution_count": 22,
     "metadata": {},
     "output_type": "execute_result"
    }
   ],
   "source": [
    "temp.iloc[5:]"
   ]
  },
  {
   "cell_type": "code",
   "execution_count": 23,
   "id": "f06ad8aa-7480-4a78-9630-2e5752cc3918",
   "metadata": {},
   "outputs": [
    {
     "data": {
      "text/plain": [
       "17.4"
      ]
     },
     "execution_count": 23,
     "metadata": {},
     "output_type": "execute_result"
    }
   ],
   "source": [
    "mean5p = temp.iloc[5:].mean()\n",
    "mean5p"
   ]
  },
  {
   "cell_type": "code",
   "execution_count": 24,
   "id": "e0ef249a-88ee-4b90-8472-e0e6a7974a7f",
   "metadata": {},
   "outputs": [
    {
     "data": {
      "text/plain": [
       "2.6246692913372702"
      ]
     },
     "execution_count": 24,
     "metadata": {},
     "output_type": "execute_result"
    }
   ],
   "source": [
    "temp.std()"
   ]
  },
  {
   "cell_type": "code",
   "execution_count": 25,
   "id": "750a52cd-5129-4c46-ad88-44dea343f735",
   "metadata": {},
   "outputs": [
    {
     "data": {
      "text/plain": [
       "count    10.000000\n",
       "mean     19.000000\n",
       "std       2.624669\n",
       "min      17.000000\n",
       "25%      17.000000\n",
       "50%      18.000000\n",
       "75%      21.000000\n",
       "max      24.000000\n",
       "dtype: float64"
      ]
     },
     "execution_count": 25,
     "metadata": {},
     "output_type": "execute_result"
    }
   ],
   "source": [
    "temp.describe()"
   ]
  },
  {
   "cell_type": "code",
   "execution_count": 26,
   "id": "380dead3-fc9e-4b4d-8837-b45dbed4663b",
   "metadata": {},
   "outputs": [
    {
     "data": {
      "text/plain": [
       "5    17\n",
       "6    17\n",
       "7    18\n",
       "8    17\n",
       "9    18\n",
       "dtype: int64"
      ]
     },
     "execution_count": 26,
     "metadata": {},
     "output_type": "execute_result"
    }
   ],
   "source": [
    "temp.iloc[5:]"
   ]
  },
  {
   "cell_type": "code",
   "execution_count": 27,
   "id": "f48602f0-e140-4f1c-ab1b-e2f71468ecba",
   "metadata": {},
   "outputs": [
    {
     "data": {
      "text/plain": [
       "0    10\n",
       "1    20\n",
       "2    30\n",
       "3    40\n",
       "4    50\n",
       "dtype: int64"
      ]
     },
     "execution_count": 27,
     "metadata": {},
     "output_type": "execute_result"
    }
   ],
   "source": [
    "s"
   ]
  },
  {
   "cell_type": "code",
   "execution_count": 28,
   "id": "939078d7-7d04-44ea-86a5-f33646140f07",
   "metadata": {},
   "outputs": [],
   "source": [
    "s.index = [2,4,6,8,10]"
   ]
  },
  {
   "cell_type": "code",
   "execution_count": 29,
   "id": "9eca05b7-3e22-44ce-baa3-8daaef6f0c29",
   "metadata": {},
   "outputs": [
    {
     "data": {
      "text/plain": [
       "2     10\n",
       "4     20\n",
       "6     30\n",
       "8     40\n",
       "10    50\n",
       "dtype: int64"
      ]
     },
     "execution_count": 29,
     "metadata": {},
     "output_type": "execute_result"
    }
   ],
   "source": [
    "s"
   ]
  },
  {
   "cell_type": "code",
   "execution_count": 33,
   "id": "24473883-25b3-4faf-b9bf-3c2fcd3341e2",
   "metadata": {},
   "outputs": [
    {
     "data": {
      "text/plain": [
       "20"
      ]
     },
     "execution_count": 33,
     "metadata": {},
     "output_type": "execute_result"
    }
   ],
   "source": [
    "s.loc[4]"
   ]
  },
  {
   "cell_type": "code",
   "execution_count": 32,
   "id": "4ffec494-260c-4b25-9fed-4d18a595f0b7",
   "metadata": {},
   "outputs": [
    {
     "data": {
      "text/plain": [
       "50"
      ]
     },
     "execution_count": 32,
     "metadata": {},
     "output_type": "execute_result"
    }
   ],
   "source": [
    "s.iloc[4]"
   ]
  },
  {
   "cell_type": "code",
   "execution_count": 34,
   "id": "c25d2922-2f8c-4b21-a3c8-8d8b3c813741",
   "metadata": {},
   "outputs": [],
   "source": [
    "s.index = list('abcde')"
   ]
  },
  {
   "cell_type": "code",
   "execution_count": 35,
   "id": "530044b5-4731-4725-8424-bec767e8c13c",
   "metadata": {},
   "outputs": [
    {
     "data": {
      "text/plain": [
       "a    10\n",
       "b    20\n",
       "c    30\n",
       "d    40\n",
       "e    50\n",
       "dtype: int64"
      ]
     },
     "execution_count": 35,
     "metadata": {},
     "output_type": "execute_result"
    }
   ],
   "source": [
    "s"
   ]
  },
  {
   "cell_type": "code",
   "execution_count": 36,
   "id": "30d41053-b146-4da0-8f97-c02a9e6f746d",
   "metadata": {},
   "outputs": [
    {
     "data": {
      "text/plain": [
       "40"
      ]
     },
     "execution_count": 36,
     "metadata": {},
     "output_type": "execute_result"
    }
   ],
   "source": [
    "s.loc['d']"
   ]
  },
  {
   "cell_type": "code",
   "execution_count": 37,
   "id": "b0df697e-7572-4ef3-8edb-b77d98a037f2",
   "metadata": {},
   "outputs": [
    {
     "data": {
      "text/plain": [
       "b    20\n",
       "c    30\n",
       "d    40\n",
       "dtype: int64"
      ]
     },
     "execution_count": 37,
     "metadata": {},
     "output_type": "execute_result"
    }
   ],
   "source": [
    "s.loc['b':'d']"
   ]
  },
  {
   "cell_type": "code",
   "execution_count": 39,
   "id": "5f8a8b25-2878-453c-b7e2-7f23e23a0edb",
   "metadata": {},
   "outputs": [
    {
     "data": {
      "text/plain": [
       "a    10\n",
       "b    20\n",
       "c    30\n",
       "a    40\n",
       "b    50\n",
       "dtype: int64"
      ]
     },
     "execution_count": 39,
     "metadata": {},
     "output_type": "execute_result"
    }
   ],
   "source": [
    "s = Series([10,20,30,40,50], index=list('abcab'))\n",
    "s"
   ]
  },
  {
   "cell_type": "code",
   "execution_count": 41,
   "id": "c53ece54-1dd4-42df-a68a-cddb27bdf285",
   "metadata": {},
   "outputs": [
    {
     "data": {
      "text/plain": [
       "a    10\n",
       "a    40\n",
       "dtype: int64"
      ]
     },
     "execution_count": 41,
     "metadata": {},
     "output_type": "execute_result"
    }
   ],
   "source": [
    "s.loc['a']"
   ]
  },
  {
   "cell_type": "code",
   "execution_count": 42,
   "id": "f52dc0d6-f98a-4eb3-97c3-2ca62983997e",
   "metadata": {},
   "outputs": [
    {
     "data": {
      "text/plain": [
       "Index(['a', 'b', 'c', 'a', 'b'], dtype='object')"
      ]
     },
     "execution_count": 42,
     "metadata": {},
     "output_type": "execute_result"
    }
   ],
   "source": [
    "s.index"
   ]
  },
  {
   "cell_type": "code",
   "execution_count": 45,
   "id": "b28be220-f92e-472d-877f-0cb3eebd2986",
   "metadata": {},
   "outputs": [
    {
     "data": {
      "text/plain": [
       "c    30\n",
       "dtype: int64"
      ]
     },
     "execution_count": 45,
     "metadata": {},
     "output_type": "execute_result"
    }
   ],
   "source": [
    "s.loc['c':'c']"
   ]
  },
  {
   "cell_type": "markdown",
   "id": "997b5b48-ceb9-4e58-930f-875a77f43d3c",
   "metadata": {},
   "source": [
    "temp"
   ]
  },
  {
   "cell_type": "code",
   "execution_count": 46,
   "id": "f20eeac2-8832-44ea-9e79-4fe32ff1b92b",
   "metadata": {},
   "outputs": [
    {
     "data": {
      "text/plain": [
       "0    22\n",
       "1    22\n",
       "2    24\n",
       "3    18\n",
       "4    17\n",
       "5    17\n",
       "6    17\n",
       "7    18\n",
       "8    17\n",
       "9    18\n",
       "dtype: int64"
      ]
     },
     "execution_count": 46,
     "metadata": {},
     "output_type": "execute_result"
    }
   ],
   "source": [
    "temp"
   ]
  },
  {
   "cell_type": "code",
   "execution_count": 47,
   "id": "130dec40-ab29-431b-905a-ff857f3b21a0",
   "metadata": {},
   "outputs": [],
   "source": [
    "temp.index = ['Fri', 'Sat', 'Sun', 'Mon', 'Tue', 'Wed', 'Thu', 'Fri', 'Sat', 'Sun']"
   ]
  },
  {
   "cell_type": "code",
   "execution_count": 48,
   "id": "5f72c702-190f-470d-a593-4583f4472d3d",
   "metadata": {},
   "outputs": [
    {
     "data": {
      "text/plain": [
       "Fri    22\n",
       "Sat    22\n",
       "Sun    24\n",
       "Mon    18\n",
       "Tue    17\n",
       "Wed    17\n",
       "Thu    17\n",
       "Fri    18\n",
       "Sat    17\n",
       "Sun    18\n",
       "dtype: int64"
      ]
     },
     "execution_count": 48,
     "metadata": {},
     "output_type": "execute_result"
    }
   ],
   "source": [
    "temp"
   ]
  },
  {
   "cell_type": "code",
   "execution_count": 49,
   "id": "c34249ae-1ace-4c43-808a-005d856da04b",
   "metadata": {},
   "outputs": [
    {
     "data": {
      "text/plain": [
       "20.0"
      ]
     },
     "execution_count": 49,
     "metadata": {},
     "output_type": "execute_result"
    }
   ],
   "source": [
    "temp.loc['Fri'].mean()"
   ]
  },
  {
   "cell_type": "code",
   "execution_count": 51,
   "id": "395f4c19-9453-47bd-9f80-5d5a5cecc4f7",
   "metadata": {},
   "outputs": [
    {
     "data": {
      "text/plain": [
       "19.333333333333332"
      ]
     },
     "execution_count": 51,
     "metadata": {},
     "output_type": "execute_result"
    }
   ],
   "source": [
    "temp.loc[['Fri','Mon']].mean()"
   ]
  },
  {
   "cell_type": "code",
   "execution_count": 52,
   "id": "bed6ae9e-18a7-439a-8ad0-96e92f9b8251",
   "metadata": {},
   "outputs": [],
   "source": [
    "temp_min = Series([11,14,14,12,11,10,10,11,12,12], index = temp.index)"
   ]
  },
  {
   "cell_type": "code",
   "execution_count": 53,
   "id": "7ee20329-dabe-4db6-9746-aa83568c5506",
   "metadata": {},
   "outputs": [
    {
     "data": {
      "text/plain": [
       "Fri    11\n",
       "Sat    14\n",
       "Sun    14\n",
       "Mon    12\n",
       "Tue    11\n",
       "Wed    10\n",
       "Thu    10\n",
       "Fri    11\n",
       "Sat    12\n",
       "Sun    12\n",
       "dtype: int64"
      ]
     },
     "execution_count": 53,
     "metadata": {},
     "output_type": "execute_result"
    }
   ],
   "source": [
    "temp_min"
   ]
  },
  {
   "cell_type": "code",
   "execution_count": 54,
   "id": "9745ddf2-37d4-404c-86b8-84437666d56c",
   "metadata": {},
   "outputs": [
    {
     "data": {
      "text/plain": [
       "11.7"
      ]
     },
     "execution_count": 54,
     "metadata": {},
     "output_type": "execute_result"
    }
   ],
   "source": [
    "temp_min.mean()"
   ]
  },
  {
   "cell_type": "code",
   "execution_count": 55,
   "id": "9fa96cfc-e4c0-4b99-9227-f0a12766fb84",
   "metadata": {},
   "outputs": [
    {
     "data": {
      "text/plain": [
       "Fri    71.6\n",
       "Sat    71.6\n",
       "Sun    75.2\n",
       "Mon    64.4\n",
       "Tue    62.6\n",
       "Wed    62.6\n",
       "Thu    62.6\n",
       "Fri    64.4\n",
       "Sat    62.6\n",
       "Sun    64.4\n",
       "dtype: float64"
      ]
     },
     "execution_count": 55,
     "metadata": {},
     "output_type": "execute_result"
    }
   ],
   "source": [
    "temp_max_fahrenheit = temp * 1.8 + 32\n",
    "temp_max_fahrenheit"
   ]
  },
  {
   "cell_type": "code",
   "execution_count": null,
   "id": "8b7836ae-1b45-4acd-8269-26559278ec86",
   "metadata": {},
   "outputs": [],
   "source": []
  }
 ],
 "metadata": {
  "kernelspec": {
   "display_name": "Python 3 (ipykernel)",
   "language": "python",
   "name": "python3"
  },
  "language_info": {
   "codemirror_mode": {
    "name": "ipython",
    "version": 3
   },
   "file_extension": ".py",
   "mimetype": "text/x-python",
   "name": "python",
   "nbconvert_exporter": "python",
   "pygments_lexer": "ipython3",
   "version": "3.12.3"
  }
 },
 "nbformat": 4,
 "nbformat_minor": 5
}
