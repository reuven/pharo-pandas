{
 "cells": [
  {
   "cell_type": "code",
   "execution_count": null,
   "id": "c68a4732-4c40-4c9d-b7ca-4bc116033d52",
   "metadata": {},
   "outputs": [],
   "source": []
  },
  {
   "cell_type": "markdown",
   "id": "59856760-73bd-447a-86e9-2b4cf65175bf",
   "metadata": {},
   "source": [
    "# Agenda: Cleaning data\n",
    "\n",
    "1. `NaN` and cleaning it up\n",
    "    - Series\n",
    "    - Data frames\n",
    "    - Two techniques: (a) replacing and (b) removing\n",
    "2. Nullable types\n",
    "3. Interpolation\n",
    "4. Replacement of values"
   ]
  },
  {
   "cell_type": "markdown",
   "id": "1b8ca4ad-10a7-42b9-b6e1-de90ed5c3321",
   "metadata": {},
   "source": [
    "# Why clean our data? Because the real world is messy\n",
    "\n",
    "- Sensors go dead\n",
    "- People make mistakes\n",
    "- People don't report data on time\n",
    "- Weir"
   ]
  }
 ],
 "metadata": {
  "kernelspec": {
   "display_name": "Python 3 (ipykernel)",
   "language": "python",
   "name": "python3"
  },
  "language_info": {
   "codemirror_mode": {
    "name": "ipython",
    "version": 3
   },
   "file_extension": ".py",
   "mimetype": "text/x-python",
   "name": "python",
   "nbconvert_exporter": "python",
   "pygments_lexer": "ipython3",
   "version": "3.12.3"
  }
 },
 "nbformat": 4,
 "nbformat_minor": 5
}
