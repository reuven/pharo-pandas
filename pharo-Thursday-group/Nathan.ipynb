{
 "cells": [
  {
   "cell_type": "code",
   "execution_count": 1,
   "id": "de00d58d-d19b-4d8d-b2e7-f3c42a20b54d",
   "metadata": {},
   "outputs": [],
   "source": [
    "test = 12345"
   ]
  },
  {
   "cell_type": "code",
   "execution_count": 2,
   "id": "edb483df-3c1e-4441-9025-9c530872e1ad",
   "metadata": {},
   "outputs": [
    {
     "data": {
      "text/plain": [
       "12345"
      ]
     },
     "execution_count": 2,
     "metadata": {},
     "output_type": "execute_result"
    }
   ],
   "source": [
    "test"
   ]
  },
  {
   "cell_type": "code",
   "execution_count": 3,
   "id": "ce01c360-b6e9-47c4-937d-3a18684a9e3a",
   "metadata": {},
   "outputs": [
    {
     "ename": "SyntaxError",
     "evalue": "invalid syntax (3113309368.py, line 2)",
     "output_type": "error",
     "traceback": [
      "\u001b[0;36m  Cell \u001b[0;32mIn[3], line 2\u001b[0;36m\u001b[0m\n\u001b[0;31m    I ma\u001b[0m\n\u001b[0m      ^\u001b[0m\n\u001b[0;31mSyntaxError\u001b[0m\u001b[0;31m:\u001b[0m invalid syntax\n"
     ]
    }
   ],
   "source": [
    "#intro\n",
    "I ma"
   ]
  },
  {
   "cell_type": "code",
   "execution_count": null,
   "id": "50c2b28b-5f05-4625-8b14-1377d7692f5c",
   "metadata": {},
   "outputs": [],
   "source": []
  }
 ],
 "metadata": {
  "kernelspec": {
   "display_name": "Python 3 (ipykernel)",
   "language": "python",
   "name": "python3"
  },
  "language_info": {
   "codemirror_mode": {
    "name": "ipython",
    "version": 3
   },
   "file_extension": ".py",
   "mimetype": "text/x-python",
   "name": "python",
   "nbconvert_exporter": "python",
   "pygments_lexer": "ipython3",
   "version": "3.12.3"
  }
 },
 "nbformat": 4,
 "nbformat_minor": 5
}
