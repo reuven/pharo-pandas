{
 "cells": [
  {
   "cell_type": "markdown",
   "id": "1e1bb499-cb53-4675-8042-a1682c22ff4f",
   "metadata": {},
   "source": [
    "# Agenda: Plotting\n",
    "\n",
    "1. Visualization (in general, and in Python)\n",
    "2. Plotting with a series\n",
    "    - Line plots\n",
    "    - Bar plots (two types)\n",
    "    - Pie charts (aka pie plots)\n",
    "    - Box plots\n",
    "    - Histograms\n",
    "3. Plotting with data frames\n",
    "    - How is plotting with a data frame similar to (and different from) plotting on a series?\n",
    "    - Line plots\n",
    "    - Bar plots\n",
    "    - Pie charts\n",
    "    - Box plots\n",
    "    - Histograms\n",
    "4. Scatter plots"
   ]
  },
  {
   "cell_type": "markdown",
   "id": "fd18daa3-f905-4c4a-b578-09443a556717",
   "metadata": {},
   "source": [
    "Matplotlib is the biggest and best known package for plotting. Pandas provides us with a simple interface to use Matplotlib, giving us most (or even all) of the power, without having to wade through many method calls and obscure options."
   ]
  },
  {
   "cell_type": "code",
   "execution_count": 1,
   "id": "9d2302e3-453c-42c8-b401-0d22d208f8f7",
   "metadata": {},
   "outputs": [],
   "source": [
    "import pandas as pd\n",
    "import numpy as np\n",
    "from pandas import Series, DataFrame"
   ]
  },
  {
   "cell_type": "code",
   "execution_count": null,
   "id": "d30468d6-3b77-42fb-aaba-a689a63e8a28",
   "metadata": {},
   "outputs": [],
   "source": [
    "np.randoms\n",
    "s = Series(np.random.ran"
   ]
  }
 ],
 "metadata": {
  "kernelspec": {
   "display_name": "Python 3 (ipykernel)",
   "language": "python",
   "name": "python3"
  },
  "language_info": {
   "codemirror_mode": {
    "name": "ipython",
    "version": 3
   },
   "file_extension": ".py",
   "mimetype": "text/x-python",
   "name": "python",
   "nbconvert_exporter": "python",
   "pygments_lexer": "ipython3",
   "version": "3.12.3"
  }
 },
 "nbformat": 4,
 "nbformat_minor": 5
}
