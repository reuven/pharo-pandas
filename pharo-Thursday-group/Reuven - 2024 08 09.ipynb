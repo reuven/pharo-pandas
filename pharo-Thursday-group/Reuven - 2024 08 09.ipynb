{
 "cells": [
  {
   "cell_type": "markdown",
   "id": "1e1bb499-cb53-4675-8042-a1682c22ff4f",
   "metadata": {},
   "source": [
    "# Agenda: Plotting\n",
    "\n",
    "1. Visualization (in general, and in Python)\n",
    "2. Plotting with a series\n",
    "    - Line plots\n",
    "    - Bar plots (two types)\n",
    "    - Pie charts (aka pie plots)\n",
    "    - Box plots\n",
    "    - Histograms\n",
    "3. Plotting with data frames\n",
    "    - How is plotting with a data frame similar to (and different from) plotting on a series?\n",
    "    - Line plots\n",
    "    - Bar plots\n",
    "    - Pie charts\n",
    "    - Box plots\n",
    "    - Histograms\n",
    "4. Scatter plots\n"
   ]
  }
 ],
 "metadata": {
  "kernelspec": {
   "display_name": "Python 3 (ipykernel)",
   "language": "python",
   "name": "python3"
  },
  "language_info": {
   "codemirror_mode": {
    "name": "ipython",
    "version": 3
   },
   "file_extension": ".py",
   "mimetype": "text/x-python",
   "name": "python",
   "nbconvert_exporter": "python",
   "pygments_lexer": "ipython3",
   "version": "3.12.3"
  }
 },
 "nbformat": 4,
 "nbformat_minor": 5
}
