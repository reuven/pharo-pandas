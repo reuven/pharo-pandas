{
 "cells": [
  {
   "cell_type": "markdown",
   "id": "4d9855fa-ffd2-49de-accb-157c7ad77cee",
   "metadata": {},
   "source": [
    "# Agenda: Cleaning data\n",
    "1. NaN and cleaning it up\n",
    "   * Series\n",
    "   * Data frames\n",
    "   * Two techniques: (a) replacing and (b) removing\n",
    "2. Nullable types\n",
    "3. Interpolation\n",
    "4. Replacement of values\n",
    "\n",
    "# Why clean our data? Because the real world is messy\n",
    "* Sensors go dead\n",
    "* People make mistakes\n",
    "* People don't report data on time\n",
    "* Weird errors"
   ]
  }
 ],
 "metadata": {
  "kernelspec": {
   "display_name": "Python 3 (ipykernel)",
   "language": "python",
   "name": "python3"
  },
  "language_info": {
   "codemirror_mode": {
    "name": "ipython",
    "version": 3
   },
   "file_extension": ".py",
   "mimetype": "text/x-python",
   "name": "python",
   "nbconvert_exporter": "python",
   "pygments_lexer": "ipython3",
   "version": "3.12.3"
  }
 },
 "nbformat": 4,
 "nbformat_minor": 5
}
