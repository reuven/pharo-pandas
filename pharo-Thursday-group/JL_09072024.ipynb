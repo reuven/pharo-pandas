{
 "cells": [
  {
   "cell_type": "markdown",
   "id": "4d9855fa-ffd2-49de-accb-157c7ad77cee",
   "metadata": {},
   "source": [
    "# Agenda: Cleaning data\n",
    "1. NaN and cleaning it up\n",
    "   * Series\n",
    "   * Data frames\n",
    "   * Two techniques: (a) replacing and (b) removing\n",
    "2. Nullable types\n",
    "3. Interpolation\n",
    "4. Replacement of values\n",
    "\n",
    "# Why clean our data? Because the real world is messy\n",
    "* Sensors go dead\n",
    "* People make mistakes\n",
    "* People don't report data on time\n",
    "* Weird errors"
   ]
  },
  {
   "cell_type": "code",
   "execution_count": 2,
   "id": "1a3f5c45-0dec-4680-aca9-73e6b95f676c",
   "metadata": {},
   "outputs": [],
   "source": [
    "import numpy as np\n",
    "import pandas as pd\n",
    "from pandas import Series, DataFrame\n",
    "\n",
    "\n"
   ]
  },
  {
   "cell_type": "code",
   "execution_count": 3,
   "id": "64a93eff-06b7-4b77-b51f-7df4650989f7",
   "metadata": {},
   "outputs": [],
   "source": [
    "s = Series([10, 20, np.nan, 40, 50])\n"
   ]
  },
  {
   "cell_type": "code",
   "execution_count": 4,
   "id": "49a85f75-017b-4be0-8647-51b3d7f78f03",
   "metadata": {},
   "outputs": [
    {
     "data": {
      "text/plain": [
       "0    10.0\n",
       "1    20.0\n",
       "2     NaN\n",
       "3    40.0\n",
       "4    50.0\n",
       "dtype: float64"
      ]
     },
     "execution_count": 4,
     "metadata": {},
     "output_type": "execute_result"
    }
   ],
   "source": [
    "s"
   ]
  }
 ],
 "metadata": {
  "kernelspec": {
   "display_name": "Python 3 (ipykernel)",
   "language": "python",
   "name": "python3"
  },
  "language_info": {
   "codemirror_mode": {
    "name": "ipython",
    "version": 3
   },
   "file_extension": ".py",
   "mimetype": "text/x-python",
   "name": "python",
   "nbconvert_exporter": "python",
   "pygments_lexer": "ipython3",
   "version": "3.12.3"
  }
 },
 "nbformat": 4,
 "nbformat_minor": 5
}
