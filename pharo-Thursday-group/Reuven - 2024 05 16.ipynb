{
 "cells": [
  {
   "cell_type": "markdown",
   "id": "b73fa779-21eb-4a62-9f42-b8323022ac7e",
   "metadata": {},
   "source": [
    "# Agenda: Mask indexes\n",
    "\n",
    "1. Comparisons and broadcasting\n",
    "2. Boolean series -- what can we do with it?\n",
    "3. Combining these ideas into a \"mask index\"\n",
    "4. Complex comparisons with \"and\" and \"or\" (or, *not* with them)"
   ]
  },
  {
   "cell_type": "code",
   "execution_count": 2,
   "id": "c149fa95-c68f-4220-9071-ed4d2c1c0d8d",
   "metadata": {},
   "outputs": [],
   "source": [
    "import numpy as np\n",
    "import pandas as pd\n",
    "from pandas import Series, DataFrame"
   ]
  },
  {
   "cell_type": "code",
   "execution_count": null,
   "id": "28ab0701-8751-40a1-a333-c2b949017297",
   "metadata": {},
   "outputs": [],
   "source": [
    "s = Series([10, 20, 30, 40, 50, 60],\n",
    "           inde"
   ]
  }
 ],
 "metadata": {
  "kernelspec": {
   "display_name": "Python 3 (ipykernel)",
   "language": "python",
   "name": "python3"
  },
  "language_info": {
   "codemirror_mode": {
    "name": "ipython",
    "version": 3
   },
   "file_extension": ".py",
   "mimetype": "text/x-python",
   "name": "python",
   "nbconvert_exporter": "python",
   "pygments_lexer": "ipython3",
   "version": "3.12.3"
  }
 },
 "nbformat": 4,
 "nbformat_minor": 5
}
