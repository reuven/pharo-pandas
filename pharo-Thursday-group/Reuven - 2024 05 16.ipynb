{
 "cells": [
  {
   "cell_type": "markdown",
   "id": "b73fa779-21eb-4a62-9f42-b8323022ac7e",
   "metadata": {},
   "source": [
    "# Agenda: Mask indexes\n",
    "\n",
    "1. Comparisons and broadcasting\n",
    "2. Boolean series -- what can we do with it?\n",
    "3. Combining these ideas into a \"mask index\"\n",
    "4. Complex comparisons with \"and\" and \"or\" (or, *not* with them)"
   ]
  },
  {
   "cell_type": "code",
   "execution_count": 2,
   "id": "c149fa95-c68f-4220-9071-ed4d2c1c0d8d",
   "metadata": {},
   "outputs": [],
   "source": [
    "import numpy as np\n",
    "import pandas as pd\n",
    "from pandas import Series, DataFrame"
   ]
  },
  {
   "cell_type": "code",
   "execution_count": 3,
   "id": "28ab0701-8751-40a1-a333-c2b949017297",
   "metadata": {},
   "outputs": [
    {
     "data": {
      "text/plain": [
       "a    10\n",
       "b    20\n",
       "c    30\n",
       "d    40\n",
       "e    50\n",
       "f    60\n",
       "dtype: int64"
      ]
     },
     "execution_count": 3,
     "metadata": {},
     "output_type": "execute_result"
    }
   ],
   "source": [
    "s = Series([10, 20, 30, 40, 50, 60],\n",
    "           index=list('abcdef'))\n",
    "s"
   ]
  },
  {
   "cell_type": "code",
   "execution_count": 4,
   "id": "5b53283b-3809-4bc7-a071-0f7e03647730",
   "metadata": {},
   "outputs": [
    {
     "data": {
      "text/plain": [
       "20"
      ]
     },
     "execution_count": 4,
     "metadata": {},
     "output_type": "execute_result"
    }
   ],
   "source": [
    "# I can retrieve an element of s with either .loc or .iloc\n",
    "# .loc means that we want to use the index\n",
    "\n",
    "s.loc['b']"
   ]
  },
  {
   "cell_type": "code",
   "execution_count": 5,
   "id": "41950b5b-f7be-4d2d-8ea8-930a2a7a29fd",
   "metadata": {},
   "outputs": [
    {
     "data": {
      "text/plain": [
       "50"
      ]
     },
     "execution_count": 5,
     "metadata": {},
     "output_type": "execute_result"
    }
   ],
   "source": [
    "s.loc['e']"
   ]
  },
  {
   "cell_type": "code",
   "execution_count": 6,
   "id": "409f5bc7-dcc1-4385-9f6b-2d278b31a469",
   "metadata": {},
   "outputs": [
    {
     "data": {
      "text/plain": [
       "40"
      ]
     },
     "execution_count": 6,
     "metadata": {},
     "output_type": "execute_result"
    }
   ],
   "source": [
    "# .iloc goes based on the position, starting with 0\n",
    "s.iloc[3]"
   ]
  },
  {
   "cell_type": "code",
   "execution_count": 7,
   "id": "1abd2458-c33c-4e15-8f99-54f9bcd0fe45",
   "metadata": {},
   "outputs": [
    {
     "data": {
      "text/plain": [
       "60"
      ]
     },
     "execution_count": 7,
     "metadata": {},
     "output_type": "execute_result"
    }
   ],
   "source": [
    "s.iloc[5]"
   ]
  },
  {
   "cell_type": "code",
   "execution_count": 8,
   "id": "7e2c6925-7cb6-4440-bf28-85d773e5f4f4",
   "metadata": {},
   "outputs": [
    {
     "data": {
      "text/plain": [
       "b    20\n",
       "e    50\n",
       "dtype: int64"
      ]
     },
     "execution_count": 8,
     "metadata": {},
     "output_type": "execute_result"
    }
   ],
   "source": [
    "# Inside of the [], I can put a list of indexes/positions that I want\n",
    "# This is known as \"fancy indexing\"\n",
    "s.loc[['b', 'e']]"
   ]
  },
  {
   "cell_type": "code",
   "execution_count": 9,
   "id": "418f40e0-12a4-41a4-aeba-5569f9de72f6",
   "metadata": {},
   "outputs": [
    {
     "data": {
      "text/plain": [
       "d    40\n",
       "f    60\n",
       "dtype: int64"
      ]
     },
     "execution_count": 9,
     "metadata": {},
     "output_type": "execute_result"
    }
   ],
   "source": [
    "s.iloc[[3, 5]]"
   ]
  },
  {
   "cell_type": "markdown",
   "id": "f118b5c0-ee15-4067-900a-f323e130d4de",
   "metadata": {},
   "source": [
    "# Using booleans\n",
    "\n",
    "We can retrieve elements in a completely different way, too -- we can pass a list (or series)\n",
    "of boolean values (True/False). This list/series needs to be the same length as the one against\n",
    "which we're running it. Wherever there is a True value, we get the value from the original series. Wherever\n",
    "there is a False value, it's ignored."
   ]
  },
  {
   "cell_type": "code",
   "execution_count": 10,
   "id": "4d53821e-c485-484b-a772-e25ca8248629",
   "metadata": {},
   "outputs": [
    {
     "data": {
      "text/plain": [
       "a    10\n",
       "c    30\n",
       "e    50\n",
       "dtype: int64"
      ]
     },
     "execution_count": 10,
     "metadata": {},
     "output_type": "execute_result"
    }
   ],
   "source": [
    "s.loc[ [True, False, True, False, True, False] ]"
   ]
  },
  {
   "cell_type": "code",
   "execution_count": 11,
   "id": "9fde37c1-8432-489a-915e-b3550dba1a7a",
   "metadata": {},
   "outputs": [
    {
     "data": {
      "text/plain": [
       "c    30\n",
       "d    40\n",
       "f    60\n",
       "dtype: int64"
      ]
     },
     "execution_count": 11,
     "metadata": {},
     "output_type": "execute_result"
    }
   ],
   "source": [
    "s.loc[ [False, False, True, True, False, True]]"
   ]
  },
  {
   "cell_type": "markdown",
   "id": "8617531a-4822-4bd2-be92-9c8c98027c42",
   "metadata": {},
   "source": [
    "Boolean indexing is a great technique. But you can't seriously imagine typing True and False a large number of times to get the values that you want. That's OK -- we're going to automate that. We're going to ask Pandas to generate such a series of boolean values, and then we'll use that series to get the ones that we want.\n",
    "\n",
    "Thisi s kno"
   ]
  }
 ],
 "metadata": {
  "kernelspec": {
   "display_name": "Python 3 (ipykernel)",
   "language": "python",
   "name": "python3"
  },
  "language_info": {
   "codemirror_mode": {
    "name": "ipython",
    "version": 3
   },
   "file_extension": ".py",
   "mimetype": "text/x-python",
   "name": "python",
   "nbconvert_exporter": "python",
   "pygments_lexer": "ipython3",
   "version": "3.12.3"
  }
 },
 "nbformat": 4,
 "nbformat_minor": 5
}
