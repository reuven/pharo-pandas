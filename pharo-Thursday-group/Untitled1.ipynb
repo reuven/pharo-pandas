{
 "cells": [
  {
   "cell_type": "code",
   "execution_count": 1,
   "id": "a07b9bf1-a480-44e4-b87c-670a6251b51b",
   "metadata": {},
   "outputs": [],
   "source": [
    "import pandas as pd"
   ]
  },
  {
   "cell_type": "code",
   "execution_count": 3,
   "id": "f34e0630-43ac-45c0-947c-f3337031b04f",
   "metadata": {},
   "outputs": [
    {
     "data": {
      "text/plain": [
       "'2.2.2'"
      ]
     },
     "execution_count": 3,
     "metadata": {},
     "output_type": "execute_result"
    }
   ],
   "source": [
    "pd.__version__"
   ]
  },
  {
   "cell_type": "code",
   "execution_count": null,
   "id": "381cd467-9883-4e6f-a0e3-9f12cf880c27",
   "metadata": {},
   "outputs": [],
   "source": [
    "filename = '.../data/taxi.csv'\n",
    "df = pd.read_csv(filename)\n"
   ]
  }
 ],
 "metadata": {
  "kernelspec": {
   "display_name": "Python 3 (ipykernel)",
   "language": "python",
   "name": "python3"
  },
  "language_info": {
   "codemirror_mode": {
    "name": "ipython",
    "version": 3
   },
   "file_extension": ".py",
   "mimetype": "text/x-python",
   "name": "python",
   "nbconvert_exporter": "python",
   "pygments_lexer": "ipython3",
   "version": "3.12.3"
  }
 },
 "nbformat": 4,
 "nbformat_minor": 5
}
