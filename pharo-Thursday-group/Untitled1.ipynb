{
 "cells": [
  {
   "cell_type": "code",
   "execution_count": null,
   "id": "a07b9bf1-a480-44e4-b87c-670a6251b51b",
   "metadata": {},
   "outputs": [],
   "source": []
  }
 ],
 "metadata": {
  "kernelspec": {
   "display_name": "",
   "name": ""
  },
  "language_info": {
   "name": ""
  }
 },
 "nbformat": 4,
 "nbformat_minor": 5
}
