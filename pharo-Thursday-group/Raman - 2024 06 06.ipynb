{
 "cells": [
  {
   "cell_type": "code",
   "execution_count": null,
   "id": "fdf824cd-77ed-4146-852e-32abe8bcf959",
   "metadata": {},
   "outputs": [],
   "source": []
  }
 ],
 "metadata": {
  "kernelspec": {
   "display_name": "",
   "name": ""
  },
  "language_info": {
   "name": ""
  }
 },
 "nbformat": 4,
 "nbformat_minor": 5
}
