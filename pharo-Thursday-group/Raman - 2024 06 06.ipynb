{
 "cells": [
  {
   "cell_type": "code",
   "execution_count": 1,
   "id": "fdf824cd-77ed-4146-852e-32abe8bcf959",
   "metadata": {},
   "outputs": [],
   "source": [
    "import pandas as pd\n",
    "from pandas import Series, DataFrame\n"
   ]
  },
  {
   "cell_type": "code",
   "execution_count": 3,
   "id": "dfc349ce-3a1b-4369-9815-a111fb72db14",
   "metadata": {},
   "outputs": [
    {
     "data": {
      "text/plain": [
       "0    35\n",
       "1    37\n",
       "2    38\n",
       "3    62\n",
       "4    62\n",
       "dtype: int64"
      ]
     },
     "execution_count": 3,
     "metadata": {},
     "output_type": "execute_result"
    }
   ],
   "source": [
    "s = Series([35,37,38,62,62])\n",
    "s"
   ]
  },
  {
   "cell_type": "code",
   "execution_count": 4,
   "id": "9176c885-a942-48c3-a48b-9b2a00cb8825",
   "metadata": {},
   "outputs": [
    {
     "data": {
      "text/plain": [
       "0    35\n",
       "1    37\n",
       "2    38\n",
       "3    62\n",
       "4    62\n",
       "dtype: int8"
      ]
     },
     "execution_count": 4,
     "metadata": {},
     "output_type": "execute_result"
    }
   ],
   "source": [
    "s = Series([35,37,38,62,62],dtype='uint8')\n",
    "s"
   ]
  },
  {
   "cell_type": "code",
   "execution_count": 6,
   "id": "fa792724-b00d-4bbb-92b5-a696bbdce92a",
   "metadata": {},
   "outputs": [
    {
     "data": {
      "text/plain": [
       "0    1.106914e+09\n",
       "1    1.176293e+09\n",
       "2    1.217290e+09\n",
       "3    1.983614e+09\n",
       "4    1.977307e+09\n",
       "dtype: float64"
      ]
     },
     "execution_count": 6,
     "metadata": {},
     "output_type": "execute_result"
    }
   ],
   "source": [
    "s = Series([35.1,37.3,38.6,62.9,62.7],dtype='float64')\n",
    "s*365*24*60*60"
   ]
  },
  {
   "cell_type": "code",
   "execution_count": 9,
   "id": "2d983eee-191d-4e21-a251-984615d78e9b",
   "metadata": {},
   "outputs": [
    {
     "data": {
      "text/plain": [
       "0     2688\n",
       "1    29056\n",
       "2   -23296\n",
       "3    30976\n",
       "4    30976\n",
       "dtype: int16"
      ]
     },
     "execution_count": 9,
     "metadata": {},
     "output_type": "execute_result"
    }
   ],
   "source": [
    "s = Series([35,37,38,62,62],dtype='int8')\n",
    "s*365*24*60*60"
   ]
  },
  {
   "cell_type": "code",
   "execution_count": null,
   "id": "47df9f63-fea8-4632-a1e8-8d0982c182b7",
   "metadata": {},
   "outputs": [],
   "source": []
  }
 ],
 "metadata": {
  "kernelspec": {
   "display_name": "Python 3 (ipykernel)",
   "language": "python",
   "name": "python3"
  },
  "language_info": {
   "codemirror_mode": {
    "name": "ipython",
    "version": 3
   },
   "file_extension": ".py",
   "mimetype": "text/x-python",
   "name": "python",
   "nbconvert_exporter": "python",
   "pygments_lexer": "ipython3",
   "version": "3.12.3"
  }
 },
 "nbformat": 4,
 "nbformat_minor": 5
}
