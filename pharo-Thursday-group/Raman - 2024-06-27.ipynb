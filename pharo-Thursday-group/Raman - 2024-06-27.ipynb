{
 "cells": [
  {
   "cell_type": "code",
   "execution_count": 1,
   "id": "5e585383-0f45-43e7-bdb3-8a76227b8342",
   "metadata": {},
   "outputs": [],
   "source": [
    "import pandas as pd\n",
    "import numpy as np\n",
    "from pandas import Series, DataFrame"
   ]
  },
  {
   "cell_type": "code",
   "execution_count": 3,
   "id": "f7056819-f1a1-4eca-8ec4-d7e8a8bd28c5",
   "metadata": {},
   "outputs": [
    {
     "data": {
      "text/plain": [
       "a    -6\n",
       "c    -3\n",
       "e    14\n",
       "g    17\n",
       "i    17\n",
       "h   -41\n",
       "f    33\n",
       "j   -29\n",
       "d   -14\n",
       "b    37\n",
       "dtype: int64"
      ]
     },
     "execution_count": 3,
     "metadata": {},
     "output_type": "execute_result"
    }
   ],
   "source": [
    "np.random.seed(0)\n",
    "s = Series(np.random.randint(-50,50,10),\n",
    "           index=list('acegihfjdb'))\n",
    "s"
   ]
  },
  {
   "cell_type": "code",
   "execution_count": 5,
   "id": "ae581597-abf7-49ea-bf60-459e2c51f613",
   "metadata": {},
   "outputs": [
    {
     "data": {
      "text/plain": [
       "14"
      ]
     },
     "execution_count": 5,
     "metadata": {},
     "output_type": "execute_result"
    }
   ],
   "source": [
    "s.loc['e']"
   ]
  },
  {
   "cell_type": "code",
   "execution_count": 6,
   "id": "52fa750b-cabd-41ff-b4e5-a39456ef7a24",
   "metadata": {},
   "outputs": [
    {
     "data": {
      "text/plain": [
       "e    14\n",
       "a    -6\n",
       "dtype: int64"
      ]
     },
     "execution_count": 6,
     "metadata": {},
     "output_type": "execute_result"
    }
   ],
   "source": [
    "s.loc[['e','a']]"
   ]
  },
  {
   "cell_type": "code",
   "execution_count": 7,
   "id": "5794f6c4-4917-430e-b639-0bf90e151cd9",
   "metadata": {},
   "outputs": [
    {
     "data": {
      "text/plain": [
       "e    14\n",
       "g    17\n",
       "i    17\n",
       "h   -41\n",
       "dtype: int64"
      ]
     },
     "execution_count": 7,
     "metadata": {},
     "output_type": "execute_result"
    }
   ],
   "source": [
    "s.loc['e':'h']"
   ]
  },
  {
   "cell_type": "code",
   "execution_count": 8,
   "id": "3b7664d4-88a3-40e1-b302-ad52e4160435",
   "metadata": {},
   "outputs": [
    {
     "data": {
      "text/plain": [
       "b    37\n",
       "d   -14\n",
       "dtype: int64"
      ]
     },
     "execution_count": 8,
     "metadata": {},
     "output_type": "execute_result"
    }
   ],
   "source": [
    "(\n",
    "    s\n",
    "    .sort_index()\n",
    "    .head()\n",
    "    .loc[['b','d']]\n",
    ")"
   ]
  },
  {
   "cell_type": "code",
   "execution_count": 10,
   "id": "8191cde0-23ce-4d37-9602-2d04eaac494a",
   "metadata": {},
   "outputs": [
    {
     "data": {
      "text/plain": [
       "a    -6\n",
       "c    -3\n",
       "e    14\n",
       "a    17\n",
       "i    17\n",
       "h   -41\n",
       "b    33\n",
       "j   -29\n",
       "d   -14\n",
       "b    37\n",
       "dtype: int64"
      ]
     },
     "execution_count": 10,
     "metadata": {},
     "output_type": "execute_result"
    }
   ],
   "source": [
    "np.random.seed(0)\n",
    "s = Series(np.random.randint(-50,50,10),\n",
    "           index=list('aceaihbjdb'))\n",
    "s"
   ]
  },
  {
   "cell_type": "code",
   "execution_count": 23,
   "id": "8b61932d-3222-4f6c-b6cb-827e48799b15",
   "metadata": {},
   "outputs": [
    {
     "data": {
      "text/plain": [
       "Raman    35\n",
       "Rawa     37\n",
       "Rawen    38\n",
       "Mama     62\n",
       "Papa     63\n",
       "Aunt     48\n",
       "Uncle    44\n",
       "dtype: int64"
      ]
     },
     "execution_count": 23,
     "metadata": {},
     "output_type": "execute_result"
    }
   ],
   "source": [
    "f = Series([35,37,38,62,63,48,44],\n",
    "           index = 'Raman Rawa Rawen Mama Papa Aunt Uncle'.split()\n",
    "          )\n",
    "f"
   ]
  },
  {
   "cell_type": "code",
   "execution_count": 13,
   "id": "992aab79-323f-4a61-ac16-ac9e78283d74",
   "metadata": {},
   "outputs": [
    {
     "data": {
      "text/plain": [
       "57.666666666666664"
      ]
     },
     "execution_count": 13,
     "metadata": {},
     "output_type": "execute_result"
    }
   ],
   "source": [
    "(\n",
    "    f\n",
    "    .sort_index()\n",
    "    .head(3)\n",
    "    .mean()\n",
    ")"
   ]
  },
  {
   "cell_type": "code",
   "execution_count": 14,
   "id": "c238f8df-3e2d-4dd4-86b2-fde243a4723a",
   "metadata": {},
   "outputs": [
    {
     "data": {
      "text/plain": [
       "Aunt     48\n",
       "Mama     62\n",
       "Papa     63\n",
       "Raman    35\n",
       "Rawa     37\n",
       "Rawen    38\n",
       "Uncle    44\n",
       "dtype: int64"
      ]
     },
     "execution_count": 14,
     "metadata": {},
     "output_type": "execute_result"
    }
   ],
   "source": [
    "f.sort_index()"
   ]
  },
  {
   "cell_type": "code",
   "execution_count": 22,
   "id": "f086dfca-7d11-46e1-bfa8-a108ac63a3b6",
   "metadata": {},
   "outputs": [
    {
     "ename": "TypeError",
     "evalue": "'Index' object is not callable",
     "output_type": "error",
     "traceback": [
      "\u001b[0;31m---------------------------------------------------------------------------\u001b[0m",
      "\u001b[0;31mTypeError\u001b[0m                                 Traceback (most recent call last)",
      "Cell \u001b[0;32mIn[22], line 3\u001b[0m\n\u001b[1;32m      1\u001b[0m (\n\u001b[1;32m      2\u001b[0m     \u001b[43mf\u001b[49m\n\u001b[0;32m----> 3\u001b[0m \u001b[43m    \u001b[49m\u001b[38;5;241;43m.\u001b[39;49m\u001b[43mindex\u001b[49m\u001b[43m(\u001b[49m\u001b[43mf\u001b[49m\n\u001b[1;32m      4\u001b[0m \u001b[43m    \u001b[49m\u001b[38;5;241;43m.\u001b[39;49m\u001b[43msort_values\u001b[49m\u001b[43m(\u001b[49m\u001b[43m)\u001b[49m\n\u001b[1;32m      5\u001b[0m \u001b[43m    \u001b[49m\u001b[38;5;241;43m.\u001b[39;49m\u001b[43mhead\u001b[49m\u001b[43m(\u001b[49m\u001b[38;5;241;43m1\u001b[39;49m\u001b[43m)\u001b[49m\n\u001b[1;32m      6\u001b[0m \u001b[43m         \u001b[49m\u001b[43m)\u001b[49m\n\u001b[1;32m      7\u001b[0m )\n",
      "\u001b[0;31mTypeError\u001b[0m: 'Index' object is not callable"
     ]
    }
   ],
   "source": [
    "(\n",
    "    f\n",
    "    .sort_values()\n",
    "    .head(1)\n",
    ")"
   ]
  },
  {
   "cell_type": "code",
   "execution_count": 16,
   "id": "e7361740-a0a8-4e4f-9738-c1875cf0523f",
   "metadata": {},
   "outputs": [
    {
     "data": {
      "text/plain": [
       "Papa    63\n",
       "dtype: int64"
      ]
     },
     "execution_count": 16,
     "metadata": {},
     "output_type": "execute_result"
    }
   ],
   "source": [
    "(\n",
    "    f\n",
    "    .sort_values()\n",
    "    .tail(1)\n",
    ")"
   ]
  },
  {
   "cell_type": "code",
   "execution_count": null,
   "id": "d1de2c50-003f-4f7a-9e40-0b4454815b67",
   "metadata": {},
   "outputs": [],
   "source": [
    "(\n",
    "    f\n",
    "    .sort_values()\n",
    "    .iloc()\n",
    ")"
   ]
  }
 ],
 "metadata": {
  "kernelspec": {
   "display_name": "Python 3 (ipykernel)",
   "language": "python",
   "name": "python3"
  },
  "language_info": {
   "codemirror_mode": {
    "name": "ipython",
    "version": 3
   },
   "file_extension": ".py",
   "mimetype": "text/x-python",
   "name": "python",
   "nbconvert_exporter": "python",
   "pygments_lexer": "ipython3",
   "version": "3.12.3"
  }
 },
 "nbformat": 4,
 "nbformat_minor": 5
}
