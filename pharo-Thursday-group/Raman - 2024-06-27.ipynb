{
 "cells": [
  {
   "cell_type": "code",
   "execution_count": 1,
   "id": "5e585383-0f45-43e7-bdb3-8a76227b8342",
   "metadata": {},
   "outputs": [],
   "source": [
    "import pandas as pd\n",
    "import numpy as np\n",
    "from pandas import Series, DataFrame"
   ]
  },
  {
   "cell_type": "code",
   "execution_count": 3,
   "id": "f7056819-f1a1-4eca-8ec4-d7e8a8bd28c5",
   "metadata": {},
   "outputs": [
    {
     "data": {
      "text/plain": [
       "a    -6\n",
       "c    -3\n",
       "e    14\n",
       "g    17\n",
       "i    17\n",
       "h   -41\n",
       "f    33\n",
       "j   -29\n",
       "d   -14\n",
       "b    37\n",
       "dtype: int64"
      ]
     },
     "execution_count": 3,
     "metadata": {},
     "output_type": "execute_result"
    }
   ],
   "source": [
    "np.random.seed(0)\n",
    "s = Series(np.random.randint(-50,50,10),\n",
    "           index=list('acegihfjdb'))\n",
    "s"
   ]
  },
  {
   "cell_type": "code",
   "execution_count": 5,
   "id": "ae581597-abf7-49ea-bf60-459e2c51f613",
   "metadata": {},
   "outputs": [
    {
     "data": {
      "text/plain": [
       "14"
      ]
     },
     "execution_count": 5,
     "metadata": {},
     "output_type": "execute_result"
    }
   ],
   "source": [
    "s.loc['e']"
   ]
  },
  {
   "cell_type": "code",
   "execution_count": 6,
   "id": "52fa750b-cabd-41ff-b4e5-a39456ef7a24",
   "metadata": {},
   "outputs": [
    {
     "data": {
      "text/plain": [
       "e    14\n",
       "a    -6\n",
       "dtype: int64"
      ]
     },
     "execution_count": 6,
     "metadata": {},
     "output_type": "execute_result"
    }
   ],
   "source": [
    "s.loc[['e','a']]"
   ]
  },
  {
   "cell_type": "code",
   "execution_count": 7,
   "id": "5794f6c4-4917-430e-b639-0bf90e151cd9",
   "metadata": {},
   "outputs": [
    {
     "data": {
      "text/plain": [
       "e    14\n",
       "g    17\n",
       "i    17\n",
       "h   -41\n",
       "dtype: int64"
      ]
     },
     "execution_count": 7,
     "metadata": {},
     "output_type": "execute_result"
    }
   ],
   "source": [
    "s.loc['e':'h']"
   ]
  },
  {
   "cell_type": "code",
   "execution_count": 8,
   "id": "3b7664d4-88a3-40e1-b302-ad52e4160435",
   "metadata": {},
   "outputs": [
    {
     "data": {
      "text/plain": [
       "b    37\n",
       "d   -14\n",
       "dtype: int64"
      ]
     },
     "execution_count": 8,
     "metadata": {},
     "output_type": "execute_result"
    }
   ],
   "source": [
    "(\n",
    "    s\n",
    "    .sort_index()\n",
    "    .head()\n",
    "    .loc[['b','d']]\n",
    ")"
   ]
  },
  {
   "cell_type": "code",
   "execution_count": 10,
   "id": "8191cde0-23ce-4d37-9602-2d04eaac494a",
   "metadata": {},
   "outputs": [
    {
     "data": {
      "text/plain": [
       "a    -6\n",
       "c    -3\n",
       "e    14\n",
       "a    17\n",
       "i    17\n",
       "h   -41\n",
       "b    33\n",
       "j   -29\n",
       "d   -14\n",
       "b    37\n",
       "dtype: int64"
      ]
     },
     "execution_count": 10,
     "metadata": {},
     "output_type": "execute_result"
    }
   ],
   "source": [
    "np.random.seed(0)\n",
    "s = Series(np.random.randint(-50,50,10),\n",
    "           index=list('aceaihbjdb'))\n",
    "s"
   ]
  },
  {
   "cell_type": "code",
   "execution_count": 23,
   "id": "8b61932d-3222-4f6c-b6cb-827e48799b15",
   "metadata": {},
   "outputs": [
    {
     "data": {
      "text/plain": [
       "Raman    35\n",
       "Rawa     37\n",
       "Rawen    38\n",
       "Mama     62\n",
       "Papa     63\n",
       "Aunt     48\n",
       "Uncle    44\n",
       "dtype: int64"
      ]
     },
     "execution_count": 23,
     "metadata": {},
     "output_type": "execute_result"
    }
   ],
   "source": [
    "f = Series([35,37,38,62,63,48,44],\n",
    "           index = 'Raman Rawa Rawen Mama Papa Aunt Uncle'.split()\n",
    "          )\n",
    "f"
   ]
  },
  {
   "cell_type": "code",
   "execution_count": 13,
   "id": "992aab79-323f-4a61-ac16-ac9e78283d74",
   "metadata": {},
   "outputs": [
    {
     "data": {
      "text/plain": [
       "57.666666666666664"
      ]
     },
     "execution_count": 13,
     "metadata": {},
     "output_type": "execute_result"
    }
   ],
   "source": [
    "(\n",
    "    f\n",
    "    .sort_index()\n",
    "    .head(3)\n",
    "    .mean()\n",
    ")"
   ]
  },
  {
   "cell_type": "code",
   "execution_count": 14,
   "id": "c238f8df-3e2d-4dd4-86b2-fde243a4723a",
   "metadata": {},
   "outputs": [
    {
     "data": {
      "text/plain": [
       "Aunt     48\n",
       "Mama     62\n",
       "Papa     63\n",
       "Raman    35\n",
       "Rawa     37\n",
       "Rawen    38\n",
       "Uncle    44\n",
       "dtype: int64"
      ]
     },
     "execution_count": 14,
     "metadata": {},
     "output_type": "execute_result"
    }
   ],
   "source": [
    "f.sort_index()"
   ]
  },
  {
   "cell_type": "code",
   "execution_count": 32,
   "id": "f086dfca-7d11-46e1-bfa8-a108ac63a3b6",
   "metadata": {},
   "outputs": [
    {
     "data": {
      "text/plain": [
       "Raman    35\n",
       "dtype: int64"
      ]
     },
     "execution_count": 32,
     "metadata": {},
     "output_type": "execute_result"
    }
   ],
   "source": [
    "(\n",
    "    f\n",
    "    .sort_values()\n",
    "    .head(1)\n",
    ")"
   ]
  },
  {
   "cell_type": "code",
   "execution_count": 16,
   "id": "e7361740-a0a8-4e4f-9738-c1875cf0523f",
   "metadata": {},
   "outputs": [
    {
     "data": {
      "text/plain": [
       "Papa    63\n",
       "dtype: int64"
      ]
     },
     "execution_count": 16,
     "metadata": {},
     "output_type": "execute_result"
    }
   ],
   "source": [
    "(\n",
    "    f\n",
    "    .sort_values()\n",
    "    .tail(1)\n",
    ")"
   ]
  },
  {
   "cell_type": "code",
   "execution_count": 25,
   "id": "d1de2c50-003f-4f7a-9e40-0b4454815b67",
   "metadata": {},
   "outputs": [
    {
     "data": {
      "text/plain": [
       "Raman    35\n",
       "Papa     63\n",
       "dtype: int64"
      ]
     },
     "execution_count": 25,
     "metadata": {},
     "output_type": "execute_result"
    }
   ],
   "source": [
    "(\n",
    "    f\n",
    "    .sort_values()\n",
    "    .iloc[[0,-1]]\n",
    ")"
   ]
  },
  {
   "cell_type": "code",
   "execution_count": 27,
   "id": "60e3945e-348a-4df2-9f6e-486b46581482",
   "metadata": {},
   "outputs": [
    {
     "data": {
      "text/plain": [
       "array(['Raman', 'Papa'], dtype=object)"
      ]
     },
     "execution_count": 27,
     "metadata": {},
     "output_type": "execute_result"
    }
   ],
   "source": [
    "(\n",
    "    f\n",
    "    .sort_values()\n",
    "    .iloc[[0,-1]]\n",
    "    .index\n",
    "    .values\n",
    ")"
   ]
  },
  {
   "cell_type": "code",
   "execution_count": 29,
   "id": "32f45525-3205-47de-ba83-a025525d8c83",
   "metadata": {},
   "outputs": [
    {
     "data": {
      "text/plain": [
       "idxmin    Raman\n",
       "idxmax     Papa\n",
       "dtype: object"
      ]
     },
     "execution_count": 29,
     "metadata": {},
     "output_type": "execute_result"
    }
   ],
   "source": [
    "(\n",
    "    f\n",
    "    .agg(['idxmin','idxmax'])\n",
    ")"
   ]
  },
  {
   "cell_type": "code",
   "execution_count": 31,
   "id": "68502545-6d51-4fdb-a23c-515aa9612fcb",
   "metadata": {},
   "outputs": [
    {
     "data": {
      "text/plain": [
       "Papa     63\n",
       "Mama     62\n",
       "Aunt     48\n",
       "Uncle    44\n",
       "Rawen    38\n",
       "Rawa     37\n",
       "Raman    35\n",
       "dtype: int64"
      ]
     },
     "execution_count": 31,
     "metadata": {},
     "output_type": "execute_result"
    }
   ],
   "source": [
    "f.sort_values(ascending=False)"
   ]
  },
  {
   "cell_type": "code",
   "execution_count": 37,
   "id": "4837e174-62a9-449a-98de-df797b8a4e21",
   "metadata": {},
   "outputs": [
    {
     "data": {
      "text/plain": [
       "a    -6\n",
       "b    -3\n",
       "c    14\n",
       "d    17\n",
       "e    17\n",
       "f   -41\n",
       "g    33\n",
       "h   -29\n",
       "i   -14\n",
       "j    37\n",
       "dtype: int64"
      ]
     },
     "execution_count": 37,
     "metadata": {},
     "output_type": "execute_result"
    }
   ],
   "source": [
    "np.random.seed(0)\n",
    "\n",
    "s = Series(np.random.randint(-50,50,10),\n",
    "           index = list('abcdefghij')\n",
    "          )\n",
    "\n",
    "s"
   ]
  },
  {
   "cell_type": "code",
   "execution_count": 39,
   "id": "b88d8957-927a-4014-b525-0633696a661e",
   "metadata": {},
   "outputs": [],
   "source": [
    "url = 'https://gist.githubusercontent.com/reuven/77edbb0292901f35019f17edb9794358/raw/2bf258763cdddd704f8ffd3ea9a3e81d25e2c6f6/cities.json'\n",
    "\n",
    "df = pd.read_json(url)\n"
   ]
  },
  {
   "cell_type": "code",
   "execution_count": 40,
   "id": "3a0533f5-882e-4318-b7a2-a6e9fa730f4d",
   "metadata": {},
   "outputs": [
    {
     "data": {
      "text/html": [
       "<div>\n",
       "<style scoped>\n",
       "    .dataframe tbody tr th:only-of-type {\n",
       "        vertical-align: middle;\n",
       "    }\n",
       "\n",
       "    .dataframe tbody tr th {\n",
       "        vertical-align: top;\n",
       "    }\n",
       "\n",
       "    .dataframe thead th {\n",
       "        text-align: right;\n",
       "    }\n",
       "</style>\n",
       "<table border=\"1\" class=\"dataframe\">\n",
       "  <thead>\n",
       "    <tr style=\"text-align: right;\">\n",
       "      <th></th>\n",
       "      <th>growth_from_2000_to_2013</th>\n",
       "      <th>latitude</th>\n",
       "      <th>longitude</th>\n",
       "      <th>population</th>\n",
       "      <th>rank</th>\n",
       "      <th>state</th>\n",
       "    </tr>\n",
       "    <tr>\n",
       "      <th>city</th>\n",
       "      <th></th>\n",
       "      <th></th>\n",
       "      <th></th>\n",
       "      <th></th>\n",
       "      <th></th>\n",
       "      <th></th>\n",
       "    </tr>\n",
       "  </thead>\n",
       "  <tbody>\n",
       "    <tr>\n",
       "      <th>New York</th>\n",
       "      <td>4.8%</td>\n",
       "      <td>40.712784</td>\n",
       "      <td>-74.005941</td>\n",
       "      <td>8405837</td>\n",
       "      <td>1</td>\n",
       "      <td>New York</td>\n",
       "    </tr>\n",
       "    <tr>\n",
       "      <th>Los Angeles</th>\n",
       "      <td>4.8%</td>\n",
       "      <td>34.052234</td>\n",
       "      <td>-118.243685</td>\n",
       "      <td>3884307</td>\n",
       "      <td>2</td>\n",
       "      <td>California</td>\n",
       "    </tr>\n",
       "    <tr>\n",
       "      <th>Chicago</th>\n",
       "      <td>-6.1%</td>\n",
       "      <td>41.878114</td>\n",
       "      <td>-87.629798</td>\n",
       "      <td>2718782</td>\n",
       "      <td>3</td>\n",
       "      <td>Illinois</td>\n",
       "    </tr>\n",
       "    <tr>\n",
       "      <th>Houston</th>\n",
       "      <td>11.0%</td>\n",
       "      <td>29.760427</td>\n",
       "      <td>-95.369803</td>\n",
       "      <td>2195914</td>\n",
       "      <td>4</td>\n",
       "      <td>Texas</td>\n",
       "    </tr>\n",
       "    <tr>\n",
       "      <th>Philadelphia</th>\n",
       "      <td>2.6%</td>\n",
       "      <td>39.952584</td>\n",
       "      <td>-75.165222</td>\n",
       "      <td>1553165</td>\n",
       "      <td>5</td>\n",
       "      <td>Pennsylvania</td>\n",
       "    </tr>\n",
       "    <tr>\n",
       "      <th>...</th>\n",
       "      <td>...</td>\n",
       "      <td>...</td>\n",
       "      <td>...</td>\n",
       "      <td>...</td>\n",
       "      <td>...</td>\n",
       "      <td>...</td>\n",
       "    </tr>\n",
       "    <tr>\n",
       "      <th>Weslaco</th>\n",
       "      <td>28.8%</td>\n",
       "      <td>26.159519</td>\n",
       "      <td>-97.990837</td>\n",
       "      <td>37093</td>\n",
       "      <td>996</td>\n",
       "      <td>Texas</td>\n",
       "    </tr>\n",
       "    <tr>\n",
       "      <th>Keizer</th>\n",
       "      <td>14.4%</td>\n",
       "      <td>44.990119</td>\n",
       "      <td>-123.026208</td>\n",
       "      <td>37064</td>\n",
       "      <td>997</td>\n",
       "      <td>Oregon</td>\n",
       "    </tr>\n",
       "    <tr>\n",
       "      <th>Spanish Fork</th>\n",
       "      <td>78.1%</td>\n",
       "      <td>40.114955</td>\n",
       "      <td>-111.654923</td>\n",
       "      <td>36956</td>\n",
       "      <td>998</td>\n",
       "      <td>Utah</td>\n",
       "    </tr>\n",
       "    <tr>\n",
       "      <th>Beloit</th>\n",
       "      <td>2.9%</td>\n",
       "      <td>42.508348</td>\n",
       "      <td>-89.031776</td>\n",
       "      <td>36888</td>\n",
       "      <td>999</td>\n",
       "      <td>Wisconsin</td>\n",
       "    </tr>\n",
       "    <tr>\n",
       "      <th>Panama City</th>\n",
       "      <td>0.1%</td>\n",
       "      <td>30.158813</td>\n",
       "      <td>-85.660206</td>\n",
       "      <td>36877</td>\n",
       "      <td>1000</td>\n",
       "      <td>Florida</td>\n",
       "    </tr>\n",
       "  </tbody>\n",
       "</table>\n",
       "<p>1000 rows × 6 columns</p>\n",
       "</div>"
      ],
      "text/plain": [
       "             growth_from_2000_to_2013   latitude   longitude  population  \\\n",
       "city                                                                       \n",
       "New York                         4.8%  40.712784  -74.005941     8405837   \n",
       "Los Angeles                      4.8%  34.052234 -118.243685     3884307   \n",
       "Chicago                         -6.1%  41.878114  -87.629798     2718782   \n",
       "Houston                         11.0%  29.760427  -95.369803     2195914   \n",
       "Philadelphia                     2.6%  39.952584  -75.165222     1553165   \n",
       "...                               ...        ...         ...         ...   \n",
       "Weslaco                         28.8%  26.159519  -97.990837       37093   \n",
       "Keizer                          14.4%  44.990119 -123.026208       37064   \n",
       "Spanish Fork                    78.1%  40.114955 -111.654923       36956   \n",
       "Beloit                           2.9%  42.508348  -89.031776       36888   \n",
       "Panama City                      0.1%  30.158813  -85.660206       36877   \n",
       "\n",
       "              rank         state  \n",
       "city                              \n",
       "New York         1      New York  \n",
       "Los Angeles      2    California  \n",
       "Chicago          3      Illinois  \n",
       "Houston          4         Texas  \n",
       "Philadelphia     5  Pennsylvania  \n",
       "...            ...           ...  \n",
       "Weslaco        996         Texas  \n",
       "Keizer         997        Oregon  \n",
       "Spanish Fork   998          Utah  \n",
       "Beloit         999     Wisconsin  \n",
       "Panama City   1000       Florida  \n",
       "\n",
       "[1000 rows x 6 columns]"
      ]
     },
     "execution_count": 40,
     "metadata": {},
     "output_type": "execute_result"
    }
   ],
   "source": [
    "df.set_index('city')"
   ]
  },
  {
   "cell_type": "code",
   "execution_count": 54,
   "id": "078b1fc4-4167-45dd-b780-d5e71ae7729f",
   "metadata": {},
   "outputs": [],
   "source": [
    "\n",
    "df2 = (\n",
    "    df\n",
    "    .value_counts()\n",
    "    .sort_index()\n",
    "    .head(20)\n",
    ")\n"
   ]
  },
  {
   "cell_type": "code",
   "execution_count": 65,
   "id": "626b762a-437c-485e-b76e-20fb81c76e29",
   "metadata": {},
   "outputs": [
    {
     "data": {
      "text/html": [
       "<div>\n",
       "<style scoped>\n",
       "    .dataframe tbody tr th:only-of-type {\n",
       "        vertical-align: middle;\n",
       "    }\n",
       "\n",
       "    .dataframe tbody tr th {\n",
       "        vertical-align: top;\n",
       "    }\n",
       "\n",
       "    .dataframe thead th {\n",
       "        text-align: right;\n",
       "    }\n",
       "</style>\n",
       "<table border=\"1\" class=\"dataframe\">\n",
       "  <thead>\n",
       "    <tr style=\"text-align: right;\">\n",
       "      <th></th>\n",
       "      <th></th>\n",
       "      <th></th>\n",
       "      <th></th>\n",
       "      <th></th>\n",
       "      <th></th>\n",
       "      <th></th>\n",
       "      <th>count</th>\n",
       "    </tr>\n",
       "    <tr>\n",
       "      <th>city</th>\n",
       "      <th>growth_from_2000_to_2013</th>\n",
       "      <th>latitude</th>\n",
       "      <th>longitude</th>\n",
       "      <th>population</th>\n",
       "      <th>rank</th>\n",
       "      <th>state</th>\n",
       "      <th></th>\n",
       "    </tr>\n",
       "  </thead>\n",
       "  <tbody>\n",
       "    <tr>\n",
       "      <th>Abilene</th>\n",
       "      <th>3.6%</th>\n",
       "      <th>32.448736</th>\n",
       "      <th>-99.733144</th>\n",
       "      <th>120099</th>\n",
       "      <th>221</th>\n",
       "      <th>Texas</th>\n",
       "      <td>1</td>\n",
       "    </tr>\n",
       "    <tr>\n",
       "      <th>Addison</th>\n",
       "      <th>2.6%</th>\n",
       "      <th>41.931696</th>\n",
       "      <th>-87.988956</th>\n",
       "      <th>37385</th>\n",
       "      <th>986</th>\n",
       "      <th>Illinois</th>\n",
       "      <td>1</td>\n",
       "    </tr>\n",
       "    <tr>\n",
       "      <th>Akron</th>\n",
       "      <th>-8.6%</th>\n",
       "      <th>41.081445</th>\n",
       "      <th>-81.519005</th>\n",
       "      <th>198100</th>\n",
       "      <th>116</th>\n",
       "      <th>Ohio</th>\n",
       "      <td>1</td>\n",
       "    </tr>\n",
       "    <tr>\n",
       "      <th>Alameda</th>\n",
       "      <th>5.4%</th>\n",
       "      <th>37.765206</th>\n",
       "      <th>-122.241636</th>\n",
       "      <th>76419</th>\n",
       "      <th>435</th>\n",
       "      <th>California</th>\n",
       "      <td>1</td>\n",
       "    </tr>\n",
       "    <tr>\n",
       "      <th rowspan=\"3\" valign=\"top\">Albany</th>\n",
       "      <th>-0.6%</th>\n",
       "      <th>31.578507</th>\n",
       "      <th>-84.155741</th>\n",
       "      <th>76185</th>\n",
       "      <th>436</th>\n",
       "      <th>Georgia</th>\n",
       "      <td>1</td>\n",
       "    </tr>\n",
       "    <tr>\n",
       "      <th>25.5%</th>\n",
       "      <th>44.636511</th>\n",
       "      <th>-123.105928</th>\n",
       "      <th>51583</th>\n",
       "      <th>714</th>\n",
       "      <th>Oregon</th>\n",
       "      <td>1</td>\n",
       "    </tr>\n",
       "    <tr>\n",
       "      <th>4.1%</th>\n",
       "      <th>42.652579</th>\n",
       "      <th>-73.756232</th>\n",
       "      <th>98424</th>\n",
       "      <th>299</th>\n",
       "      <th>New York</th>\n",
       "      <td>1</td>\n",
       "    </tr>\n",
       "    <tr>\n",
       "      <th>Albuquerque</th>\n",
       "      <th>23.5%</th>\n",
       "      <th>35.085334</th>\n",
       "      <th>-106.605553</th>\n",
       "      <th>556495</th>\n",
       "      <th>32</th>\n",
       "      <th>New Mexico</th>\n",
       "      <td>1</td>\n",
       "    </tr>\n",
       "    <tr>\n",
       "      <th rowspan=\"2\" valign=\"top\">Alexandria</th>\n",
       "      <th>15.0%</th>\n",
       "      <th>38.804836</th>\n",
       "      <th>-77.046921</th>\n",
       "      <th>148892</th>\n",
       "      <th>165</th>\n",
       "      <th>Virginia</th>\n",
       "      <td>1</td>\n",
       "    </tr>\n",
       "    <tr>\n",
       "      <th>4.1%</th>\n",
       "      <th>31.311294</th>\n",
       "      <th>-92.445137</th>\n",
       "      <th>48426</th>\n",
       "      <th>775</th>\n",
       "      <th>Louisiana</th>\n",
       "      <td>1</td>\n",
       "    </tr>\n",
       "    <tr>\n",
       "      <th>Alhambra</th>\n",
       "      <th>-0.7%</th>\n",
       "      <th>34.095287</th>\n",
       "      <th>-118.127015</th>\n",
       "      <th>84577</th>\n",
       "      <th>372</th>\n",
       "      <th>California</th>\n",
       "      <td>1</td>\n",
       "    </tr>\n",
       "    <tr>\n",
       "      <th>Aliso Viejo</th>\n",
       "      <th>25.4%</th>\n",
       "      <th>33.567684</th>\n",
       "      <th>-117.725608</th>\n",
       "      <th>50175</th>\n",
       "      <th>741</th>\n",
       "      <th>California</th>\n",
       "      <td>1</td>\n",
       "    </tr>\n",
       "    <tr>\n",
       "      <th>Allen</th>\n",
       "      <th>104.0%</th>\n",
       "      <th>33.103174</th>\n",
       "      <th>-96.670550</th>\n",
       "      <th>92020</th>\n",
       "      <th>328</th>\n",
       "      <th>Texas</th>\n",
       "      <td>1</td>\n",
       "    </tr>\n",
       "    <tr>\n",
       "      <th>Allentown</th>\n",
       "      <th>11.2%</th>\n",
       "      <th>40.608430</th>\n",
       "      <th>-75.490183</th>\n",
       "      <th>118577</th>\n",
       "      <th>224</th>\n",
       "      <th>Pennsylvania</th>\n",
       "      <td>1</td>\n",
       "    </tr>\n",
       "    <tr>\n",
       "      <th>Alpharetta</th>\n",
       "      <th>33.6%</th>\n",
       "      <th>34.075376</th>\n",
       "      <th>-84.294090</th>\n",
       "      <th>62298</th>\n",
       "      <th>560</th>\n",
       "      <th>Georgia</th>\n",
       "      <td>1</td>\n",
       "    </tr>\n",
       "    <tr>\n",
       "      <th>Altamonte Springs</th>\n",
       "      <th>2.0%</th>\n",
       "      <th>28.661109</th>\n",
       "      <th>-81.365624</th>\n",
       "      <th>42150</th>\n",
       "      <th>873</th>\n",
       "      <th>Florida</th>\n",
       "      <td>1</td>\n",
       "    </tr>\n",
       "    <tr>\n",
       "      <th>Altoona</th>\n",
       "      <th>-7.3%</th>\n",
       "      <th>40.518681</th>\n",
       "      <th>-78.394736</th>\n",
       "      <th>45796</th>\n",
       "      <th>812</th>\n",
       "      <th>Pennsylvania</th>\n",
       "      <td>1</td>\n",
       "    </tr>\n",
       "    <tr>\n",
       "      <th>Amarillo</th>\n",
       "      <th>12.8%</th>\n",
       "      <th>35.221997</th>\n",
       "      <th>-101.831297</th>\n",
       "      <th>196429</th>\n",
       "      <th>120</th>\n",
       "      <th>Texas</th>\n",
       "      <td>1</td>\n",
       "    </tr>\n",
       "    <tr>\n",
       "      <th>Ames</th>\n",
       "      <th>21.3%</th>\n",
       "      <th>42.034722</th>\n",
       "      <th>-93.620000</th>\n",
       "      <th>61792</th>\n",
       "      <th>568</th>\n",
       "      <th>Iowa</th>\n",
       "      <td>1</td>\n",
       "    </tr>\n",
       "    <tr>\n",
       "      <th>Anaheim</th>\n",
       "      <th>4.7%</th>\n",
       "      <th>33.835293</th>\n",
       "      <th>-117.914504</th>\n",
       "      <th>345012</th>\n",
       "      <th>56</th>\n",
       "      <th>California</th>\n",
       "      <td>1</td>\n",
       "    </tr>\n",
       "  </tbody>\n",
       "</table>\n",
       "</div>"
      ],
      "text/plain": [
       "                                                                                               count\n",
       "city              growth_from_2000_to_2013 latitude  longitude   population rank state              \n",
       "Abilene           3.6%                     32.448736 -99.733144  120099     221  Texas             1\n",
       "Addison           2.6%                     41.931696 -87.988956  37385      986  Illinois          1\n",
       "Akron             -8.6%                    41.081445 -81.519005  198100     116  Ohio              1\n",
       "Alameda           5.4%                     37.765206 -122.241636 76419      435  California        1\n",
       "Albany            -0.6%                    31.578507 -84.155741  76185      436  Georgia           1\n",
       "                  25.5%                    44.636511 -123.105928 51583      714  Oregon            1\n",
       "                  4.1%                     42.652579 -73.756232  98424      299  New York          1\n",
       "Albuquerque       23.5%                    35.085334 -106.605553 556495     32   New Mexico        1\n",
       "Alexandria        15.0%                    38.804836 -77.046921  148892     165  Virginia          1\n",
       "                  4.1%                     31.311294 -92.445137  48426      775  Louisiana         1\n",
       "Alhambra          -0.7%                    34.095287 -118.127015 84577      372  California        1\n",
       "Aliso Viejo       25.4%                    33.567684 -117.725608 50175      741  California        1\n",
       "Allen             104.0%                   33.103174 -96.670550  92020      328  Texas             1\n",
       "Allentown         11.2%                    40.608430 -75.490183  118577     224  Pennsylvania      1\n",
       "Alpharetta        33.6%                    34.075376 -84.294090  62298      560  Georgia           1\n",
       "Altamonte Springs 2.0%                     28.661109 -81.365624  42150      873  Florida           1\n",
       "Altoona           -7.3%                    40.518681 -78.394736  45796      812  Pennsylvania      1\n",
       "Amarillo          12.8%                    35.221997 -101.831297 196429     120  Texas             1\n",
       "Ames              21.3%                    42.034722 -93.620000  61792      568  Iowa              1\n",
       "Anaheim           4.7%                     33.835293 -117.914504 345012     56   California        1"
      ]
     },
     "execution_count": 65,
     "metadata": {},
     "output_type": "execute_result"
    }
   ],
   "source": [
    "df2 = DataFrame(df2)\n",
    "df2"
   ]
  },
  {
   "cell_type": "code",
   "execution_count": 69,
   "id": "ab479784-529a-40b5-97e4-79821b3253c0",
   "metadata": {},
   "outputs": [
    {
     "ename": "KeyError",
     "evalue": "'population'",
     "output_type": "error",
     "traceback": [
      "\u001b[0;31m---------------------------------------------------------------------------\u001b[0m",
      "\u001b[0;31mKeyError\u001b[0m                                  Traceback (most recent call last)",
      "File \u001b[0;32m~/.pyenv/versions/3.12.3/lib/python3.12/site-packages/pandas/core/indexes/base.py:3805\u001b[0m, in \u001b[0;36mIndex.get_loc\u001b[0;34m(self, key)\u001b[0m\n\u001b[1;32m   3804\u001b[0m \u001b[38;5;28;01mtry\u001b[39;00m:\n\u001b[0;32m-> 3805\u001b[0m     \u001b[38;5;28;01mreturn\u001b[39;00m \u001b[38;5;28;43mself\u001b[39;49m\u001b[38;5;241;43m.\u001b[39;49m\u001b[43m_engine\u001b[49m\u001b[38;5;241;43m.\u001b[39;49m\u001b[43mget_loc\u001b[49m\u001b[43m(\u001b[49m\u001b[43mcasted_key\u001b[49m\u001b[43m)\u001b[49m\n\u001b[1;32m   3806\u001b[0m \u001b[38;5;28;01mexcept\u001b[39;00m \u001b[38;5;167;01mKeyError\u001b[39;00m \u001b[38;5;28;01mas\u001b[39;00m err:\n",
      "File \u001b[0;32mindex.pyx:167\u001b[0m, in \u001b[0;36mpandas._libs.index.IndexEngine.get_loc\u001b[0;34m()\u001b[0m\n",
      "File \u001b[0;32mindex.pyx:196\u001b[0m, in \u001b[0;36mpandas._libs.index.IndexEngine.get_loc\u001b[0;34m()\u001b[0m\n",
      "File \u001b[0;32mpandas/_libs/hashtable_class_helper.pxi:7081\u001b[0m, in \u001b[0;36mpandas._libs.hashtable.PyObjectHashTable.get_item\u001b[0;34m()\u001b[0m\n",
      "File \u001b[0;32mpandas/_libs/hashtable_class_helper.pxi:7089\u001b[0m, in \u001b[0;36mpandas._libs.hashtable.PyObjectHashTable.get_item\u001b[0;34m()\u001b[0m\n",
      "\u001b[0;31mKeyError\u001b[0m: 'population'",
      "\nThe above exception was the direct cause of the following exception:\n",
      "\u001b[0;31mKeyError\u001b[0m                                  Traceback (most recent call last)",
      "Cell \u001b[0;32mIn[69], line 1\u001b[0m\n\u001b[0;32m----> 1\u001b[0m \u001b[43mdf2\u001b[49m\u001b[43m[\u001b[49m\u001b[38;5;124;43m'\u001b[39;49m\u001b[38;5;124;43mpopulation\u001b[39;49m\u001b[38;5;124;43m'\u001b[39;49m\u001b[43m]\u001b[49m\n",
      "File \u001b[0;32m~/.pyenv/versions/3.12.3/lib/python3.12/site-packages/pandas/core/frame.py:4102\u001b[0m, in \u001b[0;36mDataFrame.__getitem__\u001b[0;34m(self, key)\u001b[0m\n\u001b[1;32m   4100\u001b[0m \u001b[38;5;28;01mif\u001b[39;00m \u001b[38;5;28mself\u001b[39m\u001b[38;5;241m.\u001b[39mcolumns\u001b[38;5;241m.\u001b[39mnlevels \u001b[38;5;241m>\u001b[39m \u001b[38;5;241m1\u001b[39m:\n\u001b[1;32m   4101\u001b[0m     \u001b[38;5;28;01mreturn\u001b[39;00m \u001b[38;5;28mself\u001b[39m\u001b[38;5;241m.\u001b[39m_getitem_multilevel(key)\n\u001b[0;32m-> 4102\u001b[0m indexer \u001b[38;5;241m=\u001b[39m \u001b[38;5;28;43mself\u001b[39;49m\u001b[38;5;241;43m.\u001b[39;49m\u001b[43mcolumns\u001b[49m\u001b[38;5;241;43m.\u001b[39;49m\u001b[43mget_loc\u001b[49m\u001b[43m(\u001b[49m\u001b[43mkey\u001b[49m\u001b[43m)\u001b[49m\n\u001b[1;32m   4103\u001b[0m \u001b[38;5;28;01mif\u001b[39;00m is_integer(indexer):\n\u001b[1;32m   4104\u001b[0m     indexer \u001b[38;5;241m=\u001b[39m [indexer]\n",
      "File \u001b[0;32m~/.pyenv/versions/3.12.3/lib/python3.12/site-packages/pandas/core/indexes/base.py:3812\u001b[0m, in \u001b[0;36mIndex.get_loc\u001b[0;34m(self, key)\u001b[0m\n\u001b[1;32m   3807\u001b[0m     \u001b[38;5;28;01mif\u001b[39;00m \u001b[38;5;28misinstance\u001b[39m(casted_key, \u001b[38;5;28mslice\u001b[39m) \u001b[38;5;129;01mor\u001b[39;00m (\n\u001b[1;32m   3808\u001b[0m         \u001b[38;5;28misinstance\u001b[39m(casted_key, abc\u001b[38;5;241m.\u001b[39mIterable)\n\u001b[1;32m   3809\u001b[0m         \u001b[38;5;129;01mand\u001b[39;00m \u001b[38;5;28many\u001b[39m(\u001b[38;5;28misinstance\u001b[39m(x, \u001b[38;5;28mslice\u001b[39m) \u001b[38;5;28;01mfor\u001b[39;00m x \u001b[38;5;129;01min\u001b[39;00m casted_key)\n\u001b[1;32m   3810\u001b[0m     ):\n\u001b[1;32m   3811\u001b[0m         \u001b[38;5;28;01mraise\u001b[39;00m InvalidIndexError(key)\n\u001b[0;32m-> 3812\u001b[0m     \u001b[38;5;28;01mraise\u001b[39;00m \u001b[38;5;167;01mKeyError\u001b[39;00m(key) \u001b[38;5;28;01mfrom\u001b[39;00m \u001b[38;5;21;01merr\u001b[39;00m\n\u001b[1;32m   3813\u001b[0m \u001b[38;5;28;01mexcept\u001b[39;00m \u001b[38;5;167;01mTypeError\u001b[39;00m:\n\u001b[1;32m   3814\u001b[0m     \u001b[38;5;66;03m# If we have a listlike key, _check_indexing_error will raise\u001b[39;00m\n\u001b[1;32m   3815\u001b[0m     \u001b[38;5;66;03m#  InvalidIndexError. Otherwise we fall through and re-raise\u001b[39;00m\n\u001b[1;32m   3816\u001b[0m     \u001b[38;5;66;03m#  the TypeError.\u001b[39;00m\n\u001b[1;32m   3817\u001b[0m     \u001b[38;5;28mself\u001b[39m\u001b[38;5;241m.\u001b[39m_check_indexing_error(key)\n",
      "\u001b[0;31mKeyError\u001b[0m: 'population'"
     ]
    }
   ],
   "source": [
    "df2['population']"
   ]
  }
 ],
 "metadata": {
  "kernelspec": {
   "display_name": "Python 3 (ipykernel)",
   "language": "python",
   "name": "python3"
  },
  "language_info": {
   "codemirror_mode": {
    "name": "ipython",
    "version": 3
   },
   "file_extension": ".py",
   "mimetype": "text/x-python",
   "name": "python",
   "nbconvert_exporter": "python",
   "pygments_lexer": "ipython3",
   "version": "3.12.3"
  }
 },
 "nbformat": 4,
 "nbformat_minor": 5
}
