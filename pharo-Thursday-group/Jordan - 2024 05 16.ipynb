{
 "cells": [
  {
   "cell_type": "code",
   "execution_count": 3,
   "id": "7f09df10-bf03-4ebb-ae78-6149a6a8073e",
   "metadata": {},
   "outputs": [],
   "source": [
    "import numpy as np\n",
    "import pandas as pd\n",
    "from pandas import Series, DataFrame"
   ]
  },
  {
   "cell_type": "code",
   "execution_count": 10,
   "id": "c1039b0e-f1d3-43bd-87b6-4ce5fb9841f7",
   "metadata": {},
   "outputs": [],
   "source": [
    "s = Series([10,20,30,40,50])"
   ]
  },
  {
   "cell_type": "code",
   "execution_count": 11,
   "id": "435d51dd-5f8b-42ad-af93-9e9959104c4b",
   "metadata": {},
   "outputs": [
    {
     "data": {
      "text/plain": [
       "0    10\n",
       "1    20\n",
       "2    30\n",
       "dtype: int64"
      ]
     },
     "execution_count": 11,
     "metadata": {},
     "output_type": "execute_result"
    }
   ],
   "source": [
    "# retrieve elements using booleans\n",
    "s.loc[[True, True, True, False, False]]\n"
   ]
  },
  {
   "cell_type": "code",
   "execution_count": 14,
   "id": "9c58d900-4293-4f62-b461-d8c047ab4b33",
   "metadata": {},
   "outputs": [
    {
     "data": {
      "text/plain": [
       "0    13\n",
       "1    23\n",
       "2    33\n",
       "3    43\n",
       "4    53\n",
       "dtype: int64"
      ]
     },
     "execution_count": 14,
     "metadata": {},
     "output_type": "execute_result"
    }
   ],
   "source": [
    "# broadcasting +3 to each element of s\n",
    "s + 3"
   ]
  },
  {
   "cell_type": "code",
   "execution_count": 15,
   "id": "07614fd0-aeed-4584-b6ed-88e7ce55aa36",
   "metadata": {},
   "outputs": [
    {
     "data": {
      "text/plain": [
       "0    False\n",
       "1    False\n",
       "2    False\n",
       "3     True\n",
       "4     True\n",
       "dtype: bool"
      ]
     },
     "execution_count": 15,
     "metadata": {},
     "output_type": "execute_result"
    }
   ],
   "source": [
    "# broadcasting a comparison operator\n",
    "s > 30"
   ]
  },
  {
   "cell_type": "code",
   "execution_count": 18,
   "id": "bae8cde1-8fa4-4e59-90ee-e5202bd95b8f",
   "metadata": {},
   "outputs": [
    {
     "data": {
      "text/plain": [
       "3    40\n",
       "4    50\n",
       "dtype: int64"
      ]
     },
     "execution_count": 18,
     "metadata": {},
     "output_type": "execute_result"
    }
   ],
   "source": [
    "# mask index; typically the same variable is inside and outside\n",
    "s.loc[ s>30 ]"
   ]
  },
  {
   "cell_type": "code",
   "execution_count": 25,
   "id": "f35f84aa-beb0-4702-825d-7098e89f22d4",
   "metadata": {},
   "outputs": [
    {
     "data": {
      "text/plain": [
       "3    40\n",
       "4    50\n",
       "dtype: int64"
      ]
     },
     "execution_count": 25,
     "metadata": {},
     "output_type": "execute_result"
    }
   ],
   "source": [
    "# show all elements where s is greater than s's mean\n",
    "s.loc[ s>s.mean() ]"
   ]
  },
  {
   "cell_type": "code",
   "execution_count": 31,
   "id": "2e7f29fc-2c82-4513-ad2c-cbd0d2eb3116",
   "metadata": {},
   "outputs": [
    {
     "data": {
      "text/plain": [
       "19.5"
      ]
     },
     "execution_count": 31,
     "metadata": {},
     "output_type": "execute_result"
    }
   ],
   "source": [
    "# Exercise : Find Extreme Temps\n",
    "highSeries = Series([16, 21, 20, 20, 19, 20, 20, 19, 20, 20])\n",
    "lowSeries = Series([10, 12, 11, 9, 8, 10, 11, 12, 12, 12])"
   ]
  },
  {
   "cell_type": "code",
   "execution_count": 30,
   "id": "3d679760-8e4d-445a-be8e-fe70efa61bbf",
   "metadata": {},
   "outputs": [
    {
     "data": {
      "text/plain": [
       "1    21\n",
       "2    20\n",
       "3    20\n",
       "5    20\n",
       "6    20\n",
       "8    20\n",
       "9    20\n",
       "dtype: int64"
      ]
     },
     "execution_count": 30,
     "metadata": {},
     "output_type": "execute_result"
    }
   ],
   "source": [
    "# 1. find high > mean\n",
    "highSeries.loc[ highSeries > highSeries.mean() ]"
   ]
  },
  {
   "cell_type": "code",
   "execution_count": 45,
   "id": "4b8e8477-28af-4431-9ce7-a6aefc5af5b1",
   "metadata": {},
   "outputs": [
    {
     "data": {
      "text/plain": [
       "0    10\n",
       "3     9\n",
       "4     8\n",
       "5    10\n",
       "dtype: int64"
      ]
     },
     "execution_count": 45,
     "metadata": {},
     "output_type": "execute_result"
    }
   ],
   "source": [
    "# 2. find low > mean\n",
    "lowSeries.loc[ lowSeries < lowSeries.mean() ]"
   ]
  },
  {
   "cell_type": "code",
   "execution_count": 41,
   "id": "01b3d3e3-0b58-4e08-8a13-503da7498798",
   "metadata": {},
   "outputs": [
    {
     "data": {
      "text/plain": [
       "1    21\n",
       "dtype: int64"
      ]
     },
     "execution_count": 41,
     "metadata": {},
     "output_type": "execute_result"
    }
   ],
   "source": [
    "# 3. any highs greater than mean +1 std\n",
    "highSeries.loc[ highSeries > highSeries.mean() + highSeries.std() ]"
   ]
  },
  {
   "cell_type": "code",
   "execution_count": 51,
   "id": "4298fb15-871e-470c-a68c-04d991832709",
   "metadata": {},
   "outputs": [
    {
     "data": {
      "text/plain": [
       "3    11\n",
       "4    11\n",
       "5    10\n",
       "dtype: int64"
      ]
     },
     "execution_count": 51,
     "metadata": {},
     "output_type": "execute_result"
    }
   ],
   "source": [
    "diffSeries = highSeries - lowSeries\n",
    "diffSeries.loc[ diffSeries > diffSeries.median() ]"
   ]
  },
  {
   "cell_type": "code",
   "execution_count": null,
   "id": "11bd3a04-f99c-4bc1-b07b-50033da6b8c8",
   "metadata": {},
   "outputs": [],
   "source": []
  }
 ],
 "metadata": {
  "kernelspec": {
   "display_name": "Python 3 (ipykernel)",
   "language": "python",
   "name": "python3"
  },
  "language_info": {
   "codemirror_mode": {
    "name": "ipython",
    "version": 3
   },
   "file_extension": ".py",
   "mimetype": "text/x-python",
   "name": "python",
   "nbconvert_exporter": "python",
   "pygments_lexer": "ipython3",
   "version": "3.12.3"
  }
 },
 "nbformat": 4,
 "nbformat_minor": 5
}
