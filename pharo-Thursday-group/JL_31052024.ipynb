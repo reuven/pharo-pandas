{
 "cells": [
  {
   "cell_type": "code",
   "execution_count": 1,
   "id": "d70a831d-df6c-4658-87be-ce8caa80ed29",
   "metadata": {},
   "outputs": [],
   "source": [
    "import numpy as np\n",
    "import pandas as pd\n",
    "from pandas import Series, DataFrame"
   ]
  },
  {
   "cell_type": "code",
   "execution_count": 2,
   "id": "8638bc1d-9eed-42a6-9cfa-109db106fa3f",
   "metadata": {},
   "outputs": [
    {
     "data": {
      "text/plain": [
       "a    16\n",
       "b    17\n",
       "c    18\n",
       "d    18\n",
       "e    17\n",
       "f    17\n",
       "g    17\n",
       "dtype: int64"
      ]
     },
     "execution_count": 2,
     "metadata": {},
     "output_type": "execute_result"
    }
   ],
   "source": [
    "s = Series([16, 17, 18, 18, 17, 17, 17],\n",
    "           index=list('abcdefg'))\n",
    "s"
   ]
  },
  {
   "cell_type": "code",
   "execution_count": 3,
   "id": "1c8201c0-d1a2-41ff-8a50-65558e70a20f",
   "metadata": {},
   "outputs": [],
   "source": [
    "s.index = list('abcdefg')"
   ]
  },
  {
   "cell_type": "code",
   "execution_count": 4,
   "id": "72e6b162-7191-4b20-9cc7-dffe9c445458",
   "metadata": {},
   "outputs": [
    {
     "data": {
      "text/plain": [
       "a    16\n",
       "b    17\n",
       "c    18\n",
       "d    18\n",
       "e    17\n",
       "f    17\n",
       "g    17\n",
       "dtype: int64"
      ]
     },
     "execution_count": 4,
     "metadata": {},
     "output_type": "execute_result"
    }
   ],
   "source": [
    "s"
   ]
  },
  {
   "cell_type": "code",
   "execution_count": 5,
   "id": "64d0ce54-79de-4c48-a8e3-24bcca7187b2",
   "metadata": {},
   "outputs": [
    {
     "data": {
      "text/plain": [
       "a    16\n",
       "b    17\n",
       "c    18\n",
       "d    18\n",
       "e    17\n",
       "f    17\n",
       "g    17\n",
       "dtype: int64"
      ]
     },
     "execution_count": 5,
     "metadata": {},
     "output_type": "execute_result"
    }
   ],
   "source": [
    "s.reset_index()\n",
    "s"
   ]
  },
  {
   "cell_type": "code",
   "execution_count": null,
   "id": "cd2fc25a-63e2-4ee9-ab8d-31e1d0cc9fc7",
   "metadata": {},
   "outputs": [],
   "source": []
  }
 ],
 "metadata": {
  "kernelspec": {
   "display_name": "Python 3 (ipykernel)",
   "language": "python",
   "name": "python3"
  },
  "language_info": {
   "codemirror_mode": {
    "name": "ipython",
    "version": 3
   },
   "file_extension": ".py",
   "mimetype": "text/x-python",
   "name": "python",
   "nbconvert_exporter": "python",
   "pygments_lexer": "ipython3",
   "version": "3.12.3"
  }
 },
 "nbformat": 4,
 "nbformat_minor": 5
}
