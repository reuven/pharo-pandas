{
 "cells": [
  {
   "cell_type": "code",
   "execution_count": null,
   "id": "d70a831d-df6c-4658-87be-ce8caa80ed29",
   "metadata": {},
   "outputs": [],
   "source": []
  }
 ],
 "metadata": {
  "kernelspec": {
   "display_name": "",
   "name": ""
  },
  "language_info": {
   "name": ""
  }
 },
 "nbformat": 4,
 "nbformat_minor": 5
}
