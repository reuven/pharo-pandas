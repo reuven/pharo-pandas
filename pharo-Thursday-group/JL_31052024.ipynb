{
 "cells": [
  {
   "cell_type": "code",
   "execution_count": 1,
   "id": "d70a831d-df6c-4658-87be-ce8caa80ed29",
   "metadata": {},
   "outputs": [],
   "source": [
    "import numpy as np\n",
    "import pandas as pd\n",
    "from pandas import Series, DataFrame"
   ]
  },
  {
   "cell_type": "code",
   "execution_count": 6,
   "id": "8638bc1d-9eed-42a6-9cfa-109db106fa3f",
   "metadata": {},
   "outputs": [
    {
     "data": {
      "text/plain": [
       "a    16\n",
       "b    17\n",
       "c    18\n",
       "d    18\n",
       "e    17\n",
       "f    17\n",
       "g    17\n",
       "h    18\n",
       "i    16\n",
       "j    17\n",
       "dtype: int64"
      ]
     },
     "execution_count": 6,
     "metadata": {},
     "output_type": "execute_result"
    }
   ],
   "source": [
    "s = Series([16, 17, 18, 18, 17, 17, 17, 18, 16, 17],\n",
    "           index=list('abcdefghij'))\n",
    "s"
   ]
  },
  {
   "cell_type": "code",
   "execution_count": 3,
   "id": "1c8201c0-d1a2-41ff-8a50-65558e70a20f",
   "metadata": {},
   "outputs": [],
   "source": [
    "s.index = list('abcdefg')"
   ]
  },
  {
   "cell_type": "code",
   "execution_count": 7,
   "id": "72e6b162-7191-4b20-9cc7-dffe9c445458",
   "metadata": {},
   "outputs": [
    {
     "data": {
      "text/plain": [
       "a    16\n",
       "b    17\n",
       "c    18\n",
       "d    18\n",
       "e    17\n",
       "f    17\n",
       "g    17\n",
       "h    18\n",
       "i    16\n",
       "j    17\n",
       "dtype: int64"
      ]
     },
     "execution_count": 7,
     "metadata": {},
     "output_type": "execute_result"
    }
   ],
   "source": [
    "s"
   ]
  },
  {
   "cell_type": "code",
   "execution_count": 8,
   "id": "64d0ce54-79de-4c48-a8e3-24bcca7187b2",
   "metadata": {},
   "outputs": [
    {
     "data": {
      "text/plain": [
       "a    16\n",
       "b    17\n",
       "c    18\n",
       "d    18\n",
       "e    17\n",
       "f    17\n",
       "g    17\n",
       "h    18\n",
       "i    16\n",
       "j    17\n",
       "dtype: int64"
      ]
     },
     "execution_count": 8,
     "metadata": {},
     "output_type": "execute_result"
    }
   ],
   "source": [
    "s.reset_index()\n",
    "s"
   ]
  },
  {
   "cell_type": "code",
   "execution_count": 11,
   "id": "cd2fc25a-63e2-4ee9-ab8d-31e1d0cc9fc7",
   "metadata": {},
   "outputs": [
    {
     "data": {
      "text/plain": [
       "0531    16\n",
       "0601    17\n",
       "0602    18\n",
       "0603    18\n",
       "0604    17\n",
       "0605    17\n",
       "0606    17\n",
       "0607    18\n",
       "0608    16\n",
       "0609    17\n",
       "dtype: int64"
      ]
     },
     "execution_count": 11,
     "metadata": {},
     "output_type": "execute_result"
    }
   ],
   "source": [
    "s = Series([16, 17, 18, 18, 17, 17, 17, 18, 16, 17],\n",
    "           index='0531 0601 0602 0603 0604 0605 0606 0607 0608 0609'.split())\n",
    "s"
   ]
  },
  {
   "cell_type": "code",
   "execution_count": 12,
   "id": "a4aaac9b-e5db-4439-97ba-32fc9af39b99",
   "metadata": {},
   "outputs": [
    {
     "data": {
      "text/html": [
       "<div>\n",
       "<style scoped>\n",
       "    .dataframe tbody tr th:only-of-type {\n",
       "        vertical-align: middle;\n",
       "    }\n",
       "\n",
       "    .dataframe tbody tr th {\n",
       "        vertical-align: top;\n",
       "    }\n",
       "\n",
       "    .dataframe thead th {\n",
       "        text-align: right;\n",
       "    }\n",
       "</style>\n",
       "<table border=\"1\" class=\"dataframe\">\n",
       "  <thead>\n",
       "    <tr style=\"text-align: right;\">\n",
       "      <th></th>\n",
       "      <th>index</th>\n",
       "      <th>0</th>\n",
       "    </tr>\n",
       "  </thead>\n",
       "  <tbody>\n",
       "    <tr>\n",
       "      <th>0</th>\n",
       "      <td>0531</td>\n",
       "      <td>16</td>\n",
       "    </tr>\n",
       "    <tr>\n",
       "      <th>1</th>\n",
       "      <td>0601</td>\n",
       "      <td>17</td>\n",
       "    </tr>\n",
       "    <tr>\n",
       "      <th>2</th>\n",
       "      <td>0602</td>\n",
       "      <td>18</td>\n",
       "    </tr>\n",
       "    <tr>\n",
       "      <th>3</th>\n",
       "      <td>0603</td>\n",
       "      <td>18</td>\n",
       "    </tr>\n",
       "    <tr>\n",
       "      <th>4</th>\n",
       "      <td>0604</td>\n",
       "      <td>17</td>\n",
       "    </tr>\n",
       "    <tr>\n",
       "      <th>5</th>\n",
       "      <td>0605</td>\n",
       "      <td>17</td>\n",
       "    </tr>\n",
       "    <tr>\n",
       "      <th>6</th>\n",
       "      <td>0606</td>\n",
       "      <td>17</td>\n",
       "    </tr>\n",
       "    <tr>\n",
       "      <th>7</th>\n",
       "      <td>0607</td>\n",
       "      <td>18</td>\n",
       "    </tr>\n",
       "    <tr>\n",
       "      <th>8</th>\n",
       "      <td>0608</td>\n",
       "      <td>16</td>\n",
       "    </tr>\n",
       "    <tr>\n",
       "      <th>9</th>\n",
       "      <td>0609</td>\n",
       "      <td>17</td>\n",
       "    </tr>\n",
       "  </tbody>\n",
       "</table>\n",
       "</div>"
      ],
      "text/plain": [
       "  index   0\n",
       "0  0531  16\n",
       "1  0601  17\n",
       "2  0602  18\n",
       "3  0603  18\n",
       "4  0604  17\n",
       "5  0605  17\n",
       "6  0606  17\n",
       "7  0607  18\n",
       "8  0608  16\n",
       "9  0609  17"
      ]
     },
     "execution_count": 12,
     "metadata": {},
     "output_type": "execute_result"
    }
   ],
   "source": [
    "s.reset_index()"
   ]
  },
  {
   "cell_type": "code",
   "execution_count": 16,
   "id": "e4bf0ecd-8fa3-4116-9719-9f9ad4722c1f",
   "metadata": {},
   "outputs": [
    {
     "ename": "SyntaxError",
     "evalue": "closing parenthesis ')' does not match opening parenthesis '[' (1312161664.py, line 4)",
     "output_type": "error",
     "traceback": [
      "\u001b[0;36m  Cell \u001b[0;32mIn[16], line 4\u001b[0;36m\u001b[0m\n\u001b[0;31m    .loc[s.index =='0602')]))]\u001b[0m\n\u001b[0m                         ^\u001b[0m\n\u001b[0;31mSyntaxError\u001b[0m\u001b[0;31m:\u001b[0m closing parenthesis ')' does not match opening parenthesis '['\n"
     ]
    }
   ],
   "source": [
    "(\n",
    "    s\n",
    "    .reset_indiex()\n",
    "    .loc[s.index =='0602')]))]\n",
    ")"
   ]
  },
  {
   "cell_type": "code",
   "execution_count": null,
   "id": "dd8fc316-012b-48b6-af68-384c7a619a1f",
   "metadata": {},
   "outputs": [],
   "source": []
  }
 ],
 "metadata": {
  "kernelspec": {
   "display_name": "Python 3 (ipykernel)",
   "language": "python",
   "name": "python3"
  },
  "language_info": {
   "codemirror_mode": {
    "name": "ipython",
    "version": 3
   },
   "file_extension": ".py",
   "mimetype": "text/x-python",
   "name": "python",
   "nbconvert_exporter": "python",
   "pygments_lexer": "ipython3",
   "version": "3.12.3"
  }
 },
 "nbformat": 4,
 "nbformat_minor": 5
}
