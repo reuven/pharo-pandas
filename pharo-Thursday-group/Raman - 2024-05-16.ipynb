{
 "cells": [
  {
   "cell_type": "code",
   "execution_count": 1,
   "id": "e7b50137-edc2-44ed-870b-a04cab644666",
   "metadata": {},
   "outputs": [],
   "source": [
    "import numpy as np\n",
    "import pandas as pd\n",
    "from pandas import Series, DataFrame\n"
   ]
  },
  {
   "cell_type": "code",
   "execution_count": 4,
   "id": "4e87ed4c-7ac8-4d6a-a42e-1d3f62d5aa45",
   "metadata": {},
   "outputs": [
    {
     "data": {
      "text/plain": [
       "a    10\n",
       "b    20\n",
       "c    30\n",
       "d    40\n",
       "e    50\n",
       "f    60\n",
       "dtype: int64"
      ]
     },
     "execution_count": 4,
     "metadata": {},
     "output_type": "execute_result"
    }
   ],
   "source": [
    "s = Series([10, 20, 30, 40, 50, 60],\n",
    "           index=list('abcdef'))\n",
    "s"
   ]
  },
  {
   "cell_type": "code",
   "execution_count": 3,
   "id": "df4ac586-9c87-41e8-b944-bfe62df440d2",
   "metadata": {},
   "outputs": [
    {
     "data": {
      "text/plain": [
       "20"
      ]
     },
     "execution_count": 3,
     "metadata": {},
     "output_type": "execute_result"
    }
   ],
   "source": [
    "# I can retrieve an element of s with either .loc or .iloc\n",
    "# .loc means that we want to use the index\n",
    "\n",
    "s.loc['b']"
   ]
  },
  {
   "cell_type": "code",
   "execution_count": 8,
   "id": "54d85e5b-65a4-4ca7-88d1-ca6a8cb8ef8c",
   "metadata": {
    "scrolled": true
   },
   "outputs": [
    {
     "name": "stdout",
     "output_type": "stream",
     "text": [
      "0    16\n",
      "1    21\n",
      "2    20\n",
      "3    20\n",
      "4    19\n",
      "5    20\n",
      "6    20\n",
      "7    19\n",
      "8    20\n",
      "9    20\n",
      "dtype: int64\n",
      "0    10\n",
      "1    12\n",
      "2    11\n",
      "3     9\n",
      "4     8\n",
      "5    10\n",
      "6    11\n",
      "7    12\n",
      "8    12\n",
      "9    12\n",
      "dtype: int64\n"
     ]
    }
   ],
   "source": [
    "highs = Series([16,21,20,20,19,20,20,19,20,20])\n",
    "lows = Series([10,12,11,9,8,10,11,12,12,12])\n",
    "print(highs)\n",
    "print(lows)"
   ]
  },
  {
   "cell_type": "code",
   "execution_count": 13,
   "id": "373c5be7-5abe-4dc5-be85-9da394e55c07",
   "metadata": {},
   "outputs": [
    {
     "data": {
      "text/plain": [
       "0    16\n",
       "1    21\n",
       "2    20\n",
       "3    20\n",
       "4    19\n",
       "5    20\n",
       "6    20\n",
       "7    19\n",
       "8    20\n",
       "9    20\n",
       "dtype: int64"
      ]
     },
     "execution_count": 13,
     "metadata": {},
     "output_type": "execute_result"
    }
   ],
   "source": [
    "highs"
   ]
  },
  {
   "cell_type": "code",
   "execution_count": 16,
   "id": "c60ac31f-a4a9-4183-8a69-9022c2175c44",
   "metadata": {},
   "outputs": [
    {
     "name": "stdout",
     "output_type": "stream",
     "text": [
      "19.5\n"
     ]
    }
   ],
   "source": [
    "print(highs.mean())"
   ]
  },
  {
   "cell_type": "code",
   "execution_count": 20,
   "id": "f91aa8d1-a58a-431f-b9a9-fefb576db6eb",
   "metadata": {},
   "outputs": [
    {
     "name": "stdout",
     "output_type": "stream",
     "text": [
      "1    21\n",
      "2    20\n",
      "3    20\n",
      "5    20\n",
      "6    20\n",
      "8    20\n",
      "9    20\n",
      "dtype: int64\n",
      "1    21\n",
      "dtype: int64\n",
      "3    11\n",
      "4    11\n",
      "5    10\n",
      "dtype: int64\n"
     ]
    }
   ],
   "source": [
    "print(highs.loc[highs>highs.mean()])\n",
    "print(highs.loc[highs>(highs.mean()+highs.std())])\n",
    "difference = highs-lows\n",
    "print(difference.loc[difference>difference.median()])"
   ]
  },
  {
   "cell_type": "code",
   "execution_count": 21,
   "id": "b1ab7b31-95b6-41bb-8061-341fcde07322",
   "metadata": {},
   "outputs": [
    {
     "name": "stdout",
     "output_type": "stream",
     "text": [
      "3    20\n",
      "4    19\n",
      "5    20\n",
      "dtype: int64\n"
     ]
    }
   ],
   "source": [
    "print(highs.loc[difference>difference.median()])"
   ]
  },
  {
   "cell_type": "code",
   "execution_count": null,
   "id": "3c77004e-b30b-4927-8ce2-5cfad6f07dac",
   "metadata": {},
   "outputs": [],
   "source": []
  }
 ],
 "metadata": {
  "kernelspec": {
   "display_name": "Python 3 (ipykernel)",
   "language": "python",
   "name": "python3"
  },
  "language_info": {
   "codemirror_mode": {
    "name": "ipython",
    "version": 3
   },
   "file_extension": ".py",
   "mimetype": "text/x-python",
   "name": "python",
   "nbconvert_exporter": "python",
   "pygments_lexer": "ipython3",
   "version": "3.12.3"
  }
 },
 "nbformat": 4,
 "nbformat_minor": 5
}
