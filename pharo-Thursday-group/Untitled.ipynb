{
 "cells": [
  {
   "cell_type": "markdown",
   "id": "dab5f27f-9789-4d54-87d8-4198ab6d7618",
   "metadata": {},
   "source": [
    "# Jupyter intro\n",
    "\n",
    "Editing in Jupyter\n",
    "\n",
    "When you press shift+ENTER, that forces the cell to be executed, meaning that the Python code is run or the Markdown is displayed nicely."
   ]
  },
  {
   "cell_type": "code",
   "execution_count": null,
   "id": "9767e216-9d2d-41b3-8cf8-38adc261c31b",
   "metadata": {},
   "outputs": [],
   "source": [
    "#Syllabus\n",
    "\n",
    "1. Intro to analytics in Py"
   ]
  }
 ],
 "metadata": {
  "kernelspec": {
   "display_name": "Python 3 (ipykernel)",
   "language": "python",
   "name": "python3"
  },
  "language_info": {
   "codemirror_mode": {
    "name": "ipython",
    "version": 3
   },
   "file_extension": ".py",
   "mimetype": "text/x-python",
   "name": "python",
   "nbconvert_exporter": "python",
   "pygments_lexer": "ipython3",
   "version": "3.12.3"
  }
 },
 "nbformat": 4,
 "nbformat_minor": 5
}
