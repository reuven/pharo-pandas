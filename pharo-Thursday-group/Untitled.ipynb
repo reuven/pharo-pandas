{
 "cells": [
  {
   "cell_type": "code",
   "execution_count": null,
   "id": "b75cd359-dda1-41bb-ba06-9b1dafaf48dc",
   "metadata": {},
   "outputs": [],
   "source": []
  }
 ],
 "metadata": {
  "kernelspec": {
   "display_name": "",
   "name": ""
  },
  "language_info": {
   "name": ""
  }
 },
 "nbformat": 4,
 "nbformat_minor": 5
}
