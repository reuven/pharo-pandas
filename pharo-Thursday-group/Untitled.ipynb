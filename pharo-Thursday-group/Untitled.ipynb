{
 "cells": [
  {
   "cell_type": "markdown",
   "id": "dab5f27f-9789-4d54-87d8-4198ab6d7618",
   "metadata": {},
   "source": [
    "# Jupyter intro\n",
    "\n",
    "Editing in Jupyter\n",
    "\n",
    "When you press shift+ENTER, that forces the cell to be executed, meaning that the Python code is run or the Markdown is displayed nicely."
   ]
  },
  {
   "cell_type": "markdown",
   "id": "29e5464e-89a9-43d7-9caf-e0b373330191",
   "metadata": {},
   "source": [
    "#Syllabus\n",
    "\n",
    "1. Intro to analytics in Python\n",
    "    - What is Pandas? How does it relate to libraries like NumPy?\n",
    "    - Basics of reading data from a CSV file\n",
    "    - Basics of analysis and some methods\n",
    "    - Simple visualizations\n",
    "2. Pandas series (1D data structures)\n",
    "   - Creating a series\n",
    "   - Analyzing a series\n",
    "   - Broadcasting\n",
    "   - What *not* to do if you're an experienced Python programmer\n",
    "3. Mask/boolean arrays\n",
    "   - Retrieving from a series with booleans\n",
    "   - Using a mask array to select which items we want\n",
    "4. Index\n",
    "   - Setting the index\n",
    "   - Retrieving using the index\n",
    "   - Multi-indexing (a little bit)\n",
    "5. Dtype\n",
    "   - What are dtypes?\n",
    "   - Choosing a dtype\n",
    "   - Changing dtypes\n",
    "   - 'NaN' (\"not a number\") and working with it\n",
    "6. Reading data from a file\n",
    "   - Turning a file into a \"data fram\" with 2D (rows and columns)\n",
    "   - CSV files\n",
    "   - Retrieving rows\n",
    "   - Retrieving columns\n",
    "7. Different data types\n",
    "   - Excel\n",
    "   - JSON\n",
    "   - Retrieving resources from the Internet\n",
    "   - Scraping Web sites\n",
    "8. Sorting\n",
    "9. Grouping and Pivot Tables\n",
    "10. Cleaning your data\n",
    "11. Working with text\n",
    "12. Dates and times\n",
    "13. Visualization\n",
    "    - Charts\n",
    "    - Plots\n",
    "14. New trends, and where to go from here"
   ]
  },
  {
   "cell_type": "markdown",
   "id": "3ed60aee-ec81-44ca-a752-b8eed0252d7a",
   "metadata": {},
   "source": [
    "#What is Pandas?\n",
    "\n",
    "NumPy and Pandas.\n",
    "\n",
    "NumPy is a Python module that's 95% written in C. It basically exposes C data structures to us via a layer of Python. We can thus benefit from the ease of Python but the speed and efficiency of C. \n",
    "\n",
    "NumPy is very low level. You get the data structure, and then you have to do the work yourself. Pandsas "
   ]
  }
 ],
 "metadata": {
  "kernelspec": {
   "display_name": "Python 3 (ipykernel)",
   "language": "python",
   "name": "python3"
  },
  "language_info": {
   "codemirror_mode": {
    "name": "ipython",
    "version": 3
   },
   "file_extension": ".py",
   "mimetype": "text/x-python",
   "name": "python",
   "nbconvert_exporter": "python",
   "pygments_lexer": "ipython3",
   "version": "3.12.3"
  }
 },
 "nbformat": 4,
 "nbformat_minor": 5
}
