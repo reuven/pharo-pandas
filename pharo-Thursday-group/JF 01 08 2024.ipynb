{
 "cells": [
  {
   "cell_type": "code",
   "execution_count": 3,
   "id": "eb159954-8f16-4a7f-9fc5-febd1af943da",
   "metadata": {},
   "outputs": [],
   "source": [
    "import pandas as pd"
   ]
  },
  {
   "cell_type": "code",
   "execution_count": 7,
   "id": "13d93acd-02fb-49ae-ba5d-588637165e41",
   "metadata": {},
   "outputs": [
    {
     "data": {
      "text/html": [
       "<div>\n",
       "<style scoped>\n",
       "    .dataframe tbody tr th:only-of-type {\n",
       "        vertical-align: middle;\n",
       "    }\n",
       "\n",
       "    .dataframe tbody tr th {\n",
       "        vertical-align: top;\n",
       "    }\n",
       "\n",
       "    .dataframe thead th {\n",
       "        text-align: right;\n",
       "    }\n",
       "</style>\n",
       "<table border=\"1\" class=\"dataframe\">\n",
       "  <thead>\n",
       "    <tr style=\"text-align: right;\">\n",
       "      <th></th>\n",
       "      <th>tpep_pickup_datetime</th>\n",
       "      <th>tpep_dropoff_datetime</th>\n",
       "      <th>passenger_count</th>\n",
       "      <th>trip_distance</th>\n",
       "      <th>total_amount</th>\n",
       "    </tr>\n",
       "  </thead>\n",
       "  <tbody>\n",
       "    <tr>\n",
       "      <th>0</th>\n",
       "      <td>2015-06-02 11:19:29</td>\n",
       "      <td>2015-06-02 11:47:52</td>\n",
       "      <td>1</td>\n",
       "      <td>1.63</td>\n",
       "      <td>17.80</td>\n",
       "    </tr>\n",
       "    <tr>\n",
       "      <th>1</th>\n",
       "      <td>2015-06-02 11:19:30</td>\n",
       "      <td>2015-06-02 11:27:56</td>\n",
       "      <td>1</td>\n",
       "      <td>0.46</td>\n",
       "      <td>8.30</td>\n",
       "    </tr>\n",
       "    <tr>\n",
       "      <th>2</th>\n",
       "      <td>2015-06-02 11:19:31</td>\n",
       "      <td>2015-06-02 11:30:30</td>\n",
       "      <td>1</td>\n",
       "      <td>0.87</td>\n",
       "      <td>11.00</td>\n",
       "    </tr>\n",
       "    <tr>\n",
       "      <th>3</th>\n",
       "      <td>2015-06-02 11:19:31</td>\n",
       "      <td>2015-06-02 11:39:02</td>\n",
       "      <td>1</td>\n",
       "      <td>2.13</td>\n",
       "      <td>17.16</td>\n",
       "    </tr>\n",
       "    <tr>\n",
       "      <th>4</th>\n",
       "      <td>2015-06-02 11:19:32</td>\n",
       "      <td>2015-06-02 11:32:49</td>\n",
       "      <td>1</td>\n",
       "      <td>1.40</td>\n",
       "      <td>10.30</td>\n",
       "    </tr>\n",
       "  </tbody>\n",
       "</table>\n",
       "</div>"
      ],
      "text/plain": [
       "  tpep_pickup_datetime tpep_dropoff_datetime  passenger_count  trip_distance  \\\n",
       "0  2015-06-02 11:19:29   2015-06-02 11:47:52                1           1.63   \n",
       "1  2015-06-02 11:19:30   2015-06-02 11:27:56                1           0.46   \n",
       "2  2015-06-02 11:19:31   2015-06-02 11:30:30                1           0.87   \n",
       "3  2015-06-02 11:19:31   2015-06-02 11:39:02                1           2.13   \n",
       "4  2015-06-02 11:19:32   2015-06-02 11:32:49                1           1.40   \n",
       "\n",
       "   total_amount  \n",
       "0         17.80  \n",
       "1          8.30  \n",
       "2         11.00  \n",
       "3         17.16  \n",
       "4         10.30  "
      ]
     },
     "execution_count": 7,
     "metadata": {},
     "output_type": "execute_result"
    }
   ],
   "source": [
    "filename = '../data/taxi.csv'\n",
    "\n",
    "df = pd.read_csv(filename,\n",
    "                 usecols=['tpep_pickup_datetime',\n",
    "                          'tpep_dropoff_datetime',\n",
    "                          'passenger_count',\n",
    "                          'trip_distance',\n",
    "                          'total_amount'])\n",
    "\n",
    "df.head()"
   ]
  },
  {
   "cell_type": "code",
   "execution_count": 8,
   "id": "5af106a8-410d-4eed-84e1-227d6ddb012b",
   "metadata": {},
   "outputs": [
    {
     "data": {
      "text/plain": [
       "tpep_pickup_datetime      object\n",
       "tpep_dropoff_datetime     object\n",
       "passenger_count            int64\n",
       "trip_distance            float64\n",
       "total_amount             float64\n",
       "dtype: object"
      ]
     },
     "execution_count": 8,
     "metadata": {},
     "output_type": "execute_result"
    }
   ],
   "source": [
    "df.dtypes"
   ]
  },
  {
   "cell_type": "code",
   "execution_count": 9,
   "id": "e9987165-8618-4cab-a4d8-d33a460581b7",
   "metadata": {},
   "outputs": [
    {
     "data": {
      "text/plain": [
       "0      2015-06-02 11:19:29\n",
       "1      2015-06-02 11:19:30\n",
       "2      2015-06-02 11:19:31\n",
       "3      2015-06-02 11:19:31\n",
       "4      2015-06-02 11:19:32\n",
       "               ...        \n",
       "9994   2015-06-01 00:12:59\n",
       "9995   2015-06-01 00:12:59\n",
       "9996   2015-06-01 00:13:00\n",
       "9997   2015-06-01 00:13:02\n",
       "9998   2015-06-01 00:13:04\n",
       "Name: tpep_pickup_datetime, Length: 9999, dtype: datetime64[ns]"
      ]
     },
     "execution_count": 9,
     "metadata": {},
     "output_type": "execute_result"
    }
   ],
   "source": [
    "# take string column and get datetime using pd.to_datetime\n",
    "\n",
    "pd.to_datetime(df['tpep_pickup_datetime'])"
   ]
  },
  {
   "cell_type": "code",
   "execution_count": 11,
   "id": "a54488d6-7645-4e01-9265-ab2e7fae9fcf",
   "metadata": {},
   "outputs": [],
   "source": [
    "# assign the datetime version of these back to the original df\n",
    "\n",
    "df['tpep_pickup_datetime'] = pd.to_datetime(df['tpep_pickup_datetime'])\n",
    "df['tpep_dropoff_datetime'] = pd.to_datetime(df['tpep_dropoff_datetime'])"
   ]
  },
  {
   "cell_type": "code",
   "execution_count": 21,
   "id": "db22299d-6945-46c3-8458-45cabdc935d1",
   "metadata": {},
   "outputs": [
    {
     "data": {
      "text/plain": [
       "tpep_pickup_datetime     2015-06-02 11:23:34\n",
       "tpep_dropoff_datetime    2015-06-02 11:41:17\n",
       "passenger_count                            4\n",
       "trip_distance                           1.83\n",
       "total_amount                            16.0\n",
       "Name: 999, dtype: object"
      ]
     },
     "execution_count": 21,
     "metadata": {},
     "output_type": "execute_result"
    }
   ],
   "source": [
    "df.iloc[999]"
   ]
  },
  {
   "cell_type": "code",
   "execution_count": 26,
   "id": "7383e4a2-b6f3-41ca-a976-154dca1d9312",
   "metadata": {},
   "outputs": [
    {
     "data": {
      "text/plain": [
       "tpep_pickup_datetime     datetime64[ns]\n",
       "tpep_dropoff_datetime    datetime64[ns]\n",
       "passenger_count                   int64\n",
       "trip_distance                   float64\n",
       "total_amount                    float64\n",
       "dtype: object"
      ]
     },
     "execution_count": 26,
     "metadata": {},
     "output_type": "execute_result"
    }
   ],
   "source": [
    "df = pd.read_csv(filename,\n",
    "                 usecols=['tpep_pickup_datetime',\n",
    "                          'tpep_dropoff_datetime',\n",
    "                          'passenger_count',\n",
    "                          'trip_distance',\n",
    "                          'total_amount'],\n",
    "                parse_dates=['tpep_pickup_datetime',\n",
    "                          'tpep_dropoff_datetime'])\n",
    "\n",
    "df.dtypes\n"
   ]
  },
  {
   "cell_type": "code",
   "execution_count": 39,
   "id": "46c26152-5502-4eb0-be47-f02ee22cc4e5",
   "metadata": {},
   "outputs": [
    {
     "data": {
      "text/html": [
       "<div>\n",
       "<style scoped>\n",
       "    .dataframe tbody tr th:only-of-type {\n",
       "        vertical-align: middle;\n",
       "    }\n",
       "\n",
       "    .dataframe tbody tr th {\n",
       "        vertical-align: top;\n",
       "    }\n",
       "\n",
       "    .dataframe thead th {\n",
       "        text-align: right;\n",
       "    }\n",
       "</style>\n",
       "<table border=\"1\" class=\"dataframe\">\n",
       "  <thead>\n",
       "    <tr style=\"text-align: right;\">\n",
       "      <th></th>\n",
       "      <th>date_time</th>\n",
       "      <th>chicago,il_maxtempC</th>\n",
       "      <th>chicago,il_mintempC</th>\n",
       "      <th>chicago,il_totalSnow_cm</th>\n",
       "      <th>chicago,il_sunHour</th>\n",
       "      <th>chicago,il_uvIndex</th>\n",
       "      <th>chicago,il_uvIndex.1</th>\n",
       "      <th>chicago,il_moon_illumination</th>\n",
       "      <th>chicago,il_moonrise</th>\n",
       "      <th>chicago,il_moonset</th>\n",
       "      <th>...</th>\n",
       "      <th>chicago,il_WindChillC</th>\n",
       "      <th>chicago,il_WindGustKmph</th>\n",
       "      <th>chicago,il_cloudcover</th>\n",
       "      <th>chicago,il_humidity</th>\n",
       "      <th>chicago,il_precipMM</th>\n",
       "      <th>chicago,il_pressure</th>\n",
       "      <th>chicago,il_tempC</th>\n",
       "      <th>chicago,il_visibility</th>\n",
       "      <th>chicago,il_winddirDegree</th>\n",
       "      <th>chicago,il_windspeedKmph</th>\n",
       "    </tr>\n",
       "  </thead>\n",
       "  <tbody>\n",
       "    <tr>\n",
       "      <th>0</th>\n",
       "      <td>2018-12-11 00:00:00</td>\n",
       "      <td>1</td>\n",
       "      <td>-2</td>\n",
       "      <td>0.0</td>\n",
       "      <td>8.7</td>\n",
       "      <td>2</td>\n",
       "      <td>0</td>\n",
       "      <td>21</td>\n",
       "      <td>10:26 AM</td>\n",
       "      <td>08:22 PM</td>\n",
       "      <td>...</td>\n",
       "      <td>-7</td>\n",
       "      <td>33</td>\n",
       "      <td>0</td>\n",
       "      <td>76</td>\n",
       "      <td>0.0</td>\n",
       "      <td>1021</td>\n",
       "      <td>-1</td>\n",
       "      <td>10</td>\n",
       "      <td>231</td>\n",
       "      <td>22</td>\n",
       "    </tr>\n",
       "    <tr>\n",
       "      <th>1</th>\n",
       "      <td>2018-12-11 03:00:00</td>\n",
       "      <td>1</td>\n",
       "      <td>-2</td>\n",
       "      <td>0.0</td>\n",
       "      <td>8.7</td>\n",
       "      <td>2</td>\n",
       "      <td>0</td>\n",
       "      <td>21</td>\n",
       "      <td>10:26 AM</td>\n",
       "      <td>08:22 PM</td>\n",
       "      <td>...</td>\n",
       "      <td>-6</td>\n",
       "      <td>33</td>\n",
       "      <td>0</td>\n",
       "      <td>80</td>\n",
       "      <td>0.0</td>\n",
       "      <td>1021</td>\n",
       "      <td>-1</td>\n",
       "      <td>10</td>\n",
       "      <td>243</td>\n",
       "      <td>21</td>\n",
       "    </tr>\n",
       "    <tr>\n",
       "      <th>2</th>\n",
       "      <td>2018-12-11 06:00:00</td>\n",
       "      <td>1</td>\n",
       "      <td>-2</td>\n",
       "      <td>0.0</td>\n",
       "      <td>8.7</td>\n",
       "      <td>2</td>\n",
       "      <td>0</td>\n",
       "      <td>21</td>\n",
       "      <td>10:26 AM</td>\n",
       "      <td>08:22 PM</td>\n",
       "      <td>...</td>\n",
       "      <td>-8</td>\n",
       "      <td>28</td>\n",
       "      <td>5</td>\n",
       "      <td>83</td>\n",
       "      <td>0.0</td>\n",
       "      <td>1020</td>\n",
       "      <td>-2</td>\n",
       "      <td>10</td>\n",
       "      <td>240</td>\n",
       "      <td>19</td>\n",
       "    </tr>\n",
       "    <tr>\n",
       "      <th>3</th>\n",
       "      <td>2018-12-11 09:00:00</td>\n",
       "      <td>1</td>\n",
       "      <td>-2</td>\n",
       "      <td>0.0</td>\n",
       "      <td>8.7</td>\n",
       "      <td>2</td>\n",
       "      <td>2</td>\n",
       "      <td>21</td>\n",
       "      <td>10:26 AM</td>\n",
       "      <td>08:22 PM</td>\n",
       "      <td>...</td>\n",
       "      <td>-6</td>\n",
       "      <td>23</td>\n",
       "      <td>15</td>\n",
       "      <td>77</td>\n",
       "      <td>0.0</td>\n",
       "      <td>1019</td>\n",
       "      <td>-1</td>\n",
       "      <td>10</td>\n",
       "      <td>262</td>\n",
       "      <td>16</td>\n",
       "    </tr>\n",
       "    <tr>\n",
       "      <th>4</th>\n",
       "      <td>2018-12-11 12:00:00</td>\n",
       "      <td>1</td>\n",
       "      <td>-2</td>\n",
       "      <td>0.0</td>\n",
       "      <td>8.7</td>\n",
       "      <td>2</td>\n",
       "      <td>2</td>\n",
       "      <td>21</td>\n",
       "      <td>10:26 AM</td>\n",
       "      <td>08:22 PM</td>\n",
       "      <td>...</td>\n",
       "      <td>-1</td>\n",
       "      <td>8</td>\n",
       "      <td>19</td>\n",
       "      <td>71</td>\n",
       "      <td>0.0</td>\n",
       "      <td>1018</td>\n",
       "      <td>1</td>\n",
       "      <td>10</td>\n",
       "      <td>271</td>\n",
       "      <td>6</td>\n",
       "    </tr>\n",
       "  </tbody>\n",
       "</table>\n",
       "<p>5 rows × 25 columns</p>\n",
       "</div>"
      ],
      "text/plain": [
       "             date_time  chicago,il_maxtempC  chicago,il_mintempC  \\\n",
       "0  2018-12-11 00:00:00                    1                   -2   \n",
       "1  2018-12-11 03:00:00                    1                   -2   \n",
       "2  2018-12-11 06:00:00                    1                   -2   \n",
       "3  2018-12-11 09:00:00                    1                   -2   \n",
       "4  2018-12-11 12:00:00                    1                   -2   \n",
       "\n",
       "   chicago,il_totalSnow_cm  chicago,il_sunHour  chicago,il_uvIndex  \\\n",
       "0                      0.0                 8.7                   2   \n",
       "1                      0.0                 8.7                   2   \n",
       "2                      0.0                 8.7                   2   \n",
       "3                      0.0                 8.7                   2   \n",
       "4                      0.0                 8.7                   2   \n",
       "\n",
       "   chicago,il_uvIndex.1  chicago,il_moon_illumination chicago,il_moonrise  \\\n",
       "0                     0                            21            10:26 AM   \n",
       "1                     0                            21            10:26 AM   \n",
       "2                     0                            21            10:26 AM   \n",
       "3                     2                            21            10:26 AM   \n",
       "4                     2                            21            10:26 AM   \n",
       "\n",
       "  chicago,il_moonset  ... chicago,il_WindChillC chicago,il_WindGustKmph  \\\n",
       "0           08:22 PM  ...                    -7                      33   \n",
       "1           08:22 PM  ...                    -6                      33   \n",
       "2           08:22 PM  ...                    -8                      28   \n",
       "3           08:22 PM  ...                    -6                      23   \n",
       "4           08:22 PM  ...                    -1                       8   \n",
       "\n",
       "   chicago,il_cloudcover  chicago,il_humidity  chicago,il_precipMM  \\\n",
       "0                      0                   76                  0.0   \n",
       "1                      0                   80                  0.0   \n",
       "2                      5                   83                  0.0   \n",
       "3                     15                   77                  0.0   \n",
       "4                     19                   71                  0.0   \n",
       "\n",
       "   chicago,il_pressure  chicago,il_tempC  chicago,il_visibility  \\\n",
       "0                 1021                -1                     10   \n",
       "1                 1021                -1                     10   \n",
       "2                 1020                -2                     10   \n",
       "3                 1019                -1                     10   \n",
       "4                 1018                 1                     10   \n",
       "\n",
       "   chicago,il_winddirDegree  chicago,il_windspeedKmph  \n",
       "0                       231                        22  \n",
       "1                       243                        21  \n",
       "2                       240                        19  \n",
       "3                       262                        16  \n",
       "4                       271                         6  \n",
       "\n",
       "[5 rows x 25 columns]"
      ]
     },
     "execution_count": 39,
     "metadata": {},
     "output_type": "execute_result"
    }
   ],
   "source": [
    "filename = '../data/chicago,il.csv'\n",
    "df = pd.read_csv(filename)\n",
    "df.head()"
   ]
  },
  {
   "cell_type": "code",
   "execution_count": 32,
   "id": "c8aebce0-d2cd-4a85-9437-ec324922bf1a",
   "metadata": {},
   "outputs": [
    {
     "data": {
      "text/plain": [
       "145732"
      ]
     },
     "execution_count": 32,
     "metadata": {},
     "output_type": "execute_result"
    }
   ],
   "source": [
    "df.memory_usage().sum()  # 145,732"
   ]
  },
  {
   "cell_type": "code",
   "execution_count": 40,
   "id": "2fde72dd-b648-4414-b2ab-ce8211c2e360",
   "metadata": {},
   "outputs": [
    {
     "data": {
      "text/plain": [
       "date_time                       datetime64[ns]\n",
       "chicago,il_maxtempC                      int64\n",
       "chicago,il_mintempC                      int64\n",
       "chicago,il_totalSnow_cm                float64\n",
       "chicago,il_sunHour                     float64\n",
       "chicago,il_uvIndex                       int64\n",
       "chicago,il_uvIndex.1                     int64\n",
       "chicago,il_moon_illumination             int64\n",
       "chicago,il_moonrise                     object\n",
       "chicago,il_moonset                      object\n",
       "chicago,il_sunrise                      object\n",
       "chicago,il_sunset                       object\n",
       "chicago,il_DewPointC                     int64\n",
       "chicago,il_FeelsLikeC                    int64\n",
       "chicago,il_HeatIndexC                    int64\n",
       "chicago,il_WindChillC                    int64\n",
       "chicago,il_WindGustKmph                  int64\n",
       "chicago,il_cloudcover                    int64\n",
       "chicago,il_humidity                      int64\n",
       "chicago,il_precipMM                    float64\n",
       "chicago,il_pressure                      int64\n",
       "chicago,il_tempC                         int64\n",
       "chicago,il_visibility                    int64\n",
       "chicago,il_winddirDegree                 int64\n",
       "chicago,il_windspeedKmph                 int64\n",
       "dtype: object"
      ]
     },
     "execution_count": 40,
     "metadata": {},
     "output_type": "execute_result"
    }
   ],
   "source": [
    "df = pd.read_csv(filename,\n",
    "                parse_dates=['date_time'])\n",
    "\n",
    "df.dtypes"
   ]
  },
  {
   "cell_type": "code",
   "execution_count": 41,
   "id": "64a18b8f-b702-48e4-8745-eda54cda556b",
   "metadata": {},
   "outputs": [
    {
     "data": {
      "text/plain": [
       "145732"
      ]
     },
     "execution_count": 41,
     "metadata": {},
     "output_type": "execute_result"
    }
   ],
   "source": [
    "df.memory_usage().sum()  # 145,732"
   ]
  }
 ],
 "metadata": {
  "kernelspec": {
   "display_name": "Python 3 (ipykernel)",
   "language": "python",
   "name": "python3"
  },
  "language_info": {
   "codemirror_mode": {
    "name": "ipython",
    "version": 3
   },
   "file_extension": ".py",
   "mimetype": "text/x-python",
   "name": "python",
   "nbconvert_exporter": "python",
   "pygments_lexer": "ipython3",
   "version": "3.12.3"
  }
 },
 "nbformat": 4,
 "nbformat_minor": 5
}
