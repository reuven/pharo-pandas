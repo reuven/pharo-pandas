{
 "cells": [
  {
   "cell_type": "markdown",
   "id": "bd6ed70a-2cfc-462e-b8f2-f7b81a17186b",
   "metadata": {},
   "source": [
    "# Agenda: \n",
    "* Mask indexes\n",
    "* Broadcasts and comparisons\n",
    "* Boolean series - what can we do with it?\n",
    "Using that to filter our series with a \"boolean index\" or a \"mask index\"\n",
    "Complex comparisons with \"and\" and \"or\""
   ]
  },
  {
   "cell_type": "code",
   "execution_count": 1,
   "id": "4cf8a30b-0819-4695-9db7-82d8412bb9df",
   "metadata": {},
   "outputs": [],
   "source": [
    "import numpy as np\n",
    "import pandas as pd\n",
    "from pandas import Series, DataFrame"
   ]
  },
  {
   "cell_type": "code",
   "execution_count": 2,
   "id": "1a711b32-bc22-445f-951a-7bb9fb0180ac",
   "metadata": {},
   "outputs": [],
   "source": [
    "s = Series([10, 20, 30, 40, 50, 60, 70],\n",
    "           index=list('abcdefg'))"
   ]
  },
  {
   "cell_type": "code",
   "execution_count": 3,
   "id": "daf0818e-8bc7-409f-93ae-e0e90cd131ec",
   "metadata": {},
   "outputs": [
    {
     "data": {
      "text/plain": [
       "a    10\n",
       "b    20\n",
       "c    30\n",
       "d    40\n",
       "e    50\n",
       "f    60\n",
       "g    70\n",
       "dtype: int64"
      ]
     },
     "execution_count": 3,
     "metadata": {},
     "output_type": "execute_result"
    }
   ],
   "source": [
    "s"
   ]
  },
  {
   "cell_type": "code",
   "execution_count": 4,
   "id": "b43ad9d1-b397-4604-9701-19f42451a3af",
   "metadata": {},
   "outputs": [],
   "source": [
    "# I can retrieve any element of the series with either .loc (based on the index) or .iloc (based on the position)\n"
   ]
  },
  {
   "cell_type": "code",
   "execution_count": 5,
   "id": "18b26aa4-1da7-4c06-ac2f-2b8b108d5846",
   "metadata": {},
   "outputs": [
    {
     "data": {
      "text/plain": [
       "40"
      ]
     },
     "execution_count": 5,
     "metadata": {},
     "output_type": "execute_result"
    }
   ],
   "source": [
    "s.loc['d']"
   ]
  },
  {
   "cell_type": "code",
   "execution_count": 6,
   "id": "f1105025-23af-4b68-9663-6a98b097e4f7",
   "metadata": {},
   "outputs": [
    {
     "data": {
      "text/plain": [
       "50"
      ]
     },
     "execution_count": 6,
     "metadata": {},
     "output_type": "execute_result"
    }
   ],
   "source": [
    "s.iloc[4]"
   ]
  },
  {
   "cell_type": "code",
   "execution_count": 7,
   "id": "1569ea15-5af0-48bc-bde3-a96bfa598cb3",
   "metadata": {},
   "outputs": [
    {
     "data": {
      "text/plain": [
       "a    10\n",
       "d    40\n",
       "dtype: int64"
      ]
     },
     "execution_count": 7,
     "metadata": {},
     "output_type": "execute_result"
    }
   ],
   "source": [
    "# Inside of the [], I can put a list of locations that I want to retrieve\n",
    "# this is known as \"fancy indexing\"\n",
    "\n",
    "s.loc[['a', 'd']]"
   ]
  },
  {
   "cell_type": "code",
   "execution_count": 8,
   "id": "17f05fc5-effc-4474-9d1f-84181c35d9a2",
   "metadata": {},
   "outputs": [
    {
     "data": {
      "text/plain": [
       "c    30\n",
       "f    60\n",
       "dtype: int64"
      ]
     },
     "execution_count": 8,
     "metadata": {},
     "output_type": "execute_result"
    }
   ],
   "source": [
    "s.iloc[[2, 5]]"
   ]
  },
  {
   "cell_type": "code",
   "execution_count": 9,
   "id": "bdb6637b-6c56-41d2-b6f6-2de73fbbbfd7",
   "metadata": {},
   "outputs": [
    {
     "data": {
      "text/plain": [
       "a    10\n",
       "d    40\n",
       "e    50\n",
       "g    70\n",
       "dtype: int64"
      ]
     },
     "execution_count": 9,
     "metadata": {},
     "output_type": "execute_result"
    }
   ],
   "source": [
    "# there is another way that we can retrieve values, though\n",
    "# we can pass a list of boolean values (True and False)\n",
    "\n",
    "s.loc[ [True, False, False, True, True, False, True] ]"
   ]
  },
  {
   "cell_type": "markdown",
   "id": "7636f536-7350-42b9-bd71-a79bc6fa04ad",
   "metadata": {},
   "source": [
    "# Boolean/mask index\n",
    "The idea here is:\n",
    "\n",
    "Pass, inside of [], a list of booleans\n",
    "Wherever there is a True value, we get the value from the original series\n",
    "Wherever there is a False value, the original value is ignored\n",
    "This is used all of the time, but you will alm\n"
   ]
  },
  {
   "cell_type": "code",
   "execution_count": 10,
   "id": "79714bed-2703-4eb4-90d1-6829d16f2ebd",
   "metadata": {},
   "outputs": [
    {
     "data": {
      "text/plain": [
       "a    False\n",
       "b    False\n",
       "c    False\n",
       "d     True\n",
       "e     True\n",
       "f     True\n",
       "g     True\n",
       "dtype: bool"
      ]
     },
     "execution_count": 10,
     "metadata": {},
     "output_type": "execute_result"
    }
   ],
   "source": [
    "s > 30    # this is a comparison operation, broadcast across all values of s"
   ]
  },
  {
   "cell_type": "code",
   "execution_count": 11,
   "id": "3e774700-ed86-4257-b5a8-5e2223c27641",
   "metadata": {},
   "outputs": [
    {
     "data": {
      "text/plain": [
       "d    40\n",
       "e    50\n",
       "f    60\n",
       "g    70\n",
       "dtype: int64"
      ]
     },
     "execution_count": 11,
     "metadata": {},
     "output_type": "execute_result"
    }
   ],
   "source": [
    "# I can take this boolean series and use it as a mask index with .loc\n",
    "\n",
    "s.loc[ s > 30]   # only have [] once here, because we're getting a series back from s>30\n",
    "\n",
    "# say this as: show the values of s where s > 30"
   ]
  },
  {
   "cell_type": "raw",
   "id": "7760fe8a-4f61-481a-9c8d-5c54d2d48f52",
   "metadata": {},
   "source": [
    "How to read a mask index expression\n",
    "First, look at the stuff inside of the []. What expression is there, and what does it return?\n",
    "Next, think of it as an existing boolean series\n",
    "Then apply that boolean series to the series on the outside"
   ]
  },
  {
   "cell_type": "code",
   "execution_count": 12,
   "id": "64f9e53d-83f7-46ed-a1a9-37ff8425fb4e",
   "metadata": {
    "scrolled": true
   },
   "outputs": [
    {
     "data": {
      "text/plain": [
       "a    False\n",
       "b    False\n",
       "c    False\n",
       "d    False\n",
       "e     True\n",
       "f     True\n",
       "g     True\n",
       "dtype: bool"
      ]
     },
     "execution_count": 12,
     "metadata": {},
     "output_type": "execute_result"
    }
   ],
   "source": [
    "# Let's find all of the values that are greater than the mean\n",
    "\n",
    "s > s.mean()\n"
   ]
  },
  {
   "cell_type": "markdown",
   "id": "86c3bc2f-7e38-4717-9810-aa9a132fd251",
   "metadata": {},
   "source": [
    "# Exercise: Find extreme temperatures\n",
    "1. Create two series, highs and lows, containing the forecast high and low temps for the coming 10 days.\n",
    "2. Find all high temps greater than the mean.\n",
    "3. Are any high temps greater than the mean + 1 standard deviation?\n",
    "4. Calculate the difference in temp between highs and lows.\n",
    "5. Show all days in which the difference was greater than the median difference."
   ]
  },
  {
   "cell_type": "code",
   "execution_count": 30,
   "id": "99f797d0-f209-4757-8168-a8cfaffa5e0e",
   "metadata": {},
   "outputs": [],
   "source": [
    "sLow = Series([12, 11, 11, 11, 10, 10, 9, 11, 9, 10],\n",
    "           index='Mon Tue Wed Thu Fri Sat Sun Mon Tue Wed'.split())\n",
    "sHigh = Series([19, 17, 20, 18, 18, 18, 15, 17, 14, 14],\n",
    "           index='Mon Tue Wed Thu Fri Sat Sun Mon Tue Wed'.split())"
   ]
  },
  {
   "cell_type": "code",
   "execution_count": 31,
   "id": "ad4b77b0-2dc4-4baa-99e5-e3bdbbee51d0",
   "metadata": {},
   "outputs": [
    {
     "data": {
      "text/plain": [
       "Mon    12\n",
       "Tue    11\n",
       "Wed    11\n",
       "Thu    11\n",
       "Fri    10\n",
       "Sat    10\n",
       "Sun     9\n",
       "Mon    11\n",
       "Tue     9\n",
       "Wed    10\n",
       "dtype: int64"
      ]
     },
     "execution_count": 31,
     "metadata": {},
     "output_type": "execute_result"
    }
   ],
   "source": [
    "sLow"
   ]
  },
  {
   "cell_type": "code",
   "execution_count": 32,
   "id": "08ea8a6f-7bb5-40c2-973c-2dacc896de29",
   "metadata": {},
   "outputs": [
    {
     "data": {
      "text/plain": [
       "count    10.000000\n",
       "mean     17.000000\n",
       "std       2.054805\n",
       "min      14.000000\n",
       "25%      15.500000\n",
       "50%      17.500000\n",
       "75%      18.000000\n",
       "max      20.000000\n",
       "dtype: float64"
      ]
     },
     "execution_count": 32,
     "metadata": {},
     "output_type": "execute_result"
    }
   ],
   "source": [
    "sHigh.describe()"
   ]
  },
  {
   "cell_type": "code",
   "execution_count": 33,
   "id": "0fe0dcfb-f6fb-4cc1-9be2-93481656e699",
   "metadata": {},
   "outputs": [
    {
     "data": {
      "text/plain": [
       "count    10.000000\n",
       "mean     10.400000\n",
       "std       0.966092\n",
       "min       9.000000\n",
       "25%      10.000000\n",
       "50%      10.500000\n",
       "75%      11.000000\n",
       "max      12.000000\n",
       "dtype: float64"
      ]
     },
     "execution_count": 33,
     "metadata": {},
     "output_type": "execute_result"
    }
   ],
   "source": [
    "sLow.describe()\n"
   ]
  },
  {
   "cell_type": "code",
   "execution_count": 34,
   "id": "294c4f88-46a9-4446-b303-94e5625c8d56",
   "metadata": {},
   "outputs": [
    {
     "data": {
      "text/plain": [
       "Mon     True\n",
       "Tue     True\n",
       "Wed     True\n",
       "Thu     True\n",
       "Fri    False\n",
       "Sat    False\n",
       "Sun    False\n",
       "Mon     True\n",
       "Tue    False\n",
       "Wed    False\n",
       "dtype: bool"
      ]
     },
     "execution_count": 34,
     "metadata": {},
     "output_type": "execute_result"
    }
   ],
   "source": [
    "sLow > sLow.mean()"
   ]
  },
  {
   "cell_type": "code",
   "execution_count": 35,
   "id": "3fcccacb-7d74-407c-b347-88483e829046",
   "metadata": {},
   "outputs": [
    {
     "data": {
      "text/plain": [
       "Mon     True\n",
       "Tue    False\n",
       "Wed     True\n",
       "Thu    False\n",
       "Fri    False\n",
       "Sat    False\n",
       "Sun    False\n",
       "Mon    False\n",
       "Tue    False\n",
       "Wed    False\n",
       "dtype: bool"
      ]
     },
     "execution_count": 35,
     "metadata": {},
     "output_type": "execute_result"
    }
   ],
   "source": [
    "sHigh > sHigh.mean()+1"
   ]
  },
  {
   "cell_type": "code",
   "execution_count": 36,
   "id": "a0f8b533-6694-4630-a642-cc1fd7780ed0",
   "metadata": {},
   "outputs": [
    {
     "data": {
      "text/plain": [
       "Mon    19\n",
       "Wed    20\n",
       "Thu    18\n",
       "Fri    18\n",
       "Sat    18\n",
       "dtype: int64"
      ]
     },
     "execution_count": 36,
     "metadata": {},
     "output_type": "execute_result"
    }
   ],
   "source": [
    "sHigh.loc[sHigh > sHigh.mean()]"
   ]
  },
  {
   "cell_type": "code",
   "execution_count": 37,
   "id": "10905cad-6e96-452e-9455-4928bae79978",
   "metadata": {},
   "outputs": [],
   "source": [
    "diffs = sHigh - sLow"
   ]
  },
  {
   "cell_type": "code",
   "execution_count": 38,
   "id": "599336e1-d306-4f3f-b038-457b814970a9",
   "metadata": {},
   "outputs": [
    {
     "data": {
      "text/plain": [
       "Mon    7\n",
       "Tue    6\n",
       "Wed    9\n",
       "Thu    7\n",
       "Fri    8\n",
       "Sat    8\n",
       "Sun    6\n",
       "Mon    6\n",
       "Tue    5\n",
       "Wed    4\n",
       "dtype: int64"
      ]
     },
     "execution_count": 38,
     "metadata": {},
     "output_type": "execute_result"
    }
   ],
   "source": [
    "diffs"
   ]
  },
  {
   "cell_type": "code",
   "execution_count": 39,
   "id": "ed0fdf0c-dbe8-41a6-9928-0eca9277c6d2",
   "metadata": {},
   "outputs": [
    {
     "data": {
      "text/plain": [
       "Mon    7\n",
       "Wed    9\n",
       "Thu    7\n",
       "Fri    8\n",
       "Sat    8\n",
       "dtype: int64"
      ]
     },
     "execution_count": 39,
     "metadata": {},
     "output_type": "execute_result"
    }
   ],
   "source": [
    "diffs.loc[diffs > diffs.median()]"
   ]
  },
  {
   "cell_type": "code",
   "execution_count": null,
   "id": "52fa7087-ac95-4f8c-82f8-e6ce73abb050",
   "metadata": {},
   "outputs": [],
   "source": [
    "\n",
    "sRand = Series(np.random.randint(0,1000,20), \n",
    "        index=list('abcdefghijklmnopqrst'))"
   ]
  },
  {
   "cell_type": "code",
   "execution_count": null,
   "id": "0a2cfe44-986c-43bc-84a4-bd7103389bba",
   "metadata": {},
   "outputs": [],
   "source": [
    "sRand"
   ]
  },
  {
   "cell_type": "code",
   "execution_count": 91,
   "id": "04257726-9685-4355-9b47-fd97deb76f86",
   "metadata": {},
   "outputs": [
    {
     "data": {
      "text/plain": [
       "230.99333416273885"
      ]
     },
     "execution_count": 91,
     "metadata": {},
     "output_type": "execute_result"
    }
   ],
   "source": [
    "sRand.mean() - sRand.std()"
   ]
  },
  {
   "cell_type": "code",
   "execution_count": 92,
   "id": "32c1beb2-ad3c-46d8-a3ef-c0f7c580dba0",
   "metadata": {},
   "outputs": [
    {
     "data": {
      "text/plain": [
       "b    901\n",
       "l    863\n",
       "q    944\n",
       "dtype: int64"
      ]
     },
     "execution_count": 92,
     "metadata": {},
     "output_type": "execute_result"
    }
   ],
   "source": [
    "sRand.loc[sRand > sRand.mean() + sRand.std()]"
   ]
  },
  {
   "cell_type": "code",
   "execution_count": 93,
   "id": "7ccb2ee6-a234-466c-8a79-2f17693e7b5b",
   "metadata": {},
   "outputs": [
    {
     "data": {
      "text/plain": [
       "b    901\n",
       "c    258\n",
       "d    721\n",
       "e    368\n",
       "g    581\n",
       "h    628\n",
       "j    381\n",
       "k    589\n",
       "l    863\n",
       "m    682\n",
       "n    289\n",
       "p    384\n",
       "q    944\n",
       "r    519\n",
       "s    711\n",
       "t    536\n",
       "dtype: int64"
      ]
     },
     "execution_count": 93,
     "metadata": {},
     "output_type": "execute_result"
    }
   ],
   "source": [
    "sRand.loc[sRand > sRand.mean() - sRand.std()]"
   ]
  },
  {
   "cell_type": "code",
   "execution_count": 94,
   "id": "e4ab58b8-8819-4c1c-b6e0-8e4256d3f909",
   "metadata": {},
   "outputs": [
    {
     "data": {
      "text/plain": [
       "b    901\n",
       "c    258\n",
       "d    721\n",
       "e    368\n",
       "g    581\n",
       "h    628\n",
       "j    381\n",
       "k    589\n",
       "l    863\n",
       "m    682\n",
       "n    289\n",
       "p    384\n",
       "q    944\n",
       "r    519\n",
       "s    711\n",
       "t    536\n",
       "dtype: int64"
      ]
     },
     "execution_count": 94,
     "metadata": {},
     "output_type": "execute_result"
    }
   ],
   "source": [
    "sRand.loc[sRand > sRand.mean() - sRand.std()]"
   ]
  },
  {
   "cell_type": "code",
   "execution_count": 96,
   "id": "ca421210-0905-423a-a8ba-0e0213076ad6",
   "metadata": {},
   "outputs": [
    {
     "data": {
      "text/plain": [
       "b    901\n",
       "c    258\n",
       "d    721\n",
       "e    368\n",
       "g    581\n",
       "h    628\n",
       "j    381\n",
       "k    589\n",
       "l    863\n",
       "m    682\n",
       "n    289\n",
       "p    384\n",
       "q    944\n",
       "r    519\n",
       "s    711\n",
       "t    536\n",
       "dtype: int64"
      ]
     },
     "execution_count": 96,
     "metadata": {},
     "output_type": "execute_result"
    }
   ],
   "source": [
    "sRand.loc[sRand > sRand.mean() - sRand.std()]\n",
    "\n",
    "\n"
   ]
  },
  {
   "cell_type": "markdown",
   "id": "066ab2e3-dbfc-4b45-8351-c96cc5733111",
   "metadata": {},
   "source": [
    "# Exericse: More complex comparisons\n",
    "1. Create a series of 20 random ints between 0 and 1,000. The index should contain unique letters (a-t). You can generate these random numbers with np.random.randint(0, 1000, 20).\n",
    "2. Find all of the values that are < mean - 1 std.\n",
    "3. Find all of the values that are > mean + 1 std.\n",
    "4. Find all values that are either < mean - 1 std or > mean + 1 std.\n",
    "5. Find even numbers greater than the mean.\n",
    "6. Find even numbers greater than the mean, and also odd numbers less than the mean."
   ]
  },
  {
   "cell_type": "code",
   "execution_count": 110,
   "id": "a21838d4-3779-4cb9-8afa-7f071f5a7b57",
   "metadata": {},
   "outputs": [],
   "source": [
    "import numpy as np\n",
    "import pandas as pd\n",
    "from pandas import Series, DataFrame\n",
    "\n",
    "sRand = Series(np.random.randint(0,1000,20), \n",
    "        index=list('abcdefghijklmnopqrst'))\n"
   ]
  },
  {
   "cell_type": "code",
   "execution_count": 100,
   "id": "9bd24bb7-6660-493c-846e-0d69f21cd91c",
   "metadata": {},
   "outputs": [
    {
     "data": {
      "text/plain": [
       "count     20.000000\n",
       "mean     501.100000\n",
       "std      285.283589\n",
       "min       33.000000\n",
       "25%      285.750000\n",
       "50%      478.000000\n",
       "75%      692.750000\n",
       "max      950.000000\n",
       "dtype: float64"
      ]
     },
     "execution_count": 100,
     "metadata": {},
     "output_type": "execute_result"
    }
   ],
   "source": [
    "sRand.describe()"
   ]
  },
  {
   "cell_type": "code",
   "execution_count": 103,
   "id": "d1bc9863-794c-4423-8aa3-f10c16b80f89",
   "metadata": {},
   "outputs": [
    {
     "data": {
      "text/plain": [
       "a     True\n",
       "b     True\n",
       "c     True\n",
       "d    False\n",
       "e    False\n",
       "f     True\n",
       "g    False\n",
       "h    False\n",
       "i    False\n",
       "j     True\n",
       "k     True\n",
       "l    False\n",
       "m    False\n",
       "n     True\n",
       "o    False\n",
       "p    False\n",
       "q    False\n",
       "r     True\n",
       "s     True\n",
       "t    False\n",
       "dtype: bool"
      ]
     },
     "execution_count": 103,
     "metadata": {},
     "output_type": "execute_result"
    }
   ],
   "source": [
    "sRand > sRand.mean()"
   ]
  },
  {
   "cell_type": "code",
   "execution_count": 104,
   "id": "40040588-c124-4f50-b94b-f8b9565eab93",
   "metadata": {},
   "outputs": [
    {
     "data": {
      "text/plain": [
       "a    734\n",
       "b    590\n",
       "c    638\n",
       "d    264\n",
       "e    316\n",
       "f    950\n",
       "h    387\n",
       "i    412\n",
       "j    867\n",
       "k    679\n",
       "l    472\n",
       "m    484\n",
       "n    674\n",
       "o    293\n",
       "r    907\n",
       "s    886\n",
       "dtype: int64"
      ]
     },
     "execution_count": 104,
     "metadata": {},
     "output_type": "execute_result"
    }
   ],
   "source": [
    "sRand.loc[sRand > sRand.mean() - sRand.std()]"
   ]
  },
  {
   "cell_type": "code",
   "execution_count": 105,
   "id": "311f9f52-d8d8-4ceb-bfe7-ab1aea2d6d27",
   "metadata": {},
   "outputs": [
    {
     "data": {
      "text/plain": [
       "f    950\n",
       "j    867\n",
       "r    907\n",
       "s    886\n",
       "dtype: int64"
      ]
     },
     "execution_count": 105,
     "metadata": {},
     "output_type": "execute_result"
    }
   ],
   "source": [
    "sRand.loc[sRand > sRand.mean() + sRand.std()]"
   ]
  },
  {
   "cell_type": "code",
   "execution_count": 115,
   "id": "6e537341-e28c-443a-99bd-cae543c6bd84",
   "metadata": {},
   "outputs": [
    {
     "ename": "TypeError",
     "evalue": "Cannot perform 'ror_' with a dtyped [int64] array and scalar of type [bool]",
     "output_type": "error",
     "traceback": [
      "\u001b[0;31m---------------------------------------------------------------------------\u001b[0m",
      "\u001b[0;31mTypeError\u001b[0m                                 Traceback (most recent call last)",
      "File \u001b[0;32m~/.pyenv/versions/3.12.3/lib/python3.12/site-packages/pandas/core/ops/array_ops.py:362\u001b[0m, in \u001b[0;36mna_logical_op\u001b[0;34m(x, y, op)\u001b[0m\n\u001b[1;32m    353\u001b[0m \u001b[38;5;28;01mtry\u001b[39;00m:\n\u001b[1;32m    354\u001b[0m     \u001b[38;5;66;03m# For exposition, write:\u001b[39;00m\n\u001b[1;32m    355\u001b[0m     \u001b[38;5;66;03m#  yarr = isinstance(y, np.ndarray)\u001b[39;00m\n\u001b[0;32m   (...)\u001b[0m\n\u001b[1;32m    360\u001b[0m     \u001b[38;5;66;03m# Then Cases where this goes through without raising include:\u001b[39;00m\n\u001b[1;32m    361\u001b[0m     \u001b[38;5;66;03m#  (xint or xbool) and (yint or bool)\u001b[39;00m\n\u001b[0;32m--> 362\u001b[0m     result \u001b[38;5;241m=\u001b[39m \u001b[43mop\u001b[49m\u001b[43m(\u001b[49m\u001b[43mx\u001b[49m\u001b[43m,\u001b[49m\u001b[43m \u001b[49m\u001b[43my\u001b[49m\u001b[43m)\u001b[49m\n\u001b[1;32m    363\u001b[0m \u001b[38;5;28;01mexcept\u001b[39;00m \u001b[38;5;167;01mTypeError\u001b[39;00m:\n",
      "File \u001b[0;32m~/.pyenv/versions/3.12.3/lib/python3.12/site-packages/pandas/core/roperator.py:58\u001b[0m, in \u001b[0;36mror_\u001b[0;34m(left, right)\u001b[0m\n\u001b[1;32m     57\u001b[0m \u001b[38;5;28;01mdef\u001b[39;00m \u001b[38;5;21mror_\u001b[39m(left, right):\n\u001b[0;32m---> 58\u001b[0m     \u001b[38;5;28;01mreturn\u001b[39;00m \u001b[43moperator\u001b[49m\u001b[38;5;241;43m.\u001b[39;49m\u001b[43mor_\u001b[49m\u001b[43m(\u001b[49m\u001b[43mright\u001b[49m\u001b[43m,\u001b[49m\u001b[43m \u001b[49m\u001b[43mleft\u001b[49m\u001b[43m)\u001b[49m\n",
      "\u001b[0;31mTypeError\u001b[0m: ufunc 'bitwise_or' not supported for the input types, and the inputs could not be safely coerced to any supported types according to the casting rule ''safe''",
      "\nDuring handling of the above exception, another exception occurred:\n",
      "\u001b[0;31mValueError\u001b[0m                                Traceback (most recent call last)",
      "File \u001b[0;32m~/.pyenv/versions/3.12.3/lib/python3.12/site-packages/pandas/core/ops/array_ops.py:376\u001b[0m, in \u001b[0;36mna_logical_op\u001b[0;34m(x, y, op)\u001b[0m\n\u001b[1;32m    375\u001b[0m \u001b[38;5;28;01mtry\u001b[39;00m:\n\u001b[0;32m--> 376\u001b[0m     result \u001b[38;5;241m=\u001b[39m \u001b[43mlibops\u001b[49m\u001b[38;5;241;43m.\u001b[39;49m\u001b[43mscalar_binop\u001b[49m\u001b[43m(\u001b[49m\u001b[43mx\u001b[49m\u001b[43m,\u001b[49m\u001b[43m \u001b[49m\u001b[43my\u001b[49m\u001b[43m,\u001b[49m\u001b[43m \u001b[49m\u001b[43mop\u001b[49m\u001b[43m)\u001b[49m\n\u001b[1;32m    377\u001b[0m \u001b[38;5;28;01mexcept\u001b[39;00m (\n\u001b[1;32m    378\u001b[0m     \u001b[38;5;167;01mTypeError\u001b[39;00m,\n\u001b[1;32m    379\u001b[0m     \u001b[38;5;167;01mValueError\u001b[39;00m,\n\u001b[0;32m   (...)\u001b[0m\n\u001b[1;32m    382\u001b[0m     \u001b[38;5;167;01mNotImplementedError\u001b[39;00m,\n\u001b[1;32m    383\u001b[0m ) \u001b[38;5;28;01mas\u001b[39;00m err:\n",
      "File \u001b[0;32mops.pyx:180\u001b[0m, in \u001b[0;36mpandas._libs.ops.scalar_binop\u001b[0;34m()\u001b[0m\n",
      "\u001b[0;31mValueError\u001b[0m: Buffer dtype mismatch, expected 'Python object' but got 'long'",
      "\nThe above exception was the direct cause of the following exception:\n",
      "\u001b[0;31mTypeError\u001b[0m                                 Traceback (most recent call last)",
      "Cell \u001b[0;32mIn[115], line 2\u001b[0m\n\u001b[1;32m      1\u001b[0m (\n\u001b[0;32m----> 2\u001b[0m     sRand \u001b[38;5;241m>\u001b[39m \u001b[43msRand\u001b[49m\u001b[38;5;241;43m.\u001b[39;49m\u001b[43mmean\u001b[49m\u001b[43m(\u001b[49m\u001b[43m)\u001b[49m\u001b[43m \u001b[49m\u001b[38;5;241;43m-\u001b[39;49m\u001b[43m \u001b[49m\u001b[43msRand\u001b[49m\u001b[38;5;241;43m.\u001b[39;49m\u001b[43mstd\u001b[49m\u001b[43m(\u001b[49m\u001b[43m)\u001b[49m\n\u001b[1;32m      3\u001b[0m \u001b[43m    \u001b[49m\u001b[38;5;241;43m|\u001b[39;49m\n\u001b[1;32m      4\u001b[0m \u001b[43m    \u001b[49m\u001b[43msRand\u001b[49m \u001b[38;5;241m>\u001b[39m sRand\u001b[38;5;241m.\u001b[39mmean() \u001b[38;5;241m+\u001b[39m sRand\u001b[38;5;241m.\u001b[39mstd()\n\u001b[1;32m      5\u001b[0m )\n",
      "File \u001b[0;32m~/.pyenv/versions/3.12.3/lib/python3.12/site-packages/pandas/core/generic.py:2171\u001b[0m, in \u001b[0;36mNDFrame.__array_ufunc__\u001b[0;34m(self, ufunc, method, *inputs, **kwargs)\u001b[0m\n\u001b[1;32m   2167\u001b[0m \u001b[38;5;129m@final\u001b[39m\n\u001b[1;32m   2168\u001b[0m \u001b[38;5;28;01mdef\u001b[39;00m \u001b[38;5;21m__array_ufunc__\u001b[39m(\n\u001b[1;32m   2169\u001b[0m     \u001b[38;5;28mself\u001b[39m, ufunc: np\u001b[38;5;241m.\u001b[39mufunc, method: \u001b[38;5;28mstr\u001b[39m, \u001b[38;5;241m*\u001b[39minputs: Any, \u001b[38;5;241m*\u001b[39m\u001b[38;5;241m*\u001b[39mkwargs: Any\n\u001b[1;32m   2170\u001b[0m ):\n\u001b[0;32m-> 2171\u001b[0m     \u001b[38;5;28;01mreturn\u001b[39;00m \u001b[43marraylike\u001b[49m\u001b[38;5;241;43m.\u001b[39;49m\u001b[43marray_ufunc\u001b[49m\u001b[43m(\u001b[49m\u001b[38;5;28;43mself\u001b[39;49m\u001b[43m,\u001b[49m\u001b[43m \u001b[49m\u001b[43mufunc\u001b[49m\u001b[43m,\u001b[49m\u001b[43m \u001b[49m\u001b[43mmethod\u001b[49m\u001b[43m,\u001b[49m\u001b[43m \u001b[49m\u001b[38;5;241;43m*\u001b[39;49m\u001b[43minputs\u001b[49m\u001b[43m,\u001b[49m\u001b[43m \u001b[49m\u001b[38;5;241;43m*\u001b[39;49m\u001b[38;5;241;43m*\u001b[39;49m\u001b[43mkwargs\u001b[49m\u001b[43m)\u001b[49m\n",
      "File \u001b[0;32m~/.pyenv/versions/3.12.3/lib/python3.12/site-packages/pandas/core/arraylike.py:276\u001b[0m, in \u001b[0;36marray_ufunc\u001b[0;34m(self, ufunc, method, *inputs, **kwargs)\u001b[0m\n\u001b[1;32m    273\u001b[0m kwargs \u001b[38;5;241m=\u001b[39m _standardize_out_kwarg(\u001b[38;5;241m*\u001b[39m\u001b[38;5;241m*\u001b[39mkwargs)\n\u001b[1;32m    275\u001b[0m \u001b[38;5;66;03m# for binary ops, use our custom dunder methods\u001b[39;00m\n\u001b[0;32m--> 276\u001b[0m result \u001b[38;5;241m=\u001b[39m \u001b[43mmaybe_dispatch_ufunc_to_dunder_op\u001b[49m\u001b[43m(\u001b[49m\u001b[38;5;28;43mself\u001b[39;49m\u001b[43m,\u001b[49m\u001b[43m \u001b[49m\u001b[43mufunc\u001b[49m\u001b[43m,\u001b[49m\u001b[43m \u001b[49m\u001b[43mmethod\u001b[49m\u001b[43m,\u001b[49m\u001b[43m \u001b[49m\u001b[38;5;241;43m*\u001b[39;49m\u001b[43minputs\u001b[49m\u001b[43m,\u001b[49m\u001b[43m \u001b[49m\u001b[38;5;241;43m*\u001b[39;49m\u001b[38;5;241;43m*\u001b[39;49m\u001b[43mkwargs\u001b[49m\u001b[43m)\u001b[49m\n\u001b[1;32m    277\u001b[0m \u001b[38;5;28;01mif\u001b[39;00m result \u001b[38;5;129;01mis\u001b[39;00m \u001b[38;5;129;01mnot\u001b[39;00m \u001b[38;5;28mNotImplemented\u001b[39m:\n\u001b[1;32m    278\u001b[0m     \u001b[38;5;28;01mreturn\u001b[39;00m result\n",
      "File \u001b[0;32mops_dispatch.pyx:113\u001b[0m, in \u001b[0;36mpandas._libs.ops_dispatch.maybe_dispatch_ufunc_to_dunder_op\u001b[0;34m()\u001b[0m\n",
      "File \u001b[0;32m~/.pyenv/versions/3.12.3/lib/python3.12/site-packages/pandas/core/ops/common.py:76\u001b[0m, in \u001b[0;36m_unpack_zerodim_and_defer.<locals>.new_method\u001b[0;34m(self, other)\u001b[0m\n\u001b[1;32m     72\u001b[0m             \u001b[38;5;28;01mreturn\u001b[39;00m \u001b[38;5;28mNotImplemented\u001b[39m\n\u001b[1;32m     74\u001b[0m other \u001b[38;5;241m=\u001b[39m item_from_zerodim(other)\n\u001b[0;32m---> 76\u001b[0m \u001b[38;5;28;01mreturn\u001b[39;00m \u001b[43mmethod\u001b[49m\u001b[43m(\u001b[49m\u001b[38;5;28;43mself\u001b[39;49m\u001b[43m,\u001b[49m\u001b[43m \u001b[49m\u001b[43mother\u001b[49m\u001b[43m)\u001b[49m\n",
      "File \u001b[0;32m~/.pyenv/versions/3.12.3/lib/python3.12/site-packages/pandas/core/arraylike.py:82\u001b[0m, in \u001b[0;36mOpsMixin.__ror__\u001b[0;34m(self, other)\u001b[0m\n\u001b[1;32m     80\u001b[0m \u001b[38;5;129m@unpack_zerodim_and_defer\u001b[39m(\u001b[38;5;124m\"\u001b[39m\u001b[38;5;124m__ror__\u001b[39m\u001b[38;5;124m\"\u001b[39m)\n\u001b[1;32m     81\u001b[0m \u001b[38;5;28;01mdef\u001b[39;00m \u001b[38;5;21m__ror__\u001b[39m(\u001b[38;5;28mself\u001b[39m, other):\n\u001b[0;32m---> 82\u001b[0m     \u001b[38;5;28;01mreturn\u001b[39;00m \u001b[38;5;28;43mself\u001b[39;49m\u001b[38;5;241;43m.\u001b[39;49m\u001b[43m_logical_method\u001b[49m\u001b[43m(\u001b[49m\u001b[43mother\u001b[49m\u001b[43m,\u001b[49m\u001b[43m \u001b[49m\u001b[43mroperator\u001b[49m\u001b[38;5;241;43m.\u001b[39;49m\u001b[43mror_\u001b[49m\u001b[43m)\u001b[49m\n",
      "File \u001b[0;32m~/.pyenv/versions/3.12.3/lib/python3.12/site-packages/pandas/core/series.py:6130\u001b[0m, in \u001b[0;36mSeries._logical_method\u001b[0;34m(self, other, op)\u001b[0m\n\u001b[1;32m   6127\u001b[0m lvalues \u001b[38;5;241m=\u001b[39m \u001b[38;5;28mself\u001b[39m\u001b[38;5;241m.\u001b[39m_values\n\u001b[1;32m   6128\u001b[0m rvalues \u001b[38;5;241m=\u001b[39m extract_array(other, extract_numpy\u001b[38;5;241m=\u001b[39m\u001b[38;5;28;01mTrue\u001b[39;00m, extract_range\u001b[38;5;241m=\u001b[39m\u001b[38;5;28;01mTrue\u001b[39;00m)\n\u001b[0;32m-> 6130\u001b[0m res_values \u001b[38;5;241m=\u001b[39m \u001b[43mops\u001b[49m\u001b[38;5;241;43m.\u001b[39;49m\u001b[43mlogical_op\u001b[49m\u001b[43m(\u001b[49m\u001b[43mlvalues\u001b[49m\u001b[43m,\u001b[49m\u001b[43m \u001b[49m\u001b[43mrvalues\u001b[49m\u001b[43m,\u001b[49m\u001b[43m \u001b[49m\u001b[43mop\u001b[49m\u001b[43m)\u001b[49m\n\u001b[1;32m   6131\u001b[0m \u001b[38;5;28;01mreturn\u001b[39;00m \u001b[38;5;28mself\u001b[39m\u001b[38;5;241m.\u001b[39m_construct_result(res_values, name\u001b[38;5;241m=\u001b[39mres_name)\n",
      "File \u001b[0;32m~/.pyenv/versions/3.12.3/lib/python3.12/site-packages/pandas/core/ops/array_ops.py:454\u001b[0m, in \u001b[0;36mlogical_op\u001b[0;34m(left, right, op)\u001b[0m\n\u001b[1;32m    450\u001b[0m \u001b[38;5;28;01melse\u001b[39;00m:\n\u001b[1;32m    451\u001b[0m     \u001b[38;5;66;03m# i.e. scalar\u001b[39;00m\n\u001b[1;32m    452\u001b[0m     is_other_int_dtype \u001b[38;5;241m=\u001b[39m lib\u001b[38;5;241m.\u001b[39mis_integer(rvalues)\n\u001b[0;32m--> 454\u001b[0m res_values \u001b[38;5;241m=\u001b[39m \u001b[43mna_logical_op\u001b[49m\u001b[43m(\u001b[49m\u001b[43mlvalues\u001b[49m\u001b[43m,\u001b[49m\u001b[43m \u001b[49m\u001b[43mrvalues\u001b[49m\u001b[43m,\u001b[49m\u001b[43m \u001b[49m\u001b[43mop\u001b[49m\u001b[43m)\u001b[49m\n\u001b[1;32m    456\u001b[0m \u001b[38;5;66;03m# For int vs int `^`, `|`, `&` are bitwise operators and return\u001b[39;00m\n\u001b[1;32m    457\u001b[0m \u001b[38;5;66;03m#   integer dtypes.  Otherwise these are boolean ops\u001b[39;00m\n\u001b[1;32m    458\u001b[0m \u001b[38;5;28;01mif\u001b[39;00m \u001b[38;5;129;01mnot\u001b[39;00m (left\u001b[38;5;241m.\u001b[39mdtype\u001b[38;5;241m.\u001b[39mkind \u001b[38;5;129;01min\u001b[39;00m \u001b[38;5;124m\"\u001b[39m\u001b[38;5;124miu\u001b[39m\u001b[38;5;124m\"\u001b[39m \u001b[38;5;129;01mand\u001b[39;00m is_other_int_dtype):\n",
      "File \u001b[0;32m~/.pyenv/versions/3.12.3/lib/python3.12/site-packages/pandas/core/ops/array_ops.py:385\u001b[0m, in \u001b[0;36mna_logical_op\u001b[0;34m(x, y, op)\u001b[0m\n\u001b[1;32m    377\u001b[0m         \u001b[38;5;28;01mexcept\u001b[39;00m (\n\u001b[1;32m    378\u001b[0m             \u001b[38;5;167;01mTypeError\u001b[39;00m,\n\u001b[1;32m    379\u001b[0m             \u001b[38;5;167;01mValueError\u001b[39;00m,\n\u001b[0;32m   (...)\u001b[0m\n\u001b[1;32m    382\u001b[0m             \u001b[38;5;167;01mNotImplementedError\u001b[39;00m,\n\u001b[1;32m    383\u001b[0m         ) \u001b[38;5;28;01mas\u001b[39;00m err:\n\u001b[1;32m    384\u001b[0m             typ \u001b[38;5;241m=\u001b[39m \u001b[38;5;28mtype\u001b[39m(y)\u001b[38;5;241m.\u001b[39m\u001b[38;5;18m__name__\u001b[39m\n\u001b[0;32m--> 385\u001b[0m             \u001b[38;5;28;01mraise\u001b[39;00m \u001b[38;5;167;01mTypeError\u001b[39;00m(\n\u001b[1;32m    386\u001b[0m                 \u001b[38;5;124mf\u001b[39m\u001b[38;5;124m\"\u001b[39m\u001b[38;5;124mCannot perform \u001b[39m\u001b[38;5;124m'\u001b[39m\u001b[38;5;132;01m{\u001b[39;00mop\u001b[38;5;241m.\u001b[39m\u001b[38;5;18m__name__\u001b[39m\u001b[38;5;132;01m}\u001b[39;00m\u001b[38;5;124m'\u001b[39m\u001b[38;5;124m with a dtyped [\u001b[39m\u001b[38;5;132;01m{\u001b[39;00mx\u001b[38;5;241m.\u001b[39mdtype\u001b[38;5;132;01m}\u001b[39;00m\u001b[38;5;124m] array \u001b[39m\u001b[38;5;124m\"\u001b[39m\n\u001b[1;32m    387\u001b[0m                 \u001b[38;5;124mf\u001b[39m\u001b[38;5;124m\"\u001b[39m\u001b[38;5;124mand scalar of type [\u001b[39m\u001b[38;5;132;01m{\u001b[39;00mtyp\u001b[38;5;132;01m}\u001b[39;00m\u001b[38;5;124m]\u001b[39m\u001b[38;5;124m\"\u001b[39m\n\u001b[1;32m    388\u001b[0m             ) \u001b[38;5;28;01mfrom\u001b[39;00m \u001b[38;5;21;01merr\u001b[39;00m\n\u001b[1;32m    390\u001b[0m \u001b[38;5;28;01mreturn\u001b[39;00m result\u001b[38;5;241m.\u001b[39mreshape(x\u001b[38;5;241m.\u001b[39mshape)\n",
      "\u001b[0;31mTypeError\u001b[0m: Cannot perform 'ror_' with a dtyped [int64] array and scalar of type [bool]"
     ]
    }
   ],
   "source": [
    "(\n",
    "    sRand > sRand.mean() - sRand.std()\n",
    "    |\n",
    "    sRand > sRand.mean() + sRand.std()\n",
    ")"
   ]
  },
  {
   "cell_type": "code",
   "execution_count": 111,
   "id": "564b3311-3ede-4038-9d61-6c4815132c4b",
   "metadata": {},
   "outputs": [
    {
     "ename": "NameError",
     "evalue": "name 'test' is not defined",
     "output_type": "error",
     "traceback": [
      "\u001b[0;31m---------------------------------------------------------------------------\u001b[0m",
      "\u001b[0;31mNameError\u001b[0m                                 Traceback (most recent call last)",
      "Cell \u001b[0;32mIn[111], line 1\u001b[0m\n\u001b[0;32m----> 1\u001b[0m \u001b[43mtest\u001b[49m\n\u001b[1;32m      2\u001b[0m test\n",
      "\u001b[0;31mNameError\u001b[0m: name 'test' is not defined"
     ]
    }
   ],
   "source": [
    "\n",
    "test\n"
   ]
  },
  {
   "cell_type": "code",
   "execution_count": null,
   "id": "54b5870b-b641-4f9b-8341-ca1a8ca922f3",
   "metadata": {},
   "outputs": [],
   "source": []
  }
 ],
 "metadata": {
  "kernelspec": {
   "display_name": "Python 3 (ipykernel)",
   "language": "python",
   "name": "python3"
  },
  "language_info": {
   "codemirror_mode": {
    "name": "ipython",
    "version": 3
   },
   "file_extension": ".py",
   "mimetype": "text/x-python",
   "name": "python",
   "nbconvert_exporter": "python",
   "pygments_lexer": "ipython3",
   "version": "3.12.3"
  }
 },
 "nbformat": 4,
 "nbformat_minor": 5
}
