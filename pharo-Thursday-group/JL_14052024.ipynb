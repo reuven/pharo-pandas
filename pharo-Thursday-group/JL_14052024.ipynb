{
 "cells": [
  {
   "cell_type": "raw",
   "id": "7fd63565-ce64-40f5-b717-2eab982c9fc0",
   "metadata": {},
   "source": [
    "# Agenda: \n",
    "* Mask indexes\n",
    "* Comparisons\n",
    "* Broadcasts and comparisons\n",
    "Using that to filter our series with a \"boolean index\" or a \"mask index\"\n",
    "Complex comparisons with \"and\" and \"or\""
   ]
  },
  {
   "cell_type": "code",
   "execution_count": 1,
   "id": "4cf8a30b-0819-4695-9db7-82d8412bb9df",
   "metadata": {},
   "outputs": [],
   "source": [
    "import numpy as np\n",
    "import pandas as pd\n",
    "from pandas import Series, DataFrame"
   ]
  },
  {
   "cell_type": "code",
   "execution_count": 2,
   "id": "1a711b32-bc22-445f-951a-7bb9fb0180ac",
   "metadata": {},
   "outputs": [],
   "source": [
    "s = Series([10, 20, 30, 40, 50, 60, 70],\n",
    "           index=list('abcdefg'))"
   ]
  },
  {
   "cell_type": "code",
   "execution_count": 3,
   "id": "daf0818e-8bc7-409f-93ae-e0e90cd131ec",
   "metadata": {},
   "outputs": [
    {
     "data": {
      "text/plain": [
       "a    10\n",
       "b    20\n",
       "c    30\n",
       "d    40\n",
       "e    50\n",
       "f    60\n",
       "g    70\n",
       "dtype: int64"
      ]
     },
     "execution_count": 3,
     "metadata": {},
     "output_type": "execute_result"
    }
   ],
   "source": [
    "s"
   ]
  },
  {
   "cell_type": "code",
   "execution_count": 4,
   "id": "b43ad9d1-b397-4604-9701-19f42451a3af",
   "metadata": {},
   "outputs": [],
   "source": [
    "# I can retrieve any element of the series with either .loc (based on the index) or .iloc (based on the position)\n"
   ]
  },
  {
   "cell_type": "code",
   "execution_count": 5,
   "id": "18b26aa4-1da7-4c06-ac2f-2b8b108d5846",
   "metadata": {},
   "outputs": [
    {
     "data": {
      "text/plain": [
       "40"
      ]
     },
     "execution_count": 5,
     "metadata": {},
     "output_type": "execute_result"
    }
   ],
   "source": [
    "s.loc['d']"
   ]
  },
  {
   "cell_type": "code",
   "execution_count": null,
   "id": "f1105025-23af-4b68-9663-6a98b097e4f7",
   "metadata": {},
   "outputs": [],
   "source": []
  }
 ],
 "metadata": {
  "kernelspec": {
   "display_name": "Python 3 (ipykernel)",
   "language": "python",
   "name": "python3"
  },
  "language_info": {
   "codemirror_mode": {
    "name": "ipython",
    "version": 3
   },
   "file_extension": ".py",
   "mimetype": "text/x-python",
   "name": "python",
   "nbconvert_exporter": "python",
   "pygments_lexer": "ipython3",
   "version": "3.12.3"
  }
 },
 "nbformat": 4,
 "nbformat_minor": 5
}
