{
 "cells": [
  {
   "cell_type": "raw",
   "id": "7fd63565-ce64-40f5-b717-2eab982c9fc0",
   "metadata": {},
   "source": [
    "# Agenda: \n",
    "* Mask indexes\n",
    "* Comparisons\n",
    "* Broadcasts and comparisons\n",
    "Using that to filter our series with a \"boolean index\" or a \"mask index\"\n",
    "Complex comparisons with \"and\" and \"or\""
   ]
  },
  {
   "cell_type": "code",
   "execution_count": 1,
   "id": "4cf8a30b-0819-4695-9db7-82d8412bb9df",
   "metadata": {},
   "outputs": [],
   "source": [
    "import numpy as np\n",
    "import pandas as pd\n",
    "from pandas import Series, DataFrame"
   ]
  },
  {
   "cell_type": "code",
   "execution_count": 2,
   "id": "1a711b32-bc22-445f-951a-7bb9fb0180ac",
   "metadata": {},
   "outputs": [],
   "source": [
    "s = Series([10, 20, 30, 40, 50, 60, 70],\n",
    "           index=list('abcdefg'))"
   ]
  },
  {
   "cell_type": "code",
   "execution_count": 3,
   "id": "daf0818e-8bc7-409f-93ae-e0e90cd131ec",
   "metadata": {},
   "outputs": [
    {
     "data": {
      "text/plain": [
       "a    10\n",
       "b    20\n",
       "c    30\n",
       "d    40\n",
       "e    50\n",
       "f    60\n",
       "g    70\n",
       "dtype: int64"
      ]
     },
     "execution_count": 3,
     "metadata": {},
     "output_type": "execute_result"
    }
   ],
   "source": [
    "s"
   ]
  },
  {
   "cell_type": "code",
   "execution_count": 4,
   "id": "b43ad9d1-b397-4604-9701-19f42451a3af",
   "metadata": {},
   "outputs": [],
   "source": [
    "# I can retrieve any element of the series with either .loc (based on the index) or .iloc (based on the position)\n"
   ]
  },
  {
   "cell_type": "code",
   "execution_count": 5,
   "id": "18b26aa4-1da7-4c06-ac2f-2b8b108d5846",
   "metadata": {},
   "outputs": [
    {
     "data": {
      "text/plain": [
       "40"
      ]
     },
     "execution_count": 5,
     "metadata": {},
     "output_type": "execute_result"
    }
   ],
   "source": [
    "s.loc['d']"
   ]
  },
  {
   "cell_type": "code",
   "execution_count": 6,
   "id": "f1105025-23af-4b68-9663-6a98b097e4f7",
   "metadata": {},
   "outputs": [
    {
     "data": {
      "text/plain": [
       "50"
      ]
     },
     "execution_count": 6,
     "metadata": {},
     "output_type": "execute_result"
    }
   ],
   "source": [
    "s.iloc[4]"
   ]
  },
  {
   "cell_type": "code",
   "execution_count": 7,
   "id": "1569ea15-5af0-48bc-bde3-a96bfa598cb3",
   "metadata": {},
   "outputs": [
    {
     "data": {
      "text/plain": [
       "a    10\n",
       "d    40\n",
       "dtype: int64"
      ]
     },
     "execution_count": 7,
     "metadata": {},
     "output_type": "execute_result"
    }
   ],
   "source": [
    "# Inside of the [], I can put a list of locations that I want to retrieve\n",
    "# this is known as \"fancy indexing\"\n",
    "\n",
    "s.loc[['a', 'd']]"
   ]
  },
  {
   "cell_type": "code",
   "execution_count": 8,
   "id": "17f05fc5-effc-4474-9d1f-84181c35d9a2",
   "metadata": {},
   "outputs": [
    {
     "data": {
      "text/plain": [
       "c    30\n",
       "f    60\n",
       "dtype: int64"
      ]
     },
     "execution_count": 8,
     "metadata": {},
     "output_type": "execute_result"
    }
   ],
   "source": [
    "s.iloc[[2, 5]]"
   ]
  },
  {
   "cell_type": "code",
   "execution_count": 9,
   "id": "bdb6637b-6c56-41d2-b6f6-2de73fbbbfd7",
   "metadata": {},
   "outputs": [
    {
     "data": {
      "text/plain": [
       "a    10\n",
       "d    40\n",
       "e    50\n",
       "g    70\n",
       "dtype: int64"
      ]
     },
     "execution_count": 9,
     "metadata": {},
     "output_type": "execute_result"
    }
   ],
   "source": [
    "# there is another way that we can retrieve values, though\n",
    "# we can pass a list of boolean values (True and False)\n",
    "\n",
    "s.loc[ [True, False, False, True, True, False, True] ]"
   ]
  },
  {
   "cell_type": "raw",
   "id": "0c10f37a-ebaf-42ed-8636-51d75c7ac3a2",
   "metadata": {},
   "source": [
    "Boolean/mask index\n",
    "The idea here is:\n",
    "\n",
    "Pass, inside of [], a list of booleans\n",
    "Wherever there is a True value, we get the value from the original series\n",
    "Wherever there is a False value, the original value is ignored\n",
    "This is used all of the time, but you will alm\n"
   ]
  },
  {
   "cell_type": "code",
   "execution_count": 10,
   "id": "79714bed-2703-4eb4-90d1-6829d16f2ebd",
   "metadata": {},
   "outputs": [
    {
     "data": {
      "text/plain": [
       "a    False\n",
       "b    False\n",
       "c    False\n",
       "d     True\n",
       "e     True\n",
       "f     True\n",
       "g     True\n",
       "dtype: bool"
      ]
     },
     "execution_count": 10,
     "metadata": {},
     "output_type": "execute_result"
    }
   ],
   "source": [
    "s > 30    # this is a comparison operation, broadcast across all values of s"
   ]
  },
  {
   "cell_type": "code",
   "execution_count": 11,
   "id": "3e774700-ed86-4257-b5a8-5e2223c27641",
   "metadata": {},
   "outputs": [
    {
     "data": {
      "text/plain": [
       "d    40\n",
       "e    50\n",
       "f    60\n",
       "g    70\n",
       "dtype: int64"
      ]
     },
     "execution_count": 11,
     "metadata": {},
     "output_type": "execute_result"
    }
   ],
   "source": [
    "# I can take this boolean series and use it as a mask index with .loc\n",
    "\n",
    "s.loc[ s > 30]   # only have [] once here, because we're getting a series back from s>30\n",
    "\n",
    "# say this as: show the values of s where s > 30"
   ]
  },
  {
   "cell_type": "raw",
   "id": "7760fe8a-4f61-481a-9c8d-5c54d2d48f52",
   "metadata": {},
   "source": [
    "How to read a mask index expression\n",
    "First, look at the stuff inside of the []. What expression is there, and what does it return?\n",
    "Next, think of it as an existing boolean series\n",
    "Then apply that boolean series to the series on the outside"
   ]
  },
  {
   "cell_type": "code",
   "execution_count": 12,
   "id": "64f9e53d-83f7-46ed-a1a9-37ff8425fb4e",
   "metadata": {},
   "outputs": [
    {
     "data": {
      "text/plain": [
       "a    False\n",
       "b    False\n",
       "c    False\n",
       "d    False\n",
       "e     True\n",
       "f     True\n",
       "g     True\n",
       "dtype: bool"
      ]
     },
     "execution_count": 12,
     "metadata": {},
     "output_type": "execute_result"
    }
   ],
   "source": [
    "# Let's find all of the values that are greater than the mean\n",
    "\n",
    "s > s.mean()\n"
   ]
  },
  {
   "cell_type": "code",
   "execution_count": 30,
   "id": "c6b23cec-55d0-4e1c-8d2f-c96a2820f877",
   "metadata": {},
   "outputs": [],
   "source": [
    "sLow = Series([12, 11, 11, 11, 10, 10, 9, 11, 9, 10],\n",
    "           index='Mon Tue Wed Thu Fri Sat Sun Mon Tue Wed'.split())\n",
    "sHigh = Series([19, 17, 20, 18, 18, 18, 15, 17, 14, 14],\n",
    "           index='Mon Tue Wed Thu Fri Sat Sun Mon Tue Wed'.split())"
   ]
  },
  {
   "cell_type": "code",
   "execution_count": 31,
   "id": "ad4b77b0-2dc4-4baa-99e5-e3bdbbee51d0",
   "metadata": {},
   "outputs": [
    {
     "data": {
      "text/plain": [
       "Mon    12\n",
       "Tue    11\n",
       "Wed    11\n",
       "Thu    11\n",
       "Fri    10\n",
       "Sat    10\n",
       "Sun     9\n",
       "Mon    11\n",
       "Tue     9\n",
       "Wed    10\n",
       "dtype: int64"
      ]
     },
     "execution_count": 31,
     "metadata": {},
     "output_type": "execute_result"
    }
   ],
   "source": [
    "sLow"
   ]
  },
  {
   "cell_type": "code",
   "execution_count": 32,
   "id": "08ea8a6f-7bb5-40c2-973c-2dacc896de29",
   "metadata": {},
   "outputs": [
    {
     "data": {
      "text/plain": [
       "count    10.000000\n",
       "mean     17.000000\n",
       "std       2.054805\n",
       "min      14.000000\n",
       "25%      15.500000\n",
       "50%      17.500000\n",
       "75%      18.000000\n",
       "max      20.000000\n",
       "dtype: float64"
      ]
     },
     "execution_count": 32,
     "metadata": {},
     "output_type": "execute_result"
    }
   ],
   "source": [
    "sHigh.describe()"
   ]
  },
  {
   "cell_type": "code",
   "execution_count": 33,
   "id": "0fe0dcfb-f6fb-4cc1-9be2-93481656e699",
   "metadata": {},
   "outputs": [
    {
     "data": {
      "text/plain": [
       "count    10.000000\n",
       "mean     10.400000\n",
       "std       0.966092\n",
       "min       9.000000\n",
       "25%      10.000000\n",
       "50%      10.500000\n",
       "75%      11.000000\n",
       "max      12.000000\n",
       "dtype: float64"
      ]
     },
     "execution_count": 33,
     "metadata": {},
     "output_type": "execute_result"
    }
   ],
   "source": [
    "sLow.describe()\n"
   ]
  },
  {
   "cell_type": "code",
   "execution_count": 34,
   "id": "294c4f88-46a9-4446-b303-94e5625c8d56",
   "metadata": {},
   "outputs": [
    {
     "data": {
      "text/plain": [
       "Mon     True\n",
       "Tue     True\n",
       "Wed     True\n",
       "Thu     True\n",
       "Fri    False\n",
       "Sat    False\n",
       "Sun    False\n",
       "Mon     True\n",
       "Tue    False\n",
       "Wed    False\n",
       "dtype: bool"
      ]
     },
     "execution_count": 34,
     "metadata": {},
     "output_type": "execute_result"
    }
   ],
   "source": [
    "sLow > sLow.mean()"
   ]
  },
  {
   "cell_type": "code",
   "execution_count": 35,
   "id": "3fcccacb-7d74-407c-b347-88483e829046",
   "metadata": {},
   "outputs": [
    {
     "data": {
      "text/plain": [
       "Mon     True\n",
       "Tue    False\n",
       "Wed     True\n",
       "Thu    False\n",
       "Fri    False\n",
       "Sat    False\n",
       "Sun    False\n",
       "Mon    False\n",
       "Tue    False\n",
       "Wed    False\n",
       "dtype: bool"
      ]
     },
     "execution_count": 35,
     "metadata": {},
     "output_type": "execute_result"
    }
   ],
   "source": [
    "sHigh > sHigh.mean()+1"
   ]
  },
  {
   "cell_type": "code",
   "execution_count": 25,
   "id": "a0f8b533-6694-4630-a642-cc1fd7780ed0",
   "metadata": {},
   "outputs": [
    {
     "ename": "SyntaxError",
     "evalue": "cannot assign to function call here. Maybe you meant '==' instead of '='? (2226352665.py, line 1)",
     "output_type": "error",
     "traceback": [
      "\u001b[0;36m  Cell \u001b[0;32mIn[25], line 1\u001b[0;36m\u001b[0m\n\u001b[0;31m    sHigh.loc() = sHigh > sHigh.mean()\u001b[0m\n\u001b[0m    ^\u001b[0m\n\u001b[0;31mSyntaxError\u001b[0m\u001b[0;31m:\u001b[0m cannot assign to function call here. Maybe you meant '==' instead of '='?\n"
     ]
    }
   ],
   "source": [
    "sHigh.loc() = sHigh > sHigh.mean()"
   ]
  },
  {
   "cell_type": "code",
   "execution_count": null,
   "id": "10905cad-6e96-452e-9455-4928bae79978",
   "metadata": {},
   "outputs": [],
   "source": []
  }
 ],
 "metadata": {
  "kernelspec": {
   "display_name": "Python 3 (ipykernel)",
   "language": "python",
   "name": "python3"
  },
  "language_info": {
   "codemirror_mode": {
    "name": "ipython",
    "version": 3
   },
   "file_extension": ".py",
   "mimetype": "text/x-python",
   "name": "python",
   "nbconvert_exporter": "python",
   "pygments_lexer": "ipython3",
   "version": "3.12.3"
  }
 },
 "nbformat": 4,
 "nbformat_minor": 5
}
