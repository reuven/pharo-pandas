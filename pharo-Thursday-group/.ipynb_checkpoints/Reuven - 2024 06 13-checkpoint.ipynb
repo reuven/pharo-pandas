{
 "cells": [
  {
   "cell_type": "markdown",
   "id": "36473349-e4b1-4bb7-8453-8ce803726b9e",
   "metadata": {},
   "source": [
    "# Agenda\n",
    "\n",
    "1. Fun with promotions\n",
    "2. Data frames\n",
    "    - What are they?\n",
    "    - How can we create simple ones by hand?\n",
    "    - How do we retrieve from them?\n",
    "3. Reading from CSV files\n",
    "    - Some basic options\n",
    "    - - Things to watch out for\n",
    "4. Retrieving with `.loc` -- ways to think about it\n",
    "5. How to avoid a common Pandas warning / error"
   ]
  },
  {
   "cell_type": "code",
   "execution_count": 2,
   "id": "68b54aa8-1beb-469f-8fa4-0b93be4cfc34",
   "metadata": {},
   "outputs": [],
   "source": [
    "import pandas as pd\n",
    "from pandas import Series, DataFrame"
   ]
  },
  {
   "cell_type": "code",
   "execution_count": 3,
   "id": "c2340d22-7d02-4ed6-b6cd-587b49be1ebc",
   "metadata": {},
   "outputs": [
    {
     "data": {
      "text/plain": [
       "0    10\n",
       "1    20\n",
       "2    30\n",
       "3    40\n",
       "4    50\n",
       "dtype: int8"
      ]
     },
     "execution_count": 3,
     "metadata": {},
     "output_type": "execute_result"
    }
   ],
   "source": [
    "s = Series([10, 20, 30, 40, 50], dtype='int8')\n",
    "s"
   ]
  },
  {
   "cell_type": "code",
   "execution_count": 4,
   "id": "fb1f58fa-5dae-488f-b17d-8578125ee559",
   "metadata": {},
   "outputs": [
    {
     "data": {
      "text/plain": [
       "256"
      ]
     },
     "execution_count": 4,
     "metadata": {},
     "output_type": "execute_result"
    }
   ],
   "source": [
    "2 ** 8"
   ]
  },
  {
   "cell_type": "code",
   "execution_count": 5,
   "id": "9e8ffec8-2952-4f6d-b965-0b29f798b93f",
   "metadata": {},
   "outputs": [
    {
     "data": {
      "text/plain": [
       "0     20\n",
       "1     40\n",
       "2     60\n",
       "3     80\n",
       "4    100\n",
       "dtype: int8"
      ]
     },
     "execution_count": 5,
     "metadata": {},
     "output_type": "execute_result"
    }
   ],
   "source": [
    "s * 2"
   ]
  },
  {
   "cell_type": "code",
   "execution_count": 6,
   "id": "7719116e-6d8f-4246-954b-705f1b235ee1",
   "metadata": {},
   "outputs": [
    {
     "data": {
      "text/plain": [
       "0    100\n",
       "1    -56\n",
       "2     44\n",
       "3   -112\n",
       "4    -12\n",
       "dtype: int8"
      ]
     },
     "execution_count": 6,
     "metadata": {},
     "output_type": "execute_result"
    }
   ],
   "source": [
    "s * 10  # here, we multiply by 10 and the numbers \"roll over\" -- because int8 isn't big enough for some solutions"
   ]
  },
  {
   "cell_type": "code",
   "execution_count": 8,
   "id": "c7b72cf8-8983-49c6-9416-299863a0da9a",
   "metadata": {},
   "outputs": [
    {
     "data": {
      "text/plain": [
       "0     2000\n",
       "1     4000\n",
       "2     6000\n",
       "3     8000\n",
       "4    10000\n",
       "dtype: int16"
      ]
     },
     "execution_count": 8,
     "metadata": {},
     "output_type": "execute_result"
    }
   ],
   "source": [
    "s * 200   # will this have similar problems?  no!"
   ]
  },
  {
   "cell_type": "code",
   "execution_count": null,
   "id": "17d4a9b6-8651-41b2-b2cb-a322bab463cc",
   "metadata": {},
   "outputs": [],
   "source": [
    "# somewhere along the line, Pandas decided to \"promote\" the series from int8 to int16, thus saving the day\n"
   ]
  }
 ],
 "metadata": {
  "kernelspec": {
   "display_name": "Python 3 (ipykernel)",
   "language": "python",
   "name": "python3"
  },
  "language_info": {
   "codemirror_mode": {
    "name": "ipython",
    "version": 3
   },
   "file_extension": ".py",
   "mimetype": "text/x-python",
   "name": "python",
   "nbconvert_exporter": "python",
   "pygments_lexer": "ipython3",
   "version": "3.12.3"
  }
 },
 "nbformat": 4,
 "nbformat_minor": 5
}
