{
 "cells": [
  {
   "cell_type": "markdown",
   "id": "71252f98-ba6f-445c-a0a8-79985d9f5e34",
   "metadata": {},
   "source": [
    "# Grouping\n",
    "\n",
    "1. Simple grouping\n",
    "2. More complex grouping\n",
    "    - Grouping on more than one categorical column\n",
    "    - Grouping on more than one numeric column\n",
    "    - Using more than one aggregation method\n",
    "3. "
   ]
  }
 ],
 "metadata": {
  "kernelspec": {
   "display_name": "Python 3 (ipykernel)",
   "language": "python",
   "name": "python3"
  },
  "language_info": {
   "codemirror_mode": {
    "name": "ipython",
    "version": 3
   },
   "file_extension": ".py",
   "mimetype": "text/x-python",
   "name": "python",
   "nbconvert_exporter": "python",
   "pygments_lexer": "ipython3",
   "version": "3.12.3"
  }
 },
 "nbformat": 4,
 "nbformat_minor": 5
}
