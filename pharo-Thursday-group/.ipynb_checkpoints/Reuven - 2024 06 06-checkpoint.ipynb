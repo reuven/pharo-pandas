{
 "cells": [
  {
   "cell_type": "markdown",
   "id": "11dc1967-187d-447c-b2ae-11fa0e2eb65e",
   "metadata": {},
   "source": [
    "# Agenda\n",
    "\n",
    "1. More with dtypes\n",
    "2. Converting from one dtype to another with `astype`"
   ]
  },
  {
   "cell_type": "code",
   "execution_count": null,
   "id": "85c1216b-eea2-4f42-b537-5bc1f5602ee5",
   "metadata": {},
   "outputs": [],
   "source": []
  }
 ],
 "metadata": {
  "kernelspec": {
   "display_name": "Python 3 (ipykernel)",
   "language": "python",
   "name": "python3"
  },
  "language_info": {
   "codemirror_mode": {
    "name": "ipython",
    "version": 3
   },
   "file_extension": ".py",
   "mimetype": "text/x-python",
   "name": "python",
   "nbconvert_exporter": "python",
   "pygments_lexer": "ipython3",
   "version": "3.12.3"
  }
 },
 "nbformat": 4,
 "nbformat_minor": 5
}
