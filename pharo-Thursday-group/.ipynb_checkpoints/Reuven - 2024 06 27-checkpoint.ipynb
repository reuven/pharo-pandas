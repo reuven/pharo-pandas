{
 "cells": [
  {
   "cell_type": "markdown",
   "id": "31ca837b-5699-4ccf-8640-27472b455c0f",
   "metadata": {},
   "source": [
    "# Agenda: Sorting\n",
    "\n",
    "1. Series\n",
    "    - Sort by index\n",
    "    - Sort by values\n",
    "2. Data frames\n",
    "    - Sorting by index\n",
    "    - Sorting by one column\n",
    "    - Sorting by multiple columns"
   ]
  },
  {
   "cell_type": "code",
   "execution_count": 1,
   "id": "906fe2d1-1362-49b4-87c3-0122ca447f8a",
   "metadata": {},
   "outputs": [
    {
     "name": "stdout",
     "output_type": "stream",
     "text": [
      "The history saving thread hit an unexpected error (OperationalError('attempt to write a readonly database')).History will not be written to the database.\n"
     ]
    }
   ],
   "source": [
    "import pandas as pd\n",
    "import numpy as np\n",
    "from pandas import Series, DataFrame"
   ]
  },
  {
   "cell_type": "code",
   "execution_count": 2,
   "id": "3caedc2f-e4da-4d60-b22f-8d9415393702",
   "metadata": {},
   "outputs": [
    {
     "data": {
      "text/plain": [
       "a    -6\n",
       "c    -3\n",
       "e    14\n",
       "g    17\n",
       "i    17\n",
       "h   -41\n",
       "f    33\n",
       "j   -29\n",
       "d   -14\n",
       "b    37\n",
       "dtype: int64"
      ]
     },
     "execution_count": 2,
     "metadata": {},
     "output_type": "execute_result"
    }
   ],
   "source": [
    "# create a series of random values from -50 to 50\n",
    "\n",
    "np.random.seed(0)\n",
    "s = Series(np.random.randint(-50, 50, 10),\n",
    "           index=list('acegihfjdb'))\n",
    "s"
   ]
  },
  {
   "cell_type": "code",
   "execution_count": 3,
   "id": "37ad26df-753c-40ad-8b5f-e3c22bc66e46",
   "metadata": {},
   "outputs": [
    {
     "data": {
      "text/plain": [
       "14"
      ]
     },
     "execution_count": 3,
     "metadata": {},
     "output_type": "execute_result"
    }
   ],
   "source": [
    "# retrieve via the index with .loc\n",
    "s.loc['e']"
   ]
  },
  {
   "cell_type": "code",
   "execution_count": 4,
   "id": "98144a19-e9e8-4d02-b960-a68009029c2e",
   "metadata": {},
   "outputs": [
    {
     "data": {
      "text/plain": [
       "e    14\n",
       "a    -6\n",
       "dtype: int64"
      ]
     },
     "execution_count": 4,
     "metadata": {},
     "output_type": "execute_result"
    }
   ],
   "source": [
    "# fancy index\n",
    "s.loc[['e', 'a']]"
   ]
  },
  {
   "cell_type": "code",
   "execution_count": 5,
   "id": "1963b15b-f155-4081-bb2b-92a8a11dc4ea",
   "metadata": {},
   "outputs": [
    {
     "data": {
      "text/plain": [
       "e    14\n",
       "g    17\n",
       "i    17\n",
       "h   -41\n",
       "dtype: int64"
      ]
     },
     "execution_count": 5,
     "metadata": {},
     "output_type": "execute_result"
    }
   ],
   "source": [
    "# slice\n",
    "s.loc['e':'h']   # up to and including with .loc"
   ]
  },
  {
   "cell_type": "code",
   "execution_count": 6,
   "id": "200d4bfd-0d94-4365-af95-734cfd7b03a6",
   "metadata": {},
   "outputs": [
    {
     "data": {
      "text/plain": [
       "a    -6\n",
       "b    37\n",
       "c    -3\n",
       "d   -14\n",
       "e    14\n",
       "dtype: int64"
      ]
     },
     "execution_count": 6,
     "metadata": {},
     "output_type": "execute_result"
    }
   ],
   "source": [
    "# if we want to sort the index, we can use the .sort_index method\n",
    "# this method returns a new series, with the same index and values as before,\n",
    "# but with the index sorted\n",
    "\n",
    "(\n",
    "    s\n",
    "    .sort_index()\n",
    "    .head()\n",
    ")"
   ]
  },
  {
   "cell_type": "code",
   "execution_count": 7,
   "id": "9da26687-633d-457c-8d13-e07ec1381d5a",
   "metadata": {},
   "outputs": [
    {
     "data": {
      "text/plain": [
       "b    37\n",
       "d   -14\n",
       "dtype: int64"
      ]
     },
     "execution_count": 7,
     "metadata": {},
     "output_type": "execute_result"
    }
   ],
   "source": [
    "# get specific values from this series\n",
    "(\n",
    "    s\n",
    "    .sort_index()\n",
    "    .head()\n",
    "    .loc[['b', 'd']]\n",
    ")"
   ]
  },
  {
   "cell_type": "code",
   "execution_count": 8,
   "id": "9964dc39-5a5a-4942-8e87-2499a3ab6dd9",
   "metadata": {},
   "outputs": [
    {
     "data": {
      "text/plain": [
       "a    -6\n",
       "b    37\n",
       "c    -3\n",
       "d   -14\n",
       "e    14\n",
       "dtype: int64"
      ]
     },
     "execution_count": 8,
     "metadata": {},
     "output_type": "execute_result"
    }
   ],
   "source": [
    "# sort + head is very common\n",
    "(\n",
    "    s\n",
    "    .sort_index()\n",
    "    .head()\n",
    ")"
   ]
  },
  {
   "cell_type": "code",
   "execution_count": 9,
   "id": "a3b2d742-8de3-4916-961e-71b26a8c203c",
   "metadata": {},
   "outputs": [
    {
     "data": {
      "text/plain": [
       "f    33\n",
       "g    17\n",
       "h   -41\n",
       "i    17\n",
       "j   -29\n",
       "dtype: int64"
      ]
     },
     "execution_count": 9,
     "metadata": {},
     "output_type": "execute_result"
    }
   ],
   "source": [
    "# sort + tail is very common\n",
    "(\n",
    "    s\n",
    "    .sort_index()\n",
    "    .tail()\n",
    ")"
   ]
  },
  {
   "cell_type": "code",
   "execution_count": 10,
   "id": "a841b8fe-87b0-453e-90e2-67b3b834d727",
   "metadata": {},
   "outputs": [],
   "source": [
    "# if you want (but don't!) you can pass inplace=True to sort_index (and other sorting methods).\n",
    "# If you do that, you'll get None as a result, and the data structure will be modified in place\n",
    "\n",
    "s.sort_index(inplace=True)"
   ]
  },
  {
   "cell_type": "code",
   "execution_count": 11,
   "id": "5e5ad36e-9b57-41bc-9cf2-c02f56909931",
   "metadata": {},
   "outputs": [
    {
     "data": {
      "text/plain": [
       "a    -6\n",
       "b    37\n",
       "c    -3\n",
       "d   -14\n",
       "e    14\n",
       "f    33\n",
       "g    17\n",
       "h   -41\n",
       "i    17\n",
       "j   -29\n",
       "dtype: int64"
      ]
     },
     "execution_count": 11,
     "metadata": {},
     "output_type": "execute_result"
    }
   ],
   "source": [
    "s"
   ]
  },
  {
   "cell_type": "code",
   "execution_count": 12,
   "id": "10829d29-4da5-47d6-88f3-e6045574caca",
   "metadata": {},
   "outputs": [
    {
     "data": {
      "text/plain": [
       "a    -6\n",
       "c    -3\n",
       "e    14\n",
       "a    17\n",
       "i    17\n",
       "h   -41\n",
       "b    33\n",
       "j   -29\n",
       "d   -14\n",
       "b    37\n",
       "dtype: int64"
      ]
     },
     "execution_count": 12,
     "metadata": {},
     "output_type": "execute_result"
    }
   ],
   "source": [
    "# let's define the series again, but with doubled a and b in the index\n",
    "\n",
    "np.random.seed(0)\n",
    "s = Series(np.random.randint(-50, 50, 10),\n",
    "           index=list('aceaihbjdb'))\n",
    "s"
   ]
  },
  {
   "cell_type": "code",
   "execution_count": 13,
   "id": "bd856fa1-545c-48d8-b08d-a05de72dc9b0",
   "metadata": {},
   "outputs": [
    {
     "data": {
      "text/plain": [
       "a    -6\n",
       "a    17\n",
       "dtype: int64"
      ]
     },
     "execution_count": 13,
     "metadata": {},
     "output_type": "execute_result"
    }
   ],
   "source": [
    "# this is totally fine!\n",
    "s.loc['a']"
   ]
  },
  {
   "cell_type": "code",
   "execution_count": 14,
   "id": "030b546d-5783-47db-9899-0e1c83cf5f61",
   "metadata": {},
   "outputs": [
    {
     "data": {
      "text/plain": [
       "b    33\n",
       "b    37\n",
       "dtype: int64"
      ]
     },
     "execution_count": 14,
     "metadata": {},
     "output_type": "execute_result"
    }
   ],
   "source": [
    "s.loc['b']"
   ]
  },
  {
   "cell_type": "code",
   "execution_count": 15,
   "id": "b298d718-4114-4fbe-bd7f-c235624bb815",
   "metadata": {},
   "outputs": [
    {
     "data": {
      "text/plain": [
       "-3"
      ]
     },
     "execution_count": 15,
     "metadata": {},
     "output_type": "execute_result"
    }
   ],
   "source": [
    "s.loc['c']"
   ]
  },
  {
   "cell_type": "code",
   "execution_count": 16,
   "id": "a5ee1c30-cb45-4669-b429-0db21507adef",
   "metadata": {},
   "outputs": [
    {
     "ename": "KeyError",
     "evalue": "\"Cannot get left slice bound for non-unique label: 'a'\"",
     "output_type": "error",
     "traceback": [
      "\u001b[0;31m---------------------------------------------------------------------------\u001b[0m",
      "\u001b[0;31mKeyError\u001b[0m                                  Traceback (most recent call last)",
      "Cell \u001b[0;32mIn[16], line 1\u001b[0m\n\u001b[0;32m----> 1\u001b[0m \u001b[43ms\u001b[49m\u001b[38;5;241;43m.\u001b[39;49m\u001b[43mloc\u001b[49m\u001b[43m[\u001b[49m\u001b[38;5;124;43m'\u001b[39;49m\u001b[38;5;124;43ma\u001b[39;49m\u001b[38;5;124;43m'\u001b[39;49m\u001b[43m:\u001b[49m\u001b[38;5;124;43m'\u001b[39;49m\u001b[38;5;124;43mc\u001b[39;49m\u001b[38;5;124;43m'\u001b[39;49m\u001b[43m]\u001b[49m\n",
      "File \u001b[0;32m~/.pyenv/versions/3.12.3/lib/python3.12/site-packages/pandas/core/indexing.py:1191\u001b[0m, in \u001b[0;36m_LocationIndexer.__getitem__\u001b[0;34m(self, key)\u001b[0m\n\u001b[1;32m   1189\u001b[0m maybe_callable \u001b[38;5;241m=\u001b[39m com\u001b[38;5;241m.\u001b[39mapply_if_callable(key, \u001b[38;5;28mself\u001b[39m\u001b[38;5;241m.\u001b[39mobj)\n\u001b[1;32m   1190\u001b[0m maybe_callable \u001b[38;5;241m=\u001b[39m \u001b[38;5;28mself\u001b[39m\u001b[38;5;241m.\u001b[39m_check_deprecated_callable_usage(key, maybe_callable)\n\u001b[0;32m-> 1191\u001b[0m \u001b[38;5;28;01mreturn\u001b[39;00m \u001b[38;5;28;43mself\u001b[39;49m\u001b[38;5;241;43m.\u001b[39;49m\u001b[43m_getitem_axis\u001b[49m\u001b[43m(\u001b[49m\u001b[43mmaybe_callable\u001b[49m\u001b[43m,\u001b[49m\u001b[43m \u001b[49m\u001b[43maxis\u001b[49m\u001b[38;5;241;43m=\u001b[39;49m\u001b[43maxis\u001b[49m\u001b[43m)\u001b[49m\n",
      "File \u001b[0;32m~/.pyenv/versions/3.12.3/lib/python3.12/site-packages/pandas/core/indexing.py:1411\u001b[0m, in \u001b[0;36m_LocIndexer._getitem_axis\u001b[0;34m(self, key, axis)\u001b[0m\n\u001b[1;32m   1409\u001b[0m \u001b[38;5;28;01mif\u001b[39;00m \u001b[38;5;28misinstance\u001b[39m(key, \u001b[38;5;28mslice\u001b[39m):\n\u001b[1;32m   1410\u001b[0m     \u001b[38;5;28mself\u001b[39m\u001b[38;5;241m.\u001b[39m_validate_key(key, axis)\n\u001b[0;32m-> 1411\u001b[0m     \u001b[38;5;28;01mreturn\u001b[39;00m \u001b[38;5;28;43mself\u001b[39;49m\u001b[38;5;241;43m.\u001b[39;49m\u001b[43m_get_slice_axis\u001b[49m\u001b[43m(\u001b[49m\u001b[43mkey\u001b[49m\u001b[43m,\u001b[49m\u001b[43m \u001b[49m\u001b[43maxis\u001b[49m\u001b[38;5;241;43m=\u001b[39;49m\u001b[43maxis\u001b[49m\u001b[43m)\u001b[49m\n\u001b[1;32m   1412\u001b[0m \u001b[38;5;28;01melif\u001b[39;00m com\u001b[38;5;241m.\u001b[39mis_bool_indexer(key):\n\u001b[1;32m   1413\u001b[0m     \u001b[38;5;28;01mreturn\u001b[39;00m \u001b[38;5;28mself\u001b[39m\u001b[38;5;241m.\u001b[39m_getbool_axis(key, axis\u001b[38;5;241m=\u001b[39maxis)\n",
      "File \u001b[0;32m~/.pyenv/versions/3.12.3/lib/python3.12/site-packages/pandas/core/indexing.py:1443\u001b[0m, in \u001b[0;36m_LocIndexer._get_slice_axis\u001b[0;34m(self, slice_obj, axis)\u001b[0m\n\u001b[1;32m   1440\u001b[0m     \u001b[38;5;28;01mreturn\u001b[39;00m obj\u001b[38;5;241m.\u001b[39mcopy(deep\u001b[38;5;241m=\u001b[39m\u001b[38;5;28;01mFalse\u001b[39;00m)\n\u001b[1;32m   1442\u001b[0m labels \u001b[38;5;241m=\u001b[39m obj\u001b[38;5;241m.\u001b[39m_get_axis(axis)\n\u001b[0;32m-> 1443\u001b[0m indexer \u001b[38;5;241m=\u001b[39m \u001b[43mlabels\u001b[49m\u001b[38;5;241;43m.\u001b[39;49m\u001b[43mslice_indexer\u001b[49m\u001b[43m(\u001b[49m\u001b[43mslice_obj\u001b[49m\u001b[38;5;241;43m.\u001b[39;49m\u001b[43mstart\u001b[49m\u001b[43m,\u001b[49m\u001b[43m \u001b[49m\u001b[43mslice_obj\u001b[49m\u001b[38;5;241;43m.\u001b[39;49m\u001b[43mstop\u001b[49m\u001b[43m,\u001b[49m\u001b[43m \u001b[49m\u001b[43mslice_obj\u001b[49m\u001b[38;5;241;43m.\u001b[39;49m\u001b[43mstep\u001b[49m\u001b[43m)\u001b[49m\n\u001b[1;32m   1445\u001b[0m \u001b[38;5;28;01mif\u001b[39;00m \u001b[38;5;28misinstance\u001b[39m(indexer, \u001b[38;5;28mslice\u001b[39m):\n\u001b[1;32m   1446\u001b[0m     \u001b[38;5;28;01mreturn\u001b[39;00m \u001b[38;5;28mself\u001b[39m\u001b[38;5;241m.\u001b[39mobj\u001b[38;5;241m.\u001b[39m_slice(indexer, axis\u001b[38;5;241m=\u001b[39maxis)\n",
      "File \u001b[0;32m~/.pyenv/versions/3.12.3/lib/python3.12/site-packages/pandas/core/indexes/base.py:6662\u001b[0m, in \u001b[0;36mIndex.slice_indexer\u001b[0;34m(self, start, end, step)\u001b[0m\n\u001b[1;32m   6618\u001b[0m \u001b[38;5;28;01mdef\u001b[39;00m \u001b[38;5;21mslice_indexer\u001b[39m(\n\u001b[1;32m   6619\u001b[0m     \u001b[38;5;28mself\u001b[39m,\n\u001b[1;32m   6620\u001b[0m     start: Hashable \u001b[38;5;241m|\u001b[39m \u001b[38;5;28;01mNone\u001b[39;00m \u001b[38;5;241m=\u001b[39m \u001b[38;5;28;01mNone\u001b[39;00m,\n\u001b[1;32m   6621\u001b[0m     end: Hashable \u001b[38;5;241m|\u001b[39m \u001b[38;5;28;01mNone\u001b[39;00m \u001b[38;5;241m=\u001b[39m \u001b[38;5;28;01mNone\u001b[39;00m,\n\u001b[1;32m   6622\u001b[0m     step: \u001b[38;5;28mint\u001b[39m \u001b[38;5;241m|\u001b[39m \u001b[38;5;28;01mNone\u001b[39;00m \u001b[38;5;241m=\u001b[39m \u001b[38;5;28;01mNone\u001b[39;00m,\n\u001b[1;32m   6623\u001b[0m ) \u001b[38;5;241m-\u001b[39m\u001b[38;5;241m>\u001b[39m \u001b[38;5;28mslice\u001b[39m:\n\u001b[1;32m   6624\u001b[0m \u001b[38;5;250m    \u001b[39m\u001b[38;5;124;03m\"\"\"\u001b[39;00m\n\u001b[1;32m   6625\u001b[0m \u001b[38;5;124;03m    Compute the slice indexer for input labels and step.\u001b[39;00m\n\u001b[1;32m   6626\u001b[0m \n\u001b[0;32m   (...)\u001b[0m\n\u001b[1;32m   6660\u001b[0m \u001b[38;5;124;03m    slice(1, 3, None)\u001b[39;00m\n\u001b[1;32m   6661\u001b[0m \u001b[38;5;124;03m    \"\"\"\u001b[39;00m\n\u001b[0;32m-> 6662\u001b[0m     start_slice, end_slice \u001b[38;5;241m=\u001b[39m \u001b[38;5;28;43mself\u001b[39;49m\u001b[38;5;241;43m.\u001b[39;49m\u001b[43mslice_locs\u001b[49m\u001b[43m(\u001b[49m\u001b[43mstart\u001b[49m\u001b[43m,\u001b[49m\u001b[43m \u001b[49m\u001b[43mend\u001b[49m\u001b[43m,\u001b[49m\u001b[43m \u001b[49m\u001b[43mstep\u001b[49m\u001b[38;5;241;43m=\u001b[39;49m\u001b[43mstep\u001b[49m\u001b[43m)\u001b[49m\n\u001b[1;32m   6664\u001b[0m     \u001b[38;5;66;03m# return a slice\u001b[39;00m\n\u001b[1;32m   6665\u001b[0m     \u001b[38;5;28;01mif\u001b[39;00m \u001b[38;5;129;01mnot\u001b[39;00m is_scalar(start_slice):\n",
      "File \u001b[0;32m~/.pyenv/versions/3.12.3/lib/python3.12/site-packages/pandas/core/indexes/base.py:6879\u001b[0m, in \u001b[0;36mIndex.slice_locs\u001b[0;34m(self, start, end, step)\u001b[0m\n\u001b[1;32m   6877\u001b[0m start_slice \u001b[38;5;241m=\u001b[39m \u001b[38;5;28;01mNone\u001b[39;00m\n\u001b[1;32m   6878\u001b[0m \u001b[38;5;28;01mif\u001b[39;00m start \u001b[38;5;129;01mis\u001b[39;00m \u001b[38;5;129;01mnot\u001b[39;00m \u001b[38;5;28;01mNone\u001b[39;00m:\n\u001b[0;32m-> 6879\u001b[0m     start_slice \u001b[38;5;241m=\u001b[39m \u001b[38;5;28;43mself\u001b[39;49m\u001b[38;5;241;43m.\u001b[39;49m\u001b[43mget_slice_bound\u001b[49m\u001b[43m(\u001b[49m\u001b[43mstart\u001b[49m\u001b[43m,\u001b[49m\u001b[43m \u001b[49m\u001b[38;5;124;43m\"\u001b[39;49m\u001b[38;5;124;43mleft\u001b[39;49m\u001b[38;5;124;43m\"\u001b[39;49m\u001b[43m)\u001b[49m\n\u001b[1;32m   6880\u001b[0m \u001b[38;5;28;01mif\u001b[39;00m start_slice \u001b[38;5;129;01mis\u001b[39;00m \u001b[38;5;28;01mNone\u001b[39;00m:\n\u001b[1;32m   6881\u001b[0m     start_slice \u001b[38;5;241m=\u001b[39m \u001b[38;5;241m0\u001b[39m\n",
      "File \u001b[0;32m~/.pyenv/versions/3.12.3/lib/python3.12/site-packages/pandas/core/indexes/base.py:6812\u001b[0m, in \u001b[0;36mIndex.get_slice_bound\u001b[0;34m(self, label, side)\u001b[0m\n\u001b[1;32m   6810\u001b[0m     slc \u001b[38;5;241m=\u001b[39m lib\u001b[38;5;241m.\u001b[39mmaybe_booleans_to_slice(slc\u001b[38;5;241m.\u001b[39mview(\u001b[38;5;124m\"\u001b[39m\u001b[38;5;124mu1\u001b[39m\u001b[38;5;124m\"\u001b[39m))\n\u001b[1;32m   6811\u001b[0m     \u001b[38;5;28;01mif\u001b[39;00m \u001b[38;5;28misinstance\u001b[39m(slc, np\u001b[38;5;241m.\u001b[39mndarray):\n\u001b[0;32m-> 6812\u001b[0m         \u001b[38;5;28;01mraise\u001b[39;00m \u001b[38;5;167;01mKeyError\u001b[39;00m(\n\u001b[1;32m   6813\u001b[0m             \u001b[38;5;124mf\u001b[39m\u001b[38;5;124m\"\u001b[39m\u001b[38;5;124mCannot get \u001b[39m\u001b[38;5;132;01m{\u001b[39;00mside\u001b[38;5;132;01m}\u001b[39;00m\u001b[38;5;124m slice bound for non-unique \u001b[39m\u001b[38;5;124m\"\u001b[39m\n\u001b[1;32m   6814\u001b[0m             \u001b[38;5;124mf\u001b[39m\u001b[38;5;124m\"\u001b[39m\u001b[38;5;124mlabel: \u001b[39m\u001b[38;5;132;01m{\u001b[39;00m\u001b[38;5;28mrepr\u001b[39m(original_label)\u001b[38;5;132;01m}\u001b[39;00m\u001b[38;5;124m\"\u001b[39m\n\u001b[1;32m   6815\u001b[0m         )\n\u001b[1;32m   6817\u001b[0m \u001b[38;5;28;01mif\u001b[39;00m \u001b[38;5;28misinstance\u001b[39m(slc, \u001b[38;5;28mslice\u001b[39m):\n\u001b[1;32m   6818\u001b[0m     \u001b[38;5;28;01mif\u001b[39;00m side \u001b[38;5;241m==\u001b[39m \u001b[38;5;124m\"\u001b[39m\u001b[38;5;124mleft\u001b[39m\u001b[38;5;124m\"\u001b[39m:\n",
      "\u001b[0;31mKeyError\u001b[0m: \"Cannot get left slice bound for non-unique label: 'a'\""
     ]
    }
   ],
   "source": [
    "s.loc['a':'c']"
   ]
  },
  {
   "cell_type": "code",
   "execution_count": 17,
   "id": "b315cf45-97e4-49cd-809a-a77ce3024e14",
   "metadata": {},
   "outputs": [
    {
     "ename": "KeyError",
     "evalue": "\"Cannot get right slice bound for non-unique label: 'b'\"",
     "output_type": "error",
     "traceback": [
      "\u001b[0;31m---------------------------------------------------------------------------\u001b[0m",
      "\u001b[0;31mKeyError\u001b[0m                                  Traceback (most recent call last)",
      "Cell \u001b[0;32mIn[17], line 5\u001b[0m\n\u001b[1;32m      1\u001b[0m \u001b[38;5;66;03m# in other words: Because 'a' is in the index more than once, Pandas doesn't know\u001b[39;00m\n\u001b[1;32m      2\u001b[0m \u001b[38;5;66;03m# which 'a' to start with in our slice!\u001b[39;00m\n\u001b[1;32m      3\u001b[0m \n\u001b[1;32m      4\u001b[0m \u001b[38;5;66;03m# what if I try something else? Can I start with 'c' and go to 'b'?\u001b[39;00m\n\u001b[0;32m----> 5\u001b[0m \u001b[43ms\u001b[49m\u001b[38;5;241;43m.\u001b[39;49m\u001b[43mloc\u001b[49m\u001b[43m[\u001b[49m\u001b[38;5;124;43m'\u001b[39;49m\u001b[38;5;124;43mc\u001b[39;49m\u001b[38;5;124;43m'\u001b[39;49m\u001b[43m:\u001b[49m\u001b[38;5;124;43m'\u001b[39;49m\u001b[38;5;124;43mb\u001b[39;49m\u001b[38;5;124;43m'\u001b[39;49m\u001b[43m]\u001b[49m\n",
      "File \u001b[0;32m~/.pyenv/versions/3.12.3/lib/python3.12/site-packages/pandas/core/indexing.py:1191\u001b[0m, in \u001b[0;36m_LocationIndexer.__getitem__\u001b[0;34m(self, key)\u001b[0m\n\u001b[1;32m   1189\u001b[0m maybe_callable \u001b[38;5;241m=\u001b[39m com\u001b[38;5;241m.\u001b[39mapply_if_callable(key, \u001b[38;5;28mself\u001b[39m\u001b[38;5;241m.\u001b[39mobj)\n\u001b[1;32m   1190\u001b[0m maybe_callable \u001b[38;5;241m=\u001b[39m \u001b[38;5;28mself\u001b[39m\u001b[38;5;241m.\u001b[39m_check_deprecated_callable_usage(key, maybe_callable)\n\u001b[0;32m-> 1191\u001b[0m \u001b[38;5;28;01mreturn\u001b[39;00m \u001b[38;5;28;43mself\u001b[39;49m\u001b[38;5;241;43m.\u001b[39;49m\u001b[43m_getitem_axis\u001b[49m\u001b[43m(\u001b[49m\u001b[43mmaybe_callable\u001b[49m\u001b[43m,\u001b[49m\u001b[43m \u001b[49m\u001b[43maxis\u001b[49m\u001b[38;5;241;43m=\u001b[39;49m\u001b[43maxis\u001b[49m\u001b[43m)\u001b[49m\n",
      "File \u001b[0;32m~/.pyenv/versions/3.12.3/lib/python3.12/site-packages/pandas/core/indexing.py:1411\u001b[0m, in \u001b[0;36m_LocIndexer._getitem_axis\u001b[0;34m(self, key, axis)\u001b[0m\n\u001b[1;32m   1409\u001b[0m \u001b[38;5;28;01mif\u001b[39;00m \u001b[38;5;28misinstance\u001b[39m(key, \u001b[38;5;28mslice\u001b[39m):\n\u001b[1;32m   1410\u001b[0m     \u001b[38;5;28mself\u001b[39m\u001b[38;5;241m.\u001b[39m_validate_key(key, axis)\n\u001b[0;32m-> 1411\u001b[0m     \u001b[38;5;28;01mreturn\u001b[39;00m \u001b[38;5;28;43mself\u001b[39;49m\u001b[38;5;241;43m.\u001b[39;49m\u001b[43m_get_slice_axis\u001b[49m\u001b[43m(\u001b[49m\u001b[43mkey\u001b[49m\u001b[43m,\u001b[49m\u001b[43m \u001b[49m\u001b[43maxis\u001b[49m\u001b[38;5;241;43m=\u001b[39;49m\u001b[43maxis\u001b[49m\u001b[43m)\u001b[49m\n\u001b[1;32m   1412\u001b[0m \u001b[38;5;28;01melif\u001b[39;00m com\u001b[38;5;241m.\u001b[39mis_bool_indexer(key):\n\u001b[1;32m   1413\u001b[0m     \u001b[38;5;28;01mreturn\u001b[39;00m \u001b[38;5;28mself\u001b[39m\u001b[38;5;241m.\u001b[39m_getbool_axis(key, axis\u001b[38;5;241m=\u001b[39maxis)\n",
      "File \u001b[0;32m~/.pyenv/versions/3.12.3/lib/python3.12/site-packages/pandas/core/indexing.py:1443\u001b[0m, in \u001b[0;36m_LocIndexer._get_slice_axis\u001b[0;34m(self, slice_obj, axis)\u001b[0m\n\u001b[1;32m   1440\u001b[0m     \u001b[38;5;28;01mreturn\u001b[39;00m obj\u001b[38;5;241m.\u001b[39mcopy(deep\u001b[38;5;241m=\u001b[39m\u001b[38;5;28;01mFalse\u001b[39;00m)\n\u001b[1;32m   1442\u001b[0m labels \u001b[38;5;241m=\u001b[39m obj\u001b[38;5;241m.\u001b[39m_get_axis(axis)\n\u001b[0;32m-> 1443\u001b[0m indexer \u001b[38;5;241m=\u001b[39m \u001b[43mlabels\u001b[49m\u001b[38;5;241;43m.\u001b[39;49m\u001b[43mslice_indexer\u001b[49m\u001b[43m(\u001b[49m\u001b[43mslice_obj\u001b[49m\u001b[38;5;241;43m.\u001b[39;49m\u001b[43mstart\u001b[49m\u001b[43m,\u001b[49m\u001b[43m \u001b[49m\u001b[43mslice_obj\u001b[49m\u001b[38;5;241;43m.\u001b[39;49m\u001b[43mstop\u001b[49m\u001b[43m,\u001b[49m\u001b[43m \u001b[49m\u001b[43mslice_obj\u001b[49m\u001b[38;5;241;43m.\u001b[39;49m\u001b[43mstep\u001b[49m\u001b[43m)\u001b[49m\n\u001b[1;32m   1445\u001b[0m \u001b[38;5;28;01mif\u001b[39;00m \u001b[38;5;28misinstance\u001b[39m(indexer, \u001b[38;5;28mslice\u001b[39m):\n\u001b[1;32m   1446\u001b[0m     \u001b[38;5;28;01mreturn\u001b[39;00m \u001b[38;5;28mself\u001b[39m\u001b[38;5;241m.\u001b[39mobj\u001b[38;5;241m.\u001b[39m_slice(indexer, axis\u001b[38;5;241m=\u001b[39maxis)\n",
      "File \u001b[0;32m~/.pyenv/versions/3.12.3/lib/python3.12/site-packages/pandas/core/indexes/base.py:6662\u001b[0m, in \u001b[0;36mIndex.slice_indexer\u001b[0;34m(self, start, end, step)\u001b[0m\n\u001b[1;32m   6618\u001b[0m \u001b[38;5;28;01mdef\u001b[39;00m \u001b[38;5;21mslice_indexer\u001b[39m(\n\u001b[1;32m   6619\u001b[0m     \u001b[38;5;28mself\u001b[39m,\n\u001b[1;32m   6620\u001b[0m     start: Hashable \u001b[38;5;241m|\u001b[39m \u001b[38;5;28;01mNone\u001b[39;00m \u001b[38;5;241m=\u001b[39m \u001b[38;5;28;01mNone\u001b[39;00m,\n\u001b[1;32m   6621\u001b[0m     end: Hashable \u001b[38;5;241m|\u001b[39m \u001b[38;5;28;01mNone\u001b[39;00m \u001b[38;5;241m=\u001b[39m \u001b[38;5;28;01mNone\u001b[39;00m,\n\u001b[1;32m   6622\u001b[0m     step: \u001b[38;5;28mint\u001b[39m \u001b[38;5;241m|\u001b[39m \u001b[38;5;28;01mNone\u001b[39;00m \u001b[38;5;241m=\u001b[39m \u001b[38;5;28;01mNone\u001b[39;00m,\n\u001b[1;32m   6623\u001b[0m ) \u001b[38;5;241m-\u001b[39m\u001b[38;5;241m>\u001b[39m \u001b[38;5;28mslice\u001b[39m:\n\u001b[1;32m   6624\u001b[0m \u001b[38;5;250m    \u001b[39m\u001b[38;5;124;03m\"\"\"\u001b[39;00m\n\u001b[1;32m   6625\u001b[0m \u001b[38;5;124;03m    Compute the slice indexer for input labels and step.\u001b[39;00m\n\u001b[1;32m   6626\u001b[0m \n\u001b[0;32m   (...)\u001b[0m\n\u001b[1;32m   6660\u001b[0m \u001b[38;5;124;03m    slice(1, 3, None)\u001b[39;00m\n\u001b[1;32m   6661\u001b[0m \u001b[38;5;124;03m    \"\"\"\u001b[39;00m\n\u001b[0;32m-> 6662\u001b[0m     start_slice, end_slice \u001b[38;5;241m=\u001b[39m \u001b[38;5;28;43mself\u001b[39;49m\u001b[38;5;241;43m.\u001b[39;49m\u001b[43mslice_locs\u001b[49m\u001b[43m(\u001b[49m\u001b[43mstart\u001b[49m\u001b[43m,\u001b[49m\u001b[43m \u001b[49m\u001b[43mend\u001b[49m\u001b[43m,\u001b[49m\u001b[43m \u001b[49m\u001b[43mstep\u001b[49m\u001b[38;5;241;43m=\u001b[39;49m\u001b[43mstep\u001b[49m\u001b[43m)\u001b[49m\n\u001b[1;32m   6664\u001b[0m     \u001b[38;5;66;03m# return a slice\u001b[39;00m\n\u001b[1;32m   6665\u001b[0m     \u001b[38;5;28;01mif\u001b[39;00m \u001b[38;5;129;01mnot\u001b[39;00m is_scalar(start_slice):\n",
      "File \u001b[0;32m~/.pyenv/versions/3.12.3/lib/python3.12/site-packages/pandas/core/indexes/base.py:6885\u001b[0m, in \u001b[0;36mIndex.slice_locs\u001b[0;34m(self, start, end, step)\u001b[0m\n\u001b[1;32m   6883\u001b[0m end_slice \u001b[38;5;241m=\u001b[39m \u001b[38;5;28;01mNone\u001b[39;00m\n\u001b[1;32m   6884\u001b[0m \u001b[38;5;28;01mif\u001b[39;00m end \u001b[38;5;129;01mis\u001b[39;00m \u001b[38;5;129;01mnot\u001b[39;00m \u001b[38;5;28;01mNone\u001b[39;00m:\n\u001b[0;32m-> 6885\u001b[0m     end_slice \u001b[38;5;241m=\u001b[39m \u001b[38;5;28;43mself\u001b[39;49m\u001b[38;5;241;43m.\u001b[39;49m\u001b[43mget_slice_bound\u001b[49m\u001b[43m(\u001b[49m\u001b[43mend\u001b[49m\u001b[43m,\u001b[49m\u001b[43m \u001b[49m\u001b[38;5;124;43m\"\u001b[39;49m\u001b[38;5;124;43mright\u001b[39;49m\u001b[38;5;124;43m\"\u001b[39;49m\u001b[43m)\u001b[49m\n\u001b[1;32m   6886\u001b[0m \u001b[38;5;28;01mif\u001b[39;00m end_slice \u001b[38;5;129;01mis\u001b[39;00m \u001b[38;5;28;01mNone\u001b[39;00m:\n\u001b[1;32m   6887\u001b[0m     end_slice \u001b[38;5;241m=\u001b[39m \u001b[38;5;28mlen\u001b[39m(\u001b[38;5;28mself\u001b[39m)\n",
      "File \u001b[0;32m~/.pyenv/versions/3.12.3/lib/python3.12/site-packages/pandas/core/indexes/base.py:6812\u001b[0m, in \u001b[0;36mIndex.get_slice_bound\u001b[0;34m(self, label, side)\u001b[0m\n\u001b[1;32m   6810\u001b[0m     slc \u001b[38;5;241m=\u001b[39m lib\u001b[38;5;241m.\u001b[39mmaybe_booleans_to_slice(slc\u001b[38;5;241m.\u001b[39mview(\u001b[38;5;124m\"\u001b[39m\u001b[38;5;124mu1\u001b[39m\u001b[38;5;124m\"\u001b[39m))\n\u001b[1;32m   6811\u001b[0m     \u001b[38;5;28;01mif\u001b[39;00m \u001b[38;5;28misinstance\u001b[39m(slc, np\u001b[38;5;241m.\u001b[39mndarray):\n\u001b[0;32m-> 6812\u001b[0m         \u001b[38;5;28;01mraise\u001b[39;00m \u001b[38;5;167;01mKeyError\u001b[39;00m(\n\u001b[1;32m   6813\u001b[0m             \u001b[38;5;124mf\u001b[39m\u001b[38;5;124m\"\u001b[39m\u001b[38;5;124mCannot get \u001b[39m\u001b[38;5;132;01m{\u001b[39;00mside\u001b[38;5;132;01m}\u001b[39;00m\u001b[38;5;124m slice bound for non-unique \u001b[39m\u001b[38;5;124m\"\u001b[39m\n\u001b[1;32m   6814\u001b[0m             \u001b[38;5;124mf\u001b[39m\u001b[38;5;124m\"\u001b[39m\u001b[38;5;124mlabel: \u001b[39m\u001b[38;5;132;01m{\u001b[39;00m\u001b[38;5;28mrepr\u001b[39m(original_label)\u001b[38;5;132;01m}\u001b[39;00m\u001b[38;5;124m\"\u001b[39m\n\u001b[1;32m   6815\u001b[0m         )\n\u001b[1;32m   6817\u001b[0m \u001b[38;5;28;01mif\u001b[39;00m \u001b[38;5;28misinstance\u001b[39m(slc, \u001b[38;5;28mslice\u001b[39m):\n\u001b[1;32m   6818\u001b[0m     \u001b[38;5;28;01mif\u001b[39;00m side \u001b[38;5;241m==\u001b[39m \u001b[38;5;124m\"\u001b[39m\u001b[38;5;124mleft\u001b[39m\u001b[38;5;124m\"\u001b[39m:\n",
      "\u001b[0;31mKeyError\u001b[0m: \"Cannot get right slice bound for non-unique label: 'b'\""
     ]
    }
   ],
   "source": [
    "# in other words: Because 'a' is in the index more than once, Pandas doesn't know\n",
    "# which 'a' to start with in our slice!\n",
    "\n",
    "# what if I try something else? Can I start with 'c' and go to 'b'?\n",
    "s.loc['c':'b']"
   ]
  },
  {
   "cell_type": "code",
   "execution_count": 18,
   "id": "d9cefb5a-2f94-49a5-862d-8a12ab98ec41",
   "metadata": {},
   "outputs": [
    {
     "data": {
      "text/plain": [
       "a    -6\n",
       "c    -3\n",
       "e    14\n",
       "a    17\n",
       "i    17\n",
       "h   -41\n",
       "b    33\n",
       "j   -29\n",
       "d   -14\n",
       "b    37\n",
       "dtype: int64"
      ]
     },
     "execution_count": 18,
     "metadata": {},
     "output_type": "execute_result"
    }
   ],
   "source": [
    "s"
   ]
  },
  {
   "cell_type": "code",
   "execution_count": 19,
   "id": "4604ecc2-c84c-40d6-84a5-bc90d95d15a9",
   "metadata": {},
   "outputs": [
    {
     "data": {
      "text/plain": [
       "a    -6\n",
       "a    17\n",
       "b    33\n",
       "b    37\n",
       "c    -3\n",
       "dtype: int64"
      ]
     },
     "execution_count": 19,
     "metadata": {},
     "output_type": "execute_result"
    }
   ],
   "source": [
    "# we can solve this by sorting our index\n",
    "\n",
    "(\n",
    "    s\n",
    "    .sort_index()\n",
    "    ['a':'c']\n",
    ")"
   ]
  },
  {
   "cell_type": "markdown",
   "id": "a7d392a6-218a-43e9-a3ea-de06eca6978a",
   "metadata": {},
   "source": [
    "Because now all of the `a` and `b` values are together, there isn't an issue of where to start or stop, and Pandas is happy to give us our slice back."
   ]
  },
  {
   "cell_type": "markdown",
   "id": "29507e68-658e-4528-b502-057adfa2c100",
   "metadata": {},
   "source": [
    "# Sorting by values\n",
    "\n",
    "In order to sort by value, we can use the `sort_values` method. This works very similarly, in that we can (but shouldn't) pass `inplace=True`, and it gives us back a new series, with the same index + values as before, but now in a new order."
   ]
  },
  {
   "cell_type": "code",
   "execution_count": 22,
   "id": "559b100a-e898-4732-a442-9c1024ca70ee",
   "metadata": {},
   "outputs": [
    {
     "data": {
      "text/plain": [
       "h   -41\n",
       "j   -29\n",
       "d   -14\n",
       "a    -6\n",
       "c    -3\n",
       "e    14\n",
       "a    17\n",
       "i    17\n",
       "b    33\n",
       "b    37\n",
       "dtype: int64"
      ]
     },
     "execution_count": 22,
     "metadata": {},
     "output_type": "execute_result"
    }
   ],
   "source": [
    "# in Python, the term \"comparable\" means that we have values that support not only ==, but also <\n",
    "\n",
    "s.sort_values()"
   ]
  },
  {
   "cell_type": "code",
   "execution_count": 23,
   "id": "aa26c503-653e-4ecf-89a9-1da2ec73ade4",
   "metadata": {},
   "outputs": [
    {
     "ename": "TypeError",
     "evalue": "'<' not supported between instances of 'str' and 'int'",
     "output_type": "error",
     "traceback": [
      "\u001b[0;31m---------------------------------------------------------------------------\u001b[0m",
      "\u001b[0;31mTypeError\u001b[0m                                 Traceback (most recent call last)",
      "Cell \u001b[0;32mIn[23], line 4\u001b[0m\n\u001b[1;32m      1\u001b[0m \u001b[38;5;66;03m# what happens if we have a mix of different types?\u001b[39;00m\n\u001b[1;32m      3\u001b[0m s \u001b[38;5;241m=\u001b[39m Series([\u001b[38;5;241m10\u001b[39m, \u001b[38;5;241m5\u001b[39m, \u001b[38;5;241m15\u001b[39m, \u001b[38;5;124m'\u001b[39m\u001b[38;5;124mb\u001b[39m\u001b[38;5;124m'\u001b[39m, \u001b[38;5;124m'\u001b[39m\u001b[38;5;124mc\u001b[39m\u001b[38;5;124m'\u001b[39m, \u001b[38;5;124m'\u001b[39m\u001b[38;5;124ma\u001b[39m\u001b[38;5;124m'\u001b[39m])\n\u001b[0;32m----> 4\u001b[0m \u001b[43ms\u001b[49m\u001b[38;5;241;43m.\u001b[39;49m\u001b[43msort_values\u001b[49m\u001b[43m(\u001b[49m\u001b[43m)\u001b[49m\n",
      "File \u001b[0;32m~/.pyenv/versions/3.12.3/lib/python3.12/site-packages/pandas/core/series.py:3869\u001b[0m, in \u001b[0;36mSeries.sort_values\u001b[0;34m(self, axis, ascending, inplace, kind, na_position, ignore_index, key)\u001b[0m\n\u001b[1;32m   3867\u001b[0m \u001b[38;5;28;01melse\u001b[39;00m:\n\u001b[1;32m   3868\u001b[0m     values_to_sort \u001b[38;5;241m=\u001b[39m \u001b[38;5;28mself\u001b[39m\u001b[38;5;241m.\u001b[39m_values\n\u001b[0;32m-> 3869\u001b[0m sorted_index \u001b[38;5;241m=\u001b[39m \u001b[43mnargsort\u001b[49m\u001b[43m(\u001b[49m\u001b[43mvalues_to_sort\u001b[49m\u001b[43m,\u001b[49m\u001b[43m \u001b[49m\u001b[43mkind\u001b[49m\u001b[43m,\u001b[49m\u001b[43m \u001b[49m\u001b[38;5;28;43mbool\u001b[39;49m\u001b[43m(\u001b[49m\u001b[43mascending\u001b[49m\u001b[43m)\u001b[49m\u001b[43m,\u001b[49m\u001b[43m \u001b[49m\u001b[43mna_position\u001b[49m\u001b[43m)\u001b[49m\n\u001b[1;32m   3871\u001b[0m \u001b[38;5;28;01mif\u001b[39;00m is_range_indexer(sorted_index, \u001b[38;5;28mlen\u001b[39m(sorted_index)):\n\u001b[1;32m   3872\u001b[0m     \u001b[38;5;28;01mif\u001b[39;00m inplace:\n",
      "File \u001b[0;32m~/.pyenv/versions/3.12.3/lib/python3.12/site-packages/pandas/core/sorting.py:439\u001b[0m, in \u001b[0;36mnargsort\u001b[0;34m(items, kind, ascending, na_position, key, mask)\u001b[0m\n\u001b[1;32m    437\u001b[0m     non_nans \u001b[38;5;241m=\u001b[39m non_nans[::\u001b[38;5;241m-\u001b[39m\u001b[38;5;241m1\u001b[39m]\n\u001b[1;32m    438\u001b[0m     non_nan_idx \u001b[38;5;241m=\u001b[39m non_nan_idx[::\u001b[38;5;241m-\u001b[39m\u001b[38;5;241m1\u001b[39m]\n\u001b[0;32m--> 439\u001b[0m indexer \u001b[38;5;241m=\u001b[39m non_nan_idx[\u001b[43mnon_nans\u001b[49m\u001b[38;5;241;43m.\u001b[39;49m\u001b[43margsort\u001b[49m\u001b[43m(\u001b[49m\u001b[43mkind\u001b[49m\u001b[38;5;241;43m=\u001b[39;49m\u001b[43mkind\u001b[49m\u001b[43m)\u001b[49m]\n\u001b[1;32m    440\u001b[0m \u001b[38;5;28;01mif\u001b[39;00m \u001b[38;5;129;01mnot\u001b[39;00m ascending:\n\u001b[1;32m    441\u001b[0m     indexer \u001b[38;5;241m=\u001b[39m indexer[::\u001b[38;5;241m-\u001b[39m\u001b[38;5;241m1\u001b[39m]\n",
      "\u001b[0;31mTypeError\u001b[0m: '<' not supported between instances of 'str' and 'int'"
     ]
    }
   ],
   "source": [
    "# what happens if we have a mix of different types?\n",
    "\n",
    "s = Series([10, 5, 15, 'b', 'c', 'a'])\n",
    "s.sort_values()"
   ]
  },
  {
   "cell_type": "code",
   "execution_count": 24,
   "id": "0b6098c6-8909-4a59-844d-cde99a646a44",
   "metadata": {},
   "outputs": [
    {
     "name": "stdout",
     "output_type": "stream",
     "text": [
      "Help on method sort_values in module pandas.core.series:\n",
      "\n",
      "sort_values(*, axis: 'Axis' = 0, ascending: 'bool | Sequence[bool]' = True, inplace: 'bool' = False, kind: 'SortKind' = 'quicksort', na_position: 'NaPosition' = 'last', ignore_index: 'bool' = False, key: 'ValueKeyFunc | None' = None) -> 'Series | None' method of pandas.core.series.Series instance\n",
      "    Sort by the values.\n",
      "\n",
      "    Sort a Series in ascending or descending order by some\n",
      "    criterion.\n",
      "\n",
      "    Parameters\n",
      "    ----------\n",
      "    axis : {0 or 'index'}\n",
      "        Unused. Parameter needed for compatibility with DataFrame.\n",
      "    ascending : bool or list of bools, default True\n",
      "        If True, sort values in ascending order, otherwise descending.\n",
      "    inplace : bool, default False\n",
      "        If True, perform operation in-place.\n",
      "    kind : {'quicksort', 'mergesort', 'heapsort', 'stable'}, default 'quicksort'\n",
      "        Choice of sorting algorithm. See also :func:`numpy.sort` for more\n",
      "        information. 'mergesort' and 'stable' are the only stable  algorithms.\n",
      "    na_position : {'first' or 'last'}, default 'last'\n",
      "        Argument 'first' puts NaNs at the beginning, 'last' puts NaNs at\n",
      "        the end.\n",
      "    ignore_index : bool, default False\n",
      "        If True, the resulting axis will be labeled 0, 1, …, n - 1.\n",
      "    key : callable, optional\n",
      "        If not None, apply the key function to the series values\n",
      "        before sorting. This is similar to the `key` argument in the\n",
      "        builtin :meth:`sorted` function, with the notable difference that\n",
      "        this `key` function should be *vectorized*. It should expect a\n",
      "        ``Series`` and return an array-like.\n",
      "\n",
      "    Returns\n",
      "    -------\n",
      "    Series or None\n",
      "        Series ordered by values or None if ``inplace=True``.\n",
      "\n",
      "    See Also\n",
      "    --------\n",
      "    Series.sort_index : Sort by the Series indices.\n",
      "    DataFrame.sort_values : Sort DataFrame by the values along either axis.\n",
      "    DataFrame.sort_index : Sort DataFrame by indices.\n",
      "\n",
      "    Examples\n",
      "    --------\n",
      "    >>> s = pd.Series([np.nan, 1, 3, 10, 5])\n",
      "    >>> s\n",
      "    0     NaN\n",
      "    1     1.0\n",
      "    2     3.0\n",
      "    3     10.0\n",
      "    4     5.0\n",
      "    dtype: float64\n",
      "\n",
      "    Sort values ascending order (default behaviour)\n",
      "\n",
      "    >>> s.sort_values(ascending=True)\n",
      "    1     1.0\n",
      "    2     3.0\n",
      "    4     5.0\n",
      "    3    10.0\n",
      "    0     NaN\n",
      "    dtype: float64\n",
      "\n",
      "    Sort values descending order\n",
      "\n",
      "    >>> s.sort_values(ascending=False)\n",
      "    3    10.0\n",
      "    4     5.0\n",
      "    2     3.0\n",
      "    1     1.0\n",
      "    0     NaN\n",
      "    dtype: float64\n",
      "\n",
      "    Sort values putting NAs first\n",
      "\n",
      "    >>> s.sort_values(na_position='first')\n",
      "    0     NaN\n",
      "    1     1.0\n",
      "    2     3.0\n",
      "    4     5.0\n",
      "    3    10.0\n",
      "    dtype: float64\n",
      "\n",
      "    Sort a series of strings\n",
      "\n",
      "    >>> s = pd.Series(['z', 'b', 'd', 'a', 'c'])\n",
      "    >>> s\n",
      "    0    z\n",
      "    1    b\n",
      "    2    d\n",
      "    3    a\n",
      "    4    c\n",
      "    dtype: object\n",
      "\n",
      "    >>> s.sort_values()\n",
      "    3    a\n",
      "    1    b\n",
      "    4    c\n",
      "    2    d\n",
      "    0    z\n",
      "    dtype: object\n",
      "\n",
      "    Sort using a key function. Your `key` function will be\n",
      "    given the ``Series`` of values and should return an array-like.\n",
      "\n",
      "    >>> s = pd.Series(['a', 'B', 'c', 'D', 'e'])\n",
      "    >>> s.sort_values()\n",
      "    1    B\n",
      "    3    D\n",
      "    0    a\n",
      "    2    c\n",
      "    4    e\n",
      "    dtype: object\n",
      "    >>> s.sort_values(key=lambda x: x.str.lower())\n",
      "    0    a\n",
      "    1    B\n",
      "    2    c\n",
      "    3    D\n",
      "    4    e\n",
      "    dtype: object\n",
      "\n",
      "    NumPy ufuncs work well here. For example, we can\n",
      "    sort by the ``sin`` of the value\n",
      "\n",
      "    >>> s = pd.Series([-4, -2, 0, 2, 4])\n",
      "    >>> s.sort_values(key=np.sin)\n",
      "    1   -2\n",
      "    4    4\n",
      "    2    0\n",
      "    0   -4\n",
      "    3    2\n",
      "    dtype: int64\n",
      "\n",
      "    More complicated user-defined functions can be used,\n",
      "    as long as they expect a Series and return an array-like\n",
      "\n",
      "    >>> s.sort_values(key=lambda x: (np.tan(x.cumsum())))\n",
      "    0   -4\n",
      "    3    2\n",
      "    4    4\n",
      "    1   -2\n",
      "    2    0\n",
      "    dtype: int64\n",
      "\n"
     ]
    }
   ],
   "source": [
    "help(s.sort_values)"
   ]
  },
  {
   "cell_type": "code",
   "execution_count": null,
   "id": "5dfea97a-9712-4c36-a244-d08d14d756e4",
   "metadata": {},
   "outputs": [],
   "source": []
  },
  {
   "cell_type": "code",
   "execution_count": null,
   "id": "1c527c9b-0a0e-40b5-bddd-39fe4d849a0b",
   "metadata": {},
   "outputs": [],
   "source": []
  },
  {
   "cell_type": "markdown",
   "id": "5caff06d-d3d9-45bb-96c7-3e2b7b108579",
   "metadata": {},
   "source": [
    "# Exercise: Series sorting\n",
    "\n",
    "1. Create a series based on members of your family (or friends). The index should be strings (their names), and the values will be their ages (integers).\n",
    "2. Sort by the names. What is the mean age of the first 3 people, alphabetically?\n",
    "3. Sort by the ages. What are the names of the eldest and youngest people in your series?"
   ]
  },
  {
   "cell_type": "code",
   "execution_count": 25,
   "id": "246e515d-c7de-4a94-8ca4-18a4398a5566",
   "metadata": {},
   "outputs": [
    {
     "data": {
      "text/plain": [
       "Reuven    53\n",
       "Atara     23\n",
       "Shikma    21\n",
       "Amotz     18\n",
       "dtype: int64"
      ]
     },
     "execution_count": 25,
     "metadata": {},
     "output_type": "execute_result"
    }
   ],
   "source": [
    "s = Series([53, 23, 21, 18],\n",
    "           index='Reuven Atara Shikma Amotz'.split())\n",
    "s"
   ]
  },
  {
   "cell_type": "code",
   "execution_count": 28,
   "id": "b099c7df-4507-4ddd-bf7b-1af28fc6cc15",
   "metadata": {},
   "outputs": [
    {
     "data": {
      "text/plain": [
       "31.333333333333332"
      ]
     },
     "execution_count": 28,
     "metadata": {},
     "output_type": "execute_result"
    }
   ],
   "source": [
    "(\n",
    "    s\n",
    "    .sort_index()\n",
    "    .head(3)\n",
    "    .mean()\n",
    ")"
   ]
  },
  {
   "cell_type": "code",
   "execution_count": 37,
   "id": "62d63b4e-0a94-4624-bbce-b0511810d93b",
   "metadata": {},
   "outputs": [
    {
     "data": {
      "text/plain": [
       "Index(['Amotz', 'Reuven'], dtype='object')"
      ]
     },
     "execution_count": 37,
     "metadata": {},
     "output_type": "execute_result"
    }
   ],
   "source": [
    "(\n",
    "    s\n",
    "    .sort_values()\n",
    "    .iloc[[0, -1]]   # give me the first and last elements\n",
    "    .index\n",
    ")"
   ]
  },
  {
   "cell_type": "code",
   "execution_count": 32,
   "id": "59585fad-7f14-47b3-991f-4d5579d6f458",
   "metadata": {},
   "outputs": [
    {
     "data": {
      "text/plain": [
       "'Amotz'"
      ]
     },
     "execution_count": 32,
     "metadata": {},
     "output_type": "execute_result"
    }
   ],
   "source": [
    "(\n",
    "    s\n",
    "    .idxmin()\n",
    ")"
   ]
  },
  {
   "cell_type": "code",
   "execution_count": 33,
   "id": "cd0fc45c-7486-4d1b-8696-41a19249b365",
   "metadata": {},
   "outputs": [
    {
     "data": {
      "text/plain": [
       "'Reuven'"
      ]
     },
     "execution_count": 33,
     "metadata": {},
     "output_type": "execute_result"
    }
   ],
   "source": [
    "(\n",
    "    s\n",
    "    .idxmax()\n",
    ")"
   ]
  },
  {
   "cell_type": "code",
   "execution_count": 34,
   "id": "fc0982ae-f51e-4c82-b5be-9c23fcae60b0",
   "metadata": {},
   "outputs": [
    {
     "data": {
      "text/plain": [
       "idxmin     Amotz\n",
       "idxmax    Reuven\n",
       "dtype: object"
      ]
     },
     "execution_count": 34,
     "metadata": {},
     "output_type": "execute_result"
    }
   ],
   "source": [
    "# what if we want both the min and the max at the same time?\n",
    "# we can use the .agg method, which takes a list of strings describing the methods we want to run\n",
    "\n",
    "(\n",
    "    s\n",
    "    .agg(['idxmin', 'idxmax'])\n",
    ")"
   ]
  },
  {
   "cell_type": "code",
   "execution_count": 38,
   "id": "6b4d1e7b-b550-49b7-957f-ad3059ff9459",
   "metadata": {},
   "outputs": [
    {
     "data": {
      "text/plain": [
       "Reuven    53\n",
       "Atara     23\n",
       "Shikma    21\n",
       "Amotz     18\n",
       "dtype: int64"
      ]
     },
     "execution_count": 38,
     "metadata": {},
     "output_type": "execute_result"
    }
   ],
   "source": [
    "# what if we want to sort in descending order?\n",
    "# so far, we've seen that both sort_index and sort_values sorts in ascending order\n",
    "\n",
    "s.sort_values(ascending=False)"
   ]
  },
  {
   "cell_type": "code",
   "execution_count": 39,
   "id": "daace76f-c304-4672-a65c-48c13b100dee",
   "metadata": {},
   "outputs": [
    {
     "data": {
      "text/plain": [
       "Shikma    21\n",
       "Reuven    53\n",
       "Atara     23\n",
       "Amotz     18\n",
       "dtype: int64"
      ]
     },
     "execution_count": 39,
     "metadata": {},
     "output_type": "execute_result"
    }
   ],
   "source": [
    "s.sort_index(ascending=False)"
   ]
  },
  {
   "cell_type": "markdown",
   "id": "9e382248-4546-45b2-bf0b-b37e3b5ff801",
   "metadata": {},
   "source": [
    "# How can we change the way that they are compared?\n",
    "\n"
   ]
  },
  {
   "cell_type": "code",
   "execution_count": 40,
   "id": "1be8d84f-eb61-480d-a17a-c01ad5b737db",
   "metadata": {},
   "outputs": [
    {
     "data": {
      "text/plain": [
       "a    -6\n",
       "b    -3\n",
       "c    14\n",
       "d    17\n",
       "e    17\n",
       "f   -41\n",
       "g    33\n",
       "h   -29\n",
       "i   -14\n",
       "j    37\n",
       "dtype: int64"
      ]
     },
     "execution_count": 40,
     "metadata": {},
     "output_type": "execute_result"
    }
   ],
   "source": [
    "np.random.seed(0)\n",
    "\n",
    "s = Series(np.random.randint(-50, 50, 10),\n",
    "           index=list('abcdefghij'))\n",
    "s"
   ]
  },
  {
   "cell_type": "code",
   "execution_count": 41,
   "id": "b8751eda-14b8-470c-a7e9-2e8f75379519",
   "metadata": {},
   "outputs": [
    {
     "data": {
      "text/plain": [
       "f   -41\n",
       "h   -29\n",
       "i   -14\n",
       "a    -6\n",
       "b    -3\n",
       "c    14\n",
       "d    17\n",
       "e    17\n",
       "g    33\n",
       "j    37\n",
       "dtype: int64"
      ]
     },
     "execution_count": 41,
     "metadata": {},
     "output_type": "execute_result"
    }
   ],
   "source": [
    "# how can I sort these numbers?\n",
    "s.sort_values()"
   ]
  },
  {
   "cell_type": "code",
   "execution_count": 42,
   "id": "4a9ab527-ce0b-4399-9d3b-a86a7e248385",
   "metadata": {},
   "outputs": [
    {
     "data": {
      "text/plain": [
       "b     3\n",
       "a     6\n",
       "c    14\n",
       "i    14\n",
       "d    17\n",
       "e    17\n",
       "h    29\n",
       "g    33\n",
       "j    37\n",
       "f    41\n",
       "dtype: int64"
      ]
     },
     "execution_count": 42,
     "metadata": {},
     "output_type": "execute_result"
    }
   ],
   "source": [
    "# how can we sort them by absolute value?\n",
    "# one option: invoke .abs on the series, get the absolute values, and then sort\n",
    "\n",
    "s.abs().sort_values()"
   ]
  },
  {
   "cell_type": "code",
   "execution_count": 49,
   "id": "a1c0f2bb-d74f-4a08-8a8a-1e527309027b",
   "metadata": {},
   "outputs": [
    {
     "data": {
      "text/plain": [
       "b    -3\n",
       "a    -6\n",
       "c    14\n",
       "i   -14\n",
       "d    17\n",
       "e    17\n",
       "h   -29\n",
       "g    33\n",
       "j    37\n",
       "f   -41\n",
       "dtype: int64"
      ]
     },
     "execution_count": 49,
     "metadata": {},
     "output_type": "execute_result"
    }
   ],
   "source": [
    "# what I really want is to sort them by absolute value *AND* keep the original values\n",
    "\n",
    "# we can pass a keyword argument of \"key\" to sort_index or sort_values\n",
    "# the value for the \"key\" argument is a function. \n",
    "# that function is invoked on each element, and the result of the function is then used for sorting purposes only\n",
    "# we don't see the function's output in the returned values.\n",
    "\n",
    "# the function that you pass to key *must* be able to work on a Pandas series,\n",
    "# returning a new series as a result\n",
    "\n",
    "# you can use:\n",
    "# - a NumPy/Pandas method that takes a series\n",
    "# - your own function/method that takes a series\n",
    "# - lambda, which lets you create an anonymous function that returns something\n",
    "\n",
    "s.sort_values(key=abs)"
   ]
  },
  {
   "cell_type": "code",
   "execution_count": 50,
   "id": "fdc4a071-dfd7-4344-8f81-c2bf1b2c420c",
   "metadata": {},
   "outputs": [
    {
     "data": {
      "text/plain": [
       "0    0\n",
       "1    5\n",
       "2    2\n",
       "3    8\n",
       "dtype: int64"
      ]
     },
     "execution_count": 50,
     "metadata": {},
     "output_type": "execute_result"
    }
   ],
   "source": [
    "# sort by the final digits\n",
    "\n",
    "def get_final_digit(a_series):   # takes a series\n",
    "    return (\n",
    "        a_series\n",
    "        .astype(str)\n",
    "        .str.get(-1)\n",
    "        .astype(int)  # turn into a string, get the final digit, then turn into an integer\n",
    "    )\n",
    "\n",
    "s = Series([10, 15, 22, 28])\n",
    "get_final_digit(s)  \n"
   ]
  },
  {
   "cell_type": "code",
   "execution_count": 51,
   "id": "747f8477-1c26-4b8c-b8cc-77353c69ac79",
   "metadata": {},
   "outputs": [
    {
     "data": {
      "text/plain": [
       "f   -41\n",
       "b    -3\n",
       "g    33\n",
       "c    14\n",
       "i   -14\n",
       "a    -6\n",
       "d    17\n",
       "e    17\n",
       "j    37\n",
       "h   -29\n",
       "dtype: int64"
      ]
     },
     "execution_count": 51,
     "metadata": {},
     "output_type": "execute_result"
    }
   ],
   "source": [
    "np.random.seed(0)\n",
    "\n",
    "s = Series(np.random.randint(-50, 50, 10),\n",
    "           index=list('abcdefghij'))\n",
    "\n",
    "s.sort_values(key=get_final_digit)   # I'm not invoking the function! sort_values will invoke it on our series, and use the result for sorting"
   ]
  },
  {
   "cell_type": "code",
   "execution_count": null,
   "id": "d0cf585b-f41e-4073-a911-7fad3a55c8b2",
   "metadata": {},
   "outputs": [],
   "source": []
  }
 ],
 "metadata": {
  "kernelspec": {
   "display_name": "Python 3 (ipykernel)",
   "language": "python",
   "name": "python3"
  },
  "language_info": {
   "codemirror_mode": {
    "name": "ipython",
    "version": 3
   },
   "file_extension": ".py",
   "mimetype": "text/x-python",
   "name": "python",
   "nbconvert_exporter": "python",
   "pygments_lexer": "ipython3",
   "version": "3.12.3"
  }
 },
 "nbformat": 4,
 "nbformat_minor": 5
}
