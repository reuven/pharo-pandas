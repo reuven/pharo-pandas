{
 "cells": [
  {
   "cell_type": "markdown",
   "id": "a678fa56-feb0-4672-986b-d26b1a435371",
   "metadata": {},
   "source": [
    "# Agenda: Dates and times\n",
    "\n",
    "1. Background theory\n",
    "2. How to turn a column into datetime info\n",
    "3. Calculations we can perform\n",
    "4. Datetime columns as our index (\"time series\")"
   ]
  },
  {
   "cell_type": "markdown",
   "id": "18f80e1b-3245-493e-ad6f-f25e21ae8b04",
   "metadata": {},
   "source": [
    "# Background\n",
    "\n",
    "When we use the word \"time\" in our everyday speech, we might mean one of two different things:\n",
    "\n",
    "1. One specific, unique point in time, specified with year/month/day and hour/minute/second. Of course, you can get even more precise than that. Examples: Time of birth. Time of death. When you graduated university. When a meeting starts. Each of these things is a unique point in time, and you can specify when precisely it happened. When we keep track of these on a computer, they're known as either a `datetime` value or a `timestamp`.\n",
    "2. A span of time, between two points. This isn't unique, and it doesn't have a specific year/month/day, but we do measure it with the same units. We can use this kind of value to measure a lifespan, or the time spent in school, or the time that people were married, or the time you were in a meeting. The data type used for this is known as a `timedelta` or an `interval`.\n",
    "\n",
    "Date math:\n",
    "- `timestamp` - `timestamp` = `timedelta`\n",
    "- `timestamp` + `timedelta` = `timestamp`\n",
    "- `timestamp` - `timedelta` = `timestamp`"
   ]
  },
  {
   "cell_type": "code",
   "execution_count": 13,
   "id": "43723cdb-599b-41b6-9e96-d3fa3d03277f",
   "metadata": {},
   "outputs": [],
   "source": [
    "import pandas as pd\n",
    "filename = '../data/taxi.csv'\n",
    "\n",
    "df = pd.read_csv(filename,\n",
    "                 usecols=['tpep_pickup_datetime',\n",
    "                          'tpep_dropoff_datetime',\n",
    "                          'passenger_count',\n",
    "                          'trip_distance',\n",
    "                          'total_amount'])\n",
    "                          "
   ]
  },
  {
   "cell_type": "code",
   "execution_count": 14,
   "id": "a96a1e5a-15b6-4111-ab17-5c7fa99d8d0d",
   "metadata": {},
   "outputs": [
    {
     "data": {
      "text/html": [
       "<div>\n",
       "<style scoped>\n",
       "    .dataframe tbody tr th:only-of-type {\n",
       "        vertical-align: middle;\n",
       "    }\n",
       "\n",
       "    .dataframe tbody tr th {\n",
       "        vertical-align: top;\n",
       "    }\n",
       "\n",
       "    .dataframe thead th {\n",
       "        text-align: right;\n",
       "    }\n",
       "</style>\n",
       "<table border=\"1\" class=\"dataframe\">\n",
       "  <thead>\n",
       "    <tr style=\"text-align: right;\">\n",
       "      <th></th>\n",
       "      <th>tpep_pickup_datetime</th>\n",
       "      <th>tpep_dropoff_datetime</th>\n",
       "      <th>passenger_count</th>\n",
       "      <th>trip_distance</th>\n",
       "      <th>total_amount</th>\n",
       "    </tr>\n",
       "  </thead>\n",
       "  <tbody>\n",
       "    <tr>\n",
       "      <th>0</th>\n",
       "      <td>2015-06-02 11:19:29</td>\n",
       "      <td>2015-06-02 11:47:52</td>\n",
       "      <td>1</td>\n",
       "      <td>1.63</td>\n",
       "      <td>17.80</td>\n",
       "    </tr>\n",
       "    <tr>\n",
       "      <th>1</th>\n",
       "      <td>2015-06-02 11:19:30</td>\n",
       "      <td>2015-06-02 11:27:56</td>\n",
       "      <td>1</td>\n",
       "      <td>0.46</td>\n",
       "      <td>8.30</td>\n",
       "    </tr>\n",
       "    <tr>\n",
       "      <th>2</th>\n",
       "      <td>2015-06-02 11:19:31</td>\n",
       "      <td>2015-06-02 11:30:30</td>\n",
       "      <td>1</td>\n",
       "      <td>0.87</td>\n",
       "      <td>11.00</td>\n",
       "    </tr>\n",
       "    <tr>\n",
       "      <th>3</th>\n",
       "      <td>2015-06-02 11:19:31</td>\n",
       "      <td>2015-06-02 11:39:02</td>\n",
       "      <td>1</td>\n",
       "      <td>2.13</td>\n",
       "      <td>17.16</td>\n",
       "    </tr>\n",
       "    <tr>\n",
       "      <th>4</th>\n",
       "      <td>2015-06-02 11:19:32</td>\n",
       "      <td>2015-06-02 11:32:49</td>\n",
       "      <td>1</td>\n",
       "      <td>1.40</td>\n",
       "      <td>10.30</td>\n",
       "    </tr>\n",
       "  </tbody>\n",
       "</table>\n",
       "</div>"
      ],
      "text/plain": [
       "  tpep_pickup_datetime tpep_dropoff_datetime  passenger_count  trip_distance  \\\n",
       "0  2015-06-02 11:19:29   2015-06-02 11:47:52                1           1.63   \n",
       "1  2015-06-02 11:19:30   2015-06-02 11:27:56                1           0.46   \n",
       "2  2015-06-02 11:19:31   2015-06-02 11:30:30                1           0.87   \n",
       "3  2015-06-02 11:19:31   2015-06-02 11:39:02                1           2.13   \n",
       "4  2015-06-02 11:19:32   2015-06-02 11:32:49                1           1.40   \n",
       "\n",
       "   total_amount  \n",
       "0         17.80  \n",
       "1          8.30  \n",
       "2         11.00  \n",
       "3         17.16  \n",
       "4         10.30  "
      ]
     },
     "execution_count": 14,
     "metadata": {},
     "output_type": "execute_result"
    }
   ],
   "source": [
    "df.head()"
   ]
  },
  {
   "cell_type": "code",
   "execution_count": 15,
   "id": "934879c4-04fa-4a27-999b-8da74c51fe33",
   "metadata": {},
   "outputs": [
    {
     "data": {
      "text/plain": [
       "tpep_pickup_datetime      object\n",
       "tpep_dropoff_datetime     object\n",
       "passenger_count            int64\n",
       "trip_distance            float64\n",
       "total_amount             float64\n",
       "dtype: object"
      ]
     },
     "execution_count": 15,
     "metadata": {},
     "output_type": "execute_result"
    }
   ],
   "source": [
    "df.dtypes"
   ]
  },
  {
   "cell_type": "code",
   "execution_count": 16,
   "id": "096caa2a-9553-4b97-be9d-459d6c6c0ba8",
   "metadata": {},
   "outputs": [
    {
     "data": {
      "text/plain": [
       "0      2015-06-02 11:19:29\n",
       "1      2015-06-02 11:19:30\n",
       "2      2015-06-02 11:19:31\n",
       "3      2015-06-02 11:19:31\n",
       "4      2015-06-02 11:19:32\n",
       "               ...        \n",
       "9994   2015-06-01 00:12:59\n",
       "9995   2015-06-01 00:12:59\n",
       "9996   2015-06-01 00:13:00\n",
       "9997   2015-06-01 00:13:02\n",
       "9998   2015-06-01 00:13:04\n",
       "Name: tpep_pickup_datetime, Length: 9999, dtype: datetime64[ns]"
      ]
     },
     "execution_count": 16,
     "metadata": {},
     "output_type": "execute_result"
    }
   ],
   "source": [
    "# the main way to take a string column and get a datetime column based on it\n",
    "# is with pd.to_datetime, a function that comes with Pandas.\n",
    "\n",
    "pd.to_datetime(df['tpep_pickup_datetime'])"
   ]
  },
  {
   "cell_type": "code",
   "execution_count": 17,
   "id": "7330039c-3991-461f-8f33-60b4f07e1890",
   "metadata": {},
   "outputs": [
    {
     "data": {
      "text/plain": [
       "1599972"
      ]
     },
     "execution_count": 17,
     "metadata": {},
     "output_type": "execute_result"
    }
   ],
   "source": [
    "# how much memory are we *really* using right now on this data frame?\n",
    "df.memory_usage(deep=True).sum()    # 1,599,972"
   ]
  },
  {
   "cell_type": "code",
   "execution_count": 18,
   "id": "4f24e7e2-89bf-4568-8ff2-c9a56420cff4",
   "metadata": {},
   "outputs": [],
   "source": [
    "# we can assign the datetime version of these columns back to the orignal data frame\n",
    "\n",
    "df['tpep_pickup_datetime'] = pd.to_datetime(df['tpep_pickup_datetime'])\n",
    "df['tpep_dropoff_datetime'] = pd.to_datetime(df['tpep_dropoff_datetime'])"
   ]
  },
  {
   "cell_type": "code",
   "execution_count": 19,
   "id": "8a9af1b5-879e-49d6-a57b-8549534961fb",
   "metadata": {},
   "outputs": [
    {
     "data": {
      "text/plain": [
       "400092"
      ]
     },
     "execution_count": 19,
     "metadata": {},
     "output_type": "execute_result"
    }
   ],
   "source": [
    "df.memory_usage(deep=True).sum()   "
   ]
  },
  {
   "cell_type": "markdown",
   "id": "74558a58-d600-44bf-a428-57cd75460910",
   "metadata": {},
   "source": [
    "Dates and times come in *many* different formats. How did pd.to_datetime know how to convert our strings into datetime values?\n",
    "\n",
    "- If the datetime value (as a string) looks like `YYYY-MM-DD HH:MM:SS`, then Pandas can handle it just fine.\n",
    "- If the value is in US format (i.e., `MM-DD-YYYY HH:MM:SS`, then it can also handle it just fine, and by default.\n",
    "- If the value is in European format (i.e., `DD-MM-YYYY HH:MM:SS`, then you need to pass an argument to `to_datetime`, `dayfirst=True`, which overrides the defaults for US time format.\n",
    "- If it's in another format, then you have to specify it with a special formatting string that uses lots of `%` characters. These format strings are used in the `strftime` and `strptime` methods for strings in Python (and in many other languages).  You can pass this string as the `date_format` keyword argument to `pd.to_datetime`."
   ]
  },
  {
   "cell_type": "code",
   "execution_count": 21,
   "id": "6dda242f-3642-40b9-ad90-b62137ad7768",
   "metadata": {},
   "outputs": [],
   "source": [
    "# another (my preferred) way is when we call pd.read_csv\n",
    "# we can pass an argument, \"parse_dates\", which takes a list of column names. Those will all be parsed as datetime values.\n",
    "\n",
    "df = pd.read_csv(filename,\n",
    "                 usecols=['tpep_pickup_datetime',\n",
    "                          'tpep_dropoff_datetime',\n",
    "                          'passenger_count',\n",
    "                          'trip_distance',\n",
    "                          'total_amount'],\n",
    "                parse_dates=['tpep_pickup_datetime',\n",
    "                             'tpep_dropoff_datetime'])\n",
    "                          "
   ]
  },
  {
   "cell_type": "code",
   "execution_count": 22,
   "id": "214e3e7c-ce9c-4d8c-b2c7-4752099be076",
   "metadata": {},
   "outputs": [
    {
     "data": {
      "text/html": [
       "<div>\n",
       "<style scoped>\n",
       "    .dataframe tbody tr th:only-of-type {\n",
       "        vertical-align: middle;\n",
       "    }\n",
       "\n",
       "    .dataframe tbody tr th {\n",
       "        vertical-align: top;\n",
       "    }\n",
       "\n",
       "    .dataframe thead th {\n",
       "        text-align: right;\n",
       "    }\n",
       "</style>\n",
       "<table border=\"1\" class=\"dataframe\">\n",
       "  <thead>\n",
       "    <tr style=\"text-align: right;\">\n",
       "      <th></th>\n",
       "      <th>tpep_pickup_datetime</th>\n",
       "      <th>tpep_dropoff_datetime</th>\n",
       "      <th>passenger_count</th>\n",
       "      <th>trip_distance</th>\n",
       "      <th>total_amount</th>\n",
       "    </tr>\n",
       "  </thead>\n",
       "  <tbody>\n",
       "    <tr>\n",
       "      <th>0</th>\n",
       "      <td>2015-06-02 11:19:29</td>\n",
       "      <td>2015-06-02 11:47:52</td>\n",
       "      <td>1</td>\n",
       "      <td>1.63</td>\n",
       "      <td>17.80</td>\n",
       "    </tr>\n",
       "    <tr>\n",
       "      <th>1</th>\n",
       "      <td>2015-06-02 11:19:30</td>\n",
       "      <td>2015-06-02 11:27:56</td>\n",
       "      <td>1</td>\n",
       "      <td>0.46</td>\n",
       "      <td>8.30</td>\n",
       "    </tr>\n",
       "    <tr>\n",
       "      <th>2</th>\n",
       "      <td>2015-06-02 11:19:31</td>\n",
       "      <td>2015-06-02 11:30:30</td>\n",
       "      <td>1</td>\n",
       "      <td>0.87</td>\n",
       "      <td>11.00</td>\n",
       "    </tr>\n",
       "    <tr>\n",
       "      <th>3</th>\n",
       "      <td>2015-06-02 11:19:31</td>\n",
       "      <td>2015-06-02 11:39:02</td>\n",
       "      <td>1</td>\n",
       "      <td>2.13</td>\n",
       "      <td>17.16</td>\n",
       "    </tr>\n",
       "    <tr>\n",
       "      <th>4</th>\n",
       "      <td>2015-06-02 11:19:32</td>\n",
       "      <td>2015-06-02 11:32:49</td>\n",
       "      <td>1</td>\n",
       "      <td>1.40</td>\n",
       "      <td>10.30</td>\n",
       "    </tr>\n",
       "  </tbody>\n",
       "</table>\n",
       "</div>"
      ],
      "text/plain": [
       "  tpep_pickup_datetime tpep_dropoff_datetime  passenger_count  trip_distance  \\\n",
       "0  2015-06-02 11:19:29   2015-06-02 11:47:52                1           1.63   \n",
       "1  2015-06-02 11:19:30   2015-06-02 11:27:56                1           0.46   \n",
       "2  2015-06-02 11:19:31   2015-06-02 11:30:30                1           0.87   \n",
       "3  2015-06-02 11:19:31   2015-06-02 11:39:02                1           2.13   \n",
       "4  2015-06-02 11:19:32   2015-06-02 11:32:49                1           1.40   \n",
       "\n",
       "   total_amount  \n",
       "0         17.80  \n",
       "1          8.30  \n",
       "2         11.00  \n",
       "3         17.16  \n",
       "4         10.30  "
      ]
     },
     "execution_count": 22,
     "metadata": {},
     "output_type": "execute_result"
    }
   ],
   "source": [
    "df.head()"
   ]
  },
  {
   "cell_type": "code",
   "execution_count": 23,
   "id": "d572fb80-8469-45a0-aa63-f19404523ec3",
   "metadata": {},
   "outputs": [
    {
     "data": {
      "text/plain": [
       "tpep_pickup_datetime     datetime64[ns]\n",
       "tpep_dropoff_datetime    datetime64[ns]\n",
       "passenger_count                   int64\n",
       "trip_distance                   float64\n",
       "total_amount                    float64\n",
       "dtype: object"
      ]
     },
     "execution_count": 23,
     "metadata": {},
     "output_type": "execute_result"
    }
   ],
   "source": [
    "df.dtypes"
   ]
  },
  {
   "cell_type": "markdown",
   "id": "630e0a3e-2d73-4a4e-8421-fa376476ca3c",
   "metadata": {},
   "source": [
    "# Exercise: Chicago weather\n",
    "\n",
    "1. Read the weather data from Chicago (`../data/chicago,il.csv`)\n",
    "2. Don't parse the datetime column (the first one). Check to see how much memory it uses as strings.\n",
    "3. Re-read it using `parse_dates`.\n",
    "4. Compare the memory usage."
   ]
  },
  {
   "cell_type": "code",
   "execution_count": 25,
   "id": "61154858-9b9e-4fe5-bbed-9502a7dbc1d5",
   "metadata": {},
   "outputs": [
    {
     "data": {
      "text/plain": [
       "332220"
      ]
     },
     "execution_count": 25,
     "metadata": {},
     "output_type": "execute_result"
    }
   ],
   "source": [
    "filename = '../data/chicago,il.csv'\n",
    "df = pd.read_csv(filename)\n",
    "df.memory_usage(deep=True).sum()  # 332,220"
   ]
  },
  {
   "cell_type": "code",
   "execution_count": 27,
   "id": "100bf261-d499-4ae6-9a75-1f21a74b96cb",
   "metadata": {},
   "outputs": [
    {
     "data": {
      "text/plain": [
       "288540"
      ]
     },
     "execution_count": 27,
     "metadata": {},
     "output_type": "execute_result"
    }
   ],
   "source": [
    "df = pd.read_csv(filename,\n",
    "                parse_dates=['date_time'])\n",
    "df.memory_usage(deep=True).sum()  # 288,540"
   ]
  },
  {
   "cell_type": "code",
   "execution_count": 28,
   "id": "11644b44-806c-4527-940b-3fbfcce311a7",
   "metadata": {},
   "outputs": [
    {
     "data": {
      "text/plain": [
       "0.8685208596713021"
      ]
     },
     "execution_count": 28,
     "metadata": {},
     "output_type": "execute_result"
    }
   ],
   "source": [
    "288540 / 332220"
   ]
  },
  {
   "cell_type": "code",
   "execution_count": 30,
   "id": "d579256d-0d9f-4aee-b1e0-99f37645378f",
   "metadata": {},
   "outputs": [],
   "source": [
    "filename = '../data/taxi.csv'\n",
    "\n",
    "df = pd.read_csv(filename,\n",
    "                 usecols=['tpep_pickup_datetime',\n",
    "                          'tpep_dropoff_datetime',\n",
    "                          'passenger_count',\n",
    "                          'trip_distance',\n",
    "                          'total_amount'],\n",
    "                parse_dates=['tpep_pickup_datetime',\n",
    "                             'tpep_dropoff_datetime'])\n",
    "                          "
   ]
  },
  {
   "cell_type": "code",
   "execution_count": 31,
   "id": "165af6cc-cb8c-4255-9df4-799adce7cf94",
   "metadata": {},
   "outputs": [
    {
     "data": {
      "text/html": [
       "<div>\n",
       "<style scoped>\n",
       "    .dataframe tbody tr th:only-of-type {\n",
       "        vertical-align: middle;\n",
       "    }\n",
       "\n",
       "    .dataframe tbody tr th {\n",
       "        vertical-align: top;\n",
       "    }\n",
       "\n",
       "    .dataframe thead th {\n",
       "        text-align: right;\n",
       "    }\n",
       "</style>\n",
       "<table border=\"1\" class=\"dataframe\">\n",
       "  <thead>\n",
       "    <tr style=\"text-align: right;\">\n",
       "      <th></th>\n",
       "      <th>tpep_pickup_datetime</th>\n",
       "      <th>tpep_dropoff_datetime</th>\n",
       "      <th>passenger_count</th>\n",
       "      <th>trip_distance</th>\n",
       "      <th>total_amount</th>\n",
       "    </tr>\n",
       "  </thead>\n",
       "  <tbody>\n",
       "    <tr>\n",
       "      <th>0</th>\n",
       "      <td>2015-06-02 11:19:29</td>\n",
       "      <td>2015-06-02 11:47:52</td>\n",
       "      <td>1</td>\n",
       "      <td>1.63</td>\n",
       "      <td>17.80</td>\n",
       "    </tr>\n",
       "    <tr>\n",
       "      <th>1</th>\n",
       "      <td>2015-06-02 11:19:30</td>\n",
       "      <td>2015-06-02 11:27:56</td>\n",
       "      <td>1</td>\n",
       "      <td>0.46</td>\n",
       "      <td>8.30</td>\n",
       "    </tr>\n",
       "    <tr>\n",
       "      <th>2</th>\n",
       "      <td>2015-06-02 11:19:31</td>\n",
       "      <td>2015-06-02 11:30:30</td>\n",
       "      <td>1</td>\n",
       "      <td>0.87</td>\n",
       "      <td>11.00</td>\n",
       "    </tr>\n",
       "    <tr>\n",
       "      <th>3</th>\n",
       "      <td>2015-06-02 11:19:31</td>\n",
       "      <td>2015-06-02 11:39:02</td>\n",
       "      <td>1</td>\n",
       "      <td>2.13</td>\n",
       "      <td>17.16</td>\n",
       "    </tr>\n",
       "    <tr>\n",
       "      <th>4</th>\n",
       "      <td>2015-06-02 11:19:32</td>\n",
       "      <td>2015-06-02 11:32:49</td>\n",
       "      <td>1</td>\n",
       "      <td>1.40</td>\n",
       "      <td>10.30</td>\n",
       "    </tr>\n",
       "  </tbody>\n",
       "</table>\n",
       "</div>"
      ],
      "text/plain": [
       "  tpep_pickup_datetime tpep_dropoff_datetime  passenger_count  trip_distance  \\\n",
       "0  2015-06-02 11:19:29   2015-06-02 11:47:52                1           1.63   \n",
       "1  2015-06-02 11:19:30   2015-06-02 11:27:56                1           0.46   \n",
       "2  2015-06-02 11:19:31   2015-06-02 11:30:30                1           0.87   \n",
       "3  2015-06-02 11:19:31   2015-06-02 11:39:02                1           2.13   \n",
       "4  2015-06-02 11:19:32   2015-06-02 11:32:49                1           1.40   \n",
       "\n",
       "   total_amount  \n",
       "0         17.80  \n",
       "1          8.30  \n",
       "2         11.00  \n",
       "3         17.16  \n",
       "4         10.30  "
      ]
     },
     "execution_count": 31,
     "metadata": {},
     "output_type": "execute_result"
    }
   ],
   "source": [
    "df.head()"
   ]
  },
  {
   "cell_type": "markdown",
   "id": "6d1baa08-7556-4267-93b9-68900db72a54",
   "metadata": {},
   "source": [
    "# How can we extract data from a `datetime` column?\n",
    "\n",
    "We use the `.dt` accessor, an attribute that is designed to retrieve one part of the `datetime` value. It's very similar in spirit to what we did last week with the `.str` accessor, giving us access to many string functions. Here, we're more typically retrieving pieces of the `datetime`, but there are some methods, too."
   ]
  },
  {
   "cell_type": "code",
   "execution_count": 42,
   "id": "996645dc-8c3a-444a-b781-2e227fceb4ed",
   "metadata": {},
   "outputs": [
    {
     "data": {
      "text/plain": [
       "0       False\n",
       "1       False\n",
       "2       False\n",
       "3       False\n",
       "4       False\n",
       "        ...  \n",
       "9994    False\n",
       "9995    False\n",
       "9996    False\n",
       "9997    False\n",
       "9998    False\n",
       "Name: tpep_pickup_datetime, Length: 9999, dtype: bool"
      ]
     },
     "execution_count": 42,
     "metadata": {},
     "output_type": "execute_result"
    }
   ],
   "source": [
    "df['tpep_pickup_datetime'].dt.is_leap_year"
   ]
  },
  {
   "cell_type": "markdown",
   "id": "63999b1d-e7b4-45b7-83f5-5b36817c9ace",
   "metadata": {},
   "source": [
    "# How can we use this?\n",
    "\n",
    "1. Find only those rows in which a particular datetime component is `True`\n",
    "2. We can use them for grouping\n",
    "3. We can use them in calculations"
   ]
  },
  {
   "cell_type": "markdown",
   "id": "ca3fb7e9-a24f-46fa-b4a6-94a08d197e1b",
   "metadata": {},
   "source": [
    "# Exercise: NYC taxis from July 2020\n",
    "\n",
    "1. Load the file `../data/nyc_taxi_2020-07.csv` into a data frame. *BUT* only read in the columns `tpep_pickup_datetime`, `tpep_dropoff_datetime`, `passenger_count`, `trip_distance`, `total_amount`. Don't use `parse_dates` just yet; like last time, get the memory usage.\n",
    "2. Use `parse_dates` and compare the memory usage.\n",
    "3. What were the three hours of the day at which taxis were most often called?\n",
    "4. This data is all supposed to be from July; how many rows have non-July 2020 data?\n",
    "5. How many rows have non-2020 data?"
   ]
  },
  {
   "cell_type": "code",
   "execution_count": 43,
   "id": "7811b136-2b6a-4bab-936a-1110e7446056",
   "metadata": {},
   "outputs": [],
   "source": [
    "filename = '../data/nyc_taxi_2020-07.csv'\n",
    "\n",
    "df = pd.read_csv(filename,\n",
    "                 usecols=['tpep_pickup_datetime',\n",
    "                          'tpep_dropoff_datetime',\n",
    "                          'passenger_count',\n",
    "                          'trip_distance', 'total_amount'])\n"
   ]
  },
  {
   "cell_type": "code",
   "execution_count": 44,
   "id": "c0e0aaa0-6cd9-47df-8645-630ea7eac040",
   "metadata": {},
   "outputs": [
    {
     "data": {
      "text/plain": [
       "(800412, 5)"
      ]
     },
     "execution_count": 44,
     "metadata": {},
     "output_type": "execute_result"
    }
   ],
   "source": [
    "df.shape"
   ]
  },
  {
   "cell_type": "code",
   "execution_count": 46,
   "id": "519b8f6c-f9c3-4460-a63d-22f3247ac753",
   "metadata": {},
   "outputs": [
    {
     "data": {
      "text/plain": [
       "128066052"
      ]
     },
     "execution_count": 46,
     "metadata": {},
     "output_type": "execute_result"
    }
   ],
   "source": [
    "df.memory_usage(deep=True).sum()   # 128,066,052"
   ]
  },
  {
   "cell_type": "code",
   "execution_count": 47,
   "id": "d7a8f4f9-73f2-4c8f-adf3-7574ef672ad3",
   "metadata": {},
   "outputs": [],
   "source": [
    "filename = '../data/nyc_taxi_2020-07.csv'\n",
    "\n",
    "df = pd.read_csv(filename,\n",
    "                 usecols=['tpep_pickup_datetime',\n",
    "                          'tpep_dropoff_datetime',\n",
    "                          'passenger_count',\n",
    "                          'trip_distance', 'total_amount'],\n",
    "                parse_dates=['tpep_pickup_datetime',\n",
    "                             'tpep_dropoff_datetime'])\n"
   ]
  },
  {
   "cell_type": "code",
   "execution_count": 48,
   "id": "47c68cb9-853a-4a13-9e16-b531aa017343",
   "metadata": {},
   "outputs": [
    {
     "data": {
      "text/plain": [
       "32016612"
      ]
     },
     "execution_count": 48,
     "metadata": {},
     "output_type": "execute_result"
    }
   ],
   "source": [
    "df.memory_usage(deep=True).sum()    # 32,016,612"
   ]
  },
  {
   "cell_type": "code",
   "execution_count": 49,
   "id": "db47a831-0bd6-4bc8-91a0-c44f98a563ea",
   "metadata": {},
   "outputs": [
    {
     "data": {
      "text/plain": [
       "0.2500007730385879"
      ]
     },
     "execution_count": 49,
     "metadata": {},
     "output_type": "execute_result"
    }
   ],
   "source": [
    "32016612 / 128066052"
   ]
  },
  {
   "cell_type": "code",
   "execution_count": 54,
   "id": "433bc32e-b2ce-4201-acc9-b5829cab8f5e",
   "metadata": {},
   "outputs": [
    {
     "data": {
      "text/plain": [
       "tpep_pickup_datetime\n",
       "15    0.073974\n",
       "14    0.073803\n",
       "13    0.071938\n",
       "16    0.071393\n",
       "17    0.070799\n",
       "12    0.068169\n",
       "18    0.066377\n",
       "11    0.062275\n",
       "10    0.057823\n",
       "19    0.053063\n",
       "9     0.051235\n",
       "8     0.043840\n",
       "20    0.038292\n",
       "7     0.032345\n",
       "21    0.030812\n",
       "22    0.025965\n",
       "6     0.023181\n",
       "23    0.022728\n",
       "0     0.014314\n",
       "1     0.011970\n",
       "4     0.009213\n",
       "2     0.009047\n",
       "3     0.008942\n",
       "5     0.008504\n",
       "Name: proportion, dtype: float64"
      ]
     },
     "execution_count": 54,
     "metadata": {},
     "output_type": "execute_result"
    }
   ],
   "source": [
    "# What were the three hours of the day at which taxis were most often called?\n",
    "\n",
    "(\n",
    "    df['tpep_pickup_datetime']\n",
    "    .dt.hour\n",
    "    .value_counts(normalize=True)\n",
    ")\n"
   ]
  },
  {
   "cell_type": "code",
   "execution_count": 59,
   "id": "41d6319a-b278-42ed-aa3c-5916461b9161",
   "metadata": {},
   "outputs": [
    {
     "data": {
      "text/html": [
       "<div>\n",
       "<style scoped>\n",
       "    .dataframe tbody tr th:only-of-type {\n",
       "        vertical-align: middle;\n",
       "    }\n",
       "\n",
       "    .dataframe tbody tr th {\n",
       "        vertical-align: top;\n",
       "    }\n",
       "\n",
       "    .dataframe thead th {\n",
       "        text-align: right;\n",
       "    }\n",
       "</style>\n",
       "<table border=\"1\" class=\"dataframe\">\n",
       "  <thead>\n",
       "    <tr style=\"text-align: right;\">\n",
       "      <th></th>\n",
       "      <th>tpep_pickup_datetime</th>\n",
       "      <th>tpep_dropoff_datetime</th>\n",
       "      <th>passenger_count</th>\n",
       "      <th>trip_distance</th>\n",
       "      <th>total_amount</th>\n",
       "    </tr>\n",
       "  </thead>\n",
       "  <tbody>\n",
       "    <tr>\n",
       "      <th>198195</th>\n",
       "      <td>2008-12-31 23:12:22</td>\n",
       "      <td>2008-12-31 23:25:04</td>\n",
       "      <td>1.0</td>\n",
       "      <td>1.62</td>\n",
       "      <td>11.8</td>\n",
       "    </tr>\n",
       "    <tr>\n",
       "      <th>198275</th>\n",
       "      <td>2009-01-01 01:29:56</td>\n",
       "      <td>2009-01-01 01:38:44</td>\n",
       "      <td>1.0</td>\n",
       "      <td>1.31</td>\n",
       "      <td>10.3</td>\n",
       "    </tr>\n",
       "  </tbody>\n",
       "</table>\n",
       "</div>"
      ],
      "text/plain": [
       "       tpep_pickup_datetime tpep_dropoff_datetime  passenger_count  \\\n",
       "198195  2008-12-31 23:12:22   2008-12-31 23:25:04              1.0   \n",
       "198275  2009-01-01 01:29:56   2009-01-01 01:38:44              1.0   \n",
       "\n",
       "        trip_distance  total_amount  \n",
       "198195           1.62          11.8  \n",
       "198275           1.31          10.3  "
      ]
     },
     "execution_count": 59,
     "metadata": {},
     "output_type": "execute_result"
    }
   ],
   "source": [
    "# This data is all supposed to be from July; how many rows have non-July 2020 data?\n",
    "\n",
    "df.loc[(df['tpep_pickup_datetime'].dt.month != 7) &\n",
    "       (df['tpep_pickup_datetime'].dt.year != 2020)]"
   ]
  },
  {
   "cell_type": "code",
   "execution_count": 60,
   "id": "c4278d7d-9e15-478d-8c8b-b2aad9fc34ac",
   "metadata": {},
   "outputs": [
    {
     "data": {
      "text/html": [
       "<div>\n",
       "<style scoped>\n",
       "    .dataframe tbody tr th:only-of-type {\n",
       "        vertical-align: middle;\n",
       "    }\n",
       "\n",
       "    .dataframe tbody tr th {\n",
       "        vertical-align: top;\n",
       "    }\n",
       "\n",
       "    .dataframe thead th {\n",
       "        text-align: right;\n",
       "    }\n",
       "</style>\n",
       "<table border=\"1\" class=\"dataframe\">\n",
       "  <thead>\n",
       "    <tr style=\"text-align: right;\">\n",
       "      <th></th>\n",
       "      <th>tpep_pickup_datetime</th>\n",
       "      <th>tpep_dropoff_datetime</th>\n",
       "      <th>passenger_count</th>\n",
       "      <th>trip_distance</th>\n",
       "      <th>total_amount</th>\n",
       "    </tr>\n",
       "  </thead>\n",
       "  <tbody>\n",
       "    <tr>\n",
       "      <th>198195</th>\n",
       "      <td>2008-12-31 23:12:22</td>\n",
       "      <td>2008-12-31 23:25:04</td>\n",
       "      <td>1.0</td>\n",
       "      <td>1.62</td>\n",
       "      <td>11.8</td>\n",
       "    </tr>\n",
       "    <tr>\n",
       "      <th>198275</th>\n",
       "      <td>2009-01-01 01:29:56</td>\n",
       "      <td>2009-01-01 01:38:44</td>\n",
       "      <td>1.0</td>\n",
       "      <td>1.31</td>\n",
       "      <td>10.3</td>\n",
       "    </tr>\n",
       "  </tbody>\n",
       "</table>\n",
       "</div>"
      ],
      "text/plain": [
       "       tpep_pickup_datetime tpep_dropoff_datetime  passenger_count  \\\n",
       "198195  2008-12-31 23:12:22   2008-12-31 23:25:04              1.0   \n",
       "198275  2009-01-01 01:29:56   2009-01-01 01:38:44              1.0   \n",
       "\n",
       "        trip_distance  total_amount  \n",
       "198195           1.62          11.8  \n",
       "198275           1.31          10.3  "
      ]
     },
     "execution_count": 60,
     "metadata": {},
     "output_type": "execute_result"
    }
   ],
   "source": [
    "# How many rows have non-2020 data?\n",
    "\n",
    "df.loc[df['tpep_pickup_datetime'].dt.year != 2020]"
   ]
  },
  {
   "cell_type": "markdown",
   "id": "c6bcaa96-fed0-4b1b-b272-ebf7193994d5",
   "metadata": {},
   "source": [
    "# Grouping\n",
    "\n",
    "We can run `groupby` on any categorical column. That includes the result of invoking `.dt.NAME` for any `NAME` on our datetime columns.\n"
   ]
  },
  {
   "cell_type": "code",
   "execution_count": 61,
   "id": "dfcc839b-2b9e-40ac-94e1-637acb4ca8d6",
   "metadata": {},
   "outputs": [
    {
     "data": {
      "text/plain": [
       "4.304164880086755"
      ]
     },
     "execution_count": 61,
     "metadata": {},
     "output_type": "execute_result"
    }
   ],
   "source": [
    "# Example: How far did people travel, on average, in taxis in July 2020?\n",
    "\n",
    "df['trip_distance'].mean()"
   ]
  },
  {
   "cell_type": "code",
   "execution_count": 62,
   "id": "0d4d67f2-a3e8-494d-9ae4-708f421f4629",
   "metadata": {},
   "outputs": [
    {
     "data": {
      "text/plain": [
       "tpep_pickup_datetime\n",
       "0      4.686456\n",
       "1     15.018075\n",
       "2      7.522501\n",
       "3     14.842060\n",
       "4     13.844186\n",
       "5      3.669135\n",
       "6      2.877530\n",
       "7      4.502182\n",
       "8      2.588864\n",
       "9      2.552402\n",
       "10     2.525525\n",
       "11     2.570557\n",
       "12     2.635746\n",
       "13     3.229825\n",
       "14     2.705078\n",
       "15     2.884645\n",
       "16     2.980572\n",
       "17     3.006179\n",
       "18     2.958436\n",
       "19     3.080243\n",
       "20     3.432630\n",
       "21    32.465414\n",
       "22     3.785870\n",
       "23     4.159685\n",
       "Name: trip_distance, dtype: float64"
      ]
     },
     "execution_count": 62,
     "metadata": {},
     "output_type": "execute_result"
    }
   ],
   "source": [
    "# How far did people travel, on average *PER HOUR* in July 2020?\n",
    "\n",
    "df.groupby(df['tpep_pickup_datetime'].dt.hour)['trip_distance'].mean()"
   ]
  },
  {
   "cell_type": "code",
   "execution_count": 63,
   "id": "d781015f-6e84-4f23-b72d-e7af0895e219",
   "metadata": {},
   "outputs": [
    {
     "data": {
      "text/plain": [
       "tpep_pickup_datetime\n",
       "0    3.087188\n",
       "1    2.943605\n",
       "2    3.255378\n",
       "3    5.285671\n",
       "4    3.687451\n",
       "5    6.632864\n",
       "6    7.252421\n",
       "Name: trip_distance, dtype: float64"
      ]
     },
     "execution_count": 63,
     "metadata": {},
     "output_type": "execute_result"
    }
   ],
   "source": [
    "df.groupby(df['tpep_pickup_datetime'].dt.day_of_week)['trip_distance'].mean()"
   ]
  },
  {
   "cell_type": "code",
   "execution_count": 66,
   "id": "784c2905-2e70-406b-aff8-aeb57d5425d6",
   "metadata": {},
   "outputs": [
    {
     "data": {
      "text/plain": [
       "tpep_pickup_datetime\n",
       "Friday       3.687451\n",
       "Monday       3.087188\n",
       "Saturday     6.632864\n",
       "Sunday       7.252421\n",
       "Thursday     5.285671\n",
       "Tuesday      2.943605\n",
       "Wednesday    3.255378\n",
       "Name: trip_distance, dtype: float64"
      ]
     },
     "execution_count": 66,
     "metadata": {},
     "output_type": "execute_result"
    }
   ],
   "source": [
    "df.groupby(df['tpep_pickup_datetime'].dt.day_name())['trip_distance'].mean()"
   ]
  },
  {
   "cell_type": "markdown",
   "id": "047ed218-6715-452c-86bd-49b1bca971f8",
   "metadata": {},
   "source": [
    "# Time deltas\n",
    "\n",
    "We can, as we saw earlier, perform date math and get the distance (timedelta) between two datetime values. How can we do that in Pandas?"
   ]
  },
  {
   "cell_type": "code",
   "execution_count": 67,
   "id": "d1ec9a98-2c11-4ac0-958c-818064cb5cb5",
   "metadata": {},
   "outputs": [],
   "source": [
    "df['trip_time'] = df['tpep_dropoff_datetime'] - df['tpep_pickup_datetime']"
   ]
  },
  {
   "cell_type": "code",
   "execution_count": 68,
   "id": "52a804ef-fe67-45e9-9b22-6c610e524e3f",
   "metadata": {},
   "outputs": [
    {
     "data": {
      "text/plain": [
       "tpep_pickup_datetime      datetime64[ns]\n",
       "tpep_dropoff_datetime     datetime64[ns]\n",
       "passenger_count                  float64\n",
       "trip_distance                    float64\n",
       "total_amount                     float64\n",
       "trip_time                timedelta64[ns]\n",
       "dtype: object"
      ]
     },
     "execution_count": 68,
     "metadata": {},
     "output_type": "execute_result"
    }
   ],
   "source": [
    "df.dtypes"
   ]
  },
  {
   "cell_type": "code",
   "execution_count": 69,
   "id": "fdb3e18c-419b-4648-874d-1b0ba28ec8ad",
   "metadata": {},
   "outputs": [
    {
     "data": {
      "text/html": [
       "<div>\n",
       "<style scoped>\n",
       "    .dataframe tbody tr th:only-of-type {\n",
       "        vertical-align: middle;\n",
       "    }\n",
       "\n",
       "    .dataframe tbody tr th {\n",
       "        vertical-align: top;\n",
       "    }\n",
       "\n",
       "    .dataframe thead th {\n",
       "        text-align: right;\n",
       "    }\n",
       "</style>\n",
       "<table border=\"1\" class=\"dataframe\">\n",
       "  <thead>\n",
       "    <tr style=\"text-align: right;\">\n",
       "      <th></th>\n",
       "      <th>tpep_pickup_datetime</th>\n",
       "      <th>tpep_dropoff_datetime</th>\n",
       "      <th>passenger_count</th>\n",
       "      <th>trip_distance</th>\n",
       "      <th>total_amount</th>\n",
       "      <th>trip_time</th>\n",
       "    </tr>\n",
       "  </thead>\n",
       "  <tbody>\n",
       "    <tr>\n",
       "      <th>0</th>\n",
       "      <td>2020-07-01 00:25:32</td>\n",
       "      <td>2020-07-01 00:33:39</td>\n",
       "      <td>1.0</td>\n",
       "      <td>1.50</td>\n",
       "      <td>9.30</td>\n",
       "      <td>0 days 00:08:07</td>\n",
       "    </tr>\n",
       "    <tr>\n",
       "      <th>1</th>\n",
       "      <td>2020-07-01 00:03:19</td>\n",
       "      <td>2020-07-01 00:25:43</td>\n",
       "      <td>1.0</td>\n",
       "      <td>9.50</td>\n",
       "      <td>27.80</td>\n",
       "      <td>0 days 00:22:24</td>\n",
       "    </tr>\n",
       "    <tr>\n",
       "      <th>2</th>\n",
       "      <td>2020-07-01 00:15:11</td>\n",
       "      <td>2020-07-01 00:29:24</td>\n",
       "      <td>1.0</td>\n",
       "      <td>5.85</td>\n",
       "      <td>22.30</td>\n",
       "      <td>0 days 00:14:13</td>\n",
       "    </tr>\n",
       "    <tr>\n",
       "      <th>3</th>\n",
       "      <td>2020-07-01 00:30:49</td>\n",
       "      <td>2020-07-01 00:38:26</td>\n",
       "      <td>1.0</td>\n",
       "      <td>1.90</td>\n",
       "      <td>14.16</td>\n",
       "      <td>0 days 00:07:37</td>\n",
       "    </tr>\n",
       "    <tr>\n",
       "      <th>4</th>\n",
       "      <td>2020-07-01 00:31:26</td>\n",
       "      <td>2020-07-01 00:38:02</td>\n",
       "      <td>1.0</td>\n",
       "      <td>1.25</td>\n",
       "      <td>7.80</td>\n",
       "      <td>0 days 00:06:36</td>\n",
       "    </tr>\n",
       "    <tr>\n",
       "      <th>5</th>\n",
       "      <td>2020-07-01 00:09:00</td>\n",
       "      <td>2020-07-01 00:34:39</td>\n",
       "      <td>1.0</td>\n",
       "      <td>9.70</td>\n",
       "      <td>33.80</td>\n",
       "      <td>0 days 00:25:39</td>\n",
       "    </tr>\n",
       "    <tr>\n",
       "      <th>6</th>\n",
       "      <td>2020-07-01 00:44:08</td>\n",
       "      <td>2020-07-01 00:58:12</td>\n",
       "      <td>1.0</td>\n",
       "      <td>5.27</td>\n",
       "      <td>26.39</td>\n",
       "      <td>0 days 00:14:04</td>\n",
       "    </tr>\n",
       "    <tr>\n",
       "      <th>7</th>\n",
       "      <td>2020-07-01 00:49:20</td>\n",
       "      <td>2020-07-01 00:56:44</td>\n",
       "      <td>1.0</td>\n",
       "      <td>1.32</td>\n",
       "      <td>8.80</td>\n",
       "      <td>0 days 00:07:24</td>\n",
       "    </tr>\n",
       "    <tr>\n",
       "      <th>8</th>\n",
       "      <td>2020-07-01 00:21:59</td>\n",
       "      <td>2020-07-01 00:25:12</td>\n",
       "      <td>1.0</td>\n",
       "      <td>0.73</td>\n",
       "      <td>10.12</td>\n",
       "      <td>0 days 00:03:13</td>\n",
       "    </tr>\n",
       "    <tr>\n",
       "      <th>9</th>\n",
       "      <td>2020-07-01 00:08:28</td>\n",
       "      <td>2020-07-01 00:36:18</td>\n",
       "      <td>1.0</td>\n",
       "      <td>18.65</td>\n",
       "      <td>66.36</td>\n",
       "      <td>0 days 00:27:50</td>\n",
       "    </tr>\n",
       "  </tbody>\n",
       "</table>\n",
       "</div>"
      ],
      "text/plain": [
       "  tpep_pickup_datetime tpep_dropoff_datetime  passenger_count  trip_distance  \\\n",
       "0  2020-07-01 00:25:32   2020-07-01 00:33:39              1.0           1.50   \n",
       "1  2020-07-01 00:03:19   2020-07-01 00:25:43              1.0           9.50   \n",
       "2  2020-07-01 00:15:11   2020-07-01 00:29:24              1.0           5.85   \n",
       "3  2020-07-01 00:30:49   2020-07-01 00:38:26              1.0           1.90   \n",
       "4  2020-07-01 00:31:26   2020-07-01 00:38:02              1.0           1.25   \n",
       "5  2020-07-01 00:09:00   2020-07-01 00:34:39              1.0           9.70   \n",
       "6  2020-07-01 00:44:08   2020-07-01 00:58:12              1.0           5.27   \n",
       "7  2020-07-01 00:49:20   2020-07-01 00:56:44              1.0           1.32   \n",
       "8  2020-07-01 00:21:59   2020-07-01 00:25:12              1.0           0.73   \n",
       "9  2020-07-01 00:08:28   2020-07-01 00:36:18              1.0          18.65   \n",
       "\n",
       "   total_amount       trip_time  \n",
       "0          9.30 0 days 00:08:07  \n",
       "1         27.80 0 days 00:22:24  \n",
       "2         22.30 0 days 00:14:13  \n",
       "3         14.16 0 days 00:07:37  \n",
       "4          7.80 0 days 00:06:36  \n",
       "5         33.80 0 days 00:25:39  \n",
       "6         26.39 0 days 00:14:04  \n",
       "7          8.80 0 days 00:07:24  \n",
       "8         10.12 0 days 00:03:13  \n",
       "9         66.36 0 days 00:27:50  "
      ]
     },
     "execution_count": 69,
     "metadata": {},
     "output_type": "execute_result"
    }
   ],
   "source": [
    "df.head(10)"
   ]
  },
  {
   "cell_type": "code",
   "execution_count": 70,
   "id": "42820909-ad64-40f3-9b25-3cf3e8d937fb",
   "metadata": {},
   "outputs": [
    {
     "data": {
      "text/plain": [
       "0         True\n",
       "1         True\n",
       "2         True\n",
       "3         True\n",
       "4         True\n",
       "          ... \n",
       "800407    True\n",
       "800408    True\n",
       "800409    True\n",
       "800410    True\n",
       "800411    True\n",
       "Name: trip_time, Length: 800412, dtype: bool"
      ]
     },
     "execution_count": 70,
     "metadata": {},
     "output_type": "execute_result"
    }
   ],
   "source": [
    "# we can compare timedelta with a string\n",
    "\n",
    "df['trip_time'] < '01:00:00'   # gives a boolean series -- which trips took less than one hour?"
   ]
  },
  {
   "cell_type": "code",
   "execution_count": 71,
   "id": "b880aafa-e685-4bab-b053-a4e298c19a03",
   "metadata": {},
   "outputs": [
    {
     "data": {
      "text/html": [
       "<div>\n",
       "<style scoped>\n",
       "    .dataframe tbody tr th:only-of-type {\n",
       "        vertical-align: middle;\n",
       "    }\n",
       "\n",
       "    .dataframe tbody tr th {\n",
       "        vertical-align: top;\n",
       "    }\n",
       "\n",
       "    .dataframe thead th {\n",
       "        text-align: right;\n",
       "    }\n",
       "</style>\n",
       "<table border=\"1\" class=\"dataframe\">\n",
       "  <thead>\n",
       "    <tr style=\"text-align: right;\">\n",
       "      <th></th>\n",
       "      <th>tpep_pickup_datetime</th>\n",
       "      <th>tpep_dropoff_datetime</th>\n",
       "      <th>passenger_count</th>\n",
       "      <th>trip_distance</th>\n",
       "      <th>total_amount</th>\n",
       "      <th>trip_time</th>\n",
       "    </tr>\n",
       "  </thead>\n",
       "  <tbody>\n",
       "    <tr>\n",
       "      <th>0</th>\n",
       "      <td>2020-07-01 00:25:32</td>\n",
       "      <td>2020-07-01 00:33:39</td>\n",
       "      <td>1.0</td>\n",
       "      <td>1.50</td>\n",
       "      <td>9.30</td>\n",
       "      <td>0 days 00:08:07</td>\n",
       "    </tr>\n",
       "    <tr>\n",
       "      <th>1</th>\n",
       "      <td>2020-07-01 00:03:19</td>\n",
       "      <td>2020-07-01 00:25:43</td>\n",
       "      <td>1.0</td>\n",
       "      <td>9.50</td>\n",
       "      <td>27.80</td>\n",
       "      <td>0 days 00:22:24</td>\n",
       "    </tr>\n",
       "    <tr>\n",
       "      <th>2</th>\n",
       "      <td>2020-07-01 00:15:11</td>\n",
       "      <td>2020-07-01 00:29:24</td>\n",
       "      <td>1.0</td>\n",
       "      <td>5.85</td>\n",
       "      <td>22.30</td>\n",
       "      <td>0 days 00:14:13</td>\n",
       "    </tr>\n",
       "    <tr>\n",
       "      <th>3</th>\n",
       "      <td>2020-07-01 00:30:49</td>\n",
       "      <td>2020-07-01 00:38:26</td>\n",
       "      <td>1.0</td>\n",
       "      <td>1.90</td>\n",
       "      <td>14.16</td>\n",
       "      <td>0 days 00:07:37</td>\n",
       "    </tr>\n",
       "    <tr>\n",
       "      <th>4</th>\n",
       "      <td>2020-07-01 00:31:26</td>\n",
       "      <td>2020-07-01 00:38:02</td>\n",
       "      <td>1.0</td>\n",
       "      <td>1.25</td>\n",
       "      <td>7.80</td>\n",
       "      <td>0 days 00:06:36</td>\n",
       "    </tr>\n",
       "    <tr>\n",
       "      <th>...</th>\n",
       "      <td>...</td>\n",
       "      <td>...</td>\n",
       "      <td>...</td>\n",
       "      <td>...</td>\n",
       "      <td>...</td>\n",
       "      <td>...</td>\n",
       "    </tr>\n",
       "    <tr>\n",
       "      <th>800407</th>\n",
       "      <td>2020-07-19 13:27:52</td>\n",
       "      <td>2020-07-19 14:22:15</td>\n",
       "      <td>NaN</td>\n",
       "      <td>24.23</td>\n",
       "      <td>83.50</td>\n",
       "      <td>0 days 00:54:23</td>\n",
       "    </tr>\n",
       "    <tr>\n",
       "      <th>800408</th>\n",
       "      <td>2020-07-19 13:02:00</td>\n",
       "      <td>2020-07-19 13:21:00</td>\n",
       "      <td>NaN</td>\n",
       "      <td>4.40</td>\n",
       "      <td>19.78</td>\n",
       "      <td>0 days 00:19:00</td>\n",
       "    </tr>\n",
       "    <tr>\n",
       "      <th>800409</th>\n",
       "      <td>2020-07-19 13:32:00</td>\n",
       "      <td>2020-07-19 13:51:00</td>\n",
       "      <td>NaN</td>\n",
       "      <td>8.78</td>\n",
       "      <td>38.45</td>\n",
       "      <td>0 days 00:19:00</td>\n",
       "    </tr>\n",
       "    <tr>\n",
       "      <th>800410</th>\n",
       "      <td>2020-07-19 13:28:00</td>\n",
       "      <td>2020-07-19 13:51:00</td>\n",
       "      <td>NaN</td>\n",
       "      <td>6.50</td>\n",
       "      <td>29.77</td>\n",
       "      <td>0 days 00:23:00</td>\n",
       "    </tr>\n",
       "    <tr>\n",
       "      <th>800411</th>\n",
       "      <td>2020-07-19 13:31:23</td>\n",
       "      <td>2020-07-19 13:58:22</td>\n",
       "      <td>NaN</td>\n",
       "      <td>10.88</td>\n",
       "      <td>51.90</td>\n",
       "      <td>0 days 00:26:59</td>\n",
       "    </tr>\n",
       "  </tbody>\n",
       "</table>\n",
       "<p>795405 rows × 6 columns</p>\n",
       "</div>"
      ],
      "text/plain": [
       "       tpep_pickup_datetime tpep_dropoff_datetime  passenger_count  \\\n",
       "0       2020-07-01 00:25:32   2020-07-01 00:33:39              1.0   \n",
       "1       2020-07-01 00:03:19   2020-07-01 00:25:43              1.0   \n",
       "2       2020-07-01 00:15:11   2020-07-01 00:29:24              1.0   \n",
       "3       2020-07-01 00:30:49   2020-07-01 00:38:26              1.0   \n",
       "4       2020-07-01 00:31:26   2020-07-01 00:38:02              1.0   \n",
       "...                     ...                   ...              ...   \n",
       "800407  2020-07-19 13:27:52   2020-07-19 14:22:15              NaN   \n",
       "800408  2020-07-19 13:02:00   2020-07-19 13:21:00              NaN   \n",
       "800409  2020-07-19 13:32:00   2020-07-19 13:51:00              NaN   \n",
       "800410  2020-07-19 13:28:00   2020-07-19 13:51:00              NaN   \n",
       "800411  2020-07-19 13:31:23   2020-07-19 13:58:22              NaN   \n",
       "\n",
       "        trip_distance  total_amount       trip_time  \n",
       "0                1.50          9.30 0 days 00:08:07  \n",
       "1                9.50         27.80 0 days 00:22:24  \n",
       "2                5.85         22.30 0 days 00:14:13  \n",
       "3                1.90         14.16 0 days 00:07:37  \n",
       "4                1.25          7.80 0 days 00:06:36  \n",
       "...               ...           ...             ...  \n",
       "800407          24.23         83.50 0 days 00:54:23  \n",
       "800408           4.40         19.78 0 days 00:19:00  \n",
       "800409           8.78         38.45 0 days 00:19:00  \n",
       "800410           6.50         29.77 0 days 00:23:00  \n",
       "800411          10.88         51.90 0 days 00:26:59  \n",
       "\n",
       "[795405 rows x 6 columns]"
      ]
     },
     "execution_count": 71,
     "metadata": {},
     "output_type": "execute_result"
    }
   ],
   "source": [
    "df.loc[\n",
    "    df['trip_time'] < '01:00:00'\n",
    "] # gives a boolean series -- which trips took less than one hour?"
   ]
  },
  {
   "cell_type": "code",
   "execution_count": 74,
   "id": "c70b73c8-8c06-4d01-886e-8afffd817be3",
   "metadata": {},
   "outputs": [
    {
     "data": {
      "text/plain": [
       "1.3781325873607266"
      ]
     },
     "execution_count": 74,
     "metadata": {},
     "output_type": "execute_result"
    }
   ],
   "source": [
    "df.loc[\n",
    "    df['trip_time'] < '01:00:00'   # row selector\n",
    "    ,\n",
    "    'passenger_count'  # column selector\n",
    "].mean()"
   ]
  },
  {
   "cell_type": "code",
   "execution_count": 75,
   "id": "c6e77a3a-d67a-4664-99e6-bc5fc94fc958",
   "metadata": {},
   "outputs": [
    {
     "data": {
      "text/plain": [
       "0         True\n",
       "1         True\n",
       "2         True\n",
       "3         True\n",
       "4         True\n",
       "          ... \n",
       "800407    True\n",
       "800408    True\n",
       "800409    True\n",
       "800410    True\n",
       "800411    True\n",
       "Name: trip_time, Length: 800412, dtype: bool"
      ]
     },
     "execution_count": 75,
     "metadata": {},
     "output_type": "execute_result"
    }
   ],
   "source": [
    "# there's an even better way to compare with a string: Use a number and a unit!\n",
    "\n",
    "df['trip_time'] < '1 hour'"
   ]
  },
  {
   "cell_type": "code",
   "execution_count": 76,
   "id": "d16eb09b-ab71-4a63-bdcb-3d3835e50f5f",
   "metadata": {},
   "outputs": [
    {
     "data": {
      "text/plain": [
       "0          True\n",
       "1         False\n",
       "2         False\n",
       "3          True\n",
       "4          True\n",
       "          ...  \n",
       "800407    False\n",
       "800408    False\n",
       "800409    False\n",
       "800410    False\n",
       "800411    False\n",
       "Name: trip_time, Length: 800412, dtype: bool"
      ]
     },
     "execution_count": 76,
     "metadata": {},
     "output_type": "execute_result"
    }
   ],
   "source": [
    "df['trip_time'] < '10 minutes'"
   ]
  },
  {
   "cell_type": "markdown",
   "id": "6516f55c-edd6-4fe1-8a84-a50c230eacfb",
   "metadata": {},
   "source": [
    "# Exercises: Time deltas\n",
    "\n",
    "With the data from the July, 2020 NYC taxi file:\n",
    "\n",
    "- Create a `trip_time` column, by subtracing the pickup time from the dropoff time.\n",
    "- Find the mean `total_amount` for trips that were less than 1 minute long. How many such trips were there?\n",
    "- Find the mean `trip_distance` for trips that were > 1 hour long. How many such trips were there?"
   ]
  },
  {
   "cell_type": "code",
   "execution_count": 77,
   "id": "859c8dc7-1fd2-49b8-8bba-4e10467dcfac",
   "metadata": {},
   "outputs": [
    {
     "data": {
      "text/html": [
       "<div>\n",
       "<style scoped>\n",
       "    .dataframe tbody tr th:only-of-type {\n",
       "        vertical-align: middle;\n",
       "    }\n",
       "\n",
       "    .dataframe tbody tr th {\n",
       "        vertical-align: top;\n",
       "    }\n",
       "\n",
       "    .dataframe thead th {\n",
       "        text-align: right;\n",
       "    }\n",
       "</style>\n",
       "<table border=\"1\" class=\"dataframe\">\n",
       "  <thead>\n",
       "    <tr style=\"text-align: right;\">\n",
       "      <th></th>\n",
       "      <th>tpep_pickup_datetime</th>\n",
       "      <th>tpep_dropoff_datetime</th>\n",
       "      <th>passenger_count</th>\n",
       "      <th>trip_distance</th>\n",
       "      <th>total_amount</th>\n",
       "      <th>trip_time</th>\n",
       "    </tr>\n",
       "  </thead>\n",
       "  <tbody>\n",
       "    <tr>\n",
       "      <th>0</th>\n",
       "      <td>2020-07-01 00:25:32</td>\n",
       "      <td>2020-07-01 00:33:39</td>\n",
       "      <td>1.0</td>\n",
       "      <td>1.50</td>\n",
       "      <td>9.30</td>\n",
       "      <td>0 days 00:08:07</td>\n",
       "    </tr>\n",
       "    <tr>\n",
       "      <th>1</th>\n",
       "      <td>2020-07-01 00:03:19</td>\n",
       "      <td>2020-07-01 00:25:43</td>\n",
       "      <td>1.0</td>\n",
       "      <td>9.50</td>\n",
       "      <td>27.80</td>\n",
       "      <td>0 days 00:22:24</td>\n",
       "    </tr>\n",
       "    <tr>\n",
       "      <th>2</th>\n",
       "      <td>2020-07-01 00:15:11</td>\n",
       "      <td>2020-07-01 00:29:24</td>\n",
       "      <td>1.0</td>\n",
       "      <td>5.85</td>\n",
       "      <td>22.30</td>\n",
       "      <td>0 days 00:14:13</td>\n",
       "    </tr>\n",
       "    <tr>\n",
       "      <th>3</th>\n",
       "      <td>2020-07-01 00:30:49</td>\n",
       "      <td>2020-07-01 00:38:26</td>\n",
       "      <td>1.0</td>\n",
       "      <td>1.90</td>\n",
       "      <td>14.16</td>\n",
       "      <td>0 days 00:07:37</td>\n",
       "    </tr>\n",
       "    <tr>\n",
       "      <th>4</th>\n",
       "      <td>2020-07-01 00:31:26</td>\n",
       "      <td>2020-07-01 00:38:02</td>\n",
       "      <td>1.0</td>\n",
       "      <td>1.25</td>\n",
       "      <td>7.80</td>\n",
       "      <td>0 days 00:06:36</td>\n",
       "    </tr>\n",
       "  </tbody>\n",
       "</table>\n",
       "</div>"
      ],
      "text/plain": [
       "  tpep_pickup_datetime tpep_dropoff_datetime  passenger_count  trip_distance  \\\n",
       "0  2020-07-01 00:25:32   2020-07-01 00:33:39              1.0           1.50   \n",
       "1  2020-07-01 00:03:19   2020-07-01 00:25:43              1.0           9.50   \n",
       "2  2020-07-01 00:15:11   2020-07-01 00:29:24              1.0           5.85   \n",
       "3  2020-07-01 00:30:49   2020-07-01 00:38:26              1.0           1.90   \n",
       "4  2020-07-01 00:31:26   2020-07-01 00:38:02              1.0           1.25   \n",
       "\n",
       "   total_amount       trip_time  \n",
       "0          9.30 0 days 00:08:07  \n",
       "1         27.80 0 days 00:22:24  \n",
       "2         22.30 0 days 00:14:13  \n",
       "3         14.16 0 days 00:07:37  \n",
       "4          7.80 0 days 00:06:36  "
      ]
     },
     "execution_count": 77,
     "metadata": {},
     "output_type": "execute_result"
    }
   ],
   "source": [
    "df.head()"
   ]
  },
  {
   "cell_type": "code",
   "execution_count": 83,
   "id": "e179a15c-b822-48cd-8c4e-e901e01d3cc6",
   "metadata": {},
   "outputs": [
    {
     "data": {
      "text/plain": [
       "15.654617368081777"
      ]
     },
     "execution_count": 83,
     "metadata": {},
     "output_type": "execute_result"
    }
   ],
   "source": [
    "df.loc[\n",
    "    df['trip_time'] < '1 minute',\n",
    "    'total_amount'\n",
    "].mean()"
   ]
  },
  {
   "cell_type": "code",
   "execution_count": 86,
   "id": "c0712f4a-10cc-4f9a-83f9-3ab16a7de4cb",
   "metadata": {},
   "outputs": [
    {
     "data": {
      "text/plain": [
       "13.059049645390072"
      ]
     },
     "execution_count": 86,
     "metadata": {},
     "output_type": "execute_result"
    }
   ],
   "source": [
    "df.loc[\n",
    "    df['trip_time'] > '1 hour',\n",
    "    'trip_distance'\n",
    "].mean()"
   ]
  },
  {
   "cell_type": "code",
   "execution_count": 89,
   "id": "79447969-4732-4e12-a44e-d78849d93b23",
   "metadata": {},
   "outputs": [
    {
     "data": {
      "text/plain": [
       "274157     9.28\n",
       "379415     0.88\n",
       "399090     0.00\n",
       "492526    11.43\n",
       "520224     8.19\n",
       "534889     1.18\n",
       "Name: trip_distance, dtype: float64"
      ]
     },
     "execution_count": 89,
     "metadata": {},
     "output_type": "execute_result"
    }
   ],
   "source": [
    "df.loc[\n",
    "    df['trip_time'] > '24 hours',\n",
    "    'trip_distance'\n",
    "]"
   ]
  },
  {
   "cell_type": "markdown",
   "id": "7ec86afa-b89b-4d27-9dbd-a305ba384f20",
   "metadata": {},
   "source": [
    "# Time series\n",
    "\n",
    "If I set a datetime column to be my data frame's index, I get a \"time series,\" and can perform some special operations on it."
   ]
  },
  {
   "cell_type": "code",
   "execution_count": 90,
   "id": "80fc0a61-5d3e-4562-b622-192b3cd55de3",
   "metadata": {},
   "outputs": [],
   "source": [
    "df = df.set_index('tpep_pickup_datetime')"
   ]
  },
  {
   "cell_type": "code",
   "execution_count": 91,
   "id": "5b05bba2-9b27-427b-ae00-3f53ee91e6a6",
   "metadata": {},
   "outputs": [
    {
     "data": {
      "text/html": [
       "<div>\n",
       "<style scoped>\n",
       "    .dataframe tbody tr th:only-of-type {\n",
       "        vertical-align: middle;\n",
       "    }\n",
       "\n",
       "    .dataframe tbody tr th {\n",
       "        vertical-align: top;\n",
       "    }\n",
       "\n",
       "    .dataframe thead th {\n",
       "        text-align: right;\n",
       "    }\n",
       "</style>\n",
       "<table border=\"1\" class=\"dataframe\">\n",
       "  <thead>\n",
       "    <tr style=\"text-align: right;\">\n",
       "      <th></th>\n",
       "      <th>tpep_dropoff_datetime</th>\n",
       "      <th>passenger_count</th>\n",
       "      <th>trip_distance</th>\n",
       "      <th>total_amount</th>\n",
       "      <th>trip_time</th>\n",
       "    </tr>\n",
       "    <tr>\n",
       "      <th>tpep_pickup_datetime</th>\n",
       "      <th></th>\n",
       "      <th></th>\n",
       "      <th></th>\n",
       "      <th></th>\n",
       "      <th></th>\n",
       "    </tr>\n",
       "  </thead>\n",
       "  <tbody>\n",
       "    <tr>\n",
       "      <th>2020-07-01 00:25:32</th>\n",
       "      <td>2020-07-01 00:33:39</td>\n",
       "      <td>1.0</td>\n",
       "      <td>1.50</td>\n",
       "      <td>9.30</td>\n",
       "      <td>0 days 00:08:07</td>\n",
       "    </tr>\n",
       "    <tr>\n",
       "      <th>2020-07-01 00:03:19</th>\n",
       "      <td>2020-07-01 00:25:43</td>\n",
       "      <td>1.0</td>\n",
       "      <td>9.50</td>\n",
       "      <td>27.80</td>\n",
       "      <td>0 days 00:22:24</td>\n",
       "    </tr>\n",
       "    <tr>\n",
       "      <th>2020-07-01 00:15:11</th>\n",
       "      <td>2020-07-01 00:29:24</td>\n",
       "      <td>1.0</td>\n",
       "      <td>5.85</td>\n",
       "      <td>22.30</td>\n",
       "      <td>0 days 00:14:13</td>\n",
       "    </tr>\n",
       "    <tr>\n",
       "      <th>2020-07-01 00:30:49</th>\n",
       "      <td>2020-07-01 00:38:26</td>\n",
       "      <td>1.0</td>\n",
       "      <td>1.90</td>\n",
       "      <td>14.16</td>\n",
       "      <td>0 days 00:07:37</td>\n",
       "    </tr>\n",
       "    <tr>\n",
       "      <th>2020-07-01 00:31:26</th>\n",
       "      <td>2020-07-01 00:38:02</td>\n",
       "      <td>1.0</td>\n",
       "      <td>1.25</td>\n",
       "      <td>7.80</td>\n",
       "      <td>0 days 00:06:36</td>\n",
       "    </tr>\n",
       "  </tbody>\n",
       "</table>\n",
       "</div>"
      ],
      "text/plain": [
       "                     tpep_dropoff_datetime  passenger_count  trip_distance  \\\n",
       "tpep_pickup_datetime                                                         \n",
       "2020-07-01 00:25:32    2020-07-01 00:33:39              1.0           1.50   \n",
       "2020-07-01 00:03:19    2020-07-01 00:25:43              1.0           9.50   \n",
       "2020-07-01 00:15:11    2020-07-01 00:29:24              1.0           5.85   \n",
       "2020-07-01 00:30:49    2020-07-01 00:38:26              1.0           1.90   \n",
       "2020-07-01 00:31:26    2020-07-01 00:38:02              1.0           1.25   \n",
       "\n",
       "                      total_amount       trip_time  \n",
       "tpep_pickup_datetime                                \n",
       "2020-07-01 00:25:32           9.30 0 days 00:08:07  \n",
       "2020-07-01 00:03:19          27.80 0 days 00:22:24  \n",
       "2020-07-01 00:15:11          22.30 0 days 00:14:13  \n",
       "2020-07-01 00:30:49          14.16 0 days 00:07:37  \n",
       "2020-07-01 00:31:26           7.80 0 days 00:06:36  "
      ]
     },
     "execution_count": 91,
     "metadata": {},
     "output_type": "execute_result"
    }
   ],
   "source": [
    "df.head()"
   ]
  },
  {
   "cell_type": "code",
   "execution_count": 97,
   "id": "12f239d2-c760-44aa-806d-35c10343850f",
   "metadata": {},
   "outputs": [
    {
     "data": {
      "text/html": [
       "<div>\n",
       "<style scoped>\n",
       "    .dataframe tbody tr th:only-of-type {\n",
       "        vertical-align: middle;\n",
       "    }\n",
       "\n",
       "    .dataframe tbody tr th {\n",
       "        vertical-align: top;\n",
       "    }\n",
       "\n",
       "    .dataframe thead th {\n",
       "        text-align: right;\n",
       "    }\n",
       "</style>\n",
       "<table border=\"1\" class=\"dataframe\">\n",
       "  <thead>\n",
       "    <tr style=\"text-align: right;\">\n",
       "      <th></th>\n",
       "      <th>tpep_dropoff_datetime</th>\n",
       "      <th>passenger_count</th>\n",
       "      <th>trip_distance</th>\n",
       "      <th>total_amount</th>\n",
       "      <th>trip_time</th>\n",
       "    </tr>\n",
       "    <tr>\n",
       "      <th>tpep_pickup_datetime</th>\n",
       "      <th></th>\n",
       "      <th></th>\n",
       "      <th></th>\n",
       "      <th></th>\n",
       "      <th></th>\n",
       "    </tr>\n",
       "  </thead>\n",
       "  <tbody>\n",
       "    <tr>\n",
       "      <th>2020-07-01 09:00:00</th>\n",
       "      <td>2020-07-01 09:37:00</td>\n",
       "      <td>NaN</td>\n",
       "      <td>5.84</td>\n",
       "      <td>30.32</td>\n",
       "      <td>0 days 00:37:00</td>\n",
       "    </tr>\n",
       "    <tr>\n",
       "      <th>2020-07-01 09:00:00</th>\n",
       "      <td>2020-07-01 09:11:00</td>\n",
       "      <td>NaN</td>\n",
       "      <td>4.27</td>\n",
       "      <td>26.74</td>\n",
       "      <td>0 days 00:11:00</td>\n",
       "    </tr>\n",
       "  </tbody>\n",
       "</table>\n",
       "</div>"
      ],
      "text/plain": [
       "                     tpep_dropoff_datetime  passenger_count  trip_distance  \\\n",
       "tpep_pickup_datetime                                                         \n",
       "2020-07-01 09:00:00    2020-07-01 09:37:00              NaN           5.84   \n",
       "2020-07-01 09:00:00    2020-07-01 09:11:00              NaN           4.27   \n",
       "\n",
       "                      total_amount       trip_time  \n",
       "tpep_pickup_datetime                                \n",
       "2020-07-01 09:00:00          30.32 0 days 00:37:00  \n",
       "2020-07-01 09:00:00          26.74 0 days 00:11:00  "
      ]
     },
     "execution_count": 97,
     "metadata": {},
     "output_type": "execute_result"
    }
   ],
   "source": [
    "# now I can retrieve all of the rows from a particular datetime\n",
    "\n",
    "df.loc['2020-07-01 09:00:00']"
   ]
  },
  {
   "cell_type": "code",
   "execution_count": null,
   "id": "6c7ad81d-d74d-429e-ae6e-72b267e53eaa",
   "metadata": {},
   "outputs": [],
   "source": []
  }
 ],
 "metadata": {
  "kernelspec": {
   "display_name": "Python 3 (ipykernel)",
   "language": "python",
   "name": "python3"
  },
  "language_info": {
   "codemirror_mode": {
    "name": "ipython",
    "version": 3
   },
   "file_extension": ".py",
   "mimetype": "text/x-python",
   "name": "python",
   "nbconvert_exporter": "python",
   "pygments_lexer": "ipython3",
   "version": "3.12.3"
  }
 },
 "nbformat": 4,
 "nbformat_minor": 5
}
