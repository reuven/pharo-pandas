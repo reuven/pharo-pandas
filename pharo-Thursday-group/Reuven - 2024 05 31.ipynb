{
 "cells": [
  {
   "cell_type": "markdown",
   "id": "ba037cf4-48dc-4a17-a57a-06c57ee2f43a",
   "metadata": {},
   "source": [
    "# Agenda: Indexing and dtypes\n",
    "\n",
    "- Indexes\n",
    "    - Setting\n",
    "    - Resetting\n",
    "- `inplace=True`\n",
    "- dtypes"
   ]
  },
  {
   "cell_type": "code",
   "execution_count": 1,
   "id": "86980a9a-d351-4e0b-9dd4-8e8b5f200ca2",
   "metadata": {},
   "outputs": [
    {
     "name": "stdout",
     "output_type": "stream",
     "text": [
      "The history saving thread hit an unexpected error (OperationalError('attempt to write a readonly database')).History will not be written to the database.\n"
     ]
    }
   ],
   "source": [
    "import numpy as np\n",
    "import pandas as pd\n",
    "from pandas import Series, DataFrame"
   ]
  },
  {
   "cell_type": "code",
   "execution_count": null,
   "id": "0983327a-876f-45fe-b935-0047f80e7d31",
   "metadata": {},
   "outputs": [],
   "source": []
  }
 ],
 "metadata": {
  "kernelspec": {
   "display_name": "Python 3 (ipykernel)",
   "language": "python",
   "name": "python3"
  },
  "language_info": {
   "codemirror_mode": {
    "name": "ipython",
    "version": 3
   },
   "file_extension": ".py",
   "mimetype": "text/x-python",
   "name": "python",
   "nbconvert_exporter": "python",
   "pygments_lexer": "ipython3",
   "version": "3.12.3"
  }
 },
 "nbformat": 4,
 "nbformat_minor": 5
}
