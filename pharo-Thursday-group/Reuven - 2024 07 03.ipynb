{
 "cells": [
  {
   "cell_type": "markdown",
   "id": "71252f98-ba6f-445c-a0a8-79985d9f5e34",
   "metadata": {},
   "source": [
    "# Grouping\n",
    "\n",
    "1. Simple grouping\n",
    "2. More complex grouping\n",
    "    - Grouping on more than one categorical column\n",
    "    - Grouping on more than one numeric column\n",
    "    - Using more than one aggregation method\n",
    "3. Pivot tables (2D grouping -- on two categorical columns)\n",
    "4. Stacking and unstacking -- moving things from rows to columns and back"
   ]
  },
  {
   "cell_type": "code",
   "execution_count": null,
   "id": "8a836bdc-8514-4e41-b521-7e108a0340d6",
   "metadata": {},
   "outputs": [],
   "source": []
  }
 ],
 "metadata": {
  "kernelspec": {
   "display_name": "Python 3 (ipykernel)",
   "language": "python",
   "name": "python3"
  },
  "language_info": {
   "codemirror_mode": {
    "name": "ipython",
    "version": 3
   },
   "file_extension": ".py",
   "mimetype": "text/x-python",
   "name": "python",
   "nbconvert_exporter": "python",
   "pygments_lexer": "ipython3",
   "version": "3.12.3"
  }
 },
 "nbformat": 4,
 "nbformat_minor": 5
}
