{
 "cells": [
  {
   "cell_type": "markdown",
   "id": "71252f98-ba6f-445c-a0a8-79985d9f5e34",
   "metadata": {},
   "source": [
    "# Grouping\n",
    "\n",
    "1. Simple grouping\n",
    "2. More complex grouping\n",
    "    - Grouping on more than one categorical column\n",
    "    - Grouping on more than one numeric column\n",
    "    - Using more than one aggregation method\n",
    "3. Pivot tables (2D grouping -- on two categorical columns)\n",
    "4. Stacking and unstacking -- moving things from rows to columns and back"
   ]
  },
  {
   "cell_type": "code",
   "execution_count": 2,
   "id": "8a836bdc-8514-4e41-b521-7e108a0340d6",
   "metadata": {},
   "outputs": [],
   "source": [
    "import numpy as np\n",
    "import pandas as pd\n",
    "from pandas import Series, DataFrame"
   ]
  },
  {
   "cell_type": "code",
   "execution_count": 3,
   "id": "282d8937-6212-475f-970f-abe0a61b16a7",
   "metadata": {},
   "outputs": [],
   "source": [
    "filename = '../data/taxi.csv'   # 10k taxi rides from NYC in 2015\n",
    "df = pd.read_csv(filename)"
   ]
  },
  {
   "cell_type": "code",
   "execution_count": 4,
   "id": "379a34be-5712-4188-9617-afe8effa4728",
   "metadata": {},
   "outputs": [
    {
     "data": {
      "text/html": [
       "<div>\n",
       "<style scoped>\n",
       "    .dataframe tbody tr th:only-of-type {\n",
       "        vertical-align: middle;\n",
       "    }\n",
       "\n",
       "    .dataframe tbody tr th {\n",
       "        vertical-align: top;\n",
       "    }\n",
       "\n",
       "    .dataframe thead th {\n",
       "        text-align: right;\n",
       "    }\n",
       "</style>\n",
       "<table border=\"1\" class=\"dataframe\">\n",
       "  <thead>\n",
       "    <tr style=\"text-align: right;\">\n",
       "      <th></th>\n",
       "      <th>VendorID</th>\n",
       "      <th>tpep_pickup_datetime</th>\n",
       "      <th>tpep_dropoff_datetime</th>\n",
       "      <th>passenger_count</th>\n",
       "      <th>trip_distance</th>\n",
       "      <th>pickup_longitude</th>\n",
       "      <th>pickup_latitude</th>\n",
       "      <th>RateCodeID</th>\n",
       "      <th>store_and_fwd_flag</th>\n",
       "      <th>dropoff_longitude</th>\n",
       "      <th>dropoff_latitude</th>\n",
       "      <th>payment_type</th>\n",
       "      <th>fare_amount</th>\n",
       "      <th>extra</th>\n",
       "      <th>mta_tax</th>\n",
       "      <th>tip_amount</th>\n",
       "      <th>tolls_amount</th>\n",
       "      <th>improvement_surcharge</th>\n",
       "      <th>total_amount</th>\n",
       "    </tr>\n",
       "  </thead>\n",
       "  <tbody>\n",
       "    <tr>\n",
       "      <th>0</th>\n",
       "      <td>2</td>\n",
       "      <td>2015-06-02 11:19:29</td>\n",
       "      <td>2015-06-02 11:47:52</td>\n",
       "      <td>1</td>\n",
       "      <td>1.63</td>\n",
       "      <td>-73.954430</td>\n",
       "      <td>40.764141</td>\n",
       "      <td>1</td>\n",
       "      <td>N</td>\n",
       "      <td>-73.974754</td>\n",
       "      <td>40.754093</td>\n",
       "      <td>2</td>\n",
       "      <td>17.0</td>\n",
       "      <td>0.0</td>\n",
       "      <td>0.5</td>\n",
       "      <td>0.00</td>\n",
       "      <td>0.0</td>\n",
       "      <td>0.3</td>\n",
       "      <td>17.80</td>\n",
       "    </tr>\n",
       "    <tr>\n",
       "      <th>1</th>\n",
       "      <td>2</td>\n",
       "      <td>2015-06-02 11:19:30</td>\n",
       "      <td>2015-06-02 11:27:56</td>\n",
       "      <td>1</td>\n",
       "      <td>0.46</td>\n",
       "      <td>-73.971443</td>\n",
       "      <td>40.758942</td>\n",
       "      <td>1</td>\n",
       "      <td>N</td>\n",
       "      <td>-73.978539</td>\n",
       "      <td>40.761909</td>\n",
       "      <td>1</td>\n",
       "      <td>6.5</td>\n",
       "      <td>0.0</td>\n",
       "      <td>0.5</td>\n",
       "      <td>1.00</td>\n",
       "      <td>0.0</td>\n",
       "      <td>0.3</td>\n",
       "      <td>8.30</td>\n",
       "    </tr>\n",
       "    <tr>\n",
       "      <th>2</th>\n",
       "      <td>2</td>\n",
       "      <td>2015-06-02 11:19:31</td>\n",
       "      <td>2015-06-02 11:30:30</td>\n",
       "      <td>1</td>\n",
       "      <td>0.87</td>\n",
       "      <td>-73.978111</td>\n",
       "      <td>40.738434</td>\n",
       "      <td>1</td>\n",
       "      <td>N</td>\n",
       "      <td>-73.990273</td>\n",
       "      <td>40.745438</td>\n",
       "      <td>1</td>\n",
       "      <td>8.0</td>\n",
       "      <td>0.0</td>\n",
       "      <td>0.5</td>\n",
       "      <td>2.20</td>\n",
       "      <td>0.0</td>\n",
       "      <td>0.3</td>\n",
       "      <td>11.00</td>\n",
       "    </tr>\n",
       "    <tr>\n",
       "      <th>3</th>\n",
       "      <td>2</td>\n",
       "      <td>2015-06-02 11:19:31</td>\n",
       "      <td>2015-06-02 11:39:02</td>\n",
       "      <td>1</td>\n",
       "      <td>2.13</td>\n",
       "      <td>-73.945892</td>\n",
       "      <td>40.773529</td>\n",
       "      <td>1</td>\n",
       "      <td>N</td>\n",
       "      <td>-73.971527</td>\n",
       "      <td>40.760330</td>\n",
       "      <td>1</td>\n",
       "      <td>13.5</td>\n",
       "      <td>0.0</td>\n",
       "      <td>0.5</td>\n",
       "      <td>2.86</td>\n",
       "      <td>0.0</td>\n",
       "      <td>0.3</td>\n",
       "      <td>17.16</td>\n",
       "    </tr>\n",
       "    <tr>\n",
       "      <th>4</th>\n",
       "      <td>1</td>\n",
       "      <td>2015-06-02 11:19:32</td>\n",
       "      <td>2015-06-02 11:32:49</td>\n",
       "      <td>1</td>\n",
       "      <td>1.40</td>\n",
       "      <td>-73.979088</td>\n",
       "      <td>40.776772</td>\n",
       "      <td>1</td>\n",
       "      <td>N</td>\n",
       "      <td>-73.982162</td>\n",
       "      <td>40.758999</td>\n",
       "      <td>2</td>\n",
       "      <td>9.5</td>\n",
       "      <td>0.0</td>\n",
       "      <td>0.5</td>\n",
       "      <td>0.00</td>\n",
       "      <td>0.0</td>\n",
       "      <td>0.3</td>\n",
       "      <td>10.30</td>\n",
       "    </tr>\n",
       "  </tbody>\n",
       "</table>\n",
       "</div>"
      ],
      "text/plain": [
       "   VendorID tpep_pickup_datetime tpep_dropoff_datetime  passenger_count  \\\n",
       "0         2  2015-06-02 11:19:29   2015-06-02 11:47:52                1   \n",
       "1         2  2015-06-02 11:19:30   2015-06-02 11:27:56                1   \n",
       "2         2  2015-06-02 11:19:31   2015-06-02 11:30:30                1   \n",
       "3         2  2015-06-02 11:19:31   2015-06-02 11:39:02                1   \n",
       "4         1  2015-06-02 11:19:32   2015-06-02 11:32:49                1   \n",
       "\n",
       "   trip_distance  pickup_longitude  pickup_latitude  RateCodeID  \\\n",
       "0           1.63        -73.954430        40.764141           1   \n",
       "1           0.46        -73.971443        40.758942           1   \n",
       "2           0.87        -73.978111        40.738434           1   \n",
       "3           2.13        -73.945892        40.773529           1   \n",
       "4           1.40        -73.979088        40.776772           1   \n",
       "\n",
       "  store_and_fwd_flag  dropoff_longitude  dropoff_latitude  payment_type  \\\n",
       "0                  N         -73.974754         40.754093             2   \n",
       "1                  N         -73.978539         40.761909             1   \n",
       "2                  N         -73.990273         40.745438             1   \n",
       "3                  N         -73.971527         40.760330             1   \n",
       "4                  N         -73.982162         40.758999             2   \n",
       "\n",
       "   fare_amount  extra  mta_tax  tip_amount  tolls_amount  \\\n",
       "0         17.0    0.0      0.5        0.00           0.0   \n",
       "1          6.5    0.0      0.5        1.00           0.0   \n",
       "2          8.0    0.0      0.5        2.20           0.0   \n",
       "3         13.5    0.0      0.5        2.86           0.0   \n",
       "4          9.5    0.0      0.5        0.00           0.0   \n",
       "\n",
       "   improvement_surcharge  total_amount  \n",
       "0                    0.3         17.80  \n",
       "1                    0.3          8.30  \n",
       "2                    0.3         11.00  \n",
       "3                    0.3         17.16  \n",
       "4                    0.3         10.30  "
      ]
     },
     "execution_count": 4,
     "metadata": {},
     "output_type": "execute_result"
    }
   ],
   "source": [
    "df.head()"
   ]
  },
  {
   "cell_type": "code",
   "execution_count": 6,
   "id": "dd5cc25b-4f58-4b10-81f2-2adc9211f952",
   "metadata": {},
   "outputs": [
    {
     "data": {
      "text/plain": [
       "3.0923380047176354"
      ]
     },
     "execution_count": 6,
     "metadata": {},
     "output_type": "execute_result"
    }
   ],
   "source": [
    "# I want the mean trip_distance where passenger_count is 1\n",
    "\n",
    "df.loc[\n",
    "    df['passenger_count'] == 1     # row selector\n",
    "    ,\n",
    "    'trip_distance'    # column selector\n",
    "].mean()"
   ]
  },
  {
   "cell_type": "code",
   "execution_count": 7,
   "id": "54653221-dbc6-4752-8914-30d71f0100aa",
   "metadata": {},
   "outputs": [
    {
     "data": {
      "text/plain": [
       "3.3843869002284848"
      ]
     },
     "execution_count": 7,
     "metadata": {},
     "output_type": "execute_result"
    }
   ],
   "source": [
    "# but what if I want to perform the same calculation for passenger_count == 2\n",
    "\n",
    "df.loc[\n",
    "    df['passenger_count'] == 2     # row selector\n",
    "    ,\n",
    "    'trip_distance'    # column selector\n",
    "].mean()"
   ]
  },
  {
   "cell_type": "code",
   "execution_count": 8,
   "id": "55417fd9-5eb5-49a9-8b00-8cf87d1a3165",
   "metadata": {},
   "outputs": [
    {
     "data": {
      "text/plain": [
       "3.3423891625615765"
      ]
     },
     "execution_count": 8,
     "metadata": {},
     "output_type": "execute_result"
    }
   ],
   "source": [
    "# but what if I want to perform the same calculation for passenger_count == 3\n",
    "\n",
    "df.loc[\n",
    "    df['passenger_count'] == 3     # row selector\n",
    "    ,\n",
    "    'trip_distance'    # column selector\n",
    "].mean()"
   ]
  },
  {
   "cell_type": "markdown",
   "id": "b0facb8c-d872-486f-8808-a0b34fcb0eb6",
   "metadata": {},
   "source": [
    "What we're doing (manually) is taking each distinct/unique value in `passenger_count` and we're running our query on it.\n",
    "\n",
    "The whole point of grouping is to ask Pandas to do this same task for us, calculating once for each distinct value in `passenger_count`.\n",
    "\n",
    "The way to think about grouping is as follows:\n",
    "\n",
    "- One categorical column, on which we'll do the grouping. We'll get one result for each distinct value in this column.\n",
    "- One numeric column, on which we'll perform the calculation.\n",
    "- One aggregation method, which will be invoked on all of the values in the numeric column for each distinct value of the categorical\n",
    "\n",
    "In our example above:\n",
    "- passenger_count is categorical\n",
    "- trip_distance is numeric\n",
    "- mean is an aggregation method"
   ]
  },
  {
   "cell_type": "code",
   "execution_count": 9,
   "id": "feaa62f9-543d-487a-864f-d37a32143633",
   "metadata": {},
   "outputs": [
    {
     "data": {
      "text/plain": [
       "passenger_count\n",
       "0    4.600000\n",
       "1    3.092338\n",
       "2    3.384387\n",
       "3    3.342389\n",
       "4    3.628901\n",
       "5    3.182712\n",
       "6    3.170976\n",
       "Name: trip_distance, dtype: float64"
      ]
     },
     "execution_count": 9,
     "metadata": {},
     "output_type": "execute_result"
    }
   ],
   "source": [
    "# df.groupby(CATEGORICAL)[NUMERIC].aggregate()\n",
    "\n",
    "df.groupby('passenger_count')['trip_distance'].mean()"
   ]
  },
  {
   "cell_type": "code",
   "execution_count": 10,
   "id": "18c0be7f-8f0a-4340-89b7-3a703e969314",
   "metadata": {},
   "outputs": [
    {
     "data": {
      "text/plain": [
       "passenger_count\n",
       "1    3.092338\n",
       "4    3.628901\n",
       "3    3.342389\n",
       "2    3.384387\n",
       "5    3.182712\n",
       "6    3.170976\n",
       "0    4.600000\n",
       "Name: trip_distance, dtype: float64"
      ]
     },
     "execution_count": 10,
     "metadata": {},
     "output_type": "execute_result"
    }
   ],
   "source": [
    "# normally, it's not a bad thing that Pandas automatically sorts the distinct values in \n",
    "# passenger_count and then displays them in that order. However, if you're going to reorder\n",
    "# them, or if you want to save a bit of calculation, you can pass the sort=False keyword\n",
    "# argument.\n",
    "\n",
    "df.groupby('passenger_count', sort=False)['trip_distance'].mean()"
   ]
  },
  {
   "cell_type": "code",
   "execution_count": 11,
   "id": "4fb8c199-113d-4722-a1c9-d7641df59f2e",
   "metadata": {},
   "outputs": [
    {
     "data": {
      "text/plain": [
       "<pandas.core.groupby.generic.SeriesGroupBy object at 0x7f44bb0e1c40>"
      ]
     },
     "execution_count": 11,
     "metadata": {},
     "output_type": "execute_result"
    }
   ],
   "source": [
    "# what does groupby return?\n",
    "\n",
    "df.groupby('passenger_count')['trip_distance']"
   ]
  },
  {
   "cell_type": "code",
   "execution_count": 12,
   "id": "37e2eabe-c009-46f8-af33-bb00d262b386",
   "metadata": {},
   "outputs": [
    {
     "data": {
      "text/plain": [
       "passenger_count\n",
       "6    3.170976\n",
       "5    3.182712\n",
       "4    3.628901\n",
       "3    3.342389\n",
       "2    3.384387\n",
       "1    3.092338\n",
       "0    4.600000\n",
       "Name: trip_distance, dtype: float64"
      ]
     },
     "execution_count": 12,
     "metadata": {},
     "output_type": "execute_result"
    }
   ],
   "source": [
    "df.groupby('passenger_count', sort=False)['trip_distance'].mean().sort_index(ascending=False)"
   ]
  },
  {
   "cell_type": "code",
   "execution_count": 13,
   "id": "0b649ddf-620a-4923-a1ec-35a1c7a17562",
   "metadata": {},
   "outputs": [
    {
     "name": "stdout",
     "output_type": "stream",
     "text": [
      "\"ID\",\"Name\",\"Sex\",\"Age\",\"Height\",\"Weight\",\"Team\",\"NOC\",\"Games\",\"Year\",\"Season\",\"City\",\"Sport\",\"Event\",\"Medal\"\n",
      "\"1\",\"A Dijiang\",\"M\",24,180,80,\"China\",\"CHN\",\"1992 Summer\",1992,\"Summer\",\"Barcelona\",\"Basketball\",\"Basketball Men's Basketball\",NA\n",
      "\"2\",\"A Lamusi\",\"M\",23,170,60,\"China\",\"CHN\",\"2012 Summer\",2012,\"Summer\",\"London\",\"Judo\",\"Judo Men's Extra-Lightweight\",NA\n",
      "\"3\",\"Gunnar Nielsen Aaby\",\"M\",24,NA,NA,\"Denmark\",\"DEN\",\"1920 Summer\",1920,\"Summer\",\"Antwerpen\",\"Football\",\"Football Men's Football\",NA\n",
      "\"4\",\"Edgar Lindenau Aabye\",\"M\",34,NA,NA,\"Denmark/Sweden\",\"DEN\",\"1900 Summer\",1900,\"Summer\",\"Paris\",\"Tug-Of-War\",\"Tug-Of-War Men's Tug-Of-War\",\"Gold\"\n",
      "\"5\",\"Christine Jacoba Aaftink\",\"F\",21,185,82,\"Netherlands\",\"NED\",\"1988 Winter\",1988,\"Winter\",\"Calgary\",\"Speed Skating\",\"Speed Skating Women's 500 metres\",NA\n",
      "\"5\",\"Christine Jacoba Aaftink\",\"F\",21,185,82,\"Netherlands\",\"NED\",\"1988 Winter\",1988,\"Winter\",\"Calgary\",\"Speed Skating\",\"Speed Skating Women's 1,000 metres\",NA\n",
      "\"5\",\"Christine Jacoba Aaftink\",\"F\",25,185,82,\"Netherlands\",\"NED\",\"1992 Winter\",1992,\"Winter\",\"Albertville\",\"Speed Skating\",\"Speed Skating Women's 500 metres\",NA\n",
      "\"5\",\"Christine Jacoba Aaftink\",\"F\",25,185,82,\"Netherlands\",\"NED\",\"1992 Winter\",1992,\"Winter\",\"Albertville\",\"Speed Skating\",\"Speed Skating Women's 1,000 metres\",NA\n",
      "\"5\",\"Christine Jacoba Aaftink\",\"F\",27,185,82,\"Netherlands\",\"NED\",\"1994 Winter\",1994,\"Winter\",\"Lillehammer\",\"Speed Skating\",\"Speed Skating Women's 500 metres\",NA\n"
     ]
    }
   ],
   "source": [
    "filename = '../data/olympic_athlete_events.csv'   # all athletes from all Olympic games through 2020\n",
    "\n",
    "!head $filename"
   ]
  },
  {
   "cell_type": "markdown",
   "id": "1c873d1d-b6b9-4145-997d-e80834aa7e71",
   "metadata": {},
   "source": [
    "# Exercise: Olympic calculations\n",
    "\n",
    "1. Read the Olympic data into a data frame.\n",
    "2. Find the mean age for people in each sport.\n",
    "3. Find the max height for people in each sport after 1960."
   ]
  },
  {
   "cell_type": "code",
   "execution_count": 14,
   "id": "e02cc9ac-692a-4fcf-86b9-945aee565135",
   "metadata": {},
   "outputs": [],
   "source": [
    "df = pd.read_csv(filename)"
   ]
  },
  {
   "cell_type": "code",
   "execution_count": 15,
   "id": "07271baf-985f-4406-a068-21b17b340727",
   "metadata": {},
   "outputs": [
    {
     "data": {
      "text/plain": [
       "(271116, 15)"
      ]
     },
     "execution_count": 15,
     "metadata": {},
     "output_type": "execute_result"
    }
   ],
   "source": [
    "df.shape"
   ]
  },
  {
   "cell_type": "code",
   "execution_count": 16,
   "id": "0d2c3764-1e55-45a2-9d00-ecbfe216165e",
   "metadata": {},
   "outputs": [
    {
     "data": {
      "text/plain": [
       "Sport\n",
       "Aeronautics         26.000000\n",
       "Alpine Skiing       23.205462\n",
       "Alpinism            38.812500\n",
       "Archery             27.935226\n",
       "Art Competitions    45.901009\n",
       "                      ...    \n",
       "Tug-Of-War          29.309524\n",
       "Volleyball          25.183800\n",
       "Water Polo          25.659627\n",
       "Weightlifting       25.502010\n",
       "Wrestling           25.798289\n",
       "Name: Age, Length: 66, dtype: float64"
      ]
     },
     "execution_count": 16,
     "metadata": {},
     "output_type": "execute_result"
    }
   ],
   "source": [
    "# find the mean age for people in each sport\n",
    "\n",
    "df.groupby('Sport')['Age'].mean()"
   ]
  },
  {
   "cell_type": "code",
   "execution_count": 17,
   "id": "2fc89fce-5a7f-4646-ab68-38d8856b9e22",
   "metadata": {},
   "outputs": [
    {
     "data": {
      "text/plain": [
       "Sport\n",
       "Rhythmic Gymnastics      18.737082\n",
       "Swimming                 20.566803\n",
       "Figure Skating           22.232190\n",
       "Synchronized Swimming    22.366851\n",
       "Diving                   22.481441\n",
       "                           ...    \n",
       "Equestrianism            34.390831\n",
       "Polo                     35.333333\n",
       "Alpinism                 38.812500\n",
       "Art Competitions         45.901009\n",
       "Roque                    53.333333\n",
       "Name: Age, Length: 66, dtype: float64"
      ]
     },
     "execution_count": 17,
     "metadata": {},
     "output_type": "execute_result"
    }
   ],
   "source": [
    "df.groupby('Sport')['Age'].mean().sort_values()"
   ]
  },
  {
   "cell_type": "code",
   "execution_count": 22,
   "id": "bfae00bc-b741-49fe-92a2-221aa08f9c1e",
   "metadata": {},
   "outputs": [
    {
     "data": {
      "text/plain": [
       "Sport\n",
       "Alpine Skiing                200.0\n",
       "Archery                      197.0\n",
       "Athletics                    208.0\n",
       "Badminton                    201.0\n",
       "Baseball                     206.0\n",
       "Basketball                   226.0\n",
       "Beach Volleyball             212.0\n",
       "Biathlon                     200.0\n",
       "Bobsleigh                    205.0\n",
       "Boxing                       205.0\n",
       "Canoeing                     205.0\n",
       "Cross Country Skiing         200.0\n",
       "Curling                      197.0\n",
       "Cycling                      201.0\n",
       "Diving                       188.0\n",
       "Equestrianism                197.0\n",
       "Fencing                      208.0\n",
       "Figure Skating               193.0\n",
       "Football                     200.0\n",
       "Freestyle Skiing             197.0\n",
       "Golf                         196.0\n",
       "Gymnastics                   185.0\n",
       "Handball                     214.0\n",
       "Hockey                       200.0\n",
       "Ice Hockey                   206.0\n",
       "Judo                         213.0\n",
       "Luge                         199.0\n",
       "Modern Pentathlon            198.0\n",
       "Nordic Combined              193.0\n",
       "Rhythmic Gymnastics          181.0\n",
       "Rowing                       209.0\n",
       "Rugby Sevens                 198.0\n",
       "Sailing                      213.0\n",
       "Shooting                     213.0\n",
       "Short Track Speed Skating    191.0\n",
       "Skeleton                     197.0\n",
       "Ski Jumping                  200.0\n",
       "Snowboarding                 194.0\n",
       "Softball                     198.0\n",
       "Speed Skating                203.0\n",
       "Swimming                     209.0\n",
       "Synchronized Swimming        185.0\n",
       "Table Tennis                 198.0\n",
       "Taekwondo                    207.0\n",
       "Tennis                       208.0\n",
       "Trampolining                 185.0\n",
       "Triathlon                    196.0\n",
       "Volleyball                   219.0\n",
       "Water Polo                   206.0\n",
       "Weightlifting                205.0\n",
       "Wrestling                    214.0\n",
       "Name: Height, dtype: float64"
      ]
     },
     "execution_count": 22,
     "metadata": {},
     "output_type": "execute_result"
    }
   ],
   "source": [
    "# Find the max height for people in each sport after 1960.\n",
    "\n",
    "(\n",
    "    df\n",
    "    .loc[df['Year'] > 1960]\n",
    "    .groupby('Sport')['Height'].max()\n",
    ")"
   ]
  },
  {
   "cell_type": "code",
   "execution_count": 23,
   "id": "9227262c-53d6-44bc-9c2d-4654aff8bb3d",
   "metadata": {},
   "outputs": [
    {
     "data": {
      "text/plain": [
       "trip_distance\n",
       "0.00      31.58194\n",
       "0.01      52.80000\n",
       "0.02      43.46000\n",
       "0.03       3.96000\n",
       "0.04      70.01000\n",
       "           ...    \n",
       "34.84    137.59000\n",
       "35.51    135.13000\n",
       "37.20    210.14000\n",
       "60.30    160.05000\n",
       "64.60     79.96000\n",
       "Name: total_amount, Length: 1219, dtype: float64"
      ]
     },
     "execution_count": 23,
     "metadata": {},
     "output_type": "execute_result"
    }
   ],
   "source": [
    "# can I groupby on a numeric column?\n",
    "# yes - but be careful!\n",
    "\n",
    "df = pd.read_csv('../data/taxi.csv')\n",
    "\n",
    "# for every distinct value of trip_distance...\n",
    "# get the mean total_amount\n",
    "df.groupby('trip_distance')['total_amount'].mean()  "
   ]
  },
  {
   "cell_type": "markdown",
   "id": "56ce1c55-5846-4005-b00f-aacfb8ab77dc",
   "metadata": {},
   "source": [
    "# More complex grouping\n",
    "\n",
    "What if we want (with the taxi data) to group not just by passenger_count, but also by vendorID (i.e., who made the taxi meter)?\n",
    "\n",
    "Meaning: I want to know the mean `trip_distance` not just for every distinct value of `passenger_count`, but for every combination of `passenger_count` and `VendorID`. \n",
    "\n",
    "This requires that we remember a general rule of thumb in Pandas: Wherever you can pass/use a single column name, you can also pass a list of column names."
   ]
  },
  {
   "cell_type": "code",
   "execution_count": null,
   "id": "75b4f775-5a95-43b2-b2a1-ebf1fec6a7fa",
   "metadata": {},
   "outputs": [],
   "source": []
  }
 ],
 "metadata": {
  "kernelspec": {
   "display_name": "Python 3 (ipykernel)",
   "language": "python",
   "name": "python3"
  },
  "language_info": {
   "codemirror_mode": {
    "name": "ipython",
    "version": 3
   },
   "file_extension": ".py",
   "mimetype": "text/x-python",
   "name": "python",
   "nbconvert_exporter": "python",
   "pygments_lexer": "ipython3",
   "version": "3.12.3"
  }
 },
 "nbformat": 4,
 "nbformat_minor": 5
}
