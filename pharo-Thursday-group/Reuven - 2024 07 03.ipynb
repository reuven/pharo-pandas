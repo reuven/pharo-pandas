{
 "cells": [
  {
   "cell_type": "markdown",
   "id": "71252f98-ba6f-445c-a0a8-79985d9f5e34",
   "metadata": {},
   "source": [
    "# Grouping\n",
    "\n",
    "1. Simple grouping\n",
    "2. More complex grouping\n",
    "    - Grouping on more than one categorical column\n",
    "    - Grouping on more than one numeric column\n",
    "    - Using more than one aggregation method\n",
    "3. Pivot tables (2D grouping -- on two categorical columns)\n",
    "4. Stacking and unstacking -- moving things from rows to columns and back"
   ]
  },
  {
   "cell_type": "code",
   "execution_count": 2,
   "id": "8a836bdc-8514-4e41-b521-7e108a0340d6",
   "metadata": {},
   "outputs": [],
   "source": [
    "import numpy as np\n",
    "import pandas as pd\n",
    "from pandas import Series, DataFrame"
   ]
  },
  {
   "cell_type": "code",
   "execution_count": 3,
   "id": "282d8937-6212-475f-970f-abe0a61b16a7",
   "metadata": {},
   "outputs": [],
   "source": [
    "filename = '../data/taxi.csv'   # 10k taxi rides from NYC in 2015\n",
    "df = pd.read_csv(filename)"
   ]
  },
  {
   "cell_type": "code",
   "execution_count": 4,
   "id": "379a34be-5712-4188-9617-afe8effa4728",
   "metadata": {},
   "outputs": [
    {
     "data": {
      "text/html": [
       "<div>\n",
       "<style scoped>\n",
       "    .dataframe tbody tr th:only-of-type {\n",
       "        vertical-align: middle;\n",
       "    }\n",
       "\n",
       "    .dataframe tbody tr th {\n",
       "        vertical-align: top;\n",
       "    }\n",
       "\n",
       "    .dataframe thead th {\n",
       "        text-align: right;\n",
       "    }\n",
       "</style>\n",
       "<table border=\"1\" class=\"dataframe\">\n",
       "  <thead>\n",
       "    <tr style=\"text-align: right;\">\n",
       "      <th></th>\n",
       "      <th>VendorID</th>\n",
       "      <th>tpep_pickup_datetime</th>\n",
       "      <th>tpep_dropoff_datetime</th>\n",
       "      <th>passenger_count</th>\n",
       "      <th>trip_distance</th>\n",
       "      <th>pickup_longitude</th>\n",
       "      <th>pickup_latitude</th>\n",
       "      <th>RateCodeID</th>\n",
       "      <th>store_and_fwd_flag</th>\n",
       "      <th>dropoff_longitude</th>\n",
       "      <th>dropoff_latitude</th>\n",
       "      <th>payment_type</th>\n",
       "      <th>fare_amount</th>\n",
       "      <th>extra</th>\n",
       "      <th>mta_tax</th>\n",
       "      <th>tip_amount</th>\n",
       "      <th>tolls_amount</th>\n",
       "      <th>improvement_surcharge</th>\n",
       "      <th>total_amount</th>\n",
       "    </tr>\n",
       "  </thead>\n",
       "  <tbody>\n",
       "    <tr>\n",
       "      <th>0</th>\n",
       "      <td>2</td>\n",
       "      <td>2015-06-02 11:19:29</td>\n",
       "      <td>2015-06-02 11:47:52</td>\n",
       "      <td>1</td>\n",
       "      <td>1.63</td>\n",
       "      <td>-73.954430</td>\n",
       "      <td>40.764141</td>\n",
       "      <td>1</td>\n",
       "      <td>N</td>\n",
       "      <td>-73.974754</td>\n",
       "      <td>40.754093</td>\n",
       "      <td>2</td>\n",
       "      <td>17.0</td>\n",
       "      <td>0.0</td>\n",
       "      <td>0.5</td>\n",
       "      <td>0.00</td>\n",
       "      <td>0.0</td>\n",
       "      <td>0.3</td>\n",
       "      <td>17.80</td>\n",
       "    </tr>\n",
       "    <tr>\n",
       "      <th>1</th>\n",
       "      <td>2</td>\n",
       "      <td>2015-06-02 11:19:30</td>\n",
       "      <td>2015-06-02 11:27:56</td>\n",
       "      <td>1</td>\n",
       "      <td>0.46</td>\n",
       "      <td>-73.971443</td>\n",
       "      <td>40.758942</td>\n",
       "      <td>1</td>\n",
       "      <td>N</td>\n",
       "      <td>-73.978539</td>\n",
       "      <td>40.761909</td>\n",
       "      <td>1</td>\n",
       "      <td>6.5</td>\n",
       "      <td>0.0</td>\n",
       "      <td>0.5</td>\n",
       "      <td>1.00</td>\n",
       "      <td>0.0</td>\n",
       "      <td>0.3</td>\n",
       "      <td>8.30</td>\n",
       "    </tr>\n",
       "    <tr>\n",
       "      <th>2</th>\n",
       "      <td>2</td>\n",
       "      <td>2015-06-02 11:19:31</td>\n",
       "      <td>2015-06-02 11:30:30</td>\n",
       "      <td>1</td>\n",
       "      <td>0.87</td>\n",
       "      <td>-73.978111</td>\n",
       "      <td>40.738434</td>\n",
       "      <td>1</td>\n",
       "      <td>N</td>\n",
       "      <td>-73.990273</td>\n",
       "      <td>40.745438</td>\n",
       "      <td>1</td>\n",
       "      <td>8.0</td>\n",
       "      <td>0.0</td>\n",
       "      <td>0.5</td>\n",
       "      <td>2.20</td>\n",
       "      <td>0.0</td>\n",
       "      <td>0.3</td>\n",
       "      <td>11.00</td>\n",
       "    </tr>\n",
       "    <tr>\n",
       "      <th>3</th>\n",
       "      <td>2</td>\n",
       "      <td>2015-06-02 11:19:31</td>\n",
       "      <td>2015-06-02 11:39:02</td>\n",
       "      <td>1</td>\n",
       "      <td>2.13</td>\n",
       "      <td>-73.945892</td>\n",
       "      <td>40.773529</td>\n",
       "      <td>1</td>\n",
       "      <td>N</td>\n",
       "      <td>-73.971527</td>\n",
       "      <td>40.760330</td>\n",
       "      <td>1</td>\n",
       "      <td>13.5</td>\n",
       "      <td>0.0</td>\n",
       "      <td>0.5</td>\n",
       "      <td>2.86</td>\n",
       "      <td>0.0</td>\n",
       "      <td>0.3</td>\n",
       "      <td>17.16</td>\n",
       "    </tr>\n",
       "    <tr>\n",
       "      <th>4</th>\n",
       "      <td>1</td>\n",
       "      <td>2015-06-02 11:19:32</td>\n",
       "      <td>2015-06-02 11:32:49</td>\n",
       "      <td>1</td>\n",
       "      <td>1.40</td>\n",
       "      <td>-73.979088</td>\n",
       "      <td>40.776772</td>\n",
       "      <td>1</td>\n",
       "      <td>N</td>\n",
       "      <td>-73.982162</td>\n",
       "      <td>40.758999</td>\n",
       "      <td>2</td>\n",
       "      <td>9.5</td>\n",
       "      <td>0.0</td>\n",
       "      <td>0.5</td>\n",
       "      <td>0.00</td>\n",
       "      <td>0.0</td>\n",
       "      <td>0.3</td>\n",
       "      <td>10.30</td>\n",
       "    </tr>\n",
       "  </tbody>\n",
       "</table>\n",
       "</div>"
      ],
      "text/plain": [
       "   VendorID tpep_pickup_datetime tpep_dropoff_datetime  passenger_count  \\\n",
       "0         2  2015-06-02 11:19:29   2015-06-02 11:47:52                1   \n",
       "1         2  2015-06-02 11:19:30   2015-06-02 11:27:56                1   \n",
       "2         2  2015-06-02 11:19:31   2015-06-02 11:30:30                1   \n",
       "3         2  2015-06-02 11:19:31   2015-06-02 11:39:02                1   \n",
       "4         1  2015-06-02 11:19:32   2015-06-02 11:32:49                1   \n",
       "\n",
       "   trip_distance  pickup_longitude  pickup_latitude  RateCodeID  \\\n",
       "0           1.63        -73.954430        40.764141           1   \n",
       "1           0.46        -73.971443        40.758942           1   \n",
       "2           0.87        -73.978111        40.738434           1   \n",
       "3           2.13        -73.945892        40.773529           1   \n",
       "4           1.40        -73.979088        40.776772           1   \n",
       "\n",
       "  store_and_fwd_flag  dropoff_longitude  dropoff_latitude  payment_type  \\\n",
       "0                  N         -73.974754         40.754093             2   \n",
       "1                  N         -73.978539         40.761909             1   \n",
       "2                  N         -73.990273         40.745438             1   \n",
       "3                  N         -73.971527         40.760330             1   \n",
       "4                  N         -73.982162         40.758999             2   \n",
       "\n",
       "   fare_amount  extra  mta_tax  tip_amount  tolls_amount  \\\n",
       "0         17.0    0.0      0.5        0.00           0.0   \n",
       "1          6.5    0.0      0.5        1.00           0.0   \n",
       "2          8.0    0.0      0.5        2.20           0.0   \n",
       "3         13.5    0.0      0.5        2.86           0.0   \n",
       "4          9.5    0.0      0.5        0.00           0.0   \n",
       "\n",
       "   improvement_surcharge  total_amount  \n",
       "0                    0.3         17.80  \n",
       "1                    0.3          8.30  \n",
       "2                    0.3         11.00  \n",
       "3                    0.3         17.16  \n",
       "4                    0.3         10.30  "
      ]
     },
     "execution_count": 4,
     "metadata": {},
     "output_type": "execute_result"
    }
   ],
   "source": [
    "df.head()"
   ]
  },
  {
   "cell_type": "code",
   "execution_count": 6,
   "id": "dd5cc25b-4f58-4b10-81f2-2adc9211f952",
   "metadata": {},
   "outputs": [
    {
     "data": {
      "text/plain": [
       "3.0923380047176354"
      ]
     },
     "execution_count": 6,
     "metadata": {},
     "output_type": "execute_result"
    }
   ],
   "source": [
    "# I want the mean trip_distance where passenger_count is 1\n",
    "\n",
    "df.loc[\n",
    "    df['passenger_count'] == 1     # row selector\n",
    "    ,\n",
    "    'trip_distance'    # column selector\n",
    "].mean()"
   ]
  },
  {
   "cell_type": "code",
   "execution_count": 7,
   "id": "54653221-dbc6-4752-8914-30d71f0100aa",
   "metadata": {},
   "outputs": [
    {
     "data": {
      "text/plain": [
       "3.3843869002284848"
      ]
     },
     "execution_count": 7,
     "metadata": {},
     "output_type": "execute_result"
    }
   ],
   "source": [
    "# but what if I want to perform the same calculation for passenger_count == 2\n",
    "\n",
    "df.loc[\n",
    "    df['passenger_count'] == 2     # row selector\n",
    "    ,\n",
    "    'trip_distance'    # column selector\n",
    "].mean()"
   ]
  },
  {
   "cell_type": "code",
   "execution_count": 8,
   "id": "55417fd9-5eb5-49a9-8b00-8cf87d1a3165",
   "metadata": {},
   "outputs": [
    {
     "data": {
      "text/plain": [
       "3.3423891625615765"
      ]
     },
     "execution_count": 8,
     "metadata": {},
     "output_type": "execute_result"
    }
   ],
   "source": [
    "# but what if I want to perform the same calculation for passenger_count == 3\n",
    "\n",
    "df.loc[\n",
    "    df['passenger_count'] == 3     # row selector\n",
    "    ,\n",
    "    'trip_distance'    # column selector\n",
    "].mean()"
   ]
  },
  {
   "cell_type": "markdown",
   "id": "b0facb8c-d872-486f-8808-a0b34fcb0eb6",
   "metadata": {},
   "source": [
    "What we're doing (manually) is taking each distinct/unique value in `passenger_count` and we're running our query on it.\n",
    "\n",
    "The whole point of grouping is to ask Pandas to do this same task for us, calculating once for each distinct value in `passenger_count`.\n",
    "\n",
    "The way to think about grouping is as follows:\n",
    "\n",
    "- One categorical column, on which we'll do the grouping. We'll get one result for each distinct value in this column.\n",
    "- One numeric column, on which we'll perform the calculation.\n",
    "- One aggregation method, which will be invoked on all of the values in the numeric column for each distinct value of the categorical\n",
    "\n",
    "In our example above:\n",
    "- passenger_count is categorical\n",
    "- trip_distance is numeric\n",
    "- mean is an aggregation method"
   ]
  },
  {
   "cell_type": "code",
   "execution_count": 9,
   "id": "feaa62f9-543d-487a-864f-d37a32143633",
   "metadata": {},
   "outputs": [
    {
     "data": {
      "text/plain": [
       "passenger_count\n",
       "0    4.600000\n",
       "1    3.092338\n",
       "2    3.384387\n",
       "3    3.342389\n",
       "4    3.628901\n",
       "5    3.182712\n",
       "6    3.170976\n",
       "Name: trip_distance, dtype: float64"
      ]
     },
     "execution_count": 9,
     "metadata": {},
     "output_type": "execute_result"
    }
   ],
   "source": [
    "# df.groupby(CATEGORICAL)[NUMERIC].aggregate()\n",
    "\n",
    "df.groupby('passenger_count')['trip_distance'].mean()"
   ]
  },
  {
   "cell_type": "code",
   "execution_count": 10,
   "id": "18c0be7f-8f0a-4340-89b7-3a703e969314",
   "metadata": {},
   "outputs": [
    {
     "data": {
      "text/plain": [
       "passenger_count\n",
       "1    3.092338\n",
       "4    3.628901\n",
       "3    3.342389\n",
       "2    3.384387\n",
       "5    3.182712\n",
       "6    3.170976\n",
       "0    4.600000\n",
       "Name: trip_distance, dtype: float64"
      ]
     },
     "execution_count": 10,
     "metadata": {},
     "output_type": "execute_result"
    }
   ],
   "source": [
    "# normally, it's not a bad thing that Pandas automatically sorts the distinct values in \n",
    "# passenger_count and then displays them in that order. However, if you're going to reorder\n",
    "# them, or if you want to save a bit of calculation, you can pass the sort=False keyword\n",
    "# argument.\n",
    "\n",
    "df.groupby('passenger_count', sort=False)['trip_distance'].mean()"
   ]
  },
  {
   "cell_type": "code",
   "execution_count": 11,
   "id": "4fb8c199-113d-4722-a1c9-d7641df59f2e",
   "metadata": {},
   "outputs": [
    {
     "data": {
      "text/plain": [
       "<pandas.core.groupby.generic.SeriesGroupBy object at 0x7f44bb0e1c40>"
      ]
     },
     "execution_count": 11,
     "metadata": {},
     "output_type": "execute_result"
    }
   ],
   "source": [
    "# what does groupby return?\n",
    "\n",
    "df.groupby('passenger_count')['trip_distance']"
   ]
  },
  {
   "cell_type": "code",
   "execution_count": 12,
   "id": "37e2eabe-c009-46f8-af33-bb00d262b386",
   "metadata": {},
   "outputs": [
    {
     "data": {
      "text/plain": [
       "passenger_count\n",
       "6    3.170976\n",
       "5    3.182712\n",
       "4    3.628901\n",
       "3    3.342389\n",
       "2    3.384387\n",
       "1    3.092338\n",
       "0    4.600000\n",
       "Name: trip_distance, dtype: float64"
      ]
     },
     "execution_count": 12,
     "metadata": {},
     "output_type": "execute_result"
    }
   ],
   "source": [
    "df.groupby('passenger_count', sort=False)['trip_distance'].mean().sort_index(ascending=False)"
   ]
  },
  {
   "cell_type": "code",
   "execution_count": 13,
   "id": "0b649ddf-620a-4923-a1ec-35a1c7a17562",
   "metadata": {},
   "outputs": [
    {
     "name": "stdout",
     "output_type": "stream",
     "text": [
      "\"ID\",\"Name\",\"Sex\",\"Age\",\"Height\",\"Weight\",\"Team\",\"NOC\",\"Games\",\"Year\",\"Season\",\"City\",\"Sport\",\"Event\",\"Medal\"\n",
      "\"1\",\"A Dijiang\",\"M\",24,180,80,\"China\",\"CHN\",\"1992 Summer\",1992,\"Summer\",\"Barcelona\",\"Basketball\",\"Basketball Men's Basketball\",NA\n",
      "\"2\",\"A Lamusi\",\"M\",23,170,60,\"China\",\"CHN\",\"2012 Summer\",2012,\"Summer\",\"London\",\"Judo\",\"Judo Men's Extra-Lightweight\",NA\n",
      "\"3\",\"Gunnar Nielsen Aaby\",\"M\",24,NA,NA,\"Denmark\",\"DEN\",\"1920 Summer\",1920,\"Summer\",\"Antwerpen\",\"Football\",\"Football Men's Football\",NA\n",
      "\"4\",\"Edgar Lindenau Aabye\",\"M\",34,NA,NA,\"Denmark/Sweden\",\"DEN\",\"1900 Summer\",1900,\"Summer\",\"Paris\",\"Tug-Of-War\",\"Tug-Of-War Men's Tug-Of-War\",\"Gold\"\n",
      "\"5\",\"Christine Jacoba Aaftink\",\"F\",21,185,82,\"Netherlands\",\"NED\",\"1988 Winter\",1988,\"Winter\",\"Calgary\",\"Speed Skating\",\"Speed Skating Women's 500 metres\",NA\n",
      "\"5\",\"Christine Jacoba Aaftink\",\"F\",21,185,82,\"Netherlands\",\"NED\",\"1988 Winter\",1988,\"Winter\",\"Calgary\",\"Speed Skating\",\"Speed Skating Women's 1,000 metres\",NA\n",
      "\"5\",\"Christine Jacoba Aaftink\",\"F\",25,185,82,\"Netherlands\",\"NED\",\"1992 Winter\",1992,\"Winter\",\"Albertville\",\"Speed Skating\",\"Speed Skating Women's 500 metres\",NA\n",
      "\"5\",\"Christine Jacoba Aaftink\",\"F\",25,185,82,\"Netherlands\",\"NED\",\"1992 Winter\",1992,\"Winter\",\"Albertville\",\"Speed Skating\",\"Speed Skating Women's 1,000 metres\",NA\n",
      "\"5\",\"Christine Jacoba Aaftink\",\"F\",27,185,82,\"Netherlands\",\"NED\",\"1994 Winter\",1994,\"Winter\",\"Lillehammer\",\"Speed Skating\",\"Speed Skating Women's 500 metres\",NA\n"
     ]
    }
   ],
   "source": [
    "filename = '../data/olympic_athlete_events.csv'   # all athletes from all Olympic games through 2020\n",
    "\n",
    "!head $filename"
   ]
  },
  {
   "cell_type": "markdown",
   "id": "1c873d1d-b6b9-4145-997d-e80834aa7e71",
   "metadata": {},
   "source": [
    "# Exercise: Olympic calculations\n",
    "\n",
    "1. Read the Olympic data into a data frame.\n",
    "2. Find the mean age for people in each sport.\n",
    "3. Find the max height for people in each sport after 1960."
   ]
  },
  {
   "cell_type": "code",
   "execution_count": 14,
   "id": "e02cc9ac-692a-4fcf-86b9-945aee565135",
   "metadata": {},
   "outputs": [],
   "source": [
    "df = pd.read_csv(filename)"
   ]
  },
  {
   "cell_type": "code",
   "execution_count": 15,
   "id": "07271baf-985f-4406-a068-21b17b340727",
   "metadata": {},
   "outputs": [
    {
     "data": {
      "text/plain": [
       "(271116, 15)"
      ]
     },
     "execution_count": 15,
     "metadata": {},
     "output_type": "execute_result"
    }
   ],
   "source": [
    "df.shape"
   ]
  },
  {
   "cell_type": "code",
   "execution_count": 16,
   "id": "0d2c3764-1e55-45a2-9d00-ecbfe216165e",
   "metadata": {},
   "outputs": [
    {
     "data": {
      "text/plain": [
       "Sport\n",
       "Aeronautics         26.000000\n",
       "Alpine Skiing       23.205462\n",
       "Alpinism            38.812500\n",
       "Archery             27.935226\n",
       "Art Competitions    45.901009\n",
       "                      ...    \n",
       "Tug-Of-War          29.309524\n",
       "Volleyball          25.183800\n",
       "Water Polo          25.659627\n",
       "Weightlifting       25.502010\n",
       "Wrestling           25.798289\n",
       "Name: Age, Length: 66, dtype: float64"
      ]
     },
     "execution_count": 16,
     "metadata": {},
     "output_type": "execute_result"
    }
   ],
   "source": [
    "# find the mean age for people in each sport\n",
    "\n",
    "df.groupby('Sport')['Age'].mean()"
   ]
  },
  {
   "cell_type": "code",
   "execution_count": 17,
   "id": "2fc89fce-5a7f-4646-ab68-38d8856b9e22",
   "metadata": {},
   "outputs": [
    {
     "data": {
      "text/plain": [
       "Sport\n",
       "Rhythmic Gymnastics      18.737082\n",
       "Swimming                 20.566803\n",
       "Figure Skating           22.232190\n",
       "Synchronized Swimming    22.366851\n",
       "Diving                   22.481441\n",
       "                           ...    \n",
       "Equestrianism            34.390831\n",
       "Polo                     35.333333\n",
       "Alpinism                 38.812500\n",
       "Art Competitions         45.901009\n",
       "Roque                    53.333333\n",
       "Name: Age, Length: 66, dtype: float64"
      ]
     },
     "execution_count": 17,
     "metadata": {},
     "output_type": "execute_result"
    }
   ],
   "source": [
    "df.groupby('Sport')['Age'].mean().sort_values()"
   ]
  },
  {
   "cell_type": "code",
   "execution_count": 22,
   "id": "bfae00bc-b741-49fe-92a2-221aa08f9c1e",
   "metadata": {},
   "outputs": [
    {
     "data": {
      "text/plain": [
       "Sport\n",
       "Alpine Skiing                200.0\n",
       "Archery                      197.0\n",
       "Athletics                    208.0\n",
       "Badminton                    201.0\n",
       "Baseball                     206.0\n",
       "Basketball                   226.0\n",
       "Beach Volleyball             212.0\n",
       "Biathlon                     200.0\n",
       "Bobsleigh                    205.0\n",
       "Boxing                       205.0\n",
       "Canoeing                     205.0\n",
       "Cross Country Skiing         200.0\n",
       "Curling                      197.0\n",
       "Cycling                      201.0\n",
       "Diving                       188.0\n",
       "Equestrianism                197.0\n",
       "Fencing                      208.0\n",
       "Figure Skating               193.0\n",
       "Football                     200.0\n",
       "Freestyle Skiing             197.0\n",
       "Golf                         196.0\n",
       "Gymnastics                   185.0\n",
       "Handball                     214.0\n",
       "Hockey                       200.0\n",
       "Ice Hockey                   206.0\n",
       "Judo                         213.0\n",
       "Luge                         199.0\n",
       "Modern Pentathlon            198.0\n",
       "Nordic Combined              193.0\n",
       "Rhythmic Gymnastics          181.0\n",
       "Rowing                       209.0\n",
       "Rugby Sevens                 198.0\n",
       "Sailing                      213.0\n",
       "Shooting                     213.0\n",
       "Short Track Speed Skating    191.0\n",
       "Skeleton                     197.0\n",
       "Ski Jumping                  200.0\n",
       "Snowboarding                 194.0\n",
       "Softball                     198.0\n",
       "Speed Skating                203.0\n",
       "Swimming                     209.0\n",
       "Synchronized Swimming        185.0\n",
       "Table Tennis                 198.0\n",
       "Taekwondo                    207.0\n",
       "Tennis                       208.0\n",
       "Trampolining                 185.0\n",
       "Triathlon                    196.0\n",
       "Volleyball                   219.0\n",
       "Water Polo                   206.0\n",
       "Weightlifting                205.0\n",
       "Wrestling                    214.0\n",
       "Name: Height, dtype: float64"
      ]
     },
     "execution_count": 22,
     "metadata": {},
     "output_type": "execute_result"
    }
   ],
   "source": [
    "# Find the max height for people in each sport after 1960.\n",
    "\n",
    "(\n",
    "    df\n",
    "    .loc[df['Year'] > 1960]\n",
    "    .groupby('Sport')['Height'].max()\n",
    ")"
   ]
  },
  {
   "cell_type": "code",
   "execution_count": 23,
   "id": "9227262c-53d6-44bc-9c2d-4654aff8bb3d",
   "metadata": {},
   "outputs": [
    {
     "data": {
      "text/plain": [
       "trip_distance\n",
       "0.00      31.58194\n",
       "0.01      52.80000\n",
       "0.02      43.46000\n",
       "0.03       3.96000\n",
       "0.04      70.01000\n",
       "           ...    \n",
       "34.84    137.59000\n",
       "35.51    135.13000\n",
       "37.20    210.14000\n",
       "60.30    160.05000\n",
       "64.60     79.96000\n",
       "Name: total_amount, Length: 1219, dtype: float64"
      ]
     },
     "execution_count": 23,
     "metadata": {},
     "output_type": "execute_result"
    }
   ],
   "source": [
    "# can I groupby on a numeric column?\n",
    "# yes - but be careful!\n",
    "\n",
    "df = pd.read_csv('../data/taxi.csv')\n",
    "\n",
    "# for every distinct value of trip_distance...\n",
    "# get the mean total_amount\n",
    "df.groupby('trip_distance')['total_amount'].mean()  "
   ]
  },
  {
   "cell_type": "markdown",
   "id": "56ce1c55-5846-4005-b00f-aacfb8ab77dc",
   "metadata": {},
   "source": [
    "# More complex grouping\n",
    "\n",
    "What if we want (with the taxi data) to group not just by passenger_count, but also by vendorID (i.e., who made the taxi meter)?\n",
    "\n",
    "Meaning: I want to know the mean `trip_distance` not just for every distinct value of `passenger_count`, but for every combination of `passenger_count` and `VendorID`. \n",
    "\n",
    "This requires that we remember a general rule of thumb in Pandas: Wherever you can pass/use a single column name, you can also pass a list of column names."
   ]
  },
  {
   "cell_type": "code",
   "execution_count": 24,
   "id": "75b4f775-5a95-43b2-b2a1-ebf1fec6a7fa",
   "metadata": {},
   "outputs": [
    {
     "data": {
      "text/plain": [
       "passenger_count  VendorID\n",
       "0                1           4.600000\n",
       "1                1           2.956456\n",
       "                 2           3.262967\n",
       "2                1           3.452027\n",
       "                 2           3.328849\n",
       "3                1           3.588535\n",
       "                 2           3.187189\n",
       "4                1           3.952239\n",
       "                 2           3.440522\n",
       "5                1           4.933333\n",
       "                 2           3.172553\n",
       "6                2           3.170976\n",
       "Name: trip_distance, dtype: float64"
      ]
     },
     "execution_count": 24,
     "metadata": {},
     "output_type": "execute_result"
    }
   ],
   "source": [
    "df.groupby(['passenger_count', 'VendorID'])['trip_distance'].mean()"
   ]
  },
  {
   "cell_type": "markdown",
   "id": "ba317e44-57f7-444f-a6f9-c86d4dd839b0",
   "metadata": {},
   "source": [
    "# From a two-column groupby, we get a \"multi-index\"\n",
    "\n",
    "This mean: A two-dimensional index. If I retrieve row 4, then I'll get all of the rows for it"
   ]
  },
  {
   "cell_type": "code",
   "execution_count": 26,
   "id": "6502815b-5241-43cf-8d76-3910e300b7eb",
   "metadata": {},
   "outputs": [
    {
     "data": {
      "text/plain": [
       "VendorID\n",
       "1    3.952239\n",
       "2    3.440522\n",
       "Name: trip_distance, dtype: float64"
      ]
     },
     "execution_count": 26,
     "metadata": {},
     "output_type": "execute_result"
    }
   ],
   "source": [
    "df.groupby(['passenger_count', 'VendorID'])['trip_distance'].mean().loc[4]"
   ]
  },
  {
   "cell_type": "code",
   "execution_count": 27,
   "id": "820440b5-c7f8-42a9-bb1b-b1a0fe556550",
   "metadata": {},
   "outputs": [
    {
     "data": {
      "text/plain": [
       "passenger_count  VendorID\n",
       "4                1           3.952239\n",
       "                 2           3.440522\n",
       "6                2           3.170976\n",
       "Name: trip_distance, dtype: float64"
      ]
     },
     "execution_count": 27,
     "metadata": {},
     "output_type": "execute_result"
    }
   ],
   "source": [
    "# normally, we get the subset of the data frame for our named row\n",
    "# but we can use multiple row indexes (fancy indexing) to get more than one\n",
    "df.groupby(['passenger_count', 'VendorID'])['trip_distance'].mean().loc[[4, 6]]"
   ]
  },
  {
   "cell_type": "markdown",
   "id": "017a1f66-8821-4f78-8dac-3414a56f07f1",
   "metadata": {},
   "source": [
    "# What about naming more than one numeric column?\n",
    "\n",
    "Let's ask for the total_amount and trip_distance for each distinct value of passenger_count"
   ]
  },
  {
   "cell_type": "code",
   "execution_count": 29,
   "id": "e37ab09d-eeaf-4548-ab65-2f9b601d5412",
   "metadata": {},
   "outputs": [
    {
     "data": {
      "text/html": [
       "<div>\n",
       "<style scoped>\n",
       "    .dataframe tbody tr th:only-of-type {\n",
       "        vertical-align: middle;\n",
       "    }\n",
       "\n",
       "    .dataframe tbody tr th {\n",
       "        vertical-align: top;\n",
       "    }\n",
       "\n",
       "    .dataframe thead th {\n",
       "        text-align: right;\n",
       "    }\n",
       "</style>\n",
       "<table border=\"1\" class=\"dataframe\">\n",
       "  <thead>\n",
       "    <tr style=\"text-align: right;\">\n",
       "      <th></th>\n",
       "      <th>trip_distance</th>\n",
       "      <th>total_amount</th>\n",
       "    </tr>\n",
       "    <tr>\n",
       "      <th>passenger_count</th>\n",
       "      <th></th>\n",
       "      <th></th>\n",
       "    </tr>\n",
       "  </thead>\n",
       "  <tbody>\n",
       "    <tr>\n",
       "      <th>0</th>\n",
       "      <td>4.600000</td>\n",
       "      <td>25.570000</td>\n",
       "    </tr>\n",
       "    <tr>\n",
       "      <th>1</th>\n",
       "      <td>3.092338</td>\n",
       "      <td>17.368569</td>\n",
       "    </tr>\n",
       "    <tr>\n",
       "      <th>2</th>\n",
       "      <td>3.384387</td>\n",
       "      <td>18.406306</td>\n",
       "    </tr>\n",
       "    <tr>\n",
       "      <th>3</th>\n",
       "      <td>3.342389</td>\n",
       "      <td>17.994704</td>\n",
       "    </tr>\n",
       "    <tr>\n",
       "      <th>4</th>\n",
       "      <td>3.628901</td>\n",
       "      <td>18.881648</td>\n",
       "    </tr>\n",
       "    <tr>\n",
       "      <th>5</th>\n",
       "      <td>3.182712</td>\n",
       "      <td>17.211269</td>\n",
       "    </tr>\n",
       "    <tr>\n",
       "      <th>6</th>\n",
       "      <td>3.170976</td>\n",
       "      <td>17.401355</td>\n",
       "    </tr>\n",
       "  </tbody>\n",
       "</table>\n",
       "</div>"
      ],
      "text/plain": [
       "                 trip_distance  total_amount\n",
       "passenger_count                             \n",
       "0                     4.600000     25.570000\n",
       "1                     3.092338     17.368569\n",
       "2                     3.384387     18.406306\n",
       "3                     3.342389     17.994704\n",
       "4                     3.628901     18.881648\n",
       "5                     3.182712     17.211269\n",
       "6                     3.170976     17.401355"
      ]
     },
     "execution_count": 29,
     "metadata": {},
     "output_type": "execute_result"
    }
   ],
   "source": [
    "df.groupby('passenger_count')[['trip_distance', 'total_amount']].mean()"
   ]
  },
  {
   "cell_type": "code",
   "execution_count": 30,
   "id": "1125d985-9a36-455a-b73a-34e495b13a82",
   "metadata": {},
   "outputs": [
    {
     "data": {
      "text/plain": [
       "passenger_count\n",
       "0    4.600000\n",
       "1    3.092338\n",
       "2    3.384387\n",
       "3    3.342389\n",
       "4    3.628901\n",
       "5    3.182712\n",
       "6    3.170976\n",
       "Name: trip_distance, dtype: float64"
      ]
     },
     "execution_count": 30,
     "metadata": {},
     "output_type": "execute_result"
    }
   ],
   "source": [
    "df.groupby('passenger_count')[['trip_distance', 'total_amount']].mean()['trip_distance']"
   ]
  },
  {
   "cell_type": "markdown",
   "id": "5cbe1377-33d8-4d40-b6b9-e1d855c6fe5c",
   "metadata": {},
   "source": [
    "# What about more than one aggregation method?\n",
    "\n",
    "Just as we can pass a list of strings for columns (for the categorical or the numeric), we can do just about the same thing with the method. The difference is that we pass a list of strings to the `agg` method."
   ]
  },
  {
   "cell_type": "code",
   "execution_count": 31,
   "id": "49ed81c4-1394-4b19-bb54-89e0b26660f9",
   "metadata": {},
   "outputs": [
    {
     "data": {
      "text/html": [
       "<div>\n",
       "<style scoped>\n",
       "    .dataframe tbody tr th:only-of-type {\n",
       "        vertical-align: middle;\n",
       "    }\n",
       "\n",
       "    .dataframe tbody tr th {\n",
       "        vertical-align: top;\n",
       "    }\n",
       "\n",
       "    .dataframe thead th {\n",
       "        text-align: right;\n",
       "    }\n",
       "</style>\n",
       "<table border=\"1\" class=\"dataframe\">\n",
       "  <thead>\n",
       "    <tr style=\"text-align: right;\">\n",
       "      <th></th>\n",
       "      <th>mean</th>\n",
       "      <th>min</th>\n",
       "    </tr>\n",
       "    <tr>\n",
       "      <th>passenger_count</th>\n",
       "      <th></th>\n",
       "      <th></th>\n",
       "    </tr>\n",
       "  </thead>\n",
       "  <tbody>\n",
       "    <tr>\n",
       "      <th>0</th>\n",
       "      <td>4.600000</td>\n",
       "      <td>1.3</td>\n",
       "    </tr>\n",
       "    <tr>\n",
       "      <th>1</th>\n",
       "      <td>3.092338</td>\n",
       "      <td>0.0</td>\n",
       "    </tr>\n",
       "    <tr>\n",
       "      <th>2</th>\n",
       "      <td>3.384387</td>\n",
       "      <td>0.0</td>\n",
       "    </tr>\n",
       "    <tr>\n",
       "      <th>3</th>\n",
       "      <td>3.342389</td>\n",
       "      <td>0.0</td>\n",
       "    </tr>\n",
       "    <tr>\n",
       "      <th>4</th>\n",
       "      <td>3.628901</td>\n",
       "      <td>0.0</td>\n",
       "    </tr>\n",
       "    <tr>\n",
       "      <th>5</th>\n",
       "      <td>3.182712</td>\n",
       "      <td>0.0</td>\n",
       "    </tr>\n",
       "    <tr>\n",
       "      <th>6</th>\n",
       "      <td>3.170976</td>\n",
       "      <td>0.0</td>\n",
       "    </tr>\n",
       "  </tbody>\n",
       "</table>\n",
       "</div>"
      ],
      "text/plain": [
       "                     mean  min\n",
       "passenger_count               \n",
       "0                4.600000  1.3\n",
       "1                3.092338  0.0\n",
       "2                3.384387  0.0\n",
       "3                3.342389  0.0\n",
       "4                3.628901  0.0\n",
       "5                3.182712  0.0\n",
       "6                3.170976  0.0"
      ]
     },
     "execution_count": 31,
     "metadata": {},
     "output_type": "execute_result"
    }
   ],
   "source": [
    "df.groupby('passenger_count')['trip_distance'].agg(['mean', 'min'])"
   ]
  },
  {
   "cell_type": "code",
   "execution_count": 32,
   "id": "b56c51ee-643c-4f3a-b8f2-44fc5a05fcea",
   "metadata": {},
   "outputs": [
    {
     "data": {
      "text/html": [
       "<div>\n",
       "<style scoped>\n",
       "    .dataframe tbody tr th:only-of-type {\n",
       "        vertical-align: middle;\n",
       "    }\n",
       "\n",
       "    .dataframe tbody tr th {\n",
       "        vertical-align: top;\n",
       "    }\n",
       "\n",
       "    .dataframe thead tr th {\n",
       "        text-align: left;\n",
       "    }\n",
       "\n",
       "    .dataframe thead tr:last-of-type th {\n",
       "        text-align: right;\n",
       "    }\n",
       "</style>\n",
       "<table border=\"1\" class=\"dataframe\">\n",
       "  <thead>\n",
       "    <tr>\n",
       "      <th></th>\n",
       "      <th colspan=\"2\" halign=\"left\">trip_distance</th>\n",
       "      <th colspan=\"2\" halign=\"left\">total_amount</th>\n",
       "    </tr>\n",
       "    <tr>\n",
       "      <th></th>\n",
       "      <th>mean</th>\n",
       "      <th>min</th>\n",
       "      <th>mean</th>\n",
       "      <th>min</th>\n",
       "    </tr>\n",
       "    <tr>\n",
       "      <th>passenger_count</th>\n",
       "      <th></th>\n",
       "      <th></th>\n",
       "      <th></th>\n",
       "      <th></th>\n",
       "    </tr>\n",
       "  </thead>\n",
       "  <tbody>\n",
       "    <tr>\n",
       "      <th>0</th>\n",
       "      <td>4.600000</td>\n",
       "      <td>1.3</td>\n",
       "      <td>25.570000</td>\n",
       "      <td>14.75</td>\n",
       "    </tr>\n",
       "    <tr>\n",
       "      <th>1</th>\n",
       "      <td>3.092338</td>\n",
       "      <td>0.0</td>\n",
       "      <td>17.368569</td>\n",
       "      <td>-7.80</td>\n",
       "    </tr>\n",
       "    <tr>\n",
       "      <th>2</th>\n",
       "      <td>3.384387</td>\n",
       "      <td>0.0</td>\n",
       "      <td>18.406306</td>\n",
       "      <td>0.30</td>\n",
       "    </tr>\n",
       "    <tr>\n",
       "      <th>3</th>\n",
       "      <td>3.342389</td>\n",
       "      <td>0.0</td>\n",
       "      <td>17.994704</td>\n",
       "      <td>4.80</td>\n",
       "    </tr>\n",
       "    <tr>\n",
       "      <th>4</th>\n",
       "      <td>3.628901</td>\n",
       "      <td>0.0</td>\n",
       "      <td>18.881648</td>\n",
       "      <td>3.30</td>\n",
       "    </tr>\n",
       "    <tr>\n",
       "      <th>5</th>\n",
       "      <td>3.182712</td>\n",
       "      <td>0.0</td>\n",
       "      <td>17.211269</td>\n",
       "      <td>3.30</td>\n",
       "    </tr>\n",
       "    <tr>\n",
       "      <th>6</th>\n",
       "      <td>3.170976</td>\n",
       "      <td>0.0</td>\n",
       "      <td>17.401355</td>\n",
       "      <td>3.30</td>\n",
       "    </tr>\n",
       "  </tbody>\n",
       "</table>\n",
       "</div>"
      ],
      "text/plain": [
       "                trip_distance      total_amount       \n",
       "                         mean  min         mean    min\n",
       "passenger_count                                       \n",
       "0                    4.600000  1.3    25.570000  14.75\n",
       "1                    3.092338  0.0    17.368569  -7.80\n",
       "2                    3.384387  0.0    18.406306   0.30\n",
       "3                    3.342389  0.0    17.994704   4.80\n",
       "4                    3.628901  0.0    18.881648   3.30\n",
       "5                    3.182712  0.0    17.211269   3.30\n",
       "6                    3.170976  0.0    17.401355   3.30"
      ]
     },
     "execution_count": 32,
     "metadata": {},
     "output_type": "execute_result"
    }
   ],
   "source": [
    "# what if I want to combine these?\n",
    "# can I have two numeric columns and also two aggregation methods?\n",
    "\n",
    "# OF COURSE!\n",
    "\n",
    "# we're asking for:\n",
    "# for each distinct value in passenger_count\n",
    "# calculate the mean and min trip_distance and total_amount\n",
    "\n",
    "df.groupby('passenger_count')[['trip_distance', 'total_amount']].agg(['mean', 'min'])"
   ]
  },
  {
   "cell_type": "code",
   "execution_count": 34,
   "id": "a076bc6b-31cc-4f52-934a-2d2bb2369748",
   "metadata": {},
   "outputs": [
    {
     "data": {
      "text/html": [
       "<div>\n",
       "<style scoped>\n",
       "    .dataframe tbody tr th:only-of-type {\n",
       "        vertical-align: middle;\n",
       "    }\n",
       "\n",
       "    .dataframe tbody tr th {\n",
       "        vertical-align: top;\n",
       "    }\n",
       "\n",
       "    .dataframe thead tr th {\n",
       "        text-align: left;\n",
       "    }\n",
       "\n",
       "    .dataframe thead tr:last-of-type th {\n",
       "        text-align: right;\n",
       "    }\n",
       "</style>\n",
       "<table border=\"1\" class=\"dataframe\">\n",
       "  <thead>\n",
       "    <tr>\n",
       "      <th></th>\n",
       "      <th></th>\n",
       "      <th colspan=\"2\" halign=\"left\">trip_distance</th>\n",
       "      <th colspan=\"2\" halign=\"left\">total_amount</th>\n",
       "    </tr>\n",
       "    <tr>\n",
       "      <th></th>\n",
       "      <th></th>\n",
       "      <th>mean</th>\n",
       "      <th>min</th>\n",
       "      <th>mean</th>\n",
       "      <th>min</th>\n",
       "    </tr>\n",
       "    <tr>\n",
       "      <th>passenger_count</th>\n",
       "      <th>VendorID</th>\n",
       "      <th></th>\n",
       "      <th></th>\n",
       "      <th></th>\n",
       "      <th></th>\n",
       "    </tr>\n",
       "  </thead>\n",
       "  <tbody>\n",
       "    <tr>\n",
       "      <th>0</th>\n",
       "      <th>1</th>\n",
       "      <td>4.600000</td>\n",
       "      <td>1.3</td>\n",
       "      <td>25.570000</td>\n",
       "      <td>14.75</td>\n",
       "    </tr>\n",
       "    <tr>\n",
       "      <th rowspan=\"2\" valign=\"top\">1</th>\n",
       "      <th>1</th>\n",
       "      <td>2.956456</td>\n",
       "      <td>0.0</td>\n",
       "      <td>16.941386</td>\n",
       "      <td>0.30</td>\n",
       "    </tr>\n",
       "    <tr>\n",
       "      <th>2</th>\n",
       "      <td>3.262967</td>\n",
       "      <td>0.0</td>\n",
       "      <td>17.904989</td>\n",
       "      <td>-7.80</td>\n",
       "    </tr>\n",
       "    <tr>\n",
       "      <th rowspan=\"2\" valign=\"top\">2</th>\n",
       "      <th>1</th>\n",
       "      <td>3.452027</td>\n",
       "      <td>0.0</td>\n",
       "      <td>19.076807</td>\n",
       "      <td>0.30</td>\n",
       "    </tr>\n",
       "    <tr>\n",
       "      <th>2</th>\n",
       "      <td>3.328849</td>\n",
       "      <td>0.0</td>\n",
       "      <td>17.855770</td>\n",
       "      <td>2.30</td>\n",
       "    </tr>\n",
       "    <tr>\n",
       "      <th rowspan=\"2\" valign=\"top\">3</th>\n",
       "      <th>1</th>\n",
       "      <td>3.588535</td>\n",
       "      <td>0.0</td>\n",
       "      <td>19.002803</td>\n",
       "      <td>4.80</td>\n",
       "    </tr>\n",
       "    <tr>\n",
       "      <th>2</th>\n",
       "      <td>3.187189</td>\n",
       "      <td>0.0</td>\n",
       "      <td>17.359076</td>\n",
       "      <td>4.80</td>\n",
       "    </tr>\n",
       "    <tr>\n",
       "      <th rowspan=\"2\" valign=\"top\">4</th>\n",
       "      <th>1</th>\n",
       "      <td>3.952239</td>\n",
       "      <td>0.0</td>\n",
       "      <td>20.518657</td>\n",
       "      <td>5.80</td>\n",
       "    </tr>\n",
       "    <tr>\n",
       "      <th>2</th>\n",
       "      <td>3.440522</td>\n",
       "      <td>0.0</td>\n",
       "      <td>17.927913</td>\n",
       "      <td>3.30</td>\n",
       "    </tr>\n",
       "    <tr>\n",
       "      <th rowspan=\"2\" valign=\"top\">5</th>\n",
       "      <th>1</th>\n",
       "      <td>4.933333</td>\n",
       "      <td>3.0</td>\n",
       "      <td>20.466667</td>\n",
       "      <td>13.80</td>\n",
       "    </tr>\n",
       "    <tr>\n",
       "      <th>2</th>\n",
       "      <td>3.172553</td>\n",
       "      <td>0.0</td>\n",
       "      <td>17.192379</td>\n",
       "      <td>3.30</td>\n",
       "    </tr>\n",
       "    <tr>\n",
       "      <th>6</th>\n",
       "      <th>2</th>\n",
       "      <td>3.170976</td>\n",
       "      <td>0.0</td>\n",
       "      <td>17.401355</td>\n",
       "      <td>3.30</td>\n",
       "    </tr>\n",
       "  </tbody>\n",
       "</table>\n",
       "</div>"
      ],
      "text/plain": [
       "                         trip_distance      total_amount       \n",
       "                                  mean  min         mean    min\n",
       "passenger_count VendorID                                       \n",
       "0               1             4.600000  1.3    25.570000  14.75\n",
       "1               1             2.956456  0.0    16.941386   0.30\n",
       "                2             3.262967  0.0    17.904989  -7.80\n",
       "2               1             3.452027  0.0    19.076807   0.30\n",
       "                2             3.328849  0.0    17.855770   2.30\n",
       "3               1             3.588535  0.0    19.002803   4.80\n",
       "                2             3.187189  0.0    17.359076   4.80\n",
       "4               1             3.952239  0.0    20.518657   5.80\n",
       "                2             3.440522  0.0    17.927913   3.30\n",
       "5               1             4.933333  3.0    20.466667  13.80\n",
       "                2             3.172553  0.0    17.192379   3.30\n",
       "6               2             3.170976  0.0    17.401355   3.30"
      ]
     },
     "execution_count": 34,
     "metadata": {},
     "output_type": "execute_result"
    }
   ],
   "source": [
    "# don't do this!\n",
    "\n",
    "# the normal syntax is\n",
    "# df.groupby(categorical_column)[numeric_column].agg([list_of_agg_methods])\n",
    "# - more than one categorical column, we need a list, and thus strings in square brackets\n",
    "# - the numeric column is always in square brackets, so if we have two, we need the list\n",
    "df.groupby(['passenger_count', 'VendorID'])[['trip_distance', 'total_amount']].agg(['mean', 'min'])"
   ]
  },
  {
   "cell_type": "code",
   "execution_count": 36,
   "id": "2f6b1c65-886e-4e66-bdf3-2fcfd0d99aa3",
   "metadata": {},
   "outputs": [],
   "source": [
    "def sillyfunc(s):\n",
    "    return s * 2"
   ]
  },
  {
   "cell_type": "code",
   "execution_count": 37,
   "id": "519fd52e-89b4-49ab-9389-a1d4c0e9c1e1",
   "metadata": {},
   "outputs": [
    {
     "ename": "AttributeError",
     "evalue": "'SeriesGroupBy' object has no attribute 'sillyfunc'",
     "output_type": "error",
     "traceback": [
      "\u001b[0;31m---------------------------------------------------------------------------\u001b[0m",
      "\u001b[0;31mAttributeError\u001b[0m                            Traceback (most recent call last)",
      "Cell \u001b[0;32mIn[37], line 1\u001b[0m\n\u001b[0;32m----> 1\u001b[0m \u001b[43mdf\u001b[49m\u001b[38;5;241;43m.\u001b[39;49m\u001b[43mgroupby\u001b[49m\u001b[43m(\u001b[49m\u001b[38;5;124;43m'\u001b[39;49m\u001b[38;5;124;43mpassenger_count\u001b[39;49m\u001b[38;5;124;43m'\u001b[39;49m\u001b[43m)\u001b[49m\u001b[43m[\u001b[49m\u001b[38;5;124;43m'\u001b[39;49m\u001b[38;5;124;43mtrip_distance\u001b[39;49m\u001b[38;5;124;43m'\u001b[39;49m\u001b[43m]\u001b[49m\u001b[38;5;241;43m.\u001b[39;49m\u001b[43magg\u001b[49m\u001b[43m(\u001b[49m\u001b[43m[\u001b[49m\u001b[38;5;124;43m'\u001b[39;49m\u001b[38;5;124;43msillyfunc\u001b[39;49m\u001b[38;5;124;43m'\u001b[39;49m\u001b[43m]\u001b[49m\u001b[43m)\u001b[49m\n",
      "File \u001b[0;32m~/.pyenv/versions/3.12.3/lib/python3.12/site-packages/pandas/core/groupby/generic.py:257\u001b[0m, in \u001b[0;36mSeriesGroupBy.aggregate\u001b[0;34m(self, func, engine, engine_kwargs, *args, **kwargs)\u001b[0m\n\u001b[1;32m    255\u001b[0m kwargs[\u001b[38;5;124m\"\u001b[39m\u001b[38;5;124mengine\u001b[39m\u001b[38;5;124m\"\u001b[39m] \u001b[38;5;241m=\u001b[39m engine\n\u001b[1;32m    256\u001b[0m kwargs[\u001b[38;5;124m\"\u001b[39m\u001b[38;5;124mengine_kwargs\u001b[39m\u001b[38;5;124m\"\u001b[39m] \u001b[38;5;241m=\u001b[39m engine_kwargs\n\u001b[0;32m--> 257\u001b[0m ret \u001b[38;5;241m=\u001b[39m \u001b[38;5;28;43mself\u001b[39;49m\u001b[38;5;241;43m.\u001b[39;49m\u001b[43m_aggregate_multiple_funcs\u001b[49m\u001b[43m(\u001b[49m\u001b[43mfunc\u001b[49m\u001b[43m,\u001b[49m\u001b[43m \u001b[49m\u001b[38;5;241;43m*\u001b[39;49m\u001b[43margs\u001b[49m\u001b[43m,\u001b[49m\u001b[43m \u001b[49m\u001b[38;5;241;43m*\u001b[39;49m\u001b[38;5;241;43m*\u001b[39;49m\u001b[43mkwargs\u001b[49m\u001b[43m)\u001b[49m\n\u001b[1;32m    258\u001b[0m \u001b[38;5;28;01mif\u001b[39;00m relabeling:\n\u001b[1;32m    259\u001b[0m     \u001b[38;5;66;03m# columns is not narrowed by mypy from relabeling flag\u001b[39;00m\n\u001b[1;32m    260\u001b[0m     \u001b[38;5;28;01massert\u001b[39;00m columns \u001b[38;5;129;01mis\u001b[39;00m \u001b[38;5;129;01mnot\u001b[39;00m \u001b[38;5;28;01mNone\u001b[39;00m  \u001b[38;5;66;03m# for mypy\u001b[39;00m\n",
      "File \u001b[0;32m~/.pyenv/versions/3.12.3/lib/python3.12/site-packages/pandas/core/groupby/generic.py:362\u001b[0m, in \u001b[0;36mSeriesGroupBy._aggregate_multiple_funcs\u001b[0;34m(self, arg, *args, **kwargs)\u001b[0m\n\u001b[1;32m    360\u001b[0m     \u001b[38;5;28;01mfor\u001b[39;00m idx, (name, func) \u001b[38;5;129;01min\u001b[39;00m \u001b[38;5;28menumerate\u001b[39m(arg):\n\u001b[1;32m    361\u001b[0m         key \u001b[38;5;241m=\u001b[39m base\u001b[38;5;241m.\u001b[39mOutputKey(label\u001b[38;5;241m=\u001b[39mname, position\u001b[38;5;241m=\u001b[39midx)\n\u001b[0;32m--> 362\u001b[0m         results[key] \u001b[38;5;241m=\u001b[39m \u001b[38;5;28;43mself\u001b[39;49m\u001b[38;5;241;43m.\u001b[39;49m\u001b[43maggregate\u001b[49m\u001b[43m(\u001b[49m\u001b[43mfunc\u001b[49m\u001b[43m,\u001b[49m\u001b[43m \u001b[49m\u001b[38;5;241;43m*\u001b[39;49m\u001b[43margs\u001b[49m\u001b[43m,\u001b[49m\u001b[43m \u001b[49m\u001b[38;5;241;43m*\u001b[39;49m\u001b[38;5;241;43m*\u001b[39;49m\u001b[43mkwargs\u001b[49m\u001b[43m)\u001b[49m\n\u001b[1;32m    364\u001b[0m \u001b[38;5;28;01mif\u001b[39;00m \u001b[38;5;28many\u001b[39m(\u001b[38;5;28misinstance\u001b[39m(x, DataFrame) \u001b[38;5;28;01mfor\u001b[39;00m x \u001b[38;5;129;01min\u001b[39;00m results\u001b[38;5;241m.\u001b[39mvalues()):\n\u001b[1;32m    365\u001b[0m     \u001b[38;5;28;01mfrom\u001b[39;00m \u001b[38;5;21;01mpandas\u001b[39;00m \u001b[38;5;28;01mimport\u001b[39;00m concat\n",
      "File \u001b[0;32m~/.pyenv/versions/3.12.3/lib/python3.12/site-packages/pandas/core/groupby/generic.py:249\u001b[0m, in \u001b[0;36mSeriesGroupBy.aggregate\u001b[0;34m(self, func, engine, engine_kwargs, *args, **kwargs)\u001b[0m\n\u001b[1;32m    247\u001b[0m     \u001b[38;5;28;01mif\u001b[39;00m engine_kwargs \u001b[38;5;129;01mis\u001b[39;00m \u001b[38;5;129;01mnot\u001b[39;00m \u001b[38;5;28;01mNone\u001b[39;00m:\n\u001b[1;32m    248\u001b[0m         kwargs[\u001b[38;5;124m\"\u001b[39m\u001b[38;5;124mengine_kwargs\u001b[39m\u001b[38;5;124m\"\u001b[39m] \u001b[38;5;241m=\u001b[39m engine_kwargs\n\u001b[0;32m--> 249\u001b[0m     \u001b[38;5;28;01mreturn\u001b[39;00m \u001b[38;5;28;43mgetattr\u001b[39;49m\u001b[43m(\u001b[49m\u001b[38;5;28;43mself\u001b[39;49m\u001b[43m,\u001b[49m\u001b[43m \u001b[49m\u001b[43mfunc\u001b[49m\u001b[43m)\u001b[49m(\u001b[38;5;241m*\u001b[39margs, \u001b[38;5;241m*\u001b[39m\u001b[38;5;241m*\u001b[39mkwargs)\n\u001b[1;32m    251\u001b[0m \u001b[38;5;28;01melif\u001b[39;00m \u001b[38;5;28misinstance\u001b[39m(func, abc\u001b[38;5;241m.\u001b[39mIterable):\n\u001b[1;32m    252\u001b[0m     \u001b[38;5;66;03m# Catch instances of lists / tuples\u001b[39;00m\n\u001b[1;32m    253\u001b[0m     \u001b[38;5;66;03m# but not the class list / tuple itself.\u001b[39;00m\n\u001b[1;32m    254\u001b[0m     func \u001b[38;5;241m=\u001b[39m maybe_mangle_lambdas(func)\n",
      "File \u001b[0;32m~/.pyenv/versions/3.12.3/lib/python3.12/site-packages/pandas/core/groupby/groupby.py:1363\u001b[0m, in \u001b[0;36mGroupBy.__getattr__\u001b[0;34m(self, attr)\u001b[0m\n\u001b[1;32m   1360\u001b[0m \u001b[38;5;28;01mif\u001b[39;00m attr \u001b[38;5;129;01min\u001b[39;00m \u001b[38;5;28mself\u001b[39m\u001b[38;5;241m.\u001b[39mobj:\n\u001b[1;32m   1361\u001b[0m     \u001b[38;5;28;01mreturn\u001b[39;00m \u001b[38;5;28mself\u001b[39m[attr]\n\u001b[0;32m-> 1363\u001b[0m \u001b[38;5;28;01mraise\u001b[39;00m \u001b[38;5;167;01mAttributeError\u001b[39;00m(\n\u001b[1;32m   1364\u001b[0m     \u001b[38;5;124mf\u001b[39m\u001b[38;5;124m\"\u001b[39m\u001b[38;5;124m'\u001b[39m\u001b[38;5;132;01m{\u001b[39;00m\u001b[38;5;28mtype\u001b[39m(\u001b[38;5;28mself\u001b[39m)\u001b[38;5;241m.\u001b[39m\u001b[38;5;18m__name__\u001b[39m\u001b[38;5;132;01m}\u001b[39;00m\u001b[38;5;124m'\u001b[39m\u001b[38;5;124m object has no attribute \u001b[39m\u001b[38;5;124m'\u001b[39m\u001b[38;5;132;01m{\u001b[39;00mattr\u001b[38;5;132;01m}\u001b[39;00m\u001b[38;5;124m'\u001b[39m\u001b[38;5;124m\"\u001b[39m\n\u001b[1;32m   1365\u001b[0m )\n",
      "\u001b[0;31mAttributeError\u001b[0m: 'SeriesGroupBy' object has no attribute 'sillyfunc'"
     ]
    }
   ],
   "source": [
    "df.groupby('passenger_count')['trip_distance'].agg(['sillyfunc'])"
   ]
  },
  {
   "cell_type": "markdown",
   "id": "212adfb5-c971-426f-949b-160935b6fe04",
   "metadata": {},
   "source": [
    "# More Olympic grouping!\n",
    "\n",
    "1. Find, for each combination of year and team, the tallest athlete. (Another way to describe it: Find the tallest athlete across each year in the team.)\n",
    "2. Find, for each year, the youngest and oldest athletes for each team.\n",
    "3. Find, for each sport, the mean and median weights.\n",
    "4. Find, for each combination of year/country, the min and max age and height."
   ]
  },
  {
   "cell_type": "code",
   "execution_count": 38,
   "id": "a89e0563-26bb-44be-8cdb-dc9f140b8e73",
   "metadata": {},
   "outputs": [],
   "source": [
    "df = pd.read_csv('../data/olympic_athlete_events.csv')"
   ]
  },
  {
   "cell_type": "code",
   "execution_count": null,
   "id": "00054699-e46a-447c-9dd5-dff3efebebcb",
   "metadata": {},
   "outputs": [],
   "source": [
    "# Find, for each combination of year and team, the tallest athlete. \n",
    "# (Another way to describe it: Find the tallest athlete across each year in the team.)\n",
    "\n",
    "df.groupby("
   ]
  },
  {
   "cell_type": "code",
   "execution_count": null,
   "id": "d313081a-e741-44a8-857c-ca9c8b2e8b72",
   "metadata": {},
   "outputs": [],
   "source": [
    "# Find, for each year, the youngest and oldest athletes for each team."
   ]
  },
  {
   "cell_type": "code",
   "execution_count": null,
   "id": "5889486a-20a6-4730-9272-95b7fca2415a",
   "metadata": {},
   "outputs": [],
   "source": [
    "# Find, for each sport, the mean and median weights."
   ]
  },
  {
   "cell_type": "code",
   "execution_count": null,
   "id": "041148df-8b84-4242-89fb-ebfe4041a720",
   "metadata": {},
   "outputs": [],
   "source": [
    "# Find, for each combination of year/country, the min and max age and height."
   ]
  }
 ],
 "metadata": {
  "kernelspec": {
   "display_name": "Python 3 (ipykernel)",
   "language": "python",
   "name": "python3"
  },
  "language_info": {
   "codemirror_mode": {
    "name": "ipython",
    "version": 3
   },
   "file_extension": ".py",
   "mimetype": "text/x-python",
   "name": "python",
   "nbconvert_exporter": "python",
   "pygments_lexer": "ipython3",
   "version": "3.12.3"
  }
 },
 "nbformat": 4,
 "nbformat_minor": 5
}
