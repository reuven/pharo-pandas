{
 "cells": [
  {
   "cell_type": "code",
   "execution_count": null,
   "id": "e82699cc-c3bc-4aa1-8499-1c4a710b9747",
   "metadata": {},
   "outputs": [],
   "source": []
  }
 ],
 "metadata": {
  "kernelspec": {
   "display_name": "",
   "name": ""
  },
  "language_info": {
   "name": ""
  }
 },
 "nbformat": 4,
 "nbformat_minor": 5
}
