{
 "cells": [
  {
   "cell_type": "markdown",
   "id": "11dc1967-187d-447c-b2ae-11fa0e2eb65e",
   "metadata": {},
   "source": [
    "# Agenda: dtypes\n",
    "\n",
    "1. Basic dtypes (review)\n",
    "2. Changing dtypes\n",
    "3. Limits/issues with changing them\n",
    "4. `NaN` (\"Not a number\")\n",
    "5. Nullable types -- the evolution of Pandas"
   ]
  },
  {
   "cell_type": "markdown",
   "id": "dc919b27-eba0-4943-8d19-b57c1748fcf1",
   "metadata": {},
   "source": [
    "# Dtypes in Pandas\n",
    "\n",
    "Each column in a data frame is a series. Each series (whether on its own or inside of a data frame) has a dtype. That determines the type of data that each value in the series contains.\n",
    "\n",
    "In traditional Python lists, we can have any values, in any combination. In a series, they all must have exactly the same type. In a series, though, we do need to tell Pandas what types of data we want, so it can turn to NumPy (the lower-level layer) and allocate an array of the right size. Moreover, it needs to interpret the bits in memory in the right way.\n",
    "\n",
    "If we see `12` and `12.34`, we understand that the first is an integer, and the second is a float. We also think of a float has having \"extra stuff beyond the integer.\" The dtype not only tells Pandas what kinds of data we're going to store, and thus what the limits are on those values, but also how it needs to interpret the bits at the lowest level.\n",
    "\n",
    "Choosing a dtype is thus important for (a) making sure that the values will work, (b) making sure that they'll fit, and (c) making sure that you don't use too much memory.\n",
    "\n",
    "Normally, when we create a series, Pandas chooses a dtype for us:\n",
    "\n",
    "- If it sees only integers (decimal digits), then we get a dtype of `int64` -- 64-bit integers, aka 8-byte integers. These are signed, meaning that half of the numbers are positive and half are negative.\n",
    "- If it sees decimal digits and one decimal point, then we get a dtype of `float64` -- 64-bit floats, aka 8-byte floats. These are also signed.\n",
    "- If it sees other things, then it basically assumes that we have strings. But it doesn't use NumPy's strings, which are awful. Instead, it uses Python strings, and refers to them using a dtype of `object`.\n",
    "\n",
    "If you want to tell Pandas what dtype to use when you create a series, you can pass the `dtype=` keyword argument. The value for that argument is typically going to be a string indicating what dtype you want.\n",
    "\n",
    "Signed integers\n",
    "- `int8`\n",
    "- `int16`\n",
    "- `int32`\n",
    "- `int64`\n",
    "\n",
    "Unsigned integers (only positive, so we get 2x the range)\n",
    "- `uint8`\n",
    "- `uint16`\n",
    "- `uint32`\n",
    "- `uint64`\n",
    "\n",
    "Floats\n",
    "- `float16`\n",
    "- `float32`\n",
    "- `float64`\n",
    "\n",
    "For everything else, we have `object`. If you see a dtype of `object`, it *probably* means that you have strings there, but it might mean that Pandas wasn't sure what to do with the objects, which could be dicts, lists, etc."
   ]
  },
  {
   "cell_type": "code",
   "execution_count": 1,
   "id": "6a0ea540-df6a-4d48-a706-d06f3c80d318",
   "metadata": {},
   "outputs": [],
   "source": [
    "import pandas as pd\n",
    "from pandas import Series, DataFrame"
   ]
  },
  {
   "cell_type": "code",
   "execution_count": 2,
   "id": "b2a2bab4-05de-4cd7-98a6-aa6610bc5eed",
   "metadata": {},
   "outputs": [
    {
     "data": {
      "text/plain": [
       "dtype('int64')"
      ]
     },
     "execution_count": 2,
     "metadata": {},
     "output_type": "execute_result"
    }
   ],
   "source": [
    "s = Series([10, 20, 30])  # here, Pandas sees integers and will thus choose int64\n",
    "s.dtype"
   ]
  },
  {
   "cell_type": "code",
   "execution_count": 3,
   "id": "44e44ef4-6595-4ad3-b57d-8d773c955ebd",
   "metadata": {},
   "outputs": [
    {
     "data": {
      "text/plain": [
       "0    100\n",
       "1    200\n",
       "2    300\n",
       "dtype: int64"
      ]
     },
     "execution_count": 3,
     "metadata": {},
     "output_type": "execute_result"
    }
   ],
   "source": [
    "s * 10"
   ]
  },
  {
   "cell_type": "code",
   "execution_count": 4,
   "id": "991cbbd5-4ddf-4a3f-a714-cfa553fff0c5",
   "metadata": {},
   "outputs": [
    {
     "data": {
      "text/plain": [
       "0       1000000000000000\n",
       "1   -4125488147419103232\n",
       "2   -2659889346031157248\n",
       "dtype: int64"
      ]
     },
     "execution_count": 4,
     "metadata": {},
     "output_type": "execute_result"
    }
   ],
   "source": [
    "# we don't get a warning telling us that the numbers rolled over\n",
    "s ** 15"
   ]
  },
  {
   "cell_type": "code",
   "execution_count": 5,
   "id": "6cc70184-5f28-4034-b379-b6a8b7c69862",
   "metadata": {},
   "outputs": [
    {
     "data": {
      "text/plain": [
       "0    10\n",
       "1    20\n",
       "2    30\n",
       "dtype: int8"
      ]
     },
     "execution_count": 5,
     "metadata": {},
     "output_type": "execute_result"
    }
   ],
   "source": [
    "# What if we'll be using much smaller numbers, such as for years? Then we can (and should) use a different dtype\n",
    "\n",
    "s = Series([10, 20, 30], dtype='int8')\n",
    "s"
   ]
  },
  {
   "cell_type": "code",
   "execution_count": 6,
   "id": "55a5ba93-accb-4502-992e-06c287bd4914",
   "metadata": {},
   "outputs": [
    {
     "data": {
      "text/plain": [
       "0    110\n",
       "1    120\n",
       "2   -126\n",
       "dtype: int8"
      ]
     },
     "execution_count": 6,
     "metadata": {},
     "output_type": "execute_result"
    }
   ],
   "source": [
    "s + 100"
   ]
  },
  {
   "cell_type": "code",
   "execution_count": 7,
   "id": "1c3ea334-048b-4151-bcd0-9eed485dea71",
   "metadata": {},
   "outputs": [
    {
     "data": {
      "text/plain": [
       "256"
      ]
     },
     "execution_count": 7,
     "metadata": {},
     "output_type": "execute_result"
    }
   ],
   "source": [
    "2 ** 8"
   ]
  },
  {
   "cell_type": "code",
   "execution_count": 8,
   "id": "13fd837f-d9c3-41b5-9495-febaac109af4",
   "metadata": {},
   "outputs": [
    {
     "data": {
      "text/plain": [
       "128.0"
      ]
     },
     "execution_count": 8,
     "metadata": {},
     "output_type": "execute_result"
    }
   ],
   "source": [
    "(2 ** 8 ) / 2"
   ]
  },
  {
   "cell_type": "code",
   "execution_count": 12,
   "id": "81e80e52-8813-4178-bba6-989221fa2c63",
   "metadata": {},
   "outputs": [
    {
     "data": {
      "text/plain": [
       "0    108\n",
       "1    118\n",
       "2   -128\n",
       "dtype: int8"
      ]
     },
     "execution_count": 12,
     "metadata": {},
     "output_type": "execute_result"
    }
   ],
   "source": [
    "s + 98"
   ]
  },
  {
   "cell_type": "markdown",
   "id": "3561d566-0a17-4a99-959b-d36575ce73aa",
   "metadata": {},
   "source": [
    "You have to consider not just the data that you're going to be entering, but also the operations that you're going to be using on that data, and what the possible min/max values are that you'll be getting."
   ]
  },
  {
   "cell_type": "code",
   "execution_count": 14,
   "id": "f6ceb103-07ac-4b39-b364-35416add3ada",
   "metadata": {},
   "outputs": [
    {
     "data": {
      "text/plain": [
       "0    210\n",
       "1    220\n",
       "2    230\n",
       "dtype: uint8"
      ]
     },
     "execution_count": 14,
     "metadata": {},
     "output_type": "execute_result"
    }
   ],
   "source": [
    "# let's use an unsigned int\n",
    "s = Series([10, 20, 30], dtype='uint8')\n",
    "\n",
    "s + 200"
   ]
  },
  {
   "cell_type": "code",
   "execution_count": 15,
   "id": "6f2bc7d0-b075-4579-b9cd-74ff0bd1046c",
   "metadata": {},
   "outputs": [
    {
     "data": {
      "text/plain": [
       "135"
      ]
     },
     "execution_count": 15,
     "metadata": {},
     "output_type": "execute_result"
    }
   ],
   "source": [
    "# how much memory are these really using?\n",
    "\n",
    "s = Series([10, 20, 30], dtype='int8')  # 3 bytes of actual values\n",
    "s.memory_usage()    # 135 total, meaning 132 overhead"
   ]
  },
  {
   "cell_type": "code",
   "execution_count": 17,
   "id": "856ef46a-f0b8-4a92-aeea-03906b09f1b0",
   "metadata": {},
   "outputs": [
    {
     "data": {
      "text/plain": [
       "138"
      ]
     },
     "execution_count": 17,
     "metadata": {},
     "output_type": "execute_result"
    }
   ],
   "source": [
    "s = Series([10, 20, 30, 40, 50, 60], dtype='int8')  # 6 bytes of actual values\n",
    "s.memory_usage()    # 138 total, meaning 132 overhead"
   ]
  },
  {
   "cell_type": "code",
   "execution_count": 18,
   "id": "9b013d56-cf14-42c1-a24d-e6119b769374",
   "metadata": {},
   "outputs": [
    {
     "data": {
      "text/plain": [
       "156"
      ]
     },
     "execution_count": 18,
     "metadata": {},
     "output_type": "execute_result"
    }
   ],
   "source": [
    "# how much memory are these really using?\n",
    "\n",
    "s = Series([10, 20, 30], dtype='int64')  # 3 * 8\n",
    "s.memory_usage()    # 132 + 24 = 156"
   ]
  },
  {
   "cell_type": "code",
   "execution_count": 19,
   "id": "994523b3-49cc-448c-ba72-c0b322dadf1d",
   "metadata": {},
   "outputs": [
    {
     "data": {
      "text/plain": [
       "180"
      ]
     },
     "execution_count": 19,
     "metadata": {},
     "output_type": "execute_result"
    }
   ],
   "source": [
    "s = Series([10, 20, 30, 40, 50, 60], dtype='int64')  \n",
    "s.memory_usage()  "
   ]
  },
  {
   "cell_type": "code",
   "execution_count": 20,
   "id": "d3af212f-8fc4-4990-aaf3-85923bdbc334",
   "metadata": {},
   "outputs": [
    {
     "data": {
      "text/plain": [
       "0    10.0\n",
       "1    20.0\n",
       "2    30.5\n",
       "3    40.0\n",
       "4    50.0\n",
       "dtype: float64"
      ]
     },
     "execution_count": 20,
     "metadata": {},
     "output_type": "execute_result"
    }
   ],
   "source": [
    "# floats are going to take the same amount of space (because we know how many bits they'll use)\n",
    "\n",
    "s = Series([10, 20, 30.5, 40, 50])   # automatically, Pandas will assign a dtype of float64\n",
    "s"
   ]
  },
  {
   "cell_type": "code",
   "execution_count": 21,
   "id": "a253c564-3ead-43d2-a7f0-fe26e86e891a",
   "metadata": {},
   "outputs": [
    {
     "data": {
      "text/plain": [
       "172"
      ]
     },
     "execution_count": 21,
     "metadata": {},
     "output_type": "execute_result"
    }
   ],
   "source": [
    "s.memory_usage()"
   ]
  },
  {
   "cell_type": "code",
   "execution_count": 25,
   "id": "d01251f8-c778-42f0-9b45-224fcf5c5a93",
   "metadata": {},
   "outputs": [
    {
     "data": {
      "text/plain": [
       "0    10.101562\n",
       "1    20.203125\n",
       "2    30.500000\n",
       "3    40.000000\n",
       "4    50.000000\n",
       "dtype: float16"
      ]
     },
     "execution_count": 25,
     "metadata": {},
     "output_type": "execute_result"
    }
   ],
   "source": [
    "s = Series([10.1, 20.2, 30.5, 40, 50], dtype='float16')\n",
    "s\n"
   ]
  },
  {
   "cell_type": "code",
   "execution_count": 26,
   "id": "b1a1053c-bc0d-422b-8740-34a3c98f4b7f",
   "metadata": {},
   "outputs": [
    {
     "data": {
      "text/plain": [
       "0           10\n",
       "1         20.5\n",
       "2        hello\n",
       "3    [2, 4, 6]\n",
       "dtype: object"
      ]
     },
     "execution_count": 26,
     "metadata": {},
     "output_type": "execute_result"
    }
   ],
   "source": [
    "s = Series([10, 20.5, 'hello', [2,4,6]])\n",
    "s"
   ]
  },
  {
   "cell_type": "code",
   "execution_count": 28,
   "id": "1c576c46-1a70-41e0-8869-886154e83ecd",
   "metadata": {},
   "outputs": [
    {
     "data": {
      "text/plain": [
       "int"
      ]
     },
     "execution_count": 28,
     "metadata": {},
     "output_type": "execute_result"
    }
   ],
   "source": [
    "type(s.loc[0])"
   ]
  },
  {
   "cell_type": "code",
   "execution_count": 29,
   "id": "0fcadcbf-6680-456e-bcc6-58b4405d95ad",
   "metadata": {},
   "outputs": [
    {
     "data": {
      "text/plain": [
       "float"
      ]
     },
     "execution_count": 29,
     "metadata": {},
     "output_type": "execute_result"
    }
   ],
   "source": [
    "type(s.loc[1])"
   ]
  },
  {
   "cell_type": "code",
   "execution_count": 30,
   "id": "06ba003c-89b8-4146-9240-9f93ee548868",
   "metadata": {},
   "outputs": [
    {
     "data": {
      "text/plain": [
       "str"
      ]
     },
     "execution_count": 30,
     "metadata": {},
     "output_type": "execute_result"
    }
   ],
   "source": [
    "type(s.loc[2])"
   ]
  },
  {
   "cell_type": "code",
   "execution_count": 31,
   "id": "271507c5-c579-48b6-bb11-5ee53d36e52f",
   "metadata": {},
   "outputs": [
    {
     "data": {
      "text/plain": [
       "list"
      ]
     },
     "execution_count": 31,
     "metadata": {},
     "output_type": "execute_result"
    }
   ],
   "source": [
    "type(s.loc[3])"
   ]
  },
  {
   "cell_type": "code",
   "execution_count": 32,
   "id": "a2de3116-8c25-4fd3-a10b-df6930bd1ee8",
   "metadata": {},
   "outputs": [
    {
     "data": {
      "text/plain": [
       "0    a\n",
       "1    b\n",
       "2    c\n",
       "3    d\n",
       "dtype: object"
      ]
     },
     "execution_count": 32,
     "metadata": {},
     "output_type": "execute_result"
    }
   ],
   "source": [
    "s = Series(['a', 'b', 'c', 'd'])\n",
    "s"
   ]
  },
  {
   "cell_type": "code",
   "execution_count": 33,
   "id": "83065701-7a28-46ba-9b71-80025c38b9f7",
   "metadata": {},
   "outputs": [
    {
     "data": {
      "text/plain": [
       "164"
      ]
     },
     "execution_count": 33,
     "metadata": {},
     "output_type": "execute_result"
    }
   ],
   "source": [
    "s.memory_usage()"
   ]
  },
  {
   "cell_type": "code",
   "execution_count": 35,
   "id": "c5322dd0-7275-4df1-9218-6295808859a2",
   "metadata": {},
   "outputs": [
    {
     "data": {
      "text/plain": [
       "164"
      ]
     },
     "execution_count": 35,
     "metadata": {},
     "output_type": "execute_result"
    }
   ],
   "source": [
    "# let's try something else\n",
    "s = Series(['a'*5000, 'b'*6000, 'c'*7000, 'd'*8000])\n",
    "s.memory_usage()"
   ]
  },
  {
   "cell_type": "code",
   "execution_count": 34,
   "id": "43ec425f-cfc6-4e91-b34d-bfac9efb9aed",
   "metadata": {},
   "outputs": [
    {
     "data": {
      "text/plain": [
       "'aaaaa'"
      ]
     },
     "execution_count": 34,
     "metadata": {},
     "output_type": "execute_result"
    }
   ],
   "source": [
    "'a' * 5"
   ]
  },
  {
   "cell_type": "markdown",
   "id": "b29f65ea-8219-4a47-b8ad-d61a6b4cc370",
   "metadata": {},
   "source": [
    "The moment that we have \"object\" dtypes in our series, Pandas stops actually checking the sizes. Instead, it reports the \"size\" of the in-memory reference to the string in Python. In other words, this is the size of the address in memory where the value is, not the size of the value itself."
   ]
  },
  {
   "cell_type": "code",
   "execution_count": 36,
   "id": "1291c9ef-cb3e-4c4f-9a4a-1797d50d5cbf",
   "metadata": {},
   "outputs": [
    {
     "data": {
      "text/plain": [
       "26328"
      ]
     },
     "execution_count": 36,
     "metadata": {},
     "output_type": "execute_result"
    }
   ],
   "source": [
    "# we can check if we ask for deep=True\n",
    "# this means: I don't trust you -- go into Python's memory and ask each object how big it is\n",
    "s.memory_usage(deep=True)"
   ]
  },
  {
   "cell_type": "code",
   "execution_count": 37,
   "id": "de77bf01-69c2-42ee-b191-1cf36004bc72",
   "metadata": {},
   "outputs": [
    {
     "data": {
      "text/plain": [
       "164"
      ]
     },
     "execution_count": 37,
     "metadata": {},
     "output_type": "execute_result"
    }
   ],
   "source": [
    "s = Series(['a'*50000000, 'b'*6000000, 'c'*7000000, 'd'*8000000])\n",
    "s.memory_usage()"
   ]
  },
  {
   "cell_type": "code",
   "execution_count": 38,
   "id": "8bf68374-3ed4-4d9d-863f-c436c52eb6a7",
   "metadata": {},
   "outputs": [
    {
     "data": {
      "text/plain": [
       "71000328"
      ]
     },
     "execution_count": 38,
     "metadata": {},
     "output_type": "execute_result"
    }
   ],
   "source": [
    "s.memory_usage(deep=True)"
   ]
  },
  {
   "cell_type": "markdown",
   "id": "2938f4f9-77b9-40df-96fc-1bf9e1e688ed",
   "metadata": {},
   "source": [
    "# Exercise: Ages\n",
    "\n",
    "1. Create a series containing the ages of 5 people in your family.\n",
    "2. What dtype would be appropriate for such a series?\n",
    "3. What if you want to measure the age more precisely, using fractional years? What kind of dtype would be appropriate?\n",
    "4. Create a new series in which you measure the age (approximately) in seconds. Create that series using multiplication from the existing one. Is `int64` going to be large enough?"
   ]
  },
  {
   "cell_type": "code",
   "execution_count": 39,
   "id": "2027dc4c-36ac-4d04-baa7-cfc2e9130d3c",
   "metadata": {},
   "outputs": [
    {
     "data": {
      "text/plain": [
       "0    53\n",
       "1    51\n",
       "2    23\n",
       "3    21\n",
       "4    18\n",
       "dtype: int64"
      ]
     },
     "execution_count": 39,
     "metadata": {},
     "output_type": "execute_result"
    }
   ],
   "source": [
    "s = Series([53, 51, 23, 21, 18])\n",
    "s"
   ]
  },
  {
   "cell_type": "code",
   "execution_count": 41,
   "id": "3319e94a-911d-4b12-b33a-9cbcc396ee0d",
   "metadata": {},
   "outputs": [
    {
     "data": {
      "text/plain": [
       "9.223372036854776e+18"
      ]
     },
     "execution_count": 41,
     "metadata": {},
     "output_type": "execute_result"
    }
   ],
   "source": [
    "# what is the biggest int64 number we can have?\n",
    "\n",
    "(2 ** 64) / 2"
   ]
  },
  {
   "cell_type": "code",
   "execution_count": 42,
   "id": "43271abe-3ca6-445a-9b59-d4d9c354fd3e",
   "metadata": {},
   "outputs": [
    {
     "data": {
      "text/plain": [
       "0    53\n",
       "1    51\n",
       "2    23\n",
       "3    21\n",
       "4    18\n",
       "dtype: uint8"
      ]
     },
     "execution_count": 42,
     "metadata": {},
     "output_type": "execute_result"
    }
   ],
   "source": [
    "s = Series([53, 51, 23, 21, 18], dtype='uint8')\n",
    "s"
   ]
  },
  {
   "cell_type": "code",
   "execution_count": 45,
   "id": "3a6215ed-9406-45ee-b0b0-d15015135934",
   "metadata": {},
   "outputs": [
    {
     "data": {
      "text/plain": [
       "0    53.900002\n",
       "1    51.299999\n",
       "2    23.500000\n",
       "3    21.500000\n",
       "4    18.700001\n",
       "dtype: float32"
      ]
     },
     "execution_count": 45,
     "metadata": {},
     "output_type": "execute_result"
    }
   ],
   "source": [
    "# let's use floats to describe the ages\n",
    "s = Series([53.9, 51.3, 23.5, 21.5, 18.7], dtype='float32')\n",
    "s"
   ]
  },
  {
   "cell_type": "code",
   "execution_count": 47,
   "id": "6b65d7c4-8942-4992-95a4-1fd15172d586",
   "metadata": {},
   "outputs": [
    {
     "data": {
      "text/plain": [
       "0    1671408000\n",
       "1    1608336000\n",
       "2     725328000\n",
       "3     662256000\n",
       "4     567648000\n",
       "dtype: uint32"
      ]
     },
     "execution_count": 47,
     "metadata": {},
     "output_type": "execute_result"
    }
   ],
   "source": [
    "s = Series([53, 51, 23, 21, 18], dtype='uint8')\n",
    "s * 86400 * 365"
   ]
  },
  {
   "cell_type": "code",
   "execution_count": 49,
   "id": "90028eb0-f359-445c-9871-8130ea8d1dcc",
   "metadata": {},
   "outputs": [
    {
     "data": {
      "text/plain": [
       "0    1671408000\n",
       "1    1608336000\n",
       "2     725328000\n",
       "3     662256000\n",
       "4     567648000\n",
       "dtype: int32"
      ]
     },
     "execution_count": 49,
     "metadata": {},
     "output_type": "execute_result"
    }
   ],
   "source": [
    "s = Series([53, 51, 23, 21, 18], dtype='int8')\n",
    "s * 86400 * 365"
   ]
  },
  {
   "cell_type": "code",
   "execution_count": null,
   "id": "da6463d5-2f1e-4df6-9dba-7037dfaa2c70",
   "metadata": {},
   "outputs": [],
   "source": []
  }
 ],
 "metadata": {
  "kernelspec": {
   "display_name": "Python 3 (ipykernel)",
   "language": "python",
   "name": "python3"
  },
  "language_info": {
   "codemirror_mode": {
    "name": "ipython",
    "version": 3
   },
   "file_extension": ".py",
   "mimetype": "text/x-python",
   "name": "python",
   "nbconvert_exporter": "python",
   "pygments_lexer": "ipython3",
   "version": "3.12.3"
  }
 },
 "nbformat": 4,
 "nbformat_minor": 5
}
