{
 "cells": [
  {
   "cell_type": "code",
   "execution_count": null,
   "id": "d672fda9-b3b0-4018-b6ac-a65ee5f789e1",
   "metadata": {},
   "outputs": [],
   "source": []
  }
 ],
 "metadata": {
  "kernelspec": {
   "display_name": "",
   "name": ""
  },
  "language_info": {
   "name": ""
  }
 },
 "nbformat": 4,
 "nbformat_minor": 5
}
