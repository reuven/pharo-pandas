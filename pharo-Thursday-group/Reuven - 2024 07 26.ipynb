{
 "cells": [
  {
   "cell_type": "markdown",
   "id": "942e680f-05a5-4a45-a6e6-d88b577de277",
   "metadata": {},
   "source": [
    "# Agenda\n",
    "\n",
    "1. Pandas and strings (and their dtypes)\n",
    "2. String methods (and how to call them)\n",
    "3. Memory and strings\n",
    "4. Categories"
   ]
  },
  {
   "cell_type": "code",
   "execution_count": 1,
   "id": "b198e219-85c0-473b-9eb3-03c0af3ed9e3",
   "metadata": {},
   "outputs": [],
   "source": [
    "import pandas as pd\n",
    "from pandas import Series, DataFrame"
   ]
  },
  {
   "cell_type": "code",
   "execution_count": 2,
   "id": "890a7d81-81d3-47ac-a7b1-20d4b57658c2",
   "metadata": {},
   "outputs": [],
   "source": [
    "filename = '../data/winemag-150k-reviews.csv'\n",
    "df = pd.read_csv(filename)"
   ]
  },
  {
   "cell_type": "code",
   "execution_count": 3,
   "id": "9aa4e7ea-377d-49b4-9a63-435dbdbbae80",
   "metadata": {},
   "outputs": [
    {
     "data": {
      "text/html": [
       "<div>\n",
       "<style scoped>\n",
       "    .dataframe tbody tr th:only-of-type {\n",
       "        vertical-align: middle;\n",
       "    }\n",
       "\n",
       "    .dataframe tbody tr th {\n",
       "        vertical-align: top;\n",
       "    }\n",
       "\n",
       "    .dataframe thead th {\n",
       "        text-align: right;\n",
       "    }\n",
       "</style>\n",
       "<table border=\"1\" class=\"dataframe\">\n",
       "  <thead>\n",
       "    <tr style=\"text-align: right;\">\n",
       "      <th></th>\n",
       "      <th>Unnamed: 0</th>\n",
       "      <th>country</th>\n",
       "      <th>description</th>\n",
       "      <th>designation</th>\n",
       "      <th>points</th>\n",
       "      <th>price</th>\n",
       "      <th>province</th>\n",
       "      <th>region_1</th>\n",
       "      <th>region_2</th>\n",
       "      <th>variety</th>\n",
       "      <th>winery</th>\n",
       "    </tr>\n",
       "  </thead>\n",
       "  <tbody>\n",
       "    <tr>\n",
       "      <th>0</th>\n",
       "      <td>0</td>\n",
       "      <td>US</td>\n",
       "      <td>This tremendous 100% varietal wine hails from ...</td>\n",
       "      <td>Martha's Vineyard</td>\n",
       "      <td>96</td>\n",
       "      <td>235.0</td>\n",
       "      <td>California</td>\n",
       "      <td>Napa Valley</td>\n",
       "      <td>Napa</td>\n",
       "      <td>Cabernet Sauvignon</td>\n",
       "      <td>Heitz</td>\n",
       "    </tr>\n",
       "    <tr>\n",
       "      <th>1</th>\n",
       "      <td>1</td>\n",
       "      <td>Spain</td>\n",
       "      <td>Ripe aromas of fig, blackberry and cassis are ...</td>\n",
       "      <td>Carodorum Selección Especial Reserva</td>\n",
       "      <td>96</td>\n",
       "      <td>110.0</td>\n",
       "      <td>Northern Spain</td>\n",
       "      <td>Toro</td>\n",
       "      <td>NaN</td>\n",
       "      <td>Tinta de Toro</td>\n",
       "      <td>Bodega Carmen Rodríguez</td>\n",
       "    </tr>\n",
       "    <tr>\n",
       "      <th>2</th>\n",
       "      <td>2</td>\n",
       "      <td>US</td>\n",
       "      <td>Mac Watson honors the memory of a wine once ma...</td>\n",
       "      <td>Special Selected Late Harvest</td>\n",
       "      <td>96</td>\n",
       "      <td>90.0</td>\n",
       "      <td>California</td>\n",
       "      <td>Knights Valley</td>\n",
       "      <td>Sonoma</td>\n",
       "      <td>Sauvignon Blanc</td>\n",
       "      <td>Macauley</td>\n",
       "    </tr>\n",
       "    <tr>\n",
       "      <th>3</th>\n",
       "      <td>3</td>\n",
       "      <td>US</td>\n",
       "      <td>This spent 20 months in 30% new French oak, an...</td>\n",
       "      <td>Reserve</td>\n",
       "      <td>96</td>\n",
       "      <td>65.0</td>\n",
       "      <td>Oregon</td>\n",
       "      <td>Willamette Valley</td>\n",
       "      <td>Willamette Valley</td>\n",
       "      <td>Pinot Noir</td>\n",
       "      <td>Ponzi</td>\n",
       "    </tr>\n",
       "    <tr>\n",
       "      <th>4</th>\n",
       "      <td>4</td>\n",
       "      <td>France</td>\n",
       "      <td>This is the top wine from La Bégude, named aft...</td>\n",
       "      <td>La Brûlade</td>\n",
       "      <td>95</td>\n",
       "      <td>66.0</td>\n",
       "      <td>Provence</td>\n",
       "      <td>Bandol</td>\n",
       "      <td>NaN</td>\n",
       "      <td>Provence red blend</td>\n",
       "      <td>Domaine de la Bégude</td>\n",
       "    </tr>\n",
       "  </tbody>\n",
       "</table>\n",
       "</div>"
      ],
      "text/plain": [
       "   Unnamed: 0 country                                        description  \\\n",
       "0           0      US  This tremendous 100% varietal wine hails from ...   \n",
       "1           1   Spain  Ripe aromas of fig, blackberry and cassis are ...   \n",
       "2           2      US  Mac Watson honors the memory of a wine once ma...   \n",
       "3           3      US  This spent 20 months in 30% new French oak, an...   \n",
       "4           4  France  This is the top wine from La Bégude, named aft...   \n",
       "\n",
       "                            designation  points  price        province  \\\n",
       "0                     Martha's Vineyard      96  235.0      California   \n",
       "1  Carodorum Selección Especial Reserva      96  110.0  Northern Spain   \n",
       "2         Special Selected Late Harvest      96   90.0      California   \n",
       "3                               Reserve      96   65.0          Oregon   \n",
       "4                            La Brûlade      95   66.0        Provence   \n",
       "\n",
       "            region_1           region_2             variety  \\\n",
       "0        Napa Valley               Napa  Cabernet Sauvignon   \n",
       "1               Toro                NaN       Tinta de Toro   \n",
       "2     Knights Valley             Sonoma     Sauvignon Blanc   \n",
       "3  Willamette Valley  Willamette Valley          Pinot Noir   \n",
       "4             Bandol                NaN  Provence red blend   \n",
       "\n",
       "                    winery  \n",
       "0                    Heitz  \n",
       "1  Bodega Carmen Rodríguez  \n",
       "2                 Macauley  \n",
       "3                    Ponzi  \n",
       "4     Domaine de la Bégude  "
      ]
     },
     "execution_count": 3,
     "metadata": {},
     "output_type": "execute_result"
    }
   ],
   "source": [
    "df.head()"
   ]
  },
  {
   "cell_type": "code",
   "execution_count": 4,
   "id": "d4fe5f5c-cb83-4cd0-854d-2a6dec4ec997",
   "metadata": {},
   "outputs": [
    {
     "data": {
      "text/plain": [
       "(150930, 11)"
      ]
     },
     "execution_count": 4,
     "metadata": {},
     "output_type": "execute_result"
    }
   ],
   "source": [
    "df.shape"
   ]
  },
  {
   "cell_type": "code",
   "execution_count": 5,
   "id": "9ff7eb7c-dcd2-4ad6-b4b4-7bf39a43bfef",
   "metadata": {},
   "outputs": [
    {
     "data": {
      "text/plain": [
       "Unnamed: 0       int64\n",
       "country         object\n",
       "description     object\n",
       "designation     object\n",
       "points           int64\n",
       "price          float64\n",
       "province        object\n",
       "region_1        object\n",
       "region_2        object\n",
       "variety         object\n",
       "winery          object\n",
       "dtype: object"
      ]
     },
     "execution_count": 5,
     "metadata": {},
     "output_type": "execute_result"
    }
   ],
   "source": [
    "df.dtypes"
   ]
  },
  {
   "cell_type": "markdown",
   "id": "7731d081-17ec-46fc-b8e0-7211005865c1",
   "metadata": {},
   "source": [
    "When we read from a CSV file, Pandas normally has to guess what `dtype` to assign to each column. \n",
    "\n",
    "- If all of the values in a column are digits, then it assigns `int64`\n",
    "- If the values are digits plus one decimal point, then it assigns `float64`\n",
    "- In any other case, it assigns `object`\n",
    "\n",
    "We'll treat all of tehse values as Python strinfgs, and we'll refer to those Python objects with a pointer.  In theory, `object` could be any Python object. UjBut in practice. almost always `object` means a string."
   ]
  },
  {
   "cell_type": "code",
   "execution_count": 6,
   "id": "16035e32-89e3-45c4-87d9-8898887a685f",
   "metadata": {},
   "outputs": [
    {
     "data": {
      "text/plain": [
       "'This tremendous 100% varietal wine hails from Oakville and was aged over three years in oak. Juicy red-cherry fruit and a compelling hint of caramel greet the palate, framed by elegant, fine tannins and a subtle minty tone in the background. Balanced and rewarding from start to finish, it has years ahead of it to develop further nuance. Enjoy 2022–2030.'"
      ]
     },
     "execution_count": 6,
     "metadata": {},
     "output_type": "execute_result"
    }
   ],
   "source": [
    "df.loc[0, 'description']  # row index 0, column 'description'"
   ]
  },
  {
   "cell_type": "code",
   "execution_count": 8,
   "id": "cb7838e0-9bcf-40e9-8970-93c9dbc27fe1",
   "metadata": {},
   "outputs": [
    {
     "data": {
      "text/plain": [
       "str"
      ]
     },
     "execution_count": 8,
     "metadata": {},
     "output_type": "execute_result"
    }
   ],
   "source": [
    "type(df.loc[0, 'description'])  # row index 0, column 'description'"
   ]
  },
  {
   "cell_type": "markdown",
   "id": "68f2a01a-5991-4d23-91bf-447ecca8b459",
   "metadata": {},
   "source": [
    "How can we work with these strings?\n",
    "\n",
    "We could use a `for` loop to go through each string and invoke one or more methods on it. We want to use the vecotirzation capabilities of Pandas, which makes things much faster than that.\n",
    "\n",
    "Pandas gives us `.str`, which is an attribute on string columns, via which we can invoke a variety of methods.  We have, in this way, access to all of Python's string methods, *plus* a bunch of others that Pandas has borrowed from other languages, *plus* some extensions that Pandas found useful."
   ]
  },
  {
   "cell_type": "code",
   "execution_count": 10,
   "id": "fa089545-b015-4a27-9a03-3ea1325de277",
   "metadata": {},
   "outputs": [
    {
     "data": {
      "text/plain": [
       "150930"
      ]
     },
     "execution_count": 10,
     "metadata": {},
     "output_type": "execute_result"
    }
   ],
   "source": [
    "# what is the length of each contry's name? \n",
    "\n",
    "len(df['country'])  # this will give us the column's length, not the length of each element"
   ]
  },
  {
   "cell_type": "code",
   "execution_count": 11,
   "id": "e218c97c-4471-4950-be76-1c19b6b4b89a",
   "metadata": {},
   "outputs": [
    {
     "data": {
      "text/plain": [
       "0         2.0\n",
       "1         5.0\n",
       "2         2.0\n",
       "3         2.0\n",
       "4         6.0\n",
       "         ... \n",
       "150925    5.0\n",
       "150926    6.0\n",
       "150927    5.0\n",
       "150928    6.0\n",
       "150929    5.0\n",
       "Name: country, Length: 150930, dtype: float64"
      ]
     },
     "execution_count": 11,
     "metadata": {},
     "output_type": "execute_result"
    }
   ],
   "source": [
    "# the result is a series with the same index, but with values describing tghe length\n",
    "\n",
    "df['country'].str.len()  "
   ]
  },
  {
   "cell_type": "code",
   "execution_count": 13,
   "id": "4b5f7c5c-82d1-4604-8035-e312aed65be0",
   "metadata": {},
   "outputs": [
    {
     "data": {
      "text/html": [
       "<div>\n",
       "<style scoped>\n",
       "    .dataframe tbody tr th:only-of-type {\n",
       "        vertical-align: middle;\n",
       "    }\n",
       "\n",
       "    .dataframe tbody tr th {\n",
       "        vertical-align: top;\n",
       "    }\n",
       "\n",
       "    .dataframe thead th {\n",
       "        text-align: right;\n",
       "    }\n",
       "</style>\n",
       "<table border=\"1\" class=\"dataframe\">\n",
       "  <thead>\n",
       "    <tr style=\"text-align: right;\">\n",
       "      <th></th>\n",
       "      <th>Unnamed: 0</th>\n",
       "      <th>country</th>\n",
       "      <th>description</th>\n",
       "      <th>designation</th>\n",
       "      <th>points</th>\n",
       "      <th>price</th>\n",
       "      <th>province</th>\n",
       "      <th>region_1</th>\n",
       "      <th>region_2</th>\n",
       "      <th>variety</th>\n",
       "      <th>winery</th>\n",
       "    </tr>\n",
       "  </thead>\n",
       "  <tbody>\n",
       "    <tr>\n",
       "      <th>4</th>\n",
       "      <td>4</td>\n",
       "      <td>France</td>\n",
       "      <td>This is the top wine from La Bégude, named aft...</td>\n",
       "      <td>La Brûlade</td>\n",
       "      <td>95</td>\n",
       "      <td>66.0</td>\n",
       "      <td>Provence</td>\n",
       "      <td>Bandol</td>\n",
       "      <td>NaN</td>\n",
       "      <td>Provence red blend</td>\n",
       "      <td>Domaine de la Bégude</td>\n",
       "    </tr>\n",
       "    <tr>\n",
       "      <th>13</th>\n",
       "      <td>13</td>\n",
       "      <td>France</td>\n",
       "      <td>This wine is in peak condition. The tannins an...</td>\n",
       "      <td>Château Montus Prestige</td>\n",
       "      <td>95</td>\n",
       "      <td>90.0</td>\n",
       "      <td>Southwest France</td>\n",
       "      <td>Madiran</td>\n",
       "      <td>NaN</td>\n",
       "      <td>Tannat</td>\n",
       "      <td>Vignobles Brumont</td>\n",
       "    </tr>\n",
       "    <tr>\n",
       "      <th>18</th>\n",
       "      <td>18</td>\n",
       "      <td>France</td>\n",
       "      <td>Coming from a seven-acre vineyard named after ...</td>\n",
       "      <td>Le Pigeonnier</td>\n",
       "      <td>95</td>\n",
       "      <td>290.0</td>\n",
       "      <td>Southwest France</td>\n",
       "      <td>Cahors</td>\n",
       "      <td>NaN</td>\n",
       "      <td>Malbec</td>\n",
       "      <td>Château Lagrézette</td>\n",
       "    </tr>\n",
       "    <tr>\n",
       "      <th>25</th>\n",
       "      <td>25</td>\n",
       "      <td>New Zealand</td>\n",
       "      <td>Yields were down in 2015, but intensity is up,...</td>\n",
       "      <td>Maté's Vineyard</td>\n",
       "      <td>94</td>\n",
       "      <td>57.0</td>\n",
       "      <td>Kumeu</td>\n",
       "      <td>NaN</td>\n",
       "      <td>NaN</td>\n",
       "      <td>Chardonnay</td>\n",
       "      <td>Kumeu River</td>\n",
       "    </tr>\n",
       "    <tr>\n",
       "      <th>30</th>\n",
       "      <td>30</td>\n",
       "      <td>Bulgaria</td>\n",
       "      <td>This Bulgarian Mavrud presents the nose with s...</td>\n",
       "      <td>Bergulé</td>\n",
       "      <td>90</td>\n",
       "      <td>15.0</td>\n",
       "      <td>Bulgaria</td>\n",
       "      <td>NaN</td>\n",
       "      <td>NaN</td>\n",
       "      <td>Mavrud</td>\n",
       "      <td>Villa Melnik</td>\n",
       "    </tr>\n",
       "    <tr>\n",
       "      <th>...</th>\n",
       "      <td>...</td>\n",
       "      <td>...</td>\n",
       "      <td>...</td>\n",
       "      <td>...</td>\n",
       "      <td>...</td>\n",
       "      <td>...</td>\n",
       "      <td>...</td>\n",
       "      <td>...</td>\n",
       "      <td>...</td>\n",
       "      <td>...</td>\n",
       "      <td>...</td>\n",
       "    </tr>\n",
       "    <tr>\n",
       "      <th>150921</th>\n",
       "      <td>150921</td>\n",
       "      <td>France</td>\n",
       "      <td>Shows some older notes: a bouquet of toasted w...</td>\n",
       "      <td>Blanc de Blancs Brut Mosaïque</td>\n",
       "      <td>91</td>\n",
       "      <td>38.0</td>\n",
       "      <td>Champagne</td>\n",
       "      <td>Champagne</td>\n",
       "      <td>NaN</td>\n",
       "      <td>Champagne Blend</td>\n",
       "      <td>Jacquart</td>\n",
       "    </tr>\n",
       "    <tr>\n",
       "      <th>150923</th>\n",
       "      <td>150923</td>\n",
       "      <td>France</td>\n",
       "      <td>Rich and toasty, with tiny bubbles. The bouque...</td>\n",
       "      <td>Demi-Sec</td>\n",
       "      <td>91</td>\n",
       "      <td>30.0</td>\n",
       "      <td>Champagne</td>\n",
       "      <td>Champagne</td>\n",
       "      <td>NaN</td>\n",
       "      <td>Champagne Blend</td>\n",
       "      <td>Jacquart</td>\n",
       "    </tr>\n",
       "    <tr>\n",
       "      <th>150924</th>\n",
       "      <td>150924</td>\n",
       "      <td>France</td>\n",
       "      <td>Really fine for a low-acid vintage, there's an...</td>\n",
       "      <td>Diamant Bleu</td>\n",
       "      <td>91</td>\n",
       "      <td>70.0</td>\n",
       "      <td>Champagne</td>\n",
       "      <td>Champagne</td>\n",
       "      <td>NaN</td>\n",
       "      <td>Champagne Blend</td>\n",
       "      <td>Heidsieck &amp; Co Monopole</td>\n",
       "    </tr>\n",
       "    <tr>\n",
       "      <th>150926</th>\n",
       "      <td>150926</td>\n",
       "      <td>France</td>\n",
       "      <td>Offers an intriguing nose with ginger, lime an...</td>\n",
       "      <td>Cuvée Prestige</td>\n",
       "      <td>91</td>\n",
       "      <td>27.0</td>\n",
       "      <td>Champagne</td>\n",
       "      <td>Champagne</td>\n",
       "      <td>NaN</td>\n",
       "      <td>Champagne Blend</td>\n",
       "      <td>H.Germain</td>\n",
       "    </tr>\n",
       "    <tr>\n",
       "      <th>150928</th>\n",
       "      <td>150928</td>\n",
       "      <td>France</td>\n",
       "      <td>A perfect salmon shade, with scents of peaches...</td>\n",
       "      <td>Grand Brut Rosé</td>\n",
       "      <td>90</td>\n",
       "      <td>52.0</td>\n",
       "      <td>Champagne</td>\n",
       "      <td>Champagne</td>\n",
       "      <td>NaN</td>\n",
       "      <td>Champagne Blend</td>\n",
       "      <td>Gosset</td>\n",
       "    </tr>\n",
       "  </tbody>\n",
       "</table>\n",
       "<p>50950 rows × 11 columns</p>\n",
       "</div>"
      ],
      "text/plain": [
       "        Unnamed: 0      country  \\\n",
       "4                4       France   \n",
       "13              13       France   \n",
       "18              18       France   \n",
       "25              25  New Zealand   \n",
       "30              30     Bulgaria   \n",
       "...            ...          ...   \n",
       "150921      150921       France   \n",
       "150923      150923       France   \n",
       "150924      150924       France   \n",
       "150926      150926       France   \n",
       "150928      150928       France   \n",
       "\n",
       "                                              description  \\\n",
       "4       This is the top wine from La Bégude, named aft...   \n",
       "13      This wine is in peak condition. The tannins an...   \n",
       "18      Coming from a seven-acre vineyard named after ...   \n",
       "25      Yields were down in 2015, but intensity is up,...   \n",
       "30      This Bulgarian Mavrud presents the nose with s...   \n",
       "...                                                   ...   \n",
       "150921  Shows some older notes: a bouquet of toasted w...   \n",
       "150923  Rich and toasty, with tiny bubbles. The bouque...   \n",
       "150924  Really fine for a low-acid vintage, there's an...   \n",
       "150926  Offers an intriguing nose with ginger, lime an...   \n",
       "150928  A perfect salmon shade, with scents of peaches...   \n",
       "\n",
       "                          designation  points  price          province  \\\n",
       "4                          La Brûlade      95   66.0          Provence   \n",
       "13            Château Montus Prestige      95   90.0  Southwest France   \n",
       "18                      Le Pigeonnier      95  290.0  Southwest France   \n",
       "25                    Maté's Vineyard      94   57.0             Kumeu   \n",
       "30                            Bergulé      90   15.0          Bulgaria   \n",
       "...                               ...     ...    ...               ...   \n",
       "150921  Blanc de Blancs Brut Mosaïque      91   38.0         Champagne   \n",
       "150923                       Demi-Sec      91   30.0         Champagne   \n",
       "150924                   Diamant Bleu      91   70.0         Champagne   \n",
       "150926                 Cuvée Prestige      91   27.0         Champagne   \n",
       "150928                Grand Brut Rosé      90   52.0         Champagne   \n",
       "\n",
       "         region_1 region_2             variety                   winery  \n",
       "4          Bandol      NaN  Provence red blend     Domaine de la Bégude  \n",
       "13        Madiran      NaN              Tannat        Vignobles Brumont  \n",
       "18         Cahors      NaN              Malbec       Château Lagrézette  \n",
       "25            NaN      NaN          Chardonnay              Kumeu River  \n",
       "30            NaN      NaN              Mavrud             Villa Melnik  \n",
       "...           ...      ...                 ...                      ...  \n",
       "150921  Champagne      NaN     Champagne Blend                 Jacquart  \n",
       "150923  Champagne      NaN     Champagne Blend                 Jacquart  \n",
       "150924  Champagne      NaN     Champagne Blend  Heidsieck & Co Monopole  \n",
       "150926  Champagne      NaN     Champagne Blend                H.Germain  \n",
       "150928  Champagne      NaN     Champagne Blend                   Gosset  \n",
       "\n",
       "[50950 rows x 11 columns]"
      ]
     },
     "execution_count": 13,
     "metadata": {},
     "output_type": "execute_result"
    }
   ],
   "source": [
    "# which countries have > 5 letters in their names? \n",
    "df.loc[df['country'].str.len() > 5]"
   ]
  },
  {
   "cell_type": "markdown",
   "id": "710af75b-952a-4588-9e13-3d6a64c9a6c8",
   "metadata": {},
   "source": [
    "# Exercise: Descriptions + scores == correlated?\n",
    "\n",
    "1. Calculate the number of characters in each description. Find, using the `quantile` method, the number of characters in the top 25% of description lengths.  For those descriptions, get the mean `points`.\n",
    "2. Now calculate the mean `points` for the shortest 25% of descriptions. Do we see any (ridiculous) correlation?"
   ]
  },
  {
   "cell_type": "code",
   "execution_count": 20,
   "id": "0a7a23f8-39b7-4b2b-b49f-fa9a4e878935",
   "metadata": {},
   "outputs": [
    {
     "data": {
      "text/plain": [
       "90.02646323819545"
      ]
     },
     "execution_count": 20,
     "metadata": {},
     "output_type": "execute_result"
    }
   ],
   "source": [
    "df.loc[  \n",
    "    df['description'].str.len() >= df['description'].str.len().quantile(0.75)      # row selector\n",
    ",\n",
    "    'points'    # column selector\n",
    "].mean()"
   ]
  },
  {
   "cell_type": "code",
   "execution_count": 21,
   "id": "85ca78c7-dc1a-4412-abf4-1bd4f735933a",
   "metadata": {},
   "outputs": [
    {
     "data": {
      "text/plain": [
       "85.838828701523"
      ]
     },
     "execution_count": 21,
     "metadata": {},
     "output_type": "execute_result"
    }
   ],
   "source": [
    "df.loc[  \n",
    "    df['description'].str.len() <= df['description'].str.len().quantile(0.25)      # row selector\n",
    ",\n",
    "    'points'    # column selector\n",
    "].mean()"
   ]
  },
  {
   "cell_type": "code",
   "execution_count": null,
   "id": "0b845887-6167-48fe-aa44-c43b65b0e9ec",
   "metadata": {},
   "outputs": [],
   "source": []
  }
 ],
 "metadata": {
  "kernelspec": {
   "display_name": "Python 3 (ipykernel)",
   "language": "python",
   "name": "python3"
  },
  "language_info": {
   "codemirror_mode": {
    "name": "ipython",
    "version": 3
   },
   "file_extension": ".py",
   "mimetype": "text/x-python",
   "name": "python",
   "nbconvert_exporter": "python",
   "pygments_lexer": "ipython3",
   "version": "3.12.3"
  }
 },
 "nbformat": 4,
 "nbformat_minor": 5
}
