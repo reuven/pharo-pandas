{
 "cells": [
  {
   "cell_type": "code",
   "execution_count": 1,
   "id": "55b97c3a-79dc-4812-9472-e5e3045bfaef",
   "metadata": {},
   "outputs": [
    {
     "data": {
      "text/plain": [
       "0    10.0\n",
       "1    20.0\n",
       "2     NaN\n",
       "3    40.0\n",
       "4    50.0\n",
       "dtype: float64"
      ]
     },
     "execution_count": 1,
     "metadata": {},
     "output_type": "execute_result"
    }
   ],
   "source": [
    "# cleaning 'NaN'\n",
    "\n",
    "import pandas as pd\n",
    "import numpy as np\n",
    "from pandas import Series, DataFrame\n",
    "\n",
    "s = Series([10,20, np.nan, 40, 50])\n",
    "s"
   ]
  },
  {
   "cell_type": "code",
   "execution_count": 2,
   "id": "9a0b68f1-6167-4de2-98e0-29ae994e718a",
   "metadata": {},
   "outputs": [
    {
     "data": {
      "text/plain": [
       "0    10.0\n",
       "1    20.0\n",
       "2     5.0\n",
       "3    40.0\n",
       "4    50.0\n",
       "dtype: float64"
      ]
     },
     "execution_count": 2,
     "metadata": {},
     "output_type": "execute_result"
    }
   ],
   "source": [
    "# fillna method\n",
    "s.fillna(5)"
   ]
  },
  {
   "cell_type": "code",
   "execution_count": 3,
   "id": "56a0408d-f038-4b27-88f4-935ffa6618ee",
   "metadata": {},
   "outputs": [
    {
     "data": {
      "text/plain": [
       "0    10.0\n",
       "1    20.0\n",
       "2    30.0\n",
       "3    40.0\n",
       "4    50.0\n",
       "dtype: float64"
      ]
     },
     "execution_count": 3,
     "metadata": {},
     "output_type": "execute_result"
    }
   ],
   "source": [
    "s.fillna(s.mean())"
   ]
  },
  {
   "cell_type": "code",
   "execution_count": 6,
   "id": "ff891fcd-5179-4e80-b0f3-db78e8680845",
   "metadata": {},
   "outputs": [
    {
     "data": {
      "text/plain": [
       "0    10.0\n",
       "1    20.0\n",
       "3    40.0\n",
       "4    50.0\n",
       "dtype: float64"
      ]
     },
     "execution_count": 6,
     "metadata": {},
     "output_type": "execute_result"
    }
   ],
   "source": [
    "# dropna\n",
    "\n",
    "s.dropna()"
   ]
  },
  {
   "cell_type": "code",
   "execution_count": 9,
   "id": "04d173b9-f0e6-4874-b554-51cd120ebc08",
   "metadata": {},
   "outputs": [
    {
     "data": {
      "text/plain": [
       "Tue    19.0\n",
       "Wed    22.0\n",
       "Thu    22.0\n",
       "Fri     NaN\n",
       "Sat    19.0\n",
       "Sun    22.0\n",
       "Mon     NaN\n",
       "Tue    22.0\n",
       "Wed    19.0\n",
       "Thu     NaN\n",
       "dtype: float64"
      ]
     },
     "execution_count": 9,
     "metadata": {},
     "output_type": "execute_result"
    }
   ],
   "source": [
    "# Missing Weather\n",
    "\n",
    "s = Series([19,22,22,np.nan,19,22,np.nan,22,19,np.nan],\n",
    "          index='Tue Wed Thu Fri Sat Sun Mon Tue Wed Thu'.split())"
   ]
  },
  {
   "cell_type": "code",
   "execution_count": 10,
   "id": "595b21f9-0e80-4d09-97bc-87637056ebff",
   "metadata": {},
   "outputs": [
    {
     "data": {
      "text/plain": [
       "Tue    19.000000\n",
       "Wed    22.000000\n",
       "Thu    22.000000\n",
       "Fri    20.714286\n",
       "Sat    19.000000\n",
       "Sun    22.000000\n",
       "Mon    20.714286\n",
       "Tue    22.000000\n",
       "Wed    19.000000\n",
       "Thu    20.714286\n",
       "dtype: float64"
      ]
     },
     "execution_count": 10,
     "metadata": {},
     "output_type": "execute_result"
    }
   ],
   "source": [
    "s.fillna(s.mean())"
   ]
  },
  {
   "cell_type": "code",
   "execution_count": 11,
   "id": "710f2c73-29d3-4e83-93df-843f0a2383f3",
   "metadata": {},
   "outputs": [
    {
     "data": {
      "text/plain": [
       "Tue    19.0\n",
       "Wed    22.0\n",
       "Thu    22.0\n",
       "Fri    22.0\n",
       "Sat    19.0\n",
       "Sun    22.0\n",
       "Mon    22.0\n",
       "Tue    22.0\n",
       "Wed    19.0\n",
       "Thu    22.0\n",
       "dtype: float64"
      ]
     },
     "execution_count": 11,
     "metadata": {},
     "output_type": "execute_result"
    }
   ],
   "source": [
    "s.fillna(s.median())"
   ]
  },
  {
   "cell_type": "code",
   "execution_count": 12,
   "id": "b3625220-c820-4587-837a-7ee4644e5a65",
   "metadata": {},
   "outputs": [
    {
     "data": {
      "text/plain": [
       "Tue    19.0\n",
       "Wed    22.0\n",
       "Thu    22.0\n",
       "Sat    19.0\n",
       "Sun    22.0\n",
       "Tue    22.0\n",
       "Wed    19.0\n",
       "dtype: float64"
      ]
     },
     "execution_count": 12,
     "metadata": {},
     "output_type": "execute_result"
    }
   ],
   "source": [
    "s.dropna()"
   ]
  }
 ],
 "metadata": {
  "kernelspec": {
   "display_name": "Python 3 (ipykernel)",
   "language": "python",
   "name": "python3"
  },
  "language_info": {
   "codemirror_mode": {
    "name": "ipython",
    "version": 3
   },
   "file_extension": ".py",
   "mimetype": "text/x-python",
   "name": "python",
   "nbconvert_exporter": "python",
   "pygments_lexer": "ipython3",
   "version": "3.12.3"
  }
 },
 "nbformat": 4,
 "nbformat_minor": 5
}
