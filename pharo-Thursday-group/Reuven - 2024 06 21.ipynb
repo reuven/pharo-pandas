{
 "cells": [
  {
   "cell_type": "markdown",
   "id": "d6f48751-071f-4400-a904-7285f7fab144",
   "metadata": {},
   "source": [
    "# Agenda\n",
    "\n",
    "1. More on loading CSV files (especially a number of useful options / keyword arguments)\n",
    "2. Reading Excel files\n",
    "3. Reading from URLs\n",
    "4. Scraping Web pages"
   ]
  },
  {
   "cell_type": "code",
   "execution_count": null,
   "id": "99a0baa2-f7bb-46b3-aab2-4e4810860c57",
   "metadata": {},
   "outputs": [],
   "source": []
  }
 ],
 "metadata": {
  "kernelspec": {
   "display_name": "Python 3 (ipykernel)",
   "language": "python",
   "name": "python3"
  },
  "language_info": {
   "codemirror_mode": {
    "name": "ipython",
    "version": 3
   },
   "file_extension": ".py",
   "mimetype": "text/x-python",
   "name": "python",
   "nbconvert_exporter": "python",
   "pygments_lexer": "ipython3",
   "version": "3.12.3"
  }
 },
 "nbformat": 4,
 "nbformat_minor": 5
}
