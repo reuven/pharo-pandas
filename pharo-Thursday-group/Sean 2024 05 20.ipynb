{
 "cells": [
  {
   "cell_type": "markdown",
   "id": "fc26e06e-2c19-48c0-91b7-e85eda05afe9",
   "metadata": {},
   "source": [
    "## Agenda: Indexing and dtypes\n",
    "\n",
    "1. Indexes\n",
    "   - Setting\n",
    "   - Resetting\n",
    "2. inplace=True\n",
    "3. dtypes"
   ]
  },
  {
   "cell_type": "code",
   "execution_count": 1,
   "id": "b90b3753-7f13-45ff-9605-b1eaad127b9c",
   "metadata": {},
   "outputs": [],
   "source": [
    "import numpy as np\n",
    "import pandas as pd #if Pandas isn't yet imported, do so -- and give it the alias \"pd\"\n"
   ]
  },
  {
   "cell_type": "code",
   "execution_count": null,
   "id": "1a05bfea-a30c-4a22-a4c0-bbea1580f769",
   "metadata": {},
   "outputs": [],
   "source": []
  }
 ],
 "metadata": {
  "kernelspec": {
   "display_name": "Python 3 (ipykernel)",
   "language": "python",
   "name": "python3"
  },
  "language_info": {
   "codemirror_mode": {
    "name": "ipython",
    "version": 3
   },
   "file_extension": ".py",
   "mimetype": "text/x-python",
   "name": "python",
   "nbconvert_exporter": "python",
   "pygments_lexer": "ipython3",
   "version": "3.12.3"
  }
 },
 "nbformat": 4,
 "nbformat_minor": 5
}
