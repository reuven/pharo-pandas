{
 "cells": [
  {
   "cell_type": "markdown",
   "id": "36473349-e4b1-4bb7-8453-8ce803726b9e",
   "metadata": {},
   "source": [
    "# Agenda\n",
    "\n",
    "1. Fun with promotions\n",
    "2. Data frames\n",
    "    - What are they?\n",
    "    - How can we create simple ones by hand?\n",
    "    - How do we retrieve from them?\n",
    "3. Reading from CSV files\n",
    "    - Some basic options\n",
    "    - - Things to watch out for\n",
    "4. Retrieving with `.loc` -- ways to think about it\n",
    "5. How to avoid a common Pandas warning / error"
   ]
  },
  {
   "cell_type": "code",
   "execution_count": null,
   "id": "68b54aa8-1beb-469f-8fa4-0b93be4cfc34",
   "metadata": {},
   "outputs": [],
   "source": []
  }
 ],
 "metadata": {
  "kernelspec": {
   "display_name": "Python 3 (ipykernel)",
   "language": "python",
   "name": "python3"
  },
  "language_info": {
   "codemirror_mode": {
    "name": "ipython",
    "version": 3
   },
   "file_extension": ".py",
   "mimetype": "text/x-python",
   "name": "python",
   "nbconvert_exporter": "python",
   "pygments_lexer": "ipython3",
   "version": "3.12.3"
  }
 },
 "nbformat": 4,
 "nbformat_minor": 5
}
