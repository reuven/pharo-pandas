{
 "cells": [
  {
   "cell_type": "code",
   "execution_count": null,
   "id": "8f6afeff-b059-41e1-a383-57695a694222",
   "metadata": {},
   "outputs": [],
   "source": []
  }
 ],
 "metadata": {
  "kernelspec": {
   "display_name": "",
   "name": ""
  },
  "language_info": {
   "name": ""
  }
 },
 "nbformat": 4,
 "nbformat_minor": 5
}
