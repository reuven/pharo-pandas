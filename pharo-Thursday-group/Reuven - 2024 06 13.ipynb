{
 "cells": [
  {
   "cell_type": "markdown",
   "id": "36473349-e4b1-4bb7-8453-8ce803726b9e",
   "metadata": {},
   "source": [
    "# Agenda\n",
    "\n",
    "1. Fun with promotions\n",
    "2. Data frames\n",
    "    - What are they?\n",
    "    - How can we create simple ones by hand?\n",
    "    - How do we retrieve from them?\n",
    "3. Reading from CSV files\n",
    "    - Some basic options\n",
    "    - - Things to watch out for\n",
    "4. Retrieving with `.loc` -- ways to think about it\n",
    "5. How to avoid a common Pandas warning / error"
   ]
  },
  {
   "cell_type": "code",
   "execution_count": 2,
   "id": "68b54aa8-1beb-469f-8fa4-0b93be4cfc34",
   "metadata": {},
   "outputs": [],
   "source": [
    "import pandas as pd\n",
    "from pandas import Series, DataFrame"
   ]
  },
  {
   "cell_type": "code",
   "execution_count": 3,
   "id": "c2340d22-7d02-4ed6-b6cd-587b49be1ebc",
   "metadata": {},
   "outputs": [
    {
     "data": {
      "text/plain": [
       "0    10\n",
       "1    20\n",
       "2    30\n",
       "3    40\n",
       "4    50\n",
       "dtype: int8"
      ]
     },
     "execution_count": 3,
     "metadata": {},
     "output_type": "execute_result"
    }
   ],
   "source": [
    "s = Series([10, 20, 30, 40, 50], dtype='int8')\n",
    "s"
   ]
  },
  {
   "cell_type": "code",
   "execution_count": 4,
   "id": "fb1f58fa-5dae-488f-b17d-8578125ee559",
   "metadata": {},
   "outputs": [
    {
     "data": {
      "text/plain": [
       "256"
      ]
     },
     "execution_count": 4,
     "metadata": {},
     "output_type": "execute_result"
    }
   ],
   "source": [
    "2 ** 8"
   ]
  },
  {
   "cell_type": "code",
   "execution_count": 5,
   "id": "9e8ffec8-2952-4f6d-b965-0b29f798b93f",
   "metadata": {},
   "outputs": [
    {
     "data": {
      "text/plain": [
       "0     20\n",
       "1     40\n",
       "2     60\n",
       "3     80\n",
       "4    100\n",
       "dtype: int8"
      ]
     },
     "execution_count": 5,
     "metadata": {},
     "output_type": "execute_result"
    }
   ],
   "source": [
    "s * 2"
   ]
  },
  {
   "cell_type": "code",
   "execution_count": 6,
   "id": "7719116e-6d8f-4246-954b-705f1b235ee1",
   "metadata": {},
   "outputs": [
    {
     "data": {
      "text/plain": [
       "0    100\n",
       "1    -56\n",
       "2     44\n",
       "3   -112\n",
       "4    -12\n",
       "dtype: int8"
      ]
     },
     "execution_count": 6,
     "metadata": {},
     "output_type": "execute_result"
    }
   ],
   "source": [
    "s * 10  # here, we multiply by 10 and the numbers \"roll over\" -- because int8 isn't big enough for some solutions"
   ]
  },
  {
   "cell_type": "code",
   "execution_count": 8,
   "id": "c7b72cf8-8983-49c6-9416-299863a0da9a",
   "metadata": {},
   "outputs": [
    {
     "data": {
      "text/plain": [
       "0     2000\n",
       "1     4000\n",
       "2     6000\n",
       "3     8000\n",
       "4    10000\n",
       "dtype: int16"
      ]
     },
     "execution_count": 8,
     "metadata": {},
     "output_type": "execute_result"
    }
   ],
   "source": [
    "s * 200   # will this have similar problems?  no!"
   ]
  },
  {
   "cell_type": "code",
   "execution_count": 20,
   "id": "17d4a9b6-8651-41b2-b2cb-a322bab463cc",
   "metadata": {},
   "outputs": [],
   "source": [
    "# somewhere along the line, Pandas decided to \"promote\" the series from int8 to int16, thus saving the day\n",
    "\n",
    "# Pandas looks at the number by which we're mulitplying  -- if it fits into the current dtype, then it keeps the dtype\n",
    "# and performs the operation.  But if the number is too big for the current dtype, then it promotes the series when it calculates."
   ]
  },
  {
   "cell_type": "code",
   "execution_count": 21,
   "id": "13e51333-14e3-43d8-ba2f-34755fa6a965",
   "metadata": {},
   "outputs": [
    {
     "data": {
      "text/plain": [
       "0   -120\n",
       "1   -110\n",
       "2   -100\n",
       "3    -90\n",
       "4    -80\n",
       "dtype: int8"
      ]
     },
     "execution_count": 21,
     "metadata": {},
     "output_type": "execute_result"
    }
   ],
   "source": [
    "s + 126"
   ]
  },
  {
   "cell_type": "code",
   "execution_count": 22,
   "id": "5b405b9b-a77b-47d0-9b4f-f4620ca0a5bf",
   "metadata": {},
   "outputs": [
    {
     "data": {
      "text/plain": [
       "0   -119\n",
       "1   -109\n",
       "2    -99\n",
       "3    -89\n",
       "4    -79\n",
       "dtype: int8"
      ]
     },
     "execution_count": 22,
     "metadata": {},
     "output_type": "execute_result"
    }
   ],
   "source": [
    "s + 127"
   ]
  },
  {
   "cell_type": "code",
   "execution_count": 23,
   "id": "cf8cf99d-e3e3-4ab2-b14b-d46a147d7232",
   "metadata": {},
   "outputs": [
    {
     "data": {
      "text/plain": [
       "0    138\n",
       "1    148\n",
       "2    158\n",
       "3    168\n",
       "4    178\n",
       "dtype: int16"
      ]
     },
     "execution_count": 23,
     "metadata": {},
     "output_type": "execute_result"
    }
   ],
   "source": [
    "s + 128"
   ]
  },
  {
   "cell_type": "markdown",
   "id": "9b47c711-5121-47a2-8651-ad79ca53bbc8",
   "metadata": {},
   "source": [
    "# Data frames\n",
    "\n",
    "A data frame is a 2D table with rows and columns:\n",
    "\n",
    "- Each row is identified by an index\n",
    "- Each column is identified by a name, or a column name\n",
    "\n",
    "Each column is basically a Pandas series. So anything that you can do on a series, you can do on a column.\n",
    "\n",
    "- Because each column is a series, we continue to use the index to identify each element.\n",
    "- All of teh series (columns) in a data frame share an index\n",
    "- When we retrieve a column, it's a series, like usual.\n",
    "- When we retrieve a row, Pandas creates a new series on the fly\n",
    "- Every column has a dtype, whereas rows are a combination of whatever dtypes are in their columns, and are often \"object\" columns\n",
    "\n"
   ]
  },
  {
   "cell_type": "code",
   "execution_count": 24,
   "id": "7776f453-a229-4a6b-86b6-9bc37112c381",
   "metadata": {},
   "outputs": [
    {
     "data": {
      "text/html": [
       "<div>\n",
       "<style scoped>\n",
       "    .dataframe tbody tr th:only-of-type {\n",
       "        vertical-align: middle;\n",
       "    }\n",
       "\n",
       "    .dataframe tbody tr th {\n",
       "        vertical-align: top;\n",
       "    }\n",
       "\n",
       "    .dataframe thead th {\n",
       "        text-align: right;\n",
       "    }\n",
       "</style>\n",
       "<table border=\"1\" class=\"dataframe\">\n",
       "  <thead>\n",
       "    <tr style=\"text-align: right;\">\n",
       "      <th></th>\n",
       "      <th>0</th>\n",
       "      <th>1</th>\n",
       "      <th>2</th>\n",
       "    </tr>\n",
       "  </thead>\n",
       "  <tbody>\n",
       "    <tr>\n",
       "      <th>0</th>\n",
       "      <td>10</td>\n",
       "      <td>20</td>\n",
       "      <td>30</td>\n",
       "    </tr>\n",
       "    <tr>\n",
       "      <th>1</th>\n",
       "      <td>40</td>\n",
       "      <td>50</td>\n",
       "      <td>60</td>\n",
       "    </tr>\n",
       "    <tr>\n",
       "      <th>2</th>\n",
       "      <td>70</td>\n",
       "      <td>80</td>\n",
       "      <td>90</td>\n",
       "    </tr>\n",
       "    <tr>\n",
       "      <th>3</th>\n",
       "      <td>100</td>\n",
       "      <td>110</td>\n",
       "      <td>120</td>\n",
       "    </tr>\n",
       "  </tbody>\n",
       "</table>\n",
       "</div>"
      ],
      "text/plain": [
       "     0    1    2\n",
       "0   10   20   30\n",
       "1   40   50   60\n",
       "2   70   80   90\n",
       "3  100  110  120"
      ]
     },
     "execution_count": 24,
     "metadata": {},
     "output_type": "execute_result"
    }
   ],
   "source": [
    "# create a data frame with a list of lists\n",
    "# each inner list describes a row in the data frame\n",
    "\n",
    "df = DataFrame([[10, 20, 30],\n",
    "                [40, 50, 60],\n",
    "                [70, 80, 90],\n",
    "               [100, 110, 120]])\n",
    "df"
   ]
  },
  {
   "cell_type": "code",
   "execution_count": 25,
   "id": "ab0aaee7-714f-4a3d-a7ea-0ad230956e0e",
   "metadata": {},
   "outputs": [
    {
     "data": {
      "text/html": [
       "<div>\n",
       "<style scoped>\n",
       "    .dataframe tbody tr th:only-of-type {\n",
       "        vertical-align: middle;\n",
       "    }\n",
       "\n",
       "    .dataframe tbody tr th {\n",
       "        vertical-align: top;\n",
       "    }\n",
       "\n",
       "    .dataframe thead th {\n",
       "        text-align: right;\n",
       "    }\n",
       "</style>\n",
       "<table border=\"1\" class=\"dataframe\">\n",
       "  <thead>\n",
       "    <tr style=\"text-align: right;\">\n",
       "      <th></th>\n",
       "      <th>x</th>\n",
       "      <th>y</th>\n",
       "      <th>z</th>\n",
       "    </tr>\n",
       "  </thead>\n",
       "  <tbody>\n",
       "    <tr>\n",
       "      <th>a</th>\n",
       "      <td>10</td>\n",
       "      <td>20</td>\n",
       "      <td>30</td>\n",
       "    </tr>\n",
       "    <tr>\n",
       "      <th>b</th>\n",
       "      <td>40</td>\n",
       "      <td>50</td>\n",
       "      <td>60</td>\n",
       "    </tr>\n",
       "    <tr>\n",
       "      <th>c</th>\n",
       "      <td>70</td>\n",
       "      <td>80</td>\n",
       "      <td>90</td>\n",
       "    </tr>\n",
       "    <tr>\n",
       "      <th>d</th>\n",
       "      <td>100</td>\n",
       "      <td>110</td>\n",
       "      <td>120</td>\n",
       "    </tr>\n",
       "  </tbody>\n",
       "</table>\n",
       "</div>"
      ],
      "text/plain": [
       "     x    y    z\n",
       "a   10   20   30\n",
       "b   40   50   60\n",
       "c   70   80   90\n",
       "d  100  110  120"
      ]
     },
     "execution_count": 25,
     "metadata": {},
     "output_type": "execute_result"
    }
   ],
   "source": [
    "# by default, the rows and columns are both numbered starting at 0. That's technically fine,\n",
    "# but in real life you'll want to identify them with names or numbers. We can do that by \n",
    "# passing the \"index\" keyword argument, and also the \"columns\" keyword argument.\n",
    "\n",
    "df = DataFrame([[10, 20, 30],\n",
    "                [40, 50, 60],\n",
    "                [70, 80, 90],\n",
    "               [100, 110, 120]],\n",
    "              index=list('abcd'),\n",
    "              columns=list('xyz'))\n",
    "df"
   ]
  },
  {
   "cell_type": "code",
   "execution_count": 26,
   "id": "34343c35-44a5-40af-a540-65ea994f1431",
   "metadata": {},
   "outputs": [
    {
     "data": {
      "text/plain": [
       "Index(['a', 'b', 'c', 'd'], dtype='object')"
      ]
     },
     "execution_count": 26,
     "metadata": {},
     "output_type": "execute_result"
    }
   ],
   "source": [
    "# we can retrieve the index, just as we did with a series\n",
    "df.index"
   ]
  },
  {
   "cell_type": "code",
   "execution_count": 27,
   "id": "e8926140-9a75-4803-ac77-74f7c14c82c7",
   "metadata": {},
   "outputs": [
    {
     "data": {
      "text/plain": [
       "Index(['x', 'y', 'z'], dtype='object')"
      ]
     },
     "execution_count": 27,
     "metadata": {},
     "output_type": "execute_result"
    }
   ],
   "source": [
    "# how do we retrieve the column names? Just use the \"columns\" attribute\n",
    "df.columns"
   ]
  },
  {
   "cell_type": "code",
   "execution_count": 28,
   "id": "c7c5eedd-b2ad-41c5-9fe4-08401f703fdf",
   "metadata": {},
   "outputs": [
    {
     "data": {
      "text/plain": [
       "x    70\n",
       "y    80\n",
       "z    90\n",
       "Name: c, dtype: int64"
      ]
     },
     "execution_count": 28,
     "metadata": {},
     "output_type": "execute_result"
    }
   ],
   "source": [
    "# how can I retrieve a row from my data frame?\n",
    "# use .loc, just as we did with a series\n",
    "\n",
    "df.loc['c']"
   ]
  },
  {
   "cell_type": "code",
   "execution_count": null,
   "id": "acf30ddd-74ca-45c9-94a2-c5a52fc9eccc",
   "metadata": {},
   "outputs": [],
   "source": [
    "# with a series, we can retrieve more than one object at a time with fancxy "
   ]
  }
 ],
 "metadata": {
  "kernelspec": {
   "display_name": "Python 3 (ipykernel)",
   "language": "python",
   "name": "python3"
  },
  "language_info": {
   "codemirror_mode": {
    "name": "ipython",
    "version": 3
   },
   "file_extension": ".py",
   "mimetype": "text/x-python",
   "name": "python",
   "nbconvert_exporter": "python",
   "pygments_lexer": "ipython3",
   "version": "3.12.3"
  }
 },
 "nbformat": 4,
 "nbformat_minor": 5
}
