{
 "cells": [
  {
   "cell_type": "code",
   "execution_count": null,
   "id": "f373393d-3733-4ea8-af3b-606638586846",
   "metadata": {},
   "outputs": [],
   "source": []
  }
 ],
 "metadata": {
  "kernelspec": {
   "display_name": "",
   "name": ""
  },
  "language_info": {
   "name": ""
  }
 },
 "nbformat": 4,
 "nbformat_minor": 5
}
