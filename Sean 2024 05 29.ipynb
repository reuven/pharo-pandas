{
 "cells": [
  {
   "cell_type": "code",
   "execution_count": 2,
   "id": "c0d6e080-0e11-4c6b-ab08-b6430ee06796",
   "metadata": {},
   "outputs": [],
   "source": [
    "import numpy as np\n",
    "import pandas as pd\n",
    "from pandas import Series, DataFrame"
   ]
  },
  {
   "cell_type": "code",
   "execution_count": null,
   "id": "22f5b885-11c2-4947-97ee-c80d7f771461",
   "metadata": {},
   "outputs": [],
   "source": [
    "s = Series([10,20,30,40,50])"
   ]
  },
  {
   "cell_type": "markdown",
   "id": "d85f308d-ad64-47da-a741-dddd524d7da6",
   "metadata": {},
   "source": [
    "## What kind of floats do we have?\n",
    "\n",
    "- float16\n",
    "- float32\n",
    "- float64"
   ]
  },
  {
   "cell_type": "code",
   "execution_count": 3,
   "id": "cfe28aca-e28a-4284-b4b1-ed5677c9f858",
   "metadata": {},
   "outputs": [
    {
     "data": {
      "text/plain": [
       "0    hello\n",
       "1      out\n",
       "2    there\n",
       "dtype: object"
      ]
     },
     "execution_count": 3,
     "metadata": {},
     "output_type": "execute_result"
    }
   ],
   "source": [
    "#what about other things?\n",
    "\n",
    "s = Series(['hello', 'out', 'there'])\n",
    "s"
   ]
  },
  {
   "cell_type": "code",
   "execution_count": 4,
   "id": "8c940baa-ca12-4c72-b314-ed26fef1a059",
   "metadata": {},
   "outputs": [
    {
     "data": {
      "text/plain": [
       "0           10\n",
       "1         20.5\n",
       "2        hello\n",
       "3    [2, 4, 6]\n",
       "dtype: object"
      ]
     },
     "execution_count": 4,
     "metadata": {},
     "output_type": "execute_result"
    }
   ],
   "source": [
    "s = Series([10,20.5,'hello', [2,4,6]])\n",
    "s"
   ]
  },
  {
   "cell_type": "code",
   "execution_count": 5,
   "id": "14984149-0dd0-496e-b966-98de0822dfa5",
   "metadata": {},
   "outputs": [],
   "source": [
    "# if you read in data that is dirty/bad/missing/corrupt, you might well\n",
    "# get a dtype of \"object\" even though you really want/expect int or float"
   ]
  },
  {
   "cell_type": "markdown",
   "id": "0499d7b6-ae5b-4f5a-a7fd-73366eec3403",
   "metadata": {},
   "source": [
    "# Exercise: Ages\n",
    "\n",
    "1. Create a series containing the ages of 5 people in your family\n",
    "2. What dtype would be appropriate?\n",
    "3. What if you want to measure the age more precisely, using fractional years? What would you use then?\n",
    "4. Create a new series in which you measure the age (approximately) in seconds. Create that series using multiplication. Is int64 big enough for that?"
   ]
  },
  {
   "cell_type": "code",
   "execution_count": 11,
   "id": "cfc63ddc-327e-4bdc-9ed9-425d3cdad96b",
   "metadata": {},
   "outputs": [
    {
     "data": {
      "text/plain": [
       "0     1\n",
       "1     3\n",
       "2    36\n",
       "3    69\n",
       "dtype: int64"
      ]
     },
     "execution_count": 11,
     "metadata": {},
     "output_type": "execute_result"
    }
   ],
   "source": [
    "ages = Series([1, 3, 36, 69])\n",
    "ages"
   ]
  },
  {
   "cell_type": "code",
   "execution_count": 12,
   "id": "b4b01e0f-ff6b-48bf-9aba-bdb2ccbc4ef8",
   "metadata": {},
   "outputs": [
    {
     "data": {
      "text/plain": [
       "18446744073709551616"
      ]
     },
     "execution_count": 12,
     "metadata": {},
     "output_type": "execute_result"
    }
   ],
   "source": [
    "#what is the max we'll get with int64?\n",
    "# it's 8 bytes, so we'll get up to 2**64\n",
    "\n",
    "2**64"
   ]
  },
  {
   "cell_type": "code",
   "execution_count": 16,
   "id": "4847c20d-7c47-42ba-b16e-31d3ed39a554",
   "metadata": {},
   "outputs": [
    {
     "data": {
      "text/plain": [
       "0     1\n",
       "1     3\n",
       "2    36\n",
       "3    69\n",
       "dtype: int8"
      ]
     },
     "execution_count": 16,
     "metadata": {},
     "output_type": "execute_result"
    }
   ],
   "source": [
    "ages = Series([1, 3, 36, 69], dtype='int8')\n",
    "ages\n"
   ]
  },
  {
   "cell_type": "code",
   "execution_count": 17,
   "id": "b2a85962-c739-4d62-94b9-d9cacdaa4cfe",
   "metadata": {},
   "outputs": [
    {
     "data": {
      "text/plain": [
       "0     0.5\n",
       "1     3.2\n",
       "2    36.0\n",
       "3    69.0\n",
       "dtype: float64"
      ]
     },
     "execution_count": 17,
     "metadata": {},
     "output_type": "execute_result"
    }
   ],
   "source": [
    "ages = Series([0.5, 3.2, 36, 69])\n",
    "ages"
   ]
  },
  {
   "cell_type": "code",
   "execution_count": 8,
   "id": "d60245d5-0b62-4aef-804f-fd60ced88d14",
   "metadata": {},
   "outputs": [
    {
     "data": {
      "text/plain": [
       "0    1.576800e+07\n",
       "1    9.460800e+07\n",
       "2    1.135296e+09\n",
       "3    2.175984e+09\n",
       "dtype: float64"
      ]
     },
     "execution_count": 8,
     "metadata": {},
     "output_type": "execute_result"
    }
   ],
   "source": [
    "ageInSeconds = ages*365*24*60*60\n",
    "ageInSeconds"
   ]
  },
  {
   "cell_type": "markdown",
   "id": "b9b15a1e-b31f-4155-9831-e922c90a5ad3",
   "metadata": {},
   "source": [
    "# Changing dtypes\n",
    "\n",
    "It's very common for us to want to change the dtype of a series. We can't do that! Once a dtype is set, it is forever. However, we can get a new series back, based on the old one, with a different dtype."
   ]
  },
  {
   "cell_type": "code",
   "execution_count": 20,
   "id": "89997a76-333a-4b5c-af71-b8b15f43f291",
   "metadata": {},
   "outputs": [
    {
     "data": {
      "text/plain": [
       "0    10\n",
       "1    20\n",
       "2    30\n",
       "dtype: int64"
      ]
     },
     "execution_count": 20,
     "metadata": {},
     "output_type": "execute_result"
    }
   ],
   "source": [
    "s = Series([10,20,30])\n",
    "s"
   ]
  },
  {
   "cell_type": "code",
   "execution_count": 21,
   "id": "44d9765e-758f-4d79-b97f-864970410a2f",
   "metadata": {},
   "outputs": [
    {
     "data": {
      "text/plain": [
       "0    10000\n",
       "1    20000\n",
       "2    30000\n",
       "dtype: int64"
      ]
     },
     "execution_count": 21,
     "metadata": {},
     "output_type": "execute_result"
    }
   ],
   "source": [
    "s*1000"
   ]
  },
  {
   "cell_type": "code",
   "execution_count": null,
   "id": "77caab27-7f87-41f1-8bef-d3148215654a",
   "metadata": {},
   "outputs": [],
   "source": []
  }
 ],
 "metadata": {
  "kernelspec": {
   "display_name": "Python 3 (ipykernel)",
   "language": "python",
   "name": "python3"
  },
  "language_info": {
   "codemirror_mode": {
    "name": "ipython",
    "version": 3
   },
   "file_extension": ".py",
   "mimetype": "text/x-python",
   "name": "python",
   "nbconvert_exporter": "python",
   "pygments_lexer": "ipython3",
   "version": "3.12.3"
  }
 },
 "nbformat": 4,
 "nbformat_minor": 5
}
