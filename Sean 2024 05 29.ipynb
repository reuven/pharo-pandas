{
 "cells": [
  {
   "cell_type": "code",
   "execution_count": 2,
   "id": "c0d6e080-0e11-4c6b-ab08-b6430ee06796",
   "metadata": {},
   "outputs": [],
   "source": [
    "import numpy as np\n",
    "import pandas as pd\n",
    "from pandas import Series, DataFrame"
   ]
  },
  {
   "cell_type": "code",
   "execution_count": null,
   "id": "22f5b885-11c2-4947-97ee-c80d7f771461",
   "metadata": {},
   "outputs": [],
   "source": [
    "s = Series([10,20,30,40,50])"
   ]
  },
  {
   "cell_type": "markdown",
   "id": "d85f308d-ad64-47da-a741-dddd524d7da6",
   "metadata": {},
   "source": [
    "## What kind of floats do we have?\n",
    "\n",
    "- float16\n",
    "- float32\n",
    "- float64"
   ]
  },
  {
   "cell_type": "code",
   "execution_count": 3,
   "id": "cfe28aca-e28a-4284-b4b1-ed5677c9f858",
   "metadata": {},
   "outputs": [
    {
     "data": {
      "text/plain": [
       "0    hello\n",
       "1      out\n",
       "2    there\n",
       "dtype: object"
      ]
     },
     "execution_count": 3,
     "metadata": {},
     "output_type": "execute_result"
    }
   ],
   "source": [
    "#what about other things?\n",
    "\n",
    "s = Series(['hello', 'out', 'there'])\n",
    "s"
   ]
  },
  {
   "cell_type": "code",
   "execution_count": 4,
   "id": "8c940baa-ca12-4c72-b314-ed26fef1a059",
   "metadata": {},
   "outputs": [
    {
     "data": {
      "text/plain": [
       "0           10\n",
       "1         20.5\n",
       "2        hello\n",
       "3    [2, 4, 6]\n",
       "dtype: object"
      ]
     },
     "execution_count": 4,
     "metadata": {},
     "output_type": "execute_result"
    }
   ],
   "source": [
    "s = Series([10,20.5,'hello', [2,4,6]])\n",
    "s"
   ]
  },
  {
   "cell_type": "code",
   "execution_count": null,
   "id": "14984149-0dd0-496e-b966-98de0822dfa5",
   "metadata": {},
   "outputs": [],
   "source": [
    "# if you read in data that is dirty/bad/"
   ]
  }
 ],
 "metadata": {
  "kernelspec": {
   "display_name": "Python 3 (ipykernel)",
   "language": "python",
   "name": "python3"
  },
  "language_info": {
   "codemirror_mode": {
    "name": "ipython",
    "version": 3
   },
   "file_extension": ".py",
   "mimetype": "text/x-python",
   "name": "python",
   "nbconvert_exporter": "python",
   "pygments_lexer": "ipython3",
   "version": "3.12.3"
  }
 },
 "nbformat": 4,
 "nbformat_minor": 5
}
