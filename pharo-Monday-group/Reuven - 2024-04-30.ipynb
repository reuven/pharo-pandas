{
 "cells": [
  {
   "cell_type": "code",
   "execution_count": 1,
   "id": "acb0f4d4",
   "metadata": {},
   "outputs": [
    {
     "name": "stdout",
     "output_type": "stream",
     "text": [
      "Hello, world!\n"
     ]
    }
   ],
   "source": [
    "print('Hello, world!')   # if I type into Jupyter, it's considered to be Python code\n",
    " \n",
    "    \n",
    "# I can type whatever I want\n",
    "# when I want to execute the cell, I use shift+Enter"
   ]
  },
  {
   "cell_type": "markdown",
   "id": "183de5f4",
   "metadata": {},
   "source": [
    "# Exercise: Set up a new notebook\n",
    "\n",
    "1. Go to https://pharo.lerner.co.il\n",
    "2. Navigate to the \"Monday group\" folder\n",
    "3. Create a new Python 3 notebook\n",
    "4. Click on the title, and rename it to reflect your name and the date\n",
    "5. Write a trivial piece of Python code, and execute it with shift+Enter"
   ]
  },
  {
   "cell_type": "markdown",
   "id": "020aa5ae",
   "metadata": {},
   "source": [
    "# Very fast intro to Jupyter\n",
    "\n",
    "Everything in Jupyter happens in a \"cell.\" I'm typing into a cell right now. When we type into a cell, it can be in one of two modes:\n",
    "\n",
    "- Edit mode (like right now), where text goes into the cell. I can enter edit mode by clicking on the cell's contents or by pressing ENTER. This allows me to type.\n",
    "- Command mode, where typing tells Jupyter what to do, typically with one-character commands. You can enter command mode by clicking to the left of the cell or by pressing ESC.\n",
    "\n",
    "What commands do I have in command mode?\n",
    "- `c` -- copy the current cell\n",
    "- `x` -- cut the current cell\n",
    "- `v` -- paste the most recently cut/copied cell\n",
    "- `a` -- create a new cell *above* the current one\n",
    "- `b` -- create a new cell *below* the current one\n",
    "- `y` -- turn the current cell into a Python code cell\n",
    "- `m` -- turns the current cell into Markdown text formatting (like right now)"
   ]
  },
  {
   "cell_type": "code",
   "execution_count": null,
   "id": "79ed696a",
   "metadata": {},
   "outputs": [],
   "source": []
  },
  {
   "cell_type": "markdown",
   "id": "5540fc33",
   "metadata": {},
   "source": [
    "# Very fast intro to Jupyter\n",
    "\n",
    "Everything in Jupyter happens in a \"cell.\" I'm typing into a cell right now. When we type into a cell, it can be in one of two modes:\n",
    "\n",
    "- Edit mode (like right now), where text goes into the cell. I can enter edit mode by clicking on the cell's contents or by pressing ENTER. This allows me to type.\n",
    "- Command mode, where typing tells Jupyter what to do, typically with one-character commands. You can enter command mode by clicking to the left of the cell or by pressing ESC.\n",
    "\n",
    "What commands do I have in command mode?\n",
    "- `c` -- copy the current cell\n",
    "- `x` -- cut the current cell\n",
    "- `v` -- paste the most recently cut/copied cell\n",
    "- `a` -- create a new cell *above* the current one\n",
    "- `b` -- create a new cell *below* the current one\n",
    "- `y` -- turn the current cell into a Python code cell\n",
    "- `m` -- turns the current cell into Markdown text formatting (like right now)"
   ]
  },
  {
   "cell_type": "code",
   "execution_count": null,
   "id": "02a9cd08",
   "metadata": {},
   "outputs": [],
   "source": []
  },
  {
   "cell_type": "code",
   "execution_count": 2,
   "id": "91e371ec",
   "metadata": {},
   "outputs": [
    {
     "name": "stdout",
     "output_type": "stream",
     "text": [
      "300\n"
     ]
    }
   ],
   "source": [
    "x = 100\n",
    "y = 200\n",
    "\n",
    "print(x+y)"
   ]
  },
  {
   "cell_type": "code",
   "execution_count": 3,
   "id": "2fd99bad",
   "metadata": {},
   "outputs": [
    {
     "data": {
      "text/plain": [
       "100"
      ]
     },
     "execution_count": 3,
     "metadata": {},
     "output_type": "execute_result"
    }
   ],
   "source": [
    "x"
   ]
  },
  {
   "cell_type": "code",
   "execution_count": 4,
   "id": "89053842",
   "metadata": {},
   "outputs": [
    {
     "data": {
      "text/plain": [
       "200"
      ]
     },
     "execution_count": 4,
     "metadata": {},
     "output_type": "execute_result"
    }
   ],
   "source": [
    "y"
   ]
  },
  {
   "cell_type": "code",
   "execution_count": 5,
   "id": "a24b02ec",
   "metadata": {},
   "outputs": [],
   "source": [
    "# if the final line of a Python cell is an expression, and if it returns a non-None value\n",
    "# then it simply returns and displays the expression's value"
   ]
  },
  {
   "cell_type": "code",
   "execution_count": 6,
   "id": "7a13f674",
   "metadata": {},
   "outputs": [
    {
     "data": {
      "text/plain": [
       "20000"
      ]
     },
     "execution_count": 6,
     "metadata": {},
     "output_type": "execute_result"
    }
   ],
   "source": [
    "x * y"
   ]
  },
  {
   "cell_type": "markdown",
   "id": "ecee55b0",
   "metadata": {},
   "source": [
    "# Syllabus\n",
    "\n",
    "1. Intro to analytics with Python\n",
    "    - What is Pandas?\n",
    "    - Basics of reading data \n",
    "    - Analyzing data\n",
    "    - Visualizing data\n",
    "2. Pandas series (1-dimensional data)\n",
    "    - Analyzing with a series\n",
    "    - Retrieving from a series\n",
    "    - Broadcasting\n",
    "    - What *not* to do if you're a good Python programmer!\n",
    "3. Mask arrays\n",
    "    - Selective retrieval\n",
    "    - This is what we use instead of loops in Pandas\n",
    "4. Indexes\n",
    "    - Retreiving in various ways\n",
    "5. Dtypes -- data types behind the scenes\n",
    "    - What are they?\n",
    "    - Changing/converting dtypes\n",
    "    - `NaN` (\"not a number\")\n",
    "6. Reading data from a file \n",
    "    - CSV files\n",
    "    - Retrieving rows\n",
    "    - Retreiving columns (data frame -- 2D data in Pandas)\n",
    "7. Different data sources\n",
    "    - Excel\n",
    "    - JSON\n",
    "    - Grabbing data from APIs\n",
    "    - From Web pages\n",
    "8. Sorting\n",
    "9. Grouping and pivot tables\n",
    "10. Cleaning data\n",
    "11. Working with text\n",
    "12. Dates and times\n",
    "13. Visualization\n",
    "    - Plotting\n",
    "    - Charts\n"
   ]
  },
  {
   "cell_type": "markdown",
   "id": "451b9ee0",
   "metadata": {},
   "source": [
    "# What is Pandas?\n",
    "\n",
    "Isn't Python a terrible language for doing data analysis?\n",
    "\n",
    "The secret is that yes, if we were to use Python's integers and floats for our data anlaysis, we would quickly run out of memory and/or happily be charging by the hour.\n",
    "\n",
    "A number of years ago, people invented NumPy, which gives you a thin layer of Python and a deep data structure in C. You get the advantage of programming in Python, but with the speed/efficiency of C.\n",
    "\n",
    "Pandas is a Python package that acts as a wrapper around NumPy, making it easier/friendlier and with more functionality.\n",
    "\n",
    "Pandas allows us to:\n",
    "- Read data from a variety of formats and sources\n",
    "- Clean the data\n",
    "- Analyze the data in numerous ways\n",
    "- Write our analysis in a number of formats and outputs\n",
    "- Visualize our data using plotting and charting libraries\n",
    "\n",
    "Pandas tries to centralize all of this. We could use Matplotlib, a popular plotting library in Python -- but we're going to concentrate on using the Pandas wrappers for Matplotlib."
   ]
  },
  {
   "cell_type": "markdown",
   "id": "ec9cc379",
   "metadata": {},
   "source": [
    "# Using Pandas\n",
    "\n",
    "If I want to do analysis with Pandas, I have to download and install it from PyPI. That's easily done with\n",
    "\n",
    "    pip install pandas\n",
    "    \n",
    "In our program, we'll want to say\n",
    "\n",
    "    import pandas as pd"
   ]
  },
  {
   "cell_type": "code",
   "execution_count": 7,
   "id": "e00f5156",
   "metadata": {},
   "outputs": [],
   "source": [
    "import pandas as pd"
   ]
  },
  {
   "cell_type": "code",
   "execution_count": 8,
   "id": "81499c43",
   "metadata": {},
   "outputs": [
    {
     "data": {
      "text/plain": [
       "'1.5.3'"
      ]
     },
     "execution_count": 8,
     "metadata": {},
     "output_type": "execute_result"
    }
   ],
   "source": [
    "# what version are we running?\n",
    "\n",
    "pd.__version__"
   ]
  },
  {
   "cell_type": "code",
   "execution_count": 10,
   "id": "fb9b0c51",
   "metadata": {},
   "outputs": [],
   "source": [
    "# let's say that I want to load data\n",
    "\n",
    "# most people work with CSV files -- comma-separated values (or \"character separated values\")\n",
    "# - every line of the file is a record\n",
    "# - every line contains multiple fields, separated by a comma or other character (e.g., \\t)\n",
    "\n",
    "# we'll read our data from a CSV file into a Pandas \"data frame,\" meaning a 2D table"
   ]
  },
  {
   "cell_type": "code",
   "execution_count": 11,
   "id": "e64d59ac",
   "metadata": {},
   "outputs": [
    {
     "name": "stdout",
     "output_type": "stream",
     "text": [
      "../data/2020_sharing_data_outside.csv  ../data/olympic_athlete_events.csv\r\n",
      "../data/CPILFESL.csv\t\t       ../data/san+francisco,ca.csv\r\n",
      "../data/albany,ny.csv\t\t       ../data/sat-scores.csv\r\n",
      "../data/boston,ma.csv\t\t       ../data/skyscrapers.csv\r\n",
      "../data/burrito_current.csv\t       ../data/springfield,il.csv\r\n",
      "../data/celebrity_deaths_2016.csv      ../data/springfield,ma.csv\r\n",
      "../data/chicago,il.csv\t\t       ../data/taxi-distance.csv\r\n",
      "../data/eu_cpi.csv\t\t       ../data/taxi-passenger-count.csv\r\n",
      "../data/eu_gdp.csv\t\t       ../data/taxi.csv\r\n",
      "../data/ice-cream.csv\t\t       ../data/titanic3.csv\r\n",
      "../data/languages.csv\t\t       ../data/us-median-cpi.csv\r\n",
      "../data/los+angeles,ca.csv\t       ../data/us-unemployment-rate.csv\r\n",
      "../data/miles-traveled.csv\t       ../data/us_gdp.csv\r\n",
      "../data/new+york,ny.csv\t\t       ../data/winemag-150k-reviews.csv\r\n",
      "../data/oecd_locations.csv\t       ../data/wti-daily.csv\r\n",
      "../data/oecd_tourism.csv\r\n"
     ]
    }
   ],
   "source": [
    "!ls ../data/*.csv"
   ]
  },
  {
   "cell_type": "code",
   "execution_count": 12,
   "id": "ab85fdfc",
   "metadata": {},
   "outputs": [],
   "source": [
    "# let's take the CSV file for taxi data and turn it into a data frame\n",
    "# the read_csv function in the pandas module is our workhorse for reading CSV files\n",
    "\n",
    "filename = '../data/taxi.csv'\n",
    "df = pd.read_csv(filename)"
   ]
  },
  {
   "cell_type": "code",
   "execution_count": 13,
   "id": "67411ea2",
   "metadata": {},
   "outputs": [
    {
     "data": {
      "text/html": [
       "<div>\n",
       "<style scoped>\n",
       "    .dataframe tbody tr th:only-of-type {\n",
       "        vertical-align: middle;\n",
       "    }\n",
       "\n",
       "    .dataframe tbody tr th {\n",
       "        vertical-align: top;\n",
       "    }\n",
       "\n",
       "    .dataframe thead th {\n",
       "        text-align: right;\n",
       "    }\n",
       "</style>\n",
       "<table border=\"1\" class=\"dataframe\">\n",
       "  <thead>\n",
       "    <tr style=\"text-align: right;\">\n",
       "      <th></th>\n",
       "      <th>VendorID</th>\n",
       "      <th>tpep_pickup_datetime</th>\n",
       "      <th>tpep_dropoff_datetime</th>\n",
       "      <th>passenger_count</th>\n",
       "      <th>trip_distance</th>\n",
       "      <th>pickup_longitude</th>\n",
       "      <th>pickup_latitude</th>\n",
       "      <th>RateCodeID</th>\n",
       "      <th>store_and_fwd_flag</th>\n",
       "      <th>dropoff_longitude</th>\n",
       "      <th>dropoff_latitude</th>\n",
       "      <th>payment_type</th>\n",
       "      <th>fare_amount</th>\n",
       "      <th>extra</th>\n",
       "      <th>mta_tax</th>\n",
       "      <th>tip_amount</th>\n",
       "      <th>tolls_amount</th>\n",
       "      <th>improvement_surcharge</th>\n",
       "      <th>total_amount</th>\n",
       "    </tr>\n",
       "  </thead>\n",
       "  <tbody>\n",
       "    <tr>\n",
       "      <th>0</th>\n",
       "      <td>2</td>\n",
       "      <td>2015-06-02 11:19:29</td>\n",
       "      <td>2015-06-02 11:47:52</td>\n",
       "      <td>1</td>\n",
       "      <td>1.63</td>\n",
       "      <td>-73.954430</td>\n",
       "      <td>40.764141</td>\n",
       "      <td>1</td>\n",
       "      <td>N</td>\n",
       "      <td>-73.974754</td>\n",
       "      <td>40.754093</td>\n",
       "      <td>2</td>\n",
       "      <td>17.0</td>\n",
       "      <td>0.0</td>\n",
       "      <td>0.5</td>\n",
       "      <td>0.00</td>\n",
       "      <td>0.0</td>\n",
       "      <td>0.3</td>\n",
       "      <td>17.80</td>\n",
       "    </tr>\n",
       "    <tr>\n",
       "      <th>1</th>\n",
       "      <td>2</td>\n",
       "      <td>2015-06-02 11:19:30</td>\n",
       "      <td>2015-06-02 11:27:56</td>\n",
       "      <td>1</td>\n",
       "      <td>0.46</td>\n",
       "      <td>-73.971443</td>\n",
       "      <td>40.758942</td>\n",
       "      <td>1</td>\n",
       "      <td>N</td>\n",
       "      <td>-73.978539</td>\n",
       "      <td>40.761909</td>\n",
       "      <td>1</td>\n",
       "      <td>6.5</td>\n",
       "      <td>0.0</td>\n",
       "      <td>0.5</td>\n",
       "      <td>1.00</td>\n",
       "      <td>0.0</td>\n",
       "      <td>0.3</td>\n",
       "      <td>8.30</td>\n",
       "    </tr>\n",
       "    <tr>\n",
       "      <th>2</th>\n",
       "      <td>2</td>\n",
       "      <td>2015-06-02 11:19:31</td>\n",
       "      <td>2015-06-02 11:30:30</td>\n",
       "      <td>1</td>\n",
       "      <td>0.87</td>\n",
       "      <td>-73.978111</td>\n",
       "      <td>40.738434</td>\n",
       "      <td>1</td>\n",
       "      <td>N</td>\n",
       "      <td>-73.990273</td>\n",
       "      <td>40.745438</td>\n",
       "      <td>1</td>\n",
       "      <td>8.0</td>\n",
       "      <td>0.0</td>\n",
       "      <td>0.5</td>\n",
       "      <td>2.20</td>\n",
       "      <td>0.0</td>\n",
       "      <td>0.3</td>\n",
       "      <td>11.00</td>\n",
       "    </tr>\n",
       "    <tr>\n",
       "      <th>3</th>\n",
       "      <td>2</td>\n",
       "      <td>2015-06-02 11:19:31</td>\n",
       "      <td>2015-06-02 11:39:02</td>\n",
       "      <td>1</td>\n",
       "      <td>2.13</td>\n",
       "      <td>-73.945892</td>\n",
       "      <td>40.773529</td>\n",
       "      <td>1</td>\n",
       "      <td>N</td>\n",
       "      <td>-73.971527</td>\n",
       "      <td>40.760330</td>\n",
       "      <td>1</td>\n",
       "      <td>13.5</td>\n",
       "      <td>0.0</td>\n",
       "      <td>0.5</td>\n",
       "      <td>2.86</td>\n",
       "      <td>0.0</td>\n",
       "      <td>0.3</td>\n",
       "      <td>17.16</td>\n",
       "    </tr>\n",
       "    <tr>\n",
       "      <th>4</th>\n",
       "      <td>1</td>\n",
       "      <td>2015-06-02 11:19:32</td>\n",
       "      <td>2015-06-02 11:32:49</td>\n",
       "      <td>1</td>\n",
       "      <td>1.40</td>\n",
       "      <td>-73.979088</td>\n",
       "      <td>40.776772</td>\n",
       "      <td>1</td>\n",
       "      <td>N</td>\n",
       "      <td>-73.982162</td>\n",
       "      <td>40.758999</td>\n",
       "      <td>2</td>\n",
       "      <td>9.5</td>\n",
       "      <td>0.0</td>\n",
       "      <td>0.5</td>\n",
       "      <td>0.00</td>\n",
       "      <td>0.0</td>\n",
       "      <td>0.3</td>\n",
       "      <td>10.30</td>\n",
       "    </tr>\n",
       "    <tr>\n",
       "      <th>...</th>\n",
       "      <td>...</td>\n",
       "      <td>...</td>\n",
       "      <td>...</td>\n",
       "      <td>...</td>\n",
       "      <td>...</td>\n",
       "      <td>...</td>\n",
       "      <td>...</td>\n",
       "      <td>...</td>\n",
       "      <td>...</td>\n",
       "      <td>...</td>\n",
       "      <td>...</td>\n",
       "      <td>...</td>\n",
       "      <td>...</td>\n",
       "      <td>...</td>\n",
       "      <td>...</td>\n",
       "      <td>...</td>\n",
       "      <td>...</td>\n",
       "      <td>...</td>\n",
       "      <td>...</td>\n",
       "    </tr>\n",
       "    <tr>\n",
       "      <th>9994</th>\n",
       "      <td>1</td>\n",
       "      <td>2015-06-01 00:12:59</td>\n",
       "      <td>2015-06-01 00:24:18</td>\n",
       "      <td>1</td>\n",
       "      <td>2.70</td>\n",
       "      <td>-73.947792</td>\n",
       "      <td>40.814972</td>\n",
       "      <td>1</td>\n",
       "      <td>N</td>\n",
       "      <td>-73.973358</td>\n",
       "      <td>40.783638</td>\n",
       "      <td>2</td>\n",
       "      <td>11.0</td>\n",
       "      <td>0.5</td>\n",
       "      <td>0.5</td>\n",
       "      <td>0.00</td>\n",
       "      <td>0.0</td>\n",
       "      <td>0.3</td>\n",
       "      <td>12.30</td>\n",
       "    </tr>\n",
       "    <tr>\n",
       "      <th>9995</th>\n",
       "      <td>1</td>\n",
       "      <td>2015-06-01 00:12:59</td>\n",
       "      <td>2015-06-01 00:28:16</td>\n",
       "      <td>1</td>\n",
       "      <td>4.50</td>\n",
       "      <td>-74.004066</td>\n",
       "      <td>40.747818</td>\n",
       "      <td>1</td>\n",
       "      <td>N</td>\n",
       "      <td>-73.953758</td>\n",
       "      <td>40.779285</td>\n",
       "      <td>1</td>\n",
       "      <td>16.0</td>\n",
       "      <td>0.5</td>\n",
       "      <td>0.5</td>\n",
       "      <td>3.00</td>\n",
       "      <td>0.0</td>\n",
       "      <td>0.3</td>\n",
       "      <td>20.30</td>\n",
       "    </tr>\n",
       "    <tr>\n",
       "      <th>9996</th>\n",
       "      <td>2</td>\n",
       "      <td>2015-06-01 00:13:00</td>\n",
       "      <td>2015-06-01 00:37:25</td>\n",
       "      <td>1</td>\n",
       "      <td>5.59</td>\n",
       "      <td>-73.994377</td>\n",
       "      <td>40.766102</td>\n",
       "      <td>1</td>\n",
       "      <td>N</td>\n",
       "      <td>-73.903206</td>\n",
       "      <td>40.750546</td>\n",
       "      <td>2</td>\n",
       "      <td>21.0</td>\n",
       "      <td>0.5</td>\n",
       "      <td>0.5</td>\n",
       "      <td>0.00</td>\n",
       "      <td>0.0</td>\n",
       "      <td>0.3</td>\n",
       "      <td>22.30</td>\n",
       "    </tr>\n",
       "    <tr>\n",
       "      <th>9997</th>\n",
       "      <td>2</td>\n",
       "      <td>2015-06-01 00:13:02</td>\n",
       "      <td>2015-06-01 00:19:10</td>\n",
       "      <td>6</td>\n",
       "      <td>1.54</td>\n",
       "      <td>-73.978302</td>\n",
       "      <td>40.748531</td>\n",
       "      <td>1</td>\n",
       "      <td>N</td>\n",
       "      <td>-73.989166</td>\n",
       "      <td>40.762852</td>\n",
       "      <td>2</td>\n",
       "      <td>6.5</td>\n",
       "      <td>0.5</td>\n",
       "      <td>0.5</td>\n",
       "      <td>0.00</td>\n",
       "      <td>0.0</td>\n",
       "      <td>0.3</td>\n",
       "      <td>7.80</td>\n",
       "    </tr>\n",
       "    <tr>\n",
       "      <th>9998</th>\n",
       "      <td>1</td>\n",
       "      <td>2015-06-01 00:13:04</td>\n",
       "      <td>2015-06-01 00:36:33</td>\n",
       "      <td>1</td>\n",
       "      <td>5.80</td>\n",
       "      <td>-73.983215</td>\n",
       "      <td>40.726414</td>\n",
       "      <td>1</td>\n",
       "      <td>N</td>\n",
       "      <td>-73.924133</td>\n",
       "      <td>40.701645</td>\n",
       "      <td>1</td>\n",
       "      <td>21.0</td>\n",
       "      <td>0.5</td>\n",
       "      <td>0.5</td>\n",
       "      <td>4.45</td>\n",
       "      <td>0.0</td>\n",
       "      <td>0.3</td>\n",
       "      <td>26.75</td>\n",
       "    </tr>\n",
       "  </tbody>\n",
       "</table>\n",
       "<p>9999 rows × 19 columns</p>\n",
       "</div>"
      ],
      "text/plain": [
       "      VendorID tpep_pickup_datetime tpep_dropoff_datetime  passenger_count  \\\n",
       "0            2  2015-06-02 11:19:29   2015-06-02 11:47:52                1   \n",
       "1            2  2015-06-02 11:19:30   2015-06-02 11:27:56                1   \n",
       "2            2  2015-06-02 11:19:31   2015-06-02 11:30:30                1   \n",
       "3            2  2015-06-02 11:19:31   2015-06-02 11:39:02                1   \n",
       "4            1  2015-06-02 11:19:32   2015-06-02 11:32:49                1   \n",
       "...        ...                  ...                   ...              ...   \n",
       "9994         1  2015-06-01 00:12:59   2015-06-01 00:24:18                1   \n",
       "9995         1  2015-06-01 00:12:59   2015-06-01 00:28:16                1   \n",
       "9996         2  2015-06-01 00:13:00   2015-06-01 00:37:25                1   \n",
       "9997         2  2015-06-01 00:13:02   2015-06-01 00:19:10                6   \n",
       "9998         1  2015-06-01 00:13:04   2015-06-01 00:36:33                1   \n",
       "\n",
       "      trip_distance  pickup_longitude  pickup_latitude  RateCodeID  \\\n",
       "0              1.63        -73.954430        40.764141           1   \n",
       "1              0.46        -73.971443        40.758942           1   \n",
       "2              0.87        -73.978111        40.738434           1   \n",
       "3              2.13        -73.945892        40.773529           1   \n",
       "4              1.40        -73.979088        40.776772           1   \n",
       "...             ...               ...              ...         ...   \n",
       "9994           2.70        -73.947792        40.814972           1   \n",
       "9995           4.50        -74.004066        40.747818           1   \n",
       "9996           5.59        -73.994377        40.766102           1   \n",
       "9997           1.54        -73.978302        40.748531           1   \n",
       "9998           5.80        -73.983215        40.726414           1   \n",
       "\n",
       "     store_and_fwd_flag  dropoff_longitude  dropoff_latitude  payment_type  \\\n",
       "0                     N         -73.974754         40.754093             2   \n",
       "1                     N         -73.978539         40.761909             1   \n",
       "2                     N         -73.990273         40.745438             1   \n",
       "3                     N         -73.971527         40.760330             1   \n",
       "4                     N         -73.982162         40.758999             2   \n",
       "...                 ...                ...               ...           ...   \n",
       "9994                  N         -73.973358         40.783638             2   \n",
       "9995                  N         -73.953758         40.779285             1   \n",
       "9996                  N         -73.903206         40.750546             2   \n",
       "9997                  N         -73.989166         40.762852             2   \n",
       "9998                  N         -73.924133         40.701645             1   \n",
       "\n",
       "      fare_amount  extra  mta_tax  tip_amount  tolls_amount  \\\n",
       "0            17.0    0.0      0.5        0.00           0.0   \n",
       "1             6.5    0.0      0.5        1.00           0.0   \n",
       "2             8.0    0.0      0.5        2.20           0.0   \n",
       "3            13.5    0.0      0.5        2.86           0.0   \n",
       "4             9.5    0.0      0.5        0.00           0.0   \n",
       "...           ...    ...      ...         ...           ...   \n",
       "9994         11.0    0.5      0.5        0.00           0.0   \n",
       "9995         16.0    0.5      0.5        3.00           0.0   \n",
       "9996         21.0    0.5      0.5        0.00           0.0   \n",
       "9997          6.5    0.5      0.5        0.00           0.0   \n",
       "9998         21.0    0.5      0.5        4.45           0.0   \n",
       "\n",
       "      improvement_surcharge  total_amount  \n",
       "0                       0.3         17.80  \n",
       "1                       0.3          8.30  \n",
       "2                       0.3         11.00  \n",
       "3                       0.3         17.16  \n",
       "4                       0.3         10.30  \n",
       "...                     ...           ...  \n",
       "9994                    0.3         12.30  \n",
       "9995                    0.3         20.30  \n",
       "9996                    0.3         22.30  \n",
       "9997                    0.3          7.80  \n",
       "9998                    0.3         26.75  \n",
       "\n",
       "[9999 rows x 19 columns]"
      ]
     },
     "execution_count": 13,
     "metadata": {},
     "output_type": "execute_result"
    }
   ],
   "source": [
    "# now, let's look at the data frame\n",
    "df"
   ]
  },
  {
   "cell_type": "code",
   "execution_count": 14,
   "id": "aaf75dd4",
   "metadata": {},
   "outputs": [
    {
     "data": {
      "text/plain": [
       "0       1.63\n",
       "1       0.46\n",
       "2       0.87\n",
       "3       2.13\n",
       "4       1.40\n",
       "        ... \n",
       "9994    2.70\n",
       "9995    4.50\n",
       "9996    5.59\n",
       "9997    1.54\n",
       "9998    5.80\n",
       "Name: trip_distance, Length: 9999, dtype: float64"
      ]
     },
     "execution_count": 14,
     "metadata": {},
     "output_type": "execute_result"
    }
   ],
   "source": [
    "# now what? Let's grab one column\n",
    "# we can do that by naming our variable (df) and naming the column with a string inside of []\n",
    "# you can think of a data frame, behind the scenes, as actually being a dict of Pandas series (1D- data)\n",
    "\n",
    "df['trip_distance']   # this will retrieve the trip_distance column from our data frame"
   ]
  },
  {
   "cell_type": "code",
   "execution_count": 15,
   "id": "bd67163c",
   "metadata": {},
   "outputs": [
    {
     "data": {
      "text/plain": [
       "0.0"
      ]
     },
     "execution_count": 15,
     "metadata": {},
     "output_type": "execute_result"
    }
   ],
   "source": [
    "# the CSV file we read from had 10,000 lines\n",
    "# the first one contained the column names\n",
    "# the rest contained data\n",
    "\n",
    "# what can I do with this series?\n",
    "# I can run various methods on it to analyze the data\n",
    "\n",
    "# I can ask what the minimum value was\n",
    "df['trip_distance'].min()"
   ]
  },
  {
   "cell_type": "code",
   "execution_count": 16,
   "id": "9868798e",
   "metadata": {},
   "outputs": [
    {
     "data": {
      "text/plain": [
       "64.6"
      ]
     },
     "execution_count": 16,
     "metadata": {},
     "output_type": "execute_result"
    }
   ],
   "source": [
    "# get the maximum\n",
    "df['trip_distance'].max() "
   ]
  },
  {
   "cell_type": "code",
   "execution_count": 17,
   "id": "1044e83e",
   "metadata": {},
   "outputs": [
    {
     "data": {
      "text/plain": [
       "3.1585108510851083"
      ]
     },
     "execution_count": 17,
     "metadata": {},
     "output_type": "execute_result"
    }
   ],
   "source": [
    "# get the mean\n",
    "df['trip_distance'].mean()"
   ]
  },
  {
   "cell_type": "code",
   "execution_count": 18,
   "id": "f395f090",
   "metadata": {},
   "outputs": [
    {
     "data": {
      "text/plain": [
       "31581.949999999997"
      ]
     },
     "execution_count": 18,
     "metadata": {},
     "output_type": "execute_result"
    }
   ],
   "source": [
    "# get the sum\n",
    "df['trip_distance'].sum()"
   ]
  },
  {
   "cell_type": "code",
   "execution_count": 19,
   "id": "2b7cc020",
   "metadata": {},
   "outputs": [
    {
     "data": {
      "text/plain": [
       "9999"
      ]
     },
     "execution_count": 19,
     "metadata": {},
     "output_type": "execute_result"
    }
   ],
   "source": [
    "# get the number of values\n",
    "df['trip_distance'].count()"
   ]
  },
  {
   "cell_type": "code",
   "execution_count": 20,
   "id": "7c25e41a",
   "metadata": {},
   "outputs": [
    {
     "data": {
      "text/plain": [
       "1.7"
      ]
     },
     "execution_count": 20,
     "metadata": {},
     "output_type": "execute_result"
    }
   ],
   "source": [
    "# get the median\n",
    "df['trip_distance'].median()"
   ]
  },
  {
   "cell_type": "code",
   "execution_count": 21,
   "id": "7bd842ed",
   "metadata": {},
   "outputs": [
    {
     "data": {
      "text/plain": [
       "count    9999.000000\n",
       "mean        3.158511\n",
       "std         4.037516\n",
       "min         0.000000\n",
       "25%         1.000000\n",
       "50%         1.700000\n",
       "75%         3.300000\n",
       "max        64.600000\n",
       "Name: trip_distance, dtype: float64"
      ]
     },
     "execution_count": 21,
     "metadata": {},
     "output_type": "execute_result"
    }
   ],
   "source": [
    "# we can get all of these in one fell swoop with the describe method\n",
    "\n",
    "df['trip_distance'].describe()"
   ]
  },
  {
   "cell_type": "code",
   "execution_count": 22,
   "id": "5681205d",
   "metadata": {},
   "outputs": [
    {
     "data": {
      "text/plain": [
       "0    1.63\n",
       "1    0.46\n",
       "2    0.87\n",
       "3    2.13\n",
       "4    1.40\n",
       "Name: trip_distance, dtype: float64"
      ]
     },
     "execution_count": 22,
     "metadata": {},
     "output_type": "execute_result"
    }
   ],
   "source": [
    "# what about the first 5 values in our column?\n",
    "df['trip_distance'].head(5)"
   ]
  },
  {
   "cell_type": "code",
   "execution_count": 23,
   "id": "699ac160",
   "metadata": {},
   "outputs": [
    {
     "data": {
      "text/plain": [
       "9994    2.70\n",
       "9995    4.50\n",
       "9996    5.59\n",
       "9997    1.54\n",
       "9998    5.80\n",
       "Name: trip_distance, dtype: float64"
      ]
     },
     "execution_count": 23,
     "metadata": {},
     "output_type": "execute_result"
    }
   ],
   "source": [
    "# what about the last 5 values in our column?\n",
    "df['trip_distance'].tail(5)"
   ]
  },
  {
   "cell_type": "markdown",
   "id": "2543dcc8",
   "metadata": {},
   "source": [
    "# Exercise: Analysis of total_amount\n",
    "\n",
    "Our taxi file has a `total_amount` column, in which we find out how much the person paid total (including taxes, tips, etc.).\n",
    "\n",
    "I want you to:\n",
    "\n",
    "- Read `../data/taxi.csv` into a data frame with `pd.read_csv`\n",
    "- Retrieve the `total_amount` column\n",
    "- Run the `describe` method on that column. What were the min, max, median, and mean?\n",
    "- What can we say after looking at the median vs. mean? How does the std help us understand this?\n",
    "\n"
   ]
  },
  {
   "cell_type": "code",
   "execution_count": 24,
   "id": "f97f7ddb",
   "metadata": {},
   "outputs": [
    {
     "data": {
      "text/plain": [
       "'../data/taxi.csv'"
      ]
     },
     "execution_count": 24,
     "metadata": {},
     "output_type": "execute_result"
    }
   ],
   "source": [
    "filename"
   ]
  },
  {
   "cell_type": "code",
   "execution_count": 25,
   "id": "6393e493",
   "metadata": {},
   "outputs": [],
   "source": [
    "df = pd.read_csv(filename)"
   ]
  },
  {
   "cell_type": "code",
   "execution_count": 26,
   "id": "9cf54054",
   "metadata": {},
   "outputs": [
    {
     "data": {
      "text/plain": [
       "0       17.80\n",
       "1        8.30\n",
       "2       11.00\n",
       "3       17.16\n",
       "4       10.30\n",
       "        ...  \n",
       "9994    12.30\n",
       "9995    20.30\n",
       "9996    22.30\n",
       "9997     7.80\n",
       "9998    26.75\n",
       "Name: total_amount, Length: 9999, dtype: float64"
      ]
     },
     "execution_count": 26,
     "metadata": {},
     "output_type": "execute_result"
    }
   ],
   "source": [
    "df['total_amount']"
   ]
  },
  {
   "cell_type": "code",
   "execution_count": 27,
   "id": "65f92233",
   "metadata": {},
   "outputs": [
    {
     "data": {
      "text/plain": [
       "count    9999.000000\n",
       "mean       17.552472\n",
       "std        15.137990\n",
       "min        -7.800000\n",
       "25%         8.800000\n",
       "50%        12.800000\n",
       "75%        19.800000\n",
       "max       252.350000\n",
       "Name: total_amount, dtype: float64"
      ]
     },
     "execution_count": 27,
     "metadata": {},
     "output_type": "execute_result"
    }
   ],
   "source": [
    "df['total_amount'].describe()"
   ]
  },
  {
   "cell_type": "code",
   "execution_count": 28,
   "id": "a5ca2ed5",
   "metadata": {},
   "outputs": [
    {
     "data": {
      "text/plain": [
       "VendorID                                   2\n",
       "tpep_pickup_datetime     2015-06-02 11:19:29\n",
       "tpep_dropoff_datetime    2015-06-02 11:47:52\n",
       "passenger_count                            1\n",
       "trip_distance                           1.63\n",
       "pickup_longitude                   -73.95443\n",
       "pickup_latitude                    40.764141\n",
       "RateCodeID                                 1\n",
       "store_and_fwd_flag                         N\n",
       "dropoff_longitude                 -73.974754\n",
       "dropoff_latitude                   40.754093\n",
       "payment_type                               2\n",
       "fare_amount                             17.0\n",
       "extra                                    0.0\n",
       "mta_tax                                  0.5\n",
       "tip_amount                               0.0\n",
       "tolls_amount                             0.0\n",
       "improvement_surcharge                    0.3\n",
       "total_amount                            17.8\n",
       "Name: 0, dtype: object"
      ]
     },
     "execution_count": 28,
     "metadata": {},
     "output_type": "execute_result"
    }
   ],
   "source": [
    "# what if I want to retrieve a particular row?\n",
    "# I can use the .loc accessor to retrieve a row\n",
    "\n",
    "df.loc[0] # this returns the row with an index of 0"
   ]
  },
  {
   "cell_type": "code",
   "execution_count": null,
   "id": "63d5959b",
   "metadata": {},
   "outputs": [],
   "source": [
    "# can I retrieve more than one row at at"
   ]
  }
 ],
 "metadata": {
  "kernelspec": {
   "display_name": "Python 3 (ipykernel)",
   "language": "python",
   "name": "python3"
  },
  "language_info": {
   "codemirror_mode": {
    "name": "ipython",
    "version": 3
   },
   "file_extension": ".py",
   "mimetype": "text/x-python",
   "name": "python",
   "nbconvert_exporter": "python",
   "pygments_lexer": "ipython3",
   "version": "3.11.6"
  }
 },
 "nbformat": 4,
 "nbformat_minor": 5
}
