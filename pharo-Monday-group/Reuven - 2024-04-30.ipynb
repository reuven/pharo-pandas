{
 "cells": [
  {
   "cell_type": "code",
   "execution_count": 1,
   "id": "ba8590ea",
   "metadata": {},
   "outputs": [
    {
     "name": "stdout",
     "output_type": "stream",
     "text": [
      "Hello, world!\n"
     ]
    }
   ],
   "source": [
    "print('Hello, world!')   # if I type into Jupyter, it's considered to be Python code\n",
    " \n",
    "    \n",
    "# I can type whatever I want\n",
    "# when I want to execute the cell, I use shift+Enter"
   ]
  },
  {
   "cell_type": "markdown",
   "id": "760e7432",
   "metadata": {},
   "source": [
    "# Exercise: Set up a new notebook\n",
    "\n",
    "1. Go to https://pharo.lerner.co.il\n",
    "2. Navigate to the \"Monday group\" folder\n",
    "3. Create a new Python 3 notebook\n",
    "4. Click on the title, and rename it to reflect your name and the date\n",
    "5. Write a trivial piece of Python code, and execute it with shift+Enter"
   ]
  },
  {
   "cell_type": "markdown",
   "id": "07534780",
   "metadata": {},
   "source": [
    "# Very fast intro to Jupyter\n",
    "\n",
    "Everything in Jupyter happens in a \"cell.\" I'm typing into a cell right now. When we type into a cell, it can be in one of two modes:\n",
    "\n",
    "- Edit mode (like right now), where text goes into the cell. I can enter edit mode by clicking on the cell's contents or by pressing ENTER. This allows me to type.\n",
    "- Command mode, where typing tells Jupyter what to do, typically with one-character commands. You can enter command mode by clicking to the left of the cell or by pressing ESC.\n",
    "\n",
    "What commands do I have in command mode?\n",
    "- `c` -- copy the current cell\n",
    "- `x` -- cut the current cell\n",
    "- `v` -- paste the most recently cut/copied cell\n",
    "- `a` -- create a new cell *above* the current one\n",
    "- `b` -- create a new cell *below* the current one\n",
    "- `y` -- turn the current cell into a Python code cell\n",
    "- `m` -- turns the current cell into Markdown text formatting (like right now)"
   ]
  },
  {
   "cell_type": "code",
   "execution_count": null,
   "id": "1a250f1b",
   "metadata": {},
   "outputs": [],
   "source": []
  },
  {
   "cell_type": "markdown",
   "id": "b6ae3fc8",
   "metadata": {},
   "source": [
    "# Very fast intro to Jupyter\n",
    "\n",
    "Everything in Jupyter happens in a \"cell.\" I'm typing into a cell right now. When we type into a cell, it can be in one of two modes:\n",
    "\n",
    "- Edit mode (like right now), where text goes into the cell. I can enter edit mode by clicking on the cell's contents or by pressing ENTER. This allows me to type.\n",
    "- Command mode, where typing tells Jupyter what to do, typically with one-character commands. You can enter command mode by clicking to the left of the cell or by pressing ESC.\n",
    "\n",
    "What commands do I have in command mode?\n",
    "- `c` -- copy the current cell\n",
    "- `x` -- cut the current cell\n",
    "- `v` -- paste the most recently cut/copied cell\n",
    "- `a` -- create a new cell *above* the current one\n",
    "- `b` -- create a new cell *below* the current one\n",
    "- `y` -- turn the current cell into a Python code cell\n",
    "- `m` -- turns the current cell into Markdown text formatting (like right now)"
   ]
  },
  {
   "cell_type": "code",
   "execution_count": null,
   "id": "52c6c96f",
   "metadata": {},
   "outputs": [],
   "source": []
  },
  {
   "cell_type": "code",
   "execution_count": 2,
   "id": "1d070315",
   "metadata": {},
   "outputs": [
    {
     "name": "stdout",
     "output_type": "stream",
     "text": [
      "300\n"
     ]
    }
   ],
   "source": [
    "x = 100\n",
    "y = 200\n",
    "\n",
    "print(x+y)"
   ]
  },
  {
   "cell_type": "code",
   "execution_count": 3,
   "id": "f8b6b2e4",
   "metadata": {},
   "outputs": [
    {
     "data": {
      "text/plain": [
       "100"
      ]
     },
     "execution_count": 3,
     "metadata": {},
     "output_type": "execute_result"
    }
   ],
   "source": [
    "x"
   ]
  },
  {
   "cell_type": "code",
   "execution_count": 4,
   "id": "8686711a",
   "metadata": {},
   "outputs": [
    {
     "data": {
      "text/plain": [
       "200"
      ]
     },
     "execution_count": 4,
     "metadata": {},
     "output_type": "execute_result"
    }
   ],
   "source": [
    "y"
   ]
  },
  {
   "cell_type": "code",
   "execution_count": 5,
   "id": "7dedbb91",
   "metadata": {},
   "outputs": [],
   "source": [
    "# if the final line of a Python cell is an expression, and if it returns a non-None value\n",
    "# then it simply returns and displays the expression's value"
   ]
  },
  {
   "cell_type": "code",
   "execution_count": 6,
   "id": "14d8c8d5",
   "metadata": {},
   "outputs": [
    {
     "data": {
      "text/plain": [
       "20000"
      ]
     },
     "execution_count": 6,
     "metadata": {},
     "output_type": "execute_result"
    }
   ],
   "source": [
    "x * y"
   ]
  },
  {
   "cell_type": "markdown",
   "id": "c8489d47",
   "metadata": {},
   "source": [
    "# Syllabus\n",
    "\n",
    "1. Intro to analytics with Python\n",
    "    - What is Pandas?\n",
    "    - Basics of reading data \n",
    "    - Analyzing data\n",
    "    - Visualizing data\n",
    "2. Pandas series (1-dimensional data)\n",
    "    - Analyzing with a series\n",
    "    - Retrieving from a series\n",
    "    - Broadcasting\n",
    "    - What *not* to do if you're a good Python programmer!\n",
    "3. Mask arrays\n",
    "    - Selective retrieval\n",
    "    - This is what we use instead of loops in Pandas\n",
    "4. Indexes\n",
    "    - Retreiving in various ways\n",
    "5. Dtypes -- data types behind the scenes\n",
    "    - What are they?\n",
    "    - Changing/converting dtypes\n",
    "    - `NaN` (\"not a number\")\n",
    "6. Reading data from a file \n",
    "    - CSV files\n",
    "    - Retrieving rows\n",
    "    - Retreiving columns (data frame -- 2D data in Pandas)\n",
    "7. Different data sources\n",
    "    - Excel\n",
    "    - JSON\n",
    "    - Grabbing data from APIs\n",
    "    - From Web pages\n",
    "8. Sorting\n",
    "9. Grouping and pivot tables\n",
    "10. Cleaning data\n",
    "11. Working with text\n",
    "12. Dates and times\n",
    "13. Visualization\n",
    "    - Plotting\n",
    "    - Charts\n"
   ]
  },
  {
   "cell_type": "markdown",
   "id": "de32cce6",
   "metadata": {},
   "source": [
    "# What is Pandas?\n",
    "\n",
    "Isn't Python a terrible language for doing data analysis?\n",
    "\n",
    "The secret is that yes, if we were to use Python's integers and floats for our data anlaysis, we would quickly run out of memory and/or happily be charging by the hour.\n",
    "\n",
    "A number of years ago, people invented NumPy, which gives you a thin layer of Python and a deep data structure in C. You get the advantage of programming in Python, but with the speed/efficiency of C.\n",
    "\n",
    "Pandas is a Python package that acts as a wrapper around NumPy, making it easier/friendlier and with more functionality.\n",
    "\n",
    "Pandas allows us to:\n",
    "- Read data from a variety of formats and sources\n",
    "- Clean the data\n",
    "- Analyze the data in numerous ways\n",
    "- Write our analysis in a number of formats and outputs\n",
    "- Visualize our data using plotting and charting libraries\n",
    "\n",
    "Pandas tries to centralize all of this. We could use Matplotlib, a popular plotting library in Python -- but we're going to concentrate on using the Pandas wrappers for Matplotlib."
   ]
  },
  {
   "cell_type": "markdown",
   "id": "ecfd3520",
   "metadata": {},
   "source": [
    "# Using Pandas\n",
    "\n",
    "If I want to do analysis with Pandas, I have to download and install it from PyPI. That's easily done with\n",
    "\n",
    "    pip install pandas\n",
    "    \n",
    "In our program, we'll want to say\n",
    "\n",
    "    import pandas as pd"
   ]
  },
  {
   "cell_type": "code",
   "execution_count": 7,
   "id": "eef4496a",
   "metadata": {},
   "outputs": [],
   "source": [
    "import pandas as pd"
   ]
  },
  {
   "cell_type": "code",
   "execution_count": 8,
   "id": "7b10367b",
   "metadata": {},
   "outputs": [
    {
     "data": {
      "text/plain": [
       "'1.5.3'"
      ]
     },
     "execution_count": 8,
     "metadata": {},
     "output_type": "execute_result"
    }
   ],
   "source": [
    "# what version are we running?\n",
    "\n",
    "pd.__version__"
   ]
  },
  {
   "cell_type": "code",
   "execution_count": 10,
   "id": "75cf8bff",
   "metadata": {},
   "outputs": [],
   "source": [
    "# let's say that I want to load data\n",
    "\n",
    "# most people work with CSV files -- comma-separated values (or \"character separated values\")\n",
    "# - every line of the file is a record\n",
    "# - every line contains multiple fields, separated by a comma or other character (e.g., \\t)\n",
    "\n",
    "# we'll read our data from a CSV file into a Pandas \"data frame,\" meaning a 2D table"
   ]
  },
  {
   "cell_type": "code",
   "execution_count": 11,
   "id": "2502823f",
   "metadata": {},
   "outputs": [
    {
     "name": "stdout",
     "output_type": "stream",
     "text": [
      "../data/2020_sharing_data_outside.csv  ../data/olympic_athlete_events.csv\r\n",
      "../data/CPILFESL.csv\t\t       ../data/san+francisco,ca.csv\r\n",
      "../data/albany,ny.csv\t\t       ../data/sat-scores.csv\r\n",
      "../data/boston,ma.csv\t\t       ../data/skyscrapers.csv\r\n",
      "../data/burrito_current.csv\t       ../data/springfield,il.csv\r\n",
      "../data/celebrity_deaths_2016.csv      ../data/springfield,ma.csv\r\n",
      "../data/chicago,il.csv\t\t       ../data/taxi-distance.csv\r\n",
      "../data/eu_cpi.csv\t\t       ../data/taxi-passenger-count.csv\r\n",
      "../data/eu_gdp.csv\t\t       ../data/taxi.csv\r\n",
      "../data/ice-cream.csv\t\t       ../data/titanic3.csv\r\n",
      "../data/languages.csv\t\t       ../data/us-median-cpi.csv\r\n",
      "../data/los+angeles,ca.csv\t       ../data/us-unemployment-rate.csv\r\n",
      "../data/miles-traveled.csv\t       ../data/us_gdp.csv\r\n",
      "../data/new+york,ny.csv\t\t       ../data/winemag-150k-reviews.csv\r\n",
      "../data/oecd_locations.csv\t       ../data/wti-daily.csv\r\n",
      "../data/oecd_tourism.csv\r\n"
     ]
    }
   ],
   "source": [
    "!ls ../data/*.csv"
   ]
  },
  {
   "cell_type": "code",
   "execution_count": null,
   "id": "b8047a90",
   "metadata": {},
   "outputs": [],
   "source": []
  }
 ],
 "metadata": {
  "kernelspec": {
   "display_name": "Python 3 (ipykernel)",
   "language": "python",
   "name": "python3"
  },
  "language_info": {
   "codemirror_mode": {
    "name": "ipython",
    "version": 3
   },
   "file_extension": ".py",
   "mimetype": "text/x-python",
   "name": "python",
   "nbconvert_exporter": "python",
   "pygments_lexer": "ipython3",
   "version": "3.11.6"
  }
 },
 "nbformat": 4,
 "nbformat_minor": 5
}
