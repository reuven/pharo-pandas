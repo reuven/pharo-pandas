{
 "cells": [
  {
   "cell_type": "code",
   "execution_count": 1,
   "id": "aa5d8219",
   "metadata": {},
   "outputs": [
    {
     "name": "stdout",
     "output_type": "stream",
     "text": [
      "Hello, world!\n"
     ]
    }
   ],
   "source": [
    "print('Hello, world!')   # if I type into Jupyter, it's considered to be Python code\n",
    " \n",
    "    \n",
    "# I can type whatever I want\n",
    "# when I want to execute the cell, I use shift+Enter"
   ]
  },
  {
   "cell_type": "markdown",
   "id": "f0a04e3a",
   "metadata": {},
   "source": [
    "# Exercise: Set up a new notebook\n",
    "\n",
    "1. Go to https://pharo.lerner.co.il\n",
    "2. Navigate to the \"Monday group\" folder\n",
    "3. Create a new Python 3 notebook\n",
    "4. Click on the title, and rename it to reflect your name and the date\n",
    "5. Write a trivial piece of Python code, and execute it with shift+Enter"
   ]
  },
  {
   "cell_type": "markdown",
   "id": "93abfdde",
   "metadata": {},
   "source": [
    "# Very fast intro to Jupyter\n",
    "\n",
    "Everything in Jupyter happens in a \"cell.\" I'm typing into a cell right now. When we type into a cell, it can be in one of two modes:\n",
    "\n",
    "- Edit mode (like right now), where text goes into the cell. I can enter edit mode by clicking on the cell's contents or by pressing ENTER. This allows me to type.\n",
    "- Command mode, where typing tells Jupyter what to do, typically with one-character commands. You can enter command mode by clicking to the left of the cell or by pressing ESC.\n",
    "\n",
    "What commands do I have in command mode?\n",
    "- `c` -- copy the current cell\n",
    "- `x` -- cut the current cell\n",
    "- `v` -- paste the most recently cut/copied cell\n",
    "- `a` -- create a new cell *above* the current one\n",
    "- `b` -- create a new cell *below* the current one\n",
    "- `y` -- turn the current cell into a Python code cell\n",
    "- `m` -- turns the current cell into Markdown text formatting (like right now)"
   ]
  },
  {
   "cell_type": "code",
   "execution_count": null,
   "id": "2d1ad2de",
   "metadata": {},
   "outputs": [],
   "source": []
  },
  {
   "cell_type": "markdown",
   "id": "ef60439a",
   "metadata": {},
   "source": [
    "# Very fast intro to Jupyter\n",
    "\n",
    "Everything in Jupyter happens in a \"cell.\" I'm typing into a cell right now. When we type into a cell, it can be in one of two modes:\n",
    "\n",
    "- Edit mode (like right now), where text goes into the cell. I can enter edit mode by clicking on the cell's contents or by pressing ENTER. This allows me to type.\n",
    "- Command mode, where typing tells Jupyter what to do, typically with one-character commands. You can enter command mode by clicking to the left of the cell or by pressing ESC.\n",
    "\n",
    "What commands do I have in command mode?\n",
    "- `c` -- copy the current cell\n",
    "- `x` -- cut the current cell\n",
    "- `v` -- paste the most recently cut/copied cell\n",
    "- `a` -- create a new cell *above* the current one\n",
    "- `b` -- create a new cell *below* the current one\n",
    "- `y` -- turn the current cell into a Python code cell\n",
    "- `m` -- turns the current cell into Markdown text formatting (like right now)"
   ]
  },
  {
   "cell_type": "code",
   "execution_count": null,
   "id": "7fc5419a",
   "metadata": {},
   "outputs": [],
   "source": []
  },
  {
   "cell_type": "code",
   "execution_count": 2,
   "id": "801ce95d",
   "metadata": {},
   "outputs": [
    {
     "name": "stdout",
     "output_type": "stream",
     "text": [
      "300\n"
     ]
    }
   ],
   "source": [
    "x = 100\n",
    "y = 200\n",
    "\n",
    "print(x+y)"
   ]
  },
  {
   "cell_type": "code",
   "execution_count": 3,
   "id": "c9ef1cfc",
   "metadata": {},
   "outputs": [
    {
     "data": {
      "text/plain": [
       "100"
      ]
     },
     "execution_count": 3,
     "metadata": {},
     "output_type": "execute_result"
    }
   ],
   "source": [
    "x"
   ]
  },
  {
   "cell_type": "code",
   "execution_count": 4,
   "id": "6bbafbee",
   "metadata": {},
   "outputs": [
    {
     "data": {
      "text/plain": [
       "200"
      ]
     },
     "execution_count": 4,
     "metadata": {},
     "output_type": "execute_result"
    }
   ],
   "source": [
    "y"
   ]
  },
  {
   "cell_type": "code",
   "execution_count": 5,
   "id": "1806396d",
   "metadata": {},
   "outputs": [],
   "source": [
    "# if the final line of a Python cell is an expression, and if it returns a non-None value\n",
    "# then it simply returns and displays the expression's value"
   ]
  },
  {
   "cell_type": "code",
   "execution_count": 6,
   "id": "5d032545",
   "metadata": {},
   "outputs": [
    {
     "data": {
      "text/plain": [
       "20000"
      ]
     },
     "execution_count": 6,
     "metadata": {},
     "output_type": "execute_result"
    }
   ],
   "source": [
    "x * y"
   ]
  },
  {
   "cell_type": "markdown",
   "id": "8783ea41",
   "metadata": {},
   "source": [
    "# Syllabus\n",
    "\n",
    "1. Intro to analytics with Python\n",
    "    - What is Pandas?\n",
    "    - Basics of reading data \n",
    "    - Analyzing data\n",
    "    - Visualizing data\n",
    "2. Pandas series (1-dimensional data)\n",
    "    - Analyzing with a series\n",
    "    - Retrieving from a series\n",
    "    - Broadcasting\n",
    "    - What *not* to do if you're a good Python programmer!\n",
    "3. Mask arrays\n",
    "    - Selective retrieval\n",
    "    - This is what we use instead of loops in Pandas\n",
    "4. Indexes\n",
    "    - Retreiving in various ways\n",
    "5. Dtypes -- data types behind the scenes\n",
    "    - What are they?\n",
    "    - Changing/converting dtypes\n",
    "    - `NaN` (\"not a number\")\n",
    "6. Reading data from a file \n",
    "    - CSV files\n",
    "    - Retrieving rows\n",
    "    - Retreiving columns (data frame -- 2D data in Pandas)\n",
    "7. Different data sources\n",
    "    - Excel\n",
    "    - JSON\n",
    "    - Grabbing data from APIs\n",
    "    - From Web pages\n",
    "8. Sorting\n",
    "9. Grouping and pivot tables\n",
    "10. Cleaning data\n",
    "11. Working with text\n",
    "12. Dates and times\n",
    "13. Visualization\n",
    "    - Plotting\n",
    "    - Charts\n"
   ]
  },
  {
   "cell_type": "markdown",
   "id": "5e88a02a",
   "metadata": {},
   "source": [
    "# What is Pandas?\n",
    "\n",
    "Isn't Python a terrible language for doing data analysis?\n",
    "\n",
    "The secret is that yes, if we were to use Python's integers and floats for our data anlaysis, we would quickly run out of memory and/or happily be charging by the hour.\n",
    "\n",
    "A number of years ago, people invented N"
   ]
  }
 ],
 "metadata": {
  "kernelspec": {
   "display_name": "Python 3 (ipykernel)",
   "language": "python",
   "name": "python3"
  },
  "language_info": {
   "codemirror_mode": {
    "name": "ipython",
    "version": 3
   },
   "file_extension": ".py",
   "mimetype": "text/x-python",
   "name": "python",
   "nbconvert_exporter": "python",
   "pygments_lexer": "ipython3",
   "version": "3.11.6"
  }
 },
 "nbformat": 4,
 "nbformat_minor": 5
}
