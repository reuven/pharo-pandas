{
 "cells": [
  {
   "cell_type": "code",
   "execution_count": 1,
   "id": "e07ff1fe-d3d7-4eda-b96f-013b4f44c413",
   "metadata": {},
   "outputs": [],
   "source": [
    "dates = ['0520', '0521', '0522', '0523', '0524' ,'0525', '0526', '0527', '0528', '0529']"
   ]
  },
  {
   "cell_type": "code",
   "execution_count": 2,
   "id": "d556d401-981e-4657-9d83-b14f8ac79dae",
   "metadata": {},
   "outputs": [],
   "source": [
    "temperate = [ 20, 21, 22, 23, 24, 25, 26, 27 ,28, 28 ]"
   ]
  },
  {
   "cell_type": "code",
   "execution_count": 3,
   "id": "8866a31a-1a63-4572-af8b-63b437f71618",
   "metadata": {},
   "outputs": [],
   "source": [
    "import pandas as pd\n",
    "s = pd.Series(temperate, index=dates)"
   ]
  },
  {
   "cell_type": "code",
   "execution_count": 4,
   "id": "460bdf02-c670-4fa5-8ac1-6c77310db5a1",
   "metadata": {},
   "outputs": [
    {
     "data": {
      "text/plain": [
       "0520    20\n",
       "0521    21\n",
       "0522    22\n",
       "0523    23\n",
       "0524    24\n",
       "0525    25\n",
       "0526    26\n",
       "0527    27\n",
       "0528    28\n",
       "0529    28\n",
       "dtype: int64"
      ]
     },
     "execution_count": 4,
     "metadata": {},
     "output_type": "execute_result"
    }
   ],
   "source": [
    "s"
   ]
  },
  {
   "cell_type": "code",
   "execution_count": null,
   "id": "ea69dc9f-5190-4249-8515-cb5fb0c9815e",
   "metadata": {},
   "outputs": [],
   "source": [
    "df = pd.D"
   ]
  }
 ],
 "metadata": {
  "kernelspec": {
   "display_name": "Python 3 (ipykernel)",
   "language": "python",
   "name": "python3"
  },
  "language_info": {
   "codemirror_mode": {
    "name": "ipython",
    "version": 3
   },
   "file_extension": ".py",
   "mimetype": "text/x-python",
   "name": "python",
   "nbconvert_exporter": "python",
   "pygments_lexer": "ipython3",
   "version": "3.12.3"
  }
 },
 "nbformat": 4,
 "nbformat_minor": 5
}
