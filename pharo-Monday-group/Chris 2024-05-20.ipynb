{
 "cells": [
  {
   "cell_type": "code",
   "execution_count": 1,
   "id": "e07ff1fe-d3d7-4eda-b96f-013b4f44c413",
   "metadata": {},
   "outputs": [],
   "source": [
    "dates = ['0520', '0521', '0522', '0523', '0524' ,'0525', '0526', '0527', '0528', '0529']"
   ]
  },
  {
   "cell_type": "code",
   "execution_count": 2,
   "id": "d556d401-981e-4657-9d83-b14f8ac79dae",
   "metadata": {},
   "outputs": [],
   "source": [
    "temperate = [ 20, 21, 22, 23, 24, 25, 26, 27 ,28, 28 ]"
   ]
  },
  {
   "cell_type": "code",
   "execution_count": 3,
   "id": "8866a31a-1a63-4572-af8b-63b437f71618",
   "metadata": {},
   "outputs": [],
   "source": [
    "import pandas as pd\n",
    "s = pd.Series(temperate, index=dates)"
   ]
  },
  {
   "cell_type": "code",
   "execution_count": 4,
   "id": "460bdf02-c670-4fa5-8ac1-6c77310db5a1",
   "metadata": {},
   "outputs": [
    {
     "data": {
      "text/plain": [
       "0520    20\n",
       "0521    21\n",
       "0522    22\n",
       "0523    23\n",
       "0524    24\n",
       "0525    25\n",
       "0526    26\n",
       "0527    27\n",
       "0528    28\n",
       "0529    28\n",
       "dtype: int64"
      ]
     },
     "execution_count": 4,
     "metadata": {},
     "output_type": "execute_result"
    }
   ],
   "source": [
    "s"
   ]
  },
  {
   "cell_type": "code",
   "execution_count": 10,
   "id": "ea69dc9f-5190-4249-8515-cb5fb0c9815e",
   "metadata": {},
   "outputs": [
    {
     "data": {
      "text/html": [
       "<div>\n",
       "<style scoped>\n",
       "    .dataframe tbody tr th:only-of-type {\n",
       "        vertical-align: middle;\n",
       "    }\n",
       "\n",
       "    .dataframe tbody tr th {\n",
       "        vertical-align: top;\n",
       "    }\n",
       "\n",
       "    .dataframe thead th {\n",
       "        text-align: right;\n",
       "    }\n",
       "</style>\n",
       "<table border=\"1\" class=\"dataframe\">\n",
       "  <thead>\n",
       "    <tr style=\"text-align: right;\">\n",
       "      <th></th>\n",
       "      <th>0</th>\n",
       "    </tr>\n",
       "  </thead>\n",
       "  <tbody>\n",
       "    <tr>\n",
       "      <th>0520</th>\n",
       "      <td>20</td>\n",
       "    </tr>\n",
       "    <tr>\n",
       "      <th>0521</th>\n",
       "      <td>21</td>\n",
       "    </tr>\n",
       "    <tr>\n",
       "      <th>0522</th>\n",
       "      <td>22</td>\n",
       "    </tr>\n",
       "    <tr>\n",
       "      <th>0523</th>\n",
       "      <td>23</td>\n",
       "    </tr>\n",
       "    <tr>\n",
       "      <th>0524</th>\n",
       "      <td>24</td>\n",
       "    </tr>\n",
       "    <tr>\n",
       "      <th>0525</th>\n",
       "      <td>25</td>\n",
       "    </tr>\n",
       "    <tr>\n",
       "      <th>0526</th>\n",
       "      <td>26</td>\n",
       "    </tr>\n",
       "    <tr>\n",
       "      <th>0527</th>\n",
       "      <td>27</td>\n",
       "    </tr>\n",
       "    <tr>\n",
       "      <th>0528</th>\n",
       "      <td>28</td>\n",
       "    </tr>\n",
       "    <tr>\n",
       "      <th>0529</th>\n",
       "      <td>28</td>\n",
       "    </tr>\n",
       "  </tbody>\n",
       "</table>\n",
       "</div>"
      ],
      "text/plain": [
       "       0\n",
       "0520  20\n",
       "0521  21\n",
       "0522  22\n",
       "0523  23\n",
       "0524  24\n",
       "0525  25\n",
       "0526  26\n",
       "0527  27\n",
       "0528  28\n",
       "0529  28"
      ]
     },
     "execution_count": 10,
     "metadata": {},
     "output_type": "execute_result"
    }
   ],
   "source": [
    "df = pd.DataFrame(temperate, index = dates)\n",
    "df"
   ]
  },
  {
   "cell_type": "code",
   "execution_count": 20,
   "id": "00400b28-9e4f-4e52-831d-93c34ec24988",
   "metadata": {},
   "outputs": [],
   "source": [
    "df2 = df.reset_index()"
   ]
  },
  {
   "cell_type": "code",
   "execution_count": 17,
   "id": "555e9ae9-d48c-4015-b00c-06c6107eb00d",
   "metadata": {},
   "outputs": [
    {
     "data": {
      "text/plain": [
       "array([False, False,  True, False, False,  True, False, False, False,\n",
       "       False])"
      ]
     },
     "execution_count": 17,
     "metadata": {},
     "output_type": "execute_result"
    }
   ],
   "source": [
    "mask = (df.index =='0522') | (df.index =='0525')\n",
    "mask"
   ]
  },
  {
   "cell_type": "code",
   "execution_count": 18,
   "id": "09b85b86-56d3-41b6-ba37-0b8815d92def",
   "metadata": {},
   "outputs": [
    {
     "data": {
      "text/html": [
       "<div>\n",
       "<style scoped>\n",
       "    .dataframe tbody tr th:only-of-type {\n",
       "        vertical-align: middle;\n",
       "    }\n",
       "\n",
       "    .dataframe tbody tr th {\n",
       "        vertical-align: top;\n",
       "    }\n",
       "\n",
       "    .dataframe thead th {\n",
       "        text-align: right;\n",
       "    }\n",
       "</style>\n",
       "<table border=\"1\" class=\"dataframe\">\n",
       "  <thead>\n",
       "    <tr style=\"text-align: right;\">\n",
       "      <th></th>\n",
       "      <th>0</th>\n",
       "    </tr>\n",
       "  </thead>\n",
       "  <tbody>\n",
       "    <tr>\n",
       "      <th>0522</th>\n",
       "      <td>22</td>\n",
       "    </tr>\n",
       "    <tr>\n",
       "      <th>0525</th>\n",
       "      <td>25</td>\n",
       "    </tr>\n",
       "  </tbody>\n",
       "</table>\n",
       "</div>"
      ],
      "text/plain": [
       "       0\n",
       "0522  22\n",
       "0525  25"
      ]
     },
     "execution_count": 18,
     "metadata": {},
     "output_type": "execute_result"
    }
   ],
   "source": [
    "df[(df.index =='0522') | (df.index =='0525')]"
   ]
  },
  {
   "cell_type": "code",
   "execution_count": 23,
   "id": "dfdfbbd0-f81d-4120-be02-adcda7e99e5c",
   "metadata": {},
   "outputs": [
    {
     "data": {
      "text/html": [
       "<div>\n",
       "<style scoped>\n",
       "    .dataframe tbody tr th:only-of-type {\n",
       "        vertical-align: middle;\n",
       "    }\n",
       "\n",
       "    .dataframe tbody tr th {\n",
       "        vertical-align: top;\n",
       "    }\n",
       "\n",
       "    .dataframe thead th {\n",
       "        text-align: right;\n",
       "    }\n",
       "</style>\n",
       "<table border=\"1\" class=\"dataframe\">\n",
       "  <thead>\n",
       "    <tr style=\"text-align: right;\">\n",
       "      <th></th>\n",
       "      <th>0</th>\n",
       "    </tr>\n",
       "    <tr>\n",
       "      <th>index</th>\n",
       "      <th></th>\n",
       "    </tr>\n",
       "  </thead>\n",
       "  <tbody>\n",
       "    <tr>\n",
       "      <th>0522</th>\n",
       "      <td>22</td>\n",
       "    </tr>\n",
       "    <tr>\n",
       "      <th>0525</th>\n",
       "      <td>25</td>\n",
       "    </tr>\n",
       "  </tbody>\n",
       "</table>\n",
       "</div>"
      ],
      "text/plain": [
       "        0\n",
       "index    \n",
       "0522   22\n",
       "0525   25"
      ]
     },
     "execution_count": 23,
     "metadata": {},
     "output_type": "execute_result"
    }
   ],
   "source": [
    "df2.set_index('index').loc[['0522','0525']]"
   ]
  },
  {
   "cell_type": "code",
   "execution_count": 25,
   "id": "48a3bb87-5821-4719-834f-2ccf7fc0be93",
   "metadata": {},
   "outputs": [],
   "source": [
    "df3 = s.reset_index()"
   ]
  },
  {
   "cell_type": "code",
   "execution_count": 27,
   "id": "741688f8-8e4c-4647-a8d3-22cc6fb1c837",
   "metadata": {},
   "outputs": [
    {
     "data": {
      "text/plain": [
       "2    22\n",
       "5    25\n",
       "Name: 0, dtype: int64"
      ]
     },
     "execution_count": 27,
     "metadata": {},
     "output_type": "execute_result"
    }
   ],
   "source": [
    "df3[0].loc[(df.index =='0522') | (df.index =='0525')]"
   ]
  },
  {
   "cell_type": "code",
   "execution_count": 31,
   "id": "da909659-86ed-4c75-a6b5-bea84a571c76",
   "metadata": {},
   "outputs": [
    {
     "data": {
      "text/plain": [
       "0    10\n",
       "1    20\n",
       "2    30\n",
       "3    40\n",
       "4    50\n",
       "dtype: int8"
      ]
     },
     "execution_count": 31,
     "metadata": {},
     "output_type": "execute_result"
    }
   ],
   "source": [
    "s = pd.Series([10,20,30,40,50], dtype='int8')\n",
    "s"
   ]
  },
  {
   "cell_type": "code",
   "execution_count": 60,
   "id": "dcd0fa43-2df5-4b1a-a28f-88d6ee925d6f",
   "metadata": {},
   "outputs": [
    {
     "data": {
      "text/plain": [
       "a     10\n",
       "b      2\n",
       "c      3\n",
       "d      4\n",
       "e      5\n",
       "f      6\n",
       "g      7\n",
       "h      8\n",
       "i      9\n",
       "j    100\n",
       "dtype: int8"
      ]
     },
     "execution_count": 60,
     "metadata": {},
     "output_type": "execute_result"
    }
   ],
   "source": [
    "s = pd.Series([10,2,3,4,5,6,7,8,9,100], index = ['a','b','c','d','e','f','g','h','i','j'], dtype=np.int8)\n",
    "s"
   ]
  },
  {
   "cell_type": "code",
   "execution_count": 61,
   "id": "0f374897-c5eb-4c0b-ad3f-e87112f4ec28",
   "metadata": {},
   "outputs": [
    {
     "data": {
      "text/plain": [
       "a    10000\n",
       "j   -31072\n",
       "dtype: int16"
      ]
     },
     "execution_count": 61,
     "metadata": {},
     "output_type": "execute_result"
    }
   ],
   "source": [
    "s.loc[ ['a', 'j' ] ] * 1000\n"
   ]
  },
  {
   "cell_type": "code",
   "execution_count": 48,
   "id": "5741b72a-06ba-49b7-9f6b-e41375966c71",
   "metadata": {},
   "outputs": [
    {
     "data": {
      "text/plain": [
       "0    1.0\n",
       "1    2.0\n",
       "2    3.0\n",
       "3    4.0\n",
       "4    5.0\n",
       "dtype: float64"
      ]
     },
     "execution_count": 48,
     "metadata": {},
     "output_type": "execute_result"
    }
   ],
   "source": [
    "import numpy as np\n",
    "fs.head()"
   ]
  },
  {
   "cell_type": "code",
   "execution_count": 52,
   "id": "1cb7536a-b1ca-4fd4-bfba-cd98e65f866d",
   "metadata": {},
   "outputs": [
    {
     "data": {
      "text/plain": [
       "4    5.0\n",
       "5    6.0\n",
       "6    7.0\n",
       "7    8.0\n",
       "8    9.0\n",
       "dtype: float16"
      ]
     },
     "execution_count": 52,
     "metadata": {},
     "output_type": "execute_result"
    }
   ],
   "source": [
    "fs = pd.Series(range(1,10),dtype=np.float16)\n",
    "fs.tail()"
   ]
  },
  {
   "cell_type": "code",
   "execution_count": 53,
   "id": "3d9ae5eb-2019-4bf3-a43e-ccb5690bcb4c",
   "metadata": {},
   "outputs": [
    {
     "name": "stderr",
     "output_type": "stream",
     "text": [
      "/tmp/ipykernel_4102672/1455307916.py:1: FutureWarning: Setting an item of incompatible dtype is deprecated and will raise an error in a future version of pandas. Value '100000' has dtype incompatible with int16, please explicitly cast to a compatible dtype first.\n",
      "  s.loc['a'] *= 100\n"
     ]
    },
    {
     "data": {
      "text/plain": [
       "a    100000\n",
       "b      2000\n",
       "c      3000\n",
       "d      4000\n",
       "e      5000\n",
       "f      6000\n",
       "g      7000\n",
       "h      8000\n",
       "i      9000\n",
       "j     10000\n",
       "dtype: int32"
      ]
     },
     "execution_count": 53,
     "metadata": {},
     "output_type": "execute_result"
    }
   ],
   "source": [
    "s.loc['a'] *= 100\n",
    "s"
   ]
  },
  {
   "cell_type": "code",
   "execution_count": 67,
   "id": "38e74f06-e21e-46ef-bd5b-74dd51cef6d2",
   "metadata": {},
   "outputs": [
    {
     "data": {
      "text/plain": [
       "0    12.34375\n",
       "1    56.78125\n",
       "2    24.68750\n",
       "dtype: float16"
      ]
     },
     "execution_count": 67,
     "metadata": {},
     "output_type": "execute_result"
    }
   ],
   "source": [
    "s = pd.Series([12.34, 56.78, 24.68], dtype=np.float16)\n",
    "s"
   ]
  },
  {
   "cell_type": "code",
   "execution_count": null,
   "id": "f08a1b1c-7b41-487d-8699-000bee2230f7",
   "metadata": {},
   "outputs": [],
   "source": [
    "s.astype(np.float"
   ]
  }
 ],
 "metadata": {
  "kernelspec": {
   "display_name": "Python 3 (ipykernel)",
   "language": "python",
   "name": "python3"
  },
  "language_info": {
   "codemirror_mode": {
    "name": "ipython",
    "version": 3
   },
   "file_extension": ".py",
   "mimetype": "text/x-python",
   "name": "python",
   "nbconvert_exporter": "python",
   "pygments_lexer": "ipython3",
   "version": "3.12.3"
  }
 },
 "nbformat": 4,
 "nbformat_minor": 5
}
