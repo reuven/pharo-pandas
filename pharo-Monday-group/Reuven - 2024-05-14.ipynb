{
 "cells": [
  {
   "cell_type": "markdown",
   "id": "7c6a1d60-9910-4d46-ab40-43c9738784ea",
   "metadata": {},
   "source": [
    "# Agenda: Mask indexes\n",
    "\n",
    "- Comparisons\n",
    "- Broadcasts and comparisons\n",
    "- Using that to filter our series with a \"boolean index\" or a \"mask index\""
   ]
  },
  {
   "cell_type": "code",
   "execution_count": null,
   "id": "3dcc3c45-90a6-4547-95b3-85f46136b8f4",
   "metadata": {},
   "outputs": [],
   "source": []
  },
  {
   "cell_type": "code",
   "execution_count": null,
   "id": "88051b1b-604a-48fb-b2fb-195c9131fc5c",
   "metadata": {},
   "outputs": [],
   "source": []
  },
  {
   "cell_type": "code",
   "execution_count": null,
   "id": "ef1d8352-ea6a-4bc0-9907-5d4c5e4f08ca",
   "metadata": {},
   "outputs": [],
   "source": []
  }
 ],
 "metadata": {
  "kernelspec": {
   "display_name": "Python 3 (ipykernel)",
   "language": "python",
   "name": "python3"
  },
  "language_info": {
   "codemirror_mode": {
    "name": "ipython",
    "version": 3
   },
   "file_extension": ".py",
   "mimetype": "text/x-python",
   "name": "python",
   "nbconvert_exporter": "python",
   "pygments_lexer": "ipython3",
   "version": "3.12.3"
  }
 },
 "nbformat": 4,
 "nbformat_minor": 5
}
