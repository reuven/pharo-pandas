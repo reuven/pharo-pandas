{
 "cells": [
  {
   "cell_type": "markdown",
   "id": "7c6a1d60-9910-4d46-ab40-43c9738784ea",
   "metadata": {},
   "source": [
    "# Agenda: Mask indexes\n",
    "\n",
    "- Comparisons\n",
    "- Broadcasts and comparisons\n",
    "- Using that to filter our series with a \"boolean index\" or a \"mask index\"\n",
    "- Complex comparisons with \"and\" and \"or\""
   ]
  },
  {
   "cell_type": "code",
   "execution_count": 1,
   "id": "3dcc3c45-90a6-4547-95b3-85f46136b8f4",
   "metadata": {},
   "outputs": [],
   "source": [
    "import numpy as np\n",
    "import pandas as pd\n",
    "from pandas import Series, DataFrame"
   ]
  },
  {
   "cell_type": "code",
   "execution_count": 2,
   "id": "94013665-c72e-4325-b503-65c6686dc2b1",
   "metadata": {},
   "outputs": [],
   "source": [
    "s = Series([10, 20, 30, 40, 50, 60, 70],\n",
    "           index=list('abcdefg'))"
   ]
  },
  {
   "cell_type": "code",
   "execution_count": 3,
   "id": "04e04b68-609f-42a4-8128-ff2dd93dcd21",
   "metadata": {},
   "outputs": [
    {
     "data": {
      "text/plain": [
       "a    10\n",
       "b    20\n",
       "c    30\n",
       "d    40\n",
       "e    50\n",
       "f    60\n",
       "g    70\n",
       "dtype: int64"
      ]
     },
     "execution_count": 3,
     "metadata": {},
     "output_type": "execute_result"
    }
   ],
   "source": [
    "s"
   ]
  },
  {
   "cell_type": "code",
   "execution_count": 4,
   "id": "7663214d-85d0-49ed-9b29-487a94cdca21",
   "metadata": {},
   "outputs": [],
   "source": [
    "# I can retrieve any element of the series with either .loc (based on the index) or .iloc (based on the position)"
   ]
  },
  {
   "cell_type": "code",
   "execution_count": 5,
   "id": "e02116c2-6e72-4a87-96f7-5992764181b4",
   "metadata": {},
   "outputs": [
    {
     "data": {
      "text/plain": [
       "40"
      ]
     },
     "execution_count": 5,
     "metadata": {},
     "output_type": "execute_result"
    }
   ],
   "source": [
    "s.loc['d']"
   ]
  },
  {
   "cell_type": "code",
   "execution_count": 6,
   "id": "d6c50674-a001-404a-a9c8-0a64c96ebd91",
   "metadata": {},
   "outputs": [
    {
     "data": {
      "text/plain": [
       "50"
      ]
     },
     "execution_count": 6,
     "metadata": {},
     "output_type": "execute_result"
    }
   ],
   "source": [
    "s.iloc[4]"
   ]
  },
  {
   "cell_type": "code",
   "execution_count": 7,
   "id": "17190ec6-71df-409a-b5a2-f7d087d15cf1",
   "metadata": {},
   "outputs": [
    {
     "data": {
      "text/plain": [
       "a    10\n",
       "d    40\n",
       "dtype: int64"
      ]
     },
     "execution_count": 7,
     "metadata": {},
     "output_type": "execute_result"
    }
   ],
   "source": [
    "# Inside of the [], I can put a list of locations that I want to retrieve\n",
    "# this is known as \"fancy indexing\"\n",
    "\n",
    "s.loc[['a', 'd']]"
   ]
  },
  {
   "cell_type": "code",
   "execution_count": 8,
   "id": "76383962-628e-4aa8-a607-52a8dcd94d08",
   "metadata": {},
   "outputs": [
    {
     "data": {
      "text/plain": [
       "c    30\n",
       "f    60\n",
       "dtype: int64"
      ]
     },
     "execution_count": 8,
     "metadata": {},
     "output_type": "execute_result"
    }
   ],
   "source": [
    "s.iloc[[2, 5]]"
   ]
  },
  {
   "cell_type": "code",
   "execution_count": 9,
   "id": "27b23524-e936-4e51-89e6-ebc62d249ed3",
   "metadata": {},
   "outputs": [
    {
     "data": {
      "text/plain": [
       "a    10\n",
       "d    40\n",
       "e    50\n",
       "g    70\n",
       "dtype: int64"
      ]
     },
     "execution_count": 9,
     "metadata": {},
     "output_type": "execute_result"
    }
   ],
   "source": [
    "# there is another way that we can retrieve values, though\n",
    "# we can pass a list of boolean values (True and False)\n",
    "\n",
    "s.loc[ [True, False, False, True, True, False, True] ]"
   ]
  },
  {
   "cell_type": "markdown",
   "id": "a440505c-2b10-413d-b495-6cadf2c89f97",
   "metadata": {},
   "source": [
    "# Boolean/mask index\n",
    "\n",
    "The idea here is:\n",
    "- Pass, inside of `[]`, a list of booleans\n",
    "- Wherever there is a True value, we get the value from the original series\n",
    "- Wherever there is a False value, the original value is ignored\n",
    "\n",
    "This is used all of the time, but you will almost never actually be typing True and False into square brackets.\n",
    "\n",
    "That's because we can ask Pandas to create it for us automatically.\n",
    "\n",
    "How? With comparison operators."
   ]
  },
  {
   "cell_type": "code",
   "execution_count": 10,
   "id": "d1f12f7b-48a8-433b-b81c-80aafb083119",
   "metadata": {},
   "outputs": [
    {
     "data": {
      "text/plain": [
       "a    False\n",
       "b    False\n",
       "c    False\n",
       "d     True\n",
       "e     True\n",
       "f     True\n",
       "g     True\n",
       "dtype: bool"
      ]
     },
     "execution_count": 10,
     "metadata": {},
     "output_type": "execute_result"
    }
   ],
   "source": [
    "s > 30    # this is a comparison operation, broadcast across all values of s"
   ]
  },
  {
   "cell_type": "code",
   "execution_count": 12,
   "id": "8c119463-f3f7-4fc6-93f9-db0016d5b524",
   "metadata": {},
   "outputs": [
    {
     "data": {
      "text/plain": [
       "d    40\n",
       "e    50\n",
       "f    60\n",
       "g    70\n",
       "dtype: int64"
      ]
     },
     "execution_count": 12,
     "metadata": {},
     "output_type": "execute_result"
    }
   ],
   "source": [
    "# I can take this boolean series and use it as a mask index with .loc\n",
    "\n",
    "s.loc[ s > 30]   # only have [] once here, because we're getting a series back from s>30\n",
    "\n",
    "# say this as: show the values of s where s > 30"
   ]
  },
  {
   "cell_type": "code",
   "execution_count": null,
   "id": "c6e065bc-47d5-4732-b679-d4f0907ae06b",
   "metadata": {},
   "outputs": [],
   "source": []
  }
 ],
 "metadata": {
  "kernelspec": {
   "display_name": "Python 3 (ipykernel)",
   "language": "python",
   "name": "python3"
  },
  "language_info": {
   "codemirror_mode": {
    "name": "ipython",
    "version": 3
   },
   "file_extension": ".py",
   "mimetype": "text/x-python",
   "name": "python",
   "nbconvert_exporter": "python",
   "pygments_lexer": "ipython3",
   "version": "3.12.3"
  }
 },
 "nbformat": 4,
 "nbformat_minor": 5
}
