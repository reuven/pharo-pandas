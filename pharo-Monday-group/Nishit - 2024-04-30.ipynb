{
 "cells": [
  {
   "cell_type": "code",
   "execution_count": 1,
   "id": "ce2663a2",
   "metadata": {},
   "outputs": [
    {
     "name": "stdout",
     "output_type": "stream",
     "text": [
      "Hello, world!\n"
     ]
    }
   ],
   "source": [
    "print ('Hello, world!')"
   ]
  },
  {
   "cell_type": "markdown",
   "id": "479f6bef",
   "metadata": {},
   "source": [
    "Writing something in markdown"
   ]
  },
  {
   "cell_type": "markdown",
   "id": "a8c5676e",
   "metadata": {},
   "source": [
    "--Exercise: Set up a new notebook"
   ]
  },
  {
   "cell_type": "markdown",
   "id": "05338ab9",
   "metadata": {},
   "source": [
    "# Exercise: Set up a new notebook"
   ]
  },
  {
   "cell_type": "markdown",
   "id": "b3827b36",
   "metadata": {},
   "source": [
    "import pandas as pd"
   ]
  },
  {
   "cell_type": "code",
   "execution_count": 2,
   "id": "cf1e386c",
   "metadata": {},
   "outputs": [],
   "source": [
    "import pandas as pd"
   ]
  },
  {
   "cell_type": "code",
   "execution_count": 4,
   "id": "9eac0bcc",
   "metadata": {},
   "outputs": [
    {
     "data": {
      "text/plain": [
       "'1.5.3'"
      ]
     },
     "execution_count": 4,
     "metadata": {},
     "output_type": "execute_result"
    }
   ],
   "source": [
    "pd.__version__"
   ]
  },
  {
   "cell_type": "code",
   "execution_count": 5,
   "id": "2f1f1f0e",
   "metadata": {},
   "outputs": [],
   "source": [
    "#load data\n",
    "\n",
    "#most common CSV files \n",
    "\n",
    "#read data from CSV file into a Pandas \"data frame\", meaning 2D table"
   ]
  },
  {
   "cell_type": "code",
   "execution_count": 6,
   "id": "6998cefb",
   "metadata": {},
   "outputs": [
    {
     "name": "stdout",
     "output_type": "stream",
     "text": [
      "../data/2020_sharing_data_outside.csv  ../data/olympic_athlete_events.csv\r\n",
      "../data/CPILFESL.csv\t\t       ../data/san+francisco,ca.csv\r\n",
      "../data/albany,ny.csv\t\t       ../data/sat-scores.csv\r\n",
      "../data/boston,ma.csv\t\t       ../data/skyscrapers.csv\r\n",
      "../data/burrito_current.csv\t       ../data/springfield,il.csv\r\n",
      "../data/celebrity_deaths_2016.csv      ../data/springfield,ma.csv\r\n",
      "../data/chicago,il.csv\t\t       ../data/taxi-distance.csv\r\n",
      "../data/eu_cpi.csv\t\t       ../data/taxi-passenger-count.csv\r\n",
      "../data/eu_gdp.csv\t\t       ../data/taxi.csv\r\n",
      "../data/ice-cream.csv\t\t       ../data/titanic3.csv\r\n",
      "../data/languages.csv\t\t       ../data/us-median-cpi.csv\r\n",
      "../data/los+angeles,ca.csv\t       ../data/us-unemployment-rate.csv\r\n",
      "../data/miles-traveled.csv\t       ../data/us_gdp.csv\r\n",
      "../data/new+york,ny.csv\t\t       ../data/winemag-150k-reviews.csv\r\n",
      "../data/oecd_locations.csv\t       ../data/wti-daily.csv\r\n",
      "../data/oecd_tourism.csv\r\n"
     ]
    }
   ],
   "source": [
    "!ls ../data/*.csv"
   ]
  },
  {
   "cell_type": "code",
   "execution_count": 7,
   "id": "961d5913",
   "metadata": {},
   "outputs": [],
   "source": [
    "# let's take the CSV file for taxi data and turn into data frame\n"
   ]
  },
  {
   "cell_type": "code",
   "execution_count": null,
   "id": "49fac5e8",
   "metadata": {},
   "outputs": [],
   "source": []
  }
 ],
 "metadata": {
  "kernelspec": {
   "display_name": "Python 3 (ipykernel)",
   "language": "python",
   "name": "python3"
  },
  "language_info": {
   "codemirror_mode": {
    "name": "ipython",
    "version": 3
   },
   "file_extension": ".py",
   "mimetype": "text/x-python",
   "name": "python",
   "nbconvert_exporter": "python",
   "pygments_lexer": "ipython3",
   "version": "3.11.6"
  }
 },
 "nbformat": 4,
 "nbformat_minor": 5
}
