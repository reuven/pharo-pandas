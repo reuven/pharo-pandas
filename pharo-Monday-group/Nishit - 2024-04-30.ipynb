{
 "cells": [
  {
   "cell_type": "code",
   "execution_count": 1,
   "id": "2b7b99c4",
   "metadata": {},
   "outputs": [
    {
     "name": "stdout",
     "output_type": "stream",
     "text": [
      "Hello, world!\n"
     ]
    }
   ],
   "source": [
    "print ('Hello, world!')"
   ]
  },
  {
   "cell_type": "markdown",
   "id": "0b9bb974",
   "metadata": {},
   "source": [
    "Writing something in markdown"
   ]
  },
  {
   "cell_type": "markdown",
   "id": "d4acc2a6",
   "metadata": {},
   "source": [
    "--Exercise: Set up a new notebook"
   ]
  },
  {
   "cell_type": "markdown",
   "id": "d177390b",
   "metadata": {},
   "source": [
    "# Exercise: Set up a new notebook"
   ]
  },
  {
   "cell_type": "markdown",
   "id": "040b77f7",
   "metadata": {},
   "source": []
  }
 ],
 "metadata": {
  "kernelspec": {
   "display_name": "Python 3 (ipykernel)",
   "language": "python",
   "name": "python3"
  },
  "language_info": {
   "codemirror_mode": {
    "name": "ipython",
    "version": 3
   },
   "file_extension": ".py",
   "mimetype": "text/x-python",
   "name": "python",
   "nbconvert_exporter": "python",
   "pygments_lexer": "ipython3",
   "version": "3.11.6"
  }
 },
 "nbformat": 4,
 "nbformat_minor": 5
}
