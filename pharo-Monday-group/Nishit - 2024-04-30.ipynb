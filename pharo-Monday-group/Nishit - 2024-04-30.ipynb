{
 "cells": [
  {
   "cell_type": "code",
   "execution_count": 1,
   "id": "7d8ee070",
   "metadata": {},
   "outputs": [
    {
     "name": "stdout",
     "output_type": "stream",
     "text": [
      "Hello, world!\n"
     ]
    }
   ],
   "source": [
    "print ('Hello, world!')"
   ]
  },
  {
   "cell_type": "markdown",
   "id": "7e370400",
   "metadata": {},
   "source": [
    "Writing something in markdown"
   ]
  },
  {
   "cell_type": "markdown",
   "id": "703b43e4",
   "metadata": {},
   "source": [
    "--Exercise: Set up a new notebook"
   ]
  },
  {
   "cell_type": "markdown",
   "id": "3c8da2bf",
   "metadata": {},
   "source": [
    "# Exercise: Set up a new notebook"
   ]
  },
  {
   "cell_type": "markdown",
   "id": "11eab888",
   "metadata": {},
   "source": [
    "import pandas as pd"
   ]
  },
  {
   "cell_type": "code",
   "execution_count": 2,
   "id": "a1e3ae42",
   "metadata": {},
   "outputs": [],
   "source": [
    "import pandas as pd"
   ]
  },
  {
   "cell_type": "code",
   "execution_count": 4,
   "id": "75a35a75",
   "metadata": {},
   "outputs": [
    {
     "data": {
      "text/plain": [
       "'1.5.3'"
      ]
     },
     "execution_count": 4,
     "metadata": {},
     "output_type": "execute_result"
    }
   ],
   "source": [
    "pd.__version__"
   ]
  },
  {
   "cell_type": "code",
   "execution_count": null,
   "id": "1b5c82ea",
   "metadata": {},
   "outputs": [],
   "source": [
    "#load data\n",
    "\n",
    "#common"
   ]
  }
 ],
 "metadata": {
  "kernelspec": {
   "display_name": "Python 3 (ipykernel)",
   "language": "python",
   "name": "python3"
  },
  "language_info": {
   "codemirror_mode": {
    "name": "ipython",
    "version": 3
   },
   "file_extension": ".py",
   "mimetype": "text/x-python",
   "name": "python",
   "nbconvert_exporter": "python",
   "pygments_lexer": "ipython3",
   "version": "3.11.6"
  }
 },
 "nbformat": 4,
 "nbformat_minor": 5
}
