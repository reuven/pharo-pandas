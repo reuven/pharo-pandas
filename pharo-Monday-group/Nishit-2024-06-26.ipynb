{
 "cells": [
  {
   "cell_type": "code",
   "execution_count": 1,
   "id": "50de4ed4-e5b5-400f-b972-c9f4e4807711",
   "metadata": {},
   "outputs": [],
   "source": [
    "import pandas as pd\n",
    "\n",
    "filename = '../data/taxi.csv'\n",
    "\n",
    "df = pd.read_csv(filename)"
   ]
  },
  {
   "cell_type": "code",
   "execution_count": 2,
   "id": "3fb4874a-9ece-45e5-8fdf-c960df0ffe83",
   "metadata": {},
   "outputs": [],
   "source": [
    "import numpy as np\n",
    "from pandas import Series, DataFrame\n",
    "\n",
    "np.random.seed(0)\n",
    "s = Series(np.random.randint(-50, 50, 10),\n",
    "           index=list('acegihfjdb'))"
   ]
  },
  {
   "cell_type": "code",
   "execution_count": 3,
   "id": "5550d1c8-8d52-4ef9-909c-08c32338d720",
   "metadata": {},
   "outputs": [
    {
     "data": {
      "text/plain": [
       "a    -6\n",
       "c    -3\n",
       "e    14\n",
       "g    17\n",
       "i    17\n",
       "h   -41\n",
       "f    33\n",
       "j   -29\n",
       "d   -14\n",
       "b    37\n",
       "dtype: int64"
      ]
     },
     "execution_count": 3,
     "metadata": {},
     "output_type": "execute_result"
    }
   ],
   "source": [
    "s"
   ]
  },
  {
   "cell_type": "code",
   "execution_count": 5,
   "id": "0c15aff4-171c-44a1-a38c-6f2e73b2e187",
   "metadata": {},
   "outputs": [
    {
     "data": {
      "text/plain": [
       "a    -6\n",
       "b    37\n",
       "c    -3\n",
       "d   -14\n",
       "e    14\n",
       "f    33\n",
       "g    17\n",
       "h   -41\n",
       "i    17\n",
       "j   -29\n",
       "dtype: int64"
      ]
     },
     "execution_count": 5,
     "metadata": {},
     "output_type": "execute_result"
    }
   ],
   "source": [
    "# the first kind of sort we'll do is on the index\n",
    "\n",
    "# this returns a new series, not modifying the original one\n",
    "s.sort_index()"
   ]
  },
  {
   "cell_type": "code",
   "execution_count": 9,
   "id": "314be1b3-790c-4bbd-ba91-822e406f1fd1",
   "metadata": {},
   "outputs": [],
   "source": [
    "data = [34, 36, 71, 76, 32, 30, 1, 4]\n",
    "ivalues = ['Nishit','Rupal','Shaila','Prakash','Arpita','Anuja','Ari','Maya']\n",
    "s = Series(data,\n",
    "           index=ivalues)"
   ]
  },
  {
   "cell_type": "code",
   "execution_count": 10,
   "id": "e9bba571-8513-4bd8-8f0a-db5a68acc537",
   "metadata": {},
   "outputs": [
    {
     "data": {
      "text/plain": [
       "Nishit     34\n",
       "Rupal      36\n",
       "Shaila     71\n",
       "Prakash    76\n",
       "Arpita     32\n",
       "Anuja      30\n",
       "Ari         1\n",
       "Maya        4\n",
       "dtype: int64"
      ]
     },
     "execution_count": 10,
     "metadata": {},
     "output_type": "execute_result"
    }
   ],
   "source": [
    "s"
   ]
  },
  {
   "cell_type": "code",
   "execution_count": 11,
   "id": "540adca6-a135-43fb-8fca-ab45688118ce",
   "metadata": {},
   "outputs": [
    {
     "data": {
      "text/plain": [
       "Anuja      30\n",
       "Ari         1\n",
       "Arpita     32\n",
       "Maya        4\n",
       "Nishit     34\n",
       "Prakash    76\n",
       "Rupal      36\n",
       "Shaila     71\n",
       "dtype: int64"
      ]
     },
     "execution_count": 11,
     "metadata": {},
     "output_type": "execute_result"
    }
   ],
   "source": [
    "s.sort_index()"
   ]
  },
  {
   "cell_type": "code",
   "execution_count": 12,
   "id": "3d1c7d04-15dd-4fc6-80c9-f5192b9e3067",
   "metadata": {},
   "outputs": [
    {
     "data": {
      "text/plain": [
       "21.0"
      ]
     },
     "execution_count": 12,
     "metadata": {},
     "output_type": "execute_result"
    }
   ],
   "source": [
    "(\n",
    "    s\n",
    "    .sort_index()\n",
    "    .head(3)\n",
    "    .mean()\n",
    ")"
   ]
  },
  {
   "cell_type": "code",
   "execution_count": null,
   "id": "7a46115b-f787-4015-abaa-135c1cda3e32",
   "metadata": {},
   "outputs": [],
   "source": [
    "pd.DataFrame('')"
   ]
  }
 ],
 "metadata": {
  "kernelspec": {
   "display_name": "Python 3 (ipykernel)",
   "language": "python",
   "name": "python3"
  },
  "language_info": {
   "codemirror_mode": {
    "name": "ipython",
    "version": 3
   },
   "file_extension": ".py",
   "mimetype": "text/x-python",
   "name": "python",
   "nbconvert_exporter": "python",
   "pygments_lexer": "ipython3",
   "version": "3.12.3"
  }
 },
 "nbformat": 4,
 "nbformat_minor": 5
}
