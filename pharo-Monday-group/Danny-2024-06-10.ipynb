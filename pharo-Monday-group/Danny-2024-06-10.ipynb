{
 "cells": [
  {
   "cell_type": "code",
   "execution_count": 1,
   "id": "03f15364-0382-465a-a3d4-825baee7ec4d",
   "metadata": {},
   "outputs": [],
   "source": [
    "import pandas as pd\n",
    "from pandas import Series, DataFrame\n"
   ]
  },
  {
   "cell_type": "code",
   "execution_count": null,
   "id": "c16af789-4c7c-4642-823a-55f7978efb6c",
   "metadata": {},
   "outputs": [],
   "source": [
    "df Weather = DataFrame([55,56],\n",
    "                       [45,80],\n",
    "                       [55,98],\n",
    "                       [24,79],\n",
    "                       [43,67],\n",
    "                       [65,88],\n",
    "                       index=list('Mon','Tues','Weds','Thurs','Fri','Sat'),\n",
    "                       columns=list('Low','High')"
   ]
  }
 ],
 "metadata": {
  "kernelspec": {
   "display_name": "Python 3 (ipykernel)",
   "language": "python",
   "name": "python3"
  },
  "language_info": {
   "codemirror_mode": {
    "name": "ipython",
    "version": 3
   },
   "file_extension": ".py",
   "mimetype": "text/x-python",
   "name": "python",
   "nbconvert_exporter": "python",
   "pygments_lexer": "ipython3",
   "version": "3.12.3"
  }
 },
 "nbformat": 4,
 "nbformat_minor": 5
}
