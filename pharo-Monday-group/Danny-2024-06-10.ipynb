{
 "cells": [
  {
   "cell_type": "code",
   "execution_count": 1,
   "id": "03f15364-0382-465a-a3d4-825baee7ec4d",
   "metadata": {},
   "outputs": [],
   "source": [
    "import pandas as pd\n",
    "from pandas import Series, DataFrame\n"
   ]
  },
  {
   "cell_type": "code",
   "execution_count": 11,
   "id": "c16af789-4c7c-4642-823a-55f7978efb6c",
   "metadata": {},
   "outputs": [],
   "source": [
    "df = DataFrame([[55,56],\n",
    "                       [45,80],\n",
    "                       [55,98],\n",
    "                       [24,79],\n",
    "                       [43,67],\n",
    "                       [65,88]],\n",
    "                       index=list('MTWRFS'),\n",
    "                       columns=list('LH'))\n"
   ]
  },
  {
   "cell_type": "code",
   "execution_count": 12,
   "id": "abfcbbb8-4143-4e74-ae58-cf0ec0dd6035",
   "metadata": {},
   "outputs": [
    {
     "data": {
      "text/html": [
       "<div>\n",
       "<style scoped>\n",
       "    .dataframe tbody tr th:only-of-type {\n",
       "        vertical-align: middle;\n",
       "    }\n",
       "\n",
       "    .dataframe tbody tr th {\n",
       "        vertical-align: top;\n",
       "    }\n",
       "\n",
       "    .dataframe thead th {\n",
       "        text-align: right;\n",
       "    }\n",
       "</style>\n",
       "<table border=\"1\" class=\"dataframe\">\n",
       "  <thead>\n",
       "    <tr style=\"text-align: right;\">\n",
       "      <th></th>\n",
       "      <th>L</th>\n",
       "      <th>H</th>\n",
       "    </tr>\n",
       "  </thead>\n",
       "  <tbody>\n",
       "    <tr>\n",
       "      <th>M</th>\n",
       "      <td>55</td>\n",
       "      <td>56</td>\n",
       "    </tr>\n",
       "    <tr>\n",
       "      <th>T</th>\n",
       "      <td>45</td>\n",
       "      <td>80</td>\n",
       "    </tr>\n",
       "    <tr>\n",
       "      <th>W</th>\n",
       "      <td>55</td>\n",
       "      <td>98</td>\n",
       "    </tr>\n",
       "    <tr>\n",
       "      <th>R</th>\n",
       "      <td>24</td>\n",
       "      <td>79</td>\n",
       "    </tr>\n",
       "    <tr>\n",
       "      <th>F</th>\n",
       "      <td>43</td>\n",
       "      <td>67</td>\n",
       "    </tr>\n",
       "    <tr>\n",
       "      <th>S</th>\n",
       "      <td>65</td>\n",
       "      <td>88</td>\n",
       "    </tr>\n",
       "  </tbody>\n",
       "</table>\n",
       "</div>"
      ],
      "text/plain": [
       "    L   H\n",
       "M  55  56\n",
       "T  45  80\n",
       "W  55  98\n",
       "R  24  79\n",
       "F  43  67\n",
       "S  65  88"
      ]
     },
     "execution_count": 12,
     "metadata": {},
     "output_type": "execute_result"
    }
   ],
   "source": []
  },
  {
   "cell_type": "code",
   "execution_count": 13,
   "id": "3fba221c-57f7-498a-8325-e3fddd1f8fad",
   "metadata": {},
   "outputs": [
    {
     "data": {
      "text/plain": [
       "count     6.000000\n",
       "mean     47.833333\n",
       "std      14.119726\n",
       "min      24.000000\n",
       "25%      43.500000\n",
       "50%      50.000000\n",
       "75%      55.000000\n",
       "max      65.000000\n",
       "Name: L, dtype: float64"
      ]
     },
     "execution_count": 13,
     "metadata": {},
     "output_type": "execute_result"
    }
   ],
   "source": [
    "df['L'].describe()"
   ]
  },
  {
   "cell_type": "code",
   "execution_count": 14,
   "id": "873c6abe-a65e-4f51-bafa-435b320f1e1a",
   "metadata": {},
   "outputs": [
    {
     "data": {
      "text/plain": [
       "count     6.000000\n",
       "mean     78.000000\n",
       "std      14.899664\n",
       "min      56.000000\n",
       "25%      70.000000\n",
       "50%      79.500000\n",
       "75%      86.000000\n",
       "max      98.000000\n",
       "Name: H, dtype: float64"
      ]
     },
     "execution_count": 14,
     "metadata": {},
     "output_type": "execute_result"
    }
   ],
   "source": [
    "df['H'].describe()"
   ]
  },
  {
   "cell_type": "code",
   "execution_count": 16,
   "id": "40a266ab-6849-4ee6-82e0-3931da40b3c9",
   "metadata": {},
   "outputs": [
    {
     "data": {
      "text/plain": [
       "76.5"
      ]
     },
     "execution_count": 16,
     "metadata": {},
     "output_type": "execute_result"
    }
   ],
   "source": [
    "df.loc['W'].mean()"
   ]
  },
  {
   "cell_type": "code",
   "execution_count": 17,
   "id": "b7936dc9-881e-42a0-9a3f-a6ee58f6f15b",
   "metadata": {},
   "outputs": [
    {
     "data": {
      "text/plain": [
       "55.0"
      ]
     },
     "execution_count": 17,
     "metadata": {},
     "output_type": "execute_result"
    }
   ],
   "source": [
    "df.loc['F'].mean()"
   ]
  }
 ],
 "metadata": {
  "kernelspec": {
   "display_name": "Python 3 (ipykernel)",
   "language": "python",
   "name": "python3"
  },
  "language_info": {
   "codemirror_mode": {
    "name": "ipython",
    "version": 3
   },
   "file_extension": ".py",
   "mimetype": "text/x-python",
   "name": "python",
   "nbconvert_exporter": "python",
   "pygments_lexer": "ipython3",
   "version": "3.12.3"
  }
 },
 "nbformat": 4,
 "nbformat_minor": 5
}
