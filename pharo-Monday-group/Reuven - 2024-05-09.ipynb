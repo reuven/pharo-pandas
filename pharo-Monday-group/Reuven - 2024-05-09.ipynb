{
 "cells": [
  {
   "cell_type": "markdown",
   "id": "0c90620b",
   "metadata": {},
   "source": [
    "# Agenda\n",
    "\n",
    "1. Series\n",
    "2. Creating them\n",
    "3. Retrieving with `[]`, `.loc`, `.iloc`\n",
    "4. Indexes and how that affects retrieval\n",
    "5. Broadcasting and retrieving"
   ]
  },
  {
   "cell_type": "code",
   "execution_count": 1,
   "id": "c2434232",
   "metadata": {},
   "outputs": [],
   "source": [
    "import pandas as pd"
   ]
  },
  {
   "cell_type": "code",
   "execution_count": 2,
   "id": "e423d316-5fb1-4852-b40b-4d85d042ce05",
   "metadata": {},
   "outputs": [],
   "source": [
    "from pandas import Series"
   ]
  },
  {
   "cell_type": "code",
   "execution_count": 3,
   "id": "2e7077a2-3c89-4fa3-a3b0-eda86003366f",
   "metadata": {},
   "outputs": [],
   "source": [
    "s = Series([10, 20, 30, 40, 50])"
   ]
  },
  {
   "cell_type": "code",
   "execution_count": 4,
   "id": "26a56115-5c42-4729-9640-1f7bb29b6989",
   "metadata": {},
   "outputs": [
    {
     "data": {
      "text/plain": [
       "0    10\n",
       "1    20\n",
       "2    30\n",
       "3    40\n",
       "4    50\n",
       "dtype: int64"
      ]
     },
     "execution_count": 4,
     "metadata": {},
     "output_type": "execute_result"
    }
   ],
   "source": [
    "s"
   ]
  },
  {
   "cell_type": "code",
   "execution_count": 5,
   "id": "bf9b0273-6efb-433e-bc21-395c0625958c",
   "metadata": {},
   "outputs": [],
   "source": [
    "s = Series([10, 20, 30.5, 40, 50])"
   ]
  },
  {
   "cell_type": "code",
   "execution_count": 6,
   "id": "d241cf43-9bc1-43a0-9594-faa29c5ed3c1",
   "metadata": {},
   "outputs": [
    {
     "data": {
      "text/plain": [
       "0    10.0\n",
       "1    20.0\n",
       "2    30.5\n",
       "3    40.0\n",
       "4    50.0\n",
       "dtype: float64"
      ]
     },
     "execution_count": 6,
     "metadata": {},
     "output_type": "execute_result"
    }
   ],
   "source": [
    "s"
   ]
  },
  {
   "cell_type": "markdown",
   "id": "64d88287-6be1-4222-97bf-10e509351b5a",
   "metadata": {},
   "source": [
    "# Lists vs series\n",
    "\n",
    "A list can contain any objects we want. They are traditionally all of the same type, but they don't have to be.\n",
    "\n",
    "In a series, all values *must* be of the same dtype."
   ]
  },
  {
   "cell_type": "code",
   "execution_count": 7,
   "id": "b1acc8a3-16fe-4625-ac3f-f32893af7913",
   "metadata": {},
   "outputs": [
    {
     "data": {
      "text/plain": [
       "10.0"
      ]
     },
     "execution_count": 7,
     "metadata": {},
     "output_type": "execute_result"
    }
   ],
   "source": [
    "# How can I retrieve from a series?\n",
    "\n",
    "s[0]"
   ]
  },
  {
   "cell_type": "code",
   "execution_count": 8,
   "id": "027092d4-8f25-428d-ba77-f346d9b13302",
   "metadata": {},
   "outputs": [
    {
     "data": {
      "text/plain": [
       "20.0"
      ]
     },
     "execution_count": 8,
     "metadata": {},
     "output_type": "execute_result"
    }
   ],
   "source": [
    "s[1]"
   ]
  },
  {
   "cell_type": "code",
   "execution_count": 9,
   "id": "44b0b703-cf9e-4f8a-9399-8dcc50b01552",
   "metadata": {},
   "outputs": [
    {
     "data": {
      "text/plain": [
       "numpy.float64"
      ]
     },
     "execution_count": 9,
     "metadata": {},
     "output_type": "execute_result"
    }
   ],
   "source": [
    "type(s[1])"
   ]
  },
  {
   "cell_type": "code",
   "execution_count": 10,
   "id": "b62e3382-4860-4488-89de-3f7b5bdd1064",
   "metadata": {},
   "outputs": [
    {
     "ename": "KeyError",
     "evalue": "-1",
     "output_type": "error",
     "traceback": [
      "\u001b[0;31m---------------------------------------------------------------------------\u001b[0m",
      "\u001b[0;31mValueError\u001b[0m                                Traceback (most recent call last)",
      "File \u001b[0;32m~/.pyenv/versions/3.12.3/lib/python3.12/site-packages/pandas/core/indexes/range.py:413\u001b[0m, in \u001b[0;36mRangeIndex.get_loc\u001b[0;34m(self, key)\u001b[0m\n\u001b[1;32m    412\u001b[0m \u001b[38;5;28;01mtry\u001b[39;00m:\n\u001b[0;32m--> 413\u001b[0m     \u001b[38;5;28;01mreturn\u001b[39;00m \u001b[38;5;28;43mself\u001b[39;49m\u001b[38;5;241;43m.\u001b[39;49m\u001b[43m_range\u001b[49m\u001b[38;5;241;43m.\u001b[39;49m\u001b[43mindex\u001b[49m\u001b[43m(\u001b[49m\u001b[43mnew_key\u001b[49m\u001b[43m)\u001b[49m\n\u001b[1;32m    414\u001b[0m \u001b[38;5;28;01mexcept\u001b[39;00m \u001b[38;5;167;01mValueError\u001b[39;00m \u001b[38;5;28;01mas\u001b[39;00m err:\n",
      "\u001b[0;31mValueError\u001b[0m: -1 is not in range",
      "\nThe above exception was the direct cause of the following exception:\n",
      "\u001b[0;31mKeyError\u001b[0m                                  Traceback (most recent call last)",
      "Cell \u001b[0;32mIn[10], line 1\u001b[0m\n\u001b[0;32m----> 1\u001b[0m \u001b[43ms\u001b[49m\u001b[43m[\u001b[49m\u001b[38;5;241;43m-\u001b[39;49m\u001b[38;5;241;43m1\u001b[39;49m\u001b[43m]\u001b[49m  \u001b[38;5;66;03m# can I get the final value \u001b[39;00m\n",
      "File \u001b[0;32m~/.pyenv/versions/3.12.3/lib/python3.12/site-packages/pandas/core/series.py:1121\u001b[0m, in \u001b[0;36mSeries.__getitem__\u001b[0;34m(self, key)\u001b[0m\n\u001b[1;32m   1118\u001b[0m     \u001b[38;5;28;01mreturn\u001b[39;00m \u001b[38;5;28mself\u001b[39m\u001b[38;5;241m.\u001b[39m_values[key]\n\u001b[1;32m   1120\u001b[0m \u001b[38;5;28;01melif\u001b[39;00m key_is_scalar:\n\u001b[0;32m-> 1121\u001b[0m     \u001b[38;5;28;01mreturn\u001b[39;00m \u001b[38;5;28;43mself\u001b[39;49m\u001b[38;5;241;43m.\u001b[39;49m\u001b[43m_get_value\u001b[49m\u001b[43m(\u001b[49m\u001b[43mkey\u001b[49m\u001b[43m)\u001b[49m\n\u001b[1;32m   1123\u001b[0m \u001b[38;5;66;03m# Convert generator to list before going through hashable part\u001b[39;00m\n\u001b[1;32m   1124\u001b[0m \u001b[38;5;66;03m# (We will iterate through the generator there to check for slices)\u001b[39;00m\n\u001b[1;32m   1125\u001b[0m \u001b[38;5;28;01mif\u001b[39;00m is_iterator(key):\n",
      "File \u001b[0;32m~/.pyenv/versions/3.12.3/lib/python3.12/site-packages/pandas/core/series.py:1237\u001b[0m, in \u001b[0;36mSeries._get_value\u001b[0;34m(self, label, takeable)\u001b[0m\n\u001b[1;32m   1234\u001b[0m     \u001b[38;5;28;01mreturn\u001b[39;00m \u001b[38;5;28mself\u001b[39m\u001b[38;5;241m.\u001b[39m_values[label]\n\u001b[1;32m   1236\u001b[0m \u001b[38;5;66;03m# Similar to Index.get_value, but we do not fall back to positional\u001b[39;00m\n\u001b[0;32m-> 1237\u001b[0m loc \u001b[38;5;241m=\u001b[39m \u001b[38;5;28;43mself\u001b[39;49m\u001b[38;5;241;43m.\u001b[39;49m\u001b[43mindex\u001b[49m\u001b[38;5;241;43m.\u001b[39;49m\u001b[43mget_loc\u001b[49m\u001b[43m(\u001b[49m\u001b[43mlabel\u001b[49m\u001b[43m)\u001b[49m\n\u001b[1;32m   1239\u001b[0m \u001b[38;5;28;01mif\u001b[39;00m is_integer(loc):\n\u001b[1;32m   1240\u001b[0m     \u001b[38;5;28;01mreturn\u001b[39;00m \u001b[38;5;28mself\u001b[39m\u001b[38;5;241m.\u001b[39m_values[loc]\n",
      "File \u001b[0;32m~/.pyenv/versions/3.12.3/lib/python3.12/site-packages/pandas/core/indexes/range.py:415\u001b[0m, in \u001b[0;36mRangeIndex.get_loc\u001b[0;34m(self, key)\u001b[0m\n\u001b[1;32m    413\u001b[0m         \u001b[38;5;28;01mreturn\u001b[39;00m \u001b[38;5;28mself\u001b[39m\u001b[38;5;241m.\u001b[39m_range\u001b[38;5;241m.\u001b[39mindex(new_key)\n\u001b[1;32m    414\u001b[0m     \u001b[38;5;28;01mexcept\u001b[39;00m \u001b[38;5;167;01mValueError\u001b[39;00m \u001b[38;5;28;01mas\u001b[39;00m err:\n\u001b[0;32m--> 415\u001b[0m         \u001b[38;5;28;01mraise\u001b[39;00m \u001b[38;5;167;01mKeyError\u001b[39;00m(key) \u001b[38;5;28;01mfrom\u001b[39;00m \u001b[38;5;21;01merr\u001b[39;00m\n\u001b[1;32m    416\u001b[0m \u001b[38;5;28;01mif\u001b[39;00m \u001b[38;5;28misinstance\u001b[39m(key, Hashable):\n\u001b[1;32m    417\u001b[0m     \u001b[38;5;28;01mraise\u001b[39;00m \u001b[38;5;167;01mKeyError\u001b[39;00m(key)\n",
      "\u001b[0;31mKeyError\u001b[0m: -1"
     ]
    }
   ],
   "source": [
    "s[-1]  # can I get the final value "
   ]
  },
  {
   "cell_type": "markdown",
   "id": "7036c725-c3ad-42ec-9591-4a17b6c3340c",
   "metadata": {},
   "source": [
    "# Don't use `[]` by themselves on a series!\n",
    "\n",
    "Yes, using `[]` will work when you're working with a series. But it's a bad habit to get into, especially since when we start to work with data frames, we'll be using `[]` to refer to the columns, rather than to the rows.\n",
    "\n",
    "What do you use instead?\n",
    "\n",
    "You can use `.loc` and `.iloc`.\n",
    "\n",
    "Right now, these are (almost) identical in behavior. However, we will soon see that they don't have to be.\n",
    "\n",
    "The basic idea is that you use `.loc` with `[]` after it, and the index you want inside of the `[]`."
   ]
  },
  {
   "cell_type": "code",
   "execution_count": 11,
   "id": "3f1e23d3-3cef-4faa-9ef7-9c068462b31e",
   "metadata": {},
   "outputs": [
    {
     "data": {
      "text/plain": [
       "10.0"
      ]
     },
     "execution_count": 11,
     "metadata": {},
     "output_type": "execute_result"
    }
   ],
   "source": [
    "s.loc[0]"
   ]
  },
  {
   "cell_type": "code",
   "execution_count": 12,
   "id": "844f1699-c8e0-4cc7-90ff-62d43e92c702",
   "metadata": {},
   "outputs": [
    {
     "data": {
      "text/plain": [
       "20.0"
      ]
     },
     "execution_count": 12,
     "metadata": {},
     "output_type": "execute_result"
    }
   ],
   "source": [
    "s.loc[1]"
   ]
  },
  {
   "cell_type": "code",
   "execution_count": 13,
   "id": "cdf7b1ac-f9fd-4b87-8842-c28039b57102",
   "metadata": {},
   "outputs": [
    {
     "data": {
      "text/plain": [
       "10.0"
      ]
     },
     "execution_count": 13,
     "metadata": {},
     "output_type": "execute_result"
    }
   ],
   "source": [
    "# what, then, is .iloc if .loc uses the index?\n",
    "# .iloc uses the position, starting with 0\n",
    "\n",
    "s.iloc[0]"
   ]
  },
  {
   "cell_type": "code",
   "execution_count": 14,
   "id": "019931e2-8267-4ca2-8f4e-aaa1a85f78ea",
   "metadata": {},
   "outputs": [
    {
     "data": {
      "text/plain": [
       "20.0"
      ]
     },
     "execution_count": 14,
     "metadata": {},
     "output_type": "execute_result"
    }
   ],
   "source": [
    "s.iloc[1]"
   ]
  },
  {
   "cell_type": "markdown",
   "id": "7079c3db-e90f-42b9-8b17-fc945d28753c",
   "metadata": {},
   "source": [
    "# Methods we can run on our series\n",
    "\n",
    "- `min`\n",
    "- `max`\n",
    "- `mean`\n",
    "- `std`\n",
    "- `count` (how many non-NaN values are in there)\n",
    "- `median`"
   ]
  },
  {
   "cell_type": "markdown",
   "id": "171ed20f-b9f8-44a5-9564-3e5631921e43",
   "metadata": {},
   "source": [
    "# Exercise: Weather report\n",
    "\n",
    "1. Define a series containing the max temperature of where you live over the coming 10 days.\n",
    "2. What will be the mean temperature?\n",
    "3. What will be the median? Are they significantly different, and does that matter?\n"
   ]
  },
  {
   "cell_type": "code",
   "execution_count": 15,
   "id": "585d24f1-47d3-41a4-bb5f-2e2d621486f8",
   "metadata": {},
   "outputs": [
    {
     "data": {
      "text/plain": [
       "0    33\n",
       "1    38\n",
       "2    27\n",
       "3    24\n",
       "4    23\n",
       "5    24\n",
       "6    25\n",
       "7    27\n",
       "8    32\n",
       "9    35\n",
       "dtype: int64"
      ]
     },
     "execution_count": 15,
     "metadata": {},
     "output_type": "execute_result"
    }
   ],
   "source": [
    "s = Series([33, 38, 27, 24, 23, 24, 25, 27, 32, 35])\n",
    "s"
   ]
  },
  {
   "cell_type": "code",
   "execution_count": 16,
   "id": "12d2943e-b9ae-4f31-b3f7-2107e9214ce1",
   "metadata": {},
   "outputs": [
    {
     "data": {
      "text/plain": [
       "28.8"
      ]
     },
     "execution_count": 16,
     "metadata": {},
     "output_type": "execute_result"
    }
   ],
   "source": [
    "s.mean()"
   ]
  },
  {
   "cell_type": "code",
   "execution_count": 17,
   "id": "122ed3bc-4c32-4e69-9125-0da066b84f61",
   "metadata": {},
   "outputs": [
    {
     "data": {
      "text/plain": [
       "28.8"
      ]
     },
     "execution_count": 17,
     "metadata": {},
     "output_type": "execute_result"
    }
   ],
   "source": [
    "s.sum() / s.count()"
   ]
  },
  {
   "cell_type": "code",
   "execution_count": 18,
   "id": "543093ee-9982-4f23-bfba-1017f9e54f05",
   "metadata": {},
   "outputs": [
    {
     "data": {
      "text/plain": [
       "27.0"
      ]
     },
     "execution_count": 18,
     "metadata": {},
     "output_type": "execute_result"
    }
   ],
   "source": [
    "s.median()"
   ]
  },
  {
   "cell_type": "markdown",
   "id": "45b48923-7ea0-448e-8092-fae6ec1977d1",
   "metadata": {},
   "source": [
    "# Setting the index\n",
    "\n",
    "An index in a Pandas series can be basically any data type at all, and can contain whatever values you want.\n",
    "\n",
    "You can (almost) think of it as a dictionary, but with even fewer restrictions on what it can contain."
   ]
  },
  {
   "cell_type": "code",
   "execution_count": 19,
   "id": "782739b3-b0fc-45b7-b09a-94bf73b76464",
   "metadata": {},
   "outputs": [
    {
     "data": {
      "text/plain": [
       "RangeIndex(start=0, stop=5, step=1)"
      ]
     },
     "execution_count": 19,
     "metadata": {},
     "output_type": "execute_result"
    }
   ],
   "source": [
    "s = Series([10, 20, 30, 40, 50])\n",
    "s.index  # what is the index on my series?"
   ]
  },
  {
   "cell_type": "code",
   "execution_count": 20,
   "id": "8072b0f0-039b-4f59-8923-706c52078435",
   "metadata": {},
   "outputs": [],
   "source": [
    "# I can replace the index by assigning to it\n",
    "# so long as I assign the right number of values, that's fine\n",
    "\n",
    "s.index = [2,4,6,8,10]"
   ]
  },
  {
   "cell_type": "code",
   "execution_count": 21,
   "id": "751bef6c-daf2-442e-97ce-c60bebcd3d4f",
   "metadata": {},
   "outputs": [
    {
     "data": {
      "text/plain": [
       "2     10\n",
       "4     20\n",
       "6     30\n",
       "8     40\n",
       "10    50\n",
       "dtype: int64"
      ]
     },
     "execution_count": 21,
     "metadata": {},
     "output_type": "execute_result"
    }
   ],
   "source": [
    "s"
   ]
  },
  {
   "cell_type": "code",
   "execution_count": 22,
   "id": "e192b2ae-dc5f-4308-a567-f848868cdab5",
   "metadata": {},
   "outputs": [
    {
     "data": {
      "text/plain": [
       "30"
      ]
     },
     "execution_count": 22,
     "metadata": {},
     "output_type": "execute_result"
    }
   ],
   "source": [
    "# now we can see the difference between .loc and .iloc\n",
    "\n",
    "s.loc[6]"
   ]
  },
  {
   "cell_type": "code",
   "execution_count": 23,
   "id": "961aea40-e069-412e-a0ec-5410b759192b",
   "metadata": {},
   "outputs": [
    {
     "ename": "IndexError",
     "evalue": "single positional indexer is out-of-bounds",
     "output_type": "error",
     "traceback": [
      "\u001b[0;31m---------------------------------------------------------------------------\u001b[0m",
      "\u001b[0;31mIndexError\u001b[0m                                Traceback (most recent call last)",
      "Cell \u001b[0;32mIn[23], line 1\u001b[0m\n\u001b[0;32m----> 1\u001b[0m \u001b[43ms\u001b[49m\u001b[38;5;241;43m.\u001b[39;49m\u001b[43miloc\u001b[49m\u001b[43m[\u001b[49m\u001b[38;5;241;43m6\u001b[39;49m\u001b[43m]\u001b[49m\n",
      "File \u001b[0;32m~/.pyenv/versions/3.12.3/lib/python3.12/site-packages/pandas/core/indexing.py:1191\u001b[0m, in \u001b[0;36m_LocationIndexer.__getitem__\u001b[0;34m(self, key)\u001b[0m\n\u001b[1;32m   1189\u001b[0m maybe_callable \u001b[38;5;241m=\u001b[39m com\u001b[38;5;241m.\u001b[39mapply_if_callable(key, \u001b[38;5;28mself\u001b[39m\u001b[38;5;241m.\u001b[39mobj)\n\u001b[1;32m   1190\u001b[0m maybe_callable \u001b[38;5;241m=\u001b[39m \u001b[38;5;28mself\u001b[39m\u001b[38;5;241m.\u001b[39m_check_deprecated_callable_usage(key, maybe_callable)\n\u001b[0;32m-> 1191\u001b[0m \u001b[38;5;28;01mreturn\u001b[39;00m \u001b[38;5;28;43mself\u001b[39;49m\u001b[38;5;241;43m.\u001b[39;49m\u001b[43m_getitem_axis\u001b[49m\u001b[43m(\u001b[49m\u001b[43mmaybe_callable\u001b[49m\u001b[43m,\u001b[49m\u001b[43m \u001b[49m\u001b[43maxis\u001b[49m\u001b[38;5;241;43m=\u001b[39;49m\u001b[43maxis\u001b[49m\u001b[43m)\u001b[49m\n",
      "File \u001b[0;32m~/.pyenv/versions/3.12.3/lib/python3.12/site-packages/pandas/core/indexing.py:1752\u001b[0m, in \u001b[0;36m_iLocIndexer._getitem_axis\u001b[0;34m(self, key, axis)\u001b[0m\n\u001b[1;32m   1749\u001b[0m     \u001b[38;5;28;01mraise\u001b[39;00m \u001b[38;5;167;01mTypeError\u001b[39;00m(\u001b[38;5;124m\"\u001b[39m\u001b[38;5;124mCannot index by location index with a non-integer key\u001b[39m\u001b[38;5;124m\"\u001b[39m)\n\u001b[1;32m   1751\u001b[0m \u001b[38;5;66;03m# validate the location\u001b[39;00m\n\u001b[0;32m-> 1752\u001b[0m \u001b[38;5;28;43mself\u001b[39;49m\u001b[38;5;241;43m.\u001b[39;49m\u001b[43m_validate_integer\u001b[49m\u001b[43m(\u001b[49m\u001b[43mkey\u001b[49m\u001b[43m,\u001b[49m\u001b[43m \u001b[49m\u001b[43maxis\u001b[49m\u001b[43m)\u001b[49m\n\u001b[1;32m   1754\u001b[0m \u001b[38;5;28;01mreturn\u001b[39;00m \u001b[38;5;28mself\u001b[39m\u001b[38;5;241m.\u001b[39mobj\u001b[38;5;241m.\u001b[39m_ixs(key, axis\u001b[38;5;241m=\u001b[39maxis)\n",
      "File \u001b[0;32m~/.pyenv/versions/3.12.3/lib/python3.12/site-packages/pandas/core/indexing.py:1685\u001b[0m, in \u001b[0;36m_iLocIndexer._validate_integer\u001b[0;34m(self, key, axis)\u001b[0m\n\u001b[1;32m   1683\u001b[0m len_axis \u001b[38;5;241m=\u001b[39m \u001b[38;5;28mlen\u001b[39m(\u001b[38;5;28mself\u001b[39m\u001b[38;5;241m.\u001b[39mobj\u001b[38;5;241m.\u001b[39m_get_axis(axis))\n\u001b[1;32m   1684\u001b[0m \u001b[38;5;28;01mif\u001b[39;00m key \u001b[38;5;241m>\u001b[39m\u001b[38;5;241m=\u001b[39m len_axis \u001b[38;5;129;01mor\u001b[39;00m key \u001b[38;5;241m<\u001b[39m \u001b[38;5;241m-\u001b[39mlen_axis:\n\u001b[0;32m-> 1685\u001b[0m     \u001b[38;5;28;01mraise\u001b[39;00m \u001b[38;5;167;01mIndexError\u001b[39;00m(\u001b[38;5;124m\"\u001b[39m\u001b[38;5;124msingle positional indexer is out-of-bounds\u001b[39m\u001b[38;5;124m\"\u001b[39m)\n",
      "\u001b[0;31mIndexError\u001b[0m: single positional indexer is out-of-bounds"
     ]
    }
   ],
   "source": [
    "s.iloc[6]"
   ]
  },
  {
   "cell_type": "code",
   "execution_count": 24,
   "id": "4cdafe67-c499-46f6-89b5-fbaef4b9efb3",
   "metadata": {},
   "outputs": [
    {
     "data": {
      "text/plain": [
       "'ABCD'"
      ]
     },
     "execution_count": 24,
     "metadata": {},
     "output_type": "execute_result"
    }
   ],
   "source": [
    "x = 'abcd'\n",
    "x.upper()"
   ]
  },
  {
   "cell_type": "code",
   "execution_count": 25,
   "id": "f8e65872-3747-48e0-b39f-e601b148e503",
   "metadata": {},
   "outputs": [
    {
     "data": {
      "text/plain": [
       "'ABCD'"
      ]
     },
     "execution_count": 25,
     "metadata": {},
     "output_type": "execute_result"
    }
   ],
   "source": [
    "str.upper(x)"
   ]
  },
  {
   "cell_type": "code",
   "execution_count": 26,
   "id": "5031faad-2fa5-4ec9-9020-ad178d926240",
   "metadata": {},
   "outputs": [
    {
     "data": {
      "text/plain": [
       "pandas.core.series.Series"
      ]
     },
     "execution_count": 26,
     "metadata": {},
     "output_type": "execute_result"
    }
   ],
   "source": [
    "type(s)"
   ]
  },
  {
   "cell_type": "code",
   "execution_count": 28,
   "id": "41e853ef-2bcc-4a87-a694-e9f89ec7f155",
   "metadata": {},
   "outputs": [
    {
     "data": {
      "text/plain": [
       "pandas._libs.properties.AxisProperty"
      ]
     },
     "execution_count": 28,
     "metadata": {},
     "output_type": "execute_result"
    }
   ],
   "source": [
    "type(pd.core.series.Series.index)"
   ]
  },
  {
   "cell_type": "code",
   "execution_count": 29,
   "id": "c8cbc8d6-e1b6-4c84-bea0-b42e70410493",
   "metadata": {},
   "outputs": [
    {
     "data": {
      "text/plain": [
       "a    10\n",
       "b    20\n",
       "c    30\n",
       "d    40\n",
       "e    50\n",
       "dtype: int64"
      ]
     },
     "execution_count": 29,
     "metadata": {},
     "output_type": "execute_result"
    }
   ],
   "source": [
    "s.index = list('abcde')\n",
    "s"
   ]
  },
  {
   "cell_type": "code",
   "execution_count": 30,
   "id": "4a084924-9297-4d2f-bc9a-bad015d9b7e1",
   "metadata": {},
   "outputs": [
    {
     "data": {
      "text/plain": [
       "20"
      ]
     },
     "execution_count": 30,
     "metadata": {},
     "output_type": "execute_result"
    }
   ],
   "source": [
    "s.loc['b']"
   ]
  },
  {
   "cell_type": "code",
   "execution_count": 31,
   "id": "b47f71f2-5e36-4c7a-9ba0-eb1246f9ade9",
   "metadata": {},
   "outputs": [
    {
     "data": {
      "text/plain": [
       "30"
      ]
     },
     "execution_count": 31,
     "metadata": {},
     "output_type": "execute_result"
    }
   ],
   "source": [
    "s.loc['c']"
   ]
  },
  {
   "cell_type": "code",
   "execution_count": 32,
   "id": "cd48c7dd-69f3-4c6a-a52d-b31db499238a",
   "metadata": {},
   "outputs": [
    {
     "data": {
      "text/plain": [
       "20"
      ]
     },
     "execution_count": 32,
     "metadata": {},
     "output_type": "execute_result"
    }
   ],
   "source": [
    "s.iloc[1]"
   ]
  },
  {
   "cell_type": "code",
   "execution_count": 33,
   "id": "807bc5c4-d025-4fc3-b1e2-00a9ae5aaaa1",
   "metadata": {},
   "outputs": [
    {
     "data": {
      "text/plain": [
       "30"
      ]
     },
     "execution_count": 33,
     "metadata": {},
     "output_type": "execute_result"
    }
   ],
   "source": [
    "s.iloc[2]"
   ]
  },
  {
   "cell_type": "code",
   "execution_count": 34,
   "id": "055b41bb-08f3-47f3-bafe-7ea02317b140",
   "metadata": {},
   "outputs": [
    {
     "data": {
      "text/plain": [
       "40"
      ]
     },
     "execution_count": 34,
     "metadata": {},
     "output_type": "execute_result"
    }
   ],
   "source": [
    "s.iloc[3]"
   ]
  },
  {
   "cell_type": "code",
   "execution_count": 37,
   "id": "54f8332a-7ace-4e1d-93b7-3994e71c6d6e",
   "metadata": {},
   "outputs": [
    {
     "data": {
      "text/plain": [
       "b    20\n",
       "c    30\n",
       "d    40\n",
       "dtype: int64"
      ]
     },
     "execution_count": 37,
     "metadata": {},
     "output_type": "execute_result"
    }
   ],
   "source": [
    "# I can always use : to show a range\n",
    "s.iloc[1:4]  # up to and *NOT* including"
   ]
  },
  {
   "cell_type": "code",
   "execution_count": 38,
   "id": "f1b34ce4-0589-4bb9-ba19-d578e2e65713",
   "metadata": {},
   "outputs": [
    {
     "data": {
      "text/plain": [
       "b    20\n",
       "c    30\n",
       "d    40\n",
       "dtype: int64"
      ]
     },
     "execution_count": 38,
     "metadata": {},
     "output_type": "execute_result"
    }
   ],
   "source": [
    "s.loc['b':'d']   # up and *INCLUDING*"
   ]
  },
  {
   "cell_type": "markdown",
   "id": "27b809e0-f17e-4b8a-aadc-6bdc220721c1",
   "metadata": {},
   "source": [
    "When I say\n",
    "\n",
    "    s.iloc[a:b]\n",
    "\n",
    "We get up to and not including b.  But if I say\n",
    "\n",
    "    s.loc[a:b]\n",
    "\n",
    "we get *including* b!\n",
    "\n"
   ]
  },
  {
   "cell_type": "code",
   "execution_count": 39,
   "id": "a07b3d99-9232-4e71-8299-3d7960dbeb5a",
   "metadata": {},
   "outputs": [
    {
     "data": {
      "text/plain": [
       "a    10\n",
       "b    20\n",
       "c    30\n",
       "d    40\n",
       "e    50\n",
       "dtype: int64"
      ]
     },
     "execution_count": 39,
     "metadata": {},
     "output_type": "execute_result"
    }
   ],
   "source": [
    "s"
   ]
  },
  {
   "cell_type": "code",
   "execution_count": 41,
   "id": "32e80199-ca87-44ed-b2c8-a53fc453214b",
   "metadata": {},
   "outputs": [
    {
     "data": {
      "text/plain": [
       "30"
      ]
     },
     "execution_count": 41,
     "metadata": {},
     "output_type": "execute_result"
    }
   ],
   "source": [
    "s = Series([10, 20, 30, 40, 50])\n",
    "\n",
    "s.loc[2]"
   ]
  },
  {
   "cell_type": "code",
   "execution_count": 42,
   "id": "fa4e086a-d702-45e3-9e30-fa87903130ef",
   "metadata": {},
   "outputs": [
    {
     "data": {
      "text/plain": [
       "50"
      ]
     },
     "execution_count": 42,
     "metadata": {},
     "output_type": "execute_result"
    }
   ],
   "source": [
    "s.loc[4]"
   ]
  },
  {
   "cell_type": "code",
   "execution_count": 43,
   "id": "86e66561-707c-41ed-8ff0-5030d51c9e8d",
   "metadata": {},
   "outputs": [
    {
     "data": {
      "text/plain": [
       "2    30\n",
       "4    50\n",
       "dtype: int64"
      ]
     },
     "execution_count": 43,
     "metadata": {},
     "output_type": "execute_result"
    }
   ],
   "source": [
    "# what if I want both of them?\n",
    "s.loc[ [2,4] ]     # this is known as \"fancy indexing\" -- I can retrieve more than one value at a time"
   ]
  },
  {
   "cell_type": "code",
   "execution_count": 44,
   "id": "6edbe872-8971-4e34-8918-2b814f989f00",
   "metadata": {},
   "outputs": [
    {
     "data": {
      "text/plain": [
       "40.0"
      ]
     },
     "execution_count": 44,
     "metadata": {},
     "output_type": "execute_result"
    }
   ],
   "source": [
    "s.loc[ [2,4] ].mean()"
   ]
  },
  {
   "cell_type": "code",
   "execution_count": 45,
   "id": "fa68cdf2-a5ff-4a39-955a-41c9a85c2bf0",
   "metadata": {},
   "outputs": [
    {
     "data": {
      "text/plain": [
       "b    20\n",
       "d    40\n",
       "dtype: int64"
      ]
     },
     "execution_count": 45,
     "metadata": {},
     "output_type": "execute_result"
    }
   ],
   "source": [
    "# what if our series has a custom index?\n",
    "\n",
    "s.index = list('abcde')\n",
    "\n",
    "s.loc[['b', 'd']]"
   ]
  },
  {
   "cell_type": "code",
   "execution_count": 46,
   "id": "55781956-42c1-45ec-9b88-48936ded0d92",
   "metadata": {},
   "outputs": [
    {
     "data": {
      "text/plain": [
       "a    10\n",
       "b    20\n",
       "c    30\n",
       "d    40\n",
       "e    50\n",
       "dtype: int64"
      ]
     },
     "execution_count": 46,
     "metadata": {},
     "output_type": "execute_result"
    }
   ],
   "source": [
    "# I can set the index when I create the series by passing the keyword argument index= and a list of values\n",
    "\n",
    "s = Series([10, 20, 30, 40, 50],\n",
    "           index=list('abcde'))\n",
    "s"
   ]
  },
  {
   "cell_type": "code",
   "execution_count": 47,
   "id": "26d245dc-e515-4ed8-95bc-5bdcf880c44d",
   "metadata": {},
   "outputs": [
    {
     "data": {
      "text/plain": [
       "a    10\n",
       "b    20\n",
       "c    30\n",
       "a    40\n",
       "b    50\n",
       "dtype: int64"
      ]
     },
     "execution_count": 47,
     "metadata": {},
     "output_type": "execute_result"
    }
   ],
   "source": [
    "# how about this?\n",
    "\n",
    "s = Series([10, 20, 30, 40, 50],\n",
    "           index=list('abcab'))\n",
    "s"
   ]
  },
  {
   "cell_type": "code",
   "execution_count": 48,
   "id": "ea0f1bfd-919c-451d-8a92-65b0326d0c81",
   "metadata": {},
   "outputs": [
    {
     "data": {
      "text/plain": [
       "a    10\n",
       "a    40\n",
       "dtype: int64"
      ]
     },
     "execution_count": 48,
     "metadata": {},
     "output_type": "execute_result"
    }
   ],
   "source": [
    "# you can have an index that repeats!\n",
    "\n",
    "s.loc['a']"
   ]
  },
  {
   "cell_type": "code",
   "execution_count": 49,
   "id": "de00bcdd-d1fa-400e-9f7d-ca7aa6a2b6a2",
   "metadata": {},
   "outputs": [
    {
     "data": {
      "text/plain": [
       "a    10\n",
       "a    40\n",
       "b    20\n",
       "b    50\n",
       "dtype: int64"
      ]
     },
     "execution_count": 49,
     "metadata": {},
     "output_type": "execute_result"
    }
   ],
   "source": [
    "s.loc[['a', 'b']]"
   ]
  },
  {
   "cell_type": "code",
   "execution_count": 50,
   "id": "28b65862-ba15-4307-9f76-356f8cb8b656",
   "metadata": {},
   "outputs": [
    {
     "ename": "KeyError",
     "evalue": "\"Cannot get left slice bound for non-unique label: 'a'\"",
     "output_type": "error",
     "traceback": [
      "\u001b[0;31m---------------------------------------------------------------------------\u001b[0m",
      "\u001b[0;31mKeyError\u001b[0m                                  Traceback (most recent call last)",
      "Cell \u001b[0;32mIn[50], line 1\u001b[0m\n\u001b[0;32m----> 1\u001b[0m \u001b[43ms\u001b[49m\u001b[38;5;241;43m.\u001b[39;49m\u001b[43mloc\u001b[49m\u001b[43m[\u001b[49m\u001b[38;5;124;43m'\u001b[39;49m\u001b[38;5;124;43ma\u001b[39;49m\u001b[38;5;124;43m'\u001b[39;49m\u001b[43m:\u001b[49m\u001b[38;5;124;43m'\u001b[39;49m\u001b[38;5;124;43mc\u001b[39;49m\u001b[38;5;124;43m'\u001b[39;49m\u001b[43m]\u001b[49m  \u001b[38;5;66;03m# slice from a-c\u001b[39;00m\n",
      "File \u001b[0;32m~/.pyenv/versions/3.12.3/lib/python3.12/site-packages/pandas/core/indexing.py:1191\u001b[0m, in \u001b[0;36m_LocationIndexer.__getitem__\u001b[0;34m(self, key)\u001b[0m\n\u001b[1;32m   1189\u001b[0m maybe_callable \u001b[38;5;241m=\u001b[39m com\u001b[38;5;241m.\u001b[39mapply_if_callable(key, \u001b[38;5;28mself\u001b[39m\u001b[38;5;241m.\u001b[39mobj)\n\u001b[1;32m   1190\u001b[0m maybe_callable \u001b[38;5;241m=\u001b[39m \u001b[38;5;28mself\u001b[39m\u001b[38;5;241m.\u001b[39m_check_deprecated_callable_usage(key, maybe_callable)\n\u001b[0;32m-> 1191\u001b[0m \u001b[38;5;28;01mreturn\u001b[39;00m \u001b[38;5;28;43mself\u001b[39;49m\u001b[38;5;241;43m.\u001b[39;49m\u001b[43m_getitem_axis\u001b[49m\u001b[43m(\u001b[49m\u001b[43mmaybe_callable\u001b[49m\u001b[43m,\u001b[49m\u001b[43m \u001b[49m\u001b[43maxis\u001b[49m\u001b[38;5;241;43m=\u001b[39;49m\u001b[43maxis\u001b[49m\u001b[43m)\u001b[49m\n",
      "File \u001b[0;32m~/.pyenv/versions/3.12.3/lib/python3.12/site-packages/pandas/core/indexing.py:1411\u001b[0m, in \u001b[0;36m_LocIndexer._getitem_axis\u001b[0;34m(self, key, axis)\u001b[0m\n\u001b[1;32m   1409\u001b[0m \u001b[38;5;28;01mif\u001b[39;00m \u001b[38;5;28misinstance\u001b[39m(key, \u001b[38;5;28mslice\u001b[39m):\n\u001b[1;32m   1410\u001b[0m     \u001b[38;5;28mself\u001b[39m\u001b[38;5;241m.\u001b[39m_validate_key(key, axis)\n\u001b[0;32m-> 1411\u001b[0m     \u001b[38;5;28;01mreturn\u001b[39;00m \u001b[38;5;28;43mself\u001b[39;49m\u001b[38;5;241;43m.\u001b[39;49m\u001b[43m_get_slice_axis\u001b[49m\u001b[43m(\u001b[49m\u001b[43mkey\u001b[49m\u001b[43m,\u001b[49m\u001b[43m \u001b[49m\u001b[43maxis\u001b[49m\u001b[38;5;241;43m=\u001b[39;49m\u001b[43maxis\u001b[49m\u001b[43m)\u001b[49m\n\u001b[1;32m   1412\u001b[0m \u001b[38;5;28;01melif\u001b[39;00m com\u001b[38;5;241m.\u001b[39mis_bool_indexer(key):\n\u001b[1;32m   1413\u001b[0m     \u001b[38;5;28;01mreturn\u001b[39;00m \u001b[38;5;28mself\u001b[39m\u001b[38;5;241m.\u001b[39m_getbool_axis(key, axis\u001b[38;5;241m=\u001b[39maxis)\n",
      "File \u001b[0;32m~/.pyenv/versions/3.12.3/lib/python3.12/site-packages/pandas/core/indexing.py:1443\u001b[0m, in \u001b[0;36m_LocIndexer._get_slice_axis\u001b[0;34m(self, slice_obj, axis)\u001b[0m\n\u001b[1;32m   1440\u001b[0m     \u001b[38;5;28;01mreturn\u001b[39;00m obj\u001b[38;5;241m.\u001b[39mcopy(deep\u001b[38;5;241m=\u001b[39m\u001b[38;5;28;01mFalse\u001b[39;00m)\n\u001b[1;32m   1442\u001b[0m labels \u001b[38;5;241m=\u001b[39m obj\u001b[38;5;241m.\u001b[39m_get_axis(axis)\n\u001b[0;32m-> 1443\u001b[0m indexer \u001b[38;5;241m=\u001b[39m \u001b[43mlabels\u001b[49m\u001b[38;5;241;43m.\u001b[39;49m\u001b[43mslice_indexer\u001b[49m\u001b[43m(\u001b[49m\u001b[43mslice_obj\u001b[49m\u001b[38;5;241;43m.\u001b[39;49m\u001b[43mstart\u001b[49m\u001b[43m,\u001b[49m\u001b[43m \u001b[49m\u001b[43mslice_obj\u001b[49m\u001b[38;5;241;43m.\u001b[39;49m\u001b[43mstop\u001b[49m\u001b[43m,\u001b[49m\u001b[43m \u001b[49m\u001b[43mslice_obj\u001b[49m\u001b[38;5;241;43m.\u001b[39;49m\u001b[43mstep\u001b[49m\u001b[43m)\u001b[49m\n\u001b[1;32m   1445\u001b[0m \u001b[38;5;28;01mif\u001b[39;00m \u001b[38;5;28misinstance\u001b[39m(indexer, \u001b[38;5;28mslice\u001b[39m):\n\u001b[1;32m   1446\u001b[0m     \u001b[38;5;28;01mreturn\u001b[39;00m \u001b[38;5;28mself\u001b[39m\u001b[38;5;241m.\u001b[39mobj\u001b[38;5;241m.\u001b[39m_slice(indexer, axis\u001b[38;5;241m=\u001b[39maxis)\n",
      "File \u001b[0;32m~/.pyenv/versions/3.12.3/lib/python3.12/site-packages/pandas/core/indexes/base.py:6662\u001b[0m, in \u001b[0;36mIndex.slice_indexer\u001b[0;34m(self, start, end, step)\u001b[0m\n\u001b[1;32m   6618\u001b[0m \u001b[38;5;28;01mdef\u001b[39;00m \u001b[38;5;21mslice_indexer\u001b[39m(\n\u001b[1;32m   6619\u001b[0m     \u001b[38;5;28mself\u001b[39m,\n\u001b[1;32m   6620\u001b[0m     start: Hashable \u001b[38;5;241m|\u001b[39m \u001b[38;5;28;01mNone\u001b[39;00m \u001b[38;5;241m=\u001b[39m \u001b[38;5;28;01mNone\u001b[39;00m,\n\u001b[1;32m   6621\u001b[0m     end: Hashable \u001b[38;5;241m|\u001b[39m \u001b[38;5;28;01mNone\u001b[39;00m \u001b[38;5;241m=\u001b[39m \u001b[38;5;28;01mNone\u001b[39;00m,\n\u001b[1;32m   6622\u001b[0m     step: \u001b[38;5;28mint\u001b[39m \u001b[38;5;241m|\u001b[39m \u001b[38;5;28;01mNone\u001b[39;00m \u001b[38;5;241m=\u001b[39m \u001b[38;5;28;01mNone\u001b[39;00m,\n\u001b[1;32m   6623\u001b[0m ) \u001b[38;5;241m-\u001b[39m\u001b[38;5;241m>\u001b[39m \u001b[38;5;28mslice\u001b[39m:\n\u001b[1;32m   6624\u001b[0m \u001b[38;5;250m    \u001b[39m\u001b[38;5;124;03m\"\"\"\u001b[39;00m\n\u001b[1;32m   6625\u001b[0m \u001b[38;5;124;03m    Compute the slice indexer for input labels and step.\u001b[39;00m\n\u001b[1;32m   6626\u001b[0m \n\u001b[0;32m   (...)\u001b[0m\n\u001b[1;32m   6660\u001b[0m \u001b[38;5;124;03m    slice(1, 3, None)\u001b[39;00m\n\u001b[1;32m   6661\u001b[0m \u001b[38;5;124;03m    \"\"\"\u001b[39;00m\n\u001b[0;32m-> 6662\u001b[0m     start_slice, end_slice \u001b[38;5;241m=\u001b[39m \u001b[38;5;28;43mself\u001b[39;49m\u001b[38;5;241;43m.\u001b[39;49m\u001b[43mslice_locs\u001b[49m\u001b[43m(\u001b[49m\u001b[43mstart\u001b[49m\u001b[43m,\u001b[49m\u001b[43m \u001b[49m\u001b[43mend\u001b[49m\u001b[43m,\u001b[49m\u001b[43m \u001b[49m\u001b[43mstep\u001b[49m\u001b[38;5;241;43m=\u001b[39;49m\u001b[43mstep\u001b[49m\u001b[43m)\u001b[49m\n\u001b[1;32m   6664\u001b[0m     \u001b[38;5;66;03m# return a slice\u001b[39;00m\n\u001b[1;32m   6665\u001b[0m     \u001b[38;5;28;01mif\u001b[39;00m \u001b[38;5;129;01mnot\u001b[39;00m is_scalar(start_slice):\n",
      "File \u001b[0;32m~/.pyenv/versions/3.12.3/lib/python3.12/site-packages/pandas/core/indexes/base.py:6879\u001b[0m, in \u001b[0;36mIndex.slice_locs\u001b[0;34m(self, start, end, step)\u001b[0m\n\u001b[1;32m   6877\u001b[0m start_slice \u001b[38;5;241m=\u001b[39m \u001b[38;5;28;01mNone\u001b[39;00m\n\u001b[1;32m   6878\u001b[0m \u001b[38;5;28;01mif\u001b[39;00m start \u001b[38;5;129;01mis\u001b[39;00m \u001b[38;5;129;01mnot\u001b[39;00m \u001b[38;5;28;01mNone\u001b[39;00m:\n\u001b[0;32m-> 6879\u001b[0m     start_slice \u001b[38;5;241m=\u001b[39m \u001b[38;5;28;43mself\u001b[39;49m\u001b[38;5;241;43m.\u001b[39;49m\u001b[43mget_slice_bound\u001b[49m\u001b[43m(\u001b[49m\u001b[43mstart\u001b[49m\u001b[43m,\u001b[49m\u001b[43m \u001b[49m\u001b[38;5;124;43m\"\u001b[39;49m\u001b[38;5;124;43mleft\u001b[39;49m\u001b[38;5;124;43m\"\u001b[39;49m\u001b[43m)\u001b[49m\n\u001b[1;32m   6880\u001b[0m \u001b[38;5;28;01mif\u001b[39;00m start_slice \u001b[38;5;129;01mis\u001b[39;00m \u001b[38;5;28;01mNone\u001b[39;00m:\n\u001b[1;32m   6881\u001b[0m     start_slice \u001b[38;5;241m=\u001b[39m \u001b[38;5;241m0\u001b[39m\n",
      "File \u001b[0;32m~/.pyenv/versions/3.12.3/lib/python3.12/site-packages/pandas/core/indexes/base.py:6812\u001b[0m, in \u001b[0;36mIndex.get_slice_bound\u001b[0;34m(self, label, side)\u001b[0m\n\u001b[1;32m   6810\u001b[0m     slc \u001b[38;5;241m=\u001b[39m lib\u001b[38;5;241m.\u001b[39mmaybe_booleans_to_slice(slc\u001b[38;5;241m.\u001b[39mview(\u001b[38;5;124m\"\u001b[39m\u001b[38;5;124mu1\u001b[39m\u001b[38;5;124m\"\u001b[39m))\n\u001b[1;32m   6811\u001b[0m     \u001b[38;5;28;01mif\u001b[39;00m \u001b[38;5;28misinstance\u001b[39m(slc, np\u001b[38;5;241m.\u001b[39mndarray):\n\u001b[0;32m-> 6812\u001b[0m         \u001b[38;5;28;01mraise\u001b[39;00m \u001b[38;5;167;01mKeyError\u001b[39;00m(\n\u001b[1;32m   6813\u001b[0m             \u001b[38;5;124mf\u001b[39m\u001b[38;5;124m\"\u001b[39m\u001b[38;5;124mCannot get \u001b[39m\u001b[38;5;132;01m{\u001b[39;00mside\u001b[38;5;132;01m}\u001b[39;00m\u001b[38;5;124m slice bound for non-unique \u001b[39m\u001b[38;5;124m\"\u001b[39m\n\u001b[1;32m   6814\u001b[0m             \u001b[38;5;124mf\u001b[39m\u001b[38;5;124m\"\u001b[39m\u001b[38;5;124mlabel: \u001b[39m\u001b[38;5;132;01m{\u001b[39;00m\u001b[38;5;28mrepr\u001b[39m(original_label)\u001b[38;5;132;01m}\u001b[39;00m\u001b[38;5;124m\"\u001b[39m\n\u001b[1;32m   6815\u001b[0m         )\n\u001b[1;32m   6817\u001b[0m \u001b[38;5;28;01mif\u001b[39;00m \u001b[38;5;28misinstance\u001b[39m(slc, \u001b[38;5;28mslice\u001b[39m):\n\u001b[1;32m   6818\u001b[0m     \u001b[38;5;28;01mif\u001b[39;00m side \u001b[38;5;241m==\u001b[39m \u001b[38;5;124m\"\u001b[39m\u001b[38;5;124mleft\u001b[39m\u001b[38;5;124m\"\u001b[39m:\n",
      "\u001b[0;31mKeyError\u001b[0m: \"Cannot get left slice bound for non-unique label: 'a'\""
     ]
    }
   ],
   "source": [
    "s.loc['a':'c']  # slice from a-c"
   ]
  },
  {
   "cell_type": "code",
   "execution_count": 51,
   "id": "d8f540c6-143f-4681-a437-032a610beba6",
   "metadata": {},
   "outputs": [
    {
     "data": {
      "text/plain": [
       "Index(['a', 'b', 'c', 'a', 'b'], dtype='object')"
      ]
     },
     "execution_count": 51,
     "metadata": {},
     "output_type": "execute_result"
    }
   ],
   "source": [
    "s.index"
   ]
  },
  {
   "cell_type": "code",
   "execution_count": 52,
   "id": "0ece1b5b-0f6f-4a80-a92b-85ad1c99183c",
   "metadata": {},
   "outputs": [
    {
     "data": {
      "text/plain": [
       "['a', 'b', 'c', 'a', 'b']"
      ]
     },
     "execution_count": 52,
     "metadata": {},
     "output_type": "execute_result"
    }
   ],
   "source": [
    "list(s.index)"
   ]
  },
  {
   "cell_type": "code",
   "execution_count": 54,
   "id": "07d45fe0-f98c-4a07-8d75-6c018f4d93e5",
   "metadata": {},
   "outputs": [
    {
     "data": {
      "text/plain": [
       "{'a', 'b', 'c'}"
      ]
     },
     "execution_count": 54,
     "metadata": {},
     "output_type": "execute_result"
    }
   ],
   "source": [
    "set(s.index)"
   ]
  },
  {
   "cell_type": "code",
   "execution_count": 55,
   "id": "f4175188-1df6-4785-8944-d6388737457b",
   "metadata": {},
   "outputs": [
    {
     "data": {
      "text/plain": [
       "Index(['a', 'b', 'c'], dtype='object')"
      ]
     },
     "execution_count": 55,
     "metadata": {},
     "output_type": "execute_result"
    }
   ],
   "source": [
    "s.index.drop_duplicates()"
   ]
  },
  {
   "cell_type": "code",
   "execution_count": 56,
   "id": "411caad0-54bf-4409-b12c-dc7e8da70e73",
   "metadata": {},
   "outputs": [
    {
     "data": {
      "text/plain": [
       "a    10\n",
       "b    20\n",
       "c    30\n",
       "a    40\n",
       "b    50\n",
       "dtype: int64"
      ]
     },
     "execution_count": 56,
     "metadata": {},
     "output_type": "execute_result"
    }
   ],
   "source": [
    "s"
   ]
  },
  {
   "cell_type": "code",
   "execution_count": 58,
   "id": "2c21f646-473c-4881-9e00-859049032fce",
   "metadata": {},
   "outputs": [],
   "source": [
    "s.index=list('abcbf')"
   ]
  },
  {
   "cell_type": "code",
   "execution_count": 59,
   "id": "24f9adff-ded0-4ca2-b2bc-8cf0bcf3f692",
   "metadata": {},
   "outputs": [
    {
     "data": {
      "text/plain": [
       "c    30\n",
       "b    40\n",
       "f    50\n",
       "dtype: int64"
      ]
     },
     "execution_count": 59,
     "metadata": {},
     "output_type": "execute_result"
    }
   ],
   "source": [
    "s.loc['c':'f']"
   ]
  },
  {
   "cell_type": "code",
   "execution_count": 61,
   "id": "efa0232c-4487-4e86-9355-58feea52cae7",
   "metadata": {},
   "outputs": [
    {
     "name": "stdout",
     "output_type": "stream",
     "text": [
      "219 µs ± 8.53 µs per loop (mean ± std. dev. of 7 runs, 1,000 loops each)\n"
     ]
    }
   ],
   "source": [
    "%timeit s['c':'f']"
   ]
  },
  {
   "cell_type": "code",
   "execution_count": 62,
   "id": "e79d637f-5ce9-4bb0-8e83-c5e091304b7f",
   "metadata": {},
   "outputs": [
    {
     "name": "stdout",
     "output_type": "stream",
     "text": [
      "219 µs ± 17 µs per loop (mean ± std. dev. of 7 runs, 1,000 loops each)\n"
     ]
    }
   ],
   "source": [
    "%timeit s.loc['c':'f']"
   ]
  },
  {
   "cell_type": "code",
   "execution_count": 63,
   "id": "55e1a1f4-c568-4975-a7d3-4e80a64a3a78",
   "metadata": {},
   "outputs": [
    {
     "name": "stdout",
     "output_type": "stream",
     "text": [
      "46.6 µs ± 1.19 µs per loop (mean ± std. dev. of 7 runs, 10,000 loops each)\n"
     ]
    }
   ],
   "source": [
    "%timeit s.iloc[2:4]"
   ]
  },
  {
   "cell_type": "markdown",
   "id": "5daac920-23c0-40a3-bbae-7b4d28718e63",
   "metadata": {},
   "source": [
    "# Exercise: Better temperatures\n",
    "\n",
    "1. Recreate your high-temperature series, but make the index contain days of the week.\n",
    "2. Get the mean temperature for all Fridays.\n",
    "3. Get the mean temperature for all Fridays and Mondays.\n"
   ]
  },
  {
   "cell_type": "code",
   "execution_count": 64,
   "id": "db61cab3-693a-4c7a-8402-29f8d5eb7c24",
   "metadata": {},
   "outputs": [
    {
     "data": {
      "text/plain": [
       "a    10\n",
       "b    20\n",
       "c    30\n",
       "b    40\n",
       "f    50\n",
       "dtype: int64"
      ]
     },
     "execution_count": 64,
     "metadata": {},
     "output_type": "execute_result"
    }
   ],
   "source": [
    "s"
   ]
  },
  {
   "cell_type": "code",
   "execution_count": 66,
   "id": "e0e46fa0-b391-44b6-bab7-97c938eeb3a2",
   "metadata": {},
   "outputs": [
    {
     "data": {
      "text/plain": [
       "pandas.core.indexes.base.Index"
      ]
     },
     "execution_count": 66,
     "metadata": {},
     "output_type": "execute_result"
    }
   ],
   "source": [
    "type(s.index)"
   ]
  },
  {
   "cell_type": "code",
   "execution_count": 67,
   "id": "423a31dd-3267-4a97-a7e6-f72e63d34683",
   "metadata": {},
   "outputs": [
    {
     "data": {
      "text/plain": [
       "Fri    33\n",
       "Sat    38\n",
       "Sun    27\n",
       "Mon    24\n",
       "Tue    23\n",
       "Wed    24\n",
       "Thu    25\n",
       "Fri    27\n",
       "Sat    32\n",
       "Sun    35\n",
       "dtype: int64"
      ]
     },
     "execution_count": 67,
     "metadata": {},
     "output_type": "execute_result"
    }
   ],
   "source": [
    "s = Series([33, 38, 27, 24, 23, 24, 25, 27, 32, 35],\n",
    "          index='Fri Sat Sun Mon Tue Wed Thu Fri Sat Sun'.split())\n",
    "s"
   ]
  },
  {
   "cell_type": "code",
   "execution_count": 68,
   "id": "0a3ee004-c28f-442d-a5fa-c0e77af3a2b0",
   "metadata": {},
   "outputs": [
    {
     "data": {
      "text/plain": [
       "Fri    33\n",
       "Fri    27\n",
       "dtype: int64"
      ]
     },
     "execution_count": 68,
     "metadata": {},
     "output_type": "execute_result"
    }
   ],
   "source": [
    "s.loc['Fri']"
   ]
  },
  {
   "cell_type": "code",
   "execution_count": 69,
   "id": "af1695e0-d8a5-48cf-9bcb-97bb2bc93762",
   "metadata": {},
   "outputs": [
    {
     "data": {
      "text/plain": [
       "Fri    33\n",
       "Fri    27\n",
       "Mon    24\n",
       "dtype: int64"
      ]
     },
     "execution_count": 69,
     "metadata": {},
     "output_type": "execute_result"
    }
   ],
   "source": [
    "s.loc[['Fri', 'Mon']]"
   ]
  },
  {
   "cell_type": "code",
   "execution_count": 70,
   "id": "7ec44792-bb8a-4e2c-abf3-3de54b12f51e",
   "metadata": {},
   "outputs": [
    {
     "data": {
      "text/plain": [
       "Mon    24\n",
       "Fri    33\n",
       "Fri    27\n",
       "dtype: int64"
      ]
     },
     "execution_count": 70,
     "metadata": {},
     "output_type": "execute_result"
    }
   ],
   "source": [
    "s.loc[['Mon', 'Fri']]"
   ]
  },
  {
   "cell_type": "code",
   "execution_count": 71,
   "id": "021f86c6-7785-4aca-89b8-c3c84d8501ad",
   "metadata": {},
   "outputs": [
    {
     "data": {
      "text/plain": [
       "Mon    24\n",
       "Fri    33\n",
       "Fri    27\n",
       "Mon    24\n",
       "dtype: int64"
      ]
     },
     "execution_count": 71,
     "metadata": {},
     "output_type": "execute_result"
    }
   ],
   "source": [
    "s.loc[['Mon', 'Fri', 'Mon']]"
   ]
  },
  {
   "cell_type": "markdown",
   "id": "e227334a-f4b4-4961-bb10-8f0e5f6df7ce",
   "metadata": {},
   "source": [
    "# Per-index operations\n",
    "\n",
    "If I have two series, and I want to perform an operation on them, I can -- and that operation will be done on a per-index basis."
   ]
  },
  {
   "cell_type": "code",
   "execution_count": 72,
   "id": "3631faab-62e2-4aa5-a250-c99e2512726e",
   "metadata": {},
   "outputs": [],
   "source": [
    "s1 = Series([10, 20, 30, 40, 50], index=list('abcde'))\n",
    "s2 = Series([100, 200, 300, 400, 500], index=list('abcde'))\n"
   ]
  },
  {
   "cell_type": "code",
   "execution_count": 73,
   "id": "27b156ed-242f-49c3-a8d8-7cc0e3a424fd",
   "metadata": {},
   "outputs": [
    {
     "data": {
      "text/plain": [
       "a    110\n",
       "b    220\n",
       "c    330\n",
       "d    440\n",
       "e    550\n",
       "dtype: int64"
      ]
     },
     "execution_count": 73,
     "metadata": {},
     "output_type": "execute_result"
    }
   ],
   "source": [
    "s1 + s2"
   ]
  },
  {
   "cell_type": "code",
   "execution_count": 74,
   "id": "9a289d10-bdd0-49c8-9d3f-4307dca03748",
   "metadata": {},
   "outputs": [
    {
     "data": {
      "text/plain": [
       "a    510\n",
       "b    420\n",
       "c    330\n",
       "d    240\n",
       "e    150\n",
       "dtype: int64"
      ]
     },
     "execution_count": 74,
     "metadata": {},
     "output_type": "execute_result"
    }
   ],
   "source": [
    "# let's reverse the index in s2\n",
    "s1 = Series([10, 20, 30, 40, 50], index=list('abcde'))\n",
    "s2 = Series([100, 200, 300, 400, 500], index=list('edcba'))\n",
    "\n",
    "s1 + s2"
   ]
  },
  {
   "cell_type": "code",
   "execution_count": 75,
   "id": "b986ab36-bc77-4ea3-bce7-ce29f564e26d",
   "metadata": {},
   "outputs": [
    {
     "data": {
      "text/plain": [
       "a    110.0\n",
       "b    220.0\n",
       "c    330.0\n",
       "d    440.0\n",
       "d    540.0\n",
       "e      NaN\n",
       "dtype: float64"
      ]
     },
     "execution_count": 75,
     "metadata": {},
     "output_type": "execute_result"
    }
   ],
   "source": [
    "# what if an index is repeated?\n",
    "s1 = Series([10, 20, 30, 40, 50], index=list('abcde'))\n",
    "s2 = Series([100, 200, 300, 400, 500], index=list('abcdd'))\n",
    "\n",
    "s1 + s2"
   ]
  },
  {
   "cell_type": "code",
   "execution_count": 76,
   "id": "dbb1d573-2615-479e-a2ec-5c739fa7f8de",
   "metadata": {},
   "outputs": [
    {
     "data": {
      "text/plain": [
       "a    110.0\n",
       "b    220.0\n",
       "c    330.0\n",
       "d    440.0\n",
       "e      NaN\n",
       "dtype: float64"
      ]
     },
     "execution_count": 76,
     "metadata": {},
     "output_type": "execute_result"
    }
   ],
   "source": [
    "# what if they aren't the same length?\n",
    "s1 = Series([10, 20, 30, 40, 50], index=list('abcde'))\n",
    "s2 = Series([100, 200, 300, 400], index=list('abcd'))\n",
    "\n",
    "s1 + s2"
   ]
  },
  {
   "cell_type": "code",
   "execution_count": 77,
   "id": "af30ed49-2087-4178-9898-325aedb462a8",
   "metadata": {},
   "outputs": [
    {
     "data": {
      "text/plain": [
       "a    13\n",
       "b    23\n",
       "c    33\n",
       "d    43\n",
       "e    53\n",
       "dtype: int64"
      ]
     },
     "execution_count": 77,
     "metadata": {},
     "output_type": "execute_result"
    }
   ],
   "source": [
    "# What if I add a number to a series? What happens then?\n",
    "\n",
    "s = Series([10, 20, 30, 40, 50], index=list('abcde'))\n",
    "s + 3"
   ]
  },
  {
   "cell_type": "markdown",
   "id": "0b107dee-8e92-4212-a762-3ef7500c7758",
   "metadata": {},
   "source": [
    "# Broadcasting\n",
    "\n",
    "\"Broadcasting\" is one of the most important ideas in all of Pandas. The idea is: If you have a series and a scalar (single) value, and you perform an operation between the series and the scalar value, the scalar will be \"broadcast\" to each element of the series, and will be performed there."
   ]
  },
  {
   "cell_type": "code",
   "execution_count": 78,
   "id": "9f322a3e-b2e5-4c4e-9c53-e512a1a9f738",
   "metadata": {},
   "outputs": [
    {
     "data": {
      "text/plain": [
       "a     30\n",
       "b     60\n",
       "c     90\n",
       "d    120\n",
       "e    150\n",
       "dtype: int64"
      ]
     },
     "execution_count": 78,
     "metadata": {},
     "output_type": "execute_result"
    }
   ],
   "source": [
    "s * 3"
   ]
  },
  {
   "cell_type": "code",
   "execution_count": 79,
   "id": "c71f6bfd-6a8f-434b-b169-bb4e7b681c1b",
   "metadata": {},
   "outputs": [
    {
     "data": {
      "text/plain": [
       "a    13\n",
       "b    23\n",
       "c    33\n",
       "d    43\n",
       "e    53\n",
       "dtype: int64"
      ]
     },
     "execution_count": 79,
     "metadata": {},
     "output_type": "execute_result"
    }
   ],
   "source": [
    "s + 3"
   ]
  },
  {
   "cell_type": "code",
   "execution_count": 80,
   "id": "4dafb173-e8de-45f9-afae-27bdf2100185",
   "metadata": {},
   "outputs": [
    {
     "data": {
      "text/plain": [
       "a     3.333333\n",
       "b     6.666667\n",
       "c    10.000000\n",
       "d    13.333333\n",
       "e    16.666667\n",
       "dtype: float64"
      ]
     },
     "execution_count": 80,
     "metadata": {},
     "output_type": "execute_result"
    }
   ],
   "source": [
    "s / 3"
   ]
  },
  {
   "cell_type": "code",
   "execution_count": 81,
   "id": "77989b58-e30a-405c-b68e-79385f28827f",
   "metadata": {},
   "outputs": [
    {
     "data": {
      "text/plain": [
       "a      1000\n",
       "b      8000\n",
       "c     27000\n",
       "d     64000\n",
       "e    125000\n",
       "dtype: int64"
      ]
     },
     "execution_count": 81,
     "metadata": {},
     "output_type": "execute_result"
    }
   ],
   "source": [
    "s ** 3"
   ]
  },
  {
   "cell_type": "markdown",
   "id": "c0106bd6-993d-41cc-90e4-d036f1fe5642",
   "metadata": {},
   "source": [
    "# Never use `for` loops!\n",
    "\n",
    "One of the best ways to slow down your Pandas code is to use a `for` loop to go through each element and do something. Never, never use `for` loops unless you have no choice -- and that's going to be rare.\n",
    "\n"
   ]
  },
  {
   "cell_type": "markdown",
   "id": "3173c11d-1df5-41a8-b884-b1672ae41dc9",
   "metadata": {},
   "source": [
    "# Exercise: More temperatures\n",
    "\n",
    "1. Define two separate series, each with 10 temperatures. The first will be what we used before, with the high temps for the coming 10 days. The second will be for the low temps over the coming 10 days. They should have the same index (with day names).\n",
    "2. Find the mean difference between highs and lows over the coming 10 days.\n",
    "3. If you used Celsius for your temps, convert your highs to Fahrenheit. Or convert to Celsius, if you used Fahrenheit.\n",
    "\n",
    "- Fahrenheit = (Celsius * 1.8) + 32\n",
    "- Celsius = (Fahrenheit - 32) / 1.8"
   ]
  },
  {
   "cell_type": "code",
   "execution_count": 82,
   "id": "11abf5a6-e0b7-44bb-bfd5-c3592efa244d",
   "metadata": {},
   "outputs": [],
   "source": [
    "highs = Series([33, 38, 27, 24, 23, 24, 25, 27, 32, 35],\n",
    "          index='Fri Sat Sun Mon Tue Wed Thu Fri Sat Sun'.split())\n",
    "lows = Series([19, 19, 17, 16, 16, 15, 14, 16, 19, 21],\n",
    "          index='Fri Sat Sun Mon Tue Wed Thu Fri Sat Sun'.split())\n"
   ]
  },
  {
   "cell_type": "code",
   "execution_count": 84,
   "id": "40f51294-9f89-4728-9ce5-11acdfd3092c",
   "metadata": {},
   "outputs": [
    {
     "data": {
      "text/plain": [
       "11.6"
      ]
     },
     "execution_count": 84,
     "metadata": {},
     "output_type": "execute_result"
    }
   ],
   "source": [
    "diffs = highs - lows\n",
    "diffs.mean()"
   ]
  },
  {
   "cell_type": "code",
   "execution_count": 85,
   "id": "222d50fe-3d13-475d-af9d-691e73944943",
   "metadata": {},
   "outputs": [
    {
     "data": {
      "text/plain": [
       "11.6"
      ]
     },
     "execution_count": 85,
     "metadata": {},
     "output_type": "execute_result"
    }
   ],
   "source": [
    "(highs - lows).mean()"
   ]
  },
  {
   "cell_type": "code",
   "execution_count": 87,
   "id": "4ffad13f-980a-45b2-8a27-0ae4156a88e4",
   "metadata": {},
   "outputs": [
    {
     "data": {
      "text/plain": [
       "Fri     91.4\n",
       "Sat    100.4\n",
       "Sun     80.6\n",
       "Mon     75.2\n",
       "Tue     73.4\n",
       "Wed     75.2\n",
       "Thu     77.0\n",
       "Fri     80.6\n",
       "Sat     89.6\n",
       "Sun     95.0\n",
       "dtype: float64"
      ]
     },
     "execution_count": 87,
     "metadata": {},
     "output_type": "execute_result"
    }
   ],
   "source": [
    "(highs * 1.8) + 32"
   ]
  },
  {
   "cell_type": "code",
   "execution_count": 88,
   "id": "e75f3fb9-f8ea-415a-91e1-0cee46f2c19f",
   "metadata": {},
   "outputs": [
    {
     "data": {
      "text/plain": [
       "a    10\n",
       "b    20\n",
       "c    30\n",
       "d    40\n",
       "e    50\n",
       "dtype: int64"
      ]
     },
     "execution_count": 88,
     "metadata": {},
     "output_type": "execute_result"
    }
   ],
   "source": [
    "s"
   ]
  },
  {
   "cell_type": "code",
   "execution_count": 89,
   "id": "63c6572b-3a52-4a2d-bfc6-75e77a5b3750",
   "metadata": {},
   "outputs": [
    {
     "data": {
      "text/plain": [
       "a     10\n",
       "b    999\n",
       "c     30\n",
       "d     40\n",
       "e     50\n",
       "dtype: int64"
      ]
     },
     "execution_count": 89,
     "metadata": {},
     "output_type": "execute_result"
    }
   ],
   "source": [
    "s.loc['b'] = 999\n",
    "s"
   ]
  },
  {
   "cell_type": "markdown",
   "id": "132b62fc-dc9a-4d5d-b7fa-d67c7bedbdb2",
   "metadata": {
    "jp-MarkdownHeadingCollapsed": true
   },
   "source": [
    "# Next up: Mask indexes\n",
    "\n",
    "- Comparisons\n",
    "- Broadcasts and comparisons\n",
    "- Using that to filter our series with a \"boolean index\" or a \"mask index\""
   ]
  },
  {
   "cell_type": "code",
   "execution_count": null,
   "id": "34e43cc4-df3e-4a5b-ba5d-c5c12f53b80e",
   "metadata": {},
   "outputs": [],
   "source": []
  }
 ],
 "metadata": {
  "kernelspec": {
   "display_name": "Python 3 (ipykernel)",
   "language": "python",
   "name": "python3"
  },
  "language_info": {
   "codemirror_mode": {
    "name": "ipython",
    "version": 3
   },
   "file_extension": ".py",
   "mimetype": "text/x-python",
   "name": "python",
   "nbconvert_exporter": "python",
   "pygments_lexer": "ipython3",
   "version": "3.12.3"
  }
 },
 "nbformat": 4,
 "nbformat_minor": 5
}
