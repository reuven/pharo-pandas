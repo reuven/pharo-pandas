{
 "cells": [
  {
   "cell_type": "markdown",
   "id": "d8f0bb79-4cb7-4028-a890-3e3ea89190b4",
   "metadata": {},
   "source": [
    "# Agenda: Sorting!\n",
    "\n",
    "1. Series\n",
    "    - Sort by index\n",
    "    - Sort by values\n",
    "2. Data frame\n",
    "    - Sort by index\n",
    "    - Sort by one column\n",
    "    - Sort by multiple columns\n",
    "3. Along the way, we'll play with a number of useful methods   \n"
   ]
  },
  {
   "cell_type": "code",
   "execution_count": null,
   "id": "d5fb7f63-93a1-4021-8531-01a3d42695cf",
   "metadata": {},
   "outputs": [],
   "source": []
  }
 ],
 "metadata": {
  "kernelspec": {
   "display_name": "Python 3 (ipykernel)",
   "language": "python",
   "name": "python3"
  },
  "language_info": {
   "codemirror_mode": {
    "name": "ipython",
    "version": 3
   },
   "file_extension": ".py",
   "mimetype": "text/x-python",
   "name": "python",
   "nbconvert_exporter": "python",
   "pygments_lexer": "ipython3",
   "version": "3.12.3"
  }
 },
 "nbformat": 4,
 "nbformat_minor": 5
}
