{
 "cells": [
  {
   "cell_type": "markdown",
   "id": "d8f0bb79-4cb7-4028-a890-3e3ea89190b4",
   "metadata": {},
   "source": [
    "# Agenda: Sorting!\n",
    "\n",
    "1. Series\n",
    "    - Sort by index\n",
    "    - Sort by values\n",
    "2. Data frame\n",
    "    - Sort by index\n",
    "    - Sort by one column\n",
    "    - Sort by multiple columns\n",
    "3. Along the way, we'll play with a number of useful methods   \n"
   ]
  },
  {
   "cell_type": "code",
   "execution_count": 1,
   "id": "d5fb7f63-93a1-4021-8531-01a3d42695cf",
   "metadata": {},
   "outputs": [
    {
     "name": "stdout",
     "output_type": "stream",
     "text": [
      "The history saving thread hit an unexpected error (OperationalError('attempt to write a readonly database')).History will not be written to the database.\n"
     ]
    }
   ],
   "source": [
    "import pandas as pd\n",
    "\n",
    "filename = '../data/taxi.csv'\n",
    "\n",
    "df = pd.read_csv(filename)"
   ]
  },
  {
   "cell_type": "code",
   "execution_count": 2,
   "id": "07bca10a-7f01-41b2-81ef-74e3015890d6",
   "metadata": {},
   "outputs": [
    {
     "ename": "NameError",
     "evalue": "name 'Series' is not defined",
     "output_type": "error",
     "traceback": [
      "\u001b[0;31m---------------------------------------------------------------------------\u001b[0m",
      "\u001b[0;31mNameError\u001b[0m                                 Traceback (most recent call last)",
      "Cell \u001b[0;32mIn[2], line 4\u001b[0m\n\u001b[1;32m      1\u001b[0m \u001b[38;5;28;01mimport\u001b[39;00m \u001b[38;5;21;01mnumpy\u001b[39;00m \u001b[38;5;28;01mas\u001b[39;00m \u001b[38;5;21;01mnp\u001b[39;00m\n\u001b[1;32m      3\u001b[0m np\u001b[38;5;241m.\u001b[39mrandom\u001b[38;5;241m.\u001b[39mseed(\u001b[38;5;241m0\u001b[39m)\n\u001b[0;32m----> 4\u001b[0m s \u001b[38;5;241m=\u001b[39m \u001b[43mSeries\u001b[49m(np\u001b[38;5;241m.\u001b[39mrandom\u001b[38;5;241m.\u001b[39mrandint(\u001b[38;5;241m-\u001b[39m\u001b[38;5;241m50\u001b[39m, \u001b[38;5;241m50\u001b[39m, \u001b[38;5;241m10\u001b[39m),\n\u001b[1;32m      5\u001b[0m            index\u001b[38;5;241m=\u001b[39m\u001b[38;5;124m'\u001b[39m\u001b[38;5;124macegihfdb\u001b[39m\u001b[38;5;124m'\u001b[39m)\n",
      "\u001b[0;31mNameError\u001b[0m: name 'Series' is not defined"
     ]
    }
   ],
   "source": [
    "import numpy as np\n",
    "from pandas import Series, Data\n",
    "np.random.seed(0)\n",
    "s = Series(np.random.randint(-50, 50, 10),\n",
    "           index='acegihfdb')"
   ]
  },
  {
   "cell_type": "code",
   "execution_count": null,
   "id": "2b9c6a9c-ce73-44b5-890d-e46a95a86c17",
   "metadata": {},
   "outputs": [],
   "source": []
  }
 ],
 "metadata": {
  "kernelspec": {
   "display_name": "Python 3 (ipykernel)",
   "language": "python",
   "name": "python3"
  },
  "language_info": {
   "codemirror_mode": {
    "name": "ipython",
    "version": 3
   },
   "file_extension": ".py",
   "mimetype": "text/x-python",
   "name": "python",
   "nbconvert_exporter": "python",
   "pygments_lexer": "ipython3",
   "version": "3.12.3"
  }
 },
 "nbformat": 4,
 "nbformat_minor": 5
}
