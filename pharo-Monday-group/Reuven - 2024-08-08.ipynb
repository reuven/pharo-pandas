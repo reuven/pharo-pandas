{
 "cells": [
  {
   "cell_type": "markdown",
   "id": "9823912c-7047-43c4-b079-167bec0a33ec",
   "metadata": {},
   "source": [
    "# Agenda: Plotting\n",
    "\n",
    "1. Plotting with series\n",
    "    - Line plots\n",
    "    - Bar plots\n",
    "    - Pie plots\n",
    "    - Box plots\n",
    "    - Histograms\n",
    "2. Plotting with a data frame\n",
    "    - All of the above , plus\n",
    "    - Scatter plots\n"
   ]
  },
  {
   "cell_type": "markdown",
   "id": "a50d079f-3e16-4089-9fc5-333bf389200e",
   "metadata": {},
   "source": [
    "# How will we be plotting?\n",
    "\n",
    "We're going to use Pandas, and its API for plotting, which gives us a nicer layer over Matplotlib. If and when we want, we can pass Matplotlib arguments to our Pandas methods, and those will be passed along."
   ]
  },
  {
   "cell_type": "code",
   "execution_count": 2,
   "id": "ea52c967-f5d0-411f-a0c5-851cbb572984",
   "metadata": {},
   "outputs": [],
   "source": [
    "import pandas as pd\n",
    "from pandas import Series, DataFrame\n",
    "import numpy as np"
   ]
  },
  {
   "cell_type": "code",
   "execution_count": null,
   "id": "5b0f97f8-5857-469e-befa-97c3c190feeb",
   "metadata": {},
   "outputs": [],
   "source": [
    "np.random.seed(0)\n",
    "\n",
    "s = Series(np.random.randint(0, 100, 10),\n",
    "           index=list('abcdefghij'"
   ]
  }
 ],
 "metadata": {
  "kernelspec": {
   "display_name": "Python 3 (ipykernel)",
   "language": "python",
   "name": "python3"
  },
  "language_info": {
   "codemirror_mode": {
    "name": "ipython",
    "version": 3
   },
   "file_extension": ".py",
   "mimetype": "text/x-python",
   "name": "python",
   "nbconvert_exporter": "python",
   "pygments_lexer": "ipython3",
   "version": "3.12.3"
  }
 },
 "nbformat": 4,
 "nbformat_minor": 5
}
