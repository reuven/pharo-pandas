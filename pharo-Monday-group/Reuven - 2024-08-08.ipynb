{
 "cells": [
  {
   "cell_type": "markdown",
   "id": "9823912c-7047-43c4-b079-167bec0a33ec",
   "metadata": {},
   "source": [
    "# Agenda: Plotting\n",
    "\n"
   ]
  }
 ],
 "metadata": {
  "kernelspec": {
   "display_name": "Python 3 (ipykernel)",
   "language": "python",
   "name": "python3"
  },
  "language_info": {
   "codemirror_mode": {
    "name": "ipython",
    "version": 3
   },
   "file_extension": ".py",
   "mimetype": "text/x-python",
   "name": "python",
   "nbconvert_exporter": "python",
   "pygments_lexer": "ipython3",
   "version": "3.12.3"
  }
 },
 "nbformat": 4,
 "nbformat_minor": 5
}
