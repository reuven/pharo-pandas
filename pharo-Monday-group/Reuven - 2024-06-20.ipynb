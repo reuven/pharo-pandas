{
 "cells": [
  {
   "cell_type": "markdown",
   "id": "8985f65e-4a64-4eab-8f1c-06f95272d3bd",
   "metadata": {},
   "source": [
    "# Agenda\n",
    "\n",
    "1. Loading CSV files (a bit more)\n",
    "2. Reading Excel files\n",
    "3. Reading from URLs\n",
    "4. Scraping Web pages"
   ]
  },
  {
   "cell_type": "code",
   "execution_count": null,
   "id": "52ce7422-b4b5-4b6d-b106-474d653b803f",
   "metadata": {},
   "outputs": [],
   "source": []
  }
 ],
 "metadata": {
  "kernelspec": {
   "display_name": "Python 3 (ipykernel)",
   "language": "python",
   "name": "python3"
  },
  "language_info": {
   "codemirror_mode": {
    "name": "ipython",
    "version": 3
   },
   "file_extension": ".py",
   "mimetype": "text/x-python",
   "name": "python",
   "nbconvert_exporter": "python",
   "pygments_lexer": "ipython3",
   "version": "3.12.3"
  }
 },
 "nbformat": 4,
 "nbformat_minor": 5
}
