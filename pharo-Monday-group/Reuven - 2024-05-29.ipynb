{
 "cells": [
  {
   "cell_type": "markdown",
   "id": "14130dd3-4f5f-459c-b048-24407188d84e",
   "metadata": {},
   "source": [
    "# Agenda: dtypes\n",
    "\n",
    "1. Basic dtypes (review)\n",
    "2. Changing dtypes\n",
    "3. Limits / issues with changing\n",
    "4. `NaN`\n",
    "5. Nullable types\n",
    "6. Say \"hi\" in person!"
   ]
  },
  {
   "cell_type": "markdown",
   "id": "c8c5cba7-3427-479d-9b32-f363437de6db",
   "metadata": {},
   "source": [
    "# Dtypes in Pandas\n",
    "\n",
    "When we use objects in regular Python, everything is an object, we have to think about what *type* it is, but not about what size it is, or how it is stored. So long as I have a Python object, I can have a variable refer to it, and that's that.\n",
    "\n",
    "In Pandas, things are dramatically different. All of our data is stored in C, which makes it small and fast. This means that Pandas is giving us a thin layer on top of those C data structures. We need to know what their sizes are to use them.\n",
    "\n",
    "This is known as the \"dtype.\" Every series (or column of a data frame) has a single dtype -- all of the values are the same dtype.\n",
    "\n",
    "Normally, when we create a series, Pandas guesses (and usually guesses well) what type we want:\n",
    "\n",
    "- If it sees only integers (only decimal digits), we get a dtype of `int64` -- 64-bit integers (8 bytes). These are signed integers, meaning that half of the values are negative, and half are positive.\n",
    "- If it sees decimal digits and a decimal point, then it assumes we have floats, and gives a dtype of `float64`.\n",
    "- If it sees other things (any other things), then it assumes we have a string, and it gives a dtype of `object` -- which means, \"I'm going to use Python strings, and hope for the best.\"\n",
    "\n",
    "If you want another dtype, then you can set that when you create the series, by passing the keyword argument `dtype=` and then a dtype. Those can be specified either as strings or as attributes of the `np` (NumPy) package."
   ]
  },
  {
   "cell_type": "code",
   "execution_count": 1,
   "id": "ac231612-8ba4-4524-9c67-d5ceab828dec",
   "metadata": {},
   "outputs": [],
   "source": [
    "import pandas as pd\n",
    "from pandas import Series, DataFrame"
   ]
  },
  {
   "cell_type": "code",
   "execution_count": 2,
   "id": "90829651-3b29-4b6c-8b4d-222f1f82014c",
   "metadata": {},
   "outputs": [
    {
     "data": {
      "text/plain": [
       "0    10\n",
       "1    20\n",
       "2    30\n",
       "dtype: int64"
      ]
     },
     "execution_count": 2,
     "metadata": {},
     "output_type": "execute_result"
    }
   ],
   "source": [
    "s = Series([10, 20, 30])\n",
    "s"
   ]
  },
  {
   "cell_type": "code",
   "execution_count": 3,
   "id": "13a5055d-c2a9-4a02-a9a8-d5a576923e94",
   "metadata": {},
   "outputs": [
    {
     "data": {
      "text/plain": [
       "0    100\n",
       "1    200\n",
       "2    300\n",
       "dtype: int64"
      ]
     },
     "execution_count": 3,
     "metadata": {},
     "output_type": "execute_result"
    }
   ],
   "source": [
    "s * 10"
   ]
  },
  {
   "cell_type": "code",
   "execution_count": 7,
   "id": "016e8ca8-1744-4e18-81bb-ddca49cb6569",
   "metadata": {},
   "outputs": [
    {
     "data": {
      "text/plain": [
       "0       1000000000000000\n",
       "1   -4125488147419103232\n",
       "2   -2659889346031157248\n",
       "dtype: int64"
      ]
     },
     "execution_count": 7,
     "metadata": {},
     "output_type": "execute_result"
    }
   ],
   "source": [
    "s ** 15"
   ]
  },
  {
   "cell_type": "markdown",
   "id": "54087446-ec08-41c1-a410-8107e462b35e",
   "metadata": {},
   "source": [
    "What if you'll be using much smaller numbers? Do you really need 64 bits?\n",
    "\n",
    "Answer: No. You can/should specify another dtype."
   ]
  },
  {
   "cell_type": "code",
   "execution_count": 8,
   "id": "d4cb2da9-f82e-42b1-8e4d-e56f09d8579c",
   "metadata": {},
   "outputs": [
    {
     "data": {
      "text/plain": [
       "0    10\n",
       "1    20\n",
       "2    30\n",
       "dtype: int32"
      ]
     },
     "execution_count": 8,
     "metadata": {},
     "output_type": "execute_result"
    }
   ],
   "source": [
    "s = Series([10, 20, 30], dtype='int32')\n",
    "s"
   ]
  },
  {
   "cell_type": "code",
   "execution_count": 9,
   "id": "112a2a88-dbe8-4568-822f-a0115991a1cb",
   "metadata": {},
   "outputs": [
    {
     "data": {
      "text/plain": [
       "dtype('int32')"
      ]
     },
     "execution_count": 9,
     "metadata": {},
     "output_type": "execute_result"
    }
   ],
   "source": [
    "s.dtype"
   ]
  },
  {
   "cell_type": "code",
   "execution_count": 12,
   "id": "515f98ff-1cee-442b-9309-b4b5e6dabaea",
   "metadata": {},
   "outputs": [
    {
     "data": {
      "text/plain": [
       "0    1000000000\n",
       "1     898891776\n",
       "2    -835117568\n",
       "dtype: int32"
      ]
     },
     "execution_count": 12,
     "metadata": {},
     "output_type": "execute_result"
    }
   ],
   "source": [
    "s ** 9"
   ]
  },
  {
   "cell_type": "markdown",
   "id": "faa5db79-feb8-4144-aa70-3e853f7db400",
   "metadata": {},
   "source": [
    "When you choose a dtype, you have to balance: (a) How much memory it'll use and (b) what is the maximum value you expect to get."
   ]
  },
  {
   "cell_type": "markdown",
   "id": "3f4b2689-d3e1-4d51-a1ff-b8d0fbdbee97",
   "metadata": {},
   "source": [
    "- 1 billion numbers * 8 bytes == 8 GB of values\n",
    "- 1 billion numbers * 4 bytes == 4 GB of values\n",
    "- 1 billion numbers * 2 bytes == 2 GB of values\n"
   ]
  },
  {
   "cell_type": "markdown",
   "id": "58d30ca6-066e-42fc-bf0f-dbb644f58d52",
   "metadata": {},
   "source": [
    "What if you don't need negative numbers? You can use `uint` dtypes. These are the same as `int`, but they are only positive.\n",
    "\n",
    "That means, for integers, we have:\n",
    "\n",
    "- `int8`\n",
    "- `int16`\n",
    "- `int32`\n",
    "- `int64`\n",
    "- `uint8`  (unsigned int)\n",
    "- `uint16`\n",
    "- `uint32`\n",
    "- `uint64`"
   ]
  },
  {
   "cell_type": "code",
   "execution_count": null,
   "id": "ef013f15-ec96-4f5f-88ca-1ce18576db7d",
   "metadata": {},
   "outputs": [],
   "source": [
    "import n"
   ]
  }
 ],
 "metadata": {
  "kernelspec": {
   "display_name": "Python 3 (ipykernel)",
   "language": "python",
   "name": "python3"
  },
  "language_info": {
   "codemirror_mode": {
    "name": "ipython",
    "version": 3
   },
   "file_extension": ".py",
   "mimetype": "text/x-python",
   "name": "python",
   "nbconvert_exporter": "python",
   "pygments_lexer": "ipython3",
   "version": "3.12.3"
  }
 },
 "nbformat": 4,
 "nbformat_minor": 5
}
