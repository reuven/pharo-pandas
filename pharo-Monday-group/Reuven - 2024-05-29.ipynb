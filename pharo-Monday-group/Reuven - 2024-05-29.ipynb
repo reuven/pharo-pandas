{
 "cells": [
  {
   "cell_type": "markdown",
   "id": "14130dd3-4f5f-459c-b048-24407188d84e",
   "metadata": {},
   "source": [
    "# Agenda: dtypes\n",
    "\n",
    "1. Basic dtypes (review)\n",
    "2. Changing dtypes\n",
    "3. Limits / issues with changing\n",
    "4. `NaN`\n",
    "5. Nullable types\n",
    "6. Say \"hi\" in person!"
   ]
  },
  {
   "cell_type": "markdown",
   "id": "c8c5cba7-3427-479d-9b32-f363437de6db",
   "metadata": {},
   "source": [
    "# Dtypes in Pandas\n",
    "\n",
    "When we use objects in regular Python, everything is an object, we have to think about what *type* it is, but not about what size it is, or how it is stored. So long as I have a Python object, I can have a variable refer to it, and that's that.\n",
    "\n",
    "In Pandas, things are dramatically different. All of our data is stored in C, which makes it small and fast. This means that Pandas is giving us a thin layer on top of those C data structures. We need to know what their sizes are to use them.\n",
    "\n",
    "This is known as the \"dtype.\" Every series (or column of a data frame) has a single dtype -- all of the values are the same dtype.\n",
    "\n"
   ]
  },
  {
   "cell_type": "code",
   "execution_count": null,
   "id": "90829651-3b29-4b6c-8b4d-222f1f82014c",
   "metadata": {},
   "outputs": [],
   "source": []
  }
 ],
 "metadata": {
  "kernelspec": {
   "display_name": "Python 3 (ipykernel)",
   "language": "python",
   "name": "python3"
  },
  "language_info": {
   "codemirror_mode": {
    "name": "ipython",
    "version": 3
   },
   "file_extension": ".py",
   "mimetype": "text/x-python",
   "name": "python",
   "nbconvert_exporter": "python",
   "pygments_lexer": "ipython3",
   "version": "3.12.3"
  }
 },
 "nbformat": 4,
 "nbformat_minor": 5
}
