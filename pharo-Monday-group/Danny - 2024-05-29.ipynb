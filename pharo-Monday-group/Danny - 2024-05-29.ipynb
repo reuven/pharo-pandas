{
 "cells": [
  {
   "cell_type": "code",
   "execution_count": 4,
   "id": "6ae400ea-6a10-4c94-bfff-0fd4b92087d6",
   "metadata": {},
   "outputs": [],
   "source": [
    "import pandas as pd\n",
    "import numpy as np\n",
    "from pandas import Series, DataFrame"
   ]
  },
  {
   "cell_type": "code",
   "execution_count": 22,
   "id": "a8b443d7-c513-4eeb-ace6-eae78dcbd756",
   "metadata": {},
   "outputs": [],
   "source": [
    "fam = Series([0,3,38,39,91],dtype='int8')"
   ]
  },
  {
   "cell_type": "code",
   "execution_count": 23,
   "id": "a04222e7-7fd2-44a8-a1d0-72125a232901",
   "metadata": {},
   "outputs": [
    {
     "data": {
      "text/plain": [
       "0     0\n",
       "1     3\n",
       "2    38\n",
       "3    39\n",
       "4    91\n",
       "dtype: int8"
      ]
     },
     "execution_count": 23,
     "metadata": {},
     "output_type": "execute_result"
    }
   ],
   "source": [
    "fam"
   ]
  },
  {
   "cell_type": "code",
   "execution_count": 29,
   "id": "d6dd3a68-c128-44e7-ba61-4522f55bb02f",
   "metadata": {},
   "outputs": [],
   "source": [
    "fam2 = Series([0.5,3.4,38.5,39.7,91.2],dtype='float16')"
   ]
  },
  {
   "cell_type": "code",
   "execution_count": 30,
   "id": "b28ae4bb-efc8-4ef1-bc8c-40783d152a3c",
   "metadata": {},
   "outputs": [
    {
     "data": {
      "text/plain": [
       "0     0.500000\n",
       "1     3.400391\n",
       "2    38.500000\n",
       "3    39.687500\n",
       "4    91.187500\n",
       "dtype: float16"
      ]
     },
     "execution_count": 30,
     "metadata": {},
     "output_type": "execute_result"
    }
   ],
   "source": [
    "fam2"
   ]
  },
  {
   "cell_type": "code",
   "execution_count": 45,
   "id": "5529c6d3-3d01-4dc4-8017-88f7475a21aa",
   "metadata": {},
   "outputs": [],
   "source": [
    "age_seconds = Series(fam2 * 365 * 24 * 60 * 60,dtype='uint32')"
   ]
  },
  {
   "cell_type": "code",
   "execution_count": 46,
   "id": "33618f8f-d5db-4df6-a6db-db6b8263acf7",
   "metadata": {},
   "outputs": [
    {
     "data": {
      "text/plain": [
       "0      15768000\n",
       "1     107234712\n",
       "2    1214136064\n",
       "3    1251585024\n",
       "4    2875689216\n",
       "dtype: uint32"
      ]
     },
     "execution_count": 46,
     "metadata": {},
     "output_type": "execute_result"
    }
   ],
   "source": [
    "age_seconds"
   ]
  },
  {
   "cell_type": "code",
   "execution_count": 47,
   "id": "d902133a-e46f-401e-8728-c0728145d150",
   "metadata": {},
   "outputs": [
    {
     "data": {
      "text/plain": [
       "pandas.core.series.Series"
      ]
     },
     "execution_count": 47,
     "metadata": {},
     "output_type": "execute_result"
    }
   ],
   "source": [
    "type(age_seconds)"
   ]
  },
  {
   "cell_type": "code",
   "execution_count": 54,
   "id": "25a0c2f6-edc2-4b6e-96d6-8cda730e6e75",
   "metadata": {},
   "outputs": [],
   "source": [
    "age_seconds2 = (fam2 * 365 * 24 * 60 * 60).astype('int64')"
   ]
  },
  {
   "cell_type": "code",
   "execution_count": 55,
   "id": "53d588c6-167a-4a3b-b75d-bf3fd1ee2e61",
   "metadata": {},
   "outputs": [
    {
     "data": {
      "text/plain": [
       "0      15768000\n",
       "1     107234712\n",
       "2    1214136064\n",
       "3    1251585024\n",
       "4    2875689216\n",
       "dtype: int64"
      ]
     },
     "execution_count": 55,
     "metadata": {},
     "output_type": "execute_result"
    }
   ],
   "source": [
    "age_seconds2"
   ]
  },
  {
   "cell_type": "code",
   "execution_count": 56,
   "id": "fc05f8e9-f2b4-4d19-b1ac-5802277e12ec",
   "metadata": {},
   "outputs": [
    {
     "data": {
      "text/plain": [
       "pandas.core.series.Series"
      ]
     },
     "execution_count": 56,
     "metadata": {},
     "output_type": "execute_result"
    }
   ],
   "source": [
    "type(age_seconds2)"
   ]
  },
  {
   "cell_type": "code",
   "execution_count": 72,
   "id": "369cb0bb-f7b2-4ab9-86f5-26905ca3aae7",
   "metadata": {},
   "outputs": [],
   "source": [
    "np.random.seed(0)\n",
    "float_series = Series(np.random.rand(10)) * 1000"
   ]
  },
  {
   "cell_type": "code",
   "execution_count": 73,
   "id": "4591b634-9483-4326-8f94-906d2d50027f",
   "metadata": {},
   "outputs": [
    {
     "data": {
      "text/plain": [
       "0    548.813504\n",
       "1    715.189366\n",
       "2    602.763376\n",
       "3    544.883183\n",
       "4    423.654799\n",
       "5    645.894113\n",
       "6    437.587211\n",
       "7    891.773001\n",
       "8    963.662761\n",
       "9    383.441519\n",
       "dtype: float64"
      ]
     },
     "execution_count": 73,
     "metadata": {},
     "output_type": "execute_result"
    }
   ],
   "source": [
    "float_series"
   ]
  },
  {
   "cell_type": "code",
   "execution_count": 74,
   "id": "832a31ae-4d89-4f82-b4e8-e486172c9283",
   "metadata": {},
   "outputs": [
    {
     "data": {
      "text/plain": [
       "0    548.813504\n",
       "2    602.763376\n",
       "3    544.883183\n",
       "dtype: float64"
      ]
     },
     "execution_count": 74,
     "metadata": {},
     "output_type": "execute_result"
    }
   ],
   "source": [
    "float_series.loc[float_series.astype('int16')%2==0]"
   ]
  },
  {
   "cell_type": "code",
   "execution_count": 75,
   "id": "6f66d1fe-3dc4-4b99-8f8d-94b2c66cb87f",
   "metadata": {},
   "outputs": [
    {
     "data": {
      "text/plain": [
       "565.4866876652885"
      ]
     },
     "execution_count": 75,
     "metadata": {},
     "output_type": "execute_result"
    }
   ],
   "source": [
    "float_series.loc[float_series.astype('int16')%2==0].mean()"
   ]
  },
  {
   "cell_type": "code",
   "execution_count": 80,
   "id": "91ff7e12-23a0-4fd0-829b-cd00a4a2f0eb",
   "metadata": {},
   "outputs": [],
   "source": [
    "nans = Series([23,235,232,234,np.nan,np.nan,45,23,np.nan,10])"
   ]
  },
  {
   "cell_type": "code",
   "execution_count": 81,
   "id": "5cb0a6b3-4725-43ed-8cbe-a6d7e6ef0c9f",
   "metadata": {},
   "outputs": [
    {
     "data": {
      "text/plain": [
       "0     23.0\n",
       "1    235.0\n",
       "2    232.0\n",
       "3    234.0\n",
       "4      NaN\n",
       "5      NaN\n",
       "6     45.0\n",
       "7     23.0\n",
       "8      NaN\n",
       "9     10.0\n",
       "dtype: float64"
      ]
     },
     "execution_count": 81,
     "metadata": {},
     "output_type": "execute_result"
    }
   ],
   "source": [
    "nans"
   ]
  },
  {
   "cell_type": "code",
   "execution_count": 82,
   "id": "ccafde8f-22f4-4585-bc29-7497ef443148",
   "metadata": {},
   "outputs": [
    {
     "data": {
      "text/plain": [
       "114.57142857142857"
      ]
     },
     "execution_count": 82,
     "metadata": {},
     "output_type": "execute_result"
    }
   ],
   "source": [
    "nans.mean()"
   ]
  },
  {
   "cell_type": "code",
   "execution_count": 84,
   "id": "2ada8674-d096-404a-b731-79e54c8bd591",
   "metadata": {},
   "outputs": [
    {
     "data": {
      "text/plain": [
       "0     23.000000\n",
       "1    235.000000\n",
       "2    232.000000\n",
       "3    234.000000\n",
       "4    114.571429\n",
       "5    114.571429\n",
       "6     45.000000\n",
       "7     23.000000\n",
       "8    114.571429\n",
       "9     10.000000\n",
       "dtype: float64"
      ]
     },
     "execution_count": 84,
     "metadata": {},
     "output_type": "execute_result"
    }
   ],
   "source": [
    "nans.fillna(nans.mean())"
   ]
  },
  {
   "cell_type": "code",
   "execution_count": null,
   "id": "90308e6c-733f-4818-8daf-e64079e2886c",
   "metadata": {},
   "outputs": [],
   "source": []
  }
 ],
 "metadata": {
  "kernelspec": {
   "display_name": "Python 3 (ipykernel)",
   "language": "python",
   "name": "python3"
  },
  "language_info": {
   "codemirror_mode": {
    "name": "ipython",
    "version": 3
   },
   "file_extension": ".py",
   "mimetype": "text/x-python",
   "name": "python",
   "nbconvert_exporter": "python",
   "pygments_lexer": "ipython3",
   "version": "3.12.3"
  }
 },
 "nbformat": 4,
 "nbformat_minor": 5
}
