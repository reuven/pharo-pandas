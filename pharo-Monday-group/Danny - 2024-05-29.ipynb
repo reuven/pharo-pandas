{
 "cells": [
  {
   "cell_type": "code",
   "execution_count": 4,
   "id": "6ae400ea-6a10-4c94-bfff-0fd4b92087d6",
   "metadata": {},
   "outputs": [],
   "source": [
    "import pandas as pd\n",
    "import numpy as np\n",
    "from pandas import Series, DataFrame"
   ]
  },
  {
   "cell_type": "code",
   "execution_count": 22,
   "id": "a8b443d7-c513-4eeb-ace6-eae78dcbd756",
   "metadata": {},
   "outputs": [],
   "source": [
    "fam = Series([0,3,38,39,91],dtype='int8')"
   ]
  },
  {
   "cell_type": "code",
   "execution_count": 23,
   "id": "a04222e7-7fd2-44a8-a1d0-72125a232901",
   "metadata": {},
   "outputs": [
    {
     "data": {
      "text/plain": [
       "0     0\n",
       "1     3\n",
       "2    38\n",
       "3    39\n",
       "4    91\n",
       "dtype: int8"
      ]
     },
     "execution_count": 23,
     "metadata": {},
     "output_type": "execute_result"
    }
   ],
   "source": [
    "fam"
   ]
  },
  {
   "cell_type": "code",
   "execution_count": 29,
   "id": "d6dd3a68-c128-44e7-ba61-4522f55bb02f",
   "metadata": {},
   "outputs": [],
   "source": [
    "fam2 = Series([0.5,3.4,38.5,39.7,91.2],dtype='float16')"
   ]
  },
  {
   "cell_type": "code",
   "execution_count": 30,
   "id": "b28ae4bb-efc8-4ef1-bc8c-40783d152a3c",
   "metadata": {},
   "outputs": [
    {
     "data": {
      "text/plain": [
       "0     0.500000\n",
       "1     3.400391\n",
       "2    38.500000\n",
       "3    39.687500\n",
       "4    91.187500\n",
       "dtype: float16"
      ]
     },
     "execution_count": 30,
     "metadata": {},
     "output_type": "execute_result"
    }
   ],
   "source": [
    "fam2"
   ]
  },
  {
   "cell_type": "code",
   "execution_count": 27,
   "id": "5529c6d3-3d01-4dc4-8017-88f7475a21aa",
   "metadata": {},
   "outputs": [],
   "source": [
    "age_seconds = Series(fam2 * 365 * 24 * 60 * 60,dtype='int64')"
   ]
  },
  {
   "cell_type": "code",
   "execution_count": 28,
   "id": "33618f8f-d5db-4df6-a6db-db6b8263acf7",
   "metadata": {},
   "outputs": [
    {
     "data": {
      "text/plain": [
       "0    1.576800e+07\n",
       "1    1.072224e+08\n",
       "2    1.214136e+09\n",
       "3    1.251979e+09\n",
       "4    2.876083e+09\n",
       "dtype: float64"
      ]
     },
     "execution_count": 28,
     "metadata": {},
     "output_type": "execute_result"
    }
   ],
   "source": [
    "age_seconds"
   ]
  },
  {
   "cell_type": "code",
   "execution_count": null,
   "id": "25a0c2f6-edc2-4b6e-96d6-8cda730e6e75",
   "metadata": {},
   "outputs": [],
   "source": []
  }
 ],
 "metadata": {
  "kernelspec": {
   "display_name": "Python 3 (ipykernel)",
   "language": "python",
   "name": "python3"
  },
  "language_info": {
   "codemirror_mode": {
    "name": "ipython",
    "version": 3
   },
   "file_extension": ".py",
   "mimetype": "text/x-python",
   "name": "python",
   "nbconvert_exporter": "python",
   "pygments_lexer": "ipython3",
   "version": "3.12.3"
  }
 },
 "nbformat": 4,
 "nbformat_minor": 5
}
