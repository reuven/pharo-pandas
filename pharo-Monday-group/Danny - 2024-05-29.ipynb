{
 "cells": [
  {
   "cell_type": "code",
   "execution_count": 4,
   "id": "6ae400ea-6a10-4c94-bfff-0fd4b92087d6",
   "metadata": {},
   "outputs": [],
   "source": [
    "import pandas as pd\n",
    "import numpy as np\n",
    "from pandas import Series, DataFrame"
   ]
  },
  {
   "cell_type": "code",
   "execution_count": 6,
   "id": "a8b443d7-c513-4eeb-ace6-eae78dcbd756",
   "metadata": {},
   "outputs": [],
   "source": [
    "fam = Series([0,3,38,39,91],dtype='int16')"
   ]
  },
  {
   "cell_type": "code",
   "execution_count": 7,
   "id": "a04222e7-7fd2-44a8-a1d0-72125a232901",
   "metadata": {},
   "outputs": [
    {
     "data": {
      "text/plain": [
       "0     0\n",
       "1     3\n",
       "2    38\n",
       "3    39\n",
       "4    91\n",
       "dtype: int16"
      ]
     },
     "execution_count": 7,
     "metadata": {},
     "output_type": "execute_result"
    }
   ],
   "source": [
    "fam"
   ]
  },
  {
   "cell_type": "code",
   "execution_count": 12,
   "id": "d6dd3a68-c128-44e7-ba61-4522f55bb02f",
   "metadata": {},
   "outputs": [],
   "source": [
    "fam2 = Series([0.5,3.4,38.5,39.7,91.2],dtype='float64')"
   ]
  },
  {
   "cell_type": "code",
   "execution_count": 13,
   "id": "b28ae4bb-efc8-4ef1-bc8c-40783d152a3c",
   "metadata": {},
   "outputs": [
    {
     "data": {
      "text/plain": [
       "0     0.5\n",
       "1     3.4\n",
       "2    38.5\n",
       "3    39.7\n",
       "4    91.2\n",
       "dtype: float64"
      ]
     },
     "execution_count": 13,
     "metadata": {},
     "output_type": "execute_result"
    }
   ],
   "source": [
    "fam2"
   ]
  },
  {
   "cell_type": "code",
   "execution_count": null,
   "id": "5529c6d3-3d01-4dc4-8017-88f7475a21aa",
   "metadata": {},
   "outputs": [],
   "source": []
  }
 ],
 "metadata": {
  "kernelspec": {
   "display_name": "Python 3 (ipykernel)",
   "language": "python",
   "name": "python3"
  },
  "language_info": {
   "codemirror_mode": {
    "name": "ipython",
    "version": 3
   },
   "file_extension": ".py",
   "mimetype": "text/x-python",
   "name": "python",
   "nbconvert_exporter": "python",
   "pygments_lexer": "ipython3",
   "version": "3.12.3"
  }
 },
 "nbformat": 4,
 "nbformat_minor": 5
}
