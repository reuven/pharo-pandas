{
 "cells": [
  {
   "cell_type": "code",
   "execution_count": null,
   "id": "7cb38f8d-b06f-4b00-ab5a-1fd9329e1bad",
   "metadata": {},
   "outputs": [],
   "source": []
  }
 ],
 "metadata": {
  "kernelspec": {
   "display_name": "",
   "name": ""
  },
  "language_info": {
   "name": ""
  }
 },
 "nbformat": 4,
 "nbformat_minor": 5
}
