{
 "cells": [
  {
   "cell_type": "code",
   "execution_count": null,
   "id": "a07b518b-4544-4cb7-8605-c41d8d3c7825",
   "metadata": {},
   "outputs": [],
   "source": []
  }
 ],
 "metadata": {
  "kernelspec": {
   "display_name": "",
   "name": ""
  },
  "language_info": {
   "name": ""
  }
 },
 "nbformat": 4,
 "nbformat_minor": 5
}
