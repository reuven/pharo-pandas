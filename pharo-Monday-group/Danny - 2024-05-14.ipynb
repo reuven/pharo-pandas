{
 "cells": [
  {
   "cell_type": "code",
   "execution_count": 5,
   "id": "417ad1c6-ff3a-4c1f-b5d3-4c27661376c0",
   "metadata": {},
   "outputs": [
    {
     "name": "stdout",
     "output_type": "stream",
     "text": [
      "done\n"
     ]
    }
   ],
   "source": [
    "import numpy as np\n",
    "import pandas as pd\n",
    "from pandas import Series, DataFrame\n",
    "print('done')"
   ]
  },
  {
   "cell_type": "code",
   "execution_count": 6,
   "id": "8b290e0c-c704-464f-973d-e88bb5d79c40",
   "metadata": {},
   "outputs": [],
   "source": [
    "highs = Series([85,82,90,70,101,80,99,78,89,77])"
   ]
  },
  {
   "cell_type": "code",
   "execution_count": 7,
   "id": "19a05826-18d9-4b72-8cbd-b39c22f8ed66",
   "metadata": {},
   "outputs": [
    {
     "data": {
      "text/plain": [
       "10"
      ]
     },
     "execution_count": 7,
     "metadata": {},
     "output_type": "execute_result"
    }
   ],
   "source": [
    "lows = Series([55,56,57,58,62,64,66,61,60,40])\n",
    "lows.count()"
   ]
  },
  {
   "cell_type": "code",
   "execution_count": 8,
   "id": "837e1983-de1b-446f-a361-d66f015bfbb1",
   "metadata": {},
   "outputs": [
    {
     "data": {
      "text/plain": [
       "10"
      ]
     },
     "execution_count": 8,
     "metadata": {},
     "output_type": "execute_result"
    }
   ],
   "source": [
    "highs.count()"
   ]
  },
  {
   "cell_type": "code",
   "execution_count": 12,
   "id": "a2ee2a91-6fda-45b4-af82-5bae7a14c4c6",
   "metadata": {},
   "outputs": [
    {
     "name": "stdout",
     "output_type": "stream",
     "text": [
      "85.1\n"
     ]
    },
    {
     "data": {
      "text/plain": [
       "2     90\n",
       "4    101\n",
       "6     99\n",
       "8     89\n",
       "dtype: int64"
      ]
     },
     "execution_count": 12,
     "metadata": {},
     "output_type": "execute_result"
    }
   ],
   "source": [
    "print(highs.mean())\n",
    "highs.loc[highs > highs.mean()]"
   ]
  },
  {
   "cell_type": "code",
   "execution_count": 15,
   "id": "8100f2e3-aea0-4b8a-9211-6bcd5de171a4",
   "metadata": {},
   "outputs": [
    {
     "data": {
      "text/plain": [
       "0    False\n",
       "1    False\n",
       "2    False\n",
       "3    False\n",
       "4     True\n",
       "5    False\n",
       "6     True\n",
       "7    False\n",
       "8    False\n",
       "9    False\n",
       "dtype: bool"
      ]
     },
     "execution_count": 15,
     "metadata": {},
     "output_type": "execute_result"
    }
   ],
   "source": [
    "highs > highs.mean()+highs.std()"
   ]
  },
  {
   "cell_type": "code",
   "execution_count": 16,
   "id": "95814f12-bccd-4df4-bb68-fdc0f1ec7bfd",
   "metadata": {},
   "outputs": [
    {
     "data": {
      "text/plain": [
       "0    30\n",
       "1    26\n",
       "2    33\n",
       "3    12\n",
       "4    39\n",
       "5    16\n",
       "6    33\n",
       "7    17\n",
       "8    29\n",
       "9    37\n",
       "dtype: int64"
      ]
     },
     "execution_count": 16,
     "metadata": {},
     "output_type": "execute_result"
    }
   ],
   "source": [
    "highs-lows"
   ]
  },
  {
   "cell_type": "code",
   "execution_count": 19,
   "id": "8e1b3077-d67f-4925-ab3f-3041470914af",
   "metadata": {},
   "outputs": [
    {
     "name": "stdout",
     "output_type": "stream",
     "text": [
      "29.5\n"
     ]
    },
    {
     "data": {
      "text/plain": [
       "0    30\n",
       "2    33\n",
       "4    39\n",
       "6    33\n",
       "9    37\n",
       "dtype: int64"
      ]
     },
     "execution_count": 19,
     "metadata": {},
     "output_type": "execute_result"
    }
   ],
   "source": [
    "print((highs-lows).median())\n",
    "(highs-lows)[(highs-lows)>(highs-lows).median()]"
   ]
  },
  {
   "cell_type": "code",
   "execution_count": 20,
   "id": "b4547bd3-2965-4a8b-8dff-7c5396cdad6c",
   "metadata": {},
   "outputs": [
    {
     "data": {
      "text/plain": [
       "0     85\n",
       "1     82\n",
       "2     90\n",
       "3     70\n",
       "4    101\n",
       "5     80\n",
       "6     99\n",
       "7     78\n",
       "8     89\n",
       "9     77\n",
       "dtype: int64"
      ]
     },
     "execution_count": 20,
     "metadata": {},
     "output_type": "execute_result"
    }
   ],
   "source": [
    "highs"
   ]
  },
  {
   "cell_type": "code",
   "execution_count": 23,
   "id": "e36b608c-28e2-4b1b-9327-ed2d5cd1c39f",
   "metadata": {},
   "outputs": [
    {
     "data": {
      "text/plain": [
       "0     True\n",
       "1    False\n",
       "2    False\n",
       "3    False\n",
       "4     True\n",
       "5    False\n",
       "6     True\n",
       "7    False\n",
       "8     True\n",
       "9     True\n",
       "dtype: bool"
      ]
     },
     "execution_count": 23,
     "metadata": {},
     "output_type": "execute_result"
    }
   ],
   "source": [
    "highs%2\n",
    "highs%2==1"
   ]
  },
  {
   "cell_type": "code",
   "execution_count": 27,
   "id": "6b30809e-26ba-4f62-b49c-fb8534d153c6",
   "metadata": {},
   "outputs": [
    {
     "data": {
      "text/plain": [
       "a    260\n",
       "b    343\n",
       "c     55\n",
       "d    566\n",
       "e    591\n",
       "f    313\n",
       "g    738\n",
       "h    736\n",
       "i    903\n",
       "j    964\n",
       "k    222\n",
       "l    226\n",
       "m    885\n",
       "o    723\n",
       "n    705\n",
       "p     80\n",
       "q    908\n",
       "r    851\n",
       "s    521\n",
       "t    792\n",
       "dtype: int64"
      ]
     },
     "execution_count": 27,
     "metadata": {},
     "output_type": "execute_result"
    }
   ],
   "source": [
    "random = Series(np.random.randint(0,1000,20),index=list('abcdefghijklmonpqrst'))\n",
    "random"
   ]
  },
  {
   "cell_type": "code",
   "execution_count": 28,
   "id": "76bb044a-0dba-4a89-bbd1-b45d70bc71e6",
   "metadata": {},
   "outputs": [
    {
     "data": {
      "text/plain": [
       "a    260\n",
       "c     55\n",
       "k    222\n",
       "l    226\n",
       "p     80\n",
       "dtype: int64"
      ]
     },
     "execution_count": 28,
     "metadata": {},
     "output_type": "execute_result"
    }
   ],
   "source": [
    "random.loc[random < (random.mean()-random.std())]"
   ]
  },
  {
   "cell_type": "code",
   "execution_count": 29,
   "id": "24869a3a-f22a-4dfd-8b36-f2320d731b09",
   "metadata": {},
   "outputs": [
    {
     "data": {
      "text/plain": [
       "i    903\n",
       "j    964\n",
       "m    885\n",
       "q    908\n",
       "dtype: int64"
      ]
     },
     "execution_count": 29,
     "metadata": {},
     "output_type": "execute_result"
    }
   ],
   "source": [
    "random.loc[random > (random.mean()+random.std())]"
   ]
  },
  {
   "cell_type": "code",
   "execution_count": 30,
   "id": "97d4d443-9601-4099-ac76-875d44d40df7",
   "metadata": {},
   "outputs": [
    {
     "data": {
      "text/plain": [
       "a    260\n",
       "c     55\n",
       "i    903\n",
       "j    964\n",
       "k    222\n",
       "l    226\n",
       "m    885\n",
       "p     80\n",
       "q    908\n",
       "dtype: int64"
      ]
     },
     "execution_count": 30,
     "metadata": {},
     "output_type": "execute_result"
    }
   ],
   "source": [
    "random.loc[(random < (random.mean()-random.std()))|(random > (random.mean()+random.std()))]"
   ]
  },
  {
   "cell_type": "code",
   "execution_count": 32,
   "id": "69623b6f-f359-4e96-88fb-a773b2b553f1",
   "metadata": {},
   "outputs": [
    {
     "data": {
      "text/plain": [
       "g    738\n",
       "h    736\n",
       "j    964\n",
       "q    908\n",
       "t    792\n",
       "dtype: int64"
      ]
     },
     "execution_count": 32,
     "metadata": {},
     "output_type": "execute_result"
    }
   ],
   "source": [
    "random.loc[(random%2==0)&(random>random.mean())]"
   ]
  },
  {
   "cell_type": "code",
   "execution_count": 36,
   "id": "1bd4b81d-35ba-46be-9f9b-64180e5ca95a",
   "metadata": {},
   "outputs": [
    {
     "name": "stdout",
     "output_type": "stream",
     "text": [
      "569.1\n"
     ]
    },
    {
     "data": {
      "text/plain": [
       "b    343\n",
       "c     55\n",
       "f    313\n",
       "g    738\n",
       "h    736\n",
       "j    964\n",
       "q    908\n",
       "s    521\n",
       "t    792\n",
       "dtype: int64"
      ]
     },
     "execution_count": 36,
     "metadata": {},
     "output_type": "execute_result"
    }
   ],
   "source": [
    "print(random.mean())\n",
    "random.loc[((random%2==0)&(random>random.mean()))|((random%2==1)&(random<random.mean()))]\n"
   ]
  },
  {
   "cell_type": "code",
   "execution_count": null,
   "id": "c4df64cb-9876-4501-bf1d-499228354623",
   "metadata": {},
   "outputs": [],
   "source": []
  }
 ],
 "metadata": {
  "kernelspec": {
   "display_name": "Python 3 (ipykernel)",
   "language": "python",
   "name": "python3"
  },
  "language_info": {
   "codemirror_mode": {
    "name": "ipython",
    "version": 3
   },
   "file_extension": ".py",
   "mimetype": "text/x-python",
   "name": "python",
   "nbconvert_exporter": "python",
   "pygments_lexer": "ipython3",
   "version": "3.12.3"
  }
 },
 "nbformat": 4,
 "nbformat_minor": 5
}
