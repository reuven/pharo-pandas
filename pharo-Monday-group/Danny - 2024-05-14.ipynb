{
 "cells": [
  {
   "cell_type": "code",
   "execution_count": 5,
   "id": "417ad1c6-ff3a-4c1f-b5d3-4c27661376c0",
   "metadata": {},
   "outputs": [
    {
     "name": "stdout",
     "output_type": "stream",
     "text": [
      "done\n"
     ]
    }
   ],
   "source": [
    "import numpy as np\n",
    "import pandas as pd\n",
    "from pandas import Series, DataFrame\n",
    "print('done')"
   ]
  },
  {
   "cell_type": "code",
   "execution_count": 6,
   "id": "8b290e0c-c704-464f-973d-e88bb5d79c40",
   "metadata": {},
   "outputs": [],
   "source": [
    "highs = Series([85,82,90,70,101,80,99,78,89,77])"
   ]
  },
  {
   "cell_type": "code",
   "execution_count": 7,
   "id": "19a05826-18d9-4b72-8cbd-b39c22f8ed66",
   "metadata": {},
   "outputs": [
    {
     "data": {
      "text/plain": [
       "10"
      ]
     },
     "execution_count": 7,
     "metadata": {},
     "output_type": "execute_result"
    }
   ],
   "source": [
    "lows = Series([55,56,57,58,62,64,66,61,60,40])\n",
    "lows.count()"
   ]
  },
  {
   "cell_type": "code",
   "execution_count": 8,
   "id": "837e1983-de1b-446f-a361-d66f015bfbb1",
   "metadata": {},
   "outputs": [
    {
     "data": {
      "text/plain": [
       "10"
      ]
     },
     "execution_count": 8,
     "metadata": {},
     "output_type": "execute_result"
    }
   ],
   "source": [
    "highs.count()"
   ]
  },
  {
   "cell_type": "code",
   "execution_count": 12,
   "id": "a2ee2a91-6fda-45b4-af82-5bae7a14c4c6",
   "metadata": {},
   "outputs": [
    {
     "name": "stdout",
     "output_type": "stream",
     "text": [
      "85.1\n"
     ]
    },
    {
     "data": {
      "text/plain": [
       "2     90\n",
       "4    101\n",
       "6     99\n",
       "8     89\n",
       "dtype: int64"
      ]
     },
     "execution_count": 12,
     "metadata": {},
     "output_type": "execute_result"
    }
   ],
   "source": [
    "print(highs.mean())\n",
    "highs.loc[highs > highs.mean()]"
   ]
  },
  {
   "cell_type": "code",
   "execution_count": null,
   "id": "8100f2e3-aea0-4b8a-9211-6bcd5de171a4",
   "metadata": {},
   "outputs": [],
   "source": []
  }
 ],
 "metadata": {
  "kernelspec": {
   "display_name": "Python 3 (ipykernel)",
   "language": "python",
   "name": "python3"
  },
  "language_info": {
   "codemirror_mode": {
    "name": "ipython",
    "version": 3
   },
   "file_extension": ".py",
   "mimetype": "text/x-python",
   "name": "python",
   "nbconvert_exporter": "python",
   "pygments_lexer": "ipython3",
   "version": "3.12.3"
  }
 },
 "nbformat": 4,
 "nbformat_minor": 5
}
