{
 "cells": [
  {
   "cell_type": "code",
   "execution_count": 4,
   "id": "63ad75aa-0fbe-46c8-86d3-57f02e7f95ba",
   "metadata": {},
   "outputs": [],
   "source": [
    "import pandas as pd\n",
    "from pandas import Series, DataFrame\n",
    "\n"
   ]
  },
  {
   "cell_type": "code",
   "execution_count": 7,
   "id": "aa393a8d-96ea-499a-9428-dc3207d55258",
   "metadata": {},
   "outputs": [
    {
     "name": "stdout",
     "output_type": "stream",
     "text": [
      "1,\"Private flight\",\\N,\"-\",\"N/A\",\"\",\"\",\"Y\" \n",
      "2,\"135 Airways\",\\N,\"\",\"GNL\",\"GENERAL\",\"United States\",\"N\"\n",
      "3,\"1Time Airline\",\\N,\"1T\",\"RNX\",\"NEXTIME\",\"South Africa\",\"Y\"\n",
      "4,\"2 Sqn No 1 Elementary Flying Training School\",\\N,\"\",\"WYT\",\"\",\"United Kingdom\",\"N\"\n",
      "5,\"213 Flight Unit\",\\N,\"\",\"TFU\",\"\",\"Russia\",\"N\"\n",
      "6,\"223 Flight Unit State Airline\",\\N,\"\",\"CHD\",\"CHKALOVSK-AVIA\",\"Russia\",\"N\"\n",
      "7,\"224th Flight Unit\",\\N,\"\",\"TTF\",\"CARGO UNIT\",\"Russia\",\"N\"\n",
      "8,\"247 Jet Ltd\",\\N,\"\",\"TWF\",\"CLOUD RUNNER\",\"United Kingdom\",\"N\"\n",
      "9,\"3D Aviation\",\\N,\"\",\"SEC\",\"SECUREX\",\"United States\",\"N\"\n",
      "10,\"40-Mile Air\",\\N,\"Q5\",\"MLA\",\"MILE-AIR\",\"United States\",\"Y\"\n"
     ]
    }
   ],
   "source": [
    "!head ../data/airlines.dat"
   ]
  },
  {
   "cell_type": "code",
   "execution_count": null,
   "id": "f002ad0d-a54c-4c83-b0d7-1e4cecb5c828",
   "metadata": {},
   "outputs": [],
   "source": [
    "airlines_df = pf.read_csv("
   ]
  }
 ],
 "metadata": {
  "kernelspec": {
   "display_name": "Python 3 (ipykernel)",
   "language": "python",
   "name": "python3"
  },
  "language_info": {
   "codemirror_mode": {
    "name": "ipython",
    "version": 3
   },
   "file_extension": ".py",
   "mimetype": "text/x-python",
   "name": "python",
   "nbconvert_exporter": "python",
   "pygments_lexer": "ipython3",
   "version": "3.12.3"
  }
 },
 "nbformat": 4,
 "nbformat_minor": 5
}
