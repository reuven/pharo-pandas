{
 "cells": [
  {
   "cell_type": "code",
   "execution_count": 4,
   "id": "63ad75aa-0fbe-46c8-86d3-57f02e7f95ba",
   "metadata": {},
   "outputs": [],
   "source": [
    "import pandas as pd\n",
    "from pandas import Series, DataFrame\n",
    "\n"
   ]
  },
  {
   "cell_type": "code",
   "execution_count": 7,
   "id": "aa393a8d-96ea-499a-9428-dc3207d55258",
   "metadata": {},
   "outputs": [
    {
     "name": "stdout",
     "output_type": "stream",
     "text": [
      "1,\"Private flight\",\\N,\"-\",\"N/A\",\"\",\"\",\"Y\" \n",
      "2,\"135 Airways\",\\N,\"\",\"GNL\",\"GENERAL\",\"United States\",\"N\"\n",
      "3,\"1Time Airline\",\\N,\"1T\",\"RNX\",\"NEXTIME\",\"South Africa\",\"Y\"\n",
      "4,\"2 Sqn No 1 Elementary Flying Training School\",\\N,\"\",\"WYT\",\"\",\"United Kingdom\",\"N\"\n",
      "5,\"213 Flight Unit\",\\N,\"\",\"TFU\",\"\",\"Russia\",\"N\"\n",
      "6,\"223 Flight Unit State Airline\",\\N,\"\",\"CHD\",\"CHKALOVSK-AVIA\",\"Russia\",\"N\"\n",
      "7,\"224th Flight Unit\",\\N,\"\",\"TTF\",\"CARGO UNIT\",\"Russia\",\"N\"\n",
      "8,\"247 Jet Ltd\",\\N,\"\",\"TWF\",\"CLOUD RUNNER\",\"United Kingdom\",\"N\"\n",
      "9,\"3D Aviation\",\\N,\"\",\"SEC\",\"SECUREX\",\"United States\",\"N\"\n",
      "10,\"40-Mile Air\",\\N,\"Q5\",\"MLA\",\"MILE-AIR\",\"United States\",\"Y\"\n"
     ]
    }
   ],
   "source": [
    "!head ../data/airlines.dat"
   ]
  },
  {
   "cell_type": "code",
   "execution_count": 38,
   "id": "f002ad0d-a54c-4c83-b0d7-1e4cecb5c828",
   "metadata": {},
   "outputs": [
    {
     "data": {
      "text/plain": [
       "Country\n",
       "United States           1080\n",
       "Mexico                   439\n",
       "United Kingdom           407\n",
       "Canada                   318\n",
       "Russia                   230\n",
       "Spain                    166\n",
       "Germany                  131\n",
       "France                   119\n",
       "Australia                 93\n",
       "South Africa              91\n",
       "Italy                     90\n",
       "Ukraine                   89\n",
       "Nigeria                   85\n",
       "Kazakhstan                79\n",
       "Sweden                    70\n",
       "China                     70\n",
       "Switzerland               60\n",
       "Brazil                    58\n",
       "Netherlands               52\n",
       "Austria                   50\n",
       "Sudan                     49\n",
       "Egypt                     48\n",
       "Indonesia                 48\n",
       "Thailand                  48\n",
       "Portugal                  45\n",
       "Japan                     44\n",
       "Colombia                  43\n",
       "Chile                     41\n",
       "Turkey                    39\n",
       "Angola                    37\n",
       "Mauritania                35\n",
       "Kyrgyzstan                33\n",
       "Iran                      32\n",
       "Denmark                   32\n",
       "Czech Republic            32\n",
       "United Arab Emirates      31\n",
       "Dominican Republic        30\n",
       "Pakistan                  29\n",
       "Norway                    29\n",
       "Greece                    29\n",
       "Bulgaria                  28\n",
       "Ireland                   28\n",
       "New Zealand               28\n",
       "Belgium                   27\n",
       "India                     26\n",
       "Venezuela                 26\n",
       "Sierra Leone              26\n",
       "Peru                      26\n",
       "Ecuador                   26\n",
       "Libya                     26\n",
       "Name: count, dtype: int64"
      ]
     },
     "execution_count": 38,
     "metadata": {},
     "output_type": "execute_result"
    }
   ],
   "source": [
    "airlines_df = pd.read_csv('../data/airlines.dat',\n",
    "                        usecols=[1,4,5,6],\n",
    "                         header=None,\n",
    "                         names=['Name','ShortCode','LongCode','Country'])\n",
    "airlines_df['Country'].value_counts().head(50)"
   ]
  },
  {
   "cell_type": "code",
   "execution_count": 39,
   "id": "b7426d76-87c2-4ac6-8ac1-22e7f90e372a",
   "metadata": {},
   "outputs": [],
   "source": [
    "#Cities execise\n",
    "url='https://gist.githubusercontent.com/reuven/77edbb0292901f35019f17edb9794358/raw/2bf258763cdddd704f8ffd3ea9a3e81d25e2c6f6/cities.json'\n",
    "df=pd.read_json(url)"
   ]
  },
  {
   "cell_type": "code",
   "execution_count": 40,
   "id": "2d54056f-eb71-45ec-bf12-b692e077980b",
   "metadata": {},
   "outputs": [
    {
     "data": {
      "text/html": [
       "<div>\n",
       "<style scoped>\n",
       "    .dataframe tbody tr th:only-of-type {\n",
       "        vertical-align: middle;\n",
       "    }\n",
       "\n",
       "    .dataframe tbody tr th {\n",
       "        vertical-align: top;\n",
       "    }\n",
       "\n",
       "    .dataframe thead th {\n",
       "        text-align: right;\n",
       "    }\n",
       "</style>\n",
       "<table border=\"1\" class=\"dataframe\">\n",
       "  <thead>\n",
       "    <tr style=\"text-align: right;\">\n",
       "      <th></th>\n",
       "      <th>city</th>\n",
       "      <th>growth_from_2000_to_2013</th>\n",
       "      <th>latitude</th>\n",
       "      <th>longitude</th>\n",
       "      <th>population</th>\n",
       "      <th>rank</th>\n",
       "      <th>state</th>\n",
       "    </tr>\n",
       "  </thead>\n",
       "  <tbody>\n",
       "    <tr>\n",
       "      <th>0</th>\n",
       "      <td>New York</td>\n",
       "      <td>4.8%</td>\n",
       "      <td>40.712784</td>\n",
       "      <td>-74.005941</td>\n",
       "      <td>8405837</td>\n",
       "      <td>1</td>\n",
       "      <td>New York</td>\n",
       "    </tr>\n",
       "    <tr>\n",
       "      <th>1</th>\n",
       "      <td>Los Angeles</td>\n",
       "      <td>4.8%</td>\n",
       "      <td>34.052234</td>\n",
       "      <td>-118.243685</td>\n",
       "      <td>3884307</td>\n",
       "      <td>2</td>\n",
       "      <td>California</td>\n",
       "    </tr>\n",
       "    <tr>\n",
       "      <th>2</th>\n",
       "      <td>Chicago</td>\n",
       "      <td>-6.1%</td>\n",
       "      <td>41.878114</td>\n",
       "      <td>-87.629798</td>\n",
       "      <td>2718782</td>\n",
       "      <td>3</td>\n",
       "      <td>Illinois</td>\n",
       "    </tr>\n",
       "    <tr>\n",
       "      <th>3</th>\n",
       "      <td>Houston</td>\n",
       "      <td>11.0%</td>\n",
       "      <td>29.760427</td>\n",
       "      <td>-95.369803</td>\n",
       "      <td>2195914</td>\n",
       "      <td>4</td>\n",
       "      <td>Texas</td>\n",
       "    </tr>\n",
       "    <tr>\n",
       "      <th>4</th>\n",
       "      <td>Philadelphia</td>\n",
       "      <td>2.6%</td>\n",
       "      <td>39.952584</td>\n",
       "      <td>-75.165222</td>\n",
       "      <td>1553165</td>\n",
       "      <td>5</td>\n",
       "      <td>Pennsylvania</td>\n",
       "    </tr>\n",
       "  </tbody>\n",
       "</table>\n",
       "</div>"
      ],
      "text/plain": [
       "           city growth_from_2000_to_2013   latitude   longitude  population  \\\n",
       "0      New York                     4.8%  40.712784  -74.005941     8405837   \n",
       "1   Los Angeles                     4.8%  34.052234 -118.243685     3884307   \n",
       "2       Chicago                    -6.1%  41.878114  -87.629798     2718782   \n",
       "3       Houston                    11.0%  29.760427  -95.369803     2195914   \n",
       "4  Philadelphia                     2.6%  39.952584  -75.165222     1553165   \n",
       "\n",
       "   rank         state  \n",
       "0     1      New York  \n",
       "1     2    California  \n",
       "2     3      Illinois  \n",
       "3     4         Texas  \n",
       "4     5  Pennsylvania  "
      ]
     },
     "execution_count": 40,
     "metadata": {},
     "output_type": "execute_result"
    }
   ],
   "source": [
    "df.head(5)"
   ]
  },
  {
   "cell_type": "code",
   "execution_count": null,
   "id": "29380452-50ae-44cb-9362-5cd88c87bdf2",
   "metadata": {},
   "outputs": [],
   "source": [
    "df.loc("
   ]
  }
 ],
 "metadata": {
  "kernelspec": {
   "display_name": "Python 3 (ipykernel)",
   "language": "python",
   "name": "python3"
  },
  "language_info": {
   "codemirror_mode": {
    "name": "ipython",
    "version": 3
   },
   "file_extension": ".py",
   "mimetype": "text/x-python",
   "name": "python",
   "nbconvert_exporter": "python",
   "pygments_lexer": "ipython3",
   "version": "3.12.3"
  }
 },
 "nbformat": 4,
 "nbformat_minor": 5
}
