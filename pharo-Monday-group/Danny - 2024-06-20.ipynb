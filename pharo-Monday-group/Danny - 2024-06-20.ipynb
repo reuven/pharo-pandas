{
 "cells": [
  {
   "cell_type": "code",
   "execution_count": 4,
   "id": "63ad75aa-0fbe-46c8-86d3-57f02e7f95ba",
   "metadata": {},
   "outputs": [],
   "source": [
    "import pandas as pd\n",
    "from pandas import Series, DataFrame\n",
    "\n"
   ]
  },
  {
   "cell_type": "code",
   "execution_count": 7,
   "id": "aa393a8d-96ea-499a-9428-dc3207d55258",
   "metadata": {},
   "outputs": [
    {
     "name": "stdout",
     "output_type": "stream",
     "text": [
      "1,\"Private flight\",\\N,\"-\",\"N/A\",\"\",\"\",\"Y\" \n",
      "2,\"135 Airways\",\\N,\"\",\"GNL\",\"GENERAL\",\"United States\",\"N\"\n",
      "3,\"1Time Airline\",\\N,\"1T\",\"RNX\",\"NEXTIME\",\"South Africa\",\"Y\"\n",
      "4,\"2 Sqn No 1 Elementary Flying Training School\",\\N,\"\",\"WYT\",\"\",\"United Kingdom\",\"N\"\n",
      "5,\"213 Flight Unit\",\\N,\"\",\"TFU\",\"\",\"Russia\",\"N\"\n",
      "6,\"223 Flight Unit State Airline\",\\N,\"\",\"CHD\",\"CHKALOVSK-AVIA\",\"Russia\",\"N\"\n",
      "7,\"224th Flight Unit\",\\N,\"\",\"TTF\",\"CARGO UNIT\",\"Russia\",\"N\"\n",
      "8,\"247 Jet Ltd\",\\N,\"\",\"TWF\",\"CLOUD RUNNER\",\"United Kingdom\",\"N\"\n",
      "9,\"3D Aviation\",\\N,\"\",\"SEC\",\"SECUREX\",\"United States\",\"N\"\n",
      "10,\"40-Mile Air\",\\N,\"Q5\",\"MLA\",\"MILE-AIR\",\"United States\",\"Y\"\n"
     ]
    }
   ],
   "source": [
    "!head ../data/airlines.dat"
   ]
  },
  {
   "cell_type": "code",
   "execution_count": 37,
   "id": "f002ad0d-a54c-4c83-b0d7-1e4cecb5c828",
   "metadata": {},
   "outputs": [
    {
     "data": {
      "text/plain": [
       "Country\n",
       "United States     1080\n",
       "Mexico             439\n",
       "United Kingdom     407\n",
       "Canada             318\n",
       "Russia             230\n",
       "Spain              166\n",
       "Germany            131\n",
       "France             119\n",
       "Australia           93\n",
       "South Africa        91\n",
       "Italy               90\n",
       "Ukraine             89\n",
       "Nigeria             85\n",
       "Kazakhstan          79\n",
       "Sweden              70\n",
       "China               70\n",
       "Switzerland         60\n",
       "Brazil              58\n",
       "Netherlands         52\n",
       "Austria             50\n",
       "Sudan               49\n",
       "Egypt               48\n",
       "Indonesia           48\n",
       "Thailand            48\n",
       "Portugal            45\n",
       "Japan               44\n",
       "Colombia            43\n",
       "Chile               41\n",
       "Turkey              39\n",
       "Angola              37\n",
       "Name: count, dtype: int64"
      ]
     },
     "execution_count": 37,
     "metadata": {},
     "output_type": "execute_result"
    }
   ],
   "source": [
    "airlines_df = pd.read_csv('../data/airlines.dat',\n",
    "                        usecols=[1,4,5,6],\n",
    "                         header=None,\n",
    "                         names=['Name','ShortCode','LongCode','Country'])\n",
    "airlines_df['Country'].value_counts().head(30)"
   ]
  }
 ],
 "metadata": {
  "kernelspec": {
   "display_name": "Python 3 (ipykernel)",
   "language": "python",
   "name": "python3"
  },
  "language_info": {
   "codemirror_mode": {
    "name": "ipython",
    "version": 3
   },
   "file_extension": ".py",
   "mimetype": "text/x-python",
   "name": "python",
   "nbconvert_exporter": "python",
   "pygments_lexer": "ipython3",
   "version": "3.12.3"
  }
 },
 "nbformat": 4,
 "nbformat_minor": 5
}
