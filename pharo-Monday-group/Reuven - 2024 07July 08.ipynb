{
 "cells": [
  {
   "cell_type": "markdown",
   "id": "9fd74fc5-634d-4948-a9a2-c81065054f83",
   "metadata": {},
   "source": [
    "# Agenda\n",
    "\n",
    "1. Dealing with `NaN`\n",
    "2. Interpolation\n",
    "3. Dealing with bad values"
   ]
  },
  {
   "cell_type": "code",
   "execution_count": 1,
   "id": "4f05d5ff-32f4-4466-8d96-48fee6d57114",
   "metadata": {},
   "outputs": [],
   "source": [
    "import pandas as pd\n",
    "from pandas import Series, DataFrame"
   ]
  },
  {
   "cell_type": "code",
   "execution_count": null,
   "id": "a9ce4670-97ec-4446-9e57-f9a049f0a05f",
   "metadata": {},
   "outputs": [],
   "source": []
  }
 ],
 "metadata": {
  "kernelspec": {
   "display_name": "Python 3 (ipykernel)",
   "language": "python",
   "name": "python3"
  },
  "language_info": {
   "codemirror_mode": {
    "name": "ipython",
    "version": 3
   },
   "file_extension": ".py",
   "mimetype": "text/x-python",
   "name": "python",
   "nbconvert_exporter": "python",
   "pygments_lexer": "ipython3",
   "version": "3.12.3"
  }
 },
 "nbformat": 4,
 "nbformat_minor": 5
}
