{
 "cells": [
  {
   "cell_type": "code",
   "execution_count": 1,
   "id": "82c95487",
   "metadata": {},
   "outputs": [
    {
     "name": "stdout",
     "output_type": "stream",
     "text": [
      "Hello!\n"
     ]
    }
   ],
   "source": [
    "print ('Hello!')"
   ]
  },
  {
   "cell_type": "code",
   "execution_count": null,
   "id": "c35f78cf",
   "metadata": {},
   "outputs": [],
   "source": [
    "d"
   ]
  },
  {
   "cell_type": "code",
   "execution_count": 2,
   "id": "b91a996d",
   "metadata": {},
   "outputs": [
    {
     "name": "stdout",
     "output_type": "stream",
     "text": [
      "The directory C:\\Downloads does not exist.\n"
     ]
    }
   ],
   "source": [
    "import os\n",
    "\n",
    "def list_directory_contents(directory):\n",
    "    \"\"\"Lists the contents of the given directory.\"\"\"\n",
    "    try:\n",
    "        # Get the list of all files and directories in the specified path\n",
    "        contents = os.listdir(directory)\n",
    "        print(f\"Contents of {directory}:\")\n",
    "        for item in contents:\n",
    "            print(item)\n",
    "    except FileNotFoundError:\n",
    "        print(f\"The directory {directory} does not exist.\")\n",
    "    except PermissionError:\n",
    "        print(f\"Permission denied to access the directory {directory}.\")\n",
    "\n",
    "# Specify the path to the directory\n",
    "directory_path = 'C:\\Downloads'\n",
    "\n",
    "# Call the function with the specified path\n",
    "list_directory_contents(directory_path)\n"
   ]
  },
  {
   "cell_type": "code",
   "execution_count": 4,
   "id": "9022604c",
   "metadata": {},
   "outputs": [
    {
     "name": "stdout",
     "output_type": "stream",
     "text": [
      "The directory C:\\ does not exist.\n"
     ]
    }
   ],
   "source": [
    "import os\n",
    "import pandas as pd\n",
    "\n",
    "def search_directory(directory, search_term):\n",
    "    \"\"\"Searches for a file or directory within the specified directory that matches the search term.\"\"\"\n",
    "    try:\n",
    "        contents = os.listdir(directory)\n",
    "        matches = [item for item in contents if search_term.lower() in item.lower()]\n",
    "        \n",
    "        if matches:\n",
    "            print(f\"Search results in {directory} for '{search_term}':\")\n",
    "            for match in matches:\n",
    "                print(match)\n",
    "        else:\n",
    "            print(f\"No matches found for '{search_term}' in {directory}.\")\n",
    "\n",
    "    except FileNotFoundError:\n",
    "        print(f\"The directory {directory} does not exist.\")\n",
    "    except PermissionError:\n",
    "        print(f\"Permission denied to access the directory {directory}.\")\n",
    "\n",
    "# Specify the path to the directory\n",
    "directory_path = 'C:\\\\'\n",
    "# Specify the search term\n",
    "search_term = 'wire'\n",
    "\n",
    "# Call the function with the specified path and search term\n",
    "search_directory(directory_path, search_term)\n"
   ]
  },
  {
   "cell_type": "code",
   "execution_count": 6,
   "id": "22292375",
   "metadata": {},
   "outputs": [
    {
     "data": {
      "text/plain": [
       "'1.5.3'"
      ]
     },
     "execution_count": 6,
     "metadata": {},
     "output_type": "execute_result"
    }
   ],
   "source": [
    "pd.__version__"
   ]
  },
  {
   "cell_type": "code",
   "execution_count": null,
   "id": "89d63753",
   "metadata": {},
   "outputs": [],
   "source": []
  }
 ],
 "metadata": {
  "kernelspec": {
   "display_name": "Python 3 (ipykernel)",
   "language": "python",
   "name": "python3"
  },
  "language_info": {
   "codemirror_mode": {
    "name": "ipython",
    "version": 3
   },
   "file_extension": ".py",
   "mimetype": "text/x-python",
   "name": "python",
   "nbconvert_exporter": "python",
   "pygments_lexer": "ipython3",
   "version": "3.11.6"
  }
 },
 "nbformat": 4,
 "nbformat_minor": 5
}
