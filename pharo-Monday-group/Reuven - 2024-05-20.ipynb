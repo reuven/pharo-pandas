{
 "cells": [
  {
   "cell_type": "markdown",
   "id": "14130dd3-4f5f-459c-b048-24407188d84e",
   "metadata": {},
   "source": [
    "# Agenda: Indexing and dtypes\n",
    "\n",
    "1. Indexes\n",
    "    - Setting\n",
    "    - Resetting\n",
    "2. `inplace=True`\n",
    "3. dtypes"
   ]
  },
  {
   "cell_type": "code",
   "execution_count": 3,
   "id": "8a689ac9-4c92-4f50-9177-ba801ea65484",
   "metadata": {},
   "outputs": [],
   "source": [
    "import numpy as np\n",
    "import pandas as pd       # if Pandas isn't yet imported, do so -- and give it the alias \"pd\"\n",
    "from pandas import Series, DataFrame  # if Pandas isn't yet imported, do so -- and define Series + DataFrame"
   ]
  },
  {
   "cell_type": "code",
   "execution_count": 4,
   "id": "420fc568-4f7b-4ab6-871f-8bd6940cdd36",
   "metadata": {},
   "outputs": [
    {
     "data": {
      "text/plain": [
       "0    10\n",
       "1    20\n",
       "2    30\n",
       "3    40\n",
       "4    50\n",
       "dtype: int64"
      ]
     },
     "execution_count": 4,
     "metadata": {},
     "output_type": "execute_result"
    }
   ],
   "source": [
    "s = Series([10, 20, 30, 40, 50])\n",
    "s"
   ]
  },
  {
   "cell_type": "code",
   "execution_count": 5,
   "id": "7093056a-7b67-4161-a79e-4a4f9f5f16df",
   "metadata": {},
   "outputs": [
    {
     "data": {
      "text/plain": [
       "a    10\n",
       "b    20\n",
       "c    30\n",
       "d    40\n",
       "e    50\n",
       "dtype: int64"
      ]
     },
     "execution_count": 5,
     "metadata": {},
     "output_type": "execute_result"
    }
   ],
   "source": [
    "s.index = list('abcde')\n",
    "s"
   ]
  },
  {
   "cell_type": "code",
   "execution_count": 6,
   "id": "900a06ca-366e-4039-9c1c-cb5f25399b8d",
   "metadata": {},
   "outputs": [
    {
     "data": {
      "text/html": [
       "<div>\n",
       "<style scoped>\n",
       "    .dataframe tbody tr th:only-of-type {\n",
       "        vertical-align: middle;\n",
       "    }\n",
       "\n",
       "    .dataframe tbody tr th {\n",
       "        vertical-align: top;\n",
       "    }\n",
       "\n",
       "    .dataframe thead th {\n",
       "        text-align: right;\n",
       "    }\n",
       "</style>\n",
       "<table border=\"1\" class=\"dataframe\">\n",
       "  <thead>\n",
       "    <tr style=\"text-align: right;\">\n",
       "      <th></th>\n",
       "      <th>index</th>\n",
       "      <th>0</th>\n",
       "    </tr>\n",
       "  </thead>\n",
       "  <tbody>\n",
       "    <tr>\n",
       "      <th>0</th>\n",
       "      <td>a</td>\n",
       "      <td>10</td>\n",
       "    </tr>\n",
       "    <tr>\n",
       "      <th>1</th>\n",
       "      <td>b</td>\n",
       "      <td>20</td>\n",
       "    </tr>\n",
       "    <tr>\n",
       "      <th>2</th>\n",
       "      <td>c</td>\n",
       "      <td>30</td>\n",
       "    </tr>\n",
       "    <tr>\n",
       "      <th>3</th>\n",
       "      <td>d</td>\n",
       "      <td>40</td>\n",
       "    </tr>\n",
       "    <tr>\n",
       "      <th>4</th>\n",
       "      <td>e</td>\n",
       "      <td>50</td>\n",
       "    </tr>\n",
       "  </tbody>\n",
       "</table>\n",
       "</div>"
      ],
      "text/plain": [
       "  index   0\n",
       "0     a  10\n",
       "1     b  20\n",
       "2     c  30\n",
       "3     d  40\n",
       "4     e  50"
      ]
     },
     "execution_count": 6,
     "metadata": {},
     "output_type": "execute_result"
    }
   ],
   "source": [
    "# what happens if I don't want this index any more?\n",
    "# what happens if I want the default index?\n",
    "\n",
    "s.reset_index()"
   ]
  },
  {
   "cell_type": "code",
   "execution_count": 7,
   "id": "9acbd4a0-f3e3-4999-b2ae-d2b290e8ed0b",
   "metadata": {},
   "outputs": [
    {
     "data": {
      "text/plain": [
       "a    10\n",
       "b    20\n",
       "c    30\n",
       "d    40\n",
       "e    50\n",
       "dtype: int64"
      ]
     },
     "execution_count": 7,
     "metadata": {},
     "output_type": "execute_result"
    }
   ],
   "source": [
    "s"
   ]
  },
  {
   "cell_type": "markdown",
   "id": "60e0ca34-ee73-432d-80a8-ea0779f086ad",
   "metadata": {},
   "source": [
    "# `reset_index`\n",
    "\n",
    "Many, *many* methods in Pandas don't modify the series/data frame. Rather, they return a new series/data frame, one that reflects the change that we have made.\n",
    "\n",
    "If we want to \"capture\" this change in a variable, or even in the original variable we used, then we have to assign."
   ]
  },
  {
   "cell_type": "code",
   "execution_count": 8,
   "id": "f2a95be7-8189-4ae5-99c3-458116520d79",
   "metadata": {},
   "outputs": [
    {
     "data": {
      "text/html": [
       "<div>\n",
       "<style scoped>\n",
       "    .dataframe tbody tr th:only-of-type {\n",
       "        vertical-align: middle;\n",
       "    }\n",
       "\n",
       "    .dataframe tbody tr th {\n",
       "        vertical-align: top;\n",
       "    }\n",
       "\n",
       "    .dataframe thead th {\n",
       "        text-align: right;\n",
       "    }\n",
       "</style>\n",
       "<table border=\"1\" class=\"dataframe\">\n",
       "  <thead>\n",
       "    <tr style=\"text-align: right;\">\n",
       "      <th></th>\n",
       "      <th>index</th>\n",
       "      <th>0</th>\n",
       "    </tr>\n",
       "  </thead>\n",
       "  <tbody>\n",
       "    <tr>\n",
       "      <th>0</th>\n",
       "      <td>a</td>\n",
       "      <td>10</td>\n",
       "    </tr>\n",
       "    <tr>\n",
       "      <th>1</th>\n",
       "      <td>b</td>\n",
       "      <td>20</td>\n",
       "    </tr>\n",
       "    <tr>\n",
       "      <th>2</th>\n",
       "      <td>c</td>\n",
       "      <td>30</td>\n",
       "    </tr>\n",
       "    <tr>\n",
       "      <th>3</th>\n",
       "      <td>d</td>\n",
       "      <td>40</td>\n",
       "    </tr>\n",
       "    <tr>\n",
       "      <th>4</th>\n",
       "      <td>e</td>\n",
       "      <td>50</td>\n",
       "    </tr>\n",
       "  </tbody>\n",
       "</table>\n",
       "</div>"
      ],
      "text/plain": [
       "  index   0\n",
       "0     a  10\n",
       "1     b  20\n",
       "2     c  30\n",
       "3     d  40\n",
       "4     e  50"
      ]
     },
     "execution_count": 8,
     "metadata": {},
     "output_type": "execute_result"
    }
   ],
   "source": [
    "df = s.reset_index()\n",
    "df"
   ]
  },
  {
   "cell_type": "markdown",
   "id": "b3ceaac0-6941-47be-9939-d594df1da319",
   "metadata": {},
   "source": [
    "# `set_index`\n",
    "\n",
    "If I have a data frame, and I want to use one of its columns as the index, then I can call `set_index`, indicating which column should be used. I then get back a new data frame with the specified column as an index."
   ]
  },
  {
   "cell_type": "code",
   "execution_count": 10,
   "id": "5c483f73-9a19-48f9-b4dc-9e2f4674f401",
   "metadata": {},
   "outputs": [
    {
     "data": {
      "text/html": [
       "<div>\n",
       "<style scoped>\n",
       "    .dataframe tbody tr th:only-of-type {\n",
       "        vertical-align: middle;\n",
       "    }\n",
       "\n",
       "    .dataframe tbody tr th {\n",
       "        vertical-align: top;\n",
       "    }\n",
       "\n",
       "    .dataframe thead th {\n",
       "        text-align: right;\n",
       "    }\n",
       "</style>\n",
       "<table border=\"1\" class=\"dataframe\">\n",
       "  <thead>\n",
       "    <tr style=\"text-align: right;\">\n",
       "      <th></th>\n",
       "      <th>0</th>\n",
       "    </tr>\n",
       "    <tr>\n",
       "      <th>index</th>\n",
       "      <th></th>\n",
       "    </tr>\n",
       "  </thead>\n",
       "  <tbody>\n",
       "    <tr>\n",
       "      <th>a</th>\n",
       "      <td>10</td>\n",
       "    </tr>\n",
       "    <tr>\n",
       "      <th>b</th>\n",
       "      <td>20</td>\n",
       "    </tr>\n",
       "    <tr>\n",
       "      <th>c</th>\n",
       "      <td>30</td>\n",
       "    </tr>\n",
       "    <tr>\n",
       "      <th>d</th>\n",
       "      <td>40</td>\n",
       "    </tr>\n",
       "    <tr>\n",
       "      <th>e</th>\n",
       "      <td>50</td>\n",
       "    </tr>\n",
       "  </tbody>\n",
       "</table>\n",
       "</div>"
      ],
      "text/plain": [
       "        0\n",
       "index    \n",
       "a      10\n",
       "b      20\n",
       "c      30\n",
       "d      40\n",
       "e      50"
      ]
     },
     "execution_count": 10,
     "metadata": {},
     "output_type": "execute_result"
    }
   ],
   "source": [
    "df.set_index('index')"
   ]
  },
  {
   "cell_type": "code",
   "execution_count": 11,
   "id": "eb8f87b8-eb47-435a-82ea-801c81a4f604",
   "metadata": {},
   "outputs": [
    {
     "data": {
      "text/html": [
       "<div>\n",
       "<style scoped>\n",
       "    .dataframe tbody tr th:only-of-type {\n",
       "        vertical-align: middle;\n",
       "    }\n",
       "\n",
       "    .dataframe tbody tr th {\n",
       "        vertical-align: top;\n",
       "    }\n",
       "\n",
       "    .dataframe thead th {\n",
       "        text-align: right;\n",
       "    }\n",
       "</style>\n",
       "<table border=\"1\" class=\"dataframe\">\n",
       "  <thead>\n",
       "    <tr style=\"text-align: right;\">\n",
       "      <th></th>\n",
       "      <th>index</th>\n",
       "      <th>0</th>\n",
       "    </tr>\n",
       "  </thead>\n",
       "  <tbody>\n",
       "    <tr>\n",
       "      <th>0</th>\n",
       "      <td>a</td>\n",
       "      <td>10</td>\n",
       "    </tr>\n",
       "    <tr>\n",
       "      <th>1</th>\n",
       "      <td>b</td>\n",
       "      <td>20</td>\n",
       "    </tr>\n",
       "    <tr>\n",
       "      <th>2</th>\n",
       "      <td>c</td>\n",
       "      <td>30</td>\n",
       "    </tr>\n",
       "    <tr>\n",
       "      <th>3</th>\n",
       "      <td>d</td>\n",
       "      <td>40</td>\n",
       "    </tr>\n",
       "    <tr>\n",
       "      <th>4</th>\n",
       "      <td>e</td>\n",
       "      <td>50</td>\n",
       "    </tr>\n",
       "  </tbody>\n",
       "</table>\n",
       "</div>"
      ],
      "text/plain": [
       "  index   0\n",
       "0     a  10\n",
       "1     b  20\n",
       "2     c  30\n",
       "3     d  40\n",
       "4     e  50"
      ]
     },
     "execution_count": 11,
     "metadata": {},
     "output_type": "execute_result"
    }
   ],
   "source": [
    "# if I look at df, what do I see?\n",
    "\n",
    "df"
   ]
  },
  {
   "cell_type": "code",
   "execution_count": 12,
   "id": "1b8e062a-7a05-4805-9f3a-c504ce8ba932",
   "metadata": {},
   "outputs": [
    {
     "data": {
      "text/html": [
       "<div>\n",
       "<style scoped>\n",
       "    .dataframe tbody tr th:only-of-type {\n",
       "        vertical-align: middle;\n",
       "    }\n",
       "\n",
       "    .dataframe tbody tr th {\n",
       "        vertical-align: top;\n",
       "    }\n",
       "\n",
       "    .dataframe thead th {\n",
       "        text-align: right;\n",
       "    }\n",
       "</style>\n",
       "<table border=\"1\" class=\"dataframe\">\n",
       "  <thead>\n",
       "    <tr style=\"text-align: right;\">\n",
       "      <th></th>\n",
       "      <th>0</th>\n",
       "    </tr>\n",
       "    <tr>\n",
       "      <th>index</th>\n",
       "      <th></th>\n",
       "    </tr>\n",
       "  </thead>\n",
       "  <tbody>\n",
       "    <tr>\n",
       "      <th>a</th>\n",
       "      <td>10</td>\n",
       "    </tr>\n",
       "    <tr>\n",
       "      <th>b</th>\n",
       "      <td>20</td>\n",
       "    </tr>\n",
       "    <tr>\n",
       "      <th>c</th>\n",
       "      <td>30</td>\n",
       "    </tr>\n",
       "    <tr>\n",
       "      <th>d</th>\n",
       "      <td>40</td>\n",
       "    </tr>\n",
       "    <tr>\n",
       "      <th>e</th>\n",
       "      <td>50</td>\n",
       "    </tr>\n",
       "  </tbody>\n",
       "</table>\n",
       "</div>"
      ],
      "text/plain": [
       "        0\n",
       "index    \n",
       "a      10\n",
       "b      20\n",
       "c      30\n",
       "d      40\n",
       "e      50"
      ]
     },
     "execution_count": 12,
     "metadata": {},
     "output_type": "execute_result"
    }
   ],
   "source": [
    "# set_index returns a new data frame, one based on df, but it doesn't modify df.\n",
    "# in order to do that, you need to assign to df\n",
    "\n",
    "df = df.set_index('index')\n",
    "df"
   ]
  },
  {
   "cell_type": "code",
   "execution_count": 13,
   "id": "016910e6-07d6-4aee-af0b-18e42a584f94",
   "metadata": {},
   "outputs": [
    {
     "data": {
      "text/plain": [
       "index\n",
       "a    10\n",
       "b    20\n",
       "c    30\n",
       "d    40\n",
       "e    50\n",
       "Name: 0, dtype: int64"
      ]
     },
     "execution_count": 13,
     "metadata": {},
     "output_type": "execute_result"
    }
   ],
   "source": [
    "# if I want to get a series back, with just our current index and column 0, I can\n",
    "# retrieve that column with [0].\n",
    "\n",
    "df[0]"
   ]
  },
  {
   "cell_type": "code",
   "execution_count": 15,
   "id": "107a27e5-bcfb-4741-b879-56d4588b536b",
   "metadata": {},
   "outputs": [],
   "source": [
    "df = df.reset_index()"
   ]
  },
  {
   "cell_type": "code",
   "execution_count": 16,
   "id": "ac07b4fd-887b-41c5-9343-8fe67921e66f",
   "metadata": {},
   "outputs": [
    {
     "data": {
      "text/html": [
       "<div>\n",
       "<style scoped>\n",
       "    .dataframe tbody tr th:only-of-type {\n",
       "        vertical-align: middle;\n",
       "    }\n",
       "\n",
       "    .dataframe tbody tr th {\n",
       "        vertical-align: top;\n",
       "    }\n",
       "\n",
       "    .dataframe thead th {\n",
       "        text-align: right;\n",
       "    }\n",
       "</style>\n",
       "<table border=\"1\" class=\"dataframe\">\n",
       "  <thead>\n",
       "    <tr style=\"text-align: right;\">\n",
       "      <th></th>\n",
       "      <th>index</th>\n",
       "      <th>0</th>\n",
       "    </tr>\n",
       "  </thead>\n",
       "  <tbody>\n",
       "    <tr>\n",
       "      <th>0</th>\n",
       "      <td>a</td>\n",
       "      <td>10</td>\n",
       "    </tr>\n",
       "    <tr>\n",
       "      <th>1</th>\n",
       "      <td>b</td>\n",
       "      <td>20</td>\n",
       "    </tr>\n",
       "    <tr>\n",
       "      <th>2</th>\n",
       "      <td>c</td>\n",
       "      <td>30</td>\n",
       "    </tr>\n",
       "    <tr>\n",
       "      <th>3</th>\n",
       "      <td>d</td>\n",
       "      <td>40</td>\n",
       "    </tr>\n",
       "    <tr>\n",
       "      <th>4</th>\n",
       "      <td>e</td>\n",
       "      <td>50</td>\n",
       "    </tr>\n",
       "  </tbody>\n",
       "</table>\n",
       "</div>"
      ],
      "text/plain": [
       "  index   0\n",
       "0     a  10\n",
       "1     b  20\n",
       "2     c  30\n",
       "3     d  40\n",
       "4     e  50"
      ]
     },
     "execution_count": 16,
     "metadata": {},
     "output_type": "execute_result"
    }
   ],
   "source": [
    "df"
   ]
  },
  {
   "cell_type": "code",
   "execution_count": 18,
   "id": "fe5b2f9f-5f79-47f9-8f59-eb579a92f17c",
   "metadata": {},
   "outputs": [
    {
     "data": {
      "text/plain": [
       "2    30\n",
       "Name: 0, dtype: int64"
      ]
     },
     "execution_count": 18,
     "metadata": {},
     "output_type": "execute_result"
    }
   ],
   "source": [
    "# get all values from column 0\n",
    "# where index is 'c'\n",
    "df.loc[df['index'] == 'c', 0]"
   ]
  },
  {
   "cell_type": "code",
   "execution_count": 19,
   "id": "47a5b5bd-9d4a-4e3c-9b6b-50ac45b8e072",
   "metadata": {},
   "outputs": [
    {
     "data": {
      "text/plain": [
       "0    30\n",
       "Name: c, dtype: int64"
      ]
     },
     "execution_count": 19,
     "metadata": {},
     "output_type": "execute_result"
    }
   ],
   "source": [
    "# it's far easier and more intiuitive to set \"index\" to be the index,\n",
    "# and then just use .loc to pull out the value(s) we want at that index\n",
    "\n",
    "(\n",
    "    df\n",
    "    .set_index('index')\n",
    "    .loc['c']  # here, I'm running .loc not on df, but on the result of running df.set_index\n",
    ")"
   ]
  },
  {
   "cell_type": "markdown",
   "id": "2863a042-f4b8-4988-887d-abc256ac45a4",
   "metadata": {},
   "source": [
    "# Exercise: Weather and indexes\n",
    "\n",
    "1. Create a series in which the index contains the dates in MMDD format ('0520', '0521'), all as strings. The values should be the expected high temperatures for the next 10 days.\n",
    "2. Use `reset_index`. What do you see?\n",
    "3. Use a mask index to retrieve the projected high temps for May 22 and May 25.\n",
    "4. Use `set_index` and `.loc` to achieve the same goal."
   ]
  },
  {
   "cell_type": "code",
   "execution_count": 20,
   "id": "4a8c6d76-dc88-4a59-b527-4d444bb48de8",
   "metadata": {},
   "outputs": [],
   "source": [
    "s = Series([29, 31, 30, 29, 27, \n",
    "            25, 22, 24, 23, 21],\n",
    "           index='0521 0522 0523 0524 0525 0526 0527 0528 0529 0530'.split())"
   ]
  },
  {
   "cell_type": "code",
   "execution_count": 21,
   "id": "dc065d6f-4d02-40a4-894e-e81b1f8c3fc2",
   "metadata": {},
   "outputs": [
    {
     "data": {
      "text/plain": [
       "0521    29\n",
       "0522    31\n",
       "0523    30\n",
       "0524    29\n",
       "0525    27\n",
       "0526    25\n",
       "0527    22\n",
       "0528    24\n",
       "0529    23\n",
       "0530    21\n",
       "dtype: int64"
      ]
     },
     "execution_count": 21,
     "metadata": {},
     "output_type": "execute_result"
    }
   ],
   "source": [
    "s"
   ]
  },
  {
   "cell_type": "code",
   "execution_count": 22,
   "id": "4d0de74a-0284-4c8f-a4f1-8a449441be93",
   "metadata": {},
   "outputs": [
    {
     "data": {
      "text/html": [
       "<div>\n",
       "<style scoped>\n",
       "    .dataframe tbody tr th:only-of-type {\n",
       "        vertical-align: middle;\n",
       "    }\n",
       "\n",
       "    .dataframe tbody tr th {\n",
       "        vertical-align: top;\n",
       "    }\n",
       "\n",
       "    .dataframe thead th {\n",
       "        text-align: right;\n",
       "    }\n",
       "</style>\n",
       "<table border=\"1\" class=\"dataframe\">\n",
       "  <thead>\n",
       "    <tr style=\"text-align: right;\">\n",
       "      <th></th>\n",
       "      <th>index</th>\n",
       "      <th>0</th>\n",
       "    </tr>\n",
       "  </thead>\n",
       "  <tbody>\n",
       "    <tr>\n",
       "      <th>0</th>\n",
       "      <td>0521</td>\n",
       "      <td>29</td>\n",
       "    </tr>\n",
       "    <tr>\n",
       "      <th>1</th>\n",
       "      <td>0522</td>\n",
       "      <td>31</td>\n",
       "    </tr>\n",
       "    <tr>\n",
       "      <th>2</th>\n",
       "      <td>0523</td>\n",
       "      <td>30</td>\n",
       "    </tr>\n",
       "    <tr>\n",
       "      <th>3</th>\n",
       "      <td>0524</td>\n",
       "      <td>29</td>\n",
       "    </tr>\n",
       "    <tr>\n",
       "      <th>4</th>\n",
       "      <td>0525</td>\n",
       "      <td>27</td>\n",
       "    </tr>\n",
       "    <tr>\n",
       "      <th>5</th>\n",
       "      <td>0526</td>\n",
       "      <td>25</td>\n",
       "    </tr>\n",
       "    <tr>\n",
       "      <th>6</th>\n",
       "      <td>0527</td>\n",
       "      <td>22</td>\n",
       "    </tr>\n",
       "    <tr>\n",
       "      <th>7</th>\n",
       "      <td>0528</td>\n",
       "      <td>24</td>\n",
       "    </tr>\n",
       "    <tr>\n",
       "      <th>8</th>\n",
       "      <td>0529</td>\n",
       "      <td>23</td>\n",
       "    </tr>\n",
       "    <tr>\n",
       "      <th>9</th>\n",
       "      <td>0530</td>\n",
       "      <td>21</td>\n",
       "    </tr>\n",
       "  </tbody>\n",
       "</table>\n",
       "</div>"
      ],
      "text/plain": [
       "  index   0\n",
       "0  0521  29\n",
       "1  0522  31\n",
       "2  0523  30\n",
       "3  0524  29\n",
       "4  0525  27\n",
       "5  0526  25\n",
       "6  0527  22\n",
       "7  0528  24\n",
       "8  0529  23\n",
       "9  0530  21"
      ]
     },
     "execution_count": 22,
     "metadata": {},
     "output_type": "execute_result"
    }
   ],
   "source": [
    "s.reset_index()"
   ]
  },
  {
   "cell_type": "code",
   "execution_count": 23,
   "id": "ebeed5f5-b1c4-4c5e-bdf1-fa86a9b0f1c0",
   "metadata": {},
   "outputs": [
    {
     "data": {
      "text/plain": [
       "0521    29\n",
       "0522    31\n",
       "0523    30\n",
       "0524    29\n",
       "0525    27\n",
       "0526    25\n",
       "0527    22\n",
       "0528    24\n",
       "0529    23\n",
       "0530    21\n",
       "dtype: int64"
      ]
     },
     "execution_count": 23,
     "metadata": {},
     "output_type": "execute_result"
    }
   ],
   "source": [
    "s"
   ]
  },
  {
   "cell_type": "code",
   "execution_count": 24,
   "id": "e0683161-2d0e-4734-86e4-74f9fdc88159",
   "metadata": {},
   "outputs": [
    {
     "data": {
      "text/html": [
       "<div>\n",
       "<style scoped>\n",
       "    .dataframe tbody tr th:only-of-type {\n",
       "        vertical-align: middle;\n",
       "    }\n",
       "\n",
       "    .dataframe tbody tr th {\n",
       "        vertical-align: top;\n",
       "    }\n",
       "\n",
       "    .dataframe thead th {\n",
       "        text-align: right;\n",
       "    }\n",
       "</style>\n",
       "<table border=\"1\" class=\"dataframe\">\n",
       "  <thead>\n",
       "    <tr style=\"text-align: right;\">\n",
       "      <th></th>\n",
       "      <th>index</th>\n",
       "      <th>0</th>\n",
       "    </tr>\n",
       "  </thead>\n",
       "  <tbody>\n",
       "    <tr>\n",
       "      <th>0</th>\n",
       "      <td>0521</td>\n",
       "      <td>29</td>\n",
       "    </tr>\n",
       "    <tr>\n",
       "      <th>1</th>\n",
       "      <td>0522</td>\n",
       "      <td>31</td>\n",
       "    </tr>\n",
       "    <tr>\n",
       "      <th>2</th>\n",
       "      <td>0523</td>\n",
       "      <td>30</td>\n",
       "    </tr>\n",
       "    <tr>\n",
       "      <th>3</th>\n",
       "      <td>0524</td>\n",
       "      <td>29</td>\n",
       "    </tr>\n",
       "    <tr>\n",
       "      <th>4</th>\n",
       "      <td>0525</td>\n",
       "      <td>27</td>\n",
       "    </tr>\n",
       "    <tr>\n",
       "      <th>5</th>\n",
       "      <td>0526</td>\n",
       "      <td>25</td>\n",
       "    </tr>\n",
       "    <tr>\n",
       "      <th>6</th>\n",
       "      <td>0527</td>\n",
       "      <td>22</td>\n",
       "    </tr>\n",
       "    <tr>\n",
       "      <th>7</th>\n",
       "      <td>0528</td>\n",
       "      <td>24</td>\n",
       "    </tr>\n",
       "    <tr>\n",
       "      <th>8</th>\n",
       "      <td>0529</td>\n",
       "      <td>23</td>\n",
       "    </tr>\n",
       "    <tr>\n",
       "      <th>9</th>\n",
       "      <td>0530</td>\n",
       "      <td>21</td>\n",
       "    </tr>\n",
       "  </tbody>\n",
       "</table>\n",
       "</div>"
      ],
      "text/plain": [
       "  index   0\n",
       "0  0521  29\n",
       "1  0522  31\n",
       "2  0523  30\n",
       "3  0524  29\n",
       "4  0525  27\n",
       "5  0526  25\n",
       "6  0527  22\n",
       "7  0528  24\n",
       "8  0529  23\n",
       "9  0530  21"
      ]
     },
     "execution_count": 24,
     "metadata": {},
     "output_type": "execute_result"
    }
   ],
   "source": [
    "df = s.reset_index()\n",
    "df"
   ]
  },
  {
   "cell_type": "code",
   "execution_count": 25,
   "id": "29c9bff9-ac91-4ae0-af14-9505136e29a4",
   "metadata": {},
   "outputs": [
    {
     "data": {
      "text/plain": [
       "0    False\n",
       "1     True\n",
       "2    False\n",
       "3    False\n",
       "4     True\n",
       "5    False\n",
       "6    False\n",
       "7    False\n",
       "8    False\n",
       "9    False\n",
       "Name: index, dtype: bool"
      ]
     },
     "execution_count": 25,
     "metadata": {},
     "output_type": "execute_result"
    }
   ],
   "source": [
    "(df['index'] == '0522') | (df['index'] == '0525')"
   ]
  },
  {
   "cell_type": "code",
   "execution_count": 26,
   "id": "8a52e9a4-5880-464b-bc83-173631518772",
   "metadata": {},
   "outputs": [
    {
     "data": {
      "text/plain": [
       "1    31\n",
       "4    27\n",
       "Name: 0, dtype: int64"
      ]
     },
     "execution_count": 26,
     "metadata": {},
     "output_type": "execute_result"
    }
   ],
   "source": [
    "# I can apply a boolean series to any series whose index matches\n",
    "\n",
    "(\n",
    "    df      # data frame\n",
    "    [0]     # column 0 in the data frame\n",
    "    .loc[   # get me all values of df[0] where...\n",
    "        (df['index'] == '0522') |      # either index is 0522\n",
    "        (df['index'] == '0525')        # or index is 0525\n",
    "    ]\n",
    ")"
   ]
  },
  {
   "cell_type": "code",
   "execution_count": 29,
   "id": "12d5a966-892c-4e97-9f4e-4dc9e3de3e50",
   "metadata": {},
   "outputs": [
    {
     "data": {
      "text/html": [
       "<div>\n",
       "<style scoped>\n",
       "    .dataframe tbody tr th:only-of-type {\n",
       "        vertical-align: middle;\n",
       "    }\n",
       "\n",
       "    .dataframe tbody tr th {\n",
       "        vertical-align: top;\n",
       "    }\n",
       "\n",
       "    .dataframe thead th {\n",
       "        text-align: right;\n",
       "    }\n",
       "</style>\n",
       "<table border=\"1\" class=\"dataframe\">\n",
       "  <thead>\n",
       "    <tr style=\"text-align: right;\">\n",
       "      <th></th>\n",
       "      <th>0</th>\n",
       "    </tr>\n",
       "    <tr>\n",
       "      <th>index</th>\n",
       "      <th></th>\n",
       "    </tr>\n",
       "  </thead>\n",
       "  <tbody>\n",
       "    <tr>\n",
       "      <th>0522</th>\n",
       "      <td>31</td>\n",
       "    </tr>\n",
       "    <tr>\n",
       "      <th>0525</th>\n",
       "      <td>27</td>\n",
       "    </tr>\n",
       "  </tbody>\n",
       "</table>\n",
       "</div>"
      ],
      "text/plain": [
       "        0\n",
       "index    \n",
       "0522   31\n",
       "0525   27"
      ]
     },
     "execution_count": 29,
     "metadata": {},
     "output_type": "execute_result"
    }
   ],
   "source": [
    "# if we set the index, then we can retrieve these much more easily\n",
    "\n",
    "(\n",
    "    df\n",
    "    .set_index('index')   # make the column named \"index\" into the index, not a regular column\n",
    "    .loc[   [   '0522', '0525'   ] ]\n",
    ")"
   ]
  },
  {
   "cell_type": "code",
   "execution_count": 30,
   "id": "262769cd-573b-4c91-970e-b2eedf4d3751",
   "metadata": {},
   "outputs": [
    {
     "data": {
      "text/html": [
       "<div>\n",
       "<style scoped>\n",
       "    .dataframe tbody tr th:only-of-type {\n",
       "        vertical-align: middle;\n",
       "    }\n",
       "\n",
       "    .dataframe tbody tr th {\n",
       "        vertical-align: top;\n",
       "    }\n",
       "\n",
       "    .dataframe thead th {\n",
       "        text-align: right;\n",
       "    }\n",
       "</style>\n",
       "<table border=\"1\" class=\"dataframe\">\n",
       "  <thead>\n",
       "    <tr style=\"text-align: right;\">\n",
       "      <th></th>\n",
       "      <th>index</th>\n",
       "      <th>0</th>\n",
       "    </tr>\n",
       "  </thead>\n",
       "  <tbody>\n",
       "    <tr>\n",
       "      <th>0</th>\n",
       "      <td>0521</td>\n",
       "      <td>29</td>\n",
       "    </tr>\n",
       "    <tr>\n",
       "      <th>1</th>\n",
       "      <td>0522</td>\n",
       "      <td>31</td>\n",
       "    </tr>\n",
       "    <tr>\n",
       "      <th>2</th>\n",
       "      <td>0523</td>\n",
       "      <td>30</td>\n",
       "    </tr>\n",
       "    <tr>\n",
       "      <th>3</th>\n",
       "      <td>0524</td>\n",
       "      <td>29</td>\n",
       "    </tr>\n",
       "    <tr>\n",
       "      <th>4</th>\n",
       "      <td>0525</td>\n",
       "      <td>27</td>\n",
       "    </tr>\n",
       "    <tr>\n",
       "      <th>5</th>\n",
       "      <td>0526</td>\n",
       "      <td>25</td>\n",
       "    </tr>\n",
       "    <tr>\n",
       "      <th>6</th>\n",
       "      <td>0527</td>\n",
       "      <td>22</td>\n",
       "    </tr>\n",
       "    <tr>\n",
       "      <th>7</th>\n",
       "      <td>0528</td>\n",
       "      <td>24</td>\n",
       "    </tr>\n",
       "    <tr>\n",
       "      <th>8</th>\n",
       "      <td>0529</td>\n",
       "      <td>23</td>\n",
       "    </tr>\n",
       "    <tr>\n",
       "      <th>9</th>\n",
       "      <td>0530</td>\n",
       "      <td>21</td>\n",
       "    </tr>\n",
       "  </tbody>\n",
       "</table>\n",
       "</div>"
      ],
      "text/plain": [
       "  index   0\n",
       "0  0521  29\n",
       "1  0522  31\n",
       "2  0523  30\n",
       "3  0524  29\n",
       "4  0525  27\n",
       "5  0526  25\n",
       "6  0527  22\n",
       "7  0528  24\n",
       "8  0529  23\n",
       "9  0530  21"
      ]
     },
     "execution_count": 30,
     "metadata": {},
     "output_type": "execute_result"
    }
   ],
   "source": [
    "df"
   ]
  },
  {
   "cell_type": "code",
   "execution_count": 31,
   "id": "182e15b3-6bdf-4049-84bf-a10284c38083",
   "metadata": {},
   "outputs": [
    {
     "data": {
      "text/plain": [
       "index    0524\n",
       "0          29\n",
       "Name: 3, dtype: object"
      ]
     },
     "execution_count": 31,
     "metadata": {},
     "output_type": "execute_result"
    }
   ],
   "source": [
    "df.loc[3]    # this means: give me the row with index 3"
   ]
  },
  {
   "cell_type": "code",
   "execution_count": 32,
   "id": "e1400a99-4a89-4ad8-9103-8078e32893ff",
   "metadata": {},
   "outputs": [
    {
     "data": {
      "text/html": [
       "<div>\n",
       "<style scoped>\n",
       "    .dataframe tbody tr th:only-of-type {\n",
       "        vertical-align: middle;\n",
       "    }\n",
       "\n",
       "    .dataframe tbody tr th {\n",
       "        vertical-align: top;\n",
       "    }\n",
       "\n",
       "    .dataframe thead th {\n",
       "        text-align: right;\n",
       "    }\n",
       "</style>\n",
       "<table border=\"1\" class=\"dataframe\">\n",
       "  <thead>\n",
       "    <tr style=\"text-align: right;\">\n",
       "      <th></th>\n",
       "      <th>index</th>\n",
       "      <th>0</th>\n",
       "    </tr>\n",
       "  </thead>\n",
       "  <tbody>\n",
       "    <tr>\n",
       "      <th>3</th>\n",
       "      <td>0524</td>\n",
       "      <td>29</td>\n",
       "    </tr>\n",
       "    <tr>\n",
       "      <th>7</th>\n",
       "      <td>0528</td>\n",
       "      <td>24</td>\n",
       "    </tr>\n",
       "    <tr>\n",
       "      <th>2</th>\n",
       "      <td>0523</td>\n",
       "      <td>30</td>\n",
       "    </tr>\n",
       "  </tbody>\n",
       "</table>\n",
       "</div>"
      ],
      "text/plain": [
       "  index   0\n",
       "3  0524  29\n",
       "7  0528  24\n",
       "2  0523  30"
      ]
     },
     "execution_count": 32,
     "metadata": {},
     "output_type": "execute_result"
    }
   ],
   "source": [
    "df.loc[ [3, 7, 2] ]  # give me the three rows with indexes 3, 7, and 2"
   ]
  },
  {
   "cell_type": "code",
   "execution_count": 33,
   "id": "a387e676-0460-47a4-bd79-61347a315f93",
   "metadata": {},
   "outputs": [
    {
     "data": {
      "text/plain": [
       "0     True\n",
       "1     True\n",
       "2     True\n",
       "3     True\n",
       "4     True\n",
       "5    False\n",
       "6    False\n",
       "7    False\n",
       "8    False\n",
       "9    False\n",
       "Name: 0, dtype: bool"
      ]
     },
     "execution_count": 33,
     "metadata": {},
     "output_type": "execute_result"
    }
   ],
   "source": [
    "df[0] > df[0].mean()"
   ]
  },
  {
   "cell_type": "code",
   "execution_count": 34,
   "id": "441f4a1f-09a4-487c-ba71-798f6d3e8ca5",
   "metadata": {},
   "outputs": [
    {
     "data": {
      "text/plain": [
       "0    29\n",
       "1    31\n",
       "2    30\n",
       "3    29\n",
       "4    27\n",
       "Name: 0, dtype: int64"
      ]
     },
     "execution_count": 34,
     "metadata": {},
     "output_type": "execute_result"
    }
   ],
   "source": [
    "# let's apply a boolean index to df[0].loc as a mask index\n",
    "df[0].loc[    df[0] > df[0].mean()   ]"
   ]
  },
  {
   "cell_type": "markdown",
   "id": "1b5268a9-b4e4-42ca-bc00-bb0736b95a40",
   "metadata": {},
   "source": [
    "# `inplace=True`\n",
    "\n",
    "Many, *many* methods in Pandas don't modify their data, even though they are mutable. This is both because the core developers want to encourage us to use method chaining, and because it ensures that if multiple variables are referring to the same value, neither is surprised if the other odifies it.\n",
    "\n",
    "There is an option, on many Pandas methods, to pass `inplace=True` as a keyword argument. `set_index` is likely the first one we've encountered. This means that we have two choices:\n",
    "\n",
    "- If we keep the default, then `set_index` doesn't change the original data frame. Also, the method returns the new data frame.\n",
    "- If wwe pass `inplace=True`, then the method returns `None` (a special Python value) and the data frame itself is modified.\n",
    "\n",
    "Many people see this and say, \"I'll always use `inplace=True` because it's going to use less memory.\" This turns out to be completely false! You have no way of knowing how much memory Pandas is using, or what optimizations it's doing. The core Pandas developers have been begging people for years *not* to use `inplace=True`. But many still do."
   ]
  },
  {
   "cell_type": "code",
   "execution_count": null,
   "id": "1224813c-e783-40d7-8685-ea71c6e5e5ec",
   "metadata": {},
   "outputs": [],
   "source": [
    "(\n",
    "    df\n",
    "    .set_index('whatever')\n",
    "    .loc['thing']\n",
    "    .groupby('other')\n",
    ")"
   ]
  },
  {
   "cell_type": "code",
   "execution_count": 35,
   "id": "8f1ab526-6288-457a-90b3-25ef260ae2e8",
   "metadata": {},
   "outputs": [
    {
     "data": {
      "text/plain": [
       "0    10\n",
       "1    20\n",
       "2    30\n",
       "3    40\n",
       "4    50\n",
       "dtype: int64"
      ]
     },
     "execution_count": 35,
     "metadata": {},
     "output_type": "execute_result"
    }
   ],
   "source": [
    "# let's create a series\n",
    "\n",
    "s = Series([10, 20, 30 ,40, 50])\n",
    "s"
   ]
  },
  {
   "cell_type": "markdown",
   "id": "7f0de5a9-5c4c-44a2-8020-2d09d671d36c",
   "metadata": {},
   "source": [
    "# What does it mean for the `dtype` to be `int64`?\n",
    "\n",
    "Remmber that all of the values in Pandas are stored in NumPy, and that NumPy stores its values in C.\n",
    "\n",
    "C doesn't have Python integers. It has 8-bit, 16-bit, 32-bit, and 64-bit integers. Every value in a series must have the same dtype -- the type of value that C is using for your data.\n",
    "\n",
    "If you have a dtype of np.int64, you have 8-byte values you can use to describe your ints.\n",
    "\n",
    "That's the default!\n",
    "\n",
    "But... there are problems with that. For example, they're huge! Why not use something smaller?\n",
    "\n",
    "What's where setting the dtype comes in -- it makes your data much smaller, and thus easier to analayze.\n",
    "\n",
    "1. How can we get the dtype of a series?\n",
    "2. How can set the dtype when we creates the series?\n",
    "3. How can modify the dtype of a series?"
   ]
  },
  {
   "cell_type": "code",
   "execution_count": 36,
   "id": "bada7966-219f-4f02-96d8-317fd3c86dbe",
   "metadata": {},
   "outputs": [
    {
     "data": {
      "text/plain": [
       "dtype('int64')"
      ]
     },
     "execution_count": 36,
     "metadata": {},
     "output_type": "execute_result"
    }
   ],
   "source": [
    "# we can get the dtype of a series with the .dtype attribute\n",
    "\n",
    "s.dtype"
   ]
  },
  {
   "cell_type": "code",
   "execution_count": 38,
   "id": "4a2c686d-0719-4bd1-8be6-6ba5a3732a85",
   "metadata": {},
   "outputs": [
    {
     "data": {
      "text/plain": [
       "0    10\n",
       "1    20\n",
       "2    30\n",
       "3    40\n",
       "4    50\n",
       "dtype: int32"
      ]
     },
     "execution_count": 38,
     "metadata": {},
     "output_type": "execute_result"
    }
   ],
   "source": [
    "# set the dtype at creation time\n",
    "\n",
    "s = Series([10, 20, 30, 40, 50], \n",
    "            dtype=np.int32)\n",
    "s"
   ]
  },
  {
   "cell_type": "code",
   "execution_count": 39,
   "id": "2add74df-54f8-48d4-bca0-fadb2ffff465",
   "metadata": {},
   "outputs": [
    {
     "data": {
      "text/plain": [
       "0    10\n",
       "1    20\n",
       "2    30\n",
       "3    40\n",
       "4    50\n",
       "dtype: int8"
      ]
     },
     "execution_count": 39,
     "metadata": {},
     "output_type": "execute_result"
    }
   ],
   "source": [
    "# what else do we have?\n",
    "s = Series([10, 20, 30, 40, 50],\n",
    "           dtype=np.int8)\n",
    "s"
   ]
  },
  {
   "cell_type": "markdown",
   "id": "09520a7c-b3a1-40a6-9259-c19c5e65b928",
   "metadata": {},
   "source": [
    "# What dtypes are available?\n",
    "\n",
    "- Integer\n",
    "    - `int64`\n",
    "    - `int32`\n",
    "    - `int16`\n",
    "    - `int8`\n",
    " \n",
    "- Floats\n",
    "    - `float64`\n",
    "    - `float32`\n",
    "    - `float16`\n",
    "- Strings\n",
    "    - `object` (because they're Python objects)\n",
    "    "
   ]
  },
  {
   "cell_type": "code",
   "execution_count": 42,
   "id": "3a11a795-bbea-4b05-9a00-2a7471c998c8",
   "metadata": {},
   "outputs": [
    {
     "data": {
      "text/plain": [
       "0    10\n",
       "1    20\n",
       "2    30\n",
       "3    40\n",
       "4    50\n",
       "dtype: int8"
      ]
     },
     "execution_count": 42,
     "metadata": {},
     "output_type": "execute_result"
    }
   ],
   "source": [
    "s"
   ]
  },
  {
   "cell_type": "code",
   "execution_count": 44,
   "id": "c8255594-d924-4e34-a267-a7930edd836c",
   "metadata": {},
   "outputs": [
    {
     "data": {
      "text/plain": [
       "0    15\n",
       "1    25\n",
       "2    35\n",
       "3    45\n",
       "4    55\n",
       "dtype: int8"
      ]
     },
     "execution_count": 44,
     "metadata": {},
     "output_type": "execute_result"
    }
   ],
   "source": [
    "s + 5   # broadcasting"
   ]
  },
  {
   "cell_type": "code",
   "execution_count": 45,
   "id": "4745a82b-c837-42e9-9a63-4dcb57f69b62",
   "metadata": {},
   "outputs": [
    {
     "data": {
      "text/plain": [
       "0    -24\n",
       "1    -48\n",
       "2    -72\n",
       "3    -96\n",
       "4   -120\n",
       "dtype: int8"
      ]
     },
     "execution_count": 45,
     "metadata": {},
     "output_type": "execute_result"
    }
   ],
   "source": [
    "s * 100"
   ]
  },
  {
   "cell_type": "code",
   "execution_count": 46,
   "id": "d4f7e498-c112-43f9-be40-b3b40116cfe3",
   "metadata": {},
   "outputs": [
    {
     "data": {
      "text/plain": [
       "800000000"
      ]
     },
     "execution_count": 46,
     "metadata": {},
     "output_type": "execute_result"
    }
   ],
   "source": [
    "100_000_000 * 8"
   ]
  },
  {
   "cell_type": "code",
   "execution_count": 47,
   "id": "e27d4efa-780c-40b5-8133-adeff5c99c13",
   "metadata": {},
   "outputs": [
    {
     "data": {
      "text/plain": [
       "400000000"
      ]
     },
     "execution_count": 47,
     "metadata": {},
     "output_type": "execute_result"
    }
   ],
   "source": [
    "100_000_000 * 4"
   ]
  },
  {
   "cell_type": "markdown",
   "id": "ec707cda-527b-4f7f-801a-377ae3d12044",
   "metadata": {},
   "source": [
    "# Exercise: Setting dtypes\n",
    "\n",
    "1. Create a series of 10 integers with a-j as the index. Then multiply the first and last values by 1,000. Is the dtype adequate? Is it too big? What would be best?\n",
    "2. Create a series of float values from 1-100 with the dtype `np.float64`. Is this too big? "
   ]
  },
  {
   "cell_type": "code",
   "execution_count": null,
   "id": "e2f358d4-412c-4606-887d-acb4613dc820",
   "metadata": {},
   "outputs": [],
   "source": []
  }
 ],
 "metadata": {
  "kernelspec": {
   "display_name": "Python 3 (ipykernel)",
   "language": "python",
   "name": "python3"
  },
  "language_info": {
   "codemirror_mode": {
    "name": "ipython",
    "version": 3
   },
   "file_extension": ".py",
   "mimetype": "text/x-python",
   "name": "python",
   "nbconvert_exporter": "python",
   "pygments_lexer": "ipython3",
   "version": "3.12.3"
  }
 },
 "nbformat": 4,
 "nbformat_minor": 5
}
