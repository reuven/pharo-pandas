{
 "cells": [
  {
   "cell_type": "markdown",
   "id": "ba4474f4-eed9-4f41-845c-f5a0fbe7cf87",
   "metadata": {},
   "source": [
    "# Agenda: Grouping\n",
    "\n",
    "1. Simple grouping\n",
    "2. More complex grouping\n",
    "    - More than one grouping column\n",
    "    - More than one calculating column\n",
    "    - More than one aggregation method\n",
    "3. Pivot tables (2D grouping)\n",
    "4. Moving rows to columns and back"
   ]
  },
  {
   "cell_type": "code",
   "execution_count": null,
   "id": "1d1c294e-402e-427c-8676-0d7ea76fd961",
   "metadata": {},
   "outputs": [],
   "source": []
  }
 ],
 "metadata": {
  "kernelspec": {
   "display_name": "Python 3 (ipykernel)",
   "language": "python",
   "name": "python3"
  },
  "language_info": {
   "codemirror_mode": {
    "name": "ipython",
    "version": 3
   },
   "file_extension": ".py",
   "mimetype": "text/x-python",
   "name": "python",
   "nbconvert_exporter": "python",
   "pygments_lexer": "ipython3",
   "version": "3.12.3"
  }
 },
 "nbformat": 4,
 "nbformat_minor": 5
}
