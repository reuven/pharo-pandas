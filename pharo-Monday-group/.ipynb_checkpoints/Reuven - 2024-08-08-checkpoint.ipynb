{
 "cells": [
  {
   "cell_type": "markdown",
   "id": "9823912c-7047-43c4-b079-167bec0a33ec",
   "metadata": {},
   "source": [
    "# Agenda: Plotting\n",
    "\n",
    "1. Plotting with series\n",
    "    - Line plots\n",
    "    - Bar plots\n",
    "    - Pie plots\n",
    "    - Box plots\n",
    "    - Histograms\n",
    "2. Plotting with a data frame\n",
    "    - All of the above , plus\n",
    "    - Scatter plots\n"
   ]
  },
  {
   "cell_type": "code",
   "execution_count": null,
   "id": "b84b9152-02ac-40c0-a763-3be31b1baa19",
   "metadata": {},
   "outputs": [],
   "source": []
  }
 ],
 "metadata": {
  "kernelspec": {
   "display_name": "Python 3 (ipykernel)",
   "language": "python",
   "name": "python3"
  },
  "language_info": {
   "codemirror_mode": {
    "name": "ipython",
    "version": 3
   },
   "file_extension": ".py",
   "mimetype": "text/x-python",
   "name": "python",
   "nbconvert_exporter": "python",
   "pygments_lexer": "ipython3",
   "version": "3.12.3"
  }
 },
 "nbformat": 4,
 "nbformat_minor": 5
}
