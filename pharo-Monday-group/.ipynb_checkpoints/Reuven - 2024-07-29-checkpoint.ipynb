{
 "cells": [
  {
   "cell_type": "markdown",
   "id": "2fb536d9-0ee1-4de2-bbcb-dd1b7b4e543d",
   "metadata": {},
   "source": [
    "# Agenda: Dates and times\n",
    "\n",
    "1. Background theory\n",
    "2. How to turn a series/column into datetime info\n",
    "3. Calculations we can perform\n",
    "4. Datetime columns as our index ('time series')"
   ]
  },
  {
   "cell_type": "code",
   "execution_count": null,
   "id": "bff80c09-e4a7-4107-b07e-b24afef1b1f0",
   "metadata": {},
   "outputs": [],
   "source": []
  }
 ],
 "metadata": {
  "kernelspec": {
   "display_name": "Python 3 (ipykernel)",
   "language": "python",
   "name": "python3"
  },
  "language_info": {
   "codemirror_mode": {
    "name": "ipython",
    "version": 3
   },
   "file_extension": ".py",
   "mimetype": "text/x-python",
   "name": "python",
   "nbconvert_exporter": "python",
   "pygments_lexer": "ipython3",
   "version": "3.12.3"
  }
 },
 "nbformat": 4,
 "nbformat_minor": 5
}
