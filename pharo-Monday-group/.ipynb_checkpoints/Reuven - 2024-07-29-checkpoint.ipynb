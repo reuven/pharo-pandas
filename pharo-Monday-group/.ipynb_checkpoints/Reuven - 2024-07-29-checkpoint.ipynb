{
 "cells": [
  {
   "cell_type": "markdown",
   "id": "2fb536d9-0ee1-4de2-bbcb-dd1b7b4e543d",
   "metadata": {},
   "source": [
    "# Agenda: Dates and times\n",
    "\n",
    "1. Background theory\n",
    "2. How to turn a series/column into datetime info\n",
    "3. Calculations we can perform\n",
    "4. Datetime columns as our index ('time series')"
   ]
  },
  {
   "cell_type": "markdown",
   "id": "2aa1489f-a0f6-4915-b681-532550303f7b",
   "metadata": {},
   "source": [
    "# Background\n",
    "\n",
    "When we talk about time, we might mean either of the two following things:\n",
    "\n",
    "1. One particular point in time. It has a unique year/month/day, hour/minute/second. Examples: Time of birth. Time of death. Graduation. When a meeting starts. These points in time are unique. These are known as `datetime` or `timestamp` values in different programming languges and databases.\n",
    "2. A span of time, between two points. This isn't unique, and doesn't have a year/month/day, but it does have a volume, which we measure with minutes, seconds, hours, years, etc. This describes a lifespan, or the amount of time you were in school, or how long a meeting went. These are known as `timedeltas` or `intervals` in programming languages and systems.\n",
    "\n",
    "Date math:\n",
    "- `timestamp` - `timestamp` = `timedelta`\n",
    "- `timestamp` + `timedelta` = `timestamp`\n",
    "- `timestamp` - `timedelta` = `timestamp`\n",
    "\n"
   ]
  },
  {
   "cell_type": "code",
   "execution_count": 3,
   "id": "0c3f2caf-6e25-4b30-a3f8-bcfe40b86318",
   "metadata": {},
   "outputs": [],
   "source": [
    "import pandas as pd\n",
    "\n",
    "filename = '../data/taxi.csv'\n",
    "df = pd.read_csv(filename)"
   ]
  },
  {
   "cell_type": "code",
   "execution_count": null,
   "id": "da7a984b-b53a-4dac-a970-c8232207474b",
   "metadata": {},
   "outputs": [],
   "source": []
  }
 ],
 "metadata": {
  "kernelspec": {
   "display_name": "Python 3 (ipykernel)",
   "language": "python",
   "name": "python3"
  },
  "language_info": {
   "codemirror_mode": {
    "name": "ipython",
    "version": 3
   },
   "file_extension": ".py",
   "mimetype": "text/x-python",
   "name": "python",
   "nbconvert_exporter": "python",
   "pygments_lexer": "ipython3",
   "version": "3.12.3"
  }
 },
 "nbformat": 4,
 "nbformat_minor": 5
}
