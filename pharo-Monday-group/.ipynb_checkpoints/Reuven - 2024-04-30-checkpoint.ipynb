{
 "cells": [
  {
   "cell_type": "code",
   "execution_count": 1,
   "id": "3a711aa9",
   "metadata": {},
   "outputs": [
    {
     "name": "stdout",
     "output_type": "stream",
     "text": [
      "Hello, world!\n"
     ]
    }
   ],
   "source": [
    "print('Hello, world!')   # if I type into Jupyter, it's considered to be Python code\n",
    " \n",
    "    \n",
    "# I can type whatever I want\n",
    "# when I want to execute the cell, I use shift+Enter"
   ]
  },
  {
   "cell_type": "markdown",
   "id": "dec04080",
   "metadata": {},
   "source": [
    "# Exercise: Set up a new notebook\n",
    "\n",
    "1. Go to https://pharo.lerner.co.il\n",
    "2. Navigate to the \"Monday group\" folder\n",
    "3. Create a new Python 3 notebook\n",
    "4. Click on the title, and rename it to reflect your name and the date\n",
    "5. Write a trivial piece of Python code, and execute it with shift+Enter"
   ]
  },
  {
   "cell_type": "markdown",
   "id": "91bcd292",
   "metadata": {},
   "source": [
    "# Very fast intro to Jupyter\n",
    "\n",
    "Everything in Jupyter happens in a \"cell.\" I'm typing into a cell right now. When we type into a cell, it can be in one of two modes:\n",
    "\n",
    "- Edit mode (like right now), where text goes into the cell. I can enter edit mode by clicking on the cell's contents or by pressing ENTER. This allows me to type.\n",
    "- Command mode, where typing tells Jupyter what to do, typically with one-character commands. You can enter command mode by clicking to the left of the cell or by pressing ESC.\n",
    "\n",
    "What commands do I have in command mode?\n",
    "- `c` -- copy the current cell\n",
    "- `x` -- cut the current cell\n",
    "- `v` -- paste the most recently cut/copied cell\n",
    "- `a` -- create a new cell *above* the current one\n",
    "- `b` -- create a new cell *below* the current one\n",
    "- `y` -- turn the current cell into a Python code cell\n",
    "- `m` -- turns the current cell into Markdown text formatting (like right now)"
   ]
  },
  {
   "cell_type": "code",
   "execution_count": null,
   "id": "84e3a28f",
   "metadata": {},
   "outputs": [],
   "source": []
  },
  {
   "cell_type": "markdown",
   "id": "b9c77137",
   "metadata": {},
   "source": [
    "# Very fast intro to Jupyter\n",
    "\n",
    "Everything in Jupyter happens in a \"cell.\" I'm typing into a cell right now. When we type into a cell, it can be in one of two modes:\n",
    "\n",
    "- Edit mode (like right now), where text goes into the cell. I can enter edit mode by clicking on the cell's contents or by pressing ENTER. This allows me to type.\n",
    "- Command mode, where typing tells Jupyter what to do, typically with one-character commands. You can enter command mode by clicking to the left of the cell or by pressing ESC.\n",
    "\n",
    "What commands do I have in command mode?\n",
    "- `c` -- copy the current cell\n",
    "- `x` -- cut the current cell\n",
    "- `v` -- paste the most recently cut/copied cell\n",
    "- `a` -- create a new cell *above* the current one\n",
    "- `b` -- create a new cell *below* the current one\n",
    "- `y` -- turn the current cell into a Python code cell\n",
    "- `m` -- turns the current cell into Markdown text formatting (like right now)"
   ]
  },
  {
   "cell_type": "code",
   "execution_count": null,
   "id": "0e1ab86f",
   "metadata": {},
   "outputs": [],
   "source": []
  },
  {
   "cell_type": "code",
   "execution_count": 2,
   "id": "d1e1f0d3",
   "metadata": {},
   "outputs": [
    {
     "name": "stdout",
     "output_type": "stream",
     "text": [
      "300\n"
     ]
    }
   ],
   "source": [
    "x = 100\n",
    "y = 200\n",
    "\n",
    "print(x+y)"
   ]
  },
  {
   "cell_type": "code",
   "execution_count": 3,
   "id": "89b6b7f6",
   "metadata": {},
   "outputs": [
    {
     "data": {
      "text/plain": [
       "100"
      ]
     },
     "execution_count": 3,
     "metadata": {},
     "output_type": "execute_result"
    }
   ],
   "source": [
    "x"
   ]
  },
  {
   "cell_type": "code",
   "execution_count": 4,
   "id": "133544b5",
   "metadata": {},
   "outputs": [
    {
     "data": {
      "text/plain": [
       "200"
      ]
     },
     "execution_count": 4,
     "metadata": {},
     "output_type": "execute_result"
    }
   ],
   "source": [
    "y"
   ]
  },
  {
   "cell_type": "code",
   "execution_count": 5,
   "id": "fb61f600",
   "metadata": {},
   "outputs": [],
   "source": [
    "# if the final line of a Python cell is an expression, and if it returns a non-None value\n",
    "# then it simply returns and displays the expression's value"
   ]
  },
  {
   "cell_type": "code",
   "execution_count": 6,
   "id": "c5974d1c",
   "metadata": {},
   "outputs": [
    {
     "data": {
      "text/plain": [
       "20000"
      ]
     },
     "execution_count": 6,
     "metadata": {},
     "output_type": "execute_result"
    }
   ],
   "source": [
    "x * y"
   ]
  },
  {
   "cell_type": "code",
   "execution_count": null,
   "id": "ed615e7a",
   "metadata": {},
   "outputs": [],
   "source": []
  }
 ],
 "metadata": {
  "kernelspec": {
   "display_name": "Python 3 (ipykernel)",
   "language": "python",
   "name": "python3"
  },
  "language_info": {
   "codemirror_mode": {
    "name": "ipython",
    "version": 3
   },
   "file_extension": ".py",
   "mimetype": "text/x-python",
   "name": "python",
   "nbconvert_exporter": "python",
   "pygments_lexer": "ipython3",
   "version": "3.11.6"
  }
 },
 "nbformat": 4,
 "nbformat_minor": 5
}
