{
 "cells": [
  {
   "cell_type": "code",
   "execution_count": null,
   "id": "a07b518b-4544-4cb7-8605-c41d8d3c7825",
   "metadata": {},
   "outputs": [],
   "source": [
    "df = dataframe(['60','70'],\n",
    "               ['55','80'],\n",
    "               ['75','85'],\n",
    "               ['80','90'],\n",
    "               ['85','95'],\n",
    "               ['90','100'],\n",
    "               ['60','65'])\n",
    "               \n",
    "                "
   ]
  }
 ],
 "metadata": {
  "kernelspec": {
   "display_name": "Python 3 (ipykernel)",
   "language": "python",
   "name": "python3"
  },
  "language_info": {
   "codemirror_mode": {
    "name": "ipython",
    "version": 3
   },
   "file_extension": ".py",
   "mimetype": "text/x-python",
   "name": "python",
   "nbconvert_exporter": "python",
   "pygments_lexer": "ipython3",
   "version": "3.12.3"
  }
 },
 "nbformat": 4,
 "nbformat_minor": 5
}
