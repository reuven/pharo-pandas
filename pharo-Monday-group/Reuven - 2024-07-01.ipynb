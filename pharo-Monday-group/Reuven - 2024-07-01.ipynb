{
 "cells": [
  {
   "cell_type": "markdown",
   "id": "ba4474f4-eed9-4f41-845c-f5a0fbe7cf87",
   "metadata": {},
   "source": [
    "# Agenda: Grouping\n",
    "\n",
    "1. Simple grouping\n",
    "2. More complex grouping\n",
    "    - More than one grouping column\n",
    "    - More than one calculating column\n",
    "    - More than one aggregation method\n",
    "3. Pivot tables (2D grouping)\n",
    "4. Moving rows to columns and back"
   ]
  },
  {
   "cell_type": "code",
   "execution_count": 1,
   "id": "1d1c294e-402e-427c-8676-0d7ea76fd961",
   "metadata": {},
   "outputs": [],
   "source": [
    "import numpy as np\n",
    "import pandas as pd\n",
    "from pandas import Series, DataFrame"
   ]
  },
  {
   "cell_type": "code",
   "execution_count": 2,
   "id": "5d9277bc-eaff-48da-bff7-c3481ea78476",
   "metadata": {},
   "outputs": [],
   "source": [
    "filename = '../data/taxi.csv'\n",
    "\n",
    "df = pd.read_csv(filename)"
   ]
  },
  {
   "cell_type": "code",
   "execution_count": 3,
   "id": "6c095626-b985-495e-b8c4-ecd13d97a209",
   "metadata": {},
   "outputs": [
    {
     "data": {
      "text/html": [
       "<div>\n",
       "<style scoped>\n",
       "    .dataframe tbody tr th:only-of-type {\n",
       "        vertical-align: middle;\n",
       "    }\n",
       "\n",
       "    .dataframe tbody tr th {\n",
       "        vertical-align: top;\n",
       "    }\n",
       "\n",
       "    .dataframe thead th {\n",
       "        text-align: right;\n",
       "    }\n",
       "</style>\n",
       "<table border=\"1\" class=\"dataframe\">\n",
       "  <thead>\n",
       "    <tr style=\"text-align: right;\">\n",
       "      <th></th>\n",
       "      <th>VendorID</th>\n",
       "      <th>tpep_pickup_datetime</th>\n",
       "      <th>tpep_dropoff_datetime</th>\n",
       "      <th>passenger_count</th>\n",
       "      <th>trip_distance</th>\n",
       "      <th>pickup_longitude</th>\n",
       "      <th>pickup_latitude</th>\n",
       "      <th>RateCodeID</th>\n",
       "      <th>store_and_fwd_flag</th>\n",
       "      <th>dropoff_longitude</th>\n",
       "      <th>dropoff_latitude</th>\n",
       "      <th>payment_type</th>\n",
       "      <th>fare_amount</th>\n",
       "      <th>extra</th>\n",
       "      <th>mta_tax</th>\n",
       "      <th>tip_amount</th>\n",
       "      <th>tolls_amount</th>\n",
       "      <th>improvement_surcharge</th>\n",
       "      <th>total_amount</th>\n",
       "    </tr>\n",
       "  </thead>\n",
       "  <tbody>\n",
       "    <tr>\n",
       "      <th>0</th>\n",
       "      <td>2</td>\n",
       "      <td>2015-06-02 11:19:29</td>\n",
       "      <td>2015-06-02 11:47:52</td>\n",
       "      <td>1</td>\n",
       "      <td>1.63</td>\n",
       "      <td>-73.954430</td>\n",
       "      <td>40.764141</td>\n",
       "      <td>1</td>\n",
       "      <td>N</td>\n",
       "      <td>-73.974754</td>\n",
       "      <td>40.754093</td>\n",
       "      <td>2</td>\n",
       "      <td>17.0</td>\n",
       "      <td>0.0</td>\n",
       "      <td>0.5</td>\n",
       "      <td>0.00</td>\n",
       "      <td>0.0</td>\n",
       "      <td>0.3</td>\n",
       "      <td>17.80</td>\n",
       "    </tr>\n",
       "    <tr>\n",
       "      <th>1</th>\n",
       "      <td>2</td>\n",
       "      <td>2015-06-02 11:19:30</td>\n",
       "      <td>2015-06-02 11:27:56</td>\n",
       "      <td>1</td>\n",
       "      <td>0.46</td>\n",
       "      <td>-73.971443</td>\n",
       "      <td>40.758942</td>\n",
       "      <td>1</td>\n",
       "      <td>N</td>\n",
       "      <td>-73.978539</td>\n",
       "      <td>40.761909</td>\n",
       "      <td>1</td>\n",
       "      <td>6.5</td>\n",
       "      <td>0.0</td>\n",
       "      <td>0.5</td>\n",
       "      <td>1.00</td>\n",
       "      <td>0.0</td>\n",
       "      <td>0.3</td>\n",
       "      <td>8.30</td>\n",
       "    </tr>\n",
       "    <tr>\n",
       "      <th>2</th>\n",
       "      <td>2</td>\n",
       "      <td>2015-06-02 11:19:31</td>\n",
       "      <td>2015-06-02 11:30:30</td>\n",
       "      <td>1</td>\n",
       "      <td>0.87</td>\n",
       "      <td>-73.978111</td>\n",
       "      <td>40.738434</td>\n",
       "      <td>1</td>\n",
       "      <td>N</td>\n",
       "      <td>-73.990273</td>\n",
       "      <td>40.745438</td>\n",
       "      <td>1</td>\n",
       "      <td>8.0</td>\n",
       "      <td>0.0</td>\n",
       "      <td>0.5</td>\n",
       "      <td>2.20</td>\n",
       "      <td>0.0</td>\n",
       "      <td>0.3</td>\n",
       "      <td>11.00</td>\n",
       "    </tr>\n",
       "    <tr>\n",
       "      <th>3</th>\n",
       "      <td>2</td>\n",
       "      <td>2015-06-02 11:19:31</td>\n",
       "      <td>2015-06-02 11:39:02</td>\n",
       "      <td>1</td>\n",
       "      <td>2.13</td>\n",
       "      <td>-73.945892</td>\n",
       "      <td>40.773529</td>\n",
       "      <td>1</td>\n",
       "      <td>N</td>\n",
       "      <td>-73.971527</td>\n",
       "      <td>40.760330</td>\n",
       "      <td>1</td>\n",
       "      <td>13.5</td>\n",
       "      <td>0.0</td>\n",
       "      <td>0.5</td>\n",
       "      <td>2.86</td>\n",
       "      <td>0.0</td>\n",
       "      <td>0.3</td>\n",
       "      <td>17.16</td>\n",
       "    </tr>\n",
       "    <tr>\n",
       "      <th>4</th>\n",
       "      <td>1</td>\n",
       "      <td>2015-06-02 11:19:32</td>\n",
       "      <td>2015-06-02 11:32:49</td>\n",
       "      <td>1</td>\n",
       "      <td>1.40</td>\n",
       "      <td>-73.979088</td>\n",
       "      <td>40.776772</td>\n",
       "      <td>1</td>\n",
       "      <td>N</td>\n",
       "      <td>-73.982162</td>\n",
       "      <td>40.758999</td>\n",
       "      <td>2</td>\n",
       "      <td>9.5</td>\n",
       "      <td>0.0</td>\n",
       "      <td>0.5</td>\n",
       "      <td>0.00</td>\n",
       "      <td>0.0</td>\n",
       "      <td>0.3</td>\n",
       "      <td>10.30</td>\n",
       "    </tr>\n",
       "  </tbody>\n",
       "</table>\n",
       "</div>"
      ],
      "text/plain": [
       "   VendorID tpep_pickup_datetime tpep_dropoff_datetime  passenger_count  \\\n",
       "0         2  2015-06-02 11:19:29   2015-06-02 11:47:52                1   \n",
       "1         2  2015-06-02 11:19:30   2015-06-02 11:27:56                1   \n",
       "2         2  2015-06-02 11:19:31   2015-06-02 11:30:30                1   \n",
       "3         2  2015-06-02 11:19:31   2015-06-02 11:39:02                1   \n",
       "4         1  2015-06-02 11:19:32   2015-06-02 11:32:49                1   \n",
       "\n",
       "   trip_distance  pickup_longitude  pickup_latitude  RateCodeID  \\\n",
       "0           1.63        -73.954430        40.764141           1   \n",
       "1           0.46        -73.971443        40.758942           1   \n",
       "2           0.87        -73.978111        40.738434           1   \n",
       "3           2.13        -73.945892        40.773529           1   \n",
       "4           1.40        -73.979088        40.776772           1   \n",
       "\n",
       "  store_and_fwd_flag  dropoff_longitude  dropoff_latitude  payment_type  \\\n",
       "0                  N         -73.974754         40.754093             2   \n",
       "1                  N         -73.978539         40.761909             1   \n",
       "2                  N         -73.990273         40.745438             1   \n",
       "3                  N         -73.971527         40.760330             1   \n",
       "4                  N         -73.982162         40.758999             2   \n",
       "\n",
       "   fare_amount  extra  mta_tax  tip_amount  tolls_amount  \\\n",
       "0         17.0    0.0      0.5        0.00           0.0   \n",
       "1          6.5    0.0      0.5        1.00           0.0   \n",
       "2          8.0    0.0      0.5        2.20           0.0   \n",
       "3         13.5    0.0      0.5        2.86           0.0   \n",
       "4          9.5    0.0      0.5        0.00           0.0   \n",
       "\n",
       "   improvement_surcharge  total_amount  \n",
       "0                    0.3         17.80  \n",
       "1                    0.3          8.30  \n",
       "2                    0.3         11.00  \n",
       "3                    0.3         17.16  \n",
       "4                    0.3         10.30  "
      ]
     },
     "execution_count": 3,
     "metadata": {},
     "output_type": "execute_result"
    }
   ],
   "source": [
    "df.head()"
   ]
  },
  {
   "cell_type": "code",
   "execution_count": 6,
   "id": "206e21ff-aa7b-4fca-859b-04f8f1367606",
   "metadata": {},
   "outputs": [
    {
     "data": {
      "text/plain": [
       "3.0923380047176354"
      ]
     },
     "execution_count": 6,
     "metadata": {},
     "output_type": "execute_result"
    }
   ],
   "source": [
    "# I want to find out the mean trip_distance where passenger_count is 1\n",
    "\n",
    "df.loc[  \n",
    "    df['passenger_count'] == 1   # row selector\n",
    "    ,\n",
    "    'trip_distance' # column selector\n",
    "].mean()"
   ]
  },
  {
   "cell_type": "code",
   "execution_count": 7,
   "id": "561039a6-45bb-4eff-8c58-fe44b017c1f6",
   "metadata": {},
   "outputs": [
    {
     "data": {
      "text/plain": [
       "3.3843869002284848"
      ]
     },
     "execution_count": 7,
     "metadata": {},
     "output_type": "execute_result"
    }
   ],
   "source": [
    "# find out the mean trip_distance where passenger_count is 2\n",
    "\n",
    "df.loc[  \n",
    "    df['passenger_count'] == 2   # row selector\n",
    "    ,\n",
    "    'trip_distance' # column selector\n",
    "].mean()"
   ]
  },
  {
   "cell_type": "code",
   "execution_count": 8,
   "id": "f2a37edb-fbbe-421b-9cda-1eb9b8c78429",
   "metadata": {},
   "outputs": [
    {
     "data": {
      "text/plain": [
       "3.3423891625615765"
      ]
     },
     "execution_count": 8,
     "metadata": {},
     "output_type": "execute_result"
    }
   ],
   "source": [
    "# find out the mean trip_distance where passenger_count is 3\n",
    "\n",
    "df.loc[  \n",
    "    df['passenger_count'] == 3   # row selector\n",
    "    ,\n",
    "    'trip_distance' # column selector\n",
    "].mean()"
   ]
  },
  {
   "cell_type": "code",
   "execution_count": 9,
   "id": "8f8d918e-f919-466f-8889-c2cddf3303ae",
   "metadata": {},
   "outputs": [
    {
     "data": {
      "text/plain": [
       "passenger_count\n",
       "0    4.600000\n",
       "1    3.092338\n",
       "2    3.384387\n",
       "3    3.342389\n",
       "4    3.628901\n",
       "5    3.182712\n",
       "6    3.170976\n",
       "Name: trip_distance, dtype: float64"
      ]
     },
     "execution_count": 9,
     "metadata": {},
     "output_type": "execute_result"
    }
   ],
   "source": [
    "# what we really want is: For every unique value of passenger_count,\n",
    "# calculate the mean of trip_distance on those rows\n",
    "\n",
    "# this is the essence of *grouping*\n",
    "\n",
    "# - we have an aggregation method\n",
    "# - we want to run it on a numeric column\n",
    "# - we want to get a separate result for each unique value of a categorical column\n",
    "\n",
    "# the syntax is:\n",
    "\n",
    "# .groupby(categorical_column)[numeric_column].agg_method()\n",
    "df.groupby('passenger_count')['trip_distance'].mean()"
   ]
  },
  {
   "cell_type": "code",
   "execution_count": 10,
   "id": "026030ef-b1a8-4775-b60f-545f20632f6e",
   "metadata": {},
   "outputs": [
    {
     "data": {
      "text/plain": [
       "<pandas.core.groupby.generic.SeriesGroupBy object at 0x7f0e8314e060>"
      ]
     },
     "execution_count": 10,
     "metadata": {},
     "output_type": "execute_result"
    }
   ],
   "source": [
    "# what does this give me?\n",
    "df.groupby('passenger_count')['trip_distance']"
   ]
  },
  {
   "cell_type": "code",
   "execution_count": 11,
   "id": "51965d57-e921-4e6a-9481-4a09caf28e85",
   "metadata": {},
   "outputs": [
    {
     "data": {
      "text/plain": [
       "passenger_count\n",
       "0    4.666905\n",
       "1    4.020187\n",
       "2    4.242826\n",
       "3    3.822041\n",
       "4    4.351369\n",
       "5    3.969468\n",
       "6    3.759807\n",
       "Name: trip_distance, dtype: float64"
      ]
     },
     "execution_count": 11,
     "metadata": {},
     "output_type": "execute_result"
    }
   ],
   "source": [
    "df.groupby('passenger_count')['trip_distance'].std()   # standard deviation"
   ]
  },
  {
   "cell_type": "code",
   "execution_count": 13,
   "id": "c884e9e0-6c2d-4d1c-b1e1-84b9f0943208",
   "metadata": {},
   "outputs": [],
   "source": [
    "# we can try other categorical columns\n",
    "\n",
    "df['tip_percentage'] = df['tip_amount'] / df['total_amount']   # let's add a new column indicating the percentage of tip"
   ]
  },
  {
   "cell_type": "code",
   "execution_count": 16,
   "id": "7639d249-5760-4425-b40e-a72362e689aa",
   "metadata": {},
   "outputs": [
    {
     "data": {
      "text/plain": [
       "passenger_count\n",
       "0    0.183127\n",
       "1    0.092880\n",
       "2    0.088309\n",
       "3    0.087368\n",
       "4    0.077067\n",
       "5    0.094349\n",
       "6    0.086075\n",
       "Name: tip_percentage, dtype: float64"
      ]
     },
     "execution_count": 16,
     "metadata": {},
     "output_type": "execute_result"
    }
   ],
   "source": [
    "# now let's see if the percentage changes per passenger_count\n",
    "\n",
    "df.groupby('passenger_count')['tip_percentage'].mean()"
   ]
  },
  {
   "cell_type": "code",
   "execution_count": 17,
   "id": "95b534b9-33ba-4a11-94d5-945bd59d058b",
   "metadata": {},
   "outputs": [
    {
     "data": {
      "text/plain": [
       "VendorID\n",
       "1    0.091538\n",
       "2    0.091680\n",
       "Name: tip_percentage, dtype: float64"
      ]
     },
     "execution_count": 17,
     "metadata": {},
     "output_type": "execute_result"
    }
   ],
   "source": [
    "# do we see different tip percentages according to the manufacturer of the computer in the taxi?\n",
    "df.groupby('VendorID')['tip_percentage'].mean()"
   ]
  },
  {
   "cell_type": "markdown",
   "id": "51ea6ff7-b0bb-45d7-b518-ef5713659d5a",
   "metadata": {},
   "source": [
    "# Why not sort the `groupby` results?\n",
    "\n",
    "1. If you're going to be sorting by values immediately after, why waste the time/CPU?\n",
    "2. The sorting does take some time - -maybe you don't want to waste on that"
   ]
  },
  {
   "cell_type": "code",
   "execution_count": 18,
   "id": "f306fa81-ab2e-4474-af1e-bf68e8bccc7b",
   "metadata": {},
   "outputs": [
    {
     "data": {
      "text/plain": [
       "trip_distance\n",
       "0.00      31.58194\n",
       "0.01      52.80000\n",
       "0.02      43.46000\n",
       "0.03       3.96000\n",
       "0.04      70.01000\n",
       "           ...    \n",
       "34.84    137.59000\n",
       "35.51    135.13000\n",
       "37.20    210.14000\n",
       "60.30    160.05000\n",
       "64.60     79.96000\n",
       "Name: total_amount, Length: 1219, dtype: float64"
      ]
     },
     "execution_count": 18,
     "metadata": {},
     "output_type": "execute_result"
    }
   ],
   "source": [
    "# what if we groupby a non-categorical column?\n",
    "# (don't do this!)\n",
    "\n",
    "# for every distinct value of trip_distance\n",
    "# find the mean total_amount\n",
    "df.groupby('trip_distance')['total_amount'].mean()"
   ]
  },
  {
   "cell_type": "code",
   "execution_count": 21,
   "id": "1a1fa4d5-c774-4316-8a45-2819709adf27",
   "metadata": {},
   "outputs": [
    {
     "name": "stdout",
     "output_type": "stream",
     "text": [
      "../data/2020_sharing_data_outside.csv  ../data/olympic_athlete_events.csv\n",
      "../data/CPILFESL.csv\t\t       ../data/san+francisco,ca.csv\n",
      "../data/albany,ny.csv\t\t       ../data/sat-scores.csv\n",
      "../data/boston,ma.csv\t\t       ../data/skyscrapers.csv\n",
      "../data/burrito_current.csv\t       ../data/springfield,il.csv\n",
      "../data/celebrity_deaths_2016.csv      ../data/springfield,ma.csv\n",
      "../data/chicago,il.csv\t\t       ../data/taxi-distance.csv\n",
      "../data/eu_cpi.csv\t\t       ../data/taxi-passenger-count.csv\n",
      "../data/eu_gdp.csv\t\t       ../data/taxi.csv\n",
      "../data/ice-cream.csv\t\t       ../data/titanic3.csv\n",
      "../data/languages.csv\t\t       ../data/us-median-cpi.csv\n",
      "../data/los+angeles,ca.csv\t       ../data/us-unemployment-rate.csv\n",
      "../data/miles-traveled.csv\t       ../data/us_gdp.csv\n",
      "../data/new+york,ny.csv\t\t       ../data/winemag-150k-reviews.csv\n",
      "../data/oecd_locations.csv\t       ../data/wti-daily.csv\n",
      "../data/oecd_tourism.csv\n"
     ]
    }
   ],
   "source": [
    "!ls ../data/*csv*"
   ]
  },
  {
   "cell_type": "code",
   "execution_count": 22,
   "id": "fc1edb7b-24a3-4d21-b0a2-35554b5c9854",
   "metadata": {},
   "outputs": [
    {
     "name": "stdout",
     "output_type": "stream",
     "text": [
      "\"ID\",\"Name\",\"Sex\",\"Age\",\"Height\",\"Weight\",\"Team\",\"NOC\",\"Games\",\"Year\",\"Season\",\"City\",\"Sport\",\"Event\",\"Medal\"\n",
      "\"1\",\"A Dijiang\",\"M\",24,180,80,\"China\",\"CHN\",\"1992 Summer\",1992,\"Summer\",\"Barcelona\",\"Basketball\",\"Basketball Men's Basketball\",NA\n",
      "\"2\",\"A Lamusi\",\"M\",23,170,60,\"China\",\"CHN\",\"2012 Summer\",2012,\"Summer\",\"London\",\"Judo\",\"Judo Men's Extra-Lightweight\",NA\n",
      "\"3\",\"Gunnar Nielsen Aaby\",\"M\",24,NA,NA,\"Denmark\",\"DEN\",\"1920 Summer\",1920,\"Summer\",\"Antwerpen\",\"Football\",\"Football Men's Football\",NA\n",
      "\"4\",\"Edgar Lindenau Aabye\",\"M\",34,NA,NA,\"Denmark/Sweden\",\"DEN\",\"1900 Summer\",1900,\"Summer\",\"Paris\",\"Tug-Of-War\",\"Tug-Of-War Men's Tug-Of-War\",\"Gold\"\n",
      "\"5\",\"Christine Jacoba Aaftink\",\"F\",21,185,82,\"Netherlands\",\"NED\",\"1988 Winter\",1988,\"Winter\",\"Calgary\",\"Speed Skating\",\"Speed Skating Women's 500 metres\",NA\n",
      "\"5\",\"Christine Jacoba Aaftink\",\"F\",21,185,82,\"Netherlands\",\"NED\",\"1988 Winter\",1988,\"Winter\",\"Calgary\",\"Speed Skating\",\"Speed Skating Women's 1,000 metres\",NA\n",
      "\"5\",\"Christine Jacoba Aaftink\",\"F\",25,185,82,\"Netherlands\",\"NED\",\"1992 Winter\",1992,\"Winter\",\"Albertville\",\"Speed Skating\",\"Speed Skating Women's 500 metres\",NA\n",
      "\"5\",\"Christine Jacoba Aaftink\",\"F\",25,185,82,\"Netherlands\",\"NED\",\"1992 Winter\",1992,\"Winter\",\"Albertville\",\"Speed Skating\",\"Speed Skating Women's 1,000 metres\",NA\n",
      "\"5\",\"Christine Jacoba Aaftink\",\"F\",27,185,82,\"Netherlands\",\"NED\",\"1994 Winter\",1994,\"Winter\",\"Lillehammer\",\"Speed Skating\",\"Speed Skating Women's 500 metres\",NA\n"
     ]
    }
   ],
   "source": [
    "!head ../data/olympic_athlete_events.csv"
   ]
  },
  {
   "cell_type": "markdown",
   "id": "d6a576d0-ba3e-4a36-881d-6e4d69508025",
   "metadata": {},
   "source": [
    "# Exercise: Olympic calculations\n",
    "\n",
    "1. Load the file `../data/olympic_athlete_events.csv` into a data frame.\n",
    "2. Find the mean age for people in each sport.\n",
    "3. Find the mean height for people in each sport after 1960."
   ]
  },
  {
   "cell_type": "code",
   "execution_count": 23,
   "id": "3f522e24-a4c7-4c5f-9fc0-cc4e0e4a3d8d",
   "metadata": {},
   "outputs": [],
   "source": [
    "filename = '../data/olympic_athlete_events.csv'\n",
    "\n",
    "df = pd.read_csv(filename)"
   ]
  },
  {
   "cell_type": "code",
   "execution_count": 24,
   "id": "2e3b8c73-03c6-46fb-bd51-1329c4cbe2c4",
   "metadata": {},
   "outputs": [
    {
     "data": {
      "text/plain": [
       "Sport\n",
       "Aeronautics         26.000000\n",
       "Alpine Skiing       23.205462\n",
       "Alpinism            38.812500\n",
       "Archery             27.935226\n",
       "Art Competitions    45.901009\n",
       "                      ...    \n",
       "Tug-Of-War          29.309524\n",
       "Volleyball          25.183800\n",
       "Water Polo          25.659627\n",
       "Weightlifting       25.502010\n",
       "Wrestling           25.798289\n",
       "Name: Age, Length: 66, dtype: float64"
      ]
     },
     "execution_count": 24,
     "metadata": {},
     "output_type": "execute_result"
    }
   ],
   "source": [
    "df.groupby('Sport')['Age'].mean()"
   ]
  },
  {
   "cell_type": "code",
   "execution_count": 27,
   "id": "2545a6f8-696e-466c-8ca9-00d91d3bf9d4",
   "metadata": {},
   "outputs": [
    {
     "data": {
      "text/plain": [
       "Sport\n",
       "Roque               53.333333\n",
       "Art Competitions    45.901009\n",
       "Alpinism            38.812500\n",
       "Polo                35.333333\n",
       "Equestrianism       34.390831\n",
       "Croquet             33.733333\n",
       "Shooting            33.422226\n",
       "Motorboating        33.333333\n",
       "Jeu De Paume        32.454545\n",
       "Curling             31.412527\n",
       "Name: Age, dtype: float64"
      ]
     },
     "execution_count": 27,
     "metadata": {},
     "output_type": "execute_result"
    }
   ],
   "source": [
    "# which 5 sports have the tallest atheletes, on average?\n",
    "\n",
    "df.groupby('Sport')['Age'].mean().sort_values(ascending=False).head(10)"
   ]
  },
  {
   "cell_type": "code",
   "execution_count": 34,
   "id": "1ba08234-d76b-4734-ae5e-87e074118067",
   "metadata": {},
   "outputs": [
    {
     "data": {
      "text/plain": [
       "Sport\n",
       "Basketball                   191.451050\n",
       "Volleyball                   186.994822\n",
       "Beach Volleyball             186.144954\n",
       "Water Polo                   185.213519\n",
       "Rowing                       184.483305\n",
       "Handball                     183.386017\n",
       "Baseball                     182.599291\n",
       "Bobsleigh                    181.680074\n",
       "Ice Hockey                   179.066636\n",
       "Tennis                       178.941767\n",
       "Swimming                     178.802635\n",
       "Canoeing                     178.713466\n",
       "Sailing                      178.418746\n",
       "Modern Pentathlon            178.234389\n",
       "Fencing                      177.546094\n",
       "Nordic Combined              176.763566\n",
       "Taekwondo                    176.750836\n",
       "Luge                         176.657742\n",
       "Ski Jumping                  176.642412\n",
       "Cycling                      176.253339\n",
       "Skeleton                     176.098266\n",
       "Athletics                    176.085087\n",
       "Football                     175.564442\n",
       "Rugby Sevens                 175.363636\n",
       "Equestrianism                174.419536\n",
       "Speed Skating                174.362188\n",
       "Curling                      174.262332\n",
       "Judo                         174.187353\n",
       "Badminton                    174.178803\n",
       "Golf                         174.166667\n",
       "Biathlon                     174.030080\n",
       "Alpine Skiing                173.654688\n",
       "Triathlon                    173.645833\n",
       "Shooting                     173.464829\n",
       "Cross Country Skiing         173.344017\n",
       "Archery                      173.216830\n",
       "Hockey                       173.196262\n",
       "Snowboarding                 173.085561\n",
       "Boxing                       172.934227\n",
       "Wrestling                    172.463466\n",
       "Table Tennis                 171.253773\n",
       "Freestyle Skiing             171.012959\n",
       "Short Track Speed Skating    170.108199\n",
       "Softball                     169.395089\n",
       "Synchronized Swimming        168.481481\n",
       "Figure Skating               168.286346\n",
       "Rhythmic Gymnastics          167.870253\n",
       "Weightlifting                167.716022\n",
       "Diving                       166.746917\n",
       "Trampolining                 166.582781\n",
       "Gymnastics                   162.550221\n",
       "Name: Height, dtype: float64"
      ]
     },
     "execution_count": 34,
     "metadata": {},
     "output_type": "execute_result"
    }
   ],
   "source": [
    "# Find the mean height for people in each sport after 1960.\n",
    "\n",
    "(\n",
    "    df\n",
    "    .loc[\n",
    "        df['Year'] > 1960   # row selector\n",
    "        ,\n",
    "        ['Sport', 'Height']  # column selector\n",
    "    ]\n",
    "    .groupby('Sport')['Height'].mean()\n",
    "    .sort_values(ascending=False)\n",
    ")"
   ]
  },
  {
   "cell_type": "code",
   "execution_count": 37,
   "id": "ba370230-ebe0-48b2-ae46-3d3dbf512eef",
   "metadata": {},
   "outputs": [
    {
     "data": {
      "text/html": [
       "<div>\n",
       "<style scoped>\n",
       "    .dataframe tbody tr th:only-of-type {\n",
       "        vertical-align: middle;\n",
       "    }\n",
       "\n",
       "    .dataframe tbody tr th {\n",
       "        vertical-align: top;\n",
       "    }\n",
       "\n",
       "    .dataframe thead th {\n",
       "        text-align: right;\n",
       "    }\n",
       "</style>\n",
       "<table border=\"1\" class=\"dataframe\">\n",
       "  <thead>\n",
       "    <tr style=\"text-align: right;\">\n",
       "      <th></th>\n",
       "      <th>Sport</th>\n",
       "      <th>Height</th>\n",
       "    </tr>\n",
       "  </thead>\n",
       "  <tbody>\n",
       "    <tr>\n",
       "      <th>0</th>\n",
       "      <td>Basketball</td>\n",
       "      <td>180.0</td>\n",
       "    </tr>\n",
       "    <tr>\n",
       "      <th>1</th>\n",
       "      <td>Judo</td>\n",
       "      <td>170.0</td>\n",
       "    </tr>\n",
       "    <tr>\n",
       "      <th>4</th>\n",
       "      <td>Speed Skating</td>\n",
       "      <td>185.0</td>\n",
       "    </tr>\n",
       "    <tr>\n",
       "      <th>5</th>\n",
       "      <td>Speed Skating</td>\n",
       "      <td>185.0</td>\n",
       "    </tr>\n",
       "    <tr>\n",
       "      <th>6</th>\n",
       "      <td>Speed Skating</td>\n",
       "      <td>185.0</td>\n",
       "    </tr>\n",
       "    <tr>\n",
       "      <th>...</th>\n",
       "      <td>...</td>\n",
       "      <td>...</td>\n",
       "    </tr>\n",
       "    <tr>\n",
       "      <th>271111</th>\n",
       "      <td>Luge</td>\n",
       "      <td>179.0</td>\n",
       "    </tr>\n",
       "    <tr>\n",
       "      <th>271112</th>\n",
       "      <td>Ski Jumping</td>\n",
       "      <td>176.0</td>\n",
       "    </tr>\n",
       "    <tr>\n",
       "      <th>271113</th>\n",
       "      <td>Ski Jumping</td>\n",
       "      <td>176.0</td>\n",
       "    </tr>\n",
       "    <tr>\n",
       "      <th>271114</th>\n",
       "      <td>Bobsleigh</td>\n",
       "      <td>185.0</td>\n",
       "    </tr>\n",
       "    <tr>\n",
       "      <th>271115</th>\n",
       "      <td>Bobsleigh</td>\n",
       "      <td>185.0</td>\n",
       "    </tr>\n",
       "  </tbody>\n",
       "</table>\n",
       "<p>199837 rows × 2 columns</p>\n",
       "</div>"
      ],
      "text/plain": [
       "                Sport  Height\n",
       "0          Basketball   180.0\n",
       "1                Judo   170.0\n",
       "4       Speed Skating   185.0\n",
       "5       Speed Skating   185.0\n",
       "6       Speed Skating   185.0\n",
       "...               ...     ...\n",
       "271111           Luge   179.0\n",
       "271112    Ski Jumping   176.0\n",
       "271113    Ski Jumping   176.0\n",
       "271114      Bobsleigh   185.0\n",
       "271115      Bobsleigh   185.0\n",
       "\n",
       "[199837 rows x 2 columns]"
      ]
     },
     "execution_count": 37,
     "metadata": {},
     "output_type": "execute_result"
    }
   ],
   "source": [
    "# use the .query method\n",
    "\n",
    "(\n",
    "    df\n",
    "    .query('Year > 1960')  # put your query in a string, and Pandas turns column names into df[NAME] syntax\n",
    "    [['Sport', 'Height']]\n",
    "    .groupby('Sport')['Height'].mean()\n",
    "    .sort_values(ascending=False)\n",
    ")"
   ]
  },
  {
   "cell_type": "code",
   "execution_count": 38,
   "id": "0978823a-ea50-4bfb-b224-7fcaf12088a0",
   "metadata": {},
   "outputs": [
    {
     "data": {
      "text/plain": [
       "Sport\n",
       "Basketball                   191.451050\n",
       "Volleyball                   186.994822\n",
       "Beach Volleyball             186.144954\n",
       "Water Polo                   185.213519\n",
       "Rowing                       184.483305\n",
       "Handball                     183.386017\n",
       "Baseball                     182.599291\n",
       "Bobsleigh                    181.680074\n",
       "Ice Hockey                   179.066636\n",
       "Tennis                       178.941767\n",
       "Swimming                     178.802635\n",
       "Canoeing                     178.713466\n",
       "Sailing                      178.418746\n",
       "Modern Pentathlon            178.234389\n",
       "Fencing                      177.546094\n",
       "Nordic Combined              176.763566\n",
       "Taekwondo                    176.750836\n",
       "Luge                         176.657742\n",
       "Ski Jumping                  176.642412\n",
       "Cycling                      176.253339\n",
       "Skeleton                     176.098266\n",
       "Athletics                    176.085087\n",
       "Football                     175.564442\n",
       "Rugby Sevens                 175.363636\n",
       "Equestrianism                174.419536\n",
       "Speed Skating                174.362188\n",
       "Curling                      174.262332\n",
       "Judo                         174.187353\n",
       "Badminton                    174.178803\n",
       "Golf                         174.166667\n",
       "Biathlon                     174.030080\n",
       "Alpine Skiing                173.654688\n",
       "Triathlon                    173.645833\n",
       "Shooting                     173.464829\n",
       "Cross Country Skiing         173.344017\n",
       "Archery                      173.216830\n",
       "Hockey                       173.196262\n",
       "Snowboarding                 173.085561\n",
       "Boxing                       172.934227\n",
       "Wrestling                    172.463466\n",
       "Table Tennis                 171.253773\n",
       "Freestyle Skiing             171.012959\n",
       "Short Track Speed Skating    170.108199\n",
       "Softball                     169.395089\n",
       "Synchronized Swimming        168.481481\n",
       "Figure Skating               168.286346\n",
       "Rhythmic Gymnastics          167.870253\n",
       "Weightlifting                167.716022\n",
       "Diving                       166.746917\n",
       "Trampolining                 166.582781\n",
       "Gymnastics                   162.550221\n",
       "Name: Height, dtype: float64"
      ]
     },
     "execution_count": 38,
     "metadata": {},
     "output_type": "execute_result"
    }
   ],
   "source": [
    "# go the functional-programming route\n",
    "\n",
    "(\n",
    "    df\n",
    "    .loc[lambda df_: df_['Year'] > 1960]\n",
    "    [['Sport', 'Height']]\n",
    "    .groupby('Sport')['Height'].mean()\n",
    "    .sort_values(ascending=False)\n",
    ")"
   ]
  },
  {
   "cell_type": "markdown",
   "id": "9cb4df80-0dd1-467d-9472-fdd4576ee9c5",
   "metadata": {},
   "source": [
    "# More complex!\n",
    "\n",
    "- What if we want to to group taxi info not just by passenger_count, but also by vendor ID?\n",
    "\n",
    "In other words, I want to know, not just for each unique value of `passenger_count`, but for each unique combination of `passenger_count` and `VendorID`, what was the mean `trip_distance`.\n",
    "\n",
    "Remember that in Pandas, just about anywhere that we can pass a string (indicating one column), we can pass a list (indicating multiple columns)."
   ]
  },
  {
   "cell_type": "code",
   "execution_count": 42,
   "id": "be0defe2-806c-434a-9cdd-75507f95bac3",
   "metadata": {},
   "outputs": [
    {
     "data": {
      "text/plain": [
       "passenger_count  VendorID\n",
       "0                1           4.600000\n",
       "1                1           2.956456\n",
       "                 2           3.262967\n",
       "2                1           3.452027\n",
       "                 2           3.328849\n",
       "3                1           3.588535\n",
       "                 2           3.187189\n",
       "4                1           3.952239\n",
       "                 2           3.440522\n",
       "5                1           4.933333\n",
       "                 2           3.172553\n",
       "6                2           3.170976\n",
       "Name: trip_distance, dtype: float64"
      ]
     },
     "execution_count": 42,
     "metadata": {},
     "output_type": "execute_result"
    }
   ],
   "source": [
    "filename = '../data/taxi.csv'\n",
    "df = pd.read_csv(filename)\n",
    "\n",
    "results = df.groupby(['passenger_count', 'VendorID'])['trip_distance'].mean()\n",
    "results"
   ]
  },
  {
   "cell_type": "code",
   "execution_count": 43,
   "id": "8a0a03ca-c223-4c52-9baf-b4f18ecf2924",
   "metadata": {},
   "outputs": [
    {
     "data": {
      "text/plain": [
       "VendorID\n",
       "1    2.956456\n",
       "2    3.262967\n",
       "Name: trip_distance, dtype: float64"
      ]
     },
     "execution_count": 43,
     "metadata": {},
     "output_type": "execute_result"
    }
   ],
   "source": [
    "# we have a series with a *multi-index*\n",
    "# it's a hierarchical index!\n",
    "\n",
    "results.loc[1]\n"
   ]
  },
  {
   "cell_type": "code",
   "execution_count": 44,
   "id": "6cdda021-2a52-4c61-aa82-d5a7fd4efd42",
   "metadata": {},
   "outputs": [
    {
     "data": {
      "text/plain": [
       "passenger_count  VendorID\n",
       "1                1           2.956456\n",
       "                 2           3.262967\n",
       "4                1           3.952239\n",
       "                 2           3.440522\n",
       "Name: trip_distance, dtype: float64"
      ]
     },
     "execution_count": 44,
     "metadata": {},
     "output_type": "execute_result"
    }
   ],
   "source": [
    "# show me with passenger_count of either 1 or 4\n",
    "results.loc[[1, 4]]"
   ]
  },
  {
   "cell_type": "code",
   "execution_count": 45,
   "id": "b865bc38-5a37-49ad-be65-c8cd1e76a646",
   "metadata": {},
   "outputs": [
    {
     "data": {
      "text/html": [
       "<div>\n",
       "<style scoped>\n",
       "    .dataframe tbody tr th:only-of-type {\n",
       "        vertical-align: middle;\n",
       "    }\n",
       "\n",
       "    .dataframe tbody tr th {\n",
       "        vertical-align: top;\n",
       "    }\n",
       "\n",
       "    .dataframe thead th {\n",
       "        text-align: right;\n",
       "    }\n",
       "</style>\n",
       "<table border=\"1\" class=\"dataframe\">\n",
       "  <thead>\n",
       "    <tr style=\"text-align: right;\">\n",
       "      <th></th>\n",
       "      <th>trip_distance</th>\n",
       "      <th>total_amount</th>\n",
       "    </tr>\n",
       "    <tr>\n",
       "      <th>passenger_count</th>\n",
       "      <th></th>\n",
       "      <th></th>\n",
       "    </tr>\n",
       "  </thead>\n",
       "  <tbody>\n",
       "    <tr>\n",
       "      <th>0</th>\n",
       "      <td>4.600000</td>\n",
       "      <td>25.570000</td>\n",
       "    </tr>\n",
       "    <tr>\n",
       "      <th>1</th>\n",
       "      <td>3.092338</td>\n",
       "      <td>17.368569</td>\n",
       "    </tr>\n",
       "    <tr>\n",
       "      <th>2</th>\n",
       "      <td>3.384387</td>\n",
       "      <td>18.406306</td>\n",
       "    </tr>\n",
       "    <tr>\n",
       "      <th>3</th>\n",
       "      <td>3.342389</td>\n",
       "      <td>17.994704</td>\n",
       "    </tr>\n",
       "    <tr>\n",
       "      <th>4</th>\n",
       "      <td>3.628901</td>\n",
       "      <td>18.881648</td>\n",
       "    </tr>\n",
       "    <tr>\n",
       "      <th>5</th>\n",
       "      <td>3.182712</td>\n",
       "      <td>17.211269</td>\n",
       "    </tr>\n",
       "    <tr>\n",
       "      <th>6</th>\n",
       "      <td>3.170976</td>\n",
       "      <td>17.401355</td>\n",
       "    </tr>\n",
       "  </tbody>\n",
       "</table>\n",
       "</div>"
      ],
      "text/plain": [
       "                 trip_distance  total_amount\n",
       "passenger_count                             \n",
       "0                     4.600000     25.570000\n",
       "1                     3.092338     17.368569\n",
       "2                     3.384387     18.406306\n",
       "3                     3.342389     17.994704\n",
       "4                     3.628901     18.881648\n",
       "5                     3.182712     17.211269\n",
       "6                     3.170976     17.401355"
      ]
     },
     "execution_count": 45,
     "metadata": {},
     "output_type": "execute_result"
    }
   ],
   "source": [
    "# what if I only want to groupby passenger_count\n",
    "# but I want to know the mean trip_distance and total_amount?\n",
    "\n",
    "df.groupby('passenger_count')[['trip_distance', 'total_amount']].mean()"
   ]
  },
  {
   "cell_type": "code",
   "execution_count": 46,
   "id": "226bd69c-a180-405c-a740-8a5661d3fc8d",
   "metadata": {},
   "outputs": [
    {
     "data": {
      "text/html": [
       "<div>\n",
       "<style scoped>\n",
       "    .dataframe tbody tr th:only-of-type {\n",
       "        vertical-align: middle;\n",
       "    }\n",
       "\n",
       "    .dataframe tbody tr th {\n",
       "        vertical-align: top;\n",
       "    }\n",
       "\n",
       "    .dataframe thead th {\n",
       "        text-align: right;\n",
       "    }\n",
       "</style>\n",
       "<table border=\"1\" class=\"dataframe\">\n",
       "  <thead>\n",
       "    <tr style=\"text-align: right;\">\n",
       "      <th></th>\n",
       "      <th>mean</th>\n",
       "      <th>median</th>\n",
       "      <th>std</th>\n",
       "    </tr>\n",
       "    <tr>\n",
       "      <th>passenger_count</th>\n",
       "      <th></th>\n",
       "      <th></th>\n",
       "      <th></th>\n",
       "    </tr>\n",
       "  </thead>\n",
       "  <tbody>\n",
       "    <tr>\n",
       "      <th>0</th>\n",
       "      <td>4.600000</td>\n",
       "      <td>4.600</td>\n",
       "      <td>4.666905</td>\n",
       "    </tr>\n",
       "    <tr>\n",
       "      <th>1</th>\n",
       "      <td>3.092338</td>\n",
       "      <td>1.630</td>\n",
       "      <td>4.020187</td>\n",
       "    </tr>\n",
       "    <tr>\n",
       "      <th>2</th>\n",
       "      <td>3.384387</td>\n",
       "      <td>1.800</td>\n",
       "      <td>4.242826</td>\n",
       "    </tr>\n",
       "    <tr>\n",
       "      <th>3</th>\n",
       "      <td>3.342389</td>\n",
       "      <td>1.700</td>\n",
       "      <td>3.822041</td>\n",
       "    </tr>\n",
       "    <tr>\n",
       "      <th>4</th>\n",
       "      <td>3.628901</td>\n",
       "      <td>2.000</td>\n",
       "      <td>4.351369</td>\n",
       "    </tr>\n",
       "    <tr>\n",
       "      <th>5</th>\n",
       "      <td>3.182712</td>\n",
       "      <td>1.675</td>\n",
       "      <td>3.969468</td>\n",
       "    </tr>\n",
       "    <tr>\n",
       "      <th>6</th>\n",
       "      <td>3.170976</td>\n",
       "      <td>1.670</td>\n",
       "      <td>3.759807</td>\n",
       "    </tr>\n",
       "  </tbody>\n",
       "</table>\n",
       "</div>"
      ],
      "text/plain": [
       "                     mean  median       std\n",
       "passenger_count                            \n",
       "0                4.600000   4.600  4.666905\n",
       "1                3.092338   1.630  4.020187\n",
       "2                3.384387   1.800  4.242826\n",
       "3                3.342389   1.700  3.822041\n",
       "4                3.628901   2.000  4.351369\n",
       "5                3.182712   1.675  3.969468\n",
       "6                3.170976   1.670  3.759807"
      ]
     },
     "execution_count": 46,
     "metadata": {},
     "output_type": "execute_result"
    }
   ],
   "source": [
    "# what if I want more than one aggregation method?\n",
    "# I can use the \"agg\" method, passing it a list of strings -- the aggregation methods we want to use\n",
    "\n",
    "df.groupby('passenger_count')['trip_distance'].agg(['mean', 'median', 'std'])"
   ]
  },
  {
   "cell_type": "code",
   "execution_count": null,
   "id": "09c75328-5f1c-4ac8-b8cc-f73b5b723e34",
   "metadata": {},
   "outputs": [],
   "source": [
    "# can I provide multiples of more than one of these?\n",
    "# OF COURSE YOU CAN!\n",
    "\n",
    "df.groupby(['passenger_count', 'VendorID'])['trip"
   ]
  }
 ],
 "metadata": {
  "kernelspec": {
   "display_name": "Python 3 (ipykernel)",
   "language": "python",
   "name": "python3"
  },
  "language_info": {
   "codemirror_mode": {
    "name": "ipython",
    "version": 3
   },
   "file_extension": ".py",
   "mimetype": "text/x-python",
   "name": "python",
   "nbconvert_exporter": "python",
   "pygments_lexer": "ipython3",
   "version": "3.12.3"
  }
 },
 "nbformat": 4,
 "nbformat_minor": 5
}
