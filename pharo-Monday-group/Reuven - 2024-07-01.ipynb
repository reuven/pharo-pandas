{
 "cells": [
  {
   "cell_type": "markdown",
   "id": "ba4474f4-eed9-4f41-845c-f5a0fbe7cf87",
   "metadata": {},
   "source": [
    "# Agenda: Grouping\n",
    "\n",
    "1. Simple grouping\n",
    "2. More complex g"
   ]
  }
 ],
 "metadata": {
  "kernelspec": {
   "display_name": "Python 3 (ipykernel)",
   "language": "python",
   "name": "python3"
  },
  "language_info": {
   "codemirror_mode": {
    "name": "ipython",
    "version": 3
   },
   "file_extension": ".py",
   "mimetype": "text/x-python",
   "name": "python",
   "nbconvert_exporter": "python",
   "pygments_lexer": "ipython3",
   "version": "3.12.3"
  }
 },
 "nbformat": 4,
 "nbformat_minor": 5
}
