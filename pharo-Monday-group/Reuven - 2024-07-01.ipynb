{
 "cells": [
  {
   "cell_type": "markdown",
   "id": "ba4474f4-eed9-4f41-845c-f5a0fbe7cf87",
   "metadata": {},
   "source": [
    "# Agenda: Grouping\n",
    "\n",
    "1. Simple grouping\n",
    "2. More complex grouping\n",
    "    - More than one grouping column\n",
    "    - More than one calculating column\n",
    "    - More than one aggregation method\n",
    "3. Pivot tables (2D grouping)\n",
    "4. Moving rows to columns and back"
   ]
  },
  {
   "cell_type": "code",
   "execution_count": 1,
   "id": "1d1c294e-402e-427c-8676-0d7ea76fd961",
   "metadata": {},
   "outputs": [],
   "source": [
    "import numpy as np\n",
    "import pandas as pd\n",
    "from pandas import Series, DataFrame"
   ]
  },
  {
   "cell_type": "code",
   "execution_count": 2,
   "id": "5d9277bc-eaff-48da-bff7-c3481ea78476",
   "metadata": {},
   "outputs": [],
   "source": [
    "filename = '../data/taxi.csv'\n",
    "\n",
    "df = pd.read_csv(filename)"
   ]
  },
  {
   "cell_type": "code",
   "execution_count": 3,
   "id": "6c095626-b985-495e-b8c4-ecd13d97a209",
   "metadata": {},
   "outputs": [
    {
     "data": {
      "text/html": [
       "<div>\n",
       "<style scoped>\n",
       "    .dataframe tbody tr th:only-of-type {\n",
       "        vertical-align: middle;\n",
       "    }\n",
       "\n",
       "    .dataframe tbody tr th {\n",
       "        vertical-align: top;\n",
       "    }\n",
       "\n",
       "    .dataframe thead th {\n",
       "        text-align: right;\n",
       "    }\n",
       "</style>\n",
       "<table border=\"1\" class=\"dataframe\">\n",
       "  <thead>\n",
       "    <tr style=\"text-align: right;\">\n",
       "      <th></th>\n",
       "      <th>VendorID</th>\n",
       "      <th>tpep_pickup_datetime</th>\n",
       "      <th>tpep_dropoff_datetime</th>\n",
       "      <th>passenger_count</th>\n",
       "      <th>trip_distance</th>\n",
       "      <th>pickup_longitude</th>\n",
       "      <th>pickup_latitude</th>\n",
       "      <th>RateCodeID</th>\n",
       "      <th>store_and_fwd_flag</th>\n",
       "      <th>dropoff_longitude</th>\n",
       "      <th>dropoff_latitude</th>\n",
       "      <th>payment_type</th>\n",
       "      <th>fare_amount</th>\n",
       "      <th>extra</th>\n",
       "      <th>mta_tax</th>\n",
       "      <th>tip_amount</th>\n",
       "      <th>tolls_amount</th>\n",
       "      <th>improvement_surcharge</th>\n",
       "      <th>total_amount</th>\n",
       "    </tr>\n",
       "  </thead>\n",
       "  <tbody>\n",
       "    <tr>\n",
       "      <th>0</th>\n",
       "      <td>2</td>\n",
       "      <td>2015-06-02 11:19:29</td>\n",
       "      <td>2015-06-02 11:47:52</td>\n",
       "      <td>1</td>\n",
       "      <td>1.63</td>\n",
       "      <td>-73.954430</td>\n",
       "      <td>40.764141</td>\n",
       "      <td>1</td>\n",
       "      <td>N</td>\n",
       "      <td>-73.974754</td>\n",
       "      <td>40.754093</td>\n",
       "      <td>2</td>\n",
       "      <td>17.0</td>\n",
       "      <td>0.0</td>\n",
       "      <td>0.5</td>\n",
       "      <td>0.00</td>\n",
       "      <td>0.0</td>\n",
       "      <td>0.3</td>\n",
       "      <td>17.80</td>\n",
       "    </tr>\n",
       "    <tr>\n",
       "      <th>1</th>\n",
       "      <td>2</td>\n",
       "      <td>2015-06-02 11:19:30</td>\n",
       "      <td>2015-06-02 11:27:56</td>\n",
       "      <td>1</td>\n",
       "      <td>0.46</td>\n",
       "      <td>-73.971443</td>\n",
       "      <td>40.758942</td>\n",
       "      <td>1</td>\n",
       "      <td>N</td>\n",
       "      <td>-73.978539</td>\n",
       "      <td>40.761909</td>\n",
       "      <td>1</td>\n",
       "      <td>6.5</td>\n",
       "      <td>0.0</td>\n",
       "      <td>0.5</td>\n",
       "      <td>1.00</td>\n",
       "      <td>0.0</td>\n",
       "      <td>0.3</td>\n",
       "      <td>8.30</td>\n",
       "    </tr>\n",
       "    <tr>\n",
       "      <th>2</th>\n",
       "      <td>2</td>\n",
       "      <td>2015-06-02 11:19:31</td>\n",
       "      <td>2015-06-02 11:30:30</td>\n",
       "      <td>1</td>\n",
       "      <td>0.87</td>\n",
       "      <td>-73.978111</td>\n",
       "      <td>40.738434</td>\n",
       "      <td>1</td>\n",
       "      <td>N</td>\n",
       "      <td>-73.990273</td>\n",
       "      <td>40.745438</td>\n",
       "      <td>1</td>\n",
       "      <td>8.0</td>\n",
       "      <td>0.0</td>\n",
       "      <td>0.5</td>\n",
       "      <td>2.20</td>\n",
       "      <td>0.0</td>\n",
       "      <td>0.3</td>\n",
       "      <td>11.00</td>\n",
       "    </tr>\n",
       "    <tr>\n",
       "      <th>3</th>\n",
       "      <td>2</td>\n",
       "      <td>2015-06-02 11:19:31</td>\n",
       "      <td>2015-06-02 11:39:02</td>\n",
       "      <td>1</td>\n",
       "      <td>2.13</td>\n",
       "      <td>-73.945892</td>\n",
       "      <td>40.773529</td>\n",
       "      <td>1</td>\n",
       "      <td>N</td>\n",
       "      <td>-73.971527</td>\n",
       "      <td>40.760330</td>\n",
       "      <td>1</td>\n",
       "      <td>13.5</td>\n",
       "      <td>0.0</td>\n",
       "      <td>0.5</td>\n",
       "      <td>2.86</td>\n",
       "      <td>0.0</td>\n",
       "      <td>0.3</td>\n",
       "      <td>17.16</td>\n",
       "    </tr>\n",
       "    <tr>\n",
       "      <th>4</th>\n",
       "      <td>1</td>\n",
       "      <td>2015-06-02 11:19:32</td>\n",
       "      <td>2015-06-02 11:32:49</td>\n",
       "      <td>1</td>\n",
       "      <td>1.40</td>\n",
       "      <td>-73.979088</td>\n",
       "      <td>40.776772</td>\n",
       "      <td>1</td>\n",
       "      <td>N</td>\n",
       "      <td>-73.982162</td>\n",
       "      <td>40.758999</td>\n",
       "      <td>2</td>\n",
       "      <td>9.5</td>\n",
       "      <td>0.0</td>\n",
       "      <td>0.5</td>\n",
       "      <td>0.00</td>\n",
       "      <td>0.0</td>\n",
       "      <td>0.3</td>\n",
       "      <td>10.30</td>\n",
       "    </tr>\n",
       "  </tbody>\n",
       "</table>\n",
       "</div>"
      ],
      "text/plain": [
       "   VendorID tpep_pickup_datetime tpep_dropoff_datetime  passenger_count  \\\n",
       "0         2  2015-06-02 11:19:29   2015-06-02 11:47:52                1   \n",
       "1         2  2015-06-02 11:19:30   2015-06-02 11:27:56                1   \n",
       "2         2  2015-06-02 11:19:31   2015-06-02 11:30:30                1   \n",
       "3         2  2015-06-02 11:19:31   2015-06-02 11:39:02                1   \n",
       "4         1  2015-06-02 11:19:32   2015-06-02 11:32:49                1   \n",
       "\n",
       "   trip_distance  pickup_longitude  pickup_latitude  RateCodeID  \\\n",
       "0           1.63        -73.954430        40.764141           1   \n",
       "1           0.46        -73.971443        40.758942           1   \n",
       "2           0.87        -73.978111        40.738434           1   \n",
       "3           2.13        -73.945892        40.773529           1   \n",
       "4           1.40        -73.979088        40.776772           1   \n",
       "\n",
       "  store_and_fwd_flag  dropoff_longitude  dropoff_latitude  payment_type  \\\n",
       "0                  N         -73.974754         40.754093             2   \n",
       "1                  N         -73.978539         40.761909             1   \n",
       "2                  N         -73.990273         40.745438             1   \n",
       "3                  N         -73.971527         40.760330             1   \n",
       "4                  N         -73.982162         40.758999             2   \n",
       "\n",
       "   fare_amount  extra  mta_tax  tip_amount  tolls_amount  \\\n",
       "0         17.0    0.0      0.5        0.00           0.0   \n",
       "1          6.5    0.0      0.5        1.00           0.0   \n",
       "2          8.0    0.0      0.5        2.20           0.0   \n",
       "3         13.5    0.0      0.5        2.86           0.0   \n",
       "4          9.5    0.0      0.5        0.00           0.0   \n",
       "\n",
       "   improvement_surcharge  total_amount  \n",
       "0                    0.3         17.80  \n",
       "1                    0.3          8.30  \n",
       "2                    0.3         11.00  \n",
       "3                    0.3         17.16  \n",
       "4                    0.3         10.30  "
      ]
     },
     "execution_count": 3,
     "metadata": {},
     "output_type": "execute_result"
    }
   ],
   "source": [
    "df.head()"
   ]
  },
  {
   "cell_type": "code",
   "execution_count": 6,
   "id": "206e21ff-aa7b-4fca-859b-04f8f1367606",
   "metadata": {},
   "outputs": [
    {
     "data": {
      "text/plain": [
       "3.0923380047176354"
      ]
     },
     "execution_count": 6,
     "metadata": {},
     "output_type": "execute_result"
    }
   ],
   "source": [
    "# I want to find out the mean trip_distance where passenger_count is 1\n",
    "\n",
    "df.loc[  \n",
    "    df['passenger_count'] == 1   # row selector\n",
    "    ,\n",
    "    'trip_distance' # column selector\n",
    "].mean()"
   ]
  },
  {
   "cell_type": "code",
   "execution_count": 7,
   "id": "561039a6-45bb-4eff-8c58-fe44b017c1f6",
   "metadata": {},
   "outputs": [
    {
     "data": {
      "text/plain": [
       "3.3843869002284848"
      ]
     },
     "execution_count": 7,
     "metadata": {},
     "output_type": "execute_result"
    }
   ],
   "source": [
    "# find out the mean trip_distance where passenger_count is 2\n",
    "\n",
    "df.loc[  \n",
    "    df['passenger_count'] == 2   # row selector\n",
    "    ,\n",
    "    'trip_distance' # column selector\n",
    "].mean()"
   ]
  },
  {
   "cell_type": "code",
   "execution_count": 8,
   "id": "f2a37edb-fbbe-421b-9cda-1eb9b8c78429",
   "metadata": {},
   "outputs": [
    {
     "data": {
      "text/plain": [
       "3.3423891625615765"
      ]
     },
     "execution_count": 8,
     "metadata": {},
     "output_type": "execute_result"
    }
   ],
   "source": [
    "# find out the mean trip_distance where passenger_count is 3\n",
    "\n",
    "df.loc[  \n",
    "    df['passenger_count'] == 3   # row selector\n",
    "    ,\n",
    "    'trip_distance' # column selector\n",
    "].mean()"
   ]
  },
  {
   "cell_type": "code",
   "execution_count": 9,
   "id": "8f8d918e-f919-466f-8889-c2cddf3303ae",
   "metadata": {},
   "outputs": [
    {
     "data": {
      "text/plain": [
       "passenger_count\n",
       "0    4.600000\n",
       "1    3.092338\n",
       "2    3.384387\n",
       "3    3.342389\n",
       "4    3.628901\n",
       "5    3.182712\n",
       "6    3.170976\n",
       "Name: trip_distance, dtype: float64"
      ]
     },
     "execution_count": 9,
     "metadata": {},
     "output_type": "execute_result"
    }
   ],
   "source": [
    "# what we really want is: For every unique value of passenger_count,\n",
    "# calculate the mean of trip_distance on those rows\n",
    "\n",
    "# this is the essence of *grouping*\n",
    "\n",
    "# - we have an aggregation method\n",
    "# - we want to run it on a numeric column\n",
    "# - we want to get a separate result for each unique value of a categorical column\n",
    "\n",
    "# the syntax is:\n",
    "\n",
    "# .groupby(categorical_column)[numeric_column].agg_method()\n",
    "df.groupby('passenger_count')['trip_distance'].mean()"
   ]
  },
  {
   "cell_type": "code",
   "execution_count": 10,
   "id": "026030ef-b1a8-4775-b60f-545f20632f6e",
   "metadata": {},
   "outputs": [
    {
     "data": {
      "text/plain": [
       "<pandas.core.groupby.generic.SeriesGroupBy object at 0x7f0e8314e060>"
      ]
     },
     "execution_count": 10,
     "metadata": {},
     "output_type": "execute_result"
    }
   ],
   "source": [
    "# what does this give me?\n",
    "df.groupby('passenger_count')['trip_distance']"
   ]
  },
  {
   "cell_type": "code",
   "execution_count": 11,
   "id": "51965d57-e921-4e6a-9481-4a09caf28e85",
   "metadata": {},
   "outputs": [
    {
     "data": {
      "text/plain": [
       "passenger_count\n",
       "0    4.666905\n",
       "1    4.020187\n",
       "2    4.242826\n",
       "3    3.822041\n",
       "4    4.351369\n",
       "5    3.969468\n",
       "6    3.759807\n",
       "Name: trip_distance, dtype: float64"
      ]
     },
     "execution_count": 11,
     "metadata": {},
     "output_type": "execute_result"
    }
   ],
   "source": [
    "df.groupby('passenger_count')['trip_distance'].std()   # standard deviation"
   ]
  },
  {
   "cell_type": "code",
   "execution_count": 13,
   "id": "c884e9e0-6c2d-4d1c-b1e1-84b9f0943208",
   "metadata": {},
   "outputs": [],
   "source": [
    "# we can try other categorical columns\n",
    "\n",
    "df['tip_percentage'] = df['tip_amount'] / df['total_amount']   # let's add a new column indicating the percentage of tip"
   ]
  },
  {
   "cell_type": "code",
   "execution_count": 16,
   "id": "7639d249-5760-4425-b40e-a72362e689aa",
   "metadata": {},
   "outputs": [
    {
     "data": {
      "text/plain": [
       "passenger_count\n",
       "0    0.183127\n",
       "1    0.092880\n",
       "2    0.088309\n",
       "3    0.087368\n",
       "4    0.077067\n",
       "5    0.094349\n",
       "6    0.086075\n",
       "Name: tip_percentage, dtype: float64"
      ]
     },
     "execution_count": 16,
     "metadata": {},
     "output_type": "execute_result"
    }
   ],
   "source": [
    "# now let's see if the percentage changes per passenger_count\n",
    "\n",
    "df.groupby('passenger_count')['tip_percentage'].mean()"
   ]
  },
  {
   "cell_type": "code",
   "execution_count": 17,
   "id": "95b534b9-33ba-4a11-94d5-945bd59d058b",
   "metadata": {},
   "outputs": [
    {
     "data": {
      "text/plain": [
       "VendorID\n",
       "1    0.091538\n",
       "2    0.091680\n",
       "Name: tip_percentage, dtype: float64"
      ]
     },
     "execution_count": 17,
     "metadata": {},
     "output_type": "execute_result"
    }
   ],
   "source": [
    "# do we see different tip percentages according to the manufacturer of the computer in the taxi?\n",
    "df.groupby('VendorID')['tip_percentage'].mean()"
   ]
  },
  {
   "cell_type": "markdown",
   "id": "51ea6ff7-b0bb-45d7-b518-ef5713659d5a",
   "metadata": {},
   "source": [
    "# Why not sort the `groupby` results?\n",
    "\n",
    "1. If you're going to be sorting by values immediately after, why waste the time/CPU?\n",
    "2. The sorting does take some time - -maybe you don't want to waste on that"
   ]
  },
  {
   "cell_type": "code",
   "execution_count": 18,
   "id": "f306fa81-ab2e-4474-af1e-bf68e8bccc7b",
   "metadata": {},
   "outputs": [
    {
     "data": {
      "text/plain": [
       "trip_distance\n",
       "0.00      31.58194\n",
       "0.01      52.80000\n",
       "0.02      43.46000\n",
       "0.03       3.96000\n",
       "0.04      70.01000\n",
       "           ...    \n",
       "34.84    137.59000\n",
       "35.51    135.13000\n",
       "37.20    210.14000\n",
       "60.30    160.05000\n",
       "64.60     79.96000\n",
       "Name: total_amount, Length: 1219, dtype: float64"
      ]
     },
     "execution_count": 18,
     "metadata": {},
     "output_type": "execute_result"
    }
   ],
   "source": [
    "# what if we groupby a non-categorical column?\n",
    "# (don't do this!)\n",
    "\n",
    "# for every distinct value of trip_distance\n",
    "# find the mean total_amount\n",
    "df.groupby('trip_distance')['total_amount'].mean()"
   ]
  },
  {
   "cell_type": "code",
   "execution_count": 21,
   "id": "1a1fa4d5-c774-4316-8a45-2819709adf27",
   "metadata": {},
   "outputs": [
    {
     "name": "stdout",
     "output_type": "stream",
     "text": [
      "../data/2020_sharing_data_outside.csv  ../data/olympic_athlete_events.csv\n",
      "../data/CPILFESL.csv\t\t       ../data/san+francisco,ca.csv\n",
      "../data/albany,ny.csv\t\t       ../data/sat-scores.csv\n",
      "../data/boston,ma.csv\t\t       ../data/skyscrapers.csv\n",
      "../data/burrito_current.csv\t       ../data/springfield,il.csv\n",
      "../data/celebrity_deaths_2016.csv      ../data/springfield,ma.csv\n",
      "../data/chicago,il.csv\t\t       ../data/taxi-distance.csv\n",
      "../data/eu_cpi.csv\t\t       ../data/taxi-passenger-count.csv\n",
      "../data/eu_gdp.csv\t\t       ../data/taxi.csv\n",
      "../data/ice-cream.csv\t\t       ../data/titanic3.csv\n",
      "../data/languages.csv\t\t       ../data/us-median-cpi.csv\n",
      "../data/los+angeles,ca.csv\t       ../data/us-unemployment-rate.csv\n",
      "../data/miles-traveled.csv\t       ../data/us_gdp.csv\n",
      "../data/new+york,ny.csv\t\t       ../data/winemag-150k-reviews.csv\n",
      "../data/oecd_locations.csv\t       ../data/wti-daily.csv\n",
      "../data/oecd_tourism.csv\n"
     ]
    }
   ],
   "source": [
    "!ls ../data/*csv*"
   ]
  },
  {
   "cell_type": "code",
   "execution_count": 22,
   "id": "fc1edb7b-24a3-4d21-b0a2-35554b5c9854",
   "metadata": {},
   "outputs": [
    {
     "name": "stdout",
     "output_type": "stream",
     "text": [
      "\"ID\",\"Name\",\"Sex\",\"Age\",\"Height\",\"Weight\",\"Team\",\"NOC\",\"Games\",\"Year\",\"Season\",\"City\",\"Sport\",\"Event\",\"Medal\"\n",
      "\"1\",\"A Dijiang\",\"M\",24,180,80,\"China\",\"CHN\",\"1992 Summer\",1992,\"Summer\",\"Barcelona\",\"Basketball\",\"Basketball Men's Basketball\",NA\n",
      "\"2\",\"A Lamusi\",\"M\",23,170,60,\"China\",\"CHN\",\"2012 Summer\",2012,\"Summer\",\"London\",\"Judo\",\"Judo Men's Extra-Lightweight\",NA\n",
      "\"3\",\"Gunnar Nielsen Aaby\",\"M\",24,NA,NA,\"Denmark\",\"DEN\",\"1920 Summer\",1920,\"Summer\",\"Antwerpen\",\"Football\",\"Football Men's Football\",NA\n",
      "\"4\",\"Edgar Lindenau Aabye\",\"M\",34,NA,NA,\"Denmark/Sweden\",\"DEN\",\"1900 Summer\",1900,\"Summer\",\"Paris\",\"Tug-Of-War\",\"Tug-Of-War Men's Tug-Of-War\",\"Gold\"\n",
      "\"5\",\"Christine Jacoba Aaftink\",\"F\",21,185,82,\"Netherlands\",\"NED\",\"1988 Winter\",1988,\"Winter\",\"Calgary\",\"Speed Skating\",\"Speed Skating Women's 500 metres\",NA\n",
      "\"5\",\"Christine Jacoba Aaftink\",\"F\",21,185,82,\"Netherlands\",\"NED\",\"1988 Winter\",1988,\"Winter\",\"Calgary\",\"Speed Skating\",\"Speed Skating Women's 1,000 metres\",NA\n",
      "\"5\",\"Christine Jacoba Aaftink\",\"F\",25,185,82,\"Netherlands\",\"NED\",\"1992 Winter\",1992,\"Winter\",\"Albertville\",\"Speed Skating\",\"Speed Skating Women's 500 metres\",NA\n",
      "\"5\",\"Christine Jacoba Aaftink\",\"F\",25,185,82,\"Netherlands\",\"NED\",\"1992 Winter\",1992,\"Winter\",\"Albertville\",\"Speed Skating\",\"Speed Skating Women's 1,000 metres\",NA\n",
      "\"5\",\"Christine Jacoba Aaftink\",\"F\",27,185,82,\"Netherlands\",\"NED\",\"1994 Winter\",1994,\"Winter\",\"Lillehammer\",\"Speed Skating\",\"Speed Skating Women's 500 metres\",NA\n"
     ]
    }
   ],
   "source": [
    "!head ../data/olympic_athlete_events.csv"
   ]
  },
  {
   "cell_type": "markdown",
   "id": "d6a576d0-ba3e-4a36-881d-6e4d69508025",
   "metadata": {},
   "source": [
    "# Exercise: Olympic calculations\n",
    "\n",
    "1. Load the file `../data/olympic_athlete_events.csv` into a data frame.\n",
    "2. Find the mean age for people in each sport.\n",
    "3. Find the mean height for people in each sport after 1960."
   ]
  },
  {
   "cell_type": "code",
   "execution_count": null,
   "id": "3f522e24-a4c7-4c5f-9fc0-cc4e0e4a3d8d",
   "metadata": {},
   "outputs": [],
   "source": []
  }
 ],
 "metadata": {
  "kernelspec": {
   "display_name": "Python 3 (ipykernel)",
   "language": "python",
   "name": "python3"
  },
  "language_info": {
   "codemirror_mode": {
    "name": "ipython",
    "version": 3
   },
   "file_extension": ".py",
   "mimetype": "text/x-python",
   "name": "python",
   "nbconvert_exporter": "python",
   "pygments_lexer": "ipython3",
   "version": "3.12.3"
  }
 },
 "nbformat": 4,
 "nbformat_minor": 5
}
