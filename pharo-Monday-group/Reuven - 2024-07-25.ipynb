{
 "cells": [
  {
   "cell_type": "markdown",
   "id": "af4bb3cd-fbc1-4223-8a44-9ad2732ff377",
   "metadata": {},
   "source": [
    "# Agenda\n",
    "\n",
    "1. Pandas and strings (and their dtypes)\n",
    "2. String methods\n",
    "3. Memory and strings\n",
    "4. Categories"
   ]
  },
  {
   "cell_type": "code",
   "execution_count": 1,
   "id": "29d5bf31-980d-47bd-a249-a54b7f6b601f",
   "metadata": {},
   "outputs": [],
   "source": [
    "import pandas as pd\n",
    "from pandas import Series, DataFrame"
   ]
  },
  {
   "cell_type": "code",
   "execution_count": 4,
   "id": "bc1e2555-90bc-40db-9230-83797e4af8af",
   "metadata": {},
   "outputs": [],
   "source": [
    "filename = '../data/winemag-150k-reviews.csv'\n",
    "df = pd.read_csv(filename)"
   ]
  },
  {
   "cell_type": "code",
   "execution_count": 5,
   "id": "b7b6aaf0-702c-417e-ad35-31ba5e356d10",
   "metadata": {},
   "outputs": [
    {
     "data": {
      "text/plain": [
       "(150930, 11)"
      ]
     },
     "execution_count": 5,
     "metadata": {},
     "output_type": "execute_result"
    }
   ],
   "source": [
    "df.shape"
   ]
  },
  {
   "cell_type": "code",
   "execution_count": 6,
   "id": "4e4708ad-dcac-446c-923a-8d4413f9795d",
   "metadata": {},
   "outputs": [
    {
     "data": {
      "text/plain": [
       "Index(['Unnamed: 0', 'country', 'description', 'designation', 'points',\n",
       "       'price', 'province', 'region_1', 'region_2', 'variety', 'winery'],\n",
       "      dtype='object')"
      ]
     },
     "execution_count": 6,
     "metadata": {},
     "output_type": "execute_result"
    }
   ],
   "source": [
    "df.columns"
   ]
  },
  {
   "cell_type": "code",
   "execution_count": 7,
   "id": "76e373c9-0aa0-481e-ab8d-8b73ad89294e",
   "metadata": {},
   "outputs": [
    {
     "data": {
      "text/html": [
       "<div>\n",
       "<style scoped>\n",
       "    .dataframe tbody tr th:only-of-type {\n",
       "        vertical-align: middle;\n",
       "    }\n",
       "\n",
       "    .dataframe tbody tr th {\n",
       "        vertical-align: top;\n",
       "    }\n",
       "\n",
       "    .dataframe thead th {\n",
       "        text-align: right;\n",
       "    }\n",
       "</style>\n",
       "<table border=\"1\" class=\"dataframe\">\n",
       "  <thead>\n",
       "    <tr style=\"text-align: right;\">\n",
       "      <th></th>\n",
       "      <th>Unnamed: 0</th>\n",
       "      <th>country</th>\n",
       "      <th>description</th>\n",
       "      <th>designation</th>\n",
       "      <th>points</th>\n",
       "      <th>price</th>\n",
       "      <th>province</th>\n",
       "      <th>region_1</th>\n",
       "      <th>region_2</th>\n",
       "      <th>variety</th>\n",
       "      <th>winery</th>\n",
       "    </tr>\n",
       "  </thead>\n",
       "  <tbody>\n",
       "    <tr>\n",
       "      <th>0</th>\n",
       "      <td>0</td>\n",
       "      <td>US</td>\n",
       "      <td>This tremendous 100% varietal wine hails from ...</td>\n",
       "      <td>Martha's Vineyard</td>\n",
       "      <td>96</td>\n",
       "      <td>235.0</td>\n",
       "      <td>California</td>\n",
       "      <td>Napa Valley</td>\n",
       "      <td>Napa</td>\n",
       "      <td>Cabernet Sauvignon</td>\n",
       "      <td>Heitz</td>\n",
       "    </tr>\n",
       "    <tr>\n",
       "      <th>1</th>\n",
       "      <td>1</td>\n",
       "      <td>Spain</td>\n",
       "      <td>Ripe aromas of fig, blackberry and cassis are ...</td>\n",
       "      <td>Carodorum Selección Especial Reserva</td>\n",
       "      <td>96</td>\n",
       "      <td>110.0</td>\n",
       "      <td>Northern Spain</td>\n",
       "      <td>Toro</td>\n",
       "      <td>NaN</td>\n",
       "      <td>Tinta de Toro</td>\n",
       "      <td>Bodega Carmen Rodríguez</td>\n",
       "    </tr>\n",
       "    <tr>\n",
       "      <th>2</th>\n",
       "      <td>2</td>\n",
       "      <td>US</td>\n",
       "      <td>Mac Watson honors the memory of a wine once ma...</td>\n",
       "      <td>Special Selected Late Harvest</td>\n",
       "      <td>96</td>\n",
       "      <td>90.0</td>\n",
       "      <td>California</td>\n",
       "      <td>Knights Valley</td>\n",
       "      <td>Sonoma</td>\n",
       "      <td>Sauvignon Blanc</td>\n",
       "      <td>Macauley</td>\n",
       "    </tr>\n",
       "    <tr>\n",
       "      <th>3</th>\n",
       "      <td>3</td>\n",
       "      <td>US</td>\n",
       "      <td>This spent 20 months in 30% new French oak, an...</td>\n",
       "      <td>Reserve</td>\n",
       "      <td>96</td>\n",
       "      <td>65.0</td>\n",
       "      <td>Oregon</td>\n",
       "      <td>Willamette Valley</td>\n",
       "      <td>Willamette Valley</td>\n",
       "      <td>Pinot Noir</td>\n",
       "      <td>Ponzi</td>\n",
       "    </tr>\n",
       "    <tr>\n",
       "      <th>4</th>\n",
       "      <td>4</td>\n",
       "      <td>France</td>\n",
       "      <td>This is the top wine from La Bégude, named aft...</td>\n",
       "      <td>La Brûlade</td>\n",
       "      <td>95</td>\n",
       "      <td>66.0</td>\n",
       "      <td>Provence</td>\n",
       "      <td>Bandol</td>\n",
       "      <td>NaN</td>\n",
       "      <td>Provence red blend</td>\n",
       "      <td>Domaine de la Bégude</td>\n",
       "    </tr>\n",
       "  </tbody>\n",
       "</table>\n",
       "</div>"
      ],
      "text/plain": [
       "   Unnamed: 0 country                                        description  \\\n",
       "0           0      US  This tremendous 100% varietal wine hails from ...   \n",
       "1           1   Spain  Ripe aromas of fig, blackberry and cassis are ...   \n",
       "2           2      US  Mac Watson honors the memory of a wine once ma...   \n",
       "3           3      US  This spent 20 months in 30% new French oak, an...   \n",
       "4           4  France  This is the top wine from La Bégude, named aft...   \n",
       "\n",
       "                            designation  points  price        province  \\\n",
       "0                     Martha's Vineyard      96  235.0      California   \n",
       "1  Carodorum Selección Especial Reserva      96  110.0  Northern Spain   \n",
       "2         Special Selected Late Harvest      96   90.0      California   \n",
       "3                               Reserve      96   65.0          Oregon   \n",
       "4                            La Brûlade      95   66.0        Provence   \n",
       "\n",
       "            region_1           region_2             variety  \\\n",
       "0        Napa Valley               Napa  Cabernet Sauvignon   \n",
       "1               Toro                NaN       Tinta de Toro   \n",
       "2     Knights Valley             Sonoma     Sauvignon Blanc   \n",
       "3  Willamette Valley  Willamette Valley          Pinot Noir   \n",
       "4             Bandol                NaN  Provence red blend   \n",
       "\n",
       "                    winery  \n",
       "0                    Heitz  \n",
       "1  Bodega Carmen Rodríguez  \n",
       "2                 Macauley  \n",
       "3                    Ponzi  \n",
       "4     Domaine de la Bégude  "
      ]
     },
     "execution_count": 7,
     "metadata": {},
     "output_type": "execute_result"
    }
   ],
   "source": [
    "df.head()"
   ]
  },
  {
   "cell_type": "code",
   "execution_count": 8,
   "id": "aec72ac9-4946-4dec-b4d7-71afada64bf3",
   "metadata": {},
   "outputs": [
    {
     "data": {
      "text/plain": [
       "Unnamed: 0       int64\n",
       "country         object\n",
       "description     object\n",
       "designation     object\n",
       "points           int64\n",
       "price          float64\n",
       "province        object\n",
       "region_1        object\n",
       "region_2        object\n",
       "variety         object\n",
       "winery          object\n",
       "dtype: object"
      ]
     },
     "execution_count": 8,
     "metadata": {},
     "output_type": "execute_result"
    }
   ],
   "source": [
    "df.dtypes  # what are the dtypes for this data frame?"
   ]
  },
  {
   "cell_type": "markdown",
   "id": "961dfe43-557a-4132-9ff1-0c535ae0709c",
   "metadata": {},
   "source": [
    "When we read data from a CSV file, Pandas as to guess what the dtype is. It'll guess one of three things:\n",
    "\n",
    "- `int64` if it sees only digits\n",
    "- `float64` if it sees digits and a decimal point\n",
    "- `object` for everything else\n",
    "\n",
    "But `object` is special. `object` means that we're actually using a Python object, and that Pandas is referring to that object from its special, high-speed, compact memory."
   ]
  },
  {
   "cell_type": "code",
   "execution_count": 9,
   "id": "649ecc55-b379-4ee0-8ddc-30410b406aa9",
   "metadata": {},
   "outputs": [
    {
     "data": {
      "text/html": [
       "<div>\n",
       "<style scoped>\n",
       "    .dataframe tbody tr th:only-of-type {\n",
       "        vertical-align: middle;\n",
       "    }\n",
       "\n",
       "    .dataframe tbody tr th {\n",
       "        vertical-align: top;\n",
       "    }\n",
       "\n",
       "    .dataframe thead th {\n",
       "        text-align: right;\n",
       "    }\n",
       "</style>\n",
       "<table border=\"1\" class=\"dataframe\">\n",
       "  <thead>\n",
       "    <tr style=\"text-align: right;\">\n",
       "      <th></th>\n",
       "      <th>Unnamed: 0</th>\n",
       "      <th>country</th>\n",
       "      <th>description</th>\n",
       "      <th>designation</th>\n",
       "      <th>points</th>\n",
       "      <th>price</th>\n",
       "      <th>province</th>\n",
       "      <th>region_1</th>\n",
       "      <th>region_2</th>\n",
       "      <th>variety</th>\n",
       "      <th>winery</th>\n",
       "    </tr>\n",
       "  </thead>\n",
       "  <tbody>\n",
       "    <tr>\n",
       "      <th>0</th>\n",
       "      <td>0</td>\n",
       "      <td>US</td>\n",
       "      <td>This tremendous 100% varietal wine hails from ...</td>\n",
       "      <td>Martha's Vineyard</td>\n",
       "      <td>96</td>\n",
       "      <td>235.0</td>\n",
       "      <td>California</td>\n",
       "      <td>Napa Valley</td>\n",
       "      <td>Napa</td>\n",
       "      <td>Cabernet Sauvignon</td>\n",
       "      <td>Heitz</td>\n",
       "    </tr>\n",
       "    <tr>\n",
       "      <th>1</th>\n",
       "      <td>1</td>\n",
       "      <td>Spain</td>\n",
       "      <td>Ripe aromas of fig, blackberry and cassis are ...</td>\n",
       "      <td>Carodorum Selección Especial Reserva</td>\n",
       "      <td>96</td>\n",
       "      <td>110.0</td>\n",
       "      <td>Northern Spain</td>\n",
       "      <td>Toro</td>\n",
       "      <td>NaN</td>\n",
       "      <td>Tinta de Toro</td>\n",
       "      <td>Bodega Carmen Rodríguez</td>\n",
       "    </tr>\n",
       "    <tr>\n",
       "      <th>2</th>\n",
       "      <td>2</td>\n",
       "      <td>US</td>\n",
       "      <td>Mac Watson honors the memory of a wine once ma...</td>\n",
       "      <td>Special Selected Late Harvest</td>\n",
       "      <td>96</td>\n",
       "      <td>90.0</td>\n",
       "      <td>California</td>\n",
       "      <td>Knights Valley</td>\n",
       "      <td>Sonoma</td>\n",
       "      <td>Sauvignon Blanc</td>\n",
       "      <td>Macauley</td>\n",
       "    </tr>\n",
       "    <tr>\n",
       "      <th>3</th>\n",
       "      <td>3</td>\n",
       "      <td>US</td>\n",
       "      <td>This spent 20 months in 30% new French oak, an...</td>\n",
       "      <td>Reserve</td>\n",
       "      <td>96</td>\n",
       "      <td>65.0</td>\n",
       "      <td>Oregon</td>\n",
       "      <td>Willamette Valley</td>\n",
       "      <td>Willamette Valley</td>\n",
       "      <td>Pinot Noir</td>\n",
       "      <td>Ponzi</td>\n",
       "    </tr>\n",
       "    <tr>\n",
       "      <th>4</th>\n",
       "      <td>4</td>\n",
       "      <td>France</td>\n",
       "      <td>This is the top wine from La Bégude, named aft...</td>\n",
       "      <td>La Brûlade</td>\n",
       "      <td>95</td>\n",
       "      <td>66.0</td>\n",
       "      <td>Provence</td>\n",
       "      <td>Bandol</td>\n",
       "      <td>NaN</td>\n",
       "      <td>Provence red blend</td>\n",
       "      <td>Domaine de la Bégude</td>\n",
       "    </tr>\n",
       "  </tbody>\n",
       "</table>\n",
       "</div>"
      ],
      "text/plain": [
       "   Unnamed: 0 country                                        description  \\\n",
       "0           0      US  This tremendous 100% varietal wine hails from ...   \n",
       "1           1   Spain  Ripe aromas of fig, blackberry and cassis are ...   \n",
       "2           2      US  Mac Watson honors the memory of a wine once ma...   \n",
       "3           3      US  This spent 20 months in 30% new French oak, an...   \n",
       "4           4  France  This is the top wine from La Bégude, named aft...   \n",
       "\n",
       "                            designation  points  price        province  \\\n",
       "0                     Martha's Vineyard      96  235.0      California   \n",
       "1  Carodorum Selección Especial Reserva      96  110.0  Northern Spain   \n",
       "2         Special Selected Late Harvest      96   90.0      California   \n",
       "3                               Reserve      96   65.0          Oregon   \n",
       "4                            La Brûlade      95   66.0        Provence   \n",
       "\n",
       "            region_1           region_2             variety  \\\n",
       "0        Napa Valley               Napa  Cabernet Sauvignon   \n",
       "1               Toro                NaN       Tinta de Toro   \n",
       "2     Knights Valley             Sonoma     Sauvignon Blanc   \n",
       "3  Willamette Valley  Willamette Valley          Pinot Noir   \n",
       "4             Bandol                NaN  Provence red blend   \n",
       "\n",
       "                    winery  \n",
       "0                    Heitz  \n",
       "1  Bodega Carmen Rodríguez  \n",
       "2                 Macauley  \n",
       "3                    Ponzi  \n",
       "4     Domaine de la Bégude  "
      ]
     },
     "execution_count": 9,
     "metadata": {},
     "output_type": "execute_result"
    }
   ],
   "source": [
    "df.head()"
   ]
  },
  {
   "cell_type": "code",
   "execution_count": 11,
   "id": "56b33f9b-7355-49b6-918b-66e63a9d5bd7",
   "metadata": {},
   "outputs": [
    {
     "data": {
      "text/plain": [
       "str"
      ]
     },
     "execution_count": 11,
     "metadata": {},
     "output_type": "execute_result"
    }
   ],
   "source": [
    "type(df.loc[0, 'description'])"
   ]
  },
  {
   "cell_type": "code",
   "execution_count": 16,
   "id": "85606058-322e-4286-afa1-c41d92c4a9cf",
   "metadata": {},
   "outputs": [],
   "source": [
    "filename = '../data/winemag-150k-reviews.csv'\n",
    "df = pd.read_csv(filename, dtype={'points':'int16', 'price':float})"
   ]
  },
  {
   "cell_type": "code",
   "execution_count": 17,
   "id": "49493341-244d-49c8-ab56-2b2b1c428664",
   "metadata": {},
   "outputs": [
    {
     "data": {
      "text/plain": [
       "Unnamed: 0       int64\n",
       "country         object\n",
       "description     object\n",
       "designation     object\n",
       "points           int16\n",
       "price          float64\n",
       "province        object\n",
       "region_1        object\n",
       "region_2        object\n",
       "variety         object\n",
       "winery          object\n",
       "dtype: object"
      ]
     },
     "execution_count": 17,
     "metadata": {},
     "output_type": "execute_result"
    }
   ],
   "source": [
    "df.dtypes"
   ]
  },
  {
   "cell_type": "markdown",
   "id": "d82cd57d-9561-4e07-abd4-e34f2f8d538f",
   "metadata": {},
   "source": [
    "How can we work with our strings?\n",
    "\n",
    "We want to avoid using a `for` loop at almost any cost.\n",
    "\n",
    "We always want to take advantage of vectorization in Pandas.\n",
    "\n",
    "The way we do that with strings is with the `.str` attribute. This, attached to a series, gives us access to a huge number of methods, both those that Python provides and a bunch of others."
   ]
  },
  {
   "cell_type": "code",
   "execution_count": 18,
   "id": "10dc6a3d-7d29-460b-ac7d-2991d9d5308a",
   "metadata": {},
   "outputs": [
    {
     "data": {
      "text/plain": [
       "0         this tremendous 100% varietal wine hails from ...\n",
       "1         ripe aromas of fig, blackberry and cassis are ...\n",
       "2         mac watson honors the memory of a wine once ma...\n",
       "3         this spent 20 months in 30% new french oak, an...\n",
       "4         this is the top wine from la bégude, named aft...\n",
       "                                ...                        \n",
       "150925    many people feel fiano represents southern ita...\n",
       "150926    offers an intriguing nose with ginger, lime an...\n",
       "150927    this classic example comes from a cru vineyard...\n",
       "150928    a perfect salmon shade, with scents of peaches...\n",
       "150929    more pinot grigios should taste like this. a r...\n",
       "Name: description, Length: 150930, dtype: object"
      ]
     },
     "execution_count": 18,
     "metadata": {},
     "output_type": "execute_result"
    }
   ],
   "source": [
    "# if we want to lowercase something, we can use .str.lower -- just like in Python\n",
    "\n",
    "df['description'].str.lower()"
   ]
  },
  {
   "cell_type": "code",
   "execution_count": 19,
   "id": "67581963-710c-4898-ae9e-800ad02d8a47",
   "metadata": {},
   "outputs": [
    {
     "data": {
      "text/plain": [
       "0         THIS TREMENDOUS 100% VARIETAL WINE HAILS FROM ...\n",
       "1         RIPE AROMAS OF FIG, BLACKBERRY AND CASSIS ARE ...\n",
       "2         MAC WATSON HONORS THE MEMORY OF A WINE ONCE MA...\n",
       "3         THIS SPENT 20 MONTHS IN 30% NEW FRENCH OAK, AN...\n",
       "4         THIS IS THE TOP WINE FROM LA BÉGUDE, NAMED AFT...\n",
       "                                ...                        \n",
       "150925    MANY PEOPLE FEEL FIANO REPRESENTS SOUTHERN ITA...\n",
       "150926    OFFERS AN INTRIGUING NOSE WITH GINGER, LIME AN...\n",
       "150927    THIS CLASSIC EXAMPLE COMES FROM A CRU VINEYARD...\n",
       "150928    A PERFECT SALMON SHADE, WITH SCENTS OF PEACHES...\n",
       "150929    MORE PINOT GRIGIOS SHOULD TASTE LIKE THIS. A R...\n",
       "Name: description, Length: 150930, dtype: object"
      ]
     },
     "execution_count": 19,
     "metadata": {},
     "output_type": "execute_result"
    }
   ],
   "source": [
    "df['description'].str.upper()"
   ]
  },
  {
   "cell_type": "code",
   "execution_count": 20,
   "id": "5b0bfab7-79a2-47ae-bc28-01f8004b4765",
   "metadata": {},
   "outputs": [],
   "source": [
    "# You can assign the result of a method call to a new column, or to (replace) the existing column\n",
    "\n",
    "df['description_upper'] = df['description'].str.upper()"
   ]
  },
  {
   "cell_type": "code",
   "execution_count": 21,
   "id": "11ee6c0f-be26-4b3f-9302-740b0f608dd3",
   "metadata": {},
   "outputs": [
    {
     "data": {
      "text/html": [
       "<div>\n",
       "<style scoped>\n",
       "    .dataframe tbody tr th:only-of-type {\n",
       "        vertical-align: middle;\n",
       "    }\n",
       "\n",
       "    .dataframe tbody tr th {\n",
       "        vertical-align: top;\n",
       "    }\n",
       "\n",
       "    .dataframe thead th {\n",
       "        text-align: right;\n",
       "    }\n",
       "</style>\n",
       "<table border=\"1\" class=\"dataframe\">\n",
       "  <thead>\n",
       "    <tr style=\"text-align: right;\">\n",
       "      <th></th>\n",
       "      <th>Unnamed: 0</th>\n",
       "      <th>country</th>\n",
       "      <th>description</th>\n",
       "      <th>designation</th>\n",
       "      <th>points</th>\n",
       "      <th>price</th>\n",
       "      <th>province</th>\n",
       "      <th>region_1</th>\n",
       "      <th>region_2</th>\n",
       "      <th>variety</th>\n",
       "      <th>winery</th>\n",
       "      <th>description_upper</th>\n",
       "    </tr>\n",
       "  </thead>\n",
       "  <tbody>\n",
       "    <tr>\n",
       "      <th>0</th>\n",
       "      <td>0</td>\n",
       "      <td>US</td>\n",
       "      <td>This tremendous 100% varietal wine hails from ...</td>\n",
       "      <td>Martha's Vineyard</td>\n",
       "      <td>96</td>\n",
       "      <td>235.0</td>\n",
       "      <td>California</td>\n",
       "      <td>Napa Valley</td>\n",
       "      <td>Napa</td>\n",
       "      <td>Cabernet Sauvignon</td>\n",
       "      <td>Heitz</td>\n",
       "      <td>THIS TREMENDOUS 100% VARIETAL WINE HAILS FROM ...</td>\n",
       "    </tr>\n",
       "    <tr>\n",
       "      <th>1</th>\n",
       "      <td>1</td>\n",
       "      <td>Spain</td>\n",
       "      <td>Ripe aromas of fig, blackberry and cassis are ...</td>\n",
       "      <td>Carodorum Selección Especial Reserva</td>\n",
       "      <td>96</td>\n",
       "      <td>110.0</td>\n",
       "      <td>Northern Spain</td>\n",
       "      <td>Toro</td>\n",
       "      <td>NaN</td>\n",
       "      <td>Tinta de Toro</td>\n",
       "      <td>Bodega Carmen Rodríguez</td>\n",
       "      <td>RIPE AROMAS OF FIG, BLACKBERRY AND CASSIS ARE ...</td>\n",
       "    </tr>\n",
       "    <tr>\n",
       "      <th>2</th>\n",
       "      <td>2</td>\n",
       "      <td>US</td>\n",
       "      <td>Mac Watson honors the memory of a wine once ma...</td>\n",
       "      <td>Special Selected Late Harvest</td>\n",
       "      <td>96</td>\n",
       "      <td>90.0</td>\n",
       "      <td>California</td>\n",
       "      <td>Knights Valley</td>\n",
       "      <td>Sonoma</td>\n",
       "      <td>Sauvignon Blanc</td>\n",
       "      <td>Macauley</td>\n",
       "      <td>MAC WATSON HONORS THE MEMORY OF A WINE ONCE MA...</td>\n",
       "    </tr>\n",
       "    <tr>\n",
       "      <th>3</th>\n",
       "      <td>3</td>\n",
       "      <td>US</td>\n",
       "      <td>This spent 20 months in 30% new French oak, an...</td>\n",
       "      <td>Reserve</td>\n",
       "      <td>96</td>\n",
       "      <td>65.0</td>\n",
       "      <td>Oregon</td>\n",
       "      <td>Willamette Valley</td>\n",
       "      <td>Willamette Valley</td>\n",
       "      <td>Pinot Noir</td>\n",
       "      <td>Ponzi</td>\n",
       "      <td>THIS SPENT 20 MONTHS IN 30% NEW FRENCH OAK, AN...</td>\n",
       "    </tr>\n",
       "    <tr>\n",
       "      <th>4</th>\n",
       "      <td>4</td>\n",
       "      <td>France</td>\n",
       "      <td>This is the top wine from La Bégude, named aft...</td>\n",
       "      <td>La Brûlade</td>\n",
       "      <td>95</td>\n",
       "      <td>66.0</td>\n",
       "      <td>Provence</td>\n",
       "      <td>Bandol</td>\n",
       "      <td>NaN</td>\n",
       "      <td>Provence red blend</td>\n",
       "      <td>Domaine de la Bégude</td>\n",
       "      <td>THIS IS THE TOP WINE FROM LA BÉGUDE, NAMED AFT...</td>\n",
       "    </tr>\n",
       "  </tbody>\n",
       "</table>\n",
       "</div>"
      ],
      "text/plain": [
       "   Unnamed: 0 country                                        description  \\\n",
       "0           0      US  This tremendous 100% varietal wine hails from ...   \n",
       "1           1   Spain  Ripe aromas of fig, blackberry and cassis are ...   \n",
       "2           2      US  Mac Watson honors the memory of a wine once ma...   \n",
       "3           3      US  This spent 20 months in 30% new French oak, an...   \n",
       "4           4  France  This is the top wine from La Bégude, named aft...   \n",
       "\n",
       "                            designation  points  price        province  \\\n",
       "0                     Martha's Vineyard      96  235.0      California   \n",
       "1  Carodorum Selección Especial Reserva      96  110.0  Northern Spain   \n",
       "2         Special Selected Late Harvest      96   90.0      California   \n",
       "3                               Reserve      96   65.0          Oregon   \n",
       "4                            La Brûlade      95   66.0        Provence   \n",
       "\n",
       "            region_1           region_2             variety  \\\n",
       "0        Napa Valley               Napa  Cabernet Sauvignon   \n",
       "1               Toro                NaN       Tinta de Toro   \n",
       "2     Knights Valley             Sonoma     Sauvignon Blanc   \n",
       "3  Willamette Valley  Willamette Valley          Pinot Noir   \n",
       "4             Bandol                NaN  Provence red blend   \n",
       "\n",
       "                    winery                                  description_upper  \n",
       "0                    Heitz  THIS TREMENDOUS 100% VARIETAL WINE HAILS FROM ...  \n",
       "1  Bodega Carmen Rodríguez  RIPE AROMAS OF FIG, BLACKBERRY AND CASSIS ARE ...  \n",
       "2                 Macauley  MAC WATSON HONORS THE MEMORY OF A WINE ONCE MA...  \n",
       "3                    Ponzi  THIS SPENT 20 MONTHS IN 30% NEW FRENCH OAK, AN...  \n",
       "4     Domaine de la Bégude  THIS IS THE TOP WINE FROM LA BÉGUDE, NAMED AFT...  "
      ]
     },
     "execution_count": 21,
     "metadata": {},
     "output_type": "execute_result"
    }
   ],
   "source": [
    "df.head()"
   ]
  },
  {
   "cell_type": "code",
   "execution_count": 22,
   "id": "10464a5a-7615-4dd2-9784-08de6780d9a8",
   "metadata": {},
   "outputs": [
    {
     "data": {
      "text/plain": [
       "0       10\n",
       "1       20\n",
       "2    hello\n",
       "3       30\n",
       "4       40\n",
       "dtype: object"
      ]
     },
     "execution_count": 22,
     "metadata": {},
     "output_type": "execute_result"
    }
   ],
   "source": [
    "s = Series('10 20 hello 30 40'.split())\n",
    "s"
   ]
  },
  {
   "cell_type": "code",
   "execution_count": 25,
   "id": "b63a8051-a9e7-4bbc-b636-b380e7f83a2d",
   "metadata": {},
   "outputs": [
    {
     "data": {
      "text/plain": [
       "0    10\n",
       "1    20\n",
       "3    30\n",
       "4    40\n",
       "dtype: object"
      ]
     },
     "execution_count": 25,
     "metadata": {},
     "output_type": "execute_result"
    }
   ],
   "source": [
    "# I want to keep only those values that can be turned into ints\n",
    "# and then turn them into ints\n",
    "\n",
    "# Python provides the str.isdigit method, which returns True if the string only contains digits\n",
    "\n",
    "s.loc[s.str.isdigit()]  # we apply the boolean series to our column"
   ]
  },
  {
   "cell_type": "code",
   "execution_count": 26,
   "id": "703eec33-2129-4052-a70f-0b10c2c610cc",
   "metadata": {},
   "outputs": [
    {
     "data": {
      "text/plain": [
       "0    10\n",
       "1    20\n",
       "3    30\n",
       "4    40\n",
       "dtype: int64"
      ]
     },
     "execution_count": 26,
     "metadata": {},
     "output_type": "execute_result"
    }
   ],
   "source": [
    "s.loc[s.str.isdigit()].astype(int)   # now we get a new series containing ints without 'hello'"
   ]
  },
  {
   "cell_type": "code",
   "execution_count": 28,
   "id": "dbc052d2-89ed-4dfd-87e0-cc5f5c03784a",
   "metadata": {},
   "outputs": [
    {
     "data": {
      "text/plain": [
       "2    hello\n",
       "dtype: object"
      ]
     },
     "execution_count": 28,
     "metadata": {},
     "output_type": "execute_result"
    }
   ],
   "source": [
    "# str.contains is not a Python method, but one that Pandas added \n",
    "\n",
    "s.loc[s.str.contains('e')]  # keep only those elements that contain the letter 'e'"
   ]
  },
  {
   "cell_type": "code",
   "execution_count": 29,
   "id": "68624632-455c-4d45-96a8-143baf8dc53a",
   "metadata": {},
   "outputs": [
    {
     "data": {
      "text/plain": [
       "0         355\n",
       "1         318\n",
       "2         280\n",
       "3         386\n",
       "4         376\n",
       "         ... \n",
       "150925    285\n",
       "150926    266\n",
       "150927    397\n",
       "150928    253\n",
       "150929    203\n",
       "Name: description, Length: 150930, dtype: int64"
      ]
     },
     "execution_count": 29,
     "metadata": {},
     "output_type": "execute_result"
    }
   ],
   "source": [
    "# another useful method is str.len, which returns the length (as an int) of each string in the series\n",
    "\n",
    "df['description'].str.len()"
   ]
  },
  {
   "cell_type": "markdown",
   "id": "2902248b-951d-4597-b8dd-1ed904251807",
   "metadata": {},
   "source": [
    "# Exercises: Pandas strings\n",
    "\n",
    "1. Load the = '../data/winemag-150k-reviews.csv' file into a data frame.\n",
    "2. How many reviews contain the letter 'x'?\n",
    "3. What is the median review length? What is the mean review length?\n",
    "\n"
   ]
  },
  {
   "cell_type": "code",
   "execution_count": 30,
   "id": "d50aface-7362-4254-bf62-93ab995f4573",
   "metadata": {},
   "outputs": [],
   "source": [
    "df = pd.read_csv(filename)"
   ]
  },
  {
   "cell_type": "code",
   "execution_count": 33,
   "id": "02305eba-a105-429b-841f-128e348e6f21",
   "metadata": {},
   "outputs": [
    {
     "data": {
      "text/html": [
       "<div>\n",
       "<style scoped>\n",
       "    .dataframe tbody tr th:only-of-type {\n",
       "        vertical-align: middle;\n",
       "    }\n",
       "\n",
       "    .dataframe tbody tr th {\n",
       "        vertical-align: top;\n",
       "    }\n",
       "\n",
       "    .dataframe thead th {\n",
       "        text-align: right;\n",
       "    }\n",
       "</style>\n",
       "<table border=\"1\" class=\"dataframe\">\n",
       "  <thead>\n",
       "    <tr style=\"text-align: right;\">\n",
       "      <th></th>\n",
       "      <th>Unnamed: 0</th>\n",
       "      <th>country</th>\n",
       "      <th>description</th>\n",
       "      <th>designation</th>\n",
       "      <th>points</th>\n",
       "      <th>price</th>\n",
       "      <th>province</th>\n",
       "      <th>region_1</th>\n",
       "      <th>region_2</th>\n",
       "      <th>variety</th>\n",
       "      <th>winery</th>\n",
       "    </tr>\n",
       "  </thead>\n",
       "  <tbody>\n",
       "    <tr>\n",
       "      <th>2</th>\n",
       "      <td>2</td>\n",
       "      <td>US</td>\n",
       "      <td>Mac Watson honors the memory of a wine once ma...</td>\n",
       "      <td>Special Selected Late Harvest</td>\n",
       "      <td>96</td>\n",
       "      <td>90.0</td>\n",
       "      <td>California</td>\n",
       "      <td>Knights Valley</td>\n",
       "      <td>Sonoma</td>\n",
       "      <td>Sauvignon Blanc</td>\n",
       "      <td>Macauley</td>\n",
       "    </tr>\n",
       "    <tr>\n",
       "      <th>3</th>\n",
       "      <td>3</td>\n",
       "      <td>US</td>\n",
       "      <td>This spent 20 months in 30% new French oak, an...</td>\n",
       "      <td>Reserve</td>\n",
       "      <td>96</td>\n",
       "      <td>65.0</td>\n",
       "      <td>Oregon</td>\n",
       "      <td>Willamette Valley</td>\n",
       "      <td>Willamette Valley</td>\n",
       "      <td>Pinot Noir</td>\n",
       "      <td>Ponzi</td>\n",
       "    </tr>\n",
       "    <tr>\n",
       "      <th>4</th>\n",
       "      <td>4</td>\n",
       "      <td>France</td>\n",
       "      <td>This is the top wine from La Bégude, named aft...</td>\n",
       "      <td>La Brûlade</td>\n",
       "      <td>95</td>\n",
       "      <td>66.0</td>\n",
       "      <td>Provence</td>\n",
       "      <td>Bandol</td>\n",
       "      <td>NaN</td>\n",
       "      <td>Provence red blend</td>\n",
       "      <td>Domaine de la Bégude</td>\n",
       "    </tr>\n",
       "    <tr>\n",
       "      <th>5</th>\n",
       "      <td>5</td>\n",
       "      <td>Spain</td>\n",
       "      <td>Deep, dense and pure from the opening bell, th...</td>\n",
       "      <td>Numanthia</td>\n",
       "      <td>95</td>\n",
       "      <td>73.0</td>\n",
       "      <td>Northern Spain</td>\n",
       "      <td>Toro</td>\n",
       "      <td>NaN</td>\n",
       "      <td>Tinta de Toro</td>\n",
       "      <td>Numanthia</td>\n",
       "    </tr>\n",
       "    <tr>\n",
       "      <th>6</th>\n",
       "      <td>6</td>\n",
       "      <td>Spain</td>\n",
       "      <td>Slightly gritty black-fruit aromas include a s...</td>\n",
       "      <td>San Román</td>\n",
       "      <td>95</td>\n",
       "      <td>65.0</td>\n",
       "      <td>Northern Spain</td>\n",
       "      <td>Toro</td>\n",
       "      <td>NaN</td>\n",
       "      <td>Tinta de Toro</td>\n",
       "      <td>Maurodos</td>\n",
       "    </tr>\n",
       "    <tr>\n",
       "      <th>...</th>\n",
       "      <td>...</td>\n",
       "      <td>...</td>\n",
       "      <td>...</td>\n",
       "      <td>...</td>\n",
       "      <td>...</td>\n",
       "      <td>...</td>\n",
       "      <td>...</td>\n",
       "      <td>...</td>\n",
       "      <td>...</td>\n",
       "      <td>...</td>\n",
       "      <td>...</td>\n",
       "    </tr>\n",
       "    <tr>\n",
       "      <th>150921</th>\n",
       "      <td>150921</td>\n",
       "      <td>France</td>\n",
       "      <td>Shows some older notes: a bouquet of toasted w...</td>\n",
       "      <td>Blanc de Blancs Brut Mosaïque</td>\n",
       "      <td>91</td>\n",
       "      <td>38.0</td>\n",
       "      <td>Champagne</td>\n",
       "      <td>Champagne</td>\n",
       "      <td>NaN</td>\n",
       "      <td>Champagne Blend</td>\n",
       "      <td>Jacquart</td>\n",
       "    </tr>\n",
       "    <tr>\n",
       "      <th>150922</th>\n",
       "      <td>150922</td>\n",
       "      <td>Italy</td>\n",
       "      <td>Made by 30-ish Roberta Borghese high above Man...</td>\n",
       "      <td>Superiore</td>\n",
       "      <td>91</td>\n",
       "      <td>NaN</td>\n",
       "      <td>Northeastern Italy</td>\n",
       "      <td>Colli Orientali del Friuli</td>\n",
       "      <td>NaN</td>\n",
       "      <td>Tocai</td>\n",
       "      <td>Ronchi di Manzano</td>\n",
       "    </tr>\n",
       "    <tr>\n",
       "      <th>150923</th>\n",
       "      <td>150923</td>\n",
       "      <td>France</td>\n",
       "      <td>Rich and toasty, with tiny bubbles. The bouque...</td>\n",
       "      <td>Demi-Sec</td>\n",
       "      <td>91</td>\n",
       "      <td>30.0</td>\n",
       "      <td>Champagne</td>\n",
       "      <td>Champagne</td>\n",
       "      <td>NaN</td>\n",
       "      <td>Champagne Blend</td>\n",
       "      <td>Jacquart</td>\n",
       "    </tr>\n",
       "    <tr>\n",
       "      <th>150924</th>\n",
       "      <td>150924</td>\n",
       "      <td>France</td>\n",
       "      <td>Really fine for a low-acid vintage, there's an...</td>\n",
       "      <td>Diamant Bleu</td>\n",
       "      <td>91</td>\n",
       "      <td>70.0</td>\n",
       "      <td>Champagne</td>\n",
       "      <td>Champagne</td>\n",
       "      <td>NaN</td>\n",
       "      <td>Champagne Blend</td>\n",
       "      <td>Heidsieck &amp; Co Monopole</td>\n",
       "    </tr>\n",
       "    <tr>\n",
       "      <th>150927</th>\n",
       "      <td>150927</td>\n",
       "      <td>Italy</td>\n",
       "      <td>This classic example comes from a cru vineyard...</td>\n",
       "      <td>Terre di Dora</td>\n",
       "      <td>91</td>\n",
       "      <td>20.0</td>\n",
       "      <td>Southern Italy</td>\n",
       "      <td>Fiano di Avellino</td>\n",
       "      <td>NaN</td>\n",
       "      <td>White Blend</td>\n",
       "      <td>Terredora</td>\n",
       "    </tr>\n",
       "  </tbody>\n",
       "</table>\n",
       "<p>52795 rows × 11 columns</p>\n",
       "</div>"
      ],
      "text/plain": [
       "        Unnamed: 0 country                                        description  \\\n",
       "2                2      US  Mac Watson honors the memory of a wine once ma...   \n",
       "3                3      US  This spent 20 months in 30% new French oak, an...   \n",
       "4                4  France  This is the top wine from La Bégude, named aft...   \n",
       "5                5   Spain  Deep, dense and pure from the opening bell, th...   \n",
       "6                6   Spain  Slightly gritty black-fruit aromas include a s...   \n",
       "...            ...     ...                                                ...   \n",
       "150921      150921  France  Shows some older notes: a bouquet of toasted w...   \n",
       "150922      150922   Italy  Made by 30-ish Roberta Borghese high above Man...   \n",
       "150923      150923  France  Rich and toasty, with tiny bubbles. The bouque...   \n",
       "150924      150924  France  Really fine for a low-acid vintage, there's an...   \n",
       "150927      150927   Italy  This classic example comes from a cru vineyard...   \n",
       "\n",
       "                          designation  points  price            province  \\\n",
       "2       Special Selected Late Harvest      96   90.0          California   \n",
       "3                             Reserve      96   65.0              Oregon   \n",
       "4                          La Brûlade      95   66.0            Provence   \n",
       "5                           Numanthia      95   73.0      Northern Spain   \n",
       "6                           San Román      95   65.0      Northern Spain   \n",
       "...                               ...     ...    ...                 ...   \n",
       "150921  Blanc de Blancs Brut Mosaïque      91   38.0           Champagne   \n",
       "150922                      Superiore      91    NaN  Northeastern Italy   \n",
       "150923                       Demi-Sec      91   30.0           Champagne   \n",
       "150924                   Diamant Bleu      91   70.0           Champagne   \n",
       "150927                  Terre di Dora      91   20.0      Southern Italy   \n",
       "\n",
       "                          region_1           region_2             variety  \\\n",
       "2                   Knights Valley             Sonoma     Sauvignon Blanc   \n",
       "3                Willamette Valley  Willamette Valley          Pinot Noir   \n",
       "4                           Bandol                NaN  Provence red blend   \n",
       "5                             Toro                NaN       Tinta de Toro   \n",
       "6                             Toro                NaN       Tinta de Toro   \n",
       "...                            ...                ...                 ...   \n",
       "150921                   Champagne                NaN     Champagne Blend   \n",
       "150922  Colli Orientali del Friuli                NaN               Tocai   \n",
       "150923                   Champagne                NaN     Champagne Blend   \n",
       "150924                   Champagne                NaN     Champagne Blend   \n",
       "150927           Fiano di Avellino                NaN         White Blend   \n",
       "\n",
       "                         winery  \n",
       "2                      Macauley  \n",
       "3                         Ponzi  \n",
       "4          Domaine de la Bégude  \n",
       "5                     Numanthia  \n",
       "6                      Maurodos  \n",
       "...                         ...  \n",
       "150921                 Jacquart  \n",
       "150922        Ronchi di Manzano  \n",
       "150923                 Jacquart  \n",
       "150924  Heidsieck & Co Monopole  \n",
       "150927                Terredora  \n",
       "\n",
       "[52795 rows x 11 columns]"
      ]
     },
     "execution_count": 33,
     "metadata": {},
     "output_type": "execute_result"
    }
   ],
   "source": [
    "# which rows of the data frame have a description containing x\n",
    "\n",
    "df.loc[df['description'].str.contains('x')]"
   ]
  },
  {
   "cell_type": "code",
   "execution_count": 34,
   "id": "6d51ec9a-a63f-4a41-8cdc-7c374d9416f9",
   "metadata": {},
   "outputs": [
    {
     "data": {
      "text/plain": [
       "2         Mac Watson honors the memory of a wine once ma...\n",
       "3         This spent 20 months in 30% new French oak, an...\n",
       "4         This is the top wine from La Bégude, named aft...\n",
       "5         Deep, dense and pure from the opening bell, th...\n",
       "6         Slightly gritty black-fruit aromas include a s...\n",
       "                                ...                        \n",
       "150921    Shows some older notes: a bouquet of toasted w...\n",
       "150922    Made by 30-ish Roberta Borghese high above Man...\n",
       "150923    Rich and toasty, with tiny bubbles. The bouque...\n",
       "150924    Really fine for a low-acid vintage, there's an...\n",
       "150927    This classic example comes from a cru vineyard...\n",
       "Name: description, Length: 52795, dtype: object"
      ]
     },
     "execution_count": 34,
     "metadata": {},
     "output_type": "execute_result"
    }
   ],
   "source": [
    "# which descriptions contain 'x'\n",
    "\n",
    "df.loc[\n",
    "    df['description'].str.contains('x'),    # row selector\n",
    "    'description'                           # column selector\n",
    "]"
   ]
  },
  {
   "cell_type": "code",
   "execution_count": 36,
   "id": "bd9c50ae-b234-44f0-88cf-4d91b711c664",
   "metadata": {},
   "outputs": [
    {
     "data": {
      "text/plain": [
       "count    150930.000000\n",
       "mean        240.373948\n",
       "std          69.196308\n",
       "min          17.000000\n",
       "25%         193.000000\n",
       "50%         236.000000\n",
       "75%         282.000000\n",
       "max         829.000000\n",
       "Name: description, dtype: float64"
      ]
     },
     "execution_count": 36,
     "metadata": {},
     "output_type": "execute_result"
    }
   ],
   "source": [
    "# What is the median review length? What is the mean review length?\n",
    "\n",
    "df['description'].str.len().describe()"
   ]
  },
  {
   "cell_type": "code",
   "execution_count": 37,
   "id": "5c5c50a7-2427-4bd1-a4dd-8f615c91187a",
   "metadata": {},
   "outputs": [
    {
     "data": {
      "text/plain": [
       "count    52795.000000\n",
       "mean       263.258945\n",
       "std         70.237918\n",
       "min         50.000000\n",
       "25%        214.000000\n",
       "50%        257.000000\n",
       "75%        305.000000\n",
       "max        764.000000\n",
       "Name: description, dtype: float64"
      ]
     },
     "execution_count": 37,
     "metadata": {},
     "output_type": "execute_result"
    }
   ],
   "source": [
    "# mean/median review lengths where the review contains 'x'\n",
    "\n",
    "df.loc[\n",
    "    df['description'].str.contains('x'),    # row selector\n",
    "    'description'                           # column selector\n",
    "].str.len().describe()"
   ]
  },
  {
   "cell_type": "code",
   "execution_count": 39,
   "id": "8d793326-3fbf-46a2-b49f-ad8ca1dbf50d",
   "metadata": {},
   "outputs": [
    {
     "data": {
      "text/plain": [
       "0         [This, tremendous, 100%, varietal, wine, hails...\n",
       "1         [Ripe, aromas, of, fig,, blackberry, and, cass...\n",
       "2         [Mac, Watson, honors, the, memory, of, a, wine...\n",
       "3         [This, spent, 20, months, in, 30%, new, French...\n",
       "4         [This, is, the, top, wine, from, La, Bégude,, ...\n",
       "                                ...                        \n",
       "150925    [Many, people, feel, Fiano, represents, southe...\n",
       "150926    [Offers, an, intriguing, nose, with, ginger,, ...\n",
       "150927    [This, classic, example, comes, from, a, cru, ...\n",
       "150928    [A, perfect, salmon, shade,, with, scents, of,...\n",
       "150929    [More, Pinot, Grigios, should, taste, like, th...\n",
       "Name: description, Length: 150930, dtype: object"
      ]
     },
     "execution_count": 39,
     "metadata": {},
     "output_type": "execute_result"
    }
   ],
   "source": [
    "# what if I want to find out how many words were in each description?\n",
    "\n",
    "# if this were Python, then I would apply the str.split method\n",
    "\n",
    "df['description'].str.split()"
   ]
  },
  {
   "cell_type": "code",
   "execution_count": 41,
   "id": "49029810-02d3-400b-89f0-69b7ca79799b",
   "metadata": {},
   "outputs": [
    {
     "data": {
      "text/plain": [
       "count    150930.000000\n",
       "mean         40.183178\n",
       "std          11.717227\n",
       "min           3.000000\n",
       "25%          32.000000\n",
       "50%          39.000000\n",
       "75%          47.000000\n",
       "max         135.000000\n",
       "Name: description, dtype: float64"
      ]
     },
     "execution_count": 41,
     "metadata": {},
     "output_type": "execute_result"
    }
   ],
   "source": [
    "# how can I find out how many words are in each review?\n",
    "# when you run str.len(), Pandas doesn't check what kind of value you have\n",
    "# it just runs Python's \"len\" function on the object\n",
    "\n",
    "# so if you have a series of lists, just use str.len()\n",
    "\n",
    "df['description'].str.split().str.len().describe()"
   ]
  },
  {
   "cell_type": "code",
   "execution_count": 42,
   "id": "9ec78f6c-8d7a-414c-887d-f16c4e9e52e0",
   "metadata": {},
   "outputs": [
    {
     "data": {
      "text/plain": [
       "0         True\n",
       "1         True\n",
       "2         True\n",
       "3         True\n",
       "4         True\n",
       "          ... \n",
       "150925    True\n",
       "150926    True\n",
       "150927    True\n",
       "150928    True\n",
       "150929    True\n",
       "Name: description, Length: 150930, dtype: bool"
      ]
     },
     "execution_count": 42,
     "metadata": {},
     "output_type": "execute_result"
    }
   ],
   "source": [
    "# str.contains works great for finding text\n",
    "# it also supports \"regular expressions,\" patterns in text\n",
    "\n",
    "# for example, if I want to find reviews that contain either x or y or z\n",
    "# we can describe that in a regular expression as [xyz]\n",
    "\n",
    "df['description'].str.contains('[xyz]', regex=True)"
   ]
  },
  {
   "cell_type": "code",
   "execution_count": 47,
   "id": "7e6d6b40-b203-4dee-929b-80fe7994b4a6",
   "metadata": {},
   "outputs": [
    {
     "data": {
      "text/plain": [
       "description\n",
       "False    150916\n",
       "True         14\n",
       "Name: count, dtype: int64"
      ]
     },
     "execution_count": 47,
     "metadata": {},
     "output_type": "execute_result"
    }
   ],
   "source": [
    "df['description'].str.contains(r'\\bsheep|cow\\b').value_counts()"
   ]
  },
  {
   "cell_type": "code",
   "execution_count": 48,
   "id": "706acd29-10a5-44f5-bb2b-27d6d813c254",
   "metadata": {},
   "outputs": [
    {
     "data": {
      "text/plain": [
       "0         T\n",
       "1         R\n",
       "2         M\n",
       "3         T\n",
       "4         T\n",
       "         ..\n",
       "150925    M\n",
       "150926    O\n",
       "150927    T\n",
       "150928    A\n",
       "150929    M\n",
       "Name: description, Length: 150930, dtype: object"
      ]
     },
     "execution_count": 48,
     "metadata": {},
     "output_type": "execute_result"
    }
   ],
   "source": [
    "# we can use .str.get to perform [] retrievals on our string\n",
    "\n",
    "df['description'].str.get(0)  # this will return the first character of each descrpition"
   ]
  },
  {
   "cell_type": "code",
   "execution_count": 49,
   "id": "622b8a6d-194f-499b-98df-c2d6cb4b779a",
   "metadata": {},
   "outputs": [
    {
     "data": {
      "text/plain": [
       "0           This\n",
       "1           Ripe\n",
       "2            Mac\n",
       "3           This\n",
       "4           This\n",
       "           ...  \n",
       "150925      Many\n",
       "150926    Offers\n",
       "150927      This\n",
       "150928         A\n",
       "150929      More\n",
       "Name: description, Length: 150930, dtype: object"
      ]
     },
     "execution_count": 49,
     "metadata": {},
     "output_type": "execute_result"
    }
   ],
   "source": [
    "df['description'].str.split().str.get(0)  # this will return the first word of each descrpition"
   ]
  },
  {
   "cell_type": "code",
   "execution_count": 51,
   "id": "1d1b1875-0737-4dd0-b07f-54b94bcb4d9a",
   "metadata": {},
   "outputs": [
    {
     "data": {
      "text/plain": [
       "0            [100%, varietal, wine]\n",
       "1            [of, fig,, blackberry]\n",
       "2             [honors, the, memory]\n",
       "3                  [20, months, in]\n",
       "4                  [the, top, wine]\n",
       "                    ...            \n",
       "150925    [feel, Fiano, represents]\n",
       "150926     [intriguing, nose, with]\n",
       "150927       [example, comes, from]\n",
       "150928       [salmon, shade,, with]\n",
       "150929     [Grigios, should, taste]\n",
       "Name: description, Length: 150930, dtype: object"
      ]
     },
     "execution_count": 51,
     "metadata": {},
     "output_type": "execute_result"
    }
   ],
   "source": [
    "# if you want to grab a slice, then you need a separate method, str.slice\n",
    "# those are where we say [start:end] or [start:end:stepsize]\n",
    "df['description'].str.split().str.slice(2,5) "
   ]
  },
  {
   "cell_type": "markdown",
   "id": "9401dd4e-a1f5-41a7-a78b-f41adea91350",
   "metadata": {},
   "source": [
    "# Exercises: More string stuff!\n",
    "\n",
    "1. What is the average wine score where the description is in the top 25% of lengths? What about the bottom?\n",
    "2. Retrieve the 10th through 20th characters from each description.\n",
    "3. Find all wines where the country is either France or Spain. (Hint: You can say `a|b` for a regular expression that searches for either `a` or `b`.)"
   ]
  },
  {
   "cell_type": "code",
   "execution_count": 57,
   "id": "0f1d5dda-ed9f-41bd-a9c3-8ab8679e157c",
   "metadata": {},
   "outputs": [
    {
     "data": {
      "text/plain": [
       "90.02646323819545"
      ]
     },
     "execution_count": 57,
     "metadata": {},
     "output_type": "execute_result"
    }
   ],
   "source": [
    "# What is the average wine score where the description is in the top 25% of lengths? \n",
    "\n",
    "df.loc[\n",
    "    df['description'].str.len() >= df['description'].str.len().quantile(0.75)  # row selector\n",
    "    ,\n",
    "    'points'\n",
    "].mean()"
   ]
  },
  {
   "cell_type": "code",
   "execution_count": 58,
   "id": "dff01aec-cc80-48a0-bdf9-6ccd2731ad62",
   "metadata": {},
   "outputs": [
    {
     "data": {
      "text/plain": [
       "85.838828701523"
      ]
     },
     "execution_count": 58,
     "metadata": {},
     "output_type": "execute_result"
    }
   ],
   "source": [
    "\n",
    "df.loc[\n",
    "    df['description'].str.len() <= df['description'].str.len().quantile(0.25)  # row selector\n",
    "    ,\n",
    "    'points'\n",
    "].mean()"
   ]
  },
  {
   "cell_type": "code",
   "execution_count": 59,
   "id": "0c6ca9d2-19fa-4554-a64a-84e895f62988",
   "metadata": {},
   "outputs": [
    {
     "data": {
      "text/plain": [
       "0         ndous 100%\n",
       "1         s of fig, \n",
       "2          honors th\n",
       "3          20 months\n",
       "4         e top wine\n",
       "             ...    \n",
       "150925    e feel Fia\n",
       "150926    intriguing\n",
       "150927    ic example\n",
       "150928    salmon sha\n",
       "150929     Grigios s\n",
       "Name: description, Length: 150930, dtype: object"
      ]
     },
     "execution_count": 59,
     "metadata": {},
     "output_type": "execute_result"
    }
   ],
   "source": [
    "# Retrieve the 10th through 20th characters from each description.\n",
    "\n",
    "df['description'].str.slice(10, 20)"
   ]
  },
  {
   "cell_type": "code",
   "execution_count": 65,
   "id": "021603ed-7c94-4ac3-9148-b6eed3841f73",
   "metadata": {},
   "outputs": [
    {
     "data": {
      "text/html": [
       "<div>\n",
       "<style scoped>\n",
       "    .dataframe tbody tr th:only-of-type {\n",
       "        vertical-align: middle;\n",
       "    }\n",
       "\n",
       "    .dataframe tbody tr th {\n",
       "        vertical-align: top;\n",
       "    }\n",
       "\n",
       "    .dataframe thead th {\n",
       "        text-align: right;\n",
       "    }\n",
       "</style>\n",
       "<table border=\"1\" class=\"dataframe\">\n",
       "  <thead>\n",
       "    <tr style=\"text-align: right;\">\n",
       "      <th></th>\n",
       "      <th>Unnamed: 0</th>\n",
       "      <th>country</th>\n",
       "      <th>description</th>\n",
       "      <th>designation</th>\n",
       "      <th>points</th>\n",
       "      <th>price</th>\n",
       "      <th>province</th>\n",
       "      <th>region_1</th>\n",
       "      <th>region_2</th>\n",
       "      <th>variety</th>\n",
       "      <th>winery</th>\n",
       "    </tr>\n",
       "  </thead>\n",
       "  <tbody>\n",
       "    <tr>\n",
       "      <th>1</th>\n",
       "      <td>1</td>\n",
       "      <td>Spain</td>\n",
       "      <td>Ripe aromas of fig, blackberry and cassis are ...</td>\n",
       "      <td>Carodorum Selección Especial Reserva</td>\n",
       "      <td>96</td>\n",
       "      <td>110.0</td>\n",
       "      <td>Northern Spain</td>\n",
       "      <td>Toro</td>\n",
       "      <td>NaN</td>\n",
       "      <td>Tinta de Toro</td>\n",
       "      <td>Bodega Carmen Rodríguez</td>\n",
       "    </tr>\n",
       "    <tr>\n",
       "      <th>4</th>\n",
       "      <td>4</td>\n",
       "      <td>France</td>\n",
       "      <td>This is the top wine from La Bégude, named aft...</td>\n",
       "      <td>La Brûlade</td>\n",
       "      <td>95</td>\n",
       "      <td>66.0</td>\n",
       "      <td>Provence</td>\n",
       "      <td>Bandol</td>\n",
       "      <td>NaN</td>\n",
       "      <td>Provence red blend</td>\n",
       "      <td>Domaine de la Bégude</td>\n",
       "    </tr>\n",
       "    <tr>\n",
       "      <th>5</th>\n",
       "      <td>5</td>\n",
       "      <td>Spain</td>\n",
       "      <td>Deep, dense and pure from the opening bell, th...</td>\n",
       "      <td>Numanthia</td>\n",
       "      <td>95</td>\n",
       "      <td>73.0</td>\n",
       "      <td>Northern Spain</td>\n",
       "      <td>Toro</td>\n",
       "      <td>NaN</td>\n",
       "      <td>Tinta de Toro</td>\n",
       "      <td>Numanthia</td>\n",
       "    </tr>\n",
       "    <tr>\n",
       "      <th>6</th>\n",
       "      <td>6</td>\n",
       "      <td>Spain</td>\n",
       "      <td>Slightly gritty black-fruit aromas include a s...</td>\n",
       "      <td>San Román</td>\n",
       "      <td>95</td>\n",
       "      <td>65.0</td>\n",
       "      <td>Northern Spain</td>\n",
       "      <td>Toro</td>\n",
       "      <td>NaN</td>\n",
       "      <td>Tinta de Toro</td>\n",
       "      <td>Maurodos</td>\n",
       "    </tr>\n",
       "    <tr>\n",
       "      <th>7</th>\n",
       "      <td>7</td>\n",
       "      <td>Spain</td>\n",
       "      <td>Lush cedary black-fruit aromas are luxe and of...</td>\n",
       "      <td>Carodorum Único Crianza</td>\n",
       "      <td>95</td>\n",
       "      <td>110.0</td>\n",
       "      <td>Northern Spain</td>\n",
       "      <td>Toro</td>\n",
       "      <td>NaN</td>\n",
       "      <td>Tinta de Toro</td>\n",
       "      <td>Bodega Carmen Rodríguez</td>\n",
       "    </tr>\n",
       "    <tr>\n",
       "      <th>...</th>\n",
       "      <td>...</td>\n",
       "      <td>...</td>\n",
       "      <td>...</td>\n",
       "      <td>...</td>\n",
       "      <td>...</td>\n",
       "      <td>...</td>\n",
       "      <td>...</td>\n",
       "      <td>...</td>\n",
       "      <td>...</td>\n",
       "      <td>...</td>\n",
       "      <td>...</td>\n",
       "    </tr>\n",
       "    <tr>\n",
       "      <th>150921</th>\n",
       "      <td>150921</td>\n",
       "      <td>France</td>\n",
       "      <td>Shows some older notes: a bouquet of toasted w...</td>\n",
       "      <td>Blanc de Blancs Brut Mosaïque</td>\n",
       "      <td>91</td>\n",
       "      <td>38.0</td>\n",
       "      <td>Champagne</td>\n",
       "      <td>Champagne</td>\n",
       "      <td>NaN</td>\n",
       "      <td>Champagne Blend</td>\n",
       "      <td>Jacquart</td>\n",
       "    </tr>\n",
       "    <tr>\n",
       "      <th>150923</th>\n",
       "      <td>150923</td>\n",
       "      <td>France</td>\n",
       "      <td>Rich and toasty, with tiny bubbles. The bouque...</td>\n",
       "      <td>Demi-Sec</td>\n",
       "      <td>91</td>\n",
       "      <td>30.0</td>\n",
       "      <td>Champagne</td>\n",
       "      <td>Champagne</td>\n",
       "      <td>NaN</td>\n",
       "      <td>Champagne Blend</td>\n",
       "      <td>Jacquart</td>\n",
       "    </tr>\n",
       "    <tr>\n",
       "      <th>150924</th>\n",
       "      <td>150924</td>\n",
       "      <td>France</td>\n",
       "      <td>Really fine for a low-acid vintage, there's an...</td>\n",
       "      <td>Diamant Bleu</td>\n",
       "      <td>91</td>\n",
       "      <td>70.0</td>\n",
       "      <td>Champagne</td>\n",
       "      <td>Champagne</td>\n",
       "      <td>NaN</td>\n",
       "      <td>Champagne Blend</td>\n",
       "      <td>Heidsieck &amp; Co Monopole</td>\n",
       "    </tr>\n",
       "    <tr>\n",
       "      <th>150926</th>\n",
       "      <td>150926</td>\n",
       "      <td>France</td>\n",
       "      <td>Offers an intriguing nose with ginger, lime an...</td>\n",
       "      <td>Cuvée Prestige</td>\n",
       "      <td>91</td>\n",
       "      <td>27.0</td>\n",
       "      <td>Champagne</td>\n",
       "      <td>Champagne</td>\n",
       "      <td>NaN</td>\n",
       "      <td>Champagne Blend</td>\n",
       "      <td>H.Germain</td>\n",
       "    </tr>\n",
       "    <tr>\n",
       "      <th>150928</th>\n",
       "      <td>150928</td>\n",
       "      <td>France</td>\n",
       "      <td>A perfect salmon shade, with scents of peaches...</td>\n",
       "      <td>Grand Brut Rosé</td>\n",
       "      <td>90</td>\n",
       "      <td>52.0</td>\n",
       "      <td>Champagne</td>\n",
       "      <td>Champagne</td>\n",
       "      <td>NaN</td>\n",
       "      <td>Champagne Blend</td>\n",
       "      <td>Gosset</td>\n",
       "    </tr>\n",
       "  </tbody>\n",
       "</table>\n",
       "<p>29367 rows × 11 columns</p>\n",
       "</div>"
      ],
      "text/plain": [
       "        Unnamed: 0 country                                        description  \\\n",
       "1                1   Spain  Ripe aromas of fig, blackberry and cassis are ...   \n",
       "4                4  France  This is the top wine from La Bégude, named aft...   \n",
       "5                5   Spain  Deep, dense and pure from the opening bell, th...   \n",
       "6                6   Spain  Slightly gritty black-fruit aromas include a s...   \n",
       "7                7   Spain  Lush cedary black-fruit aromas are luxe and of...   \n",
       "...            ...     ...                                                ...   \n",
       "150921      150921  France  Shows some older notes: a bouquet of toasted w...   \n",
       "150923      150923  France  Rich and toasty, with tiny bubbles. The bouque...   \n",
       "150924      150924  France  Really fine for a low-acid vintage, there's an...   \n",
       "150926      150926  France  Offers an intriguing nose with ginger, lime an...   \n",
       "150928      150928  France  A perfect salmon shade, with scents of peaches...   \n",
       "\n",
       "                                 designation  points  price        province  \\\n",
       "1       Carodorum Selección Especial Reserva      96  110.0  Northern Spain   \n",
       "4                                 La Brûlade      95   66.0        Provence   \n",
       "5                                  Numanthia      95   73.0  Northern Spain   \n",
       "6                                  San Román      95   65.0  Northern Spain   \n",
       "7                    Carodorum Único Crianza      95  110.0  Northern Spain   \n",
       "...                                      ...     ...    ...             ...   \n",
       "150921         Blanc de Blancs Brut Mosaïque      91   38.0       Champagne   \n",
       "150923                              Demi-Sec      91   30.0       Champagne   \n",
       "150924                          Diamant Bleu      91   70.0       Champagne   \n",
       "150926                        Cuvée Prestige      91   27.0       Champagne   \n",
       "150928                       Grand Brut Rosé      90   52.0       Champagne   \n",
       "\n",
       "         region_1 region_2             variety                   winery  \n",
       "1            Toro      NaN       Tinta de Toro  Bodega Carmen Rodríguez  \n",
       "4          Bandol      NaN  Provence red blend     Domaine de la Bégude  \n",
       "5            Toro      NaN       Tinta de Toro                Numanthia  \n",
       "6            Toro      NaN       Tinta de Toro                 Maurodos  \n",
       "7            Toro      NaN       Tinta de Toro  Bodega Carmen Rodríguez  \n",
       "...           ...      ...                 ...                      ...  \n",
       "150921  Champagne      NaN     Champagne Blend                 Jacquart  \n",
       "150923  Champagne      NaN     Champagne Blend                 Jacquart  \n",
       "150924  Champagne      NaN     Champagne Blend  Heidsieck & Co Monopole  \n",
       "150926  Champagne      NaN     Champagne Blend                H.Germain  \n",
       "150928  Champagne      NaN     Champagne Blend                   Gosset  \n",
       "\n",
       "[29367 rows x 11 columns]"
      ]
     },
     "execution_count": 65,
     "metadata": {},
     "output_type": "execute_result"
    }
   ],
   "source": [
    "# Find all wines where the country is either France or Spain. (Hint: You can say a|b for a regular expression that searches for either a or b.)\n",
    "\n",
    "(\n",
    "    df   # start with our data set\n",
    "    .dropna(subset='country')   # remove any row where country is NaN\n",
    "    .loc[df['country'].dropna()   # find those rows were the country (dropping NaN) is either France or Spain\n",
    "        .str.contains('France|Spain')]\n",
    ")"
   ]
  },
  {
   "cell_type": "code",
   "execution_count": 69,
   "id": "52266d68-2358-4335-9310-2c5e55634039",
   "metadata": {},
   "outputs": [
    {
     "data": {
      "text/html": [
       "<div>\n",
       "<style scoped>\n",
       "    .dataframe tbody tr th:only-of-type {\n",
       "        vertical-align: middle;\n",
       "    }\n",
       "\n",
       "    .dataframe tbody tr th {\n",
       "        vertical-align: top;\n",
       "    }\n",
       "\n",
       "    .dataframe thead th {\n",
       "        text-align: right;\n",
       "    }\n",
       "</style>\n",
       "<table border=\"1\" class=\"dataframe\">\n",
       "  <thead>\n",
       "    <tr style=\"text-align: right;\">\n",
       "      <th></th>\n",
       "      <th>Unnamed: 0</th>\n",
       "      <th>country</th>\n",
       "      <th>description</th>\n",
       "      <th>designation</th>\n",
       "      <th>points</th>\n",
       "      <th>price</th>\n",
       "      <th>province</th>\n",
       "      <th>region_1</th>\n",
       "      <th>region_2</th>\n",
       "      <th>variety</th>\n",
       "      <th>winery</th>\n",
       "    </tr>\n",
       "  </thead>\n",
       "  <tbody>\n",
       "    <tr>\n",
       "      <th>1</th>\n",
       "      <td>1</td>\n",
       "      <td>Spain</td>\n",
       "      <td>Ripe aromas of fig, blackberry and cassis are ...</td>\n",
       "      <td>Carodorum Selección Especial Reserva</td>\n",
       "      <td>96</td>\n",
       "      <td>110.0</td>\n",
       "      <td>Northern Spain</td>\n",
       "      <td>Toro</td>\n",
       "      <td>NaN</td>\n",
       "      <td>Tinta de Toro</td>\n",
       "      <td>Bodega Carmen Rodríguez</td>\n",
       "    </tr>\n",
       "    <tr>\n",
       "      <th>4</th>\n",
       "      <td>4</td>\n",
       "      <td>France</td>\n",
       "      <td>This is the top wine from La Bégude, named aft...</td>\n",
       "      <td>La Brûlade</td>\n",
       "      <td>95</td>\n",
       "      <td>66.0</td>\n",
       "      <td>Provence</td>\n",
       "      <td>Bandol</td>\n",
       "      <td>NaN</td>\n",
       "      <td>Provence red blend</td>\n",
       "      <td>Domaine de la Bégude</td>\n",
       "    </tr>\n",
       "    <tr>\n",
       "      <th>5</th>\n",
       "      <td>5</td>\n",
       "      <td>Spain</td>\n",
       "      <td>Deep, dense and pure from the opening bell, th...</td>\n",
       "      <td>Numanthia</td>\n",
       "      <td>95</td>\n",
       "      <td>73.0</td>\n",
       "      <td>Northern Spain</td>\n",
       "      <td>Toro</td>\n",
       "      <td>NaN</td>\n",
       "      <td>Tinta de Toro</td>\n",
       "      <td>Numanthia</td>\n",
       "    </tr>\n",
       "    <tr>\n",
       "      <th>6</th>\n",
       "      <td>6</td>\n",
       "      <td>Spain</td>\n",
       "      <td>Slightly gritty black-fruit aromas include a s...</td>\n",
       "      <td>San Román</td>\n",
       "      <td>95</td>\n",
       "      <td>65.0</td>\n",
       "      <td>Northern Spain</td>\n",
       "      <td>Toro</td>\n",
       "      <td>NaN</td>\n",
       "      <td>Tinta de Toro</td>\n",
       "      <td>Maurodos</td>\n",
       "    </tr>\n",
       "    <tr>\n",
       "      <th>7</th>\n",
       "      <td>7</td>\n",
       "      <td>Spain</td>\n",
       "      <td>Lush cedary black-fruit aromas are luxe and of...</td>\n",
       "      <td>Carodorum Único Crianza</td>\n",
       "      <td>95</td>\n",
       "      <td>110.0</td>\n",
       "      <td>Northern Spain</td>\n",
       "      <td>Toro</td>\n",
       "      <td>NaN</td>\n",
       "      <td>Tinta de Toro</td>\n",
       "      <td>Bodega Carmen Rodríguez</td>\n",
       "    </tr>\n",
       "    <tr>\n",
       "      <th>...</th>\n",
       "      <td>...</td>\n",
       "      <td>...</td>\n",
       "      <td>...</td>\n",
       "      <td>...</td>\n",
       "      <td>...</td>\n",
       "      <td>...</td>\n",
       "      <td>...</td>\n",
       "      <td>...</td>\n",
       "      <td>...</td>\n",
       "      <td>...</td>\n",
       "      <td>...</td>\n",
       "    </tr>\n",
       "    <tr>\n",
       "      <th>150921</th>\n",
       "      <td>150921</td>\n",
       "      <td>France</td>\n",
       "      <td>Shows some older notes: a bouquet of toasted w...</td>\n",
       "      <td>Blanc de Blancs Brut Mosaïque</td>\n",
       "      <td>91</td>\n",
       "      <td>38.0</td>\n",
       "      <td>Champagne</td>\n",
       "      <td>Champagne</td>\n",
       "      <td>NaN</td>\n",
       "      <td>Champagne Blend</td>\n",
       "      <td>Jacquart</td>\n",
       "    </tr>\n",
       "    <tr>\n",
       "      <th>150923</th>\n",
       "      <td>150923</td>\n",
       "      <td>France</td>\n",
       "      <td>Rich and toasty, with tiny bubbles. The bouque...</td>\n",
       "      <td>Demi-Sec</td>\n",
       "      <td>91</td>\n",
       "      <td>30.0</td>\n",
       "      <td>Champagne</td>\n",
       "      <td>Champagne</td>\n",
       "      <td>NaN</td>\n",
       "      <td>Champagne Blend</td>\n",
       "      <td>Jacquart</td>\n",
       "    </tr>\n",
       "    <tr>\n",
       "      <th>150924</th>\n",
       "      <td>150924</td>\n",
       "      <td>France</td>\n",
       "      <td>Really fine for a low-acid vintage, there's an...</td>\n",
       "      <td>Diamant Bleu</td>\n",
       "      <td>91</td>\n",
       "      <td>70.0</td>\n",
       "      <td>Champagne</td>\n",
       "      <td>Champagne</td>\n",
       "      <td>NaN</td>\n",
       "      <td>Champagne Blend</td>\n",
       "      <td>Heidsieck &amp; Co Monopole</td>\n",
       "    </tr>\n",
       "    <tr>\n",
       "      <th>150926</th>\n",
       "      <td>150926</td>\n",
       "      <td>France</td>\n",
       "      <td>Offers an intriguing nose with ginger, lime an...</td>\n",
       "      <td>Cuvée Prestige</td>\n",
       "      <td>91</td>\n",
       "      <td>27.0</td>\n",
       "      <td>Champagne</td>\n",
       "      <td>Champagne</td>\n",
       "      <td>NaN</td>\n",
       "      <td>Champagne Blend</td>\n",
       "      <td>H.Germain</td>\n",
       "    </tr>\n",
       "    <tr>\n",
       "      <th>150928</th>\n",
       "      <td>150928</td>\n",
       "      <td>France</td>\n",
       "      <td>A perfect salmon shade, with scents of peaches...</td>\n",
       "      <td>Grand Brut Rosé</td>\n",
       "      <td>90</td>\n",
       "      <td>52.0</td>\n",
       "      <td>Champagne</td>\n",
       "      <td>Champagne</td>\n",
       "      <td>NaN</td>\n",
       "      <td>Champagne Blend</td>\n",
       "      <td>Gosset</td>\n",
       "    </tr>\n",
       "  </tbody>\n",
       "</table>\n",
       "<p>29366 rows × 11 columns</p>\n",
       "</div>"
      ],
      "text/plain": [
       "        Unnamed: 0 country                                        description  \\\n",
       "1                1   Spain  Ripe aromas of fig, blackberry and cassis are ...   \n",
       "4                4  France  This is the top wine from La Bégude, named aft...   \n",
       "5                5   Spain  Deep, dense and pure from the opening bell, th...   \n",
       "6                6   Spain  Slightly gritty black-fruit aromas include a s...   \n",
       "7                7   Spain  Lush cedary black-fruit aromas are luxe and of...   \n",
       "...            ...     ...                                                ...   \n",
       "150921      150921  France  Shows some older notes: a bouquet of toasted w...   \n",
       "150923      150923  France  Rich and toasty, with tiny bubbles. The bouque...   \n",
       "150924      150924  France  Really fine for a low-acid vintage, there's an...   \n",
       "150926      150926  France  Offers an intriguing nose with ginger, lime an...   \n",
       "150928      150928  France  A perfect salmon shade, with scents of peaches...   \n",
       "\n",
       "                                 designation  points  price        province  \\\n",
       "1       Carodorum Selección Especial Reserva      96  110.0  Northern Spain   \n",
       "4                                 La Brûlade      95   66.0        Provence   \n",
       "5                                  Numanthia      95   73.0  Northern Spain   \n",
       "6                                  San Román      95   65.0  Northern Spain   \n",
       "7                    Carodorum Único Crianza      95  110.0  Northern Spain   \n",
       "...                                      ...     ...    ...             ...   \n",
       "150921         Blanc de Blancs Brut Mosaïque      91   38.0       Champagne   \n",
       "150923                              Demi-Sec      91   30.0       Champagne   \n",
       "150924                          Diamant Bleu      91   70.0       Champagne   \n",
       "150926                        Cuvée Prestige      91   27.0       Champagne   \n",
       "150928                       Grand Brut Rosé      90   52.0       Champagne   \n",
       "\n",
       "         region_1 region_2             variety                   winery  \n",
       "1            Toro      NaN       Tinta de Toro  Bodega Carmen Rodríguez  \n",
       "4          Bandol      NaN  Provence red blend     Domaine de la Bégude  \n",
       "5            Toro      NaN       Tinta de Toro                Numanthia  \n",
       "6            Toro      NaN       Tinta de Toro                 Maurodos  \n",
       "7            Toro      NaN       Tinta de Toro  Bodega Carmen Rodríguez  \n",
       "...           ...      ...                 ...                      ...  \n",
       "150921  Champagne      NaN     Champagne Blend                 Jacquart  \n",
       "150923  Champagne      NaN     Champagne Blend                 Jacquart  \n",
       "150924  Champagne      NaN     Champagne Blend  Heidsieck & Co Monopole  \n",
       "150926  Champagne      NaN     Champagne Blend                H.Germain  \n",
       "150928  Champagne      NaN     Champagne Blend                   Gosset  \n",
       "\n",
       "[29366 rows x 11 columns]"
      ]
     },
     "execution_count": 69,
     "metadata": {},
     "output_type": "execute_result"
    }
   ],
   "source": [
    "# the isin method is great for finding where the value is in a small subset\n",
    "\n",
    "df.loc[df['country'].isin(['France', 'Spain'])]"
   ]
  },
  {
   "cell_type": "markdown",
   "id": "3c6c024e-d69d-4de1-95ee-a362f5bde751",
   "metadata": {},
   "source": [
    "If I want to know how much memory our data frame is using, I can use either `df.info()` or `df.memory_usage()`"
   ]
  },
  {
   "cell_type": "code",
   "execution_count": 71,
   "id": "b7c63d59-e461-4624-85ce-dd415b31a69a",
   "metadata": {},
   "outputs": [
    {
     "data": {
      "text/plain": [
       "Index              132\n",
       "Unnamed: 0     1207440\n",
       "country        1207440\n",
       "description    1207440\n",
       "designation    1207440\n",
       "points         1207440\n",
       "price          1207440\n",
       "province       1207440\n",
       "region_1       1207440\n",
       "region_2       1207440\n",
       "variety        1207440\n",
       "winery         1207440\n",
       "dtype: int64"
      ]
     },
     "execution_count": 71,
     "metadata": {},
     "output_type": "execute_result"
    }
   ],
   "source": [
    "df.memory_usage()   # this returns the amount per column"
   ]
  },
  {
   "cell_type": "code",
   "execution_count": 72,
   "id": "13e21a68-39b8-4da9-a61c-e491fb67e155",
   "metadata": {},
   "outputs": [
    {
     "name": "stdout",
     "output_type": "stream",
     "text": [
      "<class 'pandas.core.frame.DataFrame'>\n",
      "RangeIndex: 150930 entries, 0 to 150929\n",
      "Data columns (total 11 columns):\n",
      " #   Column       Non-Null Count   Dtype  \n",
      "---  ------       --------------   -----  \n",
      " 0   Unnamed: 0   150930 non-null  int64  \n",
      " 1   country      150925 non-null  object \n",
      " 2   description  150930 non-null  object \n",
      " 3   designation  105195 non-null  object \n",
      " 4   points       150930 non-null  int64  \n",
      " 5   price        137235 non-null  float64\n",
      " 6   province     150925 non-null  object \n",
      " 7   region_1     125870 non-null  object \n",
      " 8   region_2     60953 non-null   object \n",
      " 9   variety      150930 non-null  object \n",
      " 10  winery       150930 non-null  object \n",
      "dtypes: float64(1), int64(2), object(8)\n",
      "memory usage: 12.7+ MB\n"
     ]
    }
   ],
   "source": [
    "df.info()   # this gives me info about the entire data frame"
   ]
  },
  {
   "cell_type": "markdown",
   "id": "302ef474-6109-4910-8667-727f4c741c4d",
   "metadata": {},
   "source": [
    "When we ask Pandas to tell us how much memory is being used, it only reports how much memory *it* is using via NumPy and its internal data structures. Anything that is in Python's memory is completely ignored. So we're actually finding out, for our strings, how long the addresses in the computer's memory are, not how long the strings are.\n",
    "\n",
    "We need to tell Pandas to work a bit harder, and find out how long each string is.\n",
    "\n",
    "We do this by passing the keyword argument `deep=True` to `memory_usage` or `memory_usage='deep'` to `df.info()`"
   ]
  },
  {
   "cell_type": "code",
   "execution_count": 75,
   "id": "81db0ae2-6f09-4b03-b0ca-8bcb0097bfd7",
   "metadata": {},
   "outputs": [
    {
     "data": {
      "text/plain": [
       "110894517"
      ]
     },
     "execution_count": 75,
     "metadata": {},
     "output_type": "execute_result"
    }
   ],
   "source": [
    "df.memory_usage(deep=True).sum()"
   ]
  },
  {
   "cell_type": "code",
   "execution_count": 76,
   "id": "01e63414-a11e-4e1e-9ee3-58f6b5b0cce0",
   "metadata": {},
   "outputs": [
    {
     "data": {
      "text/plain": [
       "13281972"
      ]
     },
     "execution_count": 76,
     "metadata": {},
     "output_type": "execute_result"
    }
   ],
   "source": [
    "df.memory_usage().sum()"
   ]
  },
  {
   "cell_type": "code",
   "execution_count": 77,
   "id": "00ff578a-a1f2-4755-8507-89710c7e9821",
   "metadata": {},
   "outputs": [
    {
     "data": {
      "text/plain": [
       "0.11977122367555827"
      ]
     },
     "execution_count": 77,
     "metadata": {},
     "output_type": "execute_result"
    }
   ],
   "source": [
    "13281972 / 110894517"
   ]
  },
  {
   "cell_type": "code",
   "execution_count": 78,
   "id": "2fc7720d-b7b2-4aa7-802b-d0e717e1aac1",
   "metadata": {},
   "outputs": [
    {
     "name": "stdout",
     "output_type": "stream",
     "text": [
      "<class 'pandas.core.frame.DataFrame'>\n",
      "RangeIndex: 150930 entries, 0 to 150929\n",
      "Data columns (total 11 columns):\n",
      " #   Column       Non-Null Count   Dtype  \n",
      "---  ------       --------------   -----  \n",
      " 0   Unnamed: 0   150930 non-null  int64  \n",
      " 1   country      150925 non-null  object \n",
      " 2   description  150930 non-null  object \n",
      " 3   designation  105195 non-null  object \n",
      " 4   points       150930 non-null  int64  \n",
      " 5   price        137235 non-null  float64\n",
      " 6   province     150925 non-null  object \n",
      " 7   region_1     125870 non-null  object \n",
      " 8   region_2     60953 non-null   object \n",
      " 9   variety      150930 non-null  object \n",
      " 10  winery       150930 non-null  object \n",
      "dtypes: float64(1), int64(2), object(8)\n",
      "memory usage: 105.8 MB\n"
     ]
    }
   ],
   "source": [
    "df.info(memory_usage='deep')"
   ]
  },
  {
   "cell_type": "code",
   "execution_count": null,
   "id": "d2bf9974-6dcd-4a24-a57b-8eeb13f41da1",
   "metadata": {},
   "outputs": [],
   "source": []
  }
 ],
 "metadata": {
  "kernelspec": {
   "display_name": "Python 3 (ipykernel)",
   "language": "python",
   "name": "python3"
  },
  "language_info": {
   "codemirror_mode": {
    "name": "ipython",
    "version": 3
   },
   "file_extension": ".py",
   "mimetype": "text/x-python",
   "name": "python",
   "nbconvert_exporter": "python",
   "pygments_lexer": "ipython3",
   "version": "3.12.3"
  }
 },
 "nbformat": 4,
 "nbformat_minor": 5
}
