{
 "cells": [
  {
   "cell_type": "markdown",
   "id": "3975f4f5-5350-455b-b1f7-92afe37794bd",
   "metadata": {},
   "source": [
    "# Agenda: CSV and data frames\n",
    "\n",
    "1. Data frames in general\n",
    "    - What are they?\n",
    "    - Creating them (very simple version)\n",
    "    - Retrieving from them\n",
    "2. Working with CSV files\n",
    "    - What options are there?\n",
    "3. Retriving from parts of a data frame\n",
    "    - Applying `.loc` and boolean indexes to retrieving from a data frame"
   ]
  },
  {
   "cell_type": "markdown",
   "id": "51fab63a-e6c8-4360-810b-a9f129e17d0a",
   "metadata": {},
   "source": [
    "# Data frames\n",
    "\n",
    "So far, we've been (mostly) using series. But most work in Pandas is done with a data frame\n",
    "\n",
    "- Two-dimensional table\n",
    "- Rows (which we identify with the index)\n",
    "- Columns (which we identify with column names)\n",
    "\n",
    "Remember that every column in a data frame is a Pandas series:\n",
    "- The index identifying the rows continues to identify elements of a series\n",
    "- All of the series (columns) in the data frame share an index\n",
    "- When we retrieve a column, then it's a (normal) series\n",
    "- When we retrieve a row, Pandas basically creates a new series on the fly\n",
    "- Every column has a dtype, whereas rows are a combination of whatever dtypes are in their columns"
   ]
  },
  {
   "cell_type": "code",
   "execution_count": 3,
   "id": "1010236d-40aa-42b0-8b3f-d27be8fbf877",
   "metadata": {},
   "outputs": [
    {
     "name": "stdout",
     "output_type": "stream",
     "text": [
      "The history saving thread hit an unexpected error (OperationalError('attempt to write a readonly database')).History will not be written to the database.\n"
     ]
    }
   ],
   "source": [
    "# it's rare to create a data frame from scratch\n",
    "# but if we really want to create a data frame, we can do it with a list of lists, or a list of dicts,\n",
    "# or even a dict of lists\n",
    "\n",
    "# I'm just going to use a list of lists for my data frame\n",
    "\n",
    "import pandas as pd\n",
    "from pandas import Series, DataFrame"
   ]
  },
  {
   "cell_type": "code",
   "execution_count": null,
   "id": "d4a4332a-64cf-4fce-805f-0749cfae51f4",
   "metadata": {},
   "outputs": [],
   "source": []
  }
 ],
 "metadata": {
  "kernelspec": {
   "display_name": "Python 3 (ipykernel)",
   "language": "python",
   "name": "python3"
  },
  "language_info": {
   "codemirror_mode": {
    "name": "ipython",
    "version": 3
   },
   "file_extension": ".py",
   "mimetype": "text/x-python",
   "name": "python",
   "nbconvert_exporter": "python",
   "pygments_lexer": "ipython3",
   "version": "3.12.3"
  }
 },
 "nbformat": 4,
 "nbformat_minor": 5
}
