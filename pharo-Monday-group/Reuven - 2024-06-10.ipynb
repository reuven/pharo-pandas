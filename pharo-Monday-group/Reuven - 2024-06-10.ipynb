{
 "cells": [
  {
   "cell_type": "markdown",
   "id": "3975f4f5-5350-455b-b1f7-92afe37794bd",
   "metadata": {},
   "source": [
    "# Agenda: CSV and data frames\n",
    "\n",
    "1. Data frames in general\n",
    "    - What are they?\n",
    "    - Creating them (very simple version)\n",
    "    - Retrieving from them\n",
    "2. Working with CSV files\n",
    "    - What options are there?\n",
    "3. Retriving from parts of a data frame\n",
    "    - Applying `.loc` and boolean indexes to retrieving from a data frame"
   ]
  },
  {
   "cell_type": "markdown",
   "id": "51fab63a-e6c8-4360-810b-a9f129e17d0a",
   "metadata": {},
   "source": [
    "# Data frames\n",
    "\n",
    "So far, we've been (mostly) using series. But most work in Pandas is done with a data frame\n",
    "\n",
    "- Two-dimensional table\n",
    "- Rows (which we identify with the index)\n",
    "- Columns (which we identify with column names)"
   ]
  }
 ],
 "metadata": {
  "kernelspec": {
   "display_name": "Python 3 (ipykernel)",
   "language": "python",
   "name": "python3"
  },
  "language_info": {
   "codemirror_mode": {
    "name": "ipython",
    "version": 3
   },
   "file_extension": ".py",
   "mimetype": "text/x-python",
   "name": "python",
   "nbconvert_exporter": "python",
   "pygments_lexer": "ipython3",
   "version": "3.12.3"
  }
 },
 "nbformat": 4,
 "nbformat_minor": 5
}
