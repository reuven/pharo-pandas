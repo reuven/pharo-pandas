{
 "cells": [
  {
   "cell_type": "markdown",
   "id": "3975f4f5-5350-455b-b1f7-92afe37794bd",
   "metadata": {},
   "source": [
    "# Agenda: CSV and data frames\n",
    "\n",
    "1. Data frames in general\n",
    "    - What are they?\n",
    "    - Creating them (very simple version)\n",
    "    - Retrieving from them\n",
    "2. Working with CSV files\n",
    "    - What options are there?\n",
    "3. Retriving from parts of a data frame\n",
    "    - Applying `.loc` and boolean indexes to retrieving from a data frame"
   ]
  },
  {
   "cell_type": "markdown",
   "id": "51fab63a-e6c8-4360-810b-a9f129e17d0a",
   "metadata": {},
   "source": [
    "# Data frames\n",
    "\n",
    "So far, we've been (mostly) using series. But most work in Pandas is done with a data frame\n",
    "\n",
    "- Two-dimensional table\n",
    "- Rows (which we identify with the index)\n",
    "- Columns (which we identify with column names)\n",
    "\n",
    "Remember that every column in a data frame is a Pandas series:\n",
    "- The index identifying the rows continues to identify elements of a series\n",
    "- All of the series (columns) in the data frame share an index\n",
    "- When we retrieve a column, then it's a (normal) series\n",
    "- When we retrieve a row, Pandas basically creates a new series on the fly\n",
    "- Every column has a dtype, whereas rows are a combination of whatever dtypes are in their columns"
   ]
  },
  {
   "cell_type": "code",
   "execution_count": 1,
   "id": "1010236d-40aa-42b0-8b3f-d27be8fbf877",
   "metadata": {},
   "outputs": [],
   "source": [
    "# it's rare to create a data frame from scratch\n",
    "# but if we really want to create a data frame, we can do it with a list of lists, or a list of dicts,\n",
    "# or even a dict of lists\n",
    "\n",
    "# I'm just going to use a list of lists for my data frame\n",
    "\n",
    "import pandas as pd\n",
    "from pandas import Series, DataFrame"
   ]
  },
  {
   "cell_type": "code",
   "execution_count": 2,
   "id": "d4a4332a-64cf-4fce-805f-0749cfae51f4",
   "metadata": {},
   "outputs": [
    {
     "data": {
      "text/html": [
       "<div>\n",
       "<style scoped>\n",
       "    .dataframe tbody tr th:only-of-type {\n",
       "        vertical-align: middle;\n",
       "    }\n",
       "\n",
       "    .dataframe tbody tr th {\n",
       "        vertical-align: top;\n",
       "    }\n",
       "\n",
       "    .dataframe thead th {\n",
       "        text-align: right;\n",
       "    }\n",
       "</style>\n",
       "<table border=\"1\" class=\"dataframe\">\n",
       "  <thead>\n",
       "    <tr style=\"text-align: right;\">\n",
       "      <th></th>\n",
       "      <th>0</th>\n",
       "      <th>1</th>\n",
       "      <th>2</th>\n",
       "    </tr>\n",
       "  </thead>\n",
       "  <tbody>\n",
       "    <tr>\n",
       "      <th>0</th>\n",
       "      <td>10</td>\n",
       "      <td>20</td>\n",
       "      <td>30</td>\n",
       "    </tr>\n",
       "    <tr>\n",
       "      <th>1</th>\n",
       "      <td>40</td>\n",
       "      <td>50</td>\n",
       "      <td>60</td>\n",
       "    </tr>\n",
       "    <tr>\n",
       "      <th>2</th>\n",
       "      <td>70</td>\n",
       "      <td>80</td>\n",
       "      <td>90</td>\n",
       "    </tr>\n",
       "    <tr>\n",
       "      <th>3</th>\n",
       "      <td>100</td>\n",
       "      <td>110</td>\n",
       "      <td>120</td>\n",
       "    </tr>\n",
       "  </tbody>\n",
       "</table>\n",
       "</div>"
      ],
      "text/plain": [
       "     0    1    2\n",
       "0   10   20   30\n",
       "1   40   50   60\n",
       "2   70   80   90\n",
       "3  100  110  120"
      ]
     },
     "execution_count": 2,
     "metadata": {},
     "output_type": "execute_result"
    }
   ],
   "source": [
    "# Create a data frame with a list of lists\n",
    "df = DataFrame([[10, 20, 30],\n",
    "            [40, 50, 60], \n",
    "            [70, 80, 90], \n",
    "            [100, 110, 120]])\n",
    "\n",
    "df"
   ]
  },
  {
   "cell_type": "code",
   "execution_count": 3,
   "id": "2b8500df-052c-45a6-a0d5-818184bfde98",
   "metadata": {},
   "outputs": [
    {
     "data": {
      "text/html": [
       "<div>\n",
       "<style scoped>\n",
       "    .dataframe tbody tr th:only-of-type {\n",
       "        vertical-align: middle;\n",
       "    }\n",
       "\n",
       "    .dataframe tbody tr th {\n",
       "        vertical-align: top;\n",
       "    }\n",
       "\n",
       "    .dataframe thead th {\n",
       "        text-align: right;\n",
       "    }\n",
       "</style>\n",
       "<table border=\"1\" class=\"dataframe\">\n",
       "  <thead>\n",
       "    <tr style=\"text-align: right;\">\n",
       "      <th></th>\n",
       "      <th>x</th>\n",
       "      <th>y</th>\n",
       "      <th>z</th>\n",
       "    </tr>\n",
       "  </thead>\n",
       "  <tbody>\n",
       "    <tr>\n",
       "      <th>a</th>\n",
       "      <td>10</td>\n",
       "      <td>20</td>\n",
       "      <td>30</td>\n",
       "    </tr>\n",
       "    <tr>\n",
       "      <th>b</th>\n",
       "      <td>40</td>\n",
       "      <td>50</td>\n",
       "      <td>60</td>\n",
       "    </tr>\n",
       "    <tr>\n",
       "      <th>c</th>\n",
       "      <td>70</td>\n",
       "      <td>80</td>\n",
       "      <td>90</td>\n",
       "    </tr>\n",
       "    <tr>\n",
       "      <th>d</th>\n",
       "      <td>100</td>\n",
       "      <td>110</td>\n",
       "      <td>120</td>\n",
       "    </tr>\n",
       "  </tbody>\n",
       "</table>\n",
       "</div>"
      ],
      "text/plain": [
       "     x    y    z\n",
       "a   10   20   30\n",
       "b   40   50   60\n",
       "c   70   80   90\n",
       "d  100  110  120"
      ]
     },
     "execution_count": 3,
     "metadata": {},
     "output_type": "execute_result"
    }
   ],
   "source": [
    "# let's make this a bit more readable by giving both \n",
    "# an index and column names. Just as we can pass index= to \n",
    "# the Series class, we can pass columns= (as well) to the\n",
    "# DataFrame class\n",
    "\n",
    "df = DataFrame([[10, 20, 30],\n",
    "            [40, 50, 60], \n",
    "            [70, 80, 90], \n",
    "            [100, 110, 120]],\n",
    "              index=list('abcd'),\n",
    "              columns=list('xyz'))\n",
    "\n",
    "df"
   ]
  },
  {
   "cell_type": "code",
   "execution_count": 4,
   "id": "6a9a1759-bdcd-4394-9019-c8a1c04dc618",
   "metadata": {},
   "outputs": [
    {
     "data": {
      "text/plain": [
       "Index(['a', 'b', 'c', 'd'], dtype='object')"
      ]
     },
     "execution_count": 4,
     "metadata": {},
     "output_type": "execute_result"
    }
   ],
   "source": [
    "# we can retrieve the index just as we did with a series\n",
    "df.index"
   ]
  },
  {
   "cell_type": "code",
   "execution_count": 5,
   "id": "a8b4d7fa-d1bf-4a36-834d-740846b91fcc",
   "metadata": {},
   "outputs": [
    {
     "data": {
      "text/plain": [
       "Index(['x', 'y', 'z'], dtype='object')"
      ]
     },
     "execution_count": 5,
     "metadata": {},
     "output_type": "execute_result"
    }
   ],
   "source": [
    "# we can retrieve the column names with .columns\n",
    "df.columns"
   ]
  },
  {
   "cell_type": "code",
   "execution_count": 6,
   "id": "203f7d13-7275-467b-a5af-5acf53015f63",
   "metadata": {},
   "outputs": [
    {
     "data": {
      "text/plain": [
       "x    70\n",
       "y    80\n",
       "z    90\n",
       "Name: c, dtype: int64"
      ]
     },
     "execution_count": 6,
     "metadata": {},
     "output_type": "execute_result"
    }
   ],
   "source": [
    "# how can I retrieve one row?\n",
    "# use the index and .loc\n",
    "\n",
    "df.loc['c']"
   ]
  },
  {
   "cell_type": "code",
   "execution_count": 7,
   "id": "cd53c23e-3280-4480-bcde-b943ee84dd48",
   "metadata": {},
   "outputs": [
    {
     "data": {
      "text/plain": [
       "80.0"
      ]
     },
     "execution_count": 7,
     "metadata": {},
     "output_type": "execute_result"
    }
   ],
   "source": [
    "# I can run any series method on this return value\n",
    "df.loc['c'].mean()"
   ]
  },
  {
   "cell_type": "code",
   "execution_count": 8,
   "id": "352cf18e-d1a7-4ad1-994f-f01570703d97",
   "metadata": {},
   "outputs": [
    {
     "data": {
      "text/plain": [
       "a     10\n",
       "b     40\n",
       "c     70\n",
       "d    100\n",
       "Name: x, dtype: int64"
      ]
     },
     "execution_count": 8,
     "metadata": {},
     "output_type": "execute_result"
    }
   ],
   "source": [
    "# how do I get a column? Answer: []\n",
    "df['x']"
   ]
  },
  {
   "cell_type": "code",
   "execution_count": 9,
   "id": "e127fbb4-fa39-4d0d-8052-912df90fd0e6",
   "metadata": {},
   "outputs": [
    {
     "data": {
      "text/html": [
       "<div>\n",
       "<style scoped>\n",
       "    .dataframe tbody tr th:only-of-type {\n",
       "        vertical-align: middle;\n",
       "    }\n",
       "\n",
       "    .dataframe tbody tr th {\n",
       "        vertical-align: top;\n",
       "    }\n",
       "\n",
       "    .dataframe thead th {\n",
       "        text-align: right;\n",
       "    }\n",
       "</style>\n",
       "<table border=\"1\" class=\"dataframe\">\n",
       "  <thead>\n",
       "    <tr style=\"text-align: right;\">\n",
       "      <th></th>\n",
       "      <th>x</th>\n",
       "      <th>y</th>\n",
       "      <th>z</th>\n",
       "    </tr>\n",
       "  </thead>\n",
       "  <tbody>\n",
       "    <tr>\n",
       "      <th>a</th>\n",
       "      <td>10</td>\n",
       "      <td>20</td>\n",
       "      <td>30</td>\n",
       "    </tr>\n",
       "    <tr>\n",
       "      <th>c</th>\n",
       "      <td>70</td>\n",
       "      <td>80</td>\n",
       "      <td>90</td>\n",
       "    </tr>\n",
       "  </tbody>\n",
       "</table>\n",
       "</div>"
      ],
      "text/plain": [
       "    x   y   z\n",
       "a  10  20  30\n",
       "c  70  80  90"
      ]
     },
     "execution_count": 9,
     "metadata": {},
     "output_type": "execute_result"
    }
   ],
   "source": [
    "# we can get more than one row if we pass .loc a list of indexes\n",
    "df.loc[['a', 'c']]"
   ]
  },
  {
   "cell_type": "code",
   "execution_count": 10,
   "id": "4d97cf7a-54a5-4281-bd30-54d583221430",
   "metadata": {},
   "outputs": [
    {
     "data": {
      "text/html": [
       "<div>\n",
       "<style scoped>\n",
       "    .dataframe tbody tr th:only-of-type {\n",
       "        vertical-align: middle;\n",
       "    }\n",
       "\n",
       "    .dataframe tbody tr th {\n",
       "        vertical-align: top;\n",
       "    }\n",
       "\n",
       "    .dataframe thead th {\n",
       "        text-align: right;\n",
       "    }\n",
       "</style>\n",
       "<table border=\"1\" class=\"dataframe\">\n",
       "  <thead>\n",
       "    <tr style=\"text-align: right;\">\n",
       "      <th></th>\n",
       "      <th>x</th>\n",
       "      <th>z</th>\n",
       "    </tr>\n",
       "  </thead>\n",
       "  <tbody>\n",
       "    <tr>\n",
       "      <th>a</th>\n",
       "      <td>10</td>\n",
       "      <td>30</td>\n",
       "    </tr>\n",
       "    <tr>\n",
       "      <th>b</th>\n",
       "      <td>40</td>\n",
       "      <td>60</td>\n",
       "    </tr>\n",
       "    <tr>\n",
       "      <th>c</th>\n",
       "      <td>70</td>\n",
       "      <td>90</td>\n",
       "    </tr>\n",
       "    <tr>\n",
       "      <th>d</th>\n",
       "      <td>100</td>\n",
       "      <td>120</td>\n",
       "    </tr>\n",
       "  </tbody>\n",
       "</table>\n",
       "</div>"
      ],
      "text/plain": [
       "     x    z\n",
       "a   10   30\n",
       "b   40   60\n",
       "c   70   90\n",
       "d  100  120"
      ]
     },
     "execution_count": 10,
     "metadata": {},
     "output_type": "execute_result"
    }
   ],
   "source": [
    "# we can retrieve more than one column in the same way\n",
    "df[['x', 'z']]"
   ]
  },
  {
   "cell_type": "code",
   "execution_count": 11,
   "id": "712c05cf-16fe-4a9d-98ac-a350669c7819",
   "metadata": {},
   "outputs": [
    {
     "data": {
      "text/plain": [
       "55.0"
      ]
     },
     "execution_count": 11,
     "metadata": {},
     "output_type": "execute_result"
    }
   ],
   "source": [
    "# what kinds of operations can we run on a data frame?\n",
    "# rule of thumb: (Just about) any method that you can run on a series, you can also run on a data frame\n",
    "# you'll get back one result for each column\n",
    "\n",
    "df['x'].mean()"
   ]
  },
  {
   "cell_type": "code",
   "execution_count": 12,
   "id": "63bc990e-0d4e-44ad-8469-f9db13c205cb",
   "metadata": {},
   "outputs": [
    {
     "data": {
      "text/plain": [
       "x    55.0\n",
       "y    65.0\n",
       "z    75.0\n",
       "dtype: float64"
      ]
     },
     "execution_count": 12,
     "metadata": {},
     "output_type": "execute_result"
    }
   ],
   "source": [
    "df.mean()   # we get a series back, whose index is the same as df's column names"
   ]
  },
  {
   "cell_type": "code",
   "execution_count": 13,
   "id": "bd61ec73-d191-4a77-a5e3-fe0fb4571823",
   "metadata": {},
   "outputs": [
    {
     "data": {
      "text/plain": [
       "x    10\n",
       "y    20\n",
       "z    30\n",
       "dtype: int64"
      ]
     },
     "execution_count": 13,
     "metadata": {},
     "output_type": "execute_result"
    }
   ],
   "source": [
    "df.min()"
   ]
  },
  {
   "cell_type": "code",
   "execution_count": 14,
   "id": "f5669310-7a4d-401f-be17-3219856b222f",
   "metadata": {},
   "outputs": [
    {
     "data": {
      "text/plain": [
       "count      4.000000\n",
       "mean      55.000000\n",
       "std       38.729833\n",
       "min       10.000000\n",
       "25%       32.500000\n",
       "50%       55.000000\n",
       "75%       77.500000\n",
       "max      100.000000\n",
       "Name: x, dtype: float64"
      ]
     },
     "execution_count": 14,
     "metadata": {},
     "output_type": "execute_result"
    }
   ],
   "source": [
    "# I can even invoke something like df.describe!\n",
    "\n",
    "df['x'].describe()"
   ]
  },
  {
   "cell_type": "code",
   "execution_count": 15,
   "id": "68b43eb5-7531-4dd8-88b4-5bfeaf324c7a",
   "metadata": {},
   "outputs": [
    {
     "data": {
      "text/html": [
       "<div>\n",
       "<style scoped>\n",
       "    .dataframe tbody tr th:only-of-type {\n",
       "        vertical-align: middle;\n",
       "    }\n",
       "\n",
       "    .dataframe tbody tr th {\n",
       "        vertical-align: top;\n",
       "    }\n",
       "\n",
       "    .dataframe thead th {\n",
       "        text-align: right;\n",
       "    }\n",
       "</style>\n",
       "<table border=\"1\" class=\"dataframe\">\n",
       "  <thead>\n",
       "    <tr style=\"text-align: right;\">\n",
       "      <th></th>\n",
       "      <th>x</th>\n",
       "      <th>y</th>\n",
       "      <th>z</th>\n",
       "    </tr>\n",
       "  </thead>\n",
       "  <tbody>\n",
       "    <tr>\n",
       "      <th>count</th>\n",
       "      <td>4.000000</td>\n",
       "      <td>4.000000</td>\n",
       "      <td>4.000000</td>\n",
       "    </tr>\n",
       "    <tr>\n",
       "      <th>mean</th>\n",
       "      <td>55.000000</td>\n",
       "      <td>65.000000</td>\n",
       "      <td>75.000000</td>\n",
       "    </tr>\n",
       "    <tr>\n",
       "      <th>std</th>\n",
       "      <td>38.729833</td>\n",
       "      <td>38.729833</td>\n",
       "      <td>38.729833</td>\n",
       "    </tr>\n",
       "    <tr>\n",
       "      <th>min</th>\n",
       "      <td>10.000000</td>\n",
       "      <td>20.000000</td>\n",
       "      <td>30.000000</td>\n",
       "    </tr>\n",
       "    <tr>\n",
       "      <th>25%</th>\n",
       "      <td>32.500000</td>\n",
       "      <td>42.500000</td>\n",
       "      <td>52.500000</td>\n",
       "    </tr>\n",
       "    <tr>\n",
       "      <th>50%</th>\n",
       "      <td>55.000000</td>\n",
       "      <td>65.000000</td>\n",
       "      <td>75.000000</td>\n",
       "    </tr>\n",
       "    <tr>\n",
       "      <th>75%</th>\n",
       "      <td>77.500000</td>\n",
       "      <td>87.500000</td>\n",
       "      <td>97.500000</td>\n",
       "    </tr>\n",
       "    <tr>\n",
       "      <th>max</th>\n",
       "      <td>100.000000</td>\n",
       "      <td>110.000000</td>\n",
       "      <td>120.000000</td>\n",
       "    </tr>\n",
       "  </tbody>\n",
       "</table>\n",
       "</div>"
      ],
      "text/plain": [
       "                x           y           z\n",
       "count    4.000000    4.000000    4.000000\n",
       "mean    55.000000   65.000000   75.000000\n",
       "std     38.729833   38.729833   38.729833\n",
       "min     10.000000   20.000000   30.000000\n",
       "25%     32.500000   42.500000   52.500000\n",
       "50%     55.000000   65.000000   75.000000\n",
       "75%     77.500000   87.500000   97.500000\n",
       "max    100.000000  110.000000  120.000000"
      ]
     },
     "execution_count": 15,
     "metadata": {},
     "output_type": "execute_result"
    }
   ],
   "source": [
    "df.describe()  # this will give us all of those values, for each column"
   ]
  },
  {
   "cell_type": "code",
   "execution_count": 16,
   "id": "07d450c4-fc17-473a-af6c-3d3b3bed4675",
   "metadata": {},
   "outputs": [
    {
     "data": {
      "text/html": [
       "<div>\n",
       "<style scoped>\n",
       "    .dataframe tbody tr th:only-of-type {\n",
       "        vertical-align: middle;\n",
       "    }\n",
       "\n",
       "    .dataframe tbody tr th {\n",
       "        vertical-align: top;\n",
       "    }\n",
       "\n",
       "    .dataframe thead th {\n",
       "        text-align: right;\n",
       "    }\n",
       "</style>\n",
       "<table border=\"1\" class=\"dataframe\">\n",
       "  <thead>\n",
       "    <tr style=\"text-align: right;\">\n",
       "      <th></th>\n",
       "      <th>x</th>\n",
       "      <th>y</th>\n",
       "      <th>z</th>\n",
       "      <th>w</th>\n",
       "    </tr>\n",
       "  </thead>\n",
       "  <tbody>\n",
       "    <tr>\n",
       "      <th>a</th>\n",
       "      <td>10</td>\n",
       "      <td>20</td>\n",
       "      <td>30</td>\n",
       "      <td>hello</td>\n",
       "    </tr>\n",
       "    <tr>\n",
       "      <th>b</th>\n",
       "      <td>40</td>\n",
       "      <td>50</td>\n",
       "      <td>60</td>\n",
       "      <td>out</td>\n",
       "    </tr>\n",
       "    <tr>\n",
       "      <th>c</th>\n",
       "      <td>70</td>\n",
       "      <td>80</td>\n",
       "      <td>90</td>\n",
       "      <td>there</td>\n",
       "    </tr>\n",
       "    <tr>\n",
       "      <th>d</th>\n",
       "      <td>100</td>\n",
       "      <td>110</td>\n",
       "      <td>120</td>\n",
       "      <td>everyone</td>\n",
       "    </tr>\n",
       "  </tbody>\n",
       "</table>\n",
       "</div>"
      ],
      "text/plain": [
       "     x    y    z         w\n",
       "a   10   20   30     hello\n",
       "b   40   50   60       out\n",
       "c   70   80   90     there\n",
       "d  100  110  120  everyone"
      ]
     },
     "execution_count": 16,
     "metadata": {},
     "output_type": "execute_result"
    }
   ],
   "source": [
    "# you can add a new column to a data frame just by assigning\n",
    "df['w'] = ['hello', 'out', 'there', 'everyone']\n",
    "df"
   ]
  },
  {
   "cell_type": "code",
   "execution_count": 17,
   "id": "ca7cb02f-f624-40cb-a68e-b563466310a5",
   "metadata": {},
   "outputs": [
    {
     "data": {
      "text/html": [
       "<div>\n",
       "<style scoped>\n",
       "    .dataframe tbody tr th:only-of-type {\n",
       "        vertical-align: middle;\n",
       "    }\n",
       "\n",
       "    .dataframe tbody tr th {\n",
       "        vertical-align: top;\n",
       "    }\n",
       "\n",
       "    .dataframe thead th {\n",
       "        text-align: right;\n",
       "    }\n",
       "</style>\n",
       "<table border=\"1\" class=\"dataframe\">\n",
       "  <thead>\n",
       "    <tr style=\"text-align: right;\">\n",
       "      <th></th>\n",
       "      <th>x</th>\n",
       "      <th>y</th>\n",
       "      <th>z</th>\n",
       "    </tr>\n",
       "  </thead>\n",
       "  <tbody>\n",
       "    <tr>\n",
       "      <th>count</th>\n",
       "      <td>4.000000</td>\n",
       "      <td>4.000000</td>\n",
       "      <td>4.000000</td>\n",
       "    </tr>\n",
       "    <tr>\n",
       "      <th>mean</th>\n",
       "      <td>55.000000</td>\n",
       "      <td>65.000000</td>\n",
       "      <td>75.000000</td>\n",
       "    </tr>\n",
       "    <tr>\n",
       "      <th>std</th>\n",
       "      <td>38.729833</td>\n",
       "      <td>38.729833</td>\n",
       "      <td>38.729833</td>\n",
       "    </tr>\n",
       "    <tr>\n",
       "      <th>min</th>\n",
       "      <td>10.000000</td>\n",
       "      <td>20.000000</td>\n",
       "      <td>30.000000</td>\n",
       "    </tr>\n",
       "    <tr>\n",
       "      <th>25%</th>\n",
       "      <td>32.500000</td>\n",
       "      <td>42.500000</td>\n",
       "      <td>52.500000</td>\n",
       "    </tr>\n",
       "    <tr>\n",
       "      <th>50%</th>\n",
       "      <td>55.000000</td>\n",
       "      <td>65.000000</td>\n",
       "      <td>75.000000</td>\n",
       "    </tr>\n",
       "    <tr>\n",
       "      <th>75%</th>\n",
       "      <td>77.500000</td>\n",
       "      <td>87.500000</td>\n",
       "      <td>97.500000</td>\n",
       "    </tr>\n",
       "    <tr>\n",
       "      <th>max</th>\n",
       "      <td>100.000000</td>\n",
       "      <td>110.000000</td>\n",
       "      <td>120.000000</td>\n",
       "    </tr>\n",
       "  </tbody>\n",
       "</table>\n",
       "</div>"
      ],
      "text/plain": [
       "                x           y           z\n",
       "count    4.000000    4.000000    4.000000\n",
       "mean    55.000000   65.000000   75.000000\n",
       "std     38.729833   38.729833   38.729833\n",
       "min     10.000000   20.000000   30.000000\n",
       "25%     32.500000   42.500000   52.500000\n",
       "50%     55.000000   65.000000   75.000000\n",
       "75%     77.500000   87.500000   97.500000\n",
       "max    100.000000  110.000000  120.000000"
      ]
     },
     "execution_count": 17,
     "metadata": {},
     "output_type": "execute_result"
    }
   ],
   "source": [
    "df.describe()"
   ]
  },
  {
   "cell_type": "code",
   "execution_count": 19,
   "id": "5126569e-343f-4f74-9918-07adfedde730",
   "metadata": {},
   "outputs": [
    {
     "data": {
      "text/plain": [
       "count         4\n",
       "unique        4\n",
       "top       hello\n",
       "freq          1\n",
       "Name: w, dtype: object"
      ]
     },
     "execution_count": 19,
     "metadata": {},
     "output_type": "execute_result"
    }
   ],
   "source": [
    "df['w'].describe()"
   ]
  },
  {
   "cell_type": "code",
   "execution_count": 20,
   "id": "f36283d3-5b2a-43c0-8a80-f993be21736d",
   "metadata": {},
   "outputs": [
    {
     "data": {
      "text/html": [
       "<div>\n",
       "<style scoped>\n",
       "    .dataframe tbody tr th:only-of-type {\n",
       "        vertical-align: middle;\n",
       "    }\n",
       "\n",
       "    .dataframe tbody tr th {\n",
       "        vertical-align: top;\n",
       "    }\n",
       "\n",
       "    .dataframe thead th {\n",
       "        text-align: right;\n",
       "    }\n",
       "</style>\n",
       "<table border=\"1\" class=\"dataframe\">\n",
       "  <thead>\n",
       "    <tr style=\"text-align: right;\">\n",
       "      <th></th>\n",
       "      <th>x</th>\n",
       "      <th>y</th>\n",
       "      <th>z</th>\n",
       "      <th>w</th>\n",
       "    </tr>\n",
       "  </thead>\n",
       "  <tbody>\n",
       "    <tr>\n",
       "      <th>a</th>\n",
       "      <td>10</td>\n",
       "      <td>20</td>\n",
       "      <td>30</td>\n",
       "      <td>hello</td>\n",
       "    </tr>\n",
       "    <tr>\n",
       "      <th>b</th>\n",
       "      <td>40</td>\n",
       "      <td>50</td>\n",
       "      <td>60</td>\n",
       "      <td>out</td>\n",
       "    </tr>\n",
       "    <tr>\n",
       "      <th>c</th>\n",
       "      <td>70</td>\n",
       "      <td>80</td>\n",
       "      <td>90</td>\n",
       "      <td>there</td>\n",
       "    </tr>\n",
       "    <tr>\n",
       "      <th>d</th>\n",
       "      <td>100</td>\n",
       "      <td>110</td>\n",
       "      <td>120</td>\n",
       "      <td>everyone</td>\n",
       "    </tr>\n",
       "  </tbody>\n",
       "</table>\n",
       "</div>"
      ],
      "text/plain": [
       "     x    y    z         w\n",
       "a   10   20   30     hello\n",
       "b   40   50   60       out\n",
       "c   70   80   90     there\n",
       "d  100  110  120  everyone"
      ]
     },
     "execution_count": 20,
     "metadata": {},
     "output_type": "execute_result"
    }
   ],
   "source": [
    "df"
   ]
  },
  {
   "cell_type": "code",
   "execution_count": 21,
   "id": "79fe4dd9-5538-4154-82ce-ebfb3105e4a7",
   "metadata": {},
   "outputs": [
    {
     "data": {
      "text/plain": [
       "x       10\n",
       "y       20\n",
       "z       30\n",
       "w    hello\n",
       "Name: a, dtype: object"
      ]
     },
     "execution_count": 21,
     "metadata": {},
     "output_type": "execute_result"
    }
   ],
   "source": [
    "df.loc['a']"
   ]
  },
  {
   "cell_type": "code",
   "execution_count": 22,
   "id": "475c3fd0-1ff5-43fd-a1d0-f60491b98476",
   "metadata": {},
   "outputs": [
    {
     "ename": "UFuncTypeError",
     "evalue": "ufunc 'add' did not contain a loop with signature matching types (dtype('int64'), dtype('<U5')) -> None",
     "output_type": "error",
     "traceback": [
      "\u001b[0;31m---------------------------------------------------------------------------\u001b[0m",
      "\u001b[0;31mUFuncTypeError\u001b[0m                            Traceback (most recent call last)",
      "Cell \u001b[0;32mIn[22], line 1\u001b[0m\n\u001b[0;32m----> 1\u001b[0m \u001b[43mdf\u001b[49m\u001b[38;5;241;43m.\u001b[39;49m\u001b[43mloc\u001b[49m\u001b[43m[\u001b[49m\u001b[38;5;124;43m'\u001b[39;49m\u001b[38;5;124;43ma\u001b[39;49m\u001b[38;5;124;43m'\u001b[39;49m\u001b[43m]\u001b[49m\u001b[38;5;241;43m.\u001b[39;49m\u001b[43mmean\u001b[49m\u001b[43m(\u001b[49m\u001b[43m)\u001b[49m\n",
      "File \u001b[0;32m~/.pyenv/versions/3.12.3/lib/python3.12/site-packages/pandas/core/series.py:6549\u001b[0m, in \u001b[0;36mSeries.mean\u001b[0;34m(self, axis, skipna, numeric_only, **kwargs)\u001b[0m\n\u001b[1;32m   6541\u001b[0m \u001b[38;5;129m@doc\u001b[39m(make_doc(\u001b[38;5;124m\"\u001b[39m\u001b[38;5;124mmean\u001b[39m\u001b[38;5;124m\"\u001b[39m, ndim\u001b[38;5;241m=\u001b[39m\u001b[38;5;241m1\u001b[39m))\n\u001b[1;32m   6542\u001b[0m \u001b[38;5;28;01mdef\u001b[39;00m \u001b[38;5;21mmean\u001b[39m(\n\u001b[1;32m   6543\u001b[0m     \u001b[38;5;28mself\u001b[39m,\n\u001b[0;32m   (...)\u001b[0m\n\u001b[1;32m   6547\u001b[0m     \u001b[38;5;241m*\u001b[39m\u001b[38;5;241m*\u001b[39mkwargs,\n\u001b[1;32m   6548\u001b[0m ):\n\u001b[0;32m-> 6549\u001b[0m     \u001b[38;5;28;01mreturn\u001b[39;00m \u001b[43mNDFrame\u001b[49m\u001b[38;5;241;43m.\u001b[39;49m\u001b[43mmean\u001b[49m\u001b[43m(\u001b[49m\u001b[38;5;28;43mself\u001b[39;49m\u001b[43m,\u001b[49m\u001b[43m \u001b[49m\u001b[43maxis\u001b[49m\u001b[43m,\u001b[49m\u001b[43m \u001b[49m\u001b[43mskipna\u001b[49m\u001b[43m,\u001b[49m\u001b[43m \u001b[49m\u001b[43mnumeric_only\u001b[49m\u001b[43m,\u001b[49m\u001b[43m \u001b[49m\u001b[38;5;241;43m*\u001b[39;49m\u001b[38;5;241;43m*\u001b[39;49m\u001b[43mkwargs\u001b[49m\u001b[43m)\u001b[49m\n",
      "File \u001b[0;32m~/.pyenv/versions/3.12.3/lib/python3.12/site-packages/pandas/core/generic.py:12420\u001b[0m, in \u001b[0;36mNDFrame.mean\u001b[0;34m(self, axis, skipna, numeric_only, **kwargs)\u001b[0m\n\u001b[1;32m  12413\u001b[0m \u001b[38;5;28;01mdef\u001b[39;00m \u001b[38;5;21mmean\u001b[39m(\n\u001b[1;32m  12414\u001b[0m     \u001b[38;5;28mself\u001b[39m,\n\u001b[1;32m  12415\u001b[0m     axis: Axis \u001b[38;5;241m|\u001b[39m \u001b[38;5;28;01mNone\u001b[39;00m \u001b[38;5;241m=\u001b[39m \u001b[38;5;241m0\u001b[39m,\n\u001b[0;32m   (...)\u001b[0m\n\u001b[1;32m  12418\u001b[0m     \u001b[38;5;241m*\u001b[39m\u001b[38;5;241m*\u001b[39mkwargs,\n\u001b[1;32m  12419\u001b[0m ) \u001b[38;5;241m-\u001b[39m\u001b[38;5;241m>\u001b[39m Series \u001b[38;5;241m|\u001b[39m \u001b[38;5;28mfloat\u001b[39m:\n\u001b[0;32m> 12420\u001b[0m     \u001b[38;5;28;01mreturn\u001b[39;00m \u001b[38;5;28;43mself\u001b[39;49m\u001b[38;5;241;43m.\u001b[39;49m\u001b[43m_stat_function\u001b[49m\u001b[43m(\u001b[49m\n\u001b[1;32m  12421\u001b[0m \u001b[43m        \u001b[49m\u001b[38;5;124;43m\"\u001b[39;49m\u001b[38;5;124;43mmean\u001b[39;49m\u001b[38;5;124;43m\"\u001b[39;49m\u001b[43m,\u001b[49m\u001b[43m \u001b[49m\u001b[43mnanops\u001b[49m\u001b[38;5;241;43m.\u001b[39;49m\u001b[43mnanmean\u001b[49m\u001b[43m,\u001b[49m\u001b[43m \u001b[49m\u001b[43maxis\u001b[49m\u001b[43m,\u001b[49m\u001b[43m \u001b[49m\u001b[43mskipna\u001b[49m\u001b[43m,\u001b[49m\u001b[43m \u001b[49m\u001b[43mnumeric_only\u001b[49m\u001b[43m,\u001b[49m\u001b[43m \u001b[49m\u001b[38;5;241;43m*\u001b[39;49m\u001b[38;5;241;43m*\u001b[39;49m\u001b[43mkwargs\u001b[49m\n\u001b[1;32m  12422\u001b[0m \u001b[43m    \u001b[49m\u001b[43m)\u001b[49m\n",
      "File \u001b[0;32m~/.pyenv/versions/3.12.3/lib/python3.12/site-packages/pandas/core/generic.py:12377\u001b[0m, in \u001b[0;36mNDFrame._stat_function\u001b[0;34m(self, name, func, axis, skipna, numeric_only, **kwargs)\u001b[0m\n\u001b[1;32m  12373\u001b[0m nv\u001b[38;5;241m.\u001b[39mvalidate_func(name, (), kwargs)\n\u001b[1;32m  12375\u001b[0m validate_bool_kwarg(skipna, \u001b[38;5;124m\"\u001b[39m\u001b[38;5;124mskipna\u001b[39m\u001b[38;5;124m\"\u001b[39m, none_allowed\u001b[38;5;241m=\u001b[39m\u001b[38;5;28;01mFalse\u001b[39;00m)\n\u001b[0;32m> 12377\u001b[0m \u001b[38;5;28;01mreturn\u001b[39;00m \u001b[38;5;28;43mself\u001b[39;49m\u001b[38;5;241;43m.\u001b[39;49m\u001b[43m_reduce\u001b[49m\u001b[43m(\u001b[49m\n\u001b[1;32m  12378\u001b[0m \u001b[43m    \u001b[49m\u001b[43mfunc\u001b[49m\u001b[43m,\u001b[49m\u001b[43m \u001b[49m\u001b[43mname\u001b[49m\u001b[38;5;241;43m=\u001b[39;49m\u001b[43mname\u001b[49m\u001b[43m,\u001b[49m\u001b[43m \u001b[49m\u001b[43maxis\u001b[49m\u001b[38;5;241;43m=\u001b[39;49m\u001b[43maxis\u001b[49m\u001b[43m,\u001b[49m\u001b[43m \u001b[49m\u001b[43mskipna\u001b[49m\u001b[38;5;241;43m=\u001b[39;49m\u001b[43mskipna\u001b[49m\u001b[43m,\u001b[49m\u001b[43m \u001b[49m\u001b[43mnumeric_only\u001b[49m\u001b[38;5;241;43m=\u001b[39;49m\u001b[43mnumeric_only\u001b[49m\n\u001b[1;32m  12379\u001b[0m \u001b[43m\u001b[49m\u001b[43m)\u001b[49m\n",
      "File \u001b[0;32m~/.pyenv/versions/3.12.3/lib/python3.12/site-packages/pandas/core/series.py:6457\u001b[0m, in \u001b[0;36mSeries._reduce\u001b[0;34m(self, op, name, axis, skipna, numeric_only, filter_type, **kwds)\u001b[0m\n\u001b[1;32m   6452\u001b[0m     \u001b[38;5;66;03m# GH#47500 - change to TypeError to match other methods\u001b[39;00m\n\u001b[1;32m   6453\u001b[0m     \u001b[38;5;28;01mraise\u001b[39;00m \u001b[38;5;167;01mTypeError\u001b[39;00m(\n\u001b[1;32m   6454\u001b[0m         \u001b[38;5;124mf\u001b[39m\u001b[38;5;124m\"\u001b[39m\u001b[38;5;124mSeries.\u001b[39m\u001b[38;5;132;01m{\u001b[39;00mname\u001b[38;5;132;01m}\u001b[39;00m\u001b[38;5;124m does not allow \u001b[39m\u001b[38;5;132;01m{\u001b[39;00mkwd_name\u001b[38;5;132;01m}\u001b[39;00m\u001b[38;5;124m=\u001b[39m\u001b[38;5;132;01m{\u001b[39;00mnumeric_only\u001b[38;5;132;01m}\u001b[39;00m\u001b[38;5;124m \u001b[39m\u001b[38;5;124m\"\u001b[39m\n\u001b[1;32m   6455\u001b[0m         \u001b[38;5;124m\"\u001b[39m\u001b[38;5;124mwith non-numeric dtypes.\u001b[39m\u001b[38;5;124m\"\u001b[39m\n\u001b[1;32m   6456\u001b[0m     )\n\u001b[0;32m-> 6457\u001b[0m \u001b[38;5;28;01mreturn\u001b[39;00m \u001b[43mop\u001b[49m\u001b[43m(\u001b[49m\u001b[43mdelegate\u001b[49m\u001b[43m,\u001b[49m\u001b[43m \u001b[49m\u001b[43mskipna\u001b[49m\u001b[38;5;241;43m=\u001b[39;49m\u001b[43mskipna\u001b[49m\u001b[43m,\u001b[49m\u001b[43m \u001b[49m\u001b[38;5;241;43m*\u001b[39;49m\u001b[38;5;241;43m*\u001b[39;49m\u001b[43mkwds\u001b[49m\u001b[43m)\u001b[49m\n",
      "File \u001b[0;32m~/.pyenv/versions/3.12.3/lib/python3.12/site-packages/pandas/core/nanops.py:147\u001b[0m, in \u001b[0;36mbottleneck_switch.__call__.<locals>.f\u001b[0;34m(values, axis, skipna, **kwds)\u001b[0m\n\u001b[1;32m    145\u001b[0m         result \u001b[38;5;241m=\u001b[39m alt(values, axis\u001b[38;5;241m=\u001b[39maxis, skipna\u001b[38;5;241m=\u001b[39mskipna, \u001b[38;5;241m*\u001b[39m\u001b[38;5;241m*\u001b[39mkwds)\n\u001b[1;32m    146\u001b[0m \u001b[38;5;28;01melse\u001b[39;00m:\n\u001b[0;32m--> 147\u001b[0m     result \u001b[38;5;241m=\u001b[39m \u001b[43malt\u001b[49m\u001b[43m(\u001b[49m\u001b[43mvalues\u001b[49m\u001b[43m,\u001b[49m\u001b[43m \u001b[49m\u001b[43maxis\u001b[49m\u001b[38;5;241;43m=\u001b[39;49m\u001b[43maxis\u001b[49m\u001b[43m,\u001b[49m\u001b[43m \u001b[49m\u001b[43mskipna\u001b[49m\u001b[38;5;241;43m=\u001b[39;49m\u001b[43mskipna\u001b[49m\u001b[43m,\u001b[49m\u001b[43m \u001b[49m\u001b[38;5;241;43m*\u001b[39;49m\u001b[38;5;241;43m*\u001b[39;49m\u001b[43mkwds\u001b[49m\u001b[43m)\u001b[49m\n\u001b[1;32m    149\u001b[0m \u001b[38;5;28;01mreturn\u001b[39;00m result\n",
      "File \u001b[0;32m~/.pyenv/versions/3.12.3/lib/python3.12/site-packages/pandas/core/nanops.py:404\u001b[0m, in \u001b[0;36m_datetimelike_compat.<locals>.new_func\u001b[0;34m(values, axis, skipna, mask, **kwargs)\u001b[0m\n\u001b[1;32m    401\u001b[0m \u001b[38;5;28;01mif\u001b[39;00m datetimelike \u001b[38;5;129;01mand\u001b[39;00m mask \u001b[38;5;129;01mis\u001b[39;00m \u001b[38;5;28;01mNone\u001b[39;00m:\n\u001b[1;32m    402\u001b[0m     mask \u001b[38;5;241m=\u001b[39m isna(values)\n\u001b[0;32m--> 404\u001b[0m result \u001b[38;5;241m=\u001b[39m \u001b[43mfunc\u001b[49m\u001b[43m(\u001b[49m\u001b[43mvalues\u001b[49m\u001b[43m,\u001b[49m\u001b[43m \u001b[49m\u001b[43maxis\u001b[49m\u001b[38;5;241;43m=\u001b[39;49m\u001b[43maxis\u001b[49m\u001b[43m,\u001b[49m\u001b[43m \u001b[49m\u001b[43mskipna\u001b[49m\u001b[38;5;241;43m=\u001b[39;49m\u001b[43mskipna\u001b[49m\u001b[43m,\u001b[49m\u001b[43m \u001b[49m\u001b[43mmask\u001b[49m\u001b[38;5;241;43m=\u001b[39;49m\u001b[43mmask\u001b[49m\u001b[43m,\u001b[49m\u001b[43m \u001b[49m\u001b[38;5;241;43m*\u001b[39;49m\u001b[38;5;241;43m*\u001b[39;49m\u001b[43mkwargs\u001b[49m\u001b[43m)\u001b[49m\n\u001b[1;32m    406\u001b[0m \u001b[38;5;28;01mif\u001b[39;00m datetimelike:\n\u001b[1;32m    407\u001b[0m     result \u001b[38;5;241m=\u001b[39m _wrap_results(result, orig_values\u001b[38;5;241m.\u001b[39mdtype, fill_value\u001b[38;5;241m=\u001b[39miNaT)\n",
      "File \u001b[0;32m~/.pyenv/versions/3.12.3/lib/python3.12/site-packages/pandas/core/nanops.py:719\u001b[0m, in \u001b[0;36mnanmean\u001b[0;34m(values, axis, skipna, mask)\u001b[0m\n\u001b[1;32m    716\u001b[0m     dtype_count \u001b[38;5;241m=\u001b[39m dtype\n\u001b[1;32m    718\u001b[0m count \u001b[38;5;241m=\u001b[39m _get_counts(values\u001b[38;5;241m.\u001b[39mshape, mask, axis, dtype\u001b[38;5;241m=\u001b[39mdtype_count)\n\u001b[0;32m--> 719\u001b[0m the_sum \u001b[38;5;241m=\u001b[39m \u001b[43mvalues\u001b[49m\u001b[38;5;241;43m.\u001b[39;49m\u001b[43msum\u001b[49m\u001b[43m(\u001b[49m\u001b[43maxis\u001b[49m\u001b[43m,\u001b[49m\u001b[43m \u001b[49m\u001b[43mdtype\u001b[49m\u001b[38;5;241;43m=\u001b[39;49m\u001b[43mdtype_sum\u001b[49m\u001b[43m)\u001b[49m\n\u001b[1;32m    720\u001b[0m the_sum \u001b[38;5;241m=\u001b[39m _ensure_numeric(the_sum)\n\u001b[1;32m    722\u001b[0m \u001b[38;5;28;01mif\u001b[39;00m axis \u001b[38;5;129;01mis\u001b[39;00m \u001b[38;5;129;01mnot\u001b[39;00m \u001b[38;5;28;01mNone\u001b[39;00m \u001b[38;5;129;01mand\u001b[39;00m \u001b[38;5;28mgetattr\u001b[39m(the_sum, \u001b[38;5;124m\"\u001b[39m\u001b[38;5;124mndim\u001b[39m\u001b[38;5;124m\"\u001b[39m, \u001b[38;5;28;01mFalse\u001b[39;00m):\n",
      "File \u001b[0;32m~/.pyenv/versions/3.12.3/lib/python3.12/site-packages/numpy/core/_methods.py:49\u001b[0m, in \u001b[0;36m_sum\u001b[0;34m(a, axis, dtype, out, keepdims, initial, where)\u001b[0m\n\u001b[1;32m     47\u001b[0m \u001b[38;5;28;01mdef\u001b[39;00m \u001b[38;5;21m_sum\u001b[39m(a, axis\u001b[38;5;241m=\u001b[39m\u001b[38;5;28;01mNone\u001b[39;00m, dtype\u001b[38;5;241m=\u001b[39m\u001b[38;5;28;01mNone\u001b[39;00m, out\u001b[38;5;241m=\u001b[39m\u001b[38;5;28;01mNone\u001b[39;00m, keepdims\u001b[38;5;241m=\u001b[39m\u001b[38;5;28;01mFalse\u001b[39;00m,\n\u001b[1;32m     48\u001b[0m          initial\u001b[38;5;241m=\u001b[39m_NoValue, where\u001b[38;5;241m=\u001b[39m\u001b[38;5;28;01mTrue\u001b[39;00m):\n\u001b[0;32m---> 49\u001b[0m     \u001b[38;5;28;01mreturn\u001b[39;00m \u001b[43mumr_sum\u001b[49m\u001b[43m(\u001b[49m\u001b[43ma\u001b[49m\u001b[43m,\u001b[49m\u001b[43m \u001b[49m\u001b[43maxis\u001b[49m\u001b[43m,\u001b[49m\u001b[43m \u001b[49m\u001b[43mdtype\u001b[49m\u001b[43m,\u001b[49m\u001b[43m \u001b[49m\u001b[43mout\u001b[49m\u001b[43m,\u001b[49m\u001b[43m \u001b[49m\u001b[43mkeepdims\u001b[49m\u001b[43m,\u001b[49m\u001b[43m \u001b[49m\u001b[43minitial\u001b[49m\u001b[43m,\u001b[49m\u001b[43m \u001b[49m\u001b[43mwhere\u001b[49m\u001b[43m)\u001b[49m\n",
      "\u001b[0;31mUFuncTypeError\u001b[0m: ufunc 'add' did not contain a loop with signature matching types (dtype('int64'), dtype('<U5')) -> None"
     ]
    }
   ],
   "source": [
    "df.loc['a'].mean()"
   ]
  },
  {
   "cell_type": "markdown",
   "id": "df82561a-738b-44a9-b1be-b90429a43f85",
   "metadata": {},
   "source": [
    "# Exercise: Create a data frame\n",
    "\n",
    "1. Create a data frame describing the weather forecast\n",
    "    - It'll have six rows, each for a different day\n",
    "    - The index will contain day names\n",
    "    - The columns will be `high` and `low`, for the forecast high and low temps in your area\n",
    "2. Describe the values for the `high` and `low` columns, both separately and together.\n",
    "3. Calculate the predict mean temp on both Wednesday and Friday.\n",
    "4. Add a new column, precipitation, to the data frame. What happens now if you try to describe the values in the data frame? Does it work? Why?"
   ]
  },
  {
   "cell_type": "code",
   "execution_count": 26,
   "id": "fc23c13e-94b7-4a05-8a81-5444ca7a694b",
   "metadata": {},
   "outputs": [
    {
     "data": {
      "text/html": [
       "<div>\n",
       "<style scoped>\n",
       "    .dataframe tbody tr th:only-of-type {\n",
       "        vertical-align: middle;\n",
       "    }\n",
       "\n",
       "    .dataframe tbody tr th {\n",
       "        vertical-align: top;\n",
       "    }\n",
       "\n",
       "    .dataframe thead th {\n",
       "        text-align: right;\n",
       "    }\n",
       "</style>\n",
       "<table border=\"1\" class=\"dataframe\">\n",
       "  <thead>\n",
       "    <tr style=\"text-align: right;\">\n",
       "      <th></th>\n",
       "      <th>high</th>\n",
       "      <th>low</th>\n",
       "    </tr>\n",
       "  </thead>\n",
       "  <tbody>\n",
       "    <tr>\n",
       "      <th>Tue</th>\n",
       "      <td>32</td>\n",
       "      <td>20</td>\n",
       "    </tr>\n",
       "    <tr>\n",
       "      <th>Wed</th>\n",
       "      <td>33</td>\n",
       "      <td>21</td>\n",
       "    </tr>\n",
       "    <tr>\n",
       "      <th>Thu</th>\n",
       "      <td>36</td>\n",
       "      <td>23</td>\n",
       "    </tr>\n",
       "    <tr>\n",
       "      <th>Fri</th>\n",
       "      <td>37</td>\n",
       "      <td>24</td>\n",
       "    </tr>\n",
       "    <tr>\n",
       "      <th>Sat</th>\n",
       "      <td>37</td>\n",
       "      <td>23</td>\n",
       "    </tr>\n",
       "    <tr>\n",
       "      <th>Sun</th>\n",
       "      <td>34</td>\n",
       "      <td>21</td>\n",
       "    </tr>\n",
       "  </tbody>\n",
       "</table>\n",
       "</div>"
      ],
      "text/plain": [
       "     high  low\n",
       "Tue    32   20\n",
       "Wed    33   21\n",
       "Thu    36   23\n",
       "Fri    37   24\n",
       "Sat    37   23\n",
       "Sun    34   21"
      ]
     },
     "execution_count": 26,
     "metadata": {},
     "output_type": "execute_result"
    }
   ],
   "source": [
    "df = DataFrame([[32, 20],\n",
    "                [33, 21],\n",
    "                [36, 23],\n",
    "                [37, 24],\n",
    "                [37, 23],\n",
    "                [34, 21]],\n",
    "              index='Tue Wed Thu Fri Sat Sun'.split(),\n",
    "              columns=['high', 'low'])\n",
    "df\n",
    "                "
   ]
  },
  {
   "cell_type": "code",
   "execution_count": 27,
   "id": "38994ee9-80c7-4526-b335-f71756f32278",
   "metadata": {},
   "outputs": [
    {
     "data": {
      "text/plain": [
       "dtype('int64')"
      ]
     },
     "execution_count": 27,
     "metadata": {},
     "output_type": "execute_result"
    }
   ],
   "source": [
    "# We can always get the dtype of a series with the \".dtype\" attribute\n",
    "df['high'].dtype"
   ]
  },
  {
   "cell_type": "code",
   "execution_count": 28,
   "id": "405bf10e-d2e1-45d1-baed-c7f448f373a2",
   "metadata": {},
   "outputs": [
    {
     "data": {
      "text/plain": [
       "high    int64\n",
       "low     int64\n",
       "dtype: object"
      ]
     },
     "execution_count": 28,
     "metadata": {},
     "output_type": "execute_result"
    }
   ],
   "source": [
    "# I can also get the dtypes of an entire data frame with \".dtypes\"\n",
    "df.dtypes"
   ]
  },
  {
   "cell_type": "code",
   "execution_count": 29,
   "id": "82689d50-06e4-4ab6-9d1d-9bd4a217564e",
   "metadata": {},
   "outputs": [
    {
     "data": {
      "text/plain": [
       "count     6.000000\n",
       "mean     34.833333\n",
       "std       2.136976\n",
       "min      32.000000\n",
       "25%      33.250000\n",
       "50%      35.000000\n",
       "75%      36.750000\n",
       "max      37.000000\n",
       "Name: high, dtype: float64"
      ]
     },
     "execution_count": 29,
     "metadata": {},
     "output_type": "execute_result"
    }
   ],
   "source": [
    "# Describe the values for the high and low columns, both separately and together.\n",
    "df['high'].describe()"
   ]
  },
  {
   "cell_type": "code",
   "execution_count": 30,
   "id": "45c42a01-77db-4eb3-83c2-7e8c2cb7749c",
   "metadata": {},
   "outputs": [
    {
     "data": {
      "text/plain": [
       "count     6.000000\n",
       "mean     22.000000\n",
       "std       1.549193\n",
       "min      20.000000\n",
       "25%      21.000000\n",
       "50%      22.000000\n",
       "75%      23.000000\n",
       "max      24.000000\n",
       "Name: low, dtype: float64"
      ]
     },
     "execution_count": 30,
     "metadata": {},
     "output_type": "execute_result"
    }
   ],
   "source": [
    "df['low'].describe()"
   ]
  },
  {
   "cell_type": "code",
   "execution_count": 31,
   "id": "b9ae1b84-4659-4475-9332-9080993c001b",
   "metadata": {},
   "outputs": [
    {
     "data": {
      "text/html": [
       "<div>\n",
       "<style scoped>\n",
       "    .dataframe tbody tr th:only-of-type {\n",
       "        vertical-align: middle;\n",
       "    }\n",
       "\n",
       "    .dataframe tbody tr th {\n",
       "        vertical-align: top;\n",
       "    }\n",
       "\n",
       "    .dataframe thead th {\n",
       "        text-align: right;\n",
       "    }\n",
       "</style>\n",
       "<table border=\"1\" class=\"dataframe\">\n",
       "  <thead>\n",
       "    <tr style=\"text-align: right;\">\n",
       "      <th></th>\n",
       "      <th>high</th>\n",
       "      <th>low</th>\n",
       "    </tr>\n",
       "  </thead>\n",
       "  <tbody>\n",
       "    <tr>\n",
       "      <th>count</th>\n",
       "      <td>6.000000</td>\n",
       "      <td>6.000000</td>\n",
       "    </tr>\n",
       "    <tr>\n",
       "      <th>mean</th>\n",
       "      <td>34.833333</td>\n",
       "      <td>22.000000</td>\n",
       "    </tr>\n",
       "    <tr>\n",
       "      <th>std</th>\n",
       "      <td>2.136976</td>\n",
       "      <td>1.549193</td>\n",
       "    </tr>\n",
       "    <tr>\n",
       "      <th>min</th>\n",
       "      <td>32.000000</td>\n",
       "      <td>20.000000</td>\n",
       "    </tr>\n",
       "    <tr>\n",
       "      <th>25%</th>\n",
       "      <td>33.250000</td>\n",
       "      <td>21.000000</td>\n",
       "    </tr>\n",
       "    <tr>\n",
       "      <th>50%</th>\n",
       "      <td>35.000000</td>\n",
       "      <td>22.000000</td>\n",
       "    </tr>\n",
       "    <tr>\n",
       "      <th>75%</th>\n",
       "      <td>36.750000</td>\n",
       "      <td>23.000000</td>\n",
       "    </tr>\n",
       "    <tr>\n",
       "      <th>max</th>\n",
       "      <td>37.000000</td>\n",
       "      <td>24.000000</td>\n",
       "    </tr>\n",
       "  </tbody>\n",
       "</table>\n",
       "</div>"
      ],
      "text/plain": [
       "            high        low\n",
       "count   6.000000   6.000000\n",
       "mean   34.833333  22.000000\n",
       "std     2.136976   1.549193\n",
       "min    32.000000  20.000000\n",
       "25%    33.250000  21.000000\n",
       "50%    35.000000  22.000000\n",
       "75%    36.750000  23.000000\n",
       "max    37.000000  24.000000"
      ]
     },
     "execution_count": 31,
     "metadata": {},
     "output_type": "execute_result"
    }
   ],
   "source": [
    "df.describe()"
   ]
  },
  {
   "cell_type": "code",
   "execution_count": 34,
   "id": "84340d2a-7f8b-42fb-ba69-4e87604f2645",
   "metadata": {},
   "outputs": [
    {
     "data": {
      "text/plain": [
       "high    35.0\n",
       "low     22.5\n",
       "dtype: float64"
      ]
     },
     "execution_count": 34,
     "metadata": {},
     "output_type": "execute_result"
    }
   ],
   "source": [
    "# Calculate the predict mean temp on both Wednesday and Friday.\n",
    "\n",
    "df.loc[['Wed', 'Fri']].mean()"
   ]
  },
  {
   "cell_type": "code",
   "execution_count": 45,
   "id": "d8260b45-6da8-45a4-b4ed-499189cf1383",
   "metadata": {},
   "outputs": [
    {
     "data": {
      "text/plain": [
       "high    35.0\n",
       "low     22.5\n",
       "dtype: float64"
      ]
     },
     "execution_count": 45,
     "metadata": {},
     "output_type": "execute_result"
    }
   ],
   "source": [
    "# what if you want to calculate across the rows, and not via the columns?\n",
    "# many, *many* methods on a data frame support the \"axis\" keyword argument, which can take\n",
    "#  values of 0 or 1 or... I prefer to use the strings \"columns\" or \"rows\"\n",
    "\n",
    "df.loc[['Wed', 'Fri']].mean(axis='rows')"
   ]
  },
  {
   "cell_type": "code",
   "execution_count": 46,
   "id": "993cdedc-1a3d-4413-8d03-d6243a9467aa",
   "metadata": {},
   "outputs": [
    {
     "data": {
      "text/plain": [
       "Wed    27.0\n",
       "Fri    30.5\n",
       "dtype: float64"
      ]
     },
     "execution_count": 46,
     "metadata": {},
     "output_type": "execute_result"
    }
   ],
   "source": [
    "df.loc[['Wed', 'Fri']].mean(axis='columns')   # this means: go across, give me a new column with the result"
   ]
  },
  {
   "cell_type": "markdown",
   "id": "2b81e6cb-d571-4cb6-bf2a-fb0b0b12db17",
   "metadata": {},
   "source": [
    "When we say `axis='rows'`, that means we basically want a new row to be calculated, with one result per column. This means that we're calculating one result per column.\n",
    "\n",
    "When we say `axis='columns'`, that basically means we want a new column to be calculated, with one result per row. "
   ]
  },
  {
   "cell_type": "code",
   "execution_count": 47,
   "id": "9f33cbb6-71bd-4d5b-bd2a-4a6b978e9251",
   "metadata": {},
   "outputs": [
    {
     "data": {
      "text/html": [
       "<div>\n",
       "<style scoped>\n",
       "    .dataframe tbody tr th:only-of-type {\n",
       "        vertical-align: middle;\n",
       "    }\n",
       "\n",
       "    .dataframe tbody tr th {\n",
       "        vertical-align: top;\n",
       "    }\n",
       "\n",
       "    .dataframe thead th {\n",
       "        text-align: right;\n",
       "    }\n",
       "</style>\n",
       "<table border=\"1\" class=\"dataframe\">\n",
       "  <thead>\n",
       "    <tr style=\"text-align: right;\">\n",
       "      <th></th>\n",
       "      <th>high</th>\n",
       "      <th>low</th>\n",
       "    </tr>\n",
       "  </thead>\n",
       "  <tbody>\n",
       "    <tr>\n",
       "      <th>Tue</th>\n",
       "      <td>32</td>\n",
       "      <td>20</td>\n",
       "    </tr>\n",
       "    <tr>\n",
       "      <th>Wed</th>\n",
       "      <td>33</td>\n",
       "      <td>21</td>\n",
       "    </tr>\n",
       "    <tr>\n",
       "      <th>Thu</th>\n",
       "      <td>36</td>\n",
       "      <td>23</td>\n",
       "    </tr>\n",
       "    <tr>\n",
       "      <th>Fri</th>\n",
       "      <td>37</td>\n",
       "      <td>24</td>\n",
       "    </tr>\n",
       "    <tr>\n",
       "      <th>Sat</th>\n",
       "      <td>37</td>\n",
       "      <td>23</td>\n",
       "    </tr>\n",
       "    <tr>\n",
       "      <th>Sun</th>\n",
       "      <td>34</td>\n",
       "      <td>21</td>\n",
       "    </tr>\n",
       "  </tbody>\n",
       "</table>\n",
       "</div>"
      ],
      "text/plain": [
       "     high  low\n",
       "Tue    32   20\n",
       "Wed    33   21\n",
       "Thu    36   23\n",
       "Fri    37   24\n",
       "Sat    37   23\n",
       "Sun    34   21"
      ]
     },
     "execution_count": 47,
     "metadata": {},
     "output_type": "execute_result"
    }
   ],
   "source": [
    "df"
   ]
  },
  {
   "cell_type": "code",
   "execution_count": 48,
   "id": "a05d5b57-dfee-4b42-99b2-081316a2fec2",
   "metadata": {},
   "outputs": [
    {
     "data": {
      "text/plain": [
       "Tue    26.0\n",
       "Wed    27.0\n",
       "Thu    29.5\n",
       "Fri    30.5\n",
       "Sat    30.0\n",
       "Sun    27.5\n",
       "dtype: float64"
      ]
     },
     "execution_count": 48,
     "metadata": {},
     "output_type": "execute_result"
    }
   ],
   "source": [
    "df.mean(axis='columns')"
   ]
  },
  {
   "cell_type": "markdown",
   "id": "867126d4-b1e4-4d1a-aae8-81f546c3afc4",
   "metadata": {},
   "source": [
    "# Real data!"
   ]
  },
  {
   "cell_type": "code",
   "execution_count": 50,
   "id": "e3ac94d3-58e6-4b77-94ea-bcaef940553a",
   "metadata": {},
   "outputs": [
    {
     "name": "stdout",
     "output_type": "stream",
     "text": [
      "../data/2020_sharing_data_outside.csv  ../data/olympic_athlete_events.csv\n",
      "../data/CPILFESL.csv\t\t       ../data/san+francisco,ca.csv\n",
      "../data/albany,ny.csv\t\t       ../data/sat-scores.csv\n",
      "../data/boston,ma.csv\t\t       ../data/skyscrapers.csv\n",
      "../data/burrito_current.csv\t       ../data/springfield,il.csv\n",
      "../data/celebrity_deaths_2016.csv      ../data/springfield,ma.csv\n",
      "../data/chicago,il.csv\t\t       ../data/taxi-distance.csv\n",
      "../data/eu_cpi.csv\t\t       ../data/taxi-passenger-count.csv\n",
      "../data/eu_gdp.csv\t\t       ../data/taxi.csv\n",
      "../data/ice-cream.csv\t\t       ../data/titanic3.csv\n",
      "../data/languages.csv\t\t       ../data/us-median-cpi.csv\n",
      "../data/los+angeles,ca.csv\t       ../data/us-unemployment-rate.csv\n",
      "../data/miles-traveled.csv\t       ../data/us_gdp.csv\n",
      "../data/new+york,ny.csv\t\t       ../data/winemag-150k-reviews.csv\n",
      "../data/oecd_locations.csv\t       ../data/wti-daily.csv\n",
      "../data/oecd_tourism.csv\n"
     ]
    }
   ],
   "source": [
    "# Use ! to run a Unix command, just to get a list of files in the \"../data\" directory\n",
    "\n",
    "!ls ../data/*.csv"
   ]
  },
  {
   "cell_type": "code",
   "execution_count": 51,
   "id": "2e222bf2-8dc5-4759-a537-46c70fac170f",
   "metadata": {},
   "outputs": [
    {
     "name": "stdout",
     "output_type": "stream",
     "text": [
      "VendorID,tpep_pickup_datetime,tpep_dropoff_datetime,passenger_count,trip_distance,pickup_longitude,pickup_latitude,RateCodeID,store_and_fwd_flag,dropoff_longitude,dropoff_latitude,payment_type,fare_amount,extra,mta_tax,tip_amount,tolls_amount,improvement_surcharge,total_amount\n",
      "2,2015-06-02 11:19:29,2015-06-02 11:47:52,1,1.63,-73.954429626464844,40.764141082763672,1,N,-73.974754333496094,40.754093170166016,2,17,0,0.5,0,0,0.3,17.8\n",
      "2,2015-06-02 11:19:30,2015-06-02 11:27:56,1,.46,-73.971443176269531,40.758941650390625,1,N,-73.978538513183594,40.761909484863281,1,6.5,0,0.5,1,0,0.3,8.3\n",
      "2,2015-06-02 11:19:31,2015-06-02 11:30:30,1,.87,-73.978111267089844,40.738433837890625,1,N,-73.990272521972656,40.745437622070313,1,8,0,0.5,2.2,0,0.3,11\n",
      "2,2015-06-02 11:19:31,2015-06-02 11:39:02,1,2.13,-73.945892333984375,40.773529052734375,1,N,-73.971527099609375,40.760330200195312,1,13.5,0,0.5,2.86,0,0.3,17.16\n",
      "1,2015-06-02 11:19:32,2015-06-02 11:32:49,1,1.40,-73.979087829589844,40.776771545410156,1,N,-73.982162475585937,40.758998870849609,2,9.5,0,0.5,0,0,0.3,10.3\n",
      "1,2015-06-02 11:19:33,2015-06-02 11:28:48,1,1.40,-73.94464111328125,40.779464721679688,1,N,-73.96136474609375,40.771560668945313,1,8,0,0.5,1.75,0,0.3,10.55\n",
      "1,2015-06-02 11:19:34,2015-06-02 11:38:46,1,1.80,-73.992866516113281,40.748210906982422,1,N,-73.969772338867187,40.748458862304687,1,12.5,0,0.5,3,0,0.3,16.3\n",
      "1,2015-06-02 11:19:35,2015-06-02 12:36:46,4,11.90,-73.863075256347656,40.769252777099609,1,N,-73.986709594726563,40.761306762695313,1,52.5,0,0.5,15,5.54,0.3,73.84\n",
      "2,2015-06-02 11:19:36,2015-06-02 11:45:19,1,1.27,-73.991432189941406,40.749305725097656,1,N,-73.985061645507813,40.759525299072266,2,15,0,0.5,0,0,0.3,15.8\n"
     ]
    }
   ],
   "source": [
    "# I want to load the taxi data (../data/taxi.csv) into a data frame\n",
    "\n",
    "!head ../data/taxi.csv   # comma-separated values"
   ]
  },
  {
   "cell_type": "code",
   "execution_count": 52,
   "id": "c3e50b46-d03d-4bd6-ba8e-2de452693d35",
   "metadata": {},
   "outputs": [],
   "source": [
    "# If I want to create a data frame based on a CSV file, the easiest thing to do\n",
    "# is call pd.read_csv, and hand it a filename. This assumes that (a) fields are separated by\n",
    "# commas, (b) the first row contains column names, and (c) the only data types we want are\n",
    "# integers, floats, and strings. If Pandas has any problems at all with values in a column,\n",
    "# it'll just call that column \"object,\" and put strings in it.\n",
    "\n",
    "df = pd.read_csv('../data/taxi.csv')   # this means: go up a directory, then go into the \"data\" subdirectory, and find taxi.csv"
   ]
  },
  {
   "cell_type": "code",
   "execution_count": 53,
   "id": "b69f5123-da8c-4fd1-ae83-0325fe0ff3d9",
   "metadata": {},
   "outputs": [
    {
     "data": {
      "text/plain": [
       "(9999, 19)"
      ]
     },
     "execution_count": 53,
     "metadata": {},
     "output_type": "execute_result"
    }
   ],
   "source": [
    "# how can I know that it read it correctly?\n",
    "# let's run some basic tests.\n",
    "# first test: how big is our data frame? We can use the \"shape\" attribute\n",
    "\n",
    "df.shape   # gives me a tuple (rows, columns)"
   ]
  },
  {
   "cell_type": "code",
   "execution_count": 54,
   "id": "91decf5f-ebf0-4a80-891c-05d1101887b2",
   "metadata": {},
   "outputs": [
    {
     "data": {
      "text/html": [
       "<div>\n",
       "<style scoped>\n",
       "    .dataframe tbody tr th:only-of-type {\n",
       "        vertical-align: middle;\n",
       "    }\n",
       "\n",
       "    .dataframe tbody tr th {\n",
       "        vertical-align: top;\n",
       "    }\n",
       "\n",
       "    .dataframe thead th {\n",
       "        text-align: right;\n",
       "    }\n",
       "</style>\n",
       "<table border=\"1\" class=\"dataframe\">\n",
       "  <thead>\n",
       "    <tr style=\"text-align: right;\">\n",
       "      <th></th>\n",
       "      <th>VendorID</th>\n",
       "      <th>tpep_pickup_datetime</th>\n",
       "      <th>tpep_dropoff_datetime</th>\n",
       "      <th>passenger_count</th>\n",
       "      <th>trip_distance</th>\n",
       "      <th>pickup_longitude</th>\n",
       "      <th>pickup_latitude</th>\n",
       "      <th>RateCodeID</th>\n",
       "      <th>store_and_fwd_flag</th>\n",
       "      <th>dropoff_longitude</th>\n",
       "      <th>dropoff_latitude</th>\n",
       "      <th>payment_type</th>\n",
       "      <th>fare_amount</th>\n",
       "      <th>extra</th>\n",
       "      <th>mta_tax</th>\n",
       "      <th>tip_amount</th>\n",
       "      <th>tolls_amount</th>\n",
       "      <th>improvement_surcharge</th>\n",
       "      <th>total_amount</th>\n",
       "    </tr>\n",
       "  </thead>\n",
       "  <tbody>\n",
       "    <tr>\n",
       "      <th>0</th>\n",
       "      <td>2</td>\n",
       "      <td>2015-06-02 11:19:29</td>\n",
       "      <td>2015-06-02 11:47:52</td>\n",
       "      <td>1</td>\n",
       "      <td>1.63</td>\n",
       "      <td>-73.954430</td>\n",
       "      <td>40.764141</td>\n",
       "      <td>1</td>\n",
       "      <td>N</td>\n",
       "      <td>-73.974754</td>\n",
       "      <td>40.754093</td>\n",
       "      <td>2</td>\n",
       "      <td>17.0</td>\n",
       "      <td>0.0</td>\n",
       "      <td>0.5</td>\n",
       "      <td>0.00</td>\n",
       "      <td>0.0</td>\n",
       "      <td>0.3</td>\n",
       "      <td>17.80</td>\n",
       "    </tr>\n",
       "    <tr>\n",
       "      <th>1</th>\n",
       "      <td>2</td>\n",
       "      <td>2015-06-02 11:19:30</td>\n",
       "      <td>2015-06-02 11:27:56</td>\n",
       "      <td>1</td>\n",
       "      <td>0.46</td>\n",
       "      <td>-73.971443</td>\n",
       "      <td>40.758942</td>\n",
       "      <td>1</td>\n",
       "      <td>N</td>\n",
       "      <td>-73.978539</td>\n",
       "      <td>40.761909</td>\n",
       "      <td>1</td>\n",
       "      <td>6.5</td>\n",
       "      <td>0.0</td>\n",
       "      <td>0.5</td>\n",
       "      <td>1.00</td>\n",
       "      <td>0.0</td>\n",
       "      <td>0.3</td>\n",
       "      <td>8.30</td>\n",
       "    </tr>\n",
       "    <tr>\n",
       "      <th>2</th>\n",
       "      <td>2</td>\n",
       "      <td>2015-06-02 11:19:31</td>\n",
       "      <td>2015-06-02 11:30:30</td>\n",
       "      <td>1</td>\n",
       "      <td>0.87</td>\n",
       "      <td>-73.978111</td>\n",
       "      <td>40.738434</td>\n",
       "      <td>1</td>\n",
       "      <td>N</td>\n",
       "      <td>-73.990273</td>\n",
       "      <td>40.745438</td>\n",
       "      <td>1</td>\n",
       "      <td>8.0</td>\n",
       "      <td>0.0</td>\n",
       "      <td>0.5</td>\n",
       "      <td>2.20</td>\n",
       "      <td>0.0</td>\n",
       "      <td>0.3</td>\n",
       "      <td>11.00</td>\n",
       "    </tr>\n",
       "    <tr>\n",
       "      <th>3</th>\n",
       "      <td>2</td>\n",
       "      <td>2015-06-02 11:19:31</td>\n",
       "      <td>2015-06-02 11:39:02</td>\n",
       "      <td>1</td>\n",
       "      <td>2.13</td>\n",
       "      <td>-73.945892</td>\n",
       "      <td>40.773529</td>\n",
       "      <td>1</td>\n",
       "      <td>N</td>\n",
       "      <td>-73.971527</td>\n",
       "      <td>40.760330</td>\n",
       "      <td>1</td>\n",
       "      <td>13.5</td>\n",
       "      <td>0.0</td>\n",
       "      <td>0.5</td>\n",
       "      <td>2.86</td>\n",
       "      <td>0.0</td>\n",
       "      <td>0.3</td>\n",
       "      <td>17.16</td>\n",
       "    </tr>\n",
       "    <tr>\n",
       "      <th>4</th>\n",
       "      <td>1</td>\n",
       "      <td>2015-06-02 11:19:32</td>\n",
       "      <td>2015-06-02 11:32:49</td>\n",
       "      <td>1</td>\n",
       "      <td>1.40</td>\n",
       "      <td>-73.979088</td>\n",
       "      <td>40.776772</td>\n",
       "      <td>1</td>\n",
       "      <td>N</td>\n",
       "      <td>-73.982162</td>\n",
       "      <td>40.758999</td>\n",
       "      <td>2</td>\n",
       "      <td>9.5</td>\n",
       "      <td>0.0</td>\n",
       "      <td>0.5</td>\n",
       "      <td>0.00</td>\n",
       "      <td>0.0</td>\n",
       "      <td>0.3</td>\n",
       "      <td>10.30</td>\n",
       "    </tr>\n",
       "  </tbody>\n",
       "</table>\n",
       "</div>"
      ],
      "text/plain": [
       "   VendorID tpep_pickup_datetime tpep_dropoff_datetime  passenger_count  \\\n",
       "0         2  2015-06-02 11:19:29   2015-06-02 11:47:52                1   \n",
       "1         2  2015-06-02 11:19:30   2015-06-02 11:27:56                1   \n",
       "2         2  2015-06-02 11:19:31   2015-06-02 11:30:30                1   \n",
       "3         2  2015-06-02 11:19:31   2015-06-02 11:39:02                1   \n",
       "4         1  2015-06-02 11:19:32   2015-06-02 11:32:49                1   \n",
       "\n",
       "   trip_distance  pickup_longitude  pickup_latitude  RateCodeID  \\\n",
       "0           1.63        -73.954430        40.764141           1   \n",
       "1           0.46        -73.971443        40.758942           1   \n",
       "2           0.87        -73.978111        40.738434           1   \n",
       "3           2.13        -73.945892        40.773529           1   \n",
       "4           1.40        -73.979088        40.776772           1   \n",
       "\n",
       "  store_and_fwd_flag  dropoff_longitude  dropoff_latitude  payment_type  \\\n",
       "0                  N         -73.974754         40.754093             2   \n",
       "1                  N         -73.978539         40.761909             1   \n",
       "2                  N         -73.990273         40.745438             1   \n",
       "3                  N         -73.971527         40.760330             1   \n",
       "4                  N         -73.982162         40.758999             2   \n",
       "\n",
       "   fare_amount  extra  mta_tax  tip_amount  tolls_amount  \\\n",
       "0         17.0    0.0      0.5        0.00           0.0   \n",
       "1          6.5    0.0      0.5        1.00           0.0   \n",
       "2          8.0    0.0      0.5        2.20           0.0   \n",
       "3         13.5    0.0      0.5        2.86           0.0   \n",
       "4          9.5    0.0      0.5        0.00           0.0   \n",
       "\n",
       "   improvement_surcharge  total_amount  \n",
       "0                    0.3         17.80  \n",
       "1                    0.3          8.30  \n",
       "2                    0.3         11.00  \n",
       "3                    0.3         17.16  \n",
       "4                    0.3         10.30  "
      ]
     },
     "execution_count": 54,
     "metadata": {},
     "output_type": "execute_result"
    }
   ],
   "source": [
    "# I can run the \"head\" method to get the first five rows\n",
    "df.head()"
   ]
  },
  {
   "cell_type": "code",
   "execution_count": 55,
   "id": "3d1d9f90-27b9-4834-a1d3-27d83c71401d",
   "metadata": {},
   "outputs": [
    {
     "data": {
      "text/html": [
       "<div>\n",
       "<style scoped>\n",
       "    .dataframe tbody tr th:only-of-type {\n",
       "        vertical-align: middle;\n",
       "    }\n",
       "\n",
       "    .dataframe tbody tr th {\n",
       "        vertical-align: top;\n",
       "    }\n",
       "\n",
       "    .dataframe thead th {\n",
       "        text-align: right;\n",
       "    }\n",
       "</style>\n",
       "<table border=\"1\" class=\"dataframe\">\n",
       "  <thead>\n",
       "    <tr style=\"text-align: right;\">\n",
       "      <th></th>\n",
       "      <th>VendorID</th>\n",
       "      <th>tpep_pickup_datetime</th>\n",
       "      <th>tpep_dropoff_datetime</th>\n",
       "      <th>passenger_count</th>\n",
       "      <th>trip_distance</th>\n",
       "      <th>pickup_longitude</th>\n",
       "      <th>pickup_latitude</th>\n",
       "      <th>RateCodeID</th>\n",
       "      <th>store_and_fwd_flag</th>\n",
       "      <th>dropoff_longitude</th>\n",
       "      <th>dropoff_latitude</th>\n",
       "      <th>payment_type</th>\n",
       "      <th>fare_amount</th>\n",
       "      <th>extra</th>\n",
       "      <th>mta_tax</th>\n",
       "      <th>tip_amount</th>\n",
       "      <th>tolls_amount</th>\n",
       "      <th>improvement_surcharge</th>\n",
       "      <th>total_amount</th>\n",
       "    </tr>\n",
       "  </thead>\n",
       "  <tbody>\n",
       "    <tr>\n",
       "      <th>9994</th>\n",
       "      <td>1</td>\n",
       "      <td>2015-06-01 00:12:59</td>\n",
       "      <td>2015-06-01 00:24:18</td>\n",
       "      <td>1</td>\n",
       "      <td>2.70</td>\n",
       "      <td>-73.947792</td>\n",
       "      <td>40.814972</td>\n",
       "      <td>1</td>\n",
       "      <td>N</td>\n",
       "      <td>-73.973358</td>\n",
       "      <td>40.783638</td>\n",
       "      <td>2</td>\n",
       "      <td>11.0</td>\n",
       "      <td>0.5</td>\n",
       "      <td>0.5</td>\n",
       "      <td>0.00</td>\n",
       "      <td>0.0</td>\n",
       "      <td>0.3</td>\n",
       "      <td>12.30</td>\n",
       "    </tr>\n",
       "    <tr>\n",
       "      <th>9995</th>\n",
       "      <td>1</td>\n",
       "      <td>2015-06-01 00:12:59</td>\n",
       "      <td>2015-06-01 00:28:16</td>\n",
       "      <td>1</td>\n",
       "      <td>4.50</td>\n",
       "      <td>-74.004066</td>\n",
       "      <td>40.747818</td>\n",
       "      <td>1</td>\n",
       "      <td>N</td>\n",
       "      <td>-73.953758</td>\n",
       "      <td>40.779285</td>\n",
       "      <td>1</td>\n",
       "      <td>16.0</td>\n",
       "      <td>0.5</td>\n",
       "      <td>0.5</td>\n",
       "      <td>3.00</td>\n",
       "      <td>0.0</td>\n",
       "      <td>0.3</td>\n",
       "      <td>20.30</td>\n",
       "    </tr>\n",
       "    <tr>\n",
       "      <th>9996</th>\n",
       "      <td>2</td>\n",
       "      <td>2015-06-01 00:13:00</td>\n",
       "      <td>2015-06-01 00:37:25</td>\n",
       "      <td>1</td>\n",
       "      <td>5.59</td>\n",
       "      <td>-73.994377</td>\n",
       "      <td>40.766102</td>\n",
       "      <td>1</td>\n",
       "      <td>N</td>\n",
       "      <td>-73.903206</td>\n",
       "      <td>40.750546</td>\n",
       "      <td>2</td>\n",
       "      <td>21.0</td>\n",
       "      <td>0.5</td>\n",
       "      <td>0.5</td>\n",
       "      <td>0.00</td>\n",
       "      <td>0.0</td>\n",
       "      <td>0.3</td>\n",
       "      <td>22.30</td>\n",
       "    </tr>\n",
       "    <tr>\n",
       "      <th>9997</th>\n",
       "      <td>2</td>\n",
       "      <td>2015-06-01 00:13:02</td>\n",
       "      <td>2015-06-01 00:19:10</td>\n",
       "      <td>6</td>\n",
       "      <td>1.54</td>\n",
       "      <td>-73.978302</td>\n",
       "      <td>40.748531</td>\n",
       "      <td>1</td>\n",
       "      <td>N</td>\n",
       "      <td>-73.989166</td>\n",
       "      <td>40.762852</td>\n",
       "      <td>2</td>\n",
       "      <td>6.5</td>\n",
       "      <td>0.5</td>\n",
       "      <td>0.5</td>\n",
       "      <td>0.00</td>\n",
       "      <td>0.0</td>\n",
       "      <td>0.3</td>\n",
       "      <td>7.80</td>\n",
       "    </tr>\n",
       "    <tr>\n",
       "      <th>9998</th>\n",
       "      <td>1</td>\n",
       "      <td>2015-06-01 00:13:04</td>\n",
       "      <td>2015-06-01 00:36:33</td>\n",
       "      <td>1</td>\n",
       "      <td>5.80</td>\n",
       "      <td>-73.983215</td>\n",
       "      <td>40.726414</td>\n",
       "      <td>1</td>\n",
       "      <td>N</td>\n",
       "      <td>-73.924133</td>\n",
       "      <td>40.701645</td>\n",
       "      <td>1</td>\n",
       "      <td>21.0</td>\n",
       "      <td>0.5</td>\n",
       "      <td>0.5</td>\n",
       "      <td>4.45</td>\n",
       "      <td>0.0</td>\n",
       "      <td>0.3</td>\n",
       "      <td>26.75</td>\n",
       "    </tr>\n",
       "  </tbody>\n",
       "</table>\n",
       "</div>"
      ],
      "text/plain": [
       "      VendorID tpep_pickup_datetime tpep_dropoff_datetime  passenger_count  \\\n",
       "9994         1  2015-06-01 00:12:59   2015-06-01 00:24:18                1   \n",
       "9995         1  2015-06-01 00:12:59   2015-06-01 00:28:16                1   \n",
       "9996         2  2015-06-01 00:13:00   2015-06-01 00:37:25                1   \n",
       "9997         2  2015-06-01 00:13:02   2015-06-01 00:19:10                6   \n",
       "9998         1  2015-06-01 00:13:04   2015-06-01 00:36:33                1   \n",
       "\n",
       "      trip_distance  pickup_longitude  pickup_latitude  RateCodeID  \\\n",
       "9994           2.70        -73.947792        40.814972           1   \n",
       "9995           4.50        -74.004066        40.747818           1   \n",
       "9996           5.59        -73.994377        40.766102           1   \n",
       "9997           1.54        -73.978302        40.748531           1   \n",
       "9998           5.80        -73.983215        40.726414           1   \n",
       "\n",
       "     store_and_fwd_flag  dropoff_longitude  dropoff_latitude  payment_type  \\\n",
       "9994                  N         -73.973358         40.783638             2   \n",
       "9995                  N         -73.953758         40.779285             1   \n",
       "9996                  N         -73.903206         40.750546             2   \n",
       "9997                  N         -73.989166         40.762852             2   \n",
       "9998                  N         -73.924133         40.701645             1   \n",
       "\n",
       "      fare_amount  extra  mta_tax  tip_amount  tolls_amount  \\\n",
       "9994         11.0    0.5      0.5        0.00           0.0   \n",
       "9995         16.0    0.5      0.5        3.00           0.0   \n",
       "9996         21.0    0.5      0.5        0.00           0.0   \n",
       "9997          6.5    0.5      0.5        0.00           0.0   \n",
       "9998         21.0    0.5      0.5        4.45           0.0   \n",
       "\n",
       "      improvement_surcharge  total_amount  \n",
       "9994                    0.3         12.30  \n",
       "9995                    0.3         20.30  \n",
       "9996                    0.3         22.30  \n",
       "9997                    0.3          7.80  \n",
       "9998                    0.3         26.75  "
      ]
     },
     "execution_count": 55,
     "metadata": {},
     "output_type": "execute_result"
    }
   ],
   "source": [
    "df.tail()"
   ]
  },
  {
   "cell_type": "code",
   "execution_count": 56,
   "id": "f0aa3c48-9f10-4610-b2d4-f6b025d964b1",
   "metadata": {},
   "outputs": [
    {
     "data": {
      "text/html": [
       "<div>\n",
       "<style scoped>\n",
       "    .dataframe tbody tr th:only-of-type {\n",
       "        vertical-align: middle;\n",
       "    }\n",
       "\n",
       "    .dataframe tbody tr th {\n",
       "        vertical-align: top;\n",
       "    }\n",
       "\n",
       "    .dataframe thead th {\n",
       "        text-align: right;\n",
       "    }\n",
       "</style>\n",
       "<table border=\"1\" class=\"dataframe\">\n",
       "  <thead>\n",
       "    <tr style=\"text-align: right;\">\n",
       "      <th></th>\n",
       "      <th>VendorID</th>\n",
       "      <th>passenger_count</th>\n",
       "      <th>trip_distance</th>\n",
       "      <th>pickup_longitude</th>\n",
       "      <th>pickup_latitude</th>\n",
       "      <th>RateCodeID</th>\n",
       "      <th>dropoff_longitude</th>\n",
       "      <th>dropoff_latitude</th>\n",
       "      <th>payment_type</th>\n",
       "      <th>fare_amount</th>\n",
       "      <th>extra</th>\n",
       "      <th>mta_tax</th>\n",
       "      <th>tip_amount</th>\n",
       "      <th>tolls_amount</th>\n",
       "      <th>improvement_surcharge</th>\n",
       "      <th>total_amount</th>\n",
       "    </tr>\n",
       "  </thead>\n",
       "  <tbody>\n",
       "    <tr>\n",
       "      <th>count</th>\n",
       "      <td>9999.000000</td>\n",
       "      <td>9999.000000</td>\n",
       "      <td>9999.000000</td>\n",
       "      <td>9999.000000</td>\n",
       "      <td>9999.000000</td>\n",
       "      <td>9999.000000</td>\n",
       "      <td>9999.000000</td>\n",
       "      <td>9999.000000</td>\n",
       "      <td>9999.000000</td>\n",
       "      <td>9999.000000</td>\n",
       "      <td>9999.000000</td>\n",
       "      <td>9999.000000</td>\n",
       "      <td>9999.000000</td>\n",
       "      <td>9999.000000</td>\n",
       "      <td>9999.000000</td>\n",
       "      <td>9999.000000</td>\n",
       "    </tr>\n",
       "    <tr>\n",
       "      <th>mean</th>\n",
       "      <td>1.516652</td>\n",
       "      <td>1.659466</td>\n",
       "      <td>3.158511</td>\n",
       "      <td>-73.014956</td>\n",
       "      <td>40.226521</td>\n",
       "      <td>1.045105</td>\n",
       "      <td>-73.054699</td>\n",
       "      <td>40.248644</td>\n",
       "      <td>1.407741</td>\n",
       "      <td>14.415892</td>\n",
       "      <td>0.118212</td>\n",
       "      <td>0.497450</td>\n",
       "      <td>1.818059</td>\n",
       "      <td>0.400433</td>\n",
       "      <td>0.299790</td>\n",
       "      <td>17.552472</td>\n",
       "    </tr>\n",
       "    <tr>\n",
       "      <th>std</th>\n",
       "      <td>0.499748</td>\n",
       "      <td>1.333306</td>\n",
       "      <td>4.037516</td>\n",
       "      <td>8.347871</td>\n",
       "      <td>4.599169</td>\n",
       "      <td>0.302132</td>\n",
       "      <td>8.186847</td>\n",
       "      <td>4.510520</td>\n",
       "      <td>0.501911</td>\n",
       "      <td>12.442624</td>\n",
       "      <td>0.214794</td>\n",
       "      <td>0.037667</td>\n",
       "      <td>2.634469</td>\n",
       "      <td>1.665170</td>\n",
       "      <td>0.010816</td>\n",
       "      <td>15.137990</td>\n",
       "    </tr>\n",
       "    <tr>\n",
       "      <th>min</th>\n",
       "      <td>1.000000</td>\n",
       "      <td>0.000000</td>\n",
       "      <td>0.000000</td>\n",
       "      <td>-74.186302</td>\n",
       "      <td>0.000000</td>\n",
       "      <td>1.000000</td>\n",
       "      <td>-74.277367</td>\n",
       "      <td>0.000000</td>\n",
       "      <td>1.000000</td>\n",
       "      <td>-7.000000</td>\n",
       "      <td>-0.500000</td>\n",
       "      <td>-0.500000</td>\n",
       "      <td>0.000000</td>\n",
       "      <td>0.000000</td>\n",
       "      <td>-0.300000</td>\n",
       "      <td>-7.800000</td>\n",
       "    </tr>\n",
       "    <tr>\n",
       "      <th>25%</th>\n",
       "      <td>1.000000</td>\n",
       "      <td>1.000000</td>\n",
       "      <td>1.000000</td>\n",
       "      <td>-73.990997</td>\n",
       "      <td>40.738556</td>\n",
       "      <td>1.000000</td>\n",
       "      <td>-73.990261</td>\n",
       "      <td>40.738478</td>\n",
       "      <td>1.000000</td>\n",
       "      <td>7.000000</td>\n",
       "      <td>0.000000</td>\n",
       "      <td>0.500000</td>\n",
       "      <td>0.000000</td>\n",
       "      <td>0.000000</td>\n",
       "      <td>0.300000</td>\n",
       "      <td>8.800000</td>\n",
       "    </tr>\n",
       "    <tr>\n",
       "      <th>50%</th>\n",
       "      <td>2.000000</td>\n",
       "      <td>1.000000</td>\n",
       "      <td>1.700000</td>\n",
       "      <td>-73.979774</td>\n",
       "      <td>40.755909</td>\n",
       "      <td>1.000000</td>\n",
       "      <td>-73.978256</td>\n",
       "      <td>40.756340</td>\n",
       "      <td>1.000000</td>\n",
       "      <td>10.500000</td>\n",
       "      <td>0.000000</td>\n",
       "      <td>0.500000</td>\n",
       "      <td>1.000000</td>\n",
       "      <td>0.000000</td>\n",
       "      <td>0.300000</td>\n",
       "      <td>12.800000</td>\n",
       "    </tr>\n",
       "    <tr>\n",
       "      <th>75%</th>\n",
       "      <td>2.000000</td>\n",
       "      <td>2.000000</td>\n",
       "      <td>3.300000</td>\n",
       "      <td>-73.963001</td>\n",
       "      <td>40.770012</td>\n",
       "      <td>1.000000</td>\n",
       "      <td>-73.961311</td>\n",
       "      <td>40.771044</td>\n",
       "      <td>2.000000</td>\n",
       "      <td>17.000000</td>\n",
       "      <td>0.000000</td>\n",
       "      <td>0.500000</td>\n",
       "      <td>2.460000</td>\n",
       "      <td>0.000000</td>\n",
       "      <td>0.300000</td>\n",
       "      <td>19.800000</td>\n",
       "    </tr>\n",
       "    <tr>\n",
       "      <th>max</th>\n",
       "      <td>2.000000</td>\n",
       "      <td>6.000000</td>\n",
       "      <td>64.600000</td>\n",
       "      <td>0.000000</td>\n",
       "      <td>41.064606</td>\n",
       "      <td>5.000000</td>\n",
       "      <td>0.000000</td>\n",
       "      <td>41.137344</td>\n",
       "      <td>4.000000</td>\n",
       "      <td>250.000000</td>\n",
       "      <td>1.000000</td>\n",
       "      <td>0.500000</td>\n",
       "      <td>42.050000</td>\n",
       "      <td>70.000000</td>\n",
       "      <td>0.300000</td>\n",
       "      <td>252.350000</td>\n",
       "    </tr>\n",
       "  </tbody>\n",
       "</table>\n",
       "</div>"
      ],
      "text/plain": [
       "          VendorID  passenger_count  trip_distance  pickup_longitude  \\\n",
       "count  9999.000000      9999.000000    9999.000000       9999.000000   \n",
       "mean      1.516652         1.659466       3.158511        -73.014956   \n",
       "std       0.499748         1.333306       4.037516          8.347871   \n",
       "min       1.000000         0.000000       0.000000        -74.186302   \n",
       "25%       1.000000         1.000000       1.000000        -73.990997   \n",
       "50%       2.000000         1.000000       1.700000        -73.979774   \n",
       "75%       2.000000         2.000000       3.300000        -73.963001   \n",
       "max       2.000000         6.000000      64.600000          0.000000   \n",
       "\n",
       "       pickup_latitude   RateCodeID  dropoff_longitude  dropoff_latitude  \\\n",
       "count      9999.000000  9999.000000        9999.000000       9999.000000   \n",
       "mean         40.226521     1.045105         -73.054699         40.248644   \n",
       "std           4.599169     0.302132           8.186847          4.510520   \n",
       "min           0.000000     1.000000         -74.277367          0.000000   \n",
       "25%          40.738556     1.000000         -73.990261         40.738478   \n",
       "50%          40.755909     1.000000         -73.978256         40.756340   \n",
       "75%          40.770012     1.000000         -73.961311         40.771044   \n",
       "max          41.064606     5.000000           0.000000         41.137344   \n",
       "\n",
       "       payment_type  fare_amount        extra      mta_tax   tip_amount  \\\n",
       "count   9999.000000  9999.000000  9999.000000  9999.000000  9999.000000   \n",
       "mean       1.407741    14.415892     0.118212     0.497450     1.818059   \n",
       "std        0.501911    12.442624     0.214794     0.037667     2.634469   \n",
       "min        1.000000    -7.000000    -0.500000    -0.500000     0.000000   \n",
       "25%        1.000000     7.000000     0.000000     0.500000     0.000000   \n",
       "50%        1.000000    10.500000     0.000000     0.500000     1.000000   \n",
       "75%        2.000000    17.000000     0.000000     0.500000     2.460000   \n",
       "max        4.000000   250.000000     1.000000     0.500000    42.050000   \n",
       "\n",
       "       tolls_amount  improvement_surcharge  total_amount  \n",
       "count   9999.000000            9999.000000   9999.000000  \n",
       "mean       0.400433               0.299790     17.552472  \n",
       "std        1.665170               0.010816     15.137990  \n",
       "min        0.000000              -0.300000     -7.800000  \n",
       "25%        0.000000               0.300000      8.800000  \n",
       "50%        0.000000               0.300000     12.800000  \n",
       "75%        0.000000               0.300000     19.800000  \n",
       "max       70.000000               0.300000    252.350000  "
      ]
     },
     "execution_count": 56,
     "metadata": {},
     "output_type": "execute_result"
    }
   ],
   "source": [
    "# I can also run describe\n",
    "\n",
    "df.describe()"
   ]
  },
  {
   "cell_type": "code",
   "execution_count": 57,
   "id": "f81b03b7-1ede-4092-a999-0d283972a50c",
   "metadata": {},
   "outputs": [
    {
     "data": {
      "text/plain": [
       "VendorID                                   2\n",
       "tpep_pickup_datetime     2015-06-02 11:19:31\n",
       "tpep_dropoff_datetime    2015-06-02 11:39:02\n",
       "passenger_count                            1\n",
       "trip_distance                           2.13\n",
       "pickup_longitude                  -73.945892\n",
       "pickup_latitude                    40.773529\n",
       "RateCodeID                                 1\n",
       "store_and_fwd_flag                         N\n",
       "dropoff_longitude                 -73.971527\n",
       "dropoff_latitude                    40.76033\n",
       "payment_type                               1\n",
       "fare_amount                             13.5\n",
       "extra                                    0.0\n",
       "mta_tax                                  0.5\n",
       "tip_amount                              2.86\n",
       "tolls_amount                             0.0\n",
       "improvement_surcharge                    0.3\n",
       "total_amount                           17.16\n",
       "Name: 3, dtype: object"
      ]
     },
     "execution_count": 57,
     "metadata": {},
     "output_type": "execute_result"
    }
   ],
   "source": [
    "# I can retrieve by a row\n",
    "df.loc[3]"
   ]
  },
  {
   "cell_type": "code",
   "execution_count": 58,
   "id": "e9f9d61f-6e55-4472-a3e6-ce0f7f98afc2",
   "metadata": {},
   "outputs": [
    {
     "data": {
      "text/plain": [
       "0       1.63\n",
       "1       0.46\n",
       "2       0.87\n",
       "3       2.13\n",
       "4       1.40\n",
       "        ... \n",
       "9994    2.70\n",
       "9995    4.50\n",
       "9996    5.59\n",
       "9997    1.54\n",
       "9998    5.80\n",
       "Name: trip_distance, Length: 9999, dtype: float64"
      ]
     },
     "execution_count": 58,
     "metadata": {},
     "output_type": "execute_result"
    }
   ],
   "source": [
    "# I can retrieve a column\n",
    "df['trip_distance']"
   ]
  },
  {
   "cell_type": "code",
   "execution_count": 59,
   "id": "8f0a6469-493f-4a26-86e5-39071748c721",
   "metadata": {},
   "outputs": [
    {
     "data": {
      "text/html": [
       "<div>\n",
       "<style scoped>\n",
       "    .dataframe tbody tr th:only-of-type {\n",
       "        vertical-align: middle;\n",
       "    }\n",
       "\n",
       "    .dataframe tbody tr th {\n",
       "        vertical-align: top;\n",
       "    }\n",
       "\n",
       "    .dataframe thead th {\n",
       "        text-align: right;\n",
       "    }\n",
       "</style>\n",
       "<table border=\"1\" class=\"dataframe\">\n",
       "  <thead>\n",
       "    <tr style=\"text-align: right;\">\n",
       "      <th></th>\n",
       "      <th>trip_distance</th>\n",
       "      <th>total_amount</th>\n",
       "    </tr>\n",
       "  </thead>\n",
       "  <tbody>\n",
       "    <tr>\n",
       "      <th>0</th>\n",
       "      <td>1.63</td>\n",
       "      <td>17.80</td>\n",
       "    </tr>\n",
       "    <tr>\n",
       "      <th>1</th>\n",
       "      <td>0.46</td>\n",
       "      <td>8.30</td>\n",
       "    </tr>\n",
       "    <tr>\n",
       "      <th>2</th>\n",
       "      <td>0.87</td>\n",
       "      <td>11.00</td>\n",
       "    </tr>\n",
       "    <tr>\n",
       "      <th>3</th>\n",
       "      <td>2.13</td>\n",
       "      <td>17.16</td>\n",
       "    </tr>\n",
       "    <tr>\n",
       "      <th>4</th>\n",
       "      <td>1.40</td>\n",
       "      <td>10.30</td>\n",
       "    </tr>\n",
       "    <tr>\n",
       "      <th>...</th>\n",
       "      <td>...</td>\n",
       "      <td>...</td>\n",
       "    </tr>\n",
       "    <tr>\n",
       "      <th>9994</th>\n",
       "      <td>2.70</td>\n",
       "      <td>12.30</td>\n",
       "    </tr>\n",
       "    <tr>\n",
       "      <th>9995</th>\n",
       "      <td>4.50</td>\n",
       "      <td>20.30</td>\n",
       "    </tr>\n",
       "    <tr>\n",
       "      <th>9996</th>\n",
       "      <td>5.59</td>\n",
       "      <td>22.30</td>\n",
       "    </tr>\n",
       "    <tr>\n",
       "      <th>9997</th>\n",
       "      <td>1.54</td>\n",
       "      <td>7.80</td>\n",
       "    </tr>\n",
       "    <tr>\n",
       "      <th>9998</th>\n",
       "      <td>5.80</td>\n",
       "      <td>26.75</td>\n",
       "    </tr>\n",
       "  </tbody>\n",
       "</table>\n",
       "<p>9999 rows × 2 columns</p>\n",
       "</div>"
      ],
      "text/plain": [
       "      trip_distance  total_amount\n",
       "0              1.63         17.80\n",
       "1              0.46          8.30\n",
       "2              0.87         11.00\n",
       "3              2.13         17.16\n",
       "4              1.40         10.30\n",
       "...             ...           ...\n",
       "9994           2.70         12.30\n",
       "9995           4.50         20.30\n",
       "9996           5.59         22.30\n",
       "9997           1.54          7.80\n",
       "9998           5.80         26.75\n",
       "\n",
       "[9999 rows x 2 columns]"
      ]
     },
     "execution_count": 59,
     "metadata": {},
     "output_type": "execute_result"
    }
   ],
   "source": [
    "# I can get more than one column\n",
    "df[['trip_distance', 'total_amount']]"
   ]
  },
  {
   "cell_type": "markdown",
   "id": "3e4a9d54-c515-459c-89f1-e7fec01ee24c",
   "metadata": {},
   "source": [
    "# Let's go deeper with `.loc`\n",
    "\n",
    "So far, we've seen that `.loc` can be used to retrieve one element from a series, or one row from a data frame. That's true, but it's not even close to the whole story.\n",
    "\n",
    "If we pass `.loc` one argument, then it is what I call a \"row selector,\" meaning that it'll help us to select rows. We can pass an index, or a list of indexes, and it'll work. But we can also pass (as we've seen with series) a boolean series that tells Pandas which elements we do and don't want.\n",
    "\n",
    "If we pass `.loc` two arguments, then the first is still the row selector, but the second is the column selector. And it also can contain one or more values (column names), and it can even include a boolean series (although that's rare)."
   ]
  },
  {
   "cell_type": "code",
   "execution_count": 60,
   "id": "5f798989-0647-4335-b53c-24b6ba5bec10",
   "metadata": {},
   "outputs": [
    {
     "data": {
      "text/plain": [
       "0       False\n",
       "1       False\n",
       "2       False\n",
       "3       False\n",
       "4       False\n",
       "        ...  \n",
       "9994    False\n",
       "9995    False\n",
       "9996    False\n",
       "9997    False\n",
       "9998    False\n",
       "Name: passenger_count, Length: 9999, dtype: bool"
      ]
     },
     "execution_count": 60,
     "metadata": {},
     "output_type": "execute_result"
    }
   ],
   "source": [
    "# let's say that I want to get the mean trip distance for taxi rides in our data set where there were 3 passengers.\n",
    "\n",
    "# first, let's find where there were 3 passengers\n",
    "df['passenger_count'] == 3"
   ]
  },
  {
   "cell_type": "code",
   "execution_count": 61,
   "id": "6158efe1-edd3-436b-aa12-a4383759fce5",
   "metadata": {},
   "outputs": [
    {
     "data": {
      "text/html": [
       "<div>\n",
       "<style scoped>\n",
       "    .dataframe tbody tr th:only-of-type {\n",
       "        vertical-align: middle;\n",
       "    }\n",
       "\n",
       "    .dataframe tbody tr th {\n",
       "        vertical-align: top;\n",
       "    }\n",
       "\n",
       "    .dataframe thead th {\n",
       "        text-align: right;\n",
       "    }\n",
       "</style>\n",
       "<table border=\"1\" class=\"dataframe\">\n",
       "  <thead>\n",
       "    <tr style=\"text-align: right;\">\n",
       "      <th></th>\n",
       "      <th>VendorID</th>\n",
       "      <th>tpep_pickup_datetime</th>\n",
       "      <th>tpep_dropoff_datetime</th>\n",
       "      <th>passenger_count</th>\n",
       "      <th>trip_distance</th>\n",
       "      <th>pickup_longitude</th>\n",
       "      <th>pickup_latitude</th>\n",
       "      <th>RateCodeID</th>\n",
       "      <th>store_and_fwd_flag</th>\n",
       "      <th>dropoff_longitude</th>\n",
       "      <th>dropoff_latitude</th>\n",
       "      <th>payment_type</th>\n",
       "      <th>fare_amount</th>\n",
       "      <th>extra</th>\n",
       "      <th>mta_tax</th>\n",
       "      <th>tip_amount</th>\n",
       "      <th>tolls_amount</th>\n",
       "      <th>improvement_surcharge</th>\n",
       "      <th>total_amount</th>\n",
       "    </tr>\n",
       "  </thead>\n",
       "  <tbody>\n",
       "    <tr>\n",
       "      <th>10</th>\n",
       "      <td>2</td>\n",
       "      <td>2015-06-02 11:19:38</td>\n",
       "      <td>2015-06-02 11:19:43</td>\n",
       "      <td>3</td>\n",
       "      <td>0.01</td>\n",
       "      <td>0.000000</td>\n",
       "      <td>0.000000</td>\n",
       "      <td>2</td>\n",
       "      <td>N</td>\n",
       "      <td>0.000000</td>\n",
       "      <td>0.000000</td>\n",
       "      <td>2</td>\n",
       "      <td>52.0</td>\n",
       "      <td>0.0</td>\n",
       "      <td>0.5</td>\n",
       "      <td>0.00</td>\n",
       "      <td>0.0</td>\n",
       "      <td>0.3</td>\n",
       "      <td>52.80</td>\n",
       "    </tr>\n",
       "    <tr>\n",
       "      <th>67</th>\n",
       "      <td>1</td>\n",
       "      <td>2015-06-02 11:20:21</td>\n",
       "      <td>2015-06-02 11:33:30</td>\n",
       "      <td>3</td>\n",
       "      <td>2.50</td>\n",
       "      <td>-73.985390</td>\n",
       "      <td>40.773460</td>\n",
       "      <td>1</td>\n",
       "      <td>N</td>\n",
       "      <td>-73.962425</td>\n",
       "      <td>40.804993</td>\n",
       "      <td>2</td>\n",
       "      <td>11.5</td>\n",
       "      <td>0.0</td>\n",
       "      <td>0.5</td>\n",
       "      <td>0.00</td>\n",
       "      <td>0.0</td>\n",
       "      <td>0.3</td>\n",
       "      <td>12.30</td>\n",
       "    </tr>\n",
       "    <tr>\n",
       "      <th>82</th>\n",
       "      <td>2</td>\n",
       "      <td>2015-06-02 11:20:29</td>\n",
       "      <td>2015-06-02 12:05:24</td>\n",
       "      <td>3</td>\n",
       "      <td>10.24</td>\n",
       "      <td>-73.873192</td>\n",
       "      <td>40.773949</td>\n",
       "      <td>1</td>\n",
       "      <td>N</td>\n",
       "      <td>-74.008911</td>\n",
       "      <td>40.726410</td>\n",
       "      <td>1</td>\n",
       "      <td>37.5</td>\n",
       "      <td>0.0</td>\n",
       "      <td>0.5</td>\n",
       "      <td>5.50</td>\n",
       "      <td>0.0</td>\n",
       "      <td>0.3</td>\n",
       "      <td>43.80</td>\n",
       "    </tr>\n",
       "    <tr>\n",
       "      <th>126</th>\n",
       "      <td>2</td>\n",
       "      <td>2015-06-02 11:21:03</td>\n",
       "      <td>2015-06-03 00:00:00</td>\n",
       "      <td>3</td>\n",
       "      <td>1.06</td>\n",
       "      <td>-73.994919</td>\n",
       "      <td>40.732445</td>\n",
       "      <td>1</td>\n",
       "      <td>N</td>\n",
       "      <td>-73.993980</td>\n",
       "      <td>40.743397</td>\n",
       "      <td>1</td>\n",
       "      <td>8.5</td>\n",
       "      <td>0.0</td>\n",
       "      <td>0.5</td>\n",
       "      <td>1.86</td>\n",
       "      <td>0.0</td>\n",
       "      <td>0.3</td>\n",
       "      <td>11.16</td>\n",
       "    </tr>\n",
       "    <tr>\n",
       "      <th>192</th>\n",
       "      <td>2</td>\n",
       "      <td>2015-06-02 11:21:55</td>\n",
       "      <td>2015-06-02 11:24:46</td>\n",
       "      <td>3</td>\n",
       "      <td>0.60</td>\n",
       "      <td>-73.985901</td>\n",
       "      <td>40.778637</td>\n",
       "      <td>1</td>\n",
       "      <td>N</td>\n",
       "      <td>-73.978081</td>\n",
       "      <td>40.778500</td>\n",
       "      <td>1</td>\n",
       "      <td>4.0</td>\n",
       "      <td>0.0</td>\n",
       "      <td>0.5</td>\n",
       "      <td>1.44</td>\n",
       "      <td>0.0</td>\n",
       "      <td>0.3</td>\n",
       "      <td>6.24</td>\n",
       "    </tr>\n",
       "    <tr>\n",
       "      <th>...</th>\n",
       "      <td>...</td>\n",
       "      <td>...</td>\n",
       "      <td>...</td>\n",
       "      <td>...</td>\n",
       "      <td>...</td>\n",
       "      <td>...</td>\n",
       "      <td>...</td>\n",
       "      <td>...</td>\n",
       "      <td>...</td>\n",
       "      <td>...</td>\n",
       "      <td>...</td>\n",
       "      <td>...</td>\n",
       "      <td>...</td>\n",
       "      <td>...</td>\n",
       "      <td>...</td>\n",
       "      <td>...</td>\n",
       "      <td>...</td>\n",
       "      <td>...</td>\n",
       "      <td>...</td>\n",
       "    </tr>\n",
       "    <tr>\n",
       "      <th>9837</th>\n",
       "      <td>1</td>\n",
       "      <td>2015-06-01 00:12:50</td>\n",
       "      <td>2015-06-01 00:19:26</td>\n",
       "      <td>3</td>\n",
       "      <td>1.50</td>\n",
       "      <td>-73.988060</td>\n",
       "      <td>40.718651</td>\n",
       "      <td>1</td>\n",
       "      <td>N</td>\n",
       "      <td>-74.008041</td>\n",
       "      <td>40.711937</td>\n",
       "      <td>2</td>\n",
       "      <td>7.5</td>\n",
       "      <td>0.5</td>\n",
       "      <td>0.5</td>\n",
       "      <td>0.00</td>\n",
       "      <td>0.0</td>\n",
       "      <td>0.3</td>\n",
       "      <td>8.80</td>\n",
       "    </tr>\n",
       "    <tr>\n",
       "      <th>9888</th>\n",
       "      <td>1</td>\n",
       "      <td>2015-06-01 00:13:10</td>\n",
       "      <td>2015-06-01 00:38:49</td>\n",
       "      <td>3</td>\n",
       "      <td>6.00</td>\n",
       "      <td>-73.983200</td>\n",
       "      <td>40.755806</td>\n",
       "      <td>1</td>\n",
       "      <td>N</td>\n",
       "      <td>-73.944283</td>\n",
       "      <td>40.824600</td>\n",
       "      <td>1</td>\n",
       "      <td>21.5</td>\n",
       "      <td>0.5</td>\n",
       "      <td>0.5</td>\n",
       "      <td>3.00</td>\n",
       "      <td>0.0</td>\n",
       "      <td>0.3</td>\n",
       "      <td>25.80</td>\n",
       "    </tr>\n",
       "    <tr>\n",
       "      <th>9914</th>\n",
       "      <td>2</td>\n",
       "      <td>2015-06-01 00:13:42</td>\n",
       "      <td>2015-06-01 00:27:19</td>\n",
       "      <td>3</td>\n",
       "      <td>2.44</td>\n",
       "      <td>-74.012444</td>\n",
       "      <td>40.706097</td>\n",
       "      <td>1</td>\n",
       "      <td>N</td>\n",
       "      <td>-73.993248</td>\n",
       "      <td>40.727760</td>\n",
       "      <td>2</td>\n",
       "      <td>11.5</td>\n",
       "      <td>0.5</td>\n",
       "      <td>0.5</td>\n",
       "      <td>0.00</td>\n",
       "      <td>0.0</td>\n",
       "      <td>0.3</td>\n",
       "      <td>12.80</td>\n",
       "    </tr>\n",
       "    <tr>\n",
       "      <th>9946</th>\n",
       "      <td>1</td>\n",
       "      <td>2015-06-01 00:13:31</td>\n",
       "      <td>2015-06-01 00:32:43</td>\n",
       "      <td>3</td>\n",
       "      <td>5.00</td>\n",
       "      <td>-73.988586</td>\n",
       "      <td>40.757069</td>\n",
       "      <td>1</td>\n",
       "      <td>N</td>\n",
       "      <td>-73.956375</td>\n",
       "      <td>40.805676</td>\n",
       "      <td>1</td>\n",
       "      <td>17.5</td>\n",
       "      <td>0.5</td>\n",
       "      <td>0.5</td>\n",
       "      <td>2.50</td>\n",
       "      <td>0.0</td>\n",
       "      <td>0.3</td>\n",
       "      <td>21.30</td>\n",
       "    </tr>\n",
       "    <tr>\n",
       "      <th>9983</th>\n",
       "      <td>2</td>\n",
       "      <td>2015-06-01 00:13:31</td>\n",
       "      <td>2015-06-01 00:19:37</td>\n",
       "      <td>3</td>\n",
       "      <td>1.78</td>\n",
       "      <td>-74.000107</td>\n",
       "      <td>40.743126</td>\n",
       "      <td>1</td>\n",
       "      <td>N</td>\n",
       "      <td>-73.981003</td>\n",
       "      <td>40.728973</td>\n",
       "      <td>1</td>\n",
       "      <td>7.0</td>\n",
       "      <td>0.5</td>\n",
       "      <td>0.5</td>\n",
       "      <td>1.66</td>\n",
       "      <td>0.0</td>\n",
       "      <td>0.3</td>\n",
       "      <td>9.96</td>\n",
       "    </tr>\n",
       "  </tbody>\n",
       "</table>\n",
       "<p>406 rows × 19 columns</p>\n",
       "</div>"
      ],
      "text/plain": [
       "      VendorID tpep_pickup_datetime tpep_dropoff_datetime  passenger_count  \\\n",
       "10           2  2015-06-02 11:19:38   2015-06-02 11:19:43                3   \n",
       "67           1  2015-06-02 11:20:21   2015-06-02 11:33:30                3   \n",
       "82           2  2015-06-02 11:20:29   2015-06-02 12:05:24                3   \n",
       "126          2  2015-06-02 11:21:03   2015-06-03 00:00:00                3   \n",
       "192          2  2015-06-02 11:21:55   2015-06-02 11:24:46                3   \n",
       "...        ...                  ...                   ...              ...   \n",
       "9837         1  2015-06-01 00:12:50   2015-06-01 00:19:26                3   \n",
       "9888         1  2015-06-01 00:13:10   2015-06-01 00:38:49                3   \n",
       "9914         2  2015-06-01 00:13:42   2015-06-01 00:27:19                3   \n",
       "9946         1  2015-06-01 00:13:31   2015-06-01 00:32:43                3   \n",
       "9983         2  2015-06-01 00:13:31   2015-06-01 00:19:37                3   \n",
       "\n",
       "      trip_distance  pickup_longitude  pickup_latitude  RateCodeID  \\\n",
       "10             0.01          0.000000         0.000000           2   \n",
       "67             2.50        -73.985390        40.773460           1   \n",
       "82            10.24        -73.873192        40.773949           1   \n",
       "126            1.06        -73.994919        40.732445           1   \n",
       "192            0.60        -73.985901        40.778637           1   \n",
       "...             ...               ...              ...         ...   \n",
       "9837           1.50        -73.988060        40.718651           1   \n",
       "9888           6.00        -73.983200        40.755806           1   \n",
       "9914           2.44        -74.012444        40.706097           1   \n",
       "9946           5.00        -73.988586        40.757069           1   \n",
       "9983           1.78        -74.000107        40.743126           1   \n",
       "\n",
       "     store_and_fwd_flag  dropoff_longitude  dropoff_latitude  payment_type  \\\n",
       "10                    N           0.000000          0.000000             2   \n",
       "67                    N         -73.962425         40.804993             2   \n",
       "82                    N         -74.008911         40.726410             1   \n",
       "126                   N         -73.993980         40.743397             1   \n",
       "192                   N         -73.978081         40.778500             1   \n",
       "...                 ...                ...               ...           ...   \n",
       "9837                  N         -74.008041         40.711937             2   \n",
       "9888                  N         -73.944283         40.824600             1   \n",
       "9914                  N         -73.993248         40.727760             2   \n",
       "9946                  N         -73.956375         40.805676             1   \n",
       "9983                  N         -73.981003         40.728973             1   \n",
       "\n",
       "      fare_amount  extra  mta_tax  tip_amount  tolls_amount  \\\n",
       "10           52.0    0.0      0.5        0.00           0.0   \n",
       "67           11.5    0.0      0.5        0.00           0.0   \n",
       "82           37.5    0.0      0.5        5.50           0.0   \n",
       "126           8.5    0.0      0.5        1.86           0.0   \n",
       "192           4.0    0.0      0.5        1.44           0.0   \n",
       "...           ...    ...      ...         ...           ...   \n",
       "9837          7.5    0.5      0.5        0.00           0.0   \n",
       "9888         21.5    0.5      0.5        3.00           0.0   \n",
       "9914         11.5    0.5      0.5        0.00           0.0   \n",
       "9946         17.5    0.5      0.5        2.50           0.0   \n",
       "9983          7.0    0.5      0.5        1.66           0.0   \n",
       "\n",
       "      improvement_surcharge  total_amount  \n",
       "10                      0.3         52.80  \n",
       "67                      0.3         12.30  \n",
       "82                      0.3         43.80  \n",
       "126                     0.3         11.16  \n",
       "192                     0.3          6.24  \n",
       "...                     ...           ...  \n",
       "9837                    0.3          8.80  \n",
       "9888                    0.3         25.80  \n",
       "9914                    0.3         12.80  \n",
       "9946                    0.3         21.30  \n",
       "9983                    0.3          9.96  \n",
       "\n",
       "[406 rows x 19 columns]"
      ]
     },
     "execution_count": 61,
     "metadata": {},
     "output_type": "execute_result"
    }
   ],
   "source": [
    "# I can apply this to the entire data frame, if I want, using .loc\n",
    "# the returned result is a subset of the data frame df, only including rows where there were 3 passengers\n",
    "df.loc[  df['passenger_count'] == 3 ]"
   ]
  },
  {
   "cell_type": "code",
   "execution_count": 63,
   "id": "0ddfe67e-5f8f-432d-8e8c-291353a402a9",
   "metadata": {},
   "outputs": [
    {
     "data": {
      "text/plain": [
       "3.3423891625615765"
      ]
     },
     "execution_count": 63,
     "metadata": {},
     "output_type": "execute_result"
    }
   ],
   "source": [
    "# how can I get the trip distance where there were 3 passengers?\n",
    "# Option 1: apply the boolean series only to the \"trip_distance\" column\n",
    "\n",
    "# this means:\n",
    "# first, get a boolean series where passenger_count is 3\n",
    "# then, apply that via .loc to trip_distance\n",
    "# now we'll have a series of trip_distance where passenger_count is 3\n",
    "df['trip_distance'].loc[  df['passenger_count'] == 3 ].mean()"
   ]
  },
  {
   "cell_type": "code",
   "execution_count": 64,
   "id": "6ba2a473-8601-49dd-8bd8-413402d93849",
   "metadata": {},
   "outputs": [
    {
     "data": {
      "text/plain": [
       "3.3423891625615765"
      ]
     },
     "execution_count": 64,
     "metadata": {},
     "output_type": "execute_result"
    }
   ],
   "source": [
    "# method chaining format\n",
    "(\n",
    "    df['trip_distance']\n",
    "    .loc[  df['passenger_count'] == 3 ]\n",
    "    .mean()\n",
    ")"
   ]
  },
  {
   "cell_type": "code",
   "execution_count": 66,
   "id": "ac95aaf9-9230-47d4-84e3-5c563675a443",
   "metadata": {},
   "outputs": [
    {
     "data": {
      "text/plain": [
       "3.3423891625615765"
      ]
     },
     "execution_count": 66,
     "metadata": {},
     "output_type": "execute_result"
    }
   ],
   "source": [
    "# Option 2: pass the column we want as a *second* argument to .loc\n",
    "\n",
    "df.loc[\n",
    "    df['passenger_count'] == 3   # row selector\n",
    "    ,\n",
    "    'trip_distance'              # column selector\n",
    "].mean()"
   ]
  },
  {
   "cell_type": "code",
   "execution_count": 67,
   "id": "9aeb844e-5189-44b1-b7cc-8a8f04e6c4b0",
   "metadata": {},
   "outputs": [
    {
     "data": {
      "text/plain": [
       "0.01"
      ]
     },
     "execution_count": 67,
     "metadata": {},
     "output_type": "execute_result"
    }
   ],
   "source": [
    "df.loc[\n",
    "    10,    # row selector -- index is 10\n",
    "    'trip_distance'   # column selector -- name is trip_distance\n",
    "]"
   ]
  },
  {
   "cell_type": "code",
   "execution_count": 68,
   "id": "59bedafb-8ea2-4eaa-b9ac-8ae83dce2369",
   "metadata": {},
   "outputs": [
    {
     "data": {
      "text/plain": [
       "10    0.01\n",
       "20    3.90\n",
       "Name: trip_distance, dtype: float64"
      ]
     },
     "execution_count": 68,
     "metadata": {},
     "output_type": "execute_result"
    }
   ],
   "source": [
    "df.loc[\n",
    "    [10, 20]    # row selector -- index is 10\n",
    "    ,\n",
    "    'trip_distance'   # column selector -- name is trip_distance\n",
    "]"
   ]
  },
  {
   "cell_type": "code",
   "execution_count": 69,
   "id": "ef65a4d5-1e01-4669-a1a6-57a5adcb1b7e",
   "metadata": {},
   "outputs": [
    {
     "data": {
      "text/plain": [
       "trip_distance    0.01\n",
       "total_amount     52.8\n",
       "Name: 10, dtype: object"
      ]
     },
     "execution_count": 69,
     "metadata": {},
     "output_type": "execute_result"
    }
   ],
   "source": [
    "df.loc[\n",
    "    10,    # row selector -- index is 10\n",
    "    ['trip_distance', 'total_amount']   # column selector -- name is trip_distance\n",
    "]"
   ]
  },
  {
   "cell_type": "code",
   "execution_count": 71,
   "id": "7ee4ac7c-df74-49c8-aa7d-eb21ed8b8662",
   "metadata": {},
   "outputs": [
    {
     "name": "stdout",
     "output_type": "stream",
     "text": [
      "316 µs ± 34 µs per loop (mean ± std. dev. of 7 runs, 1,000 loops each)\n"
     ]
    }
   ],
   "source": [
    "# let's compare running times\n",
    "%timeit df['trip_distance'].loc[  df['passenger_count'] == 3 ].mean()"
   ]
  },
  {
   "cell_type": "code",
   "execution_count": 73,
   "id": "77934211-68e1-455b-9d97-a819e2f2110a",
   "metadata": {},
   "outputs": [
    {
     "name": "stdout",
     "output_type": "stream",
     "text": [
      "369 µs ± 22.1 µs per loop (mean ± std. dev. of 7 runs, 1,000 loops each)\n"
     ]
    }
   ],
   "source": [
    "%timeit df.loc[ df['passenger_count'] == 3 ,'trip_distance'].mean()"
   ]
  },
  {
   "cell_type": "markdown",
   "id": "99b77e2c-0576-4f4a-ac4e-655e00e6c5d6",
   "metadata": {},
   "source": [
    "# Exercise: Taxi data\n",
    "\n",
    "1. Load the taxi data into a data frame.\n",
    "2. Create a new data frame that only contains three columns from the original one -- `trip_distance`, `total_amount`, and `passenger_count`.\n",
    "3. Calculate the mean for both `trip_distance` and `total_amount` where `passenger_count` is 1.\n",
    "4. Calculate the mean for both `trip_distance` and `total_amount` where `passenger_count` is either 1 or 2."
   ]
  },
  {
   "cell_type": "code",
   "execution_count": 78,
   "id": "4fc485fa-f55b-4d77-a788-5b0dbc157f87",
   "metadata": {},
   "outputs": [],
   "source": [
    "df = pd.read_csv('../data/taxi.csv')"
   ]
  },
  {
   "cell_type": "code",
   "execution_count": 79,
   "id": "ecf7e9c9-aef9-4741-ba28-da753d72efae",
   "metadata": {
    "scrolled": true
   },
   "outputs": [
    {
     "data": {
      "text/html": [
       "<div>\n",
       "<style scoped>\n",
       "    .dataframe tbody tr th:only-of-type {\n",
       "        vertical-align: middle;\n",
       "    }\n",
       "\n",
       "    .dataframe tbody tr th {\n",
       "        vertical-align: top;\n",
       "    }\n",
       "\n",
       "    .dataframe thead th {\n",
       "        text-align: right;\n",
       "    }\n",
       "</style>\n",
       "<table border=\"1\" class=\"dataframe\">\n",
       "  <thead>\n",
       "    <tr style=\"text-align: right;\">\n",
       "      <th></th>\n",
       "      <th>VendorID</th>\n",
       "      <th>tpep_pickup_datetime</th>\n",
       "      <th>tpep_dropoff_datetime</th>\n",
       "      <th>passenger_count</th>\n",
       "      <th>trip_distance</th>\n",
       "      <th>pickup_longitude</th>\n",
       "      <th>pickup_latitude</th>\n",
       "      <th>RateCodeID</th>\n",
       "      <th>store_and_fwd_flag</th>\n",
       "      <th>dropoff_longitude</th>\n",
       "      <th>dropoff_latitude</th>\n",
       "      <th>payment_type</th>\n",
       "      <th>fare_amount</th>\n",
       "      <th>extra</th>\n",
       "      <th>mta_tax</th>\n",
       "      <th>tip_amount</th>\n",
       "      <th>tolls_amount</th>\n",
       "      <th>improvement_surcharge</th>\n",
       "      <th>total_amount</th>\n",
       "    </tr>\n",
       "  </thead>\n",
       "  <tbody>\n",
       "    <tr>\n",
       "      <th>0</th>\n",
       "      <td>2</td>\n",
       "      <td>2015-06-02 11:19:29</td>\n",
       "      <td>2015-06-02 11:47:52</td>\n",
       "      <td>1</td>\n",
       "      <td>1.63</td>\n",
       "      <td>-73.954430</td>\n",
       "      <td>40.764141</td>\n",
       "      <td>1</td>\n",
       "      <td>N</td>\n",
       "      <td>-73.974754</td>\n",
       "      <td>40.754093</td>\n",
       "      <td>2</td>\n",
       "      <td>17.0</td>\n",
       "      <td>0.0</td>\n",
       "      <td>0.5</td>\n",
       "      <td>0.00</td>\n",
       "      <td>0.0</td>\n",
       "      <td>0.3</td>\n",
       "      <td>17.80</td>\n",
       "    </tr>\n",
       "    <tr>\n",
       "      <th>1</th>\n",
       "      <td>2</td>\n",
       "      <td>2015-06-02 11:19:30</td>\n",
       "      <td>2015-06-02 11:27:56</td>\n",
       "      <td>1</td>\n",
       "      <td>0.46</td>\n",
       "      <td>-73.971443</td>\n",
       "      <td>40.758942</td>\n",
       "      <td>1</td>\n",
       "      <td>N</td>\n",
       "      <td>-73.978539</td>\n",
       "      <td>40.761909</td>\n",
       "      <td>1</td>\n",
       "      <td>6.5</td>\n",
       "      <td>0.0</td>\n",
       "      <td>0.5</td>\n",
       "      <td>1.00</td>\n",
       "      <td>0.0</td>\n",
       "      <td>0.3</td>\n",
       "      <td>8.30</td>\n",
       "    </tr>\n",
       "    <tr>\n",
       "      <th>2</th>\n",
       "      <td>2</td>\n",
       "      <td>2015-06-02 11:19:31</td>\n",
       "      <td>2015-06-02 11:30:30</td>\n",
       "      <td>1</td>\n",
       "      <td>0.87</td>\n",
       "      <td>-73.978111</td>\n",
       "      <td>40.738434</td>\n",
       "      <td>1</td>\n",
       "      <td>N</td>\n",
       "      <td>-73.990273</td>\n",
       "      <td>40.745438</td>\n",
       "      <td>1</td>\n",
       "      <td>8.0</td>\n",
       "      <td>0.0</td>\n",
       "      <td>0.5</td>\n",
       "      <td>2.20</td>\n",
       "      <td>0.0</td>\n",
       "      <td>0.3</td>\n",
       "      <td>11.00</td>\n",
       "    </tr>\n",
       "    <tr>\n",
       "      <th>3</th>\n",
       "      <td>2</td>\n",
       "      <td>2015-06-02 11:19:31</td>\n",
       "      <td>2015-06-02 11:39:02</td>\n",
       "      <td>1</td>\n",
       "      <td>2.13</td>\n",
       "      <td>-73.945892</td>\n",
       "      <td>40.773529</td>\n",
       "      <td>1</td>\n",
       "      <td>N</td>\n",
       "      <td>-73.971527</td>\n",
       "      <td>40.760330</td>\n",
       "      <td>1</td>\n",
       "      <td>13.5</td>\n",
       "      <td>0.0</td>\n",
       "      <td>0.5</td>\n",
       "      <td>2.86</td>\n",
       "      <td>0.0</td>\n",
       "      <td>0.3</td>\n",
       "      <td>17.16</td>\n",
       "    </tr>\n",
       "    <tr>\n",
       "      <th>4</th>\n",
       "      <td>1</td>\n",
       "      <td>2015-06-02 11:19:32</td>\n",
       "      <td>2015-06-02 11:32:49</td>\n",
       "      <td>1</td>\n",
       "      <td>1.40</td>\n",
       "      <td>-73.979088</td>\n",
       "      <td>40.776772</td>\n",
       "      <td>1</td>\n",
       "      <td>N</td>\n",
       "      <td>-73.982162</td>\n",
       "      <td>40.758999</td>\n",
       "      <td>2</td>\n",
       "      <td>9.5</td>\n",
       "      <td>0.0</td>\n",
       "      <td>0.5</td>\n",
       "      <td>0.00</td>\n",
       "      <td>0.0</td>\n",
       "      <td>0.3</td>\n",
       "      <td>10.30</td>\n",
       "    </tr>\n",
       "  </tbody>\n",
       "</table>\n",
       "</div>"
      ],
      "text/plain": [
       "   VendorID tpep_pickup_datetime tpep_dropoff_datetime  passenger_count  \\\n",
       "0         2  2015-06-02 11:19:29   2015-06-02 11:47:52                1   \n",
       "1         2  2015-06-02 11:19:30   2015-06-02 11:27:56                1   \n",
       "2         2  2015-06-02 11:19:31   2015-06-02 11:30:30                1   \n",
       "3         2  2015-06-02 11:19:31   2015-06-02 11:39:02                1   \n",
       "4         1  2015-06-02 11:19:32   2015-06-02 11:32:49                1   \n",
       "\n",
       "   trip_distance  pickup_longitude  pickup_latitude  RateCodeID  \\\n",
       "0           1.63        -73.954430        40.764141           1   \n",
       "1           0.46        -73.971443        40.758942           1   \n",
       "2           0.87        -73.978111        40.738434           1   \n",
       "3           2.13        -73.945892        40.773529           1   \n",
       "4           1.40        -73.979088        40.776772           1   \n",
       "\n",
       "  store_and_fwd_flag  dropoff_longitude  dropoff_latitude  payment_type  \\\n",
       "0                  N         -73.974754         40.754093             2   \n",
       "1                  N         -73.978539         40.761909             1   \n",
       "2                  N         -73.990273         40.745438             1   \n",
       "3                  N         -73.971527         40.760330             1   \n",
       "4                  N         -73.982162         40.758999             2   \n",
       "\n",
       "   fare_amount  extra  mta_tax  tip_amount  tolls_amount  \\\n",
       "0         17.0    0.0      0.5        0.00           0.0   \n",
       "1          6.5    0.0      0.5        1.00           0.0   \n",
       "2          8.0    0.0      0.5        2.20           0.0   \n",
       "3         13.5    0.0      0.5        2.86           0.0   \n",
       "4          9.5    0.0      0.5        0.00           0.0   \n",
       "\n",
       "   improvement_surcharge  total_amount  \n",
       "0                    0.3         17.80  \n",
       "1                    0.3          8.30  \n",
       "2                    0.3         11.00  \n",
       "3                    0.3         17.16  \n",
       "4                    0.3         10.30  "
      ]
     },
     "execution_count": 79,
     "metadata": {},
     "output_type": "execute_result"
    }
   ],
   "source": [
    "df.head()"
   ]
  },
  {
   "cell_type": "code",
   "execution_count": 80,
   "id": "0ce3144e-c712-4a9e-9127-e614cc8b1e23",
   "metadata": {},
   "outputs": [
    {
     "name": "stdout",
     "output_type": "stream",
     "text": [
      "<class 'pandas.core.frame.DataFrame'>\n",
      "RangeIndex: 9999 entries, 0 to 9998\n",
      "Data columns (total 19 columns):\n",
      " #   Column                 Non-Null Count  Dtype  \n",
      "---  ------                 --------------  -----  \n",
      " 0   VendorID               9999 non-null   int64  \n",
      " 1   tpep_pickup_datetime   9999 non-null   object \n",
      " 2   tpep_dropoff_datetime  9999 non-null   object \n",
      " 3   passenger_count        9999 non-null   int64  \n",
      " 4   trip_distance          9999 non-null   float64\n",
      " 5   pickup_longitude       9999 non-null   float64\n",
      " 6   pickup_latitude        9999 non-null   float64\n",
      " 7   RateCodeID             9999 non-null   int64  \n",
      " 8   store_and_fwd_flag     9999 non-null   object \n",
      " 9   dropoff_longitude      9999 non-null   float64\n",
      " 10  dropoff_latitude       9999 non-null   float64\n",
      " 11  payment_type           9999 non-null   int64  \n",
      " 12  fare_amount            9999 non-null   float64\n",
      " 13  extra                  9999 non-null   float64\n",
      " 14  mta_tax                9999 non-null   float64\n",
      " 15  tip_amount             9999 non-null   float64\n",
      " 16  tolls_amount           9999 non-null   float64\n",
      " 17  improvement_surcharge  9999 non-null   float64\n",
      " 18  total_amount           9999 non-null   float64\n",
      "dtypes: float64(12), int64(4), object(3)\n",
      "memory usage: 1.4+ MB\n"
     ]
    }
   ],
   "source": [
    "df.info()  # this gives us info about the data frame"
   ]
  },
  {
   "cell_type": "code",
   "execution_count": 81,
   "id": "432932ee-8dc6-4df8-95e3-768ea39a1bc9",
   "metadata": {},
   "outputs": [
    {
     "name": "stdout",
     "output_type": "stream",
     "text": [
      "<class 'pandas.core.frame.DataFrame'>\n",
      "RangeIndex: 9999 entries, 0 to 9998\n",
      "Data columns (total 3 columns):\n",
      " #   Column           Non-Null Count  Dtype  \n",
      "---  ------           --------------  -----  \n",
      " 0   trip_distance    9999 non-null   float64\n",
      " 1   total_amount     9999 non-null   float64\n",
      " 2   passenger_count  9999 non-null   int64  \n",
      "dtypes: float64(2), int64(1)\n",
      "memory usage: 234.5 KB\n"
     ]
    }
   ],
   "source": [
    "# let's create a subset of this one\n",
    "\n",
    "df = df[['trip_distance', 'total_amount', 'passenger_count']]\n",
    "df.info()"
   ]
  },
  {
   "cell_type": "code",
   "execution_count": 84,
   "id": "44306f05-f094-4963-8b8b-95793be59ed0",
   "metadata": {},
   "outputs": [
    {
     "data": {
      "text/plain": [
       "trip_distance     3.092338\n",
       "total_amount     17.368569\n",
       "dtype: float64"
      ]
     },
     "execution_count": 84,
     "metadata": {},
     "output_type": "execute_result"
    }
   ],
   "source": [
    "# Calculate the mean for both trip_distance and total_amount where passenger_count is 1.\n",
    "\n",
    "df.loc[\n",
    "     df['passenger_count'] == 1   # row selector\n",
    "     ,\n",
    "     ['trip_distance', 'total_amount'] # column selector\n",
    "].mean()"
   ]
  },
  {
   "cell_type": "code",
   "execution_count": 85,
   "id": "c6f8c393-9d88-47c7-b6b9-354119f58955",
   "metadata": {},
   "outputs": [
    {
     "data": {
      "text/plain": [
       "trip_distance     3.137345\n",
       "total_amount     17.528493\n",
       "dtype: float64"
      ]
     },
     "execution_count": 85,
     "metadata": {},
     "output_type": "execute_result"
    }
   ],
   "source": [
    "# Calculate the mean for both trip_distance and total_amount where passenger_count is 1 or 2\n",
    "\n",
    "df.loc[\n",
    "     ((df['passenger_count'] == 1)  |  (df['passenger_count'] == 2))    # row selector\n",
    "     ,\n",
    "     ['trip_distance', 'total_amount'] # column selector\n",
    "].mean()"
   ]
  },
  {
   "cell_type": "code",
   "execution_count": 86,
   "id": "277f5bb9-2244-4ab5-8f0c-e7131a777602",
   "metadata": {},
   "outputs": [],
   "source": [
    "# I can retrieve a row + column combination in a few different ways\n",
    "# we've said that the best way is inside of .loc with [row_selector, column_selector]\n",
    "\n",
    "# but.. what if we want to do it in several pieces?\n",
    "df = DataFrame([[10, 20, 30],\n",
    "            [40, 50, 60], \n",
    "            [70, 80, 90], \n",
    "            [100, 110, 120]],\n",
    "              index=list('abcd'),\n",
    "              columns=list('xyz'))\n"
   ]
  },
  {
   "cell_type": "code",
   "execution_count": 87,
   "id": "62cfa8d4-eb36-4e60-8a52-b59f3c1e698c",
   "metadata": {},
   "outputs": [
    {
     "data": {
      "text/html": [
       "<div>\n",
       "<style scoped>\n",
       "    .dataframe tbody tr th:only-of-type {\n",
       "        vertical-align: middle;\n",
       "    }\n",
       "\n",
       "    .dataframe tbody tr th {\n",
       "        vertical-align: top;\n",
       "    }\n",
       "\n",
       "    .dataframe thead th {\n",
       "        text-align: right;\n",
       "    }\n",
       "</style>\n",
       "<table border=\"1\" class=\"dataframe\">\n",
       "  <thead>\n",
       "    <tr style=\"text-align: right;\">\n",
       "      <th></th>\n",
       "      <th>x</th>\n",
       "      <th>y</th>\n",
       "      <th>z</th>\n",
       "    </tr>\n",
       "  </thead>\n",
       "  <tbody>\n",
       "    <tr>\n",
       "      <th>a</th>\n",
       "      <td>10</td>\n",
       "      <td>20</td>\n",
       "      <td>30</td>\n",
       "    </tr>\n",
       "    <tr>\n",
       "      <th>b</th>\n",
       "      <td>40</td>\n",
       "      <td>50</td>\n",
       "      <td>60</td>\n",
       "    </tr>\n",
       "    <tr>\n",
       "      <th>c</th>\n",
       "      <td>70</td>\n",
       "      <td>80</td>\n",
       "      <td>90</td>\n",
       "    </tr>\n",
       "    <tr>\n",
       "      <th>d</th>\n",
       "      <td>100</td>\n",
       "      <td>110</td>\n",
       "      <td>120</td>\n",
       "    </tr>\n",
       "  </tbody>\n",
       "</table>\n",
       "</div>"
      ],
      "text/plain": [
       "     x    y    z\n",
       "a   10   20   30\n",
       "b   40   50   60\n",
       "c   70   80   90\n",
       "d  100  110  120"
      ]
     },
     "execution_count": 87,
     "metadata": {},
     "output_type": "execute_result"
    }
   ],
   "source": [
    "df"
   ]
  },
  {
   "cell_type": "code",
   "execution_count": 89,
   "id": "909383fb-d026-41e2-8a29-5bbede292511",
   "metadata": {},
   "outputs": [
    {
     "data": {
      "text/plain": [
       "50"
      ]
     },
     "execution_count": 89,
     "metadata": {},
     "output_type": "execute_result"
    }
   ],
   "source": [
    "df.loc['b'].loc['y']"
   ]
  },
  {
   "cell_type": "code",
   "execution_count": 97,
   "id": "026589d9-f6e3-47a1-b16f-482aade1b362",
   "metadata": {},
   "outputs": [
    {
     "name": "stderr",
     "output_type": "stream",
     "text": [
      "/tmp/ipykernel_762679/390675039.py:3: FutureWarning: ChainedAssignmentError: behaviour will change in pandas 3.0!\n",
      "You are setting values through chained assignment. Currently this works in certain cases, but when using Copy-on-Write (which will become the default behaviour in pandas 3.0) this will never work to update the original DataFrame or Series, because the intermediate object on which we are setting values will behave as a copy.\n",
      "A typical example is when you are setting values in a column of a DataFrame, like:\n",
      "\n",
      "df[\"col\"][row_indexer] = value\n",
      "\n",
      "Use `df.loc[row_indexer, \"col\"] = values` instead, to perform the assignment in a single step and ensure this keeps updating the original `df`.\n",
      "\n",
      "See the caveats in the documentation: https://pandas.pydata.org/pandas-docs/stable/user_guide/indexing.html#returning-a-view-versus-a-copy\n",
      "\n",
      "  df.loc['b']['y'] = 999\n"
     ]
    }
   ],
   "source": [
    "# can I assign to this?\n",
    "\n",
    "df.loc['b']['y'] = 999"
   ]
  },
  {
   "cell_type": "code",
   "execution_count": 92,
   "id": "c43356dc-706e-48aa-9d8a-624022669523",
   "metadata": {},
   "outputs": [
    {
     "data": {
      "text/html": [
       "<div>\n",
       "<style scoped>\n",
       "    .dataframe tbody tr th:only-of-type {\n",
       "        vertical-align: middle;\n",
       "    }\n",
       "\n",
       "    .dataframe tbody tr th {\n",
       "        vertical-align: top;\n",
       "    }\n",
       "\n",
       "    .dataframe thead th {\n",
       "        text-align: right;\n",
       "    }\n",
       "</style>\n",
       "<table border=\"1\" class=\"dataframe\">\n",
       "  <thead>\n",
       "    <tr style=\"text-align: right;\">\n",
       "      <th></th>\n",
       "      <th>x</th>\n",
       "      <th>y</th>\n",
       "      <th>z</th>\n",
       "    </tr>\n",
       "  </thead>\n",
       "  <tbody>\n",
       "    <tr>\n",
       "      <th>a</th>\n",
       "      <td>10</td>\n",
       "      <td>20</td>\n",
       "      <td>30</td>\n",
       "    </tr>\n",
       "    <tr>\n",
       "      <th>b</th>\n",
       "      <td>40</td>\n",
       "      <td>999</td>\n",
       "      <td>60</td>\n",
       "    </tr>\n",
       "    <tr>\n",
       "      <th>c</th>\n",
       "      <td>70</td>\n",
       "      <td>80</td>\n",
       "      <td>90</td>\n",
       "    </tr>\n",
       "    <tr>\n",
       "      <th>d</th>\n",
       "      <td>100</td>\n",
       "      <td>110</td>\n",
       "      <td>120</td>\n",
       "    </tr>\n",
       "  </tbody>\n",
       "</table>\n",
       "</div>"
      ],
      "text/plain": [
       "     x    y    z\n",
       "a   10   20   30\n",
       "b   40  999   60\n",
       "c   70   80   90\n",
       "d  100  110  120"
      ]
     },
     "execution_count": 92,
     "metadata": {},
     "output_type": "execute_result"
    }
   ],
   "source": [
    "df"
   ]
  },
  {
   "cell_type": "code",
   "execution_count": 93,
   "id": "5829126b-6869-41a2-88aa-6bc3f125a28c",
   "metadata": {},
   "outputs": [],
   "source": [
    "# so... what should we do instead?\n",
    "# use .loc with the two-argument version\n",
    "\n",
    "# row selector, column selector\n",
    "df.loc['b', 'y'] = 888"
   ]
  },
  {
   "cell_type": "code",
   "execution_count": 94,
   "id": "c41503a5-225a-403b-8bfc-f03535f15932",
   "metadata": {},
   "outputs": [
    {
     "data": {
      "text/html": [
       "<div>\n",
       "<style scoped>\n",
       "    .dataframe tbody tr th:only-of-type {\n",
       "        vertical-align: middle;\n",
       "    }\n",
       "\n",
       "    .dataframe tbody tr th {\n",
       "        vertical-align: top;\n",
       "    }\n",
       "\n",
       "    .dataframe thead th {\n",
       "        text-align: right;\n",
       "    }\n",
       "</style>\n",
       "<table border=\"1\" class=\"dataframe\">\n",
       "  <thead>\n",
       "    <tr style=\"text-align: right;\">\n",
       "      <th></th>\n",
       "      <th>x</th>\n",
       "      <th>y</th>\n",
       "      <th>z</th>\n",
       "    </tr>\n",
       "  </thead>\n",
       "  <tbody>\n",
       "    <tr>\n",
       "      <th>a</th>\n",
       "      <td>10</td>\n",
       "      <td>20</td>\n",
       "      <td>30</td>\n",
       "    </tr>\n",
       "    <tr>\n",
       "      <th>b</th>\n",
       "      <td>40</td>\n",
       "      <td>888</td>\n",
       "      <td>60</td>\n",
       "    </tr>\n",
       "    <tr>\n",
       "      <th>c</th>\n",
       "      <td>70</td>\n",
       "      <td>80</td>\n",
       "      <td>90</td>\n",
       "    </tr>\n",
       "    <tr>\n",
       "      <th>d</th>\n",
       "      <td>100</td>\n",
       "      <td>110</td>\n",
       "      <td>120</td>\n",
       "    </tr>\n",
       "  </tbody>\n",
       "</table>\n",
       "</div>"
      ],
      "text/plain": [
       "     x    y    z\n",
       "a   10   20   30\n",
       "b   40  888   60\n",
       "c   70   80   90\n",
       "d  100  110  120"
      ]
     },
     "execution_count": 94,
     "metadata": {},
     "output_type": "execute_result"
    }
   ],
   "source": [
    "df"
   ]
  },
  {
   "cell_type": "code",
   "execution_count": 95,
   "id": "b13421d5-6c5a-4d7b-95b8-d25a34f2537b",
   "metadata": {},
   "outputs": [
    {
     "data": {
      "text/html": [
       "<div>\n",
       "<style scoped>\n",
       "    .dataframe tbody tr th:only-of-type {\n",
       "        vertical-align: middle;\n",
       "    }\n",
       "\n",
       "    .dataframe tbody tr th {\n",
       "        vertical-align: top;\n",
       "    }\n",
       "\n",
       "    .dataframe thead th {\n",
       "        text-align: right;\n",
       "    }\n",
       "</style>\n",
       "<table border=\"1\" class=\"dataframe\">\n",
       "  <thead>\n",
       "    <tr style=\"text-align: right;\">\n",
       "      <th></th>\n",
       "      <th>x</th>\n",
       "      <th>y</th>\n",
       "      <th>z</th>\n",
       "    </tr>\n",
       "  </thead>\n",
       "  <tbody>\n",
       "    <tr>\n",
       "      <th>a</th>\n",
       "      <td>10</td>\n",
       "      <td>20</td>\n",
       "      <td>30</td>\n",
       "    </tr>\n",
       "    <tr>\n",
       "      <th>b</th>\n",
       "      <td>40</td>\n",
       "      <td>777</td>\n",
       "      <td>777</td>\n",
       "    </tr>\n",
       "    <tr>\n",
       "      <th>c</th>\n",
       "      <td>70</td>\n",
       "      <td>80</td>\n",
       "      <td>90</td>\n",
       "    </tr>\n",
       "    <tr>\n",
       "      <th>d</th>\n",
       "      <td>100</td>\n",
       "      <td>110</td>\n",
       "      <td>120</td>\n",
       "    </tr>\n",
       "  </tbody>\n",
       "</table>\n",
       "</div>"
      ],
      "text/plain": [
       "     x    y    z\n",
       "a   10   20   30\n",
       "b   40  777  777\n",
       "c   70   80   90\n",
       "d  100  110  120"
      ]
     },
     "execution_count": 95,
     "metadata": {},
     "output_type": "execute_result"
    }
   ],
   "source": [
    "df.loc['b', ['y', 'z']] = 777\n",
    "df"
   ]
  },
  {
   "cell_type": "code",
   "execution_count": 96,
   "id": "bd8ccb93-2244-4d6f-8010-decb5501b675",
   "metadata": {},
   "outputs": [
    {
     "data": {
      "text/html": [
       "<div>\n",
       "<style scoped>\n",
       "    .dataframe tbody tr th:only-of-type {\n",
       "        vertical-align: middle;\n",
       "    }\n",
       "\n",
       "    .dataframe tbody tr th {\n",
       "        vertical-align: top;\n",
       "    }\n",
       "\n",
       "    .dataframe thead th {\n",
       "        text-align: right;\n",
       "    }\n",
       "</style>\n",
       "<table border=\"1\" class=\"dataframe\">\n",
       "  <thead>\n",
       "    <tr style=\"text-align: right;\">\n",
       "      <th></th>\n",
       "      <th>x</th>\n",
       "      <th>y</th>\n",
       "      <th>z</th>\n",
       "    </tr>\n",
       "  </thead>\n",
       "  <tbody>\n",
       "    <tr>\n",
       "      <th>a</th>\n",
       "      <td>10</td>\n",
       "      <td>20</td>\n",
       "      <td>30</td>\n",
       "    </tr>\n",
       "    <tr>\n",
       "      <th>b</th>\n",
       "      <td>40</td>\n",
       "      <td>666</td>\n",
       "      <td>666</td>\n",
       "    </tr>\n",
       "    <tr>\n",
       "      <th>c</th>\n",
       "      <td>70</td>\n",
       "      <td>80</td>\n",
       "      <td>90</td>\n",
       "    </tr>\n",
       "    <tr>\n",
       "      <th>d</th>\n",
       "      <td>100</td>\n",
       "      <td>666</td>\n",
       "      <td>666</td>\n",
       "    </tr>\n",
       "  </tbody>\n",
       "</table>\n",
       "</div>"
      ],
      "text/plain": [
       "     x    y    z\n",
       "a   10   20   30\n",
       "b   40  666  666\n",
       "c   70   80   90\n",
       "d  100  666  666"
      ]
     },
     "execution_count": 96,
     "metadata": {},
     "output_type": "execute_result"
    }
   ],
   "source": [
    "df.loc[['b', 'd'], ['y', 'z']] = 666\n",
    "df"
   ]
  },
  {
   "cell_type": "code",
   "execution_count": 100,
   "id": "4a8b1311-2506-42d1-875e-de8905ebe4f1",
   "metadata": {},
   "outputs": [
    {
     "data": {
      "text/html": [
       "<div>\n",
       "<style scoped>\n",
       "    .dataframe tbody tr th:only-of-type {\n",
       "        vertical-align: middle;\n",
       "    }\n",
       "\n",
       "    .dataframe tbody tr th {\n",
       "        vertical-align: top;\n",
       "    }\n",
       "\n",
       "    .dataframe thead th {\n",
       "        text-align: right;\n",
       "    }\n",
       "</style>\n",
       "<table border=\"1\" class=\"dataframe\">\n",
       "  <thead>\n",
       "    <tr style=\"text-align: right;\">\n",
       "      <th></th>\n",
       "      <th>trip_distance</th>\n",
       "      <th>total_amount</th>\n",
       "    </tr>\n",
       "  </thead>\n",
       "  <tbody>\n",
       "    <tr>\n",
       "      <th>0</th>\n",
       "      <td>1.63</td>\n",
       "      <td>17.80</td>\n",
       "    </tr>\n",
       "    <tr>\n",
       "      <th>1</th>\n",
       "      <td>0.46</td>\n",
       "      <td>8.30</td>\n",
       "    </tr>\n",
       "    <tr>\n",
       "      <th>2</th>\n",
       "      <td>0.87</td>\n",
       "      <td>11.00</td>\n",
       "    </tr>\n",
       "    <tr>\n",
       "      <th>3</th>\n",
       "      <td>2.13</td>\n",
       "      <td>17.16</td>\n",
       "    </tr>\n",
       "    <tr>\n",
       "      <th>4</th>\n",
       "      <td>1.40</td>\n",
       "      <td>10.30</td>\n",
       "    </tr>\n",
       "    <tr>\n",
       "      <th>...</th>\n",
       "      <td>...</td>\n",
       "      <td>...</td>\n",
       "    </tr>\n",
       "    <tr>\n",
       "      <th>9994</th>\n",
       "      <td>2.70</td>\n",
       "      <td>12.30</td>\n",
       "    </tr>\n",
       "    <tr>\n",
       "      <th>9995</th>\n",
       "      <td>4.50</td>\n",
       "      <td>20.30</td>\n",
       "    </tr>\n",
       "    <tr>\n",
       "      <th>9996</th>\n",
       "      <td>5.59</td>\n",
       "      <td>22.30</td>\n",
       "    </tr>\n",
       "    <tr>\n",
       "      <th>9997</th>\n",
       "      <td>1.54</td>\n",
       "      <td>7.80</td>\n",
       "    </tr>\n",
       "    <tr>\n",
       "      <th>9998</th>\n",
       "      <td>5.80</td>\n",
       "      <td>26.75</td>\n",
       "    </tr>\n",
       "  </tbody>\n",
       "</table>\n",
       "<p>9999 rows × 2 columns</p>\n",
       "</div>"
      ],
      "text/plain": [
       "      trip_distance  total_amount\n",
       "0              1.63         17.80\n",
       "1              0.46          8.30\n",
       "2              0.87         11.00\n",
       "3              2.13         17.16\n",
       "4              1.40         10.30\n",
       "...             ...           ...\n",
       "9994           2.70         12.30\n",
       "9995           4.50         20.30\n",
       "9996           5.59         22.30\n",
       "9997           1.54          7.80\n",
       "9998           5.80         26.75\n",
       "\n",
       "[9999 rows x 2 columns]"
      ]
     },
     "execution_count": 100,
     "metadata": {},
     "output_type": "execute_result"
    }
   ],
   "source": [
    "# what if you want all rows, and particular columns?\n",
    "\n",
    "df = pd.read_csv('../data/taxi.csv')\n",
    "\n",
    "df.loc[\n",
    "    :       # row selector\n",
    "    ,\n",
    "    ['trip_distance', 'total_amount'] # column selector\n",
    "]"
   ]
  },
  {
   "cell_type": "code",
   "execution_count": 99,
   "id": "7296a9b0-a11a-4737-b0c3-18905238c5bc",
   "metadata": {},
   "outputs": [
    {
     "ename": "KeyError",
     "evalue": "\"None of [Index(['trip_distance', 'total_amount'], dtype='object')] are in the [columns]\"",
     "output_type": "error",
     "traceback": [
      "\u001b[0;31m---------------------------------------------------------------------------\u001b[0m",
      "\u001b[0;31mKeyError\u001b[0m                                  Traceback (most recent call last)",
      "Cell \u001b[0;32mIn[99], line 1\u001b[0m\n\u001b[0;32m----> 1\u001b[0m \u001b[43mdf\u001b[49m\u001b[43m[\u001b[49m\u001b[43m \u001b[49m\u001b[43m[\u001b[49m\u001b[38;5;124;43m'\u001b[39;49m\u001b[38;5;124;43mtrip_distance\u001b[39;49m\u001b[38;5;124;43m'\u001b[39;49m\u001b[43m,\u001b[49m\u001b[43m \u001b[49m\u001b[38;5;124;43m'\u001b[39;49m\u001b[38;5;124;43mtotal_amount\u001b[39;49m\u001b[38;5;124;43m'\u001b[39;49m\u001b[43m]\u001b[49m\u001b[43m \u001b[49m\u001b[43m]\u001b[49m\n",
      "File \u001b[0;32m~/.pyenv/versions/3.12.3/lib/python3.12/site-packages/pandas/core/frame.py:4108\u001b[0m, in \u001b[0;36mDataFrame.__getitem__\u001b[0;34m(self, key)\u001b[0m\n\u001b[1;32m   4106\u001b[0m     \u001b[38;5;28;01mif\u001b[39;00m is_iterator(key):\n\u001b[1;32m   4107\u001b[0m         key \u001b[38;5;241m=\u001b[39m \u001b[38;5;28mlist\u001b[39m(key)\n\u001b[0;32m-> 4108\u001b[0m     indexer \u001b[38;5;241m=\u001b[39m \u001b[38;5;28;43mself\u001b[39;49m\u001b[38;5;241;43m.\u001b[39;49m\u001b[43mcolumns\u001b[49m\u001b[38;5;241;43m.\u001b[39;49m\u001b[43m_get_indexer_strict\u001b[49m\u001b[43m(\u001b[49m\u001b[43mkey\u001b[49m\u001b[43m,\u001b[49m\u001b[43m \u001b[49m\u001b[38;5;124;43m\"\u001b[39;49m\u001b[38;5;124;43mcolumns\u001b[39;49m\u001b[38;5;124;43m\"\u001b[39;49m\u001b[43m)\u001b[49m[\u001b[38;5;241m1\u001b[39m]\n\u001b[1;32m   4110\u001b[0m \u001b[38;5;66;03m# take() does not accept boolean indexers\u001b[39;00m\n\u001b[1;32m   4111\u001b[0m \u001b[38;5;28;01mif\u001b[39;00m \u001b[38;5;28mgetattr\u001b[39m(indexer, \u001b[38;5;124m\"\u001b[39m\u001b[38;5;124mdtype\u001b[39m\u001b[38;5;124m\"\u001b[39m, \u001b[38;5;28;01mNone\u001b[39;00m) \u001b[38;5;241m==\u001b[39m \u001b[38;5;28mbool\u001b[39m:\n",
      "File \u001b[0;32m~/.pyenv/versions/3.12.3/lib/python3.12/site-packages/pandas/core/indexes/base.py:6200\u001b[0m, in \u001b[0;36mIndex._get_indexer_strict\u001b[0;34m(self, key, axis_name)\u001b[0m\n\u001b[1;32m   6197\u001b[0m \u001b[38;5;28;01melse\u001b[39;00m:\n\u001b[1;32m   6198\u001b[0m     keyarr, indexer, new_indexer \u001b[38;5;241m=\u001b[39m \u001b[38;5;28mself\u001b[39m\u001b[38;5;241m.\u001b[39m_reindex_non_unique(keyarr)\n\u001b[0;32m-> 6200\u001b[0m \u001b[38;5;28;43mself\u001b[39;49m\u001b[38;5;241;43m.\u001b[39;49m\u001b[43m_raise_if_missing\u001b[49m\u001b[43m(\u001b[49m\u001b[43mkeyarr\u001b[49m\u001b[43m,\u001b[49m\u001b[43m \u001b[49m\u001b[43mindexer\u001b[49m\u001b[43m,\u001b[49m\u001b[43m \u001b[49m\u001b[43maxis_name\u001b[49m\u001b[43m)\u001b[49m\n\u001b[1;32m   6202\u001b[0m keyarr \u001b[38;5;241m=\u001b[39m \u001b[38;5;28mself\u001b[39m\u001b[38;5;241m.\u001b[39mtake(indexer)\n\u001b[1;32m   6203\u001b[0m \u001b[38;5;28;01mif\u001b[39;00m \u001b[38;5;28misinstance\u001b[39m(key, Index):\n\u001b[1;32m   6204\u001b[0m     \u001b[38;5;66;03m# GH 42790 - Preserve name from an Index\u001b[39;00m\n",
      "File \u001b[0;32m~/.pyenv/versions/3.12.3/lib/python3.12/site-packages/pandas/core/indexes/base.py:6249\u001b[0m, in \u001b[0;36mIndex._raise_if_missing\u001b[0;34m(self, key, indexer, axis_name)\u001b[0m\n\u001b[1;32m   6247\u001b[0m \u001b[38;5;28;01mif\u001b[39;00m nmissing:\n\u001b[1;32m   6248\u001b[0m     \u001b[38;5;28;01mif\u001b[39;00m nmissing \u001b[38;5;241m==\u001b[39m \u001b[38;5;28mlen\u001b[39m(indexer):\n\u001b[0;32m-> 6249\u001b[0m         \u001b[38;5;28;01mraise\u001b[39;00m \u001b[38;5;167;01mKeyError\u001b[39;00m(\u001b[38;5;124mf\u001b[39m\u001b[38;5;124m\"\u001b[39m\u001b[38;5;124mNone of [\u001b[39m\u001b[38;5;132;01m{\u001b[39;00mkey\u001b[38;5;132;01m}\u001b[39;00m\u001b[38;5;124m] are in the [\u001b[39m\u001b[38;5;132;01m{\u001b[39;00maxis_name\u001b[38;5;132;01m}\u001b[39;00m\u001b[38;5;124m]\u001b[39m\u001b[38;5;124m\"\u001b[39m)\n\u001b[1;32m   6251\u001b[0m     not_found \u001b[38;5;241m=\u001b[39m \u001b[38;5;28mlist\u001b[39m(ensure_index(key)[missing_mask\u001b[38;5;241m.\u001b[39mnonzero()[\u001b[38;5;241m0\u001b[39m]]\u001b[38;5;241m.\u001b[39munique())\n\u001b[1;32m   6252\u001b[0m     \u001b[38;5;28;01mraise\u001b[39;00m \u001b[38;5;167;01mKeyError\u001b[39;00m(\u001b[38;5;124mf\u001b[39m\u001b[38;5;124m\"\u001b[39m\u001b[38;5;132;01m{\u001b[39;00mnot_found\u001b[38;5;132;01m}\u001b[39;00m\u001b[38;5;124m not in index\u001b[39m\u001b[38;5;124m\"\u001b[39m)\n",
      "\u001b[0;31mKeyError\u001b[0m: \"None of [Index(['trip_distance', 'total_amount'], dtype='object')] are in the [columns]\""
     ]
    }
   ],
   "source": [
    "df[ ['trip_distance', 'total_amount'] ]"
   ]
  },
  {
   "cell_type": "code",
   "execution_count": null,
   "id": "8efc5ae2-78d8-4634-9ab8-03f91ae2030f",
   "metadata": {},
   "outputs": [],
   "source": [
    "s = 'abcdefghij'\n",
    "\n",
    "s[:4]   # from the start, up to and n"
   ]
  }
 ],
 "metadata": {
  "kernelspec": {
   "display_name": "Python 3 (ipykernel)",
   "language": "python",
   "name": "python3"
  },
  "language_info": {
   "codemirror_mode": {
    "name": "ipython",
    "version": 3
   },
   "file_extension": ".py",
   "mimetype": "text/x-python",
   "name": "python",
   "nbconvert_exporter": "python",
   "pygments_lexer": "ipython3",
   "version": "3.12.3"
  }
 },
 "nbformat": 4,
 "nbformat_minor": 5
}
