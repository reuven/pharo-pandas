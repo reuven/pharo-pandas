{
 "cells": [
  {
   "cell_type": "code",
   "execution_count": 1,
   "id": "d562e155-8595-4431-b6c5-9fc40b5e471a",
   "metadata": {},
   "outputs": [],
   "source": [
    "# Agenda: CSV and data frames"
   ]
  },
  {
   "cell_type": "code",
   "execution_count": 2,
   "id": "2edac55b-6100-45a9-b492-1d0340279f18",
   "metadata": {},
   "outputs": [
    {
     "name": "stdout",
     "output_type": "stream",
     "text": [
      "Untitled.ipynb\t Untitled3.ipynb  pharo-Monday-group\n",
      "Untitled1.ipynb  data\t\t  pharo-Thursday-group\n",
      "Untitled2.ipynb  nohup.out\t  pharo-group-2-Thursdays\n"
     ]
    }
   ],
   "source": [
    "!ls ../data\n"
   ]
  },
  {
   "cell_type": "code",
   "execution_count": null,
   "id": "dc25476a-7f76-477b-b9be-4f1fef7c9937",
   "metadata": {},
   "outputs": [],
   "source": []
  }
 ],
 "metadata": {
  "kernelspec": {
   "display_name": "Python 3 (ipykernel)",
   "language": "python",
   "name": "python3"
  },
  "language_info": {
   "codemirror_mode": {
    "name": "ipython",
    "version": 3
   },
   "file_extension": ".py",
   "mimetype": "text/x-python",
   "name": "python",
   "nbconvert_exporter": "python",
   "pygments_lexer": "ipython3",
   "version": "3.12.3"
  }
 },
 "nbformat": 4,
 "nbformat_minor": 5
}
