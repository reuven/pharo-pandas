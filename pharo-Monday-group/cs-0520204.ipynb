{
 "cells": [
  {
   "cell_type": "code",
   "execution_count": 1,
   "id": "c1aa8536-3b03-4a39-9ee6-45f05a7ab9ab",
   "metadata": {},
   "outputs": [],
   "source": [
    "import numpy as np\n",
    "import pandas as pd"
   ]
  },
  {
   "cell_type": "code",
   "execution_count": 3,
   "id": "0b6d654f-dd99-41aa-952e-8f973e3ae159",
   "metadata": {},
   "outputs": [],
   "source": [
    "s = pd.Series([70,71,72,73,74,75,76,77,78,79,80])"
   ]
  },
  {
   "cell_type": "code",
   "execution_count": 4,
   "id": "ac015b4d-81f5-4f8c-b437-51c6df2bc52a",
   "metadata": {},
   "outputs": [
    {
     "data": {
      "text/plain": [
       "0     70\n",
       "1     71\n",
       "2     72\n",
       "3     73\n",
       "4     74\n",
       "5     75\n",
       "6     76\n",
       "7     77\n",
       "8     78\n",
       "9     79\n",
       "10    80\n",
       "dtype: int64"
      ]
     },
     "execution_count": 4,
     "metadata": {},
     "output_type": "execute_result"
    }
   ],
   "source": [
    "s\n"
   ]
  },
  {
   "cell_type": "code",
   "execution_count": 7,
   "id": "1103e6e4-451b-4fab-8d5b-2f29fa2a93c5",
   "metadata": {},
   "outputs": [
    {
     "ename": "AttributeError",
     "evalue": "'Series' object has no attribute 'set_index'",
     "output_type": "error",
     "traceback": [
      "\u001b[0;31m---------------------------------------------------------------------------\u001b[0m",
      "\u001b[0;31mAttributeError\u001b[0m                            Traceback (most recent call last)",
      "\u001b[0;32m/tmp/ipykernel_4111830/4075951926.py\u001b[0m in \u001b[0;36m?\u001b[0;34m()\u001b[0m\n\u001b[0;32m----> 1\u001b[0;31m \u001b[0ms\u001b[0m\u001b[0;34m.\u001b[0m\u001b[0mset_index\u001b[0m\u001b[0;34m(\u001b[0m\u001b[0;34m[\u001b[0m\u001b[0;34m'0520'\u001b[0m\u001b[0;34m,\u001b[0m\u001b[0;34m'0521'\u001b[0m\u001b[0;34m,\u001b[0m\u001b[0;34m'0522'\u001b[0m\u001b[0;34m,\u001b[0m\u001b[0;34m'0523'\u001b[0m\u001b[0;34m,\u001b[0m\u001b[0;34m'0524'\u001b[0m\u001b[0;34m,\u001b[0m\u001b[0;34m'0525'\u001b[0m\u001b[0;34m,\u001b[0m\u001b[0;34m'0526'\u001b[0m\u001b[0;34m,\u001b[0m\u001b[0;34m'0527'\u001b[0m\u001b[0;34m,\u001b[0m\u001b[0;34m'0528'\u001b[0m\u001b[0;34m,\u001b[0m\u001b[0;34m'0529'\u001b[0m\u001b[0;34m,\u001b[0m\u001b[0;34m'0530'\u001b[0m\u001b[0;34m,\u001b[0m\u001b[0;34m'0531'\u001b[0m\u001b[0;34m]\u001b[0m\u001b[0;34m)\u001b[0m\u001b[0;34m\u001b[0m\u001b[0;34m\u001b[0m\u001b[0m\n\u001b[0m",
      "\u001b[0;32m~/.pyenv/versions/3.12.3/lib/python3.12/site-packages/pandas/core/generic.py\u001b[0m in \u001b[0;36m?\u001b[0;34m(self, name)\u001b[0m\n\u001b[1;32m   6295\u001b[0m             \u001b[0;32mand\u001b[0m \u001b[0mname\u001b[0m \u001b[0;32mnot\u001b[0m \u001b[0;32min\u001b[0m \u001b[0mself\u001b[0m\u001b[0;34m.\u001b[0m\u001b[0m_accessors\u001b[0m\u001b[0;34m\u001b[0m\u001b[0;34m\u001b[0m\u001b[0m\n\u001b[1;32m   6296\u001b[0m             \u001b[0;32mand\u001b[0m \u001b[0mself\u001b[0m\u001b[0;34m.\u001b[0m\u001b[0m_info_axis\u001b[0m\u001b[0;34m.\u001b[0m\u001b[0m_can_hold_identifiers_and_holds_name\u001b[0m\u001b[0;34m(\u001b[0m\u001b[0mname\u001b[0m\u001b[0;34m)\u001b[0m\u001b[0;34m\u001b[0m\u001b[0;34m\u001b[0m\u001b[0m\n\u001b[1;32m   6297\u001b[0m         \u001b[0;34m)\u001b[0m\u001b[0;34m:\u001b[0m\u001b[0;34m\u001b[0m\u001b[0;34m\u001b[0m\u001b[0m\n\u001b[1;32m   6298\u001b[0m             \u001b[0;32mreturn\u001b[0m \u001b[0mself\u001b[0m\u001b[0;34m[\u001b[0m\u001b[0mname\u001b[0m\u001b[0;34m]\u001b[0m\u001b[0;34m\u001b[0m\u001b[0;34m\u001b[0m\u001b[0m\n\u001b[0;32m-> 6299\u001b[0;31m         \u001b[0;32mreturn\u001b[0m \u001b[0mobject\u001b[0m\u001b[0;34m.\u001b[0m\u001b[0m__getattribute__\u001b[0m\u001b[0;34m(\u001b[0m\u001b[0mself\u001b[0m\u001b[0;34m,\u001b[0m \u001b[0mname\u001b[0m\u001b[0;34m)\u001b[0m\u001b[0;34m\u001b[0m\u001b[0;34m\u001b[0m\u001b[0m\n\u001b[0m",
      "\u001b[0;31mAttributeError\u001b[0m: 'Series' object has no attribute 'set_index'"
     ]
    }
   ],
   "source": [
    "s.set_index(['0520','0521','0522','0523','0524','0525','0526','0527','0528','0529','0530','0531'])\n"
   ]
  },
  {
   "cell_type": "code",
   "execution_count": null,
   "id": "c13d6a6b-c832-4881-828e-dba0b572a731",
   "metadata": {},
   "outputs": [],
   "source": []
  },
  {
   "cell_type": "code",
   "execution_count": null,
   "id": "4ce24050-693b-4a8f-bbe6-6bee4a6e0025",
   "metadata": {},
   "outputs": [],
   "source": []
  },
  {
   "cell_type": "code",
   "execution_count": null,
   "id": "7c668d72-62f0-4663-a35e-02064ebbcb66",
   "metadata": {},
   "outputs": [],
   "source": []
  },
  {
   "cell_type": "code",
   "execution_count": null,
   "id": "38c69e36-ee20-408b-8400-114de1dc9f2c",
   "metadata": {},
   "outputs": [],
   "source": []
  }
 ],
 "metadata": {
  "kernelspec": {
   "display_name": "Python 3 (ipykernel)",
   "language": "python",
   "name": "python3"
  },
  "language_info": {
   "codemirror_mode": {
    "name": "ipython",
    "version": 3
   },
   "file_extension": ".py",
   "mimetype": "text/x-python",
   "name": "python",
   "nbconvert_exporter": "python",
   "pygments_lexer": "ipython3",
   "version": "3.12.3"
  }
 },
 "nbformat": 4,
 "nbformat_minor": 5
}
