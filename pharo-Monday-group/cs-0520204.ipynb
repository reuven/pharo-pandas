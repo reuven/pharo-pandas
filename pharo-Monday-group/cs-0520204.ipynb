{
 "cells": [
  {
   "cell_type": "code",
   "execution_count": 1,
   "id": "c1aa8536-3b03-4a39-9ee6-45f05a7ab9ab",
   "metadata": {},
   "outputs": [],
   "source": [
    "import numpy as np\n",
    "import pandas as pd"
   ]
  },
  {
   "cell_type": "code",
   "execution_count": 3,
   "id": "0b6d654f-dd99-41aa-952e-8f973e3ae159",
   "metadata": {},
   "outputs": [],
   "source": [
    "s = pd.Series([70,71,72,73,74,75,76,77,78,79,80])"
   ]
  },
  {
   "cell_type": "code",
   "execution_count": 4,
   "id": "ac015b4d-81f5-4f8c-b437-51c6df2bc52a",
   "metadata": {},
   "outputs": [
    {
     "data": {
      "text/plain": [
       "0     70\n",
       "1     71\n",
       "2     72\n",
       "3     73\n",
       "4     74\n",
       "5     75\n",
       "6     76\n",
       "7     77\n",
       "8     78\n",
       "9     79\n",
       "10    80\n",
       "dtype: int64"
      ]
     },
     "execution_count": 4,
     "metadata": {},
     "output_type": "execute_result"
    }
   ],
   "source": [
    "s\n"
   ]
  },
  {
   "cell_type": "code",
   "execution_count": null,
   "id": "1103e6e4-451b-4fab-8d5b-2f29fa2a93c5",
   "metadata": {},
   "outputs": [],
   "source": [
    "s.index('050',"
   ]
  },
  {
   "cell_type": "code",
   "execution_count": null,
   "id": "38c69e36-ee20-408b-8400-114de1dc9f2c",
   "metadata": {},
   "outputs": [],
   "source": []
  }
 ],
 "metadata": {
  "kernelspec": {
   "display_name": "Python 3 (ipykernel)",
   "language": "python",
   "name": "python3"
  },
  "language_info": {
   "codemirror_mode": {
    "name": "ipython",
    "version": 3
   },
   "file_extension": ".py",
   "mimetype": "text/x-python",
   "name": "python",
   "nbconvert_exporter": "python",
   "pygments_lexer": "ipython3",
   "version": "3.12.3"
  }
 },
 "nbformat": 4,
 "nbformat_minor": 5
}
