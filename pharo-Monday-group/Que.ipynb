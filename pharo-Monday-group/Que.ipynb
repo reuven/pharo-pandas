{
 "cells": [
  {
   "cell_type": "code",
   "execution_count": 1,
   "id": "93549ef4",
   "metadata": {},
   "outputs": [
    {
     "data": {
      "text/plain": [
       "100"
      ]
     },
     "execution_count": 1,
     "metadata": {},
     "output_type": "execute_result"
    }
   ],
   "source": [
    "x = 100\n",
    "y = 200\n",
    "x"
   ]
  },
  {
   "cell_type": "code",
   "execution_count": 2,
   "id": "2f2c2b19",
   "metadata": {},
   "outputs": [
    {
     "data": {
      "text/plain": [
       "20000"
      ]
     },
     "execution_count": 2,
     "metadata": {},
     "output_type": "execute_result"
    }
   ],
   "source": [
    "x*y"
   ]
  },
  {
   "cell_type": "code",
   "execution_count": 3,
   "id": "fd09567f",
   "metadata": {},
   "outputs": [
    {
     "ename": "AttributeError",
     "evalue": "module 'pandas' has no attribute '_version_'",
     "output_type": "error",
     "traceback": [
      "\u001b[0;31m---------------------------------------------------------------------------\u001b[0m",
      "\u001b[0;31mAttributeError\u001b[0m                            Traceback (most recent call last)",
      "Cell \u001b[0;32mIn[3], line 2\u001b[0m\n\u001b[1;32m      1\u001b[0m \u001b[38;5;28;01mimport\u001b[39;00m \u001b[38;5;21;01mpandas\u001b[39;00m \u001b[38;5;28;01mas\u001b[39;00m \u001b[38;5;21;01mpd\u001b[39;00m\n\u001b[0;32m----> 2\u001b[0m \u001b[43mpd\u001b[49m\u001b[38;5;241;43m.\u001b[39;49m\u001b[43m_version_\u001b[49m\n",
      "\u001b[0;31mAttributeError\u001b[0m: module 'pandas' has no attribute '_version_'"
     ]
    }
   ],
   "source": [
    "import pandas as pd\n"
   ]
  },
  {
   "cell_type": "code",
   "execution_count": null,
   "id": "ed3d9396",
   "metadata": {},
   "outputs": [],
   "source": [
    "filename = '../data/taxi.csv'\n",
    "df = pd.read_csv(filename)\n"
   ]
  },
  {
   "cell_type": "code",
   "execution_count": null,
   "id": "30cd8436",
   "metadata": {},
   "outputs": [],
   "source": [
    "df.shape"
   ]
  },
  {
   "cell_type": "code",
   "execution_count": null,
   "id": "549365ca-702c-4a7a-8100-5ed16dc82d19",
   "metadata": {},
   "outputs": [],
   "source": [
    "df"
   ]
  },
  {
   "cell_type": "code",
   "execution_count": null,
   "id": "1e59c2bb-e3bd-4601-b7c4-f5992a401c31",
   "metadata": {},
   "outputs": [],
   "source": [
    "df.head"
   ]
  },
  {
   "cell_type": "code",
   "execution_count": null,
   "id": "b2efdd8c-c4bc-47a3-a3b3-74cfdab2d57c",
   "metadata": {},
   "outputs": [],
   "source": [
    "df.head(3)"
   ]
  },
  {
   "cell_type": "code",
   "execution_count": null,
   "id": "d3dcab69-cd55-4201-a7d6-a4e298f5618a",
   "metadata": {},
   "outputs": [],
   "source": [
    "df['trip_distance']"
   ]
  },
  {
   "cell_type": "code",
   "execution_count": null,
   "id": "991d2cf1-2db9-4d7e-b20c-03c00bbb7d1e",
   "metadata": {},
   "outputs": [],
   "source": [
    "df['trip_distance'].min()"
   ]
  },
  {
   "cell_type": "raw",
   "id": "791a74a1-211d-4bc4-b796-dc4fbba48655",
   "metadata": {},
   "source": []
  },
  {
   "cell_type": "code",
   "execution_count": null,
   "id": "e1c81e1e-53e6-442b-9b59-a6572c2e9f15",
   "metadata": {},
   "outputs": [],
   "source": [
    "df['trip_distance'].describe()"
   ]
  },
  {
   "cell_type": "code",
   "execution_count": null,
   "id": "8e8fd952-72de-4778-8ffc-49ca37ba8645",
   "metadata": {},
   "outputs": [],
   "source": [
    "df['trip_distance'].std()"
   ]
  },
  {
   "cell_type": "code",
   "execution_count": null,
   "id": "ba54062c-bc32-4cd6-9c80-5980c9a2452e",
   "metadata": {},
   "outputs": [],
   "source": [
    "df['total_amount']"
   ]
  },
  {
   "cell_type": "code",
   "execution_count": null,
   "id": "730366df-808e-49ae-9322-7a502cc33814",
   "metadata": {},
   "outputs": [],
   "source": [
    "df.loc[[0,1,2]]"
   ]
  },
  {
   "cell_type": "code",
   "execution_count": null,
   "id": "742488f5-7c08-4986-97e7-0c33a4332b6b",
   "metadata": {},
   "outputs": [],
   "source": [
    "df[['trip_distance', 'passenger_count', 'total_amount']].loc[[0,1,2]]"
   ]
  },
  {
   "cell_type": "code",
   "execution_count": null,
   "id": "eecf9903-8df1-49e9-a6cb-f4b94fdc1ad7",
   "metadata": {},
   "outputs": [],
   "source": [
    "df.head(5)"
   ]
  },
  {
   "cell_type": "code",
   "execution_count": null,
   "id": "c287aebd-9285-4500-bb16-507140609ac7",
   "metadata": {},
   "outputs": [],
   "source": [
    "df['total_amount'].describe()"
   ]
  },
  {
   "cell_type": "code",
   "execution_count": null,
   "id": "3f8e4044-e5f6-4254-8b63-ace883bfeb8f",
   "metadata": {},
   "outputs": [],
   "source": [
    "df['total_amount'].median()"
   ]
  },
  {
   "cell_type": "code",
   "execution_count": null,
   "id": "b4c676a7-7426-4e08-8c3a-c95d30f0cf6d",
   "metadata": {},
   "outputs": [],
   "source": [
    "df[['trip_distance', 'passenger_count', 'total_amount']].describe()"
   ]
  },
  {
   "cell_type": "code",
   "execution_count": null,
   "id": "e5ba57d2-716d-4c5d-9a35-2a84bcbb206b",
   "metadata": {},
   "outputs": [],
   "source": []
  },
  {
   "cell_type": "code",
   "execution_count": null,
   "id": "e4b5157d-1466-4c88-8b89-cf4340559f2c",
   "metadata": {},
   "outputs": [],
   "source": [
    "df[['trip_distance', 'passenger_count', 'total_amount']].loc[[0,1,2,3,4]]"
   ]
  },
  {
   "cell_type": "code",
   "execution_count": null,
   "id": "4dd1bb00-f28c-4924-aba3-883e16f674cf",
   "metadata": {},
   "outputs": [],
   "source": []
  },
  {
   "cell_type": "code",
   "execution_count": null,
   "id": "490cc45e-dc90-4578-96ff-f5ef031626fe",
   "metadata": {},
   "outputs": [],
   "source": [
    "df[['trip_distance', 'passenger_count', 'total_amount']].loc[[0,1,2]].describe()"
   ]
  },
  {
   "cell_type": "code",
   "execution_count": null,
   "id": "cfa54cb0-4f6b-4f09-a980-bb76a54d16ea",
   "metadata": {},
   "outputs": [],
   "source": [
    "df.head(5).describe()"
   ]
  },
  {
   "cell_type": "code",
   "execution_count": null,
   "id": "16c318d1-d6d8-4144-8f31-621c74d92b1c",
   "metadata": {},
   "outputs": [],
   "source": [
    "df.iloc[0:5,0:3]\n"
   ]
  },
  {
   "cell_type": "code",
   "execution_count": null,
   "id": "3f7df8ab-7db8-4ff4-aab0-3d700ae38cf7",
   "metadata": {},
   "outputs": [],
   "source": [
    "df['trip_distance'].plot.hist()"
   ]
  },
  {
   "cell_type": "code",
   "execution_count": null,
   "id": "603e09ad-72fa-4f33-8d89-1784c8b3a380",
   "metadata": {},
   "outputs": [],
   "source": [
    "df[['trip_distance', 'total_amount']].corr()"
   ]
  },
  {
   "cell_type": "code",
   "execution_count": null,
   "id": "5384f78e-3ec6-4dfa-a043-9a140608932a",
   "metadata": {},
   "outputs": [],
   "source": [
    "(\n",
    "df\n",
    "[['trip_distance', 'total_amount', 'passenger_count']]\n",
    ".head(5)\n",
    ".describe()\n",
    ")"
   ]
  },
  {
   "cell_type": "code",
   "execution_count": null,
   "id": "c6292fa1-7801-49b7-a7a7-05978c0649bb",
   "metadata": {},
   "outputs": [],
   "source": [
    "df[['trip_distance', 'total_amount']].plot.hist(subplots = True)"
   ]
  },
  {
   "cell_type": "code",
   "execution_count": null,
   "id": "a873f088-7a8c-4d44-9dfa-65517e0d1447",
   "metadata": {},
   "outputs": [],
   "source": [
    "df['trip_distance'].plot.hist()"
   ]
  },
  {
   "cell_type": "code",
   "execution_count": null,
   "id": "49095548-53ae-4e63-91fb-7c671fa3ee03",
   "metadata": {},
   "outputs": [],
   "source": []
  },
  {
   "cell_type": "code",
   "execution_count": null,
   "id": "6eb2d150-11af-4b77-beba-39a5c96cd35d",
   "metadata": {},
   "outputs": [],
   "source": [
    "df['trip_distance'].plot.hist()"
   ]
  },
  {
   "cell_type": "code",
   "execution_count": null,
   "id": "1f948cf4-a8a9-4a92-b234-c5840f17ed06",
   "metadata": {},
   "outputs": [],
   "source": []
  },
  {
   "cell_type": "code",
   "execution_count": null,
   "id": "02fac134-8467-4702-8c25-44bf962207c2",
   "metadata": {},
   "outputs": [],
   "source": [
    "(\n",
    "df\n",
    "[['trip_distance', 'total_amount', 'passenger_count']]\n",
    ".head(100)\n",
    ".plot.line()\n",
    ")"
   ]
  },
  {
   "cell_type": "code",
   "execution_count": null,
   "id": "afeadccf-a49b-4fc3-8d60-204a8464120f",
   "metadata": {},
   "outputs": [],
   "source": [
    "(\n",
    "    df\n",
    "    ['passenger_count']\n",
    "    .value_counts(normalize = True)\n",
    ")"
   ]
  },
  {
   "cell_type": "code",
   "execution_count": null,
   "id": "468eeecf-0ac5-44be-859e-3195193322eb",
   "metadata": {},
   "outputs": [],
   "source": []
  },
  {
   "cell_type": "code",
   "execution_count": null,
   "id": "eb9b5584-123f-444e-be74-916c0106e3f5",
   "metadata": {},
   "outputs": [],
   "source": [
    "(\n",
    "    df\n",
    "    ['passenger_count']\n",
    "    .value_counts()\n",
    "    .plot.pie()\n",
    ")"
   ]
  },
  {
   "cell_type": "code",
   "execution_count": null,
   "id": "9ca2e2ae-55ef-4a69-8d7a-51eb81337fd4",
   "metadata": {},
   "outputs": [],
   "source": [
    "df.iloc[0,1]"
   ]
  },
  {
   "cell_type": "code",
   "execution_count": null,
   "id": "9f31cd02-70b3-4418-bc4e-41df17d86340",
   "metadata": {},
   "outputs": [],
   "source": [
    "df.iloc[[0,2,4],[1,3]]"
   ]
  },
  {
   "cell_type": "code",
   "execution_count": null,
   "id": "1c96f25a-a58c-4952-9d5e-9cde616a7012",
   "metadata": {},
   "outputs": [],
   "source": [
    "import pandas as pd"
   ]
  },
  {
   "cell_type": "code",
   "execution_count": null,
   "id": "1f630f26-288b-4a59-91b2-44e2444a91ca",
   "metadata": {},
   "outputs": [],
   "source": [
    "from pandas import Series"
   ]
  },
  {
   "cell_type": "code",
   "execution_count": null,
   "id": "6cc1fb73-64bf-490b-a3b6-3abcd8490ef0",
   "metadata": {},
   "outputs": [],
   "source": [
    "s = Series ([10,20,30,40,50])"
   ]
  },
  {
   "cell_type": "code",
   "execution_count": null,
   "id": "61132cc4-bba0-44fe-ba5c-bb4fd7672a2e",
   "metadata": {},
   "outputs": [],
   "source": [
    "s"
   ]
  },
  {
   "cell_type": "code",
   "execution_count": null,
   "id": "23d2517b-b1b0-4b2f-afbc-e8df5d56a59c",
   "metadata": {},
   "outputs": [],
   "source": [
    "type (s[1])"
   ]
  },
  {
   "cell_type": "code",
   "execution_count": null,
   "id": "2abc00d9-8db3-4646-9f14-720ebf77cf90",
   "metadata": {},
   "outputs": [],
   "source": [
    "s[1]"
   ]
  },
  {
   "cell_type": "code",
   "execution_count": null,
   "id": "081d3179-f8c9-4bcb-87dc-39ecaa41b849",
   "metadata": {},
   "outputs": [],
   "source": [
    "s.loc[2]"
   ]
  },
  {
   "cell_type": "code",
   "execution_count": null,
   "id": "9bba7333-2e5d-4cb0-a2c8-00186d9555fc",
   "metadata": {},
   "outputs": [],
   "source": [
    "s = Series([12, 11.5, 20, 18, 17, 17.8, 20, 21, 25, 30])\n",
    "s.mean()"
   ]
  },
  {
   "cell_type": "code",
   "execution_count": null,
   "id": "add235f7-fa29-4266-aff2-a55551190d2e",
   "metadata": {},
   "outputs": [],
   "source": [
    "s.median()"
   ]
  },
  {
   "cell_type": "code",
   "execution_count": null,
   "id": "3c2c5d11-3a9d-4750-96e1-0ca167570063",
   "metadata": {},
   "outputs": [],
   "source": [
    "s.describe()"
   ]
  },
  {
   "cell_type": "code",
   "execution_count": null,
   "id": "2bc108f1-425c-4108-8198-ee8b85d94d27",
   "metadata": {},
   "outputs": [],
   "source": [
    "s=Series([10,20,30,40,50]),index = list('abcde'))\n",
    "s\n",
    "s.index = [2,4,5,7,19]\n",
    "s.loc[2]\n",
    "list(s.index)\n"
   ]
  },
  {
   "cell_type": "markdown",
   "id": "1d4cb106-fc8b-4307-a704-9fdb19dbe6cd",
   "metadata": {},
   "source": [
    "s.loc[[2,4]]"
   ]
  },
  {
   "cell_type": "code",
   "execution_count": null,
   "id": "69acf66e-2d00-4163-8d5b-2619c5724a19",
   "metadata": {},
   "outputs": [],
   "source": [
    "s.loc[[2,4]].mean()"
   ]
  },
  {
   "cell_type": "code",
   "execution_count": null,
   "id": "2d5941da-e101-4416-aa55-0f0dc593b3e3",
   "metadata": {},
   "outputs": [],
   "source": [
    "s = Series([10,11,12,21,23,34,35,54,32,11,9,10,17,18])\n",
    "s.index =[mon,tuesday,wed,thur,fri,sat,sun,mon,tues,wed,thur,fri,sat,sun]\n",
    "s.loc['fri']"
   ]
  },
  {
   "cell_type": "code",
   "execution_count": null,
   "id": "35524d4c-ce4c-4c5e-b5c7-1c92e8097707",
   "metadata": {},
   "outputs": [],
   "source": [
    "s = Series([12, 11.5, 20, 18, 17, 17.8, 20, 21, 25, 30])\n"
   ]
  },
  {
   "cell_type": "code",
   "execution_count": null,
   "id": "d6eaf787-fa28-4bba-945f-dd0d89768e1f",
   "metadata": {},
   "outputs": [],
   "source": [
    "s = Series([12, 11.5, 20, 18, 17, 17.8, 20]),index = list('MTWTFSS'))\n",
    "s"
   ]
  },
  {
   "cell_type": "code",
   "execution_count": null,
   "id": "a8baad9b-eeb8-4761-b603-bac020d7a420",
   "metadata": {},
   "outputs": [],
   "source": []
  },
  {
   "cell_type": "code",
   "execution_count": null,
   "id": "aff11f1b-edab-43b9-8609-702813e4682c",
   "metadata": {},
   "outputs": [],
   "source": [
    "s1 = Series([12, 11.5, 20, 18, 17], index = ['abcde'])\n"
   ]
  },
  {
   "cell_type": "code",
   "execution_count": null,
   "id": "4327b0e9-8dfa-4dab-9151-c7db8cee524f",
   "metadata": {},
   "outputs": [],
   "source": [
    "s2 = Series([14, 15, 25, 28, 27], index = ['abcde'])\n",
    "s1+s2\n"
   ]
  },
  {
   "cell_type": "code",
   "execution_count": null,
   "id": "acd8a9e4-c355-40a1-8543-9b4e15140f73",
   "metadata": {},
   "outputs": [],
   "source": [
    "s = Series([10, 20, 30, 40, 50],\n",
    "           index=list('abcde'))\n",
    "s"
   ]
  },
  {
   "cell_type": "code",
   "execution_count": null,
   "id": "37dfb1c2-bb07-404d-ae13-6040a684588a",
   "metadata": {},
   "outputs": [],
   "source": [
    "s.index"
   ]
  },
  {
   "cell_type": "code",
   "execution_count": null,
   "id": "b1367672-2fc2-483b-9978-531b5e6a28d8",
   "metadata": {},
   "outputs": [],
   "source": [
    "s = Series([33, 38, 27, 24, 23, 24, 25, 27, 32, 35],\n",
    "          index='Fri Sat Sun Mon Tue Wed Thu Fri Sat Sun'.split())\n",
    "s"
   ]
  },
  {
   "cell_type": "code",
   "execution_count": null,
   "id": "79cbc46e-baee-4729-ad84-128c99e3fe61",
   "metadata": {},
   "outputs": [],
   "source": [
    "s.loc['Fri']"
   ]
  },
  {
   "cell_type": "code",
   "execution_count": null,
   "id": "667b4ad0-b967-4270-98c5-a96207307153",
   "metadata": {},
   "outputs": [],
   "source": [
    "s.loc[['Mon', 'Fri', 'Mon']]"
   ]
  },
  {
   "cell_type": "code",
   "execution_count": null,
   "id": "f3bd5db0-4f50-41f7-8ff0-7ca3b1c0c9c8",
   "metadata": {},
   "outputs": [],
   "source": [
    "highs = Series([33, 38, 27, 24, 23, 24, 25, 27, 32, 35],\n",
    "          index='Fri Sat Sun Mon Tue Wed Thu Fri Sat Sun'.split())\n",
    "lows = Series([19, 19, 17, 16, 16, 15, 14, 16, 19, 21],\n",
    "          index='Fri Sat Sun Mon Tue Wed Thu Fri Sat Sun'.split())\n",
    "diffs = highs - lows\n",
    "diffs.mean()"
   ]
  },
  {
   "cell_type": "code",
   "execution_count": null,
   "id": "b89305aa-f8e2-4629-a98b-44173d473cf5",
   "metadata": {},
   "outputs": [],
   "source": [
    "(highs * 1.8) + 32"
   ]
  },
  {
   "cell_type": "code",
   "execution_count": null,
   "id": "61a70d0f-1857-453d-aead-9d34a8377042",
   "metadata": {},
   "outputs": [],
   "source": [
    "s"
   ]
  },
  {
   "cell_type": "code",
   "execution_count": null,
   "id": "02419c25-3210-48f9-9371-8ae9474555ea",
   "metadata": {},
   "outputs": [],
   "source": [
    "highs.mean"
   ]
  },
  {
   "cell_type": "code",
   "execution_count": null,
   "id": "93267786-b9d5-48ff-ad8f-0b265d654bf7",
   "metadata": {},
   "outputs": [],
   "source": [
    "mean1 = highs.mean()\n",
    "mean2 = lows.mean()\n",
    "highs_above_mean= highs[highs>mean1]"
   ]
  },
  {
   "cell_type": "code",
   "execution_count": null,
   "id": "b43239b1-7c94-4ef8-98cc-41bba643b2dd",
   "metadata": {},
   "outputs": [],
   "source": [
    "import pandas as pd"
   ]
  },
  {
   "cell_type": "code",
   "execution_count": null,
   "id": "8992912d-3b05-4686-a1f5-56da7d961133",
   "metadata": {},
   "outputs": [],
   "source": []
  },
  {
   "cell_type": "code",
   "execution_count": null,
   "id": "8aab90fb-e47f-4f33-a423-13000b121b16",
   "metadata": {},
   "outputs": [],
   "source": [
    "highs = Series([33, 38, 27, 24, 23, 24, 25, 27, 32, 35],\n",
    "          index='Fri Sat Sun Mon Tue Wed Thu Fri Sat Sun'.split())\n",
    "lows = Series([19, 19, 17, 16, 16, 15, 14, 16, 19, 21],\n",
    "          index='Fri Sat Sun Mon Tue Wed Thu Fri Sat Sun'.split())\n",
    "diffs = highs - lows\n",
    "diffs.mean()"
   ]
  },
  {
   "cell_type": "code",
   "execution_count": null,
   "id": "14a5821a-3782-4901-bcab-0f1c310fc39e",
   "metadata": {},
   "outputs": [],
   "source": [
    "import pandas as pd\n",
    "import numpy as np\n",
    "from pandas import Series, DataFrame\n",
    "highs = Series([33, 38, 27, 24, 23, 24, 25, 27, 32, 35],\n",
    "          index='Fri Sat Sun Mon Tue Wed Thu Fri Sat Sun'.split())\n",
    "lows = Series([19, 19, 17, 16, 16, 15, 14, 16, 19, 21],\n",
    "          index='Fri Sat Sun Mon Tue Wed Thu Fri Sat Sun'.split())\n",
    "highs.mean()\n",
    "lows.mean()\n",
    "mean1 = (highs.mean() + lows.mean() )/2\n",
    "\n",
    "highs_above_mean= highs[ highs>mean1]"
   ]
  },
  {
   "cell_type": "code",
   "execution_count": null,
   "id": "e148cf53-18d2-4b22-a9bc-6c783833414a",
   "metadata": {},
   "outputs": [],
   "source": [
    "mean_highs = highs.mean()\n",
    "mean_lows = lows.mean()\n",
    "\n",
    "# Calculate the average of the mean high and mean low temperatures\n",
    "mean1 = (mean_highs + mean_lows) / 2\n",
    "\n",
    "# Find highs above the overall mean\n",
    "highs_above_mean = highs[highs > mean1]\n",
    "highs.loc[highs>highs_above_mean}"
   ]
  },
  {
   "cell_type": "code",
   "execution_count": null,
   "id": "ad00cd7a-afe0-48d5-8c91-e6cb8b36606e",
   "metadata": {},
   "outputs": [],
   "source": [
    "highs = Series([33, 38, 27, 24, 23, 24, 25, 27, 32, 35],\n",
    "          index='Fri Sat Sun Mon Tue Wed Thu Fri Sat Sun'.split())\n",
    "lows = Series([19, 19, 17, 16, 16, 15, 14, 16, 19, 21],\n",
    "          index='Fri Sat Sun Mon Tue Wed Thu Fri Sat Sun'.split())\n",
    "diffs = highs - lows\n",
    "diffs.mean()"
   ]
  },
  {
   "cell_type": "code",
   "execution_count": null,
   "id": "762dd6d0-6b92-4cb1-911c-70e64f2613c2",
   "metadata": {},
   "outputs": [],
   "source": [
    "np.random.seed(0)\n",
    "s = Series (np.random.randit(0,1000,10), index = list ('abcdefghij'))\n",
    "s"
   ]
  },
  {
   "cell_type": "code",
   "execution_count": null,
   "id": "a6faf3b5-916c-4e9a-80b4-0260d78e58c8",
   "metadata": {},
   "outputs": [],
   "source": [
    "import numpy as np\n",
    "import pandas as pd\n",
    "from pandas import Series, DataFrame\n",
    "\n",
    "np.random.seed(0)\n",
    "s = Series (np.random.randit(1,1000,20),\n",
    "            index = list ('abcdefghijklmnopqrst'))\n",
    "s\n",
    "            "
   ]
  },
  {
   "cell_type": "code",
   "execution_count": null,
   "id": "dfa61e82-3767-4f50-9127-58b85d7bed41",
   "metadata": {},
   "outputs": [],
   "source": [
    "import pandas as pd\n",
    "import numpy as np\n",
    "from pandas import Series, DataFrame\n"
   ]
  },
  {
   "cell_type": "code",
   "execution_count": null,
   "id": "959ca904-167f-4529-929e-5dfc8dd0971d",
   "metadata": {},
   "outputs": [],
   "source": [
    "np.random.seed(0)\n",
    "from pandas import Series, DataFrame\n",
    "s = pd.Series (np.random.randint(1,1000,20),\n",
    "            index = list ('abcdefghijklmnopqrst'))\n",
    "s"
   ]
  },
  {
   "cell_type": "code",
   "execution_count": null,
   "id": "3b9b910d-9bc2-4e0a-9495-888981479435",
   "metadata": {},
   "outputs": [],
   "source": [
    "import pandas as pd\n",
    "import numpy as np\n",
    "from pandas import Series, DataFrame\n"
   ]
  },
  {
   "cell_type": "code",
   "execution_count": null,
   "id": "848c0548-a028-48bf-9820-4af3db4ce38f",
   "metadata": {},
   "outputs": [],
   "source": [
    "s.mean()\n",
    "s.loc [ s>s.mean() - s.std()]\n",
    "s.loc[ s>s.mean() + s.std()]\n",
    "s.loc[(s>s.mean() +s.std()) & (s<s.mean() -s.std())]"
   ]
  },
  {
   "cell_type": "code",
   "execution_count": null,
   "id": "1e74f56e-9774-4d0a-9d32-65ba5a87cab7",
   "metadata": {},
   "outputs": [],
   "source": [
    "np.random.seed(0)\n",
    "s = np.random.randint(1,10,1)\n"
   ]
  },
  {
   "cell_type": "code",
   "execution_count": null,
   "id": "70b55b04-81fe-4284-9e92-207871fef7c4",
   "metadata": {},
   "outputs": [],
   "source": [
    "np.random.seed(0)   # this makes it consistent across platforms\n",
    "s = Series(np.random.randint(0, 1000, 10),\n",
    "           index=list('abcdefghij'))\n",
    "s"
   ]
  },
  {
   "cell_type": "code",
   "execution_count": null,
   "id": "e49a63e1-87b8-4b8f-9ccc-a0f7e8bb57f6",
   "metadata": {},
   "outputs": [],
   "source": [
    "np.random.seed(0)\n",
    "s = Series(np.random.randint(1,1000,20),\n",
    "            index = list('abcdefghijklmnopqrst'))\n",
    "s"
   ]
  },
  {
   "cell_type": "code",
   "execution_count": null,
   "id": "037aec91-df4a-49e5-a669-4e388e1bdac0",
   "metadata": {},
   "outputs": [],
   "source": [
    "import pandas as pd\n",
    "import numpy as np\n",
    "from pandas import Series, DataFrame\n",
    "np.random.seed(0)\n",
    "s = Series(np.random.randint(1,1000,20),\n",
    "            index = list('abcdefghijklmnopqrst'))\n",
    "s\n",
    "\n",
    "s.mean()\n",
    "s.loc [ s<s.mean() - s.std()]\n",
    "s.loc[ s>s.mean() + s.std()]\n",
    "s.loc[(s>s.mean() +s.std()) & (s<s.mean() -s.std())]"
   ]
  },
  {
   "cell_type": "code",
   "execution_count": null,
   "id": "23a89e47-1485-4839-a7ed-476b28eca609",
   "metadata": {},
   "outputs": [],
   "source": [
    "import pandas as pd\n",
    "import numpy as np\n",
    "from pandas import Series, DataFrame"
   ]
  },
  {
   "cell_type": "code",
   "execution_count": null,
   "id": "0a11ac91-49ad-463c-9ed6-4a2c232a2e71",
   "metadata": {},
   "outputs": [],
   "source": [
    "s = Series ([10,20,30,40,50])\n",
    "s"
   ]
  },
  {
   "cell_type": "code",
   "execution_count": null,
   "id": "e32136a9-4deb-4d59-89da-6b816436111e",
   "metadata": {},
   "outputs": [],
   "source": [
    "s.index = list ('abcde')"
   ]
  },
  {
   "cell_type": "code",
   "execution_count": null,
   "id": "00e5b0e2-606f-4b4a-85e0-e85c8773ce51",
   "metadata": {},
   "outputs": [],
   "source": [
    "s"
   ]
  },
  {
   "cell_type": "code",
   "execution_count": null,
   "id": "8699ded5-2005-4660-a2f4-2ef107251fc7",
   "metadata": {},
   "outputs": [],
   "source": [
    "s.reset_index()"
   ]
  },
  {
   "cell_type": "code",
   "execution_count": null,
   "id": "af35fd5c-7094-4300-b17e-1fc8d2dd474c",
   "metadata": {},
   "outputs": [],
   "source": [
    "s"
   ]
  },
  {
   "cell_type": "code",
   "execution_count": null,
   "id": "533dbd2f-fa45-4e76-a444-c28b6467bded",
   "metadata": {},
   "outputs": [],
   "source": [
    "df = s.reset_index()\n",
    "df"
   ]
  },
  {
   "cell_type": "code",
   "execution_count": null,
   "id": "35f1adaf-ef12-446f-8ebe-8932d54229da",
   "metadata": {},
   "outputs": [],
   "source": [
    "highs = Series([33, 38, 27, 24, 23, 24, 25, 27, 32, 35],\n",
    "          index='0520 0521 0522 0523 0524 0525 0526 0527 0528 0529'.split())"
   ]
  },
  {
   "cell_type": "code",
   "execution_count": null,
   "id": "2c690f83-f43a-4bbe-aa5d-d9ebc9145435",
   "metadata": {},
   "outputs": [],
   "source": [
    "highs.reset_index()"
   ]
  },
  {
   "cell_type": "code",
   "execution_count": null,
   "id": "64adeaa4-4016-4a08-b350-585c9ae9040e",
   "metadata": {},
   "outputs": [],
   "source": [
    "df = highs.reset_index()\n",
    "df"
   ]
  },
  {
   "cell_type": "code",
   "execution_count": null,
   "id": "1f19c58b-fcba-4b9d-8f0d-e9a0608adc5a",
   "metadata": {},
   "outputs": [],
   "source": [
    "(\n",
    "    df\n",
    "    .set_index('index')\n",
    "    .loc['0522']\n",
    ")"
   ]
  },
  {
   "cell_type": "code",
   "execution_count": null,
   "id": "0c8f3e10-178b-4dc0-a9ce-61d483c550e8",
   "metadata": {},
   "outputs": [],
   "source": [
    "(\n",
    "    df\n",
    "    .set_index('index')\n",
    "    .loc['0525']\n",
    ")"
   ]
  },
  {
   "cell_type": "code",
   "execution_count": null,
   "id": "f4c8f44e-8d70-4baa-a56b-1d1f37258a6f",
   "metadata": {},
   "outputs": [],
   "source": [
    "(\n",
    "    df\n",
    "    .set_index('index')\n",
    "    .loc[['0522', '0525']]\n",
    ")"
   ]
  },
  {
   "cell_type": "code",
   "execution_count": null,
   "id": "b756473b-472c-42e5-9fff-a81c0f3e5e9f",
   "metadata": {},
   "outputs": [],
   "source": [
    "df.loc[3]"
   ]
  },
  {
   "cell_type": "code",
   "execution_count": null,
   "id": "ad0f2556-af1c-46ff-940c-6d6e45d48d95",
   "metadata": {},
   "outputs": [],
   "source": [
    "df.loc[[3,7,2]]"
   ]
  },
  {
   "cell_type": "code",
   "execution_count": null,
   "id": "460c8158-c876-41c6-8a58-784ef5971031",
   "metadata": {},
   "outputs": [],
   "source": [
    "s = Series ([10,20,30,40,50,60,70,80,90,100], index = 'abcdefghij'.split(), dtype =np.int32)\n",
    "s"
   ]
  },
  {
   "cell_type": "code",
   "execution_count": null,
   "id": "d95c0563-b8df-4ffa-b4f9-458a02104e40",
   "metadata": {},
   "outputs": [],
   "source": [
    "s = pd.Series([10, 20, 30, 40, 50, 60, 70, 80, 90, 100], \n",
    "              index='abcdefghij'.split(), \n",
    "              dtype=np.int32)"
   ]
  },
  {
   "cell_type": "code",
   "execution_count": null,
   "id": "76bc3f4d-ebfc-4dd3-aeaa-6c436cf9dd5f",
   "metadata": {},
   "outputs": [],
   "source": [
    "s = Series([33, 38, 27, 24, 23, 24, 25, 27, 32, 35],\n",
    "          index='a b c d e f g h i j'.split(), dtype = np.int32)\n",
    "s"
   ]
  },
  {
   "cell_type": "code",
   "execution_count": null,
   "id": "e9244bc2-f8e3-40c8-bfaa-01ea214ab7ef",
   "metadata": {},
   "outputs": [],
   "source": [
    "s.loc[['a','j']]*1000"
   ]
  },
  {
   "cell_type": "code",
   "execution_count": null,
   "id": "88d8567a-b6f0-4415-aa69-d83b32ff7a17",
   "metadata": {},
   "outputs": [],
   "source": [
    "s = Series([33.1, 38.2, 27.3, 24.4, 23.5, 24.6, 25.7, 27.8, 32.9, 35.01],\n",
    "          index='a b c d e f g h i j'.split(), dtype = np.float32)\n",
    "s"
   ]
  },
  {
   "cell_type": "code",
   "execution_count": null,
   "id": "1e8ab330-8c9b-45e4-a3b8-4fc18f3ec135",
   "metadata": {},
   "outputs": [],
   "source": [
    "s = Series([33.1, 38.2, 27.3, 24.4, 23.5, 24.6, 25.7, 27.8, 32.9, 35.01],\n",
    "          index='a b c d e f g h i j'.split(), dtype = np.float64)\n",
    "s"
   ]
  },
  {
   "cell_type": "code",
   "execution_count": null,
   "id": "43f74184-67ea-4b04-afda-b1e6f7c8e421",
   "metadata": {},
   "outputs": [],
   "source": [
    "s.loc[['a','j']]*1000"
   ]
  },
  {
   "cell_type": "code",
   "execution_count": null,
   "id": "620801f8-9a0f-4e60-acc3-bf7d05dad158",
   "metadata": {},
   "outputs": [],
   "source": [
    "import pandas as pd\n",
    "import numpy as np\n",
    "from pandas import Series, DataFrame\n",
    "s = Series([10,20,30.5,40,50], dtype = np.float16)\n",
    "s"
   ]
  },
  {
   "cell_type": "code",
   "execution_count": null,
   "id": "9b3069a9-4234-4553-8df1-aaf21eae74ed",
   "metadata": {},
   "outputs": [],
   "source": [
    "s.round(1)"
   ]
  },
  {
   "cell_type": "code",
   "execution_count": null,
   "id": "bc1aa98e-3bbe-4189-ab6d-aa24f9b03193",
   "metadata": {},
   "outputs": [],
   "source": [
    "s = Series (['hello', 'Que'])\n",
    "s"
   ]
  },
  {
   "cell_type": "code",
   "execution_count": null,
   "id": "11817777-b58f-4d0d-8843-6f2f59b7eaaa",
   "metadata": {},
   "outputs": [],
   "source": [
    "s = Series([58, 54, 22, 20, 14], dtype = np.float16)\n",
    "s"
   ]
  },
  {
   "cell_type": "code",
   "execution_count": null,
   "id": "60c1f4aa-b7cf-4c45-9d5f-c6e7f287d6d2",
   "metadata": {},
   "outputs": [],
   "source": [
    "s = Series([57.5, 54.4, 22, 20.5, 14.125], dtype = np.float16)\n",
    "s"
   ]
  },
  {
   "cell_type": "code",
   "execution_count": null,
   "id": "7d91db7b-3a28-4aac-8e48-c4e803243bd2",
   "metadata": {},
   "outputs": [],
   "source": [
    "s = Series([57.5, 54.4, 22, 20.5, 14.125], dtype = np.float32)\n",
    "s"
   ]
  },
  {
   "cell_type": "code",
   "execution_count": null,
   "id": "8f6b6291-60dc-44f3-a959-a5c091c1e5bb",
   "metadata": {},
   "outputs": [],
   "source": [
    "s*365*24*60*60"
   ]
  },
  {
   "cell_type": "code",
   "execution_count": null,
   "id": "719f0c75-8b80-49fa-841c-438c1c5d9a5c",
   "metadata": {},
   "outputs": [],
   "source": [
    "s = Series([57.5, 54.4, 22, 20.5, 14.125], dtype = np.float64)\n",
    "s*365*24*60*60"
   ]
  },
  {
   "cell_type": "code",
   "execution_count": null,
   "id": "bbfb0a61-46b1-49c5-8854-db102eefa81a",
   "metadata": {},
   "outputs": [],
   "source": [
    "s = Series([58, 54, 22, 20, 14], dtype = np.int8)\n",
    "s*365*86400"
   ]
  },
  {
   "cell_type": "code",
   "execution_count": null,
   "id": "c91e83d2-c600-4a95-bece-59166f8bce9a",
   "metadata": {},
   "outputs": [],
   "source": [
    "s = Series ('10 20 30'.split())\n",
    "s+s"
   ]
  },
  {
   "cell_type": "code",
   "execution_count": null,
   "id": "3e68c5a7-ce20-4d59-9792-66bd3f92b7b9",
   "metadata": {},
   "outputs": [],
   "source": [
    "s*3"
   ]
  },
  {
   "cell_type": "code",
   "execution_count": null,
   "id": "75c04f8b-2cdc-49cc-b96d-82279271a31b",
   "metadata": {},
   "outputs": [],
   "source": [
    "s.astype('int64')*3"
   ]
  },
  {
   "cell_type": "code",
   "execution_count": null,
   "id": "569b2cc8-f6fd-44eb-9d4b-36dc3b817a5a",
   "metadata": {},
   "outputs": [],
   "source": [
    "Series (['10 20 30'.split()], dtype = int64)\n",
    "s"
   ]
  },
  {
   "cell_type": "code",
   "execution_count": null,
   "id": "2c259381-3f28-47a9-899f-f54ae992ae40",
   "metadata": {},
   "outputs": [],
   "source": [
    "s = Series([10, 20, 30, 'hello'], dtype = int8)\n",
    "s.astype('int8', errors ='ignore')"
   ]
  },
  {
   "cell_type": "code",
   "execution_count": null,
   "id": "d443449d-5f2d-43c0-92ac-29f54f63d56d",
   "metadata": {},
   "outputs": [],
   "source": [
    "Series(np.random.randint(0,100,10))"
   ]
  },
  {
   "cell_type": "code",
   "execution_count": null,
   "id": "f52e06bf-f167-40c8-a939-be9e30dcf752",
   "metadata": {},
   "outputs": [],
   "source": [
    "Series(np.random.rand(10))*100"
   ]
  },
  {
   "cell_type": "raw",
   "id": "8b70b7c7-c41a-4de0-ae89-1c4b67acec6a",
   "metadata": {},
   "source": [
    "import numpy as np\n"
   ]
  },
  {
   "cell_type": "code",
   "execution_count": null,
   "id": "e7d726fa-476a-41da-9f5d-923c9bb30a79",
   "metadata": {},
   "outputs": [],
   "source": [
    "s = pd.Series(np.random.uniform(0,1000,10))\n",
    "s"
   ]
  },
  {
   "cell_type": "code",
   "execution_count": null,
   "id": "5e1cb9b2-99fb-4729-9b1c-f7d5dc922957",
   "metadata": {},
   "outputs": [],
   "source": [
    "s.astype(int)"
   ]
  },
  {
   "cell_type": "code",
   "execution_count": null,
   "id": "e18727ec-e966-431c-8d45-4c4f91223a43",
   "metadata": {},
   "outputs": [],
   "source": [
    "s.loc[s.astype(int) %2 ==0].mean()"
   ]
  },
  {
   "cell_type": "code",
   "execution_count": null,
   "id": "b6d60acf-52dd-4ff2-b758-b7c568c82696",
   "metadata": {},
   "outputs": [],
   "source": [
    "type(np.nan)"
   ]
  },
  {
   "cell_type": "code",
   "execution_count": null,
   "id": "f55d69d9-2b64-4b5d-ba6d-03cb3a681ec9",
   "metadata": {},
   "outputs": [],
   "source": [
    "np.nan ==0"
   ]
  },
  {
   "cell_type": "code",
   "execution_count": null,
   "id": "e7724df4-f9a2-4104-851a-e98e9632b60c",
   "metadata": {},
   "outputs": [],
   "source": [
    "np.nan ==np.nan"
   ]
  },
  {
   "cell_type": "code",
   "execution_count": null,
   "id": "6f3765b3-f11b-4f10-9c31-a4a006f95c72",
   "metadata": {},
   "outputs": [],
   "source": [
    "s = Series([10,20,30])\n",
    "s.loc[1]=np.nan\n",
    "s"
   ]
  },
  {
   "cell_type": "code",
   "execution_count": null,
   "id": "4f92100b-be7f-4044-9055-83af34999e34",
   "metadata": {},
   "outputs": [],
   "source": [
    "s.loc[s != np.nan]"
   ]
  },
  {
   "cell_type": "code",
   "execution_count": null,
   "id": "d0cbe61f-8858-4442-a9b0-1e2fdd5193e4",
   "metadata": {},
   "outputs": [],
   "source": [
    "s = Series([10,20,np.nan,40,50])\n",
    "s.mean()"
   ]
  },
  {
   "cell_type": "code",
   "execution_count": null,
   "id": "3f42e161-fea0-488f-9833-e7689e3c01f3",
   "metadata": {},
   "outputs": [],
   "source": [
    "s.mean(skipna = False)"
   ]
  },
  {
   "cell_type": "code",
   "execution_count": null,
   "id": "a03964df-3c1c-4fa2-86f7-1933bdbd1ddf",
   "metadata": {},
   "outputs": [],
   "source": [
    "s = Series([10,20,30,np.nan,np.nan,np.nan, 70,80,90,100])\n",
    "s.mean()"
   ]
  },
  {
   "cell_type": "code",
   "execution_count": null,
   "id": "0032c6f0-6b60-4d20-b57e-874ded8f40e9",
   "metadata": {},
   "outputs": [],
   "source": [
    "s.mean(skipna= False)"
   ]
  },
  {
   "cell_type": "code",
   "execution_count": null,
   "id": "874f5b47-a4af-4825-a9a0-1ceb53a9239c",
   "metadata": {},
   "outputs": [],
   "source": [
    "s = Series([10,20,30,'nan','nan','nan', 70,80,90,100])\n",
    "s = s.replace('nan',np.nan)\n",
    "s.mean()"
   ]
  },
  {
   "cell_type": "code",
   "execution_count": null,
   "id": "315da278-302a-4c50-8e5b-9314f85c15da",
   "metadata": {},
   "outputs": [],
   "source": [
    "s = Series([10,20,30,40,50])\n",
    "s.index = list('abcde')\n",
    "s.index"
   ]
  },
  {
   "cell_type": "code",
   "execution_count": null,
   "id": "e981a3a4-148e-4fbf-b3a2-5cc778784fad",
   "metadata": {},
   "outputs": [],
   "source": [
    "s.reset_index"
   ]
  },
  {
   "cell_type": "code",
   "execution_count": null,
   "id": "cd276d6a-3fc1-4828-b650-7cca49798186",
   "metadata": {},
   "outputs": [],
   "source": [
    "df = s.reset_index()\n",
    "df\n",
    "df.set_index('index')\n",
    "(\n",
    "    df\n",
    "    .set_index('index')\n",
    "    .loc['c']\n",
    ")"
   ]
  },
  {
   "cell_type": "code",
   "execution_count": null,
   "id": "7fc85036-aef9-4b81-a69b-69fb864aff13",
   "metadata": {},
   "outputs": [],
   "source": [
    "s = Series([28, 31, 34, 36, 33,   34, 34, 34, 33, 31],\n",
    "           index='0531 0601 0602 0603 0604 0605 0606 0607 0608 0609'.split())\n",
    "s"
   ]
  },
  {
   "cell_type": "code",
   "execution_count": null,
   "id": "5b73cde8-7d72-4e87-8546-146d3a16cde8",
   "metadata": {},
   "outputs": [],
   "source": [
    "s.reset_index()  "
   ]
  },
  {
   "cell_type": "code",
   "execution_count": null,
   "id": "859d0e91-f905-4998-a63d-38f5dc030364",
   "metadata": {},
   "outputs": [],
   "source": [
    "# 3. Use a mask index to retrieve the projected high temps for June 2 and June 5.\n",
    "\n",
    "\n",
    "(\n",
    "    s\n",
    "    .reset_index()\n",
    "    .loc[(s.index == '0602') | (s.index == '0605')]  # show rows of s, post resetting index, where the index is 0602 or 0605\n",
    ")"
   ]
  },
  {
   "cell_type": "code",
   "execution_count": null,
   "id": "3e9002cb-9fb2-4395-b5ef-be0a35fd6c76",
   "metadata": {},
   "outputs": [],
   "source": [
    "# there is an \"isin\" method \n",
    "\n",
    "(\n",
    "    s\n",
    "    .loc[(s.index.isin(['0602', '0605']))]\n",
    "    .reset_index()\n",
    ")"
   ]
  },
  {
   "cell_type": "code",
   "execution_count": null,
   "id": "a196d001-0d52-46d3-be64-da15674f02e3",
   "metadata": {},
   "outputs": [],
   "source": [
    "# Use set_index and .loc to achieve the same goal (but, I hope, in a nicer/more compact way).\n",
    "\n",
    "df = s.reset_index()\n",
    "df"
   ]
  },
  {
   "cell_type": "code",
   "execution_count": null,
   "id": "83e009a0-cd0f-4a7a-b35a-8349c32cbd3e",
   "metadata": {},
   "outputs": [],
   "source": [
    "(\n",
    "    df                          # we have our data frame with the default (range) index and two columns, \"index\" and 0\n",
    "    .set_index('index')         # use the \"index\" column as the data frame's index\n",
    "    .loc[ ['0602', '0605'] ]    # use fancy indexing and .loc to retrieve two rows from that data frame\n",
    ")"
   ]
  },
  {
   "cell_type": "code",
   "execution_count": null,
   "id": "e836a785-daee-41a8-ac0a-3ddc13787e1e",
   "metadata": {},
   "outputs": [],
   "source": [
    "df['index']   # show me the column named \"index\" in the data frame df"
   ]
  },
  {
   "cell_type": "code",
   "execution_count": null,
   "id": "57cf57a0-5ba4-435c-a0bc-a44a12cd6c22",
   "metadata": {},
   "outputs": [],
   "source": [
    "df"
   ]
  },
  {
   "cell_type": "code",
   "execution_count": null,
   "id": "256adc56-65a4-4aac-a50b-9d66dc9163ca",
   "metadata": {},
   "outputs": [],
   "source": [
    "df.loc[ [2,4,7] ]"
   ]
  },
  {
   "cell_type": "code",
   "execution_count": null,
   "id": "d75932a6-1352-47b8-a34d-363046872192",
   "metadata": {},
   "outputs": [],
   "source": [
    "(\n",
    "    df\n",
    "    .set_index('index')\n",
    "    .loc[['0602','0604', '0607']] \n",
    ")"
   ]
  },
  {
   "cell_type": "code",
   "execution_count": null,
   "id": "e7f43ba9-499c-417c-b54f-321b989b5bfd",
   "metadata": {},
   "outputs": [],
   "source": [
    "# get a boolean series showing when df[0] (the max temp) will be higher than the mean\n",
    "# for max temps \n",
    "\n",
    "df[0] > df[0].mean()"
   ]
  },
  {
   "cell_type": "code",
   "execution_count": null,
   "id": "01cf545d-61c9-4f17-84d3-02428823f87a",
   "metadata": {},
   "outputs": [],
   "source": [
    "# Given this, I can now apply it (with .loc) to df, and get only those rows where df[0] > mean\n",
    "\n",
    "df.loc[  df[0] > df[0].mean()   ]"
   ]
  },
  {
   "cell_type": "code",
   "execution_count": null,
   "id": "8aff31fd-8d48-48b6-9b47-0f604506cf20",
   "metadata": {},
   "outputs": [],
   "source": [
    "import pandas as pd\n",
    "from pandas import Series, DataFrame\n",
    "s = Series([10,20,30],dtype = 'int8')\n",
    "s"
   ]
  },
  {
   "cell_type": "code",
   "execution_count": null,
   "id": "f84baff9-4c24-4873-a6b7-48428a9c2843",
   "metadata": {},
   "outputs": [],
   "source": [
    "2**8"
   ]
  },
  {
   "cell_type": "code",
   "execution_count": null,
   "id": "5a08a01c-1bc1-4d98-8aba-f62328237e90",
   "metadata": {},
   "outputs": [],
   "source": [
    "s+98"
   ]
  },
  {
   "cell_type": "code",
   "execution_count": null,
   "id": "d5663f78-431d-4c41-b8a6-1db2e9743eb5",
   "metadata": {},
   "outputs": [],
   "source": [
    "s = Series([10,20,30],dtype = 'uint8')\n",
    "s+200"
   ]
  },
  {
   "cell_type": "code",
   "execution_count": null,
   "id": "d1ecfd2c-d3c9-4477-a340-afce1c887938",
   "metadata": {},
   "outputs": [],
   "source": [
    "s = Series([10,20,30],dtype = 'int8')\n",
    "s.memory_usage()"
   ]
  },
  {
   "cell_type": "code",
   "execution_count": null,
   "id": "c50f5429-59e9-4069-b004-9162420ff79a",
   "metadata": {},
   "outputs": [],
   "source": [
    "s = Series([10,20,30,40,50,60],dtype = 'int8')\n",
    "s.memory_usage()"
   ]
  },
  {
   "cell_type": "code",
   "execution_count": null,
   "id": "16fb8620-54b3-4162-8dd5-7ae191e19fac",
   "metadata": {},
   "outputs": [],
   "source": [
    "s = Series([10,20,30,40,50,60],dtype = 'int64')\n",
    "s.memory_usage()"
   ]
  },
  {
   "cell_type": "code",
   "execution_count": null,
   "id": "2df9ecde-3cf9-4de7-bfc5-540ba47142de",
   "metadata": {},
   "outputs": [],
   "source": [
    "s = Series([10,20.2,30.5,40,50,60],dtype = 'float16')\n",
    "s"
   ]
  },
  {
   "cell_type": "code",
   "execution_count": null,
   "id": "ceac94ce-f540-44e8-8544-aa4624ca9962",
   "metadata": {},
   "outputs": [],
   "source": [
    "type(s.loc[2])"
   ]
  },
  {
   "cell_type": "code",
   "execution_count": null,
   "id": "22b73b94-3248-4e73-bd99-048374066ce9",
   "metadata": {},
   "outputs": [],
   "source": [
    "\n",
    "s = Series(['a','b','c','d'])\n",
    "s.memory_usage()"
   ]
  },
  {
   "cell_type": "code",
   "execution_count": null,
   "id": "46332c49-cd2e-4017-bd5b-dedc125b118e",
   "metadata": {},
   "outputs": [],
   "source": [
    "s = Series(['a'*5000,'b'*6000,'c'*7000,'d'*8000])\n",
    "s.memory_usage()"
   ]
  },
  {
   "cell_type": "code",
   "execution_count": null,
   "id": "b4205385-419b-40ba-8f0a-78a53e304ba7",
   "metadata": {},
   "outputs": [],
   "source": [
    "s.memory_usage(deep=True)"
   ]
  },
  {
   "cell_type": "code",
   "execution_count": null,
   "id": "ec4cd2ce-6273-448c-8053-7865ffe66ce1",
   "metadata": {},
   "outputs": [],
   "source": [
    "s = Series([14.1,20.5,22.1,58.6,54.7],dtype = 'float32')\n",
    "s.memory_usage()"
   ]
  },
  {
   "cell_type": "code",
   "execution_count": null,
   "id": "2aa0923c-6623-4b56-94c4-271b2cef95ec",
   "metadata": {},
   "outputs": [],
   "source": [
    "s*365*24*3600"
   ]
  },
  {
   "cell_type": "code",
   "execution_count": null,
   "id": "e566a720-2a5a-4fc6-878f-4d97075df3c2",
   "metadata": {},
   "outputs": [],
   "source": [
    "s.memory_usage()"
   ]
  },
  {
   "cell_type": "code",
   "execution_count": null,
   "id": "2989c4ad-5d24-4e22-bd88-7898aa99b18a",
   "metadata": {},
   "outputs": [],
   "source": [
    "s = Series([14.1,20.5,22.1,58.6,54.7])\n",
    "s=s.astype('int', errors ='ignore')\n",
    "type(s.loc[0])"
   ]
  },
  {
   "cell_type": "code",
   "execution_count": null,
   "id": "4d4857e3-3b12-4c7e-9345-4407a46c5666",
   "metadata": {},
   "outputs": [],
   "source": [
    "np.random.seed(0)\n",
    "s = Series(np.random.uniform(0,1000,10))\n",
    "s"
   ]
  },
  {
   "cell_type": "code",
   "execution_count": null,
   "id": "26a7a4c1-e22c-48b6-8fa0-575babc88890",
   "metadata": {},
   "outputs": [],
   "source": [
    "s = s.astype('int', errors = 'ignore')\n",
    "s"
   ]
  },
  {
   "cell_type": "code",
   "execution_count": null,
   "id": "55baf2ba-6f36-423a-9490-c9c788bbc067",
   "metadata": {},
   "outputs": [],
   "source": [
    "s_even = s.loc[s%2 ==0]\n",
    "(s_even).mean()"
   ]
  },
  {
   "cell_type": "code",
   "execution_count": null,
   "id": "453e1b4e-fb83-45f6-a53d-d8fb8c0f5251",
   "metadata": {},
   "outputs": [],
   "source": [
    "np.random.seed(0)\n",
    "s = Series(np.random.uniform(0,1000,10))\n",
    "s.loc[s.astype('int')%2 ==0].mean()"
   ]
  },
  {
   "cell_type": "code",
   "execution_count": null,
   "id": "89a71125-f88d-4da1-b778-177915518e24",
   "metadata": {},
   "outputs": [],
   "source": [
    "s = Series([10,20,np.nan,40,50,np.nan,70])\n",
    "s.dropna()"
   ]
  },
  {
   "cell_type": "code",
   "execution_count": null,
   "id": "bb99af8d-7544-49e3-9833-c055fdd39d36",
   "metadata": {},
   "outputs": [],
   "source": [
    "s.fillna(s.mean())"
   ]
  },
  {
   "cell_type": "code",
   "execution_count": null,
   "id": "b45bdd06-7c6c-471a-8fb6-3eba60a2bf36",
   "metadata": {},
   "outputs": [],
   "source": [
    "s.interpolate()"
   ]
  },
  {
   "cell_type": "code",
   "execution_count": null,
   "id": "221b50e5-7b62-4b01-bd7e-c89affd26667",
   "metadata": {},
   "outputs": [],
   "source": [
    "import pandas as pd\n",
    "\n",
    "df = DataFrame( high =[28, 31, 34, 36, 33,   34, ],low = [10,11,12,13,14,15],\n",
    "           index=['Monday', 'Tuesday', 'Wednesday', 'Thursday', 'Friday','Saturday'])\n",
    "s"
   ]
  },
  {
   "cell_type": "code",
   "execution_count": null,
   "id": "216b35b9-b389-4fbd-81c7-22ee1cffbfb2",
   "metadata": {},
   "outputs": [],
   "source": [
    "import pandas as pd\n",
    "from pandas import Series, DataFrame\n",
    "!ls ../data/*.csv\n",
    "!head ../data/taxi.csv\n",
    "\n",
    "df = pd.read_csv('../data/taxi.csv')\n",
    "df.describe()\n",
    "\n"
   ]
  },
  {
   "cell_type": "code",
   "execution_count": null,
   "id": "31f7b2b8-3f05-4227-bbf8-93e28b0c25f9",
   "metadata": {},
   "outputs": [],
   "source": [
    "df.loc[ df['passenger_count']== 1, ['trip_distance', 'total_amount']].mean()"
   ]
  },
  {
   "cell_type": "code",
   "execution_count": null,
   "id": "c2f282e5-00c2-4fa5-9503-993caaf971dd",
   "metadata": {},
   "outputs": [],
   "source": [
    "df.loc[\n",
    "     ((df['passenger_count'] == 1)  |  (df['passenger_count'] == 2))    # row selector\n",
    "     ,\n",
    "     ['trip_distance', 'total_amount'] # column selector\n",
    "].mean()"
   ]
  },
  {
   "cell_type": "code",
   "execution_count": null,
   "id": "722848f3-4d5c-4a75-bf25-fb13ea7204a0",
   "metadata": {},
   "outputs": [],
   "source": [
    "import pandas as pd\n",
    "from pandas import Series, DataFrame\n",
    "df = DataFrame([[10, 20, 30],\n",
    "            [40, 50, 60], \n",
    "            [70, 80, 90], \n",
    "            [100, 110, 120]],\n",
    "              index=list('abcd'),\n",
    "              columns=list('xyz'))\n",
    "df\n"
   ]
  },
  {
   "cell_type": "code",
   "execution_count": null,
   "id": "f82c386e-f391-4372-9e95-2d4f691ffffc",
   "metadata": {},
   "outputs": [],
   "source": [
    "df.loc['b'].loc['y']"
   ]
  },
  {
   "cell_type": "code",
   "execution_count": null,
   "id": "37ed0e0d-78a0-4479-968d-56f333f49d61",
   "metadata": {},
   "outputs": [],
   "source": [
    "df.loc['b']['y'] = 999\n"
   ]
  },
  {
   "cell_type": "code",
   "execution_count": null,
   "id": "216072f5-a188-412d-a9b2-da331ae61d17",
   "metadata": {},
   "outputs": [],
   "source": [
    "df.loc['b', 'y'] = 888"
   ]
  },
  {
   "cell_type": "code",
   "execution_count": null,
   "id": "3ac4561d-9ecb-4cad-85f3-14656def3803",
   "metadata": {},
   "outputs": [],
   "source": [
    "df"
   ]
  },
  {
   "cell_type": "code",
   "execution_count": null,
   "id": "733f9f79-a507-4a7a-ade8-18f4e2d826c9",
   "metadata": {},
   "outputs": [],
   "source": [
    "df.loc['b', ['y', 'z']] = 777\n",
    "df"
   ]
  },
  {
   "cell_type": "code",
   "execution_count": null,
   "id": "63a25963-5221-4684-898a-e892d186ef39",
   "metadata": {},
   "outputs": [],
   "source": [
    "# rows = index, columns = name or column names\n",
    "# each col is a panda series, can use index to identify each element. Col has dtype but row can have combi of dtype & object\n",
    "df = DataFrame([[10,20,30],[40,50,60], [70,80,90]])\n",
    "df\n"
   ]
  },
  {
   "cell_type": "code",
   "execution_count": null,
   "id": "3bea84c9-f079-455b-96fd-7856b06582c0",
   "metadata": {},
   "outputs": [],
   "source": [
    "df = DataFrame([[10,20,30],[40,50,60], [70,80,90], [100,110,120]], index = list('abcd'), columns= list('xyz'))\n",
    "df"
   ]
  },
  {
   "cell_type": "code",
   "execution_count": null,
   "id": "f8d5cad3-a603-4f5a-a567-289f2c27b97d",
   "metadata": {},
   "outputs": [],
   "source": [
    "df.loc[['a','c']]"
   ]
  },
  {
   "cell_type": "code",
   "execution_count": null,
   "id": "e2bc9569-4057-44d9-bddb-f9d420ec95f1",
   "metadata": {},
   "outputs": [],
   "source": [
    "df[['x','y']]"
   ]
  },
  {
   "cell_type": "code",
   "execution_count": null,
   "id": "727871af-d8bc-4ddb-8d7c-44c5f4e92f91",
   "metadata": {},
   "outputs": [],
   "source": [
    "df['x'].mean()"
   ]
  },
  {
   "cell_type": "code",
   "execution_count": null,
   "id": "fc34b993-4661-46ca-b160-1c23a54bbe44",
   "metadata": {},
   "outputs": [],
   "source": [
    "df.mean()"
   ]
  },
  {
   "cell_type": "code",
   "execution_count": null,
   "id": "b1d0fc1a-d1b8-47cb-a2e8-61aac1f8b384",
   "metadata": {},
   "outputs": [],
   "source": [
    "df.sum()"
   ]
  },
  {
   "cell_type": "code",
   "execution_count": null,
   "id": "f9a456c4-d5b3-46fe-aff0-1d88bf82708a",
   "metadata": {},
   "outputs": [],
   "source": [
    "df.describe()"
   ]
  },
  {
   "cell_type": "code",
   "execution_count": null,
   "id": "75109649-3c51-4e85-928b-dcdf2b05c99f",
   "metadata": {},
   "outputs": [],
   "source": [
    "df.mean(axis = 'columns')"
   ]
  },
  {
   "cell_type": "code",
   "execution_count": null,
   "id": "ecfbb345-8cb6-44be-9858-2665e73aad17",
   "metadata": {},
   "outputs": [],
   "source": [
    "df['w'] = 'silly billy Que Vuong'.split()\n",
    "df"
   ]
  },
  {
   "cell_type": "code",
   "execution_count": null,
   "id": "daa45339-5e91-4a8b-a03e-68338b827cb6",
   "metadata": {},
   "outputs": [],
   "source": [
    "df.describe()"
   ]
  },
  {
   "cell_type": "code",
   "execution_count": null,
   "id": "cf041d5a-d63e-4f2a-bd2c-bf34c89e4645",
   "metadata": {},
   "outputs": [],
   "source": [
    "df['w'].describe()"
   ]
  },
  {
   "cell_type": "code",
   "execution_count": null,
   "id": "cd4b6724-13f3-4521-9f73-4c092b29304e",
   "metadata": {},
   "outputs": [],
   "source": [
    "df = DataFrame([[10,20],[40,50], [70,80],[40,60],[70,80],[90,100], [100,110]], index = 'Mon Tues Wed Thur Fri Sat Sun'.split(), columns= ['high','low'])\n",
    "df"
   ]
  },
  {
   "cell_type": "code",
   "execution_count": null,
   "id": "c9a8b0d6-ddc7-4686-a833-470cefdbc5da",
   "metadata": {},
   "outputs": [],
   "source": [
    "df.mean(axis = 'columns')"
   ]
  },
  {
   "cell_type": "markdown",
   "id": "94bc1ed9-78bf-48bb-8149-6dcaf126ae61",
   "metadata": {},
   "source": [
    "df.loc[['Wed','Fri']].mean()"
   ]
  },
  {
   "cell_type": "code",
   "execution_count": null,
   "id": "aad5ae98-fbf1-4393-9273-27601f046c03",
   "metadata": {},
   "outputs": [],
   "source": [
    "df.loc[['Fri','Tues']].mean(axis = 'columns')"
   ]
  },
  {
   "cell_type": "code",
   "execution_count": null,
   "id": "109f9f02-701b-43d2-9420-aed359ae4ddf",
   "metadata": {},
   "outputs": [],
   "source": [
    "df['precipitation'] = [1,2,3,4,5,6,7]\n",
    "df"
   ]
  },
  {
   "cell_type": "code",
   "execution_count": null,
   "id": "ba1c8b3f-6a6a-449d-9d63-69ebb52b423f",
   "metadata": {},
   "outputs": [],
   "source": [
    "df.describe()"
   ]
  },
  {
   "cell_type": "code",
   "execution_count": null,
   "id": "136aa0f1-34ad-43d3-987e-ccd30267a697",
   "metadata": {},
   "outputs": [],
   "source": [
    "!ls../data/*.csv"
   ]
  },
  {
   "cell_type": "code",
   "execution_count": null,
   "id": "bbdc41fc-b048-4e1e-b61d-f32e59f3985d",
   "metadata": {},
   "outputs": [],
   "source": [
    "df = pd.read_csv('../data/taxi.csv')\n",
    "!head ../data/taxi.csv"
   ]
  },
  {
   "cell_type": "code",
   "execution_count": null,
   "id": "1b67b878-ec8e-4b95-b023-42651b0f7b35",
   "metadata": {},
   "outputs": [],
   "source": [
    "df.shape"
   ]
  },
  {
   "cell_type": "code",
   "execution_count": null,
   "id": "1bf99d38-0e3e-4189-92f8-254587c0f7e8",
   "metadata": {},
   "outputs": [],
   "source": [
    "df.head()"
   ]
  },
  {
   "cell_type": "code",
   "execution_count": null,
   "id": "c5931895-23d0-49a1-a896-501202008c07",
   "metadata": {},
   "outputs": [],
   "source": [
    "df.tail()"
   ]
  },
  {
   "cell_type": "code",
   "execution_count": null,
   "id": "c7f7ce55-64a2-4e1f-93dc-6d4a7a78ffe4",
   "metadata": {},
   "outputs": [],
   "source": [
    "df.loc[3]"
   ]
  },
  {
   "cell_type": "code",
   "execution_count": null,
   "id": "0705165a-b33f-49b8-9b4a-dd894183f9fe",
   "metadata": {},
   "outputs": [],
   "source": [
    "df.describe()"
   ]
  },
  {
   "cell_type": "code",
   "execution_count": null,
   "id": "dcfdb3e9-4eb3-43d1-b0cb-84fe54a551bc",
   "metadata": {},
   "outputs": [],
   "source": [
    "df['trip_distance']"
   ]
  },
  {
   "cell_type": "code",
   "execution_count": null,
   "id": "020d6a49-a4f5-4834-8d52-8381bd6eee3c",
   "metadata": {},
   "outputs": [],
   "source": [
    "df[['trip_distance','total_amount']].mean()"
   ]
  },
  {
   "cell_type": "code",
   "execution_count": null,
   "id": "7853be12-a6ef-4466-a6b7-491322a09bb8",
   "metadata": {},
   "outputs": [],
   "source": [
    "df = df.loc[(df['trip_distance'] > 50) & (df['trip_distance'] < 100)]"
   ]
  },
  {
   "cell_type": "code",
   "execution_count": null,
   "id": "5d36d9ee-5327-41af-8fad-044f18bf8cf9",
   "metadata": {},
   "outputs": [],
   "source": [
    "df.loc[df['trip_distance']>50 ]"
   ]
  },
  {
   "cell_type": "code",
   "execution_count": null,
   "id": "f954a27b-79e0-4428-8ecf-fe1e53a4564a",
   "metadata": {},
   "outputs": [],
   "source": [
    "df['trip_distance'][df['passenger_count'] ==3]"
   ]
  },
  {
   "cell_type": "code",
   "execution_count": null,
   "id": "ebea2a7d-1cbf-41a1-b372-11a72b708d16",
   "metadata": {},
   "outputs": [],
   "source": [
    "df.loc[df['passenger_count'] ==3,\n",
    "        ['trip_distance']]"
   ]
  },
  {
   "cell_type": "code",
   "execution_count": null,
   "id": "821a68a1-3d90-4426-a923-4999d8c6a806",
   "metadata": {},
   "outputs": [],
   "source": [
    "df.loc[ df['passenger_count']== 1, ['trip_distance', 'total_amount']].mean()"
   ]
  },
  {
   "cell_type": "code",
   "execution_count": null,
   "id": "d24a1193-d65d-4a09-ae50-75e58b253ea2",
   "metadata": {},
   "outputs": [],
   "source": [
    "df.loc[ (df['passenger_count']== 1)|(df['passenger_count']==2), ['trip_distance', 'total_amount']].mean()"
   ]
  },
  {
   "cell_type": "code",
   "execution_count": null,
   "id": "f0b609bc-bc21-4f6c-9872-d4dbccf53028",
   "metadata": {},
   "outputs": [],
   "source": [
    "df = pd.read_csv('../data/taxi.csv',\n",
    "                usecols = ['trip_distance', 'total_amount', 'passenger_count'])"
   ]
  },
  {
   "cell_type": "code",
   "execution_count": null,
   "id": "8e21d753-dde3-4b11-9119-3c1adacca641",
   "metadata": {},
   "outputs": [],
   "source": [
    "df\n"
   ]
  },
  {
   "cell_type": "code",
   "execution_count": null,
   "id": "9f653b07-b420-4768-bb21-dbb5a8b448c6",
   "metadata": {},
   "outputs": [],
   "source": [
    "df.loc[ (df['passenger_count']).isin([1,2]), ['trip_distance', 'total_amount']].mean()"
   ]
  },
  {
   "cell_type": "code",
   "execution_count": null,
   "id": "23dea08b-bcdd-485d-a10a-be7056465e1d",
   "metadata": {},
   "outputs": [],
   "source": [
    "import pandas as pd\n",
    "from pandas import Series, DataFrame\n",
    "\n",
    "filename = '../data/taxi.csv'\n",
    "df = pd.read_csv(filename)\n",
    "df"
   ]
  },
  {
   "cell_type": "code",
   "execution_count": null,
   "id": "bbc68be8-4805-429e-ab36-130701cc7e7a",
   "metadata": {},
   "outputs": [],
   "source": [
    "help(pd.read_csv)"
   ]
  },
  {
   "cell_type": "code",
   "execution_count": null,
   "id": "cccdd641-bebc-44db-b274-c6f218deb128",
   "metadata": {},
   "outputs": [],
   "source": [
    "df = pd.read_csv(filename, usecols =['passenger_count', 'trip_distance', 'total_amount'])\n",
    "df.head()"
   ]
  },
  {
   "cell_type": "code",
   "execution_count": null,
   "id": "32322f39-3743-4e30-8b68-5d643df92e7f",
   "metadata": {},
   "outputs": [],
   "source": [
    "import numpy as np\n",
    "from pandas import Series, Dataframe\n",
    "np.random.seed(0)\n",
    "small_df = DataFrame(np.random.randint(0,1000,[3,3]))\n",
    "small_df"
   ]
  },
  {
   "cell_type": "code",
   "execution_count": null,
   "id": "820c6a97-f860-438a-be63-678625cffaf8",
   "metadata": {},
   "outputs": [],
   "source": [
    "!head../data/airlines.dat\n",
    "filename = '../data/airlines.dat'\n",
    "df = pd.read_csv(filename)\n",
    "df\n",
    "!cat airlines_data.csv\n",
    "airlines_df = pd.read_csv('airlines_data.csv', \n",
    "                       header=None,\n",
    "                      names=['airlinename', 'charactercode', 'fullname', 'country'],\n",
    "                      index_col=0)"
   ]
  },
  {
   "cell_type": "code",
   "execution_count": null,
   "id": "3ed71ed5-c353-4ca1-a1da-9e78d08fc99b",
   "metadata": {},
   "outputs": [],
   "source": [
    "!ls ../data/*.x*\n",
    "../data/titanic3.xls'\n",
    "df = pd.read_excel(filename)"
   ]
  },
  {
   "cell_type": "code",
   "execution_count": null,
   "id": "cb9219f1-7186-4f38-aa4b-973f25dca0ed",
   "metadata": {},
   "outputs": [],
   "source": [
    "import pandas as pd\n",
    "url = 'https://gist.githubusercontent.com/reuven/77edbb0292901f35019f17edb9794358/raw/2bf258763cdddd704f8ffd3ea9a3e81d25e2c6f6/cities.json'\n",
    "df = pd.read_json(url)\n",
    "df"
   ]
  },
  {
   "cell_type": "code",
   "execution_count": null,
   "id": "266f17ec-d090-4f3d-b260-28ecbd96a89b",
   "metadata": {},
   "outputs": [],
   "source": [
    "df = pd.read_json(url)\n",
    "df = df.set_index('city')[['population', 'latitude', 'state']]"
   ]
  },
  {
   "cell_type": "code",
   "execution_count": null,
   "id": "29def4ed-dc10-4608-8f38-ece5367e5548",
   "metadata": {},
   "outputs": [],
   "source": [
    "df.loc[ (df['population']).isin([1000000,10000000]).count()"
   ]
  },
  {
   "cell_type": "code",
   "execution_count": null,
   "id": "bcd128e8-f9c4-4147-9af7-164a8e702f60",
   "metadata": {},
   "outputs": [],
   "source": [
    "df.loc[df['population']>1_000_000]"
   ]
  },
  {
   "cell_type": "code",
   "execution_count": null,
   "id": "71f1c862-e921-48e4-9087-91a2fed054c1",
   "metadata": {},
   "outputs": [],
   "source": [
    "df.loc[df['population']>1_000_000].shape"
   ]
  },
  {
   "cell_type": "code",
   "execution_count": null,
   "id": "a5be6840-2729-4af2-b050-1e4e1700cf06",
   "metadata": {},
   "outputs": [],
   "source": [
    "df.loc[df['population']>1_000_000].count()"
   ]
  },
  {
   "cell_type": "code",
   "execution_count": null,
   "id": "8351ff54-ef2c-4330-b7e3-158782a99593",
   "metadata": {},
   "outputs": [],
   "source": [
    "len(df.loc[df['population']>1_000_000].index)"
   ]
  },
  {
   "cell_type": "code",
   "execution_count": null,
   "id": "744f7287-bf6c-48fb-9cad-37f1210a6e99",
   "metadata": {},
   "outputs": [],
   "source": [
    "df.loc[df['latitude']== df['latitude'].max()]"
   ]
  },
  {
   "cell_type": "code",
   "execution_count": null,
   "id": "b911450d-a76d-4424-aae6-79032c9803de",
   "metadata": {},
   "outputs": [],
   "source": [
    "df['population'].mean()"
   ]
  },
  {
   "cell_type": "code",
   "execution_count": null,
   "id": "6620e765-ff16-4aac-891c-a9661887dafc",
   "metadata": {},
   "outputs": [],
   "source": [
    "df.loc[df['population']>1_000_000].index"
   ]
  },
  {
   "cell_type": "code",
   "execution_count": null,
   "id": "2c0cb8b1-c029-46f1-8a3f-afe0ce564650",
   "metadata": {},
   "outputs": [],
   "source": [
    "(df.loc[df['population']>1_000_000]).mean()"
   ]
  },
  {
   "cell_type": "code",
   "execution_count": null,
   "id": "4a76a16b-253f-4f75-ac90-d31ea4e0f4d2",
   "metadata": {},
   "outputs": [],
   "source": [
    "import numpy as np\n",
    "from pandas import Series, DataFrame\n",
    "\n",
    "np.random.seed(0)\n",
    "s = Series(np.random.randint(-50, 50, 10),\n",
    "           index=list('acegihfjdb'))"
   ]
  },
  {
   "cell_type": "code",
   "execution_count": null,
   "id": "3f410877-4dec-4aa9-bb98-e73786ac6f85",
   "metadata": {},
   "outputs": [],
   "source": [
    "s"
   ]
  },
  {
   "cell_type": "code",
   "execution_count": null,
   "id": "bb2a4655-ded9-45ec-bbdd-c4e557cd895e",
   "metadata": {},
   "outputs": [],
   "source": [
    "s.loc['b':'f']"
   ]
  },
  {
   "cell_type": "code",
   "execution_count": null,
   "id": "59f65123-e214-4b7e-8970-6eb61dcb449d",
   "metadata": {},
   "outputs": [],
   "source": [
    "s.loc['g':'f']"
   ]
  },
  {
   "cell_type": "code",
   "execution_count": null,
   "id": "6c4a68cf-f00b-4b3f-9bd6-90cd68dae3d3",
   "metadata": {},
   "outputs": [],
   "source": [
    "np.random.seed(0)\n",
    "s = Series(np.random.randint(-50, 50, 10),\n",
    "           index=list('aceaihfjdb'))\n",
    "s.loc['a':'b']"
   ]
  },
  {
   "cell_type": "code",
   "execution_count": null,
   "id": "265c7c18-0067-474a-9d80-c5d047903893",
   "metadata": {},
   "outputs": [],
   "source": [
    "s.sort_index().loc['a':'b']"
   ]
  },
  {
   "cell_type": "code",
   "execution_count": null,
   "id": "adaa3ed0-eab3-49fd-8e9f-154fac77fd3c",
   "metadata": {},
   "outputs": [],
   "source": [
    "s.sort_index().loc['a':'c']"
   ]
  },
  {
   "cell_type": "code",
   "execution_count": null,
   "id": "4f7b02a0-024d-4d77-bf6b-75702008dd84",
   "metadata": {},
   "outputs": [],
   "source": [
    "s.sort_values()"
   ]
  },
  {
   "cell_type": "code",
   "execution_count": null,
   "id": "5882e99c-da31-4d98-86d9-9d3cf39cb6b1",
   "metadata": {},
   "outputs": [],
   "source": [
    "s = Series([10,5,15,'b','a','c'])\n",
    "s"
   ]
  },
  {
   "cell_type": "code",
   "execution_count": null,
   "id": "5bfe48e3-2958-4703-94f8-f6b9c3044a60",
   "metadata": {},
   "outputs": [],
   "source": []
  },
  {
   "cell_type": "code",
   "execution_count": null,
   "id": "ecbe71b2-26ff-409d-ac1f-146ac4784126",
   "metadata": {},
   "outputs": [],
   "source": [
    "s.sort_index()"
   ]
  },
  {
   "cell_type": "code",
   "execution_count": null,
   "id": "0cfdc52a-9f48-446a-bd5b-1a23f234e07b",
   "metadata": {},
   "outputs": [],
   "source": [
    "s = pd.Series([54, 55, 22, 20, 14], index=['Fred', 'Que', 'Lily', 'Josh', 'Maya'])\n",
    "s"
   ]
  },
  {
   "cell_type": "code",
   "execution_count": null,
   "id": "1cfbbc26-facd-45dd-8d2d-98363daf5ba9",
   "metadata": {},
   "outputs": [],
   "source": [
    "s.sort_index().head(3).mean()"
   ]
  },
  {
   "cell_type": "code",
   "execution_count": null,
   "id": "e200c5a9-7b05-482b-a19f-049e70fc08ae",
   "metadata": {},
   "outputs": [],
   "source": [
    "s.sort_values().iloc[[0,-1]]"
   ]
  },
  {
   "cell_type": "code",
   "execution_count": null,
   "id": "e8c1ad6d-ee20-4a77-935f-e0406410db49",
   "metadata": {},
   "outputs": [],
   "source": [
    "s.sort_values(ascending = False)"
   ]
  },
  {
   "cell_type": "code",
   "execution_count": null,
   "id": "7f730f02-af2e-4f24-9fbb-531c27faa067",
   "metadata": {},
   "outputs": [],
   "source": [
    "s.sort_index(ascending = False)"
   ]
  },
  {
   "cell_type": "code",
   "execution_count": null,
   "id": "0fe00600-950e-4169-9de9-521444382c93",
   "metadata": {},
   "outputs": [],
   "source": [
    "np.random.seed(0)\n",
    "s = Series(np.random.randint(-50, 50, 10),\n",
    "           index=list('abcdefghij'))\n",
    "s"
   ]
  },
  {
   "cell_type": "code",
   "execution_count": null,
   "id": "cebbe9a5-e814-4194-8a1a-116a23ed83d7",
   "metadata": {},
   "outputs": [],
   "source": [
    "s.abs().sort_values()"
   ]
  },
  {
   "cell_type": "code",
   "execution_count": null,
   "id": "a8fa461b-d50c-437c-9f14-531d3f24370e",
   "metadata": {},
   "outputs": [],
   "source": [
    "s.sort_values(key = abs)"
   ]
  },
  {
   "cell_type": "code",
   "execution_count": null,
   "id": "365ed984-c543-44d1-b647-a66831e532d1",
   "metadata": {},
   "outputs": [],
   "source": [
    "abs(s)"
   ]
  },
  {
   "cell_type": "code",
   "execution_count": null,
   "id": "a5a12e9b-9875-454d-a025-4fdf21248835",
   "metadata": {},
   "outputs": [],
   "source": [
    "def square_series(a_series):\n",
    "    return a_series **2\n",
    "s.sort_values(key = square_series)"
   ]
  },
  {
   "cell_type": "code",
   "execution_count": null,
   "id": "3ccf3a0f-0862-45c0-8cb6-c7952037b152",
   "metadata": {},
   "outputs": [],
   "source": [
    "filename = '../data/taxi.csv'\n",
    "df = pd.read_csv(filename)\n",
    "\n",
    "df\n",
    "df.set_index('tpep_pickup_datetime').sort_index()"
   ]
  },
  {
   "cell_type": "code",
   "execution_count": null,
   "id": "15a2fe33-f9a2-434c-80d7-2c29795e3cb9",
   "metadata": {},
   "outputs": [],
   "source": [
    "df.set_index('tpep_pickup_datetime').sort_index().loc['2015-06-06':'2015-06-07']"
   ]
  },
  {
   "cell_type": "code",
   "execution_count": null,
   "id": "8324851b-e22d-40a6-a088-727db3290d4d",
   "metadata": {},
   "outputs": [],
   "source": [
    "import pandas as pd\n",
    "url = 'https://gist.githubusercontent.com/reuven/77edbb0292901f35019f17edb9794358/raw/2bf258763cdddd704f8ffd3ea9a3e81d25e2c6f6/cities.json'\n",
    "df = pd.read_json(url)\n",
    "df"
   ]
  },
  {
   "cell_type": "code",
   "execution_count": null,
   "id": "e219d2f9-731d-450d-bafc-fbe1858bbbf1",
   "metadata": {},
   "outputs": [],
   "source": [
    "df.set_index('city').sort_index()"
   ]
  },
  {
   "cell_type": "code",
   "execution_count": null,
   "id": "ac7ea717-e103-4489-bf8c-72e901db3532",
   "metadata": {},
   "outputs": [],
   "source": [
    "df_sorted = df.set_index('city').sort_index().iloc[0:20]\n",
    "\n",
    "# Select the 'population' column\n",
    "population_first_20_cities = df_sorted['population']"
   ]
  },
  {
   "cell_type": "code",
   "execution_count": null,
   "id": "aaaf582e-977a-4a56-9879-6b5859cec63b",
   "metadata": {},
   "outputs": [],
   "source": [
    "df.set_index('city').sort_index().iloc[5:5]"
   ]
  },
  {
   "cell_type": "code",
   "execution_count": null,
   "id": "1cd2a54b-7364-453e-99f9-9516dd14b7a6",
   "metadata": {},
   "outputs": [],
   "source": [
    "(\n",
    "    df_sorted = df.set_index('city').sort_index().head(20)\n",
    "['population']\n",
    ".mean()\n",
    ")"
   ]
  },
  {
   "cell_type": "code",
   "execution_count": null,
   "id": "299cb004-3649-4456-b877-1871f4971504",
   "metadata": {},
   "outputs": [],
   "source": [
    "(\n",
    "    df.set_index('population')\n",
    "    .sort_index()\n",
    "    .head(50)\n",
    "    ['latitude']\n",
    "    .mean()\n",
    ")"
   ]
  },
  {
   "cell_type": "code",
   "execution_count": null,
   "id": "505aeddb-5d82-495f-816b-0e6f9f160fa1",
   "metadata": {},
   "outputs": [],
   "source": [
    "df.sort_values('population')"
   ]
  },
  {
   "cell_type": "code",
   "execution_count": null,
   "id": "5a1365bf-5d49-4a91-868e-6da9830e1770",
   "metadata": {},
   "outputs": [],
   "source": [
    "(\n",
    "    df\n",
    "    .sort_values(['state', 'population'],ascending = False)\n",
    "    ['city','state','population']\n",
    "    .head(30)\n",
    ")\n"
   ]
  },
  {
   "cell_type": "code",
   "execution_count": null,
   "id": "fe17c7e4-2e98-4aa6-bf70-282904421d67",
   "metadata": {},
   "outputs": [],
   "source": [
    "filename = '../data/taxi.csv'\n",
    "df = pd.read_csv(filename)\n",
    "\n",
    "df\n",
    "(\n",
    "    df\n",
    "    .sort_values('trip_distance')\n",
    "    ['total_amount']\n",
    "    .head(10)\n",
    "    .mean()\n",
    ")\n",
    "                 "
   ]
  },
  {
   "cell_type": "code",
   "execution_count": null,
   "id": "f936b85b-6c96-4b71-aa72-5a05a58d3b9b",
   "metadata": {},
   "outputs": [],
   "source": [
    "df\n",
    "(\n",
    "    df\n",
    "    .sort_values(['passenger_count','trip_distance'])\n",
    "    .iloc[:5]\n",
    ")"
   ]
  },
  {
   "cell_type": "code",
   "execution_count": null,
   "id": "9e1e7479-b8f3-444e-8da4-3dc701ae6bdd",
   "metadata": {},
   "outputs": [],
   "source": [
    "import pandas as pd\n",
    "import numpy as np\n",
    "from pandas import Series, DataFrame\n",
    "filename =  '../data/olympic_athlete_events.csv'\n",
    "df = pd.read_csv(filename)\n",
    "print(df.head())"
   ]
  },
  {
   "cell_type": "code",
   "execution_count": null,
   "id": "178d1136-653e-47ff-8dc1-cf8f13a079bb",
   "metadata": {},
   "outputs": [],
   "source": [
    "df.groupby('Sport')['Age'].mean()"
   ]
  },
  {
   "cell_type": "code",
   "execution_count": null,
   "id": "809dd319-c64b-4cea-b3de-dbf363189950",
   "metadata": {},
   "outputs": [],
   "source": [
    "\n",
    "(\n",
    "    df.loc[\n",
    "    df['Year']>1960,\n",
    "    ['Sport','Height']\n",
    "    ]\n",
    ")"
   ]
  },
  {
   "cell_type": "code",
   "execution_count": null,
   "id": "a908b9ed-cf7a-4bbb-8dab-6f4238aec69f",
   "metadata": {},
   "outputs": [],
   "source": [
    "(\n",
    "    df.loc[\n",
    "    df['Year']>1960,\n",
    "    ['Sport','Height']\n",
    "    ].groupby('Sport')['Height'].mean().sort_values(ascending = False)\n",
    ")"
   ]
  },
  {
   "cell_type": "code",
   "execution_count": null,
   "id": "eeae9286-302e-429a-b322-431b3e2c937b",
   "metadata": {},
   "outputs": [],
   "source": [
    "results = df.groupby(['Year','Team'])['Height'].head()\n",
    "results.loc[0]"
   ]
  },
  {
   "cell_type": "code",
   "execution_count": null,
   "id": "51d015d3-ba23-4226-9170-2a80156722da",
   "metadata": {},
   "outputs": [],
   "source": [
    "results = df.groupby(['Year'])['Age']\n"
   ]
  },
  {
   "cell_type": "code",
   "execution_count": null,
   "id": "c10efaf3-0220-4a71-9274-07570e7131f0",
   "metadata": {},
   "outputs": [],
   "source": [
    "results = df.groupby(['Sport'])['Weight'].agg(['mean','median'])\n",
    "results"
   ]
  },
  {
   "cell_type": "code",
   "execution_count": null,
   "id": "ffea033d-3189-46fd-9065-8156d3fc949e",
   "metadata": {},
   "outputs": [],
   "source": [
    "df.pivot_table(index = 'Team',\n",
    "               columns = 'Year',\n",
    "               values = 'Age',\n",
    "               aggfunc = 'mean')"
   ]
  },
  {
   "cell_type": "code",
   "execution_count": null,
   "id": "c46ef69f-a028-4d49-944e-66edcbcc85a5",
   "metadata": {},
   "outputs": [],
   "source": [
    "df.pivot_table(index = 'Sport',\n",
    "               columns = 'Team',\n",
    "               values = 'Weight',\n",
    "               aggfunc = 'max').stack()"
   ]
  },
  {
   "cell_type": "code",
   "execution_count": null,
   "id": "1a670c94-00f4-4ece-9236-f27e64b3aa4d",
   "metadata": {},
   "outputs": [],
   "source": [
    "results = df.pivot_table(index = 'Sport',\n",
    "               columns = 'Team',\n",
    "               values = 'Weight',\n",
    "               aggfunc = ['mean','max'])\n",
    "results.stack()"
   ]
  },
  {
   "cell_type": "code",
   "execution_count": null,
   "id": "eca72543-32a6-4b47-b4ab-30622bf50fc4",
   "metadata": {},
   "outputs": [],
   "source": [
    "df.pivot_table(index = 'Team',\n",
    "               columns = 'Sport',\n",
    "               values = ['Height', 'Age','Weight'],\n",
    "               aggfunc = ['mean'])"
   ]
  },
  {
   "cell_type": "code",
   "execution_count": null,
   "id": "81885a68-b2ed-4e77-b838-516c9f36dac3",
   "metadata": {},
   "outputs": [],
   "source": [
    "df.groupby(['Team', 'Year'])[['Age', 'Height', 'Weight']].mean()"
   ]
  },
  {
   "cell_type": "code",
   "execution_count": null,
   "id": "8cac737e-22da-4e79-909c-fb0a96ee16a2",
   "metadata": {},
   "outputs": [],
   "source": [
    "df[df['Year']>1980].pivot_table(index = 'Year',\n",
    "               columns = 'Sport',\n",
    "               values = ['Height', 'Age','Weight'],\n",
    "               aggfunc = ['mean'])"
   ]
  },
  {
   "cell_type": "code",
   "execution_count": null,
   "id": "ec51f7e9-e854-439e-83d3-dfa5ddd9b3c2",
   "metadata": {},
   "outputs": [],
   "source": [
    "df[df['Sport'].isin(['Archery', 'Athletics', 'Boxing'])].pivot_table(index = 'Year',\n",
    "                                                                     columns = 'Sport',\n",
    "                                                                     values = ['Height', 'Age','Weight'],\n",
    "                                                                     aggfunc = ['mean'])"
   ]
  },
  {
   "cell_type": "code",
   "execution_count": null,
   "id": "e73fcfcd-aba4-40a4-8109-566bc9b739c2",
   "metadata": {},
   "outputs": [],
   "source": [
    "df[(df['Sport'].isin(['Archery', 'Athletics', 'Boxing'])) & (df['Year'] > 1980)].pivot_table(index = 'Year',\n",
    "                                                                     columns = 'Sport',\n",
    "                                                                     values = ['Height', 'Age','Weight'],\n",
    "                                                                     aggfunc = ['mean'])"
   ]
  },
  {
   "cell_type": "code",
   "execution_count": null,
   "id": "0067ad70-9946-4d0f-8865-58a3e157ab77",
   "metadata": {},
   "outputs": [],
   "source": [
    "df[(df['Sport'].isin(['Archery', 'Athletics', 'Boxing'])) & (df['Year'] > 2000) & (df['Team'].isin(['France', 'Vietnam', 'Japan']))].pivot_table(index = 'Year',\n",
    "                                                                     columns = 'Sport',\n",
    "                                                                     values = ['Height', 'Age','Weight'],\n",
    "                                                                     aggfunc = ['mean'])"
   ]
  },
  {
   "cell_type": "code",
   "execution_count": null,
   "id": "e6e8943c-051e-42f7-9d40-124c55afe022",
   "metadata": {},
   "outputs": [],
   "source": [
    "results = df.groupby(['Team', 'Sport'])[['Age', 'Height', 'Weight']].agg(['mean', 'median'])\n",
    "results"
   ]
  },
  {
   "cell_type": "code",
   "execution_count": 50,
   "id": "44efdaca-b6b9-441d-9109-493469d9ed19",
   "metadata": {},
   "outputs": [
    {
     "data": {
      "text/html": [
       "<div>\n",
       "<style scoped>\n",
       "    .dataframe tbody tr th:only-of-type {\n",
       "        vertical-align: middle;\n",
       "    }\n",
       "\n",
       "    .dataframe tbody tr th {\n",
       "        vertical-align: top;\n",
       "    }\n",
       "\n",
       "    .dataframe thead tr th {\n",
       "        text-align: left;\n",
       "    }\n",
       "\n",
       "    .dataframe thead tr:last-of-type th {\n",
       "        text-align: right;\n",
       "    }\n",
       "</style>\n",
       "<table border=\"1\" class=\"dataframe\">\n",
       "  <thead>\n",
       "    <tr>\n",
       "      <th></th>\n",
       "      <th></th>\n",
       "      <th colspan=\"2\" halign=\"left\">Age</th>\n",
       "      <th colspan=\"2\" halign=\"left\">Height</th>\n",
       "      <th colspan=\"2\" halign=\"left\">Weight</th>\n",
       "    </tr>\n",
       "    <tr>\n",
       "      <th></th>\n",
       "      <th></th>\n",
       "      <th>mean</th>\n",
       "      <th>median</th>\n",
       "      <th>mean</th>\n",
       "      <th>median</th>\n",
       "      <th>mean</th>\n",
       "      <th>median</th>\n",
       "    </tr>\n",
       "    <tr>\n",
       "      <th>Team</th>\n",
       "      <th>Sport</th>\n",
       "      <th></th>\n",
       "      <th></th>\n",
       "      <th></th>\n",
       "      <th></th>\n",
       "      <th></th>\n",
       "      <th></th>\n",
       "    </tr>\n",
       "  </thead>\n",
       "  <tbody>\n",
       "    <tr>\n",
       "      <th rowspan=\"5\" valign=\"top\">France</th>\n",
       "      <th>Alpine Skiing</th>\n",
       "      <td>26.147541</td>\n",
       "      <td>26.0</td>\n",
       "      <td>175.163934</td>\n",
       "      <td>176.0</td>\n",
       "      <td>76.368852</td>\n",
       "      <td>78.0</td>\n",
       "    </tr>\n",
       "    <tr>\n",
       "      <th>Archery</th>\n",
       "      <td>23.424242</td>\n",
       "      <td>24.0</td>\n",
       "      <td>174.636364</td>\n",
       "      <td>173.0</td>\n",
       "      <td>71.727273</td>\n",
       "      <td>72.0</td>\n",
       "    </tr>\n",
       "    <tr>\n",
       "      <th>Athletics</th>\n",
       "      <td>26.718894</td>\n",
       "      <td>26.0</td>\n",
       "      <td>178.336406</td>\n",
       "      <td>178.0</td>\n",
       "      <td>68.096774</td>\n",
       "      <td>68.0</td>\n",
       "    </tr>\n",
       "    <tr>\n",
       "      <th>Badminton</th>\n",
       "      <td>27.333333</td>\n",
       "      <td>28.0</td>\n",
       "      <td>172.333333</td>\n",
       "      <td>169.0</td>\n",
       "      <td>64.777778</td>\n",
       "      <td>60.0</td>\n",
       "    </tr>\n",
       "    <tr>\n",
       "      <th>Basketball</th>\n",
       "      <td>27.625000</td>\n",
       "      <td>27.0</td>\n",
       "      <td>191.375000</td>\n",
       "      <td>191.5</td>\n",
       "      <td>88.872340</td>\n",
       "      <td>87.0</td>\n",
       "    </tr>\n",
       "    <tr>\n",
       "      <th>...</th>\n",
       "      <th>...</th>\n",
       "      <td>...</td>\n",
       "      <td>...</td>\n",
       "      <td>...</td>\n",
       "      <td>...</td>\n",
       "      <td>...</td>\n",
       "      <td>...</td>\n",
       "    </tr>\n",
       "    <tr>\n",
       "      <th rowspan=\"5\" valign=\"top\">Vietnam</th>\n",
       "      <th>Swimming</th>\n",
       "      <td>18.000000</td>\n",
       "      <td>19.0</td>\n",
       "      <td>174.000000</td>\n",
       "      <td>172.0</td>\n",
       "      <td>64.000000</td>\n",
       "      <td>60.0</td>\n",
       "    </tr>\n",
       "    <tr>\n",
       "      <th>Table Tennis</th>\n",
       "      <td>27.000000</td>\n",
       "      <td>27.0</td>\n",
       "      <td>165.000000</td>\n",
       "      <td>165.0</td>\n",
       "      <td>59.000000</td>\n",
       "      <td>59.0</td>\n",
       "    </tr>\n",
       "    <tr>\n",
       "      <th>Taekwondo</th>\n",
       "      <td>22.571429</td>\n",
       "      <td>23.0</td>\n",
       "      <td>178.833333</td>\n",
       "      <td>176.0</td>\n",
       "      <td>66.857143</td>\n",
       "      <td>58.0</td>\n",
       "    </tr>\n",
       "    <tr>\n",
       "      <th>Weightlifting</th>\n",
       "      <td>23.111111</td>\n",
       "      <td>23.0</td>\n",
       "      <td>159.666667</td>\n",
       "      <td>160.0</td>\n",
       "      <td>59.444444</td>\n",
       "      <td>56.0</td>\n",
       "    </tr>\n",
       "    <tr>\n",
       "      <th>Wrestling</th>\n",
       "      <td>23.000000</td>\n",
       "      <td>23.0</td>\n",
       "      <td>165.000000</td>\n",
       "      <td>165.0</td>\n",
       "      <td>53.000000</td>\n",
       "      <td>53.0</td>\n",
       "    </tr>\n",
       "  </tbody>\n",
       "</table>\n",
       "<p>111 rows × 6 columns</p>\n",
       "</div>"
      ],
      "text/plain": [
       "                             Age             Height            Weight       \n",
       "                            mean median        mean median       mean median\n",
       "Team    Sport                                                               \n",
       "France  Alpine Skiing  26.147541   26.0  175.163934  176.0  76.368852   78.0\n",
       "        Archery        23.424242   24.0  174.636364  173.0  71.727273   72.0\n",
       "        Athletics      26.718894   26.0  178.336406  178.0  68.096774   68.0\n",
       "        Badminton      27.333333   28.0  172.333333  169.0  64.777778   60.0\n",
       "        Basketball     27.625000   27.0  191.375000  191.5  88.872340   87.0\n",
       "...                          ...    ...         ...    ...        ...    ...\n",
       "Vietnam Swimming       18.000000   19.0  174.000000  172.0  64.000000   60.0\n",
       "        Table Tennis   27.000000   27.0  165.000000  165.0  59.000000   59.0\n",
       "        Taekwondo      22.571429   23.0  178.833333  176.0  66.857143   58.0\n",
       "        Weightlifting  23.111111   23.0  159.666667  160.0  59.444444   56.0\n",
       "        Wrestling      23.000000   23.0  165.000000  165.0  53.000000   53.0\n",
       "\n",
       "[111 rows x 6 columns]"
      ]
     },
     "execution_count": 50,
     "metadata": {},
     "output_type": "execute_result"
    }
   ],
   "source": [
    "import pandas as pd\n",
    "import numpy as np\n",
    "from pandas import Series, DataFrame\n",
    "\n",
    "filename = '../data/olympic_athlete_events.csv'\n",
    "df = pd.read_csv(filename)\n",
    "\n",
    "first_file = df[(df['Team'].isin(['France', 'Vietnam', 'Japan'])) & (df['Year'] > 2000)]\n",
    "first_file.groupby(['Team', 'Sport'])[['Age', 'Height', 'Weight']].agg(['mean', 'median'])"
   ]
  },
  {
   "cell_type": "code",
   "execution_count": null,
   "id": "1e856cd6-5933-4b95-92cc-0adbf27b2623",
   "metadata": {},
   "outputs": [],
   "source": []
  }
 ],
 "metadata": {
  "kernelspec": {
   "display_name": "Python 3 (ipykernel)",
   "language": "python",
   "name": "python3"
  },
  "language_info": {
   "codemirror_mode": {
    "name": "ipython",
    "version": 3
   },
   "file_extension": ".py",
   "mimetype": "text/x-python",
   "name": "python",
   "nbconvert_exporter": "python",
   "pygments_lexer": "ipython3",
   "version": "3.12.3"
  }
 },
 "nbformat": 4,
 "nbformat_minor": 5
}
