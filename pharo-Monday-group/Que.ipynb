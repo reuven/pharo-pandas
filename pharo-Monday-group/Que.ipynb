{
 "cells": [
  {
   "cell_type": "code",
   "execution_count": 1,
   "id": "93549ef4",
   "metadata": {},
   "outputs": [
    {
     "data": {
      "text/plain": [
       "100"
      ]
     },
     "execution_count": 1,
     "metadata": {},
     "output_type": "execute_result"
    }
   ],
   "source": [
    "x = 100\n",
    "y = 200\n",
    "x"
   ]
  },
  {
   "cell_type": "code",
   "execution_count": 2,
   "id": "2f2c2b19",
   "metadata": {},
   "outputs": [
    {
     "data": {
      "text/plain": [
       "20000"
      ]
     },
     "execution_count": 2,
     "metadata": {},
     "output_type": "execute_result"
    }
   ],
   "source": [
    "x*y"
   ]
  },
  {
   "cell_type": "code",
   "execution_count": 2,
   "id": "fd09567f",
   "metadata": {},
   "outputs": [
    {
     "ename": "AttributeError",
     "evalue": "module 'pandas' has no attribute '_version_'",
     "output_type": "error",
     "traceback": [
      "\u001b[0;31m---------------------------------------------------------------------------\u001b[0m",
      "\u001b[0;31mAttributeError\u001b[0m                            Traceback (most recent call last)",
      "Cell \u001b[0;32mIn[2], line 2\u001b[0m\n\u001b[1;32m      1\u001b[0m \u001b[38;5;28;01mimport\u001b[39;00m \u001b[38;5;21;01mpandas\u001b[39;00m \u001b[38;5;28;01mas\u001b[39;00m \u001b[38;5;21;01mpd\u001b[39;00m\n\u001b[0;32m----> 2\u001b[0m \u001b[43mpd\u001b[49m\u001b[38;5;241;43m.\u001b[39;49m\u001b[43m_version_\u001b[49m\n",
      "\u001b[0;31mAttributeError\u001b[0m: module 'pandas' has no attribute '_version_'"
     ]
    }
   ],
   "source": [
    "import pandas as pd\n",
    "pd._version_"
   ]
  },
  {
   "cell_type": "code",
   "execution_count": 3,
   "id": "ed3d9396",
   "metadata": {},
   "outputs": [],
   "source": [
    "filename = '../data/taxi.csv'\n",
    "df = pd.read_csv(filename)\n"
   ]
  },
  {
   "cell_type": "code",
   "execution_count": 4,
   "id": "30cd8436",
   "metadata": {},
   "outputs": [
    {
     "data": {
      "text/plain": [
       "(9999, 19)"
      ]
     },
     "execution_count": 4,
     "metadata": {},
     "output_type": "execute_result"
    }
   ],
   "source": [
    "df.shape"
   ]
  },
  {
   "cell_type": "code",
   "execution_count": 1,
   "id": "549365ca-702c-4a7a-8100-5ed16dc82d19",
   "metadata": {},
   "outputs": [
    {
     "ename": "NameError",
     "evalue": "name 'df' is not defined",
     "output_type": "error",
     "traceback": [
      "\u001b[0;31m---------------------------------------------------------------------------\u001b[0m",
      "\u001b[0;31mNameError\u001b[0m                                 Traceback (most recent call last)",
      "Cell \u001b[0;32mIn[1], line 1\u001b[0m\n\u001b[0;32m----> 1\u001b[0m \u001b[43mdf\u001b[49m\n",
      "\u001b[0;31mNameError\u001b[0m: name 'df' is not defined"
     ]
    }
   ],
   "source": [
    "df"
   ]
  },
  {
   "cell_type": "code",
   "execution_count": 5,
   "id": "1e59c2bb-e3bd-4601-b7c4-f5992a401c31",
   "metadata": {},
   "outputs": [
    {
     "data": {
      "text/plain": [
       "<bound method NDFrame.head of       VendorID tpep_pickup_datetime tpep_dropoff_datetime  passenger_count  \\\n",
       "0            2  2015-06-02 11:19:29   2015-06-02 11:47:52                1   \n",
       "1            2  2015-06-02 11:19:30   2015-06-02 11:27:56                1   \n",
       "2            2  2015-06-02 11:19:31   2015-06-02 11:30:30                1   \n",
       "3            2  2015-06-02 11:19:31   2015-06-02 11:39:02                1   \n",
       "4            1  2015-06-02 11:19:32   2015-06-02 11:32:49                1   \n",
       "...        ...                  ...                   ...              ...   \n",
       "9994         1  2015-06-01 00:12:59   2015-06-01 00:24:18                1   \n",
       "9995         1  2015-06-01 00:12:59   2015-06-01 00:28:16                1   \n",
       "9996         2  2015-06-01 00:13:00   2015-06-01 00:37:25                1   \n",
       "9997         2  2015-06-01 00:13:02   2015-06-01 00:19:10                6   \n",
       "9998         1  2015-06-01 00:13:04   2015-06-01 00:36:33                1   \n",
       "\n",
       "      trip_distance  pickup_longitude  pickup_latitude  RateCodeID  \\\n",
       "0              1.63        -73.954430        40.764141           1   \n",
       "1              0.46        -73.971443        40.758942           1   \n",
       "2              0.87        -73.978111        40.738434           1   \n",
       "3              2.13        -73.945892        40.773529           1   \n",
       "4              1.40        -73.979088        40.776772           1   \n",
       "...             ...               ...              ...         ...   \n",
       "9994           2.70        -73.947792        40.814972           1   \n",
       "9995           4.50        -74.004066        40.747818           1   \n",
       "9996           5.59        -73.994377        40.766102           1   \n",
       "9997           1.54        -73.978302        40.748531           1   \n",
       "9998           5.80        -73.983215        40.726414           1   \n",
       "\n",
       "     store_and_fwd_flag  dropoff_longitude  dropoff_latitude  payment_type  \\\n",
       "0                     N         -73.974754         40.754093             2   \n",
       "1                     N         -73.978539         40.761909             1   \n",
       "2                     N         -73.990273         40.745438             1   \n",
       "3                     N         -73.971527         40.760330             1   \n",
       "4                     N         -73.982162         40.758999             2   \n",
       "...                 ...                ...               ...           ...   \n",
       "9994                  N         -73.973358         40.783638             2   \n",
       "9995                  N         -73.953758         40.779285             1   \n",
       "9996                  N         -73.903206         40.750546             2   \n",
       "9997                  N         -73.989166         40.762852             2   \n",
       "9998                  N         -73.924133         40.701645             1   \n",
       "\n",
       "      fare_amount  extra  mta_tax  tip_amount  tolls_amount  \\\n",
       "0            17.0    0.0      0.5        0.00           0.0   \n",
       "1             6.5    0.0      0.5        1.00           0.0   \n",
       "2             8.0    0.0      0.5        2.20           0.0   \n",
       "3            13.5    0.0      0.5        2.86           0.0   \n",
       "4             9.5    0.0      0.5        0.00           0.0   \n",
       "...           ...    ...      ...         ...           ...   \n",
       "9994         11.0    0.5      0.5        0.00           0.0   \n",
       "9995         16.0    0.5      0.5        3.00           0.0   \n",
       "9996         21.0    0.5      0.5        0.00           0.0   \n",
       "9997          6.5    0.5      0.5        0.00           0.0   \n",
       "9998         21.0    0.5      0.5        4.45           0.0   \n",
       "\n",
       "      improvement_surcharge  total_amount  \n",
       "0                       0.3         17.80  \n",
       "1                       0.3          8.30  \n",
       "2                       0.3         11.00  \n",
       "3                       0.3         17.16  \n",
       "4                       0.3         10.30  \n",
       "...                     ...           ...  \n",
       "9994                    0.3         12.30  \n",
       "9995                    0.3         20.30  \n",
       "9996                    0.3         22.30  \n",
       "9997                    0.3          7.80  \n",
       "9998                    0.3         26.75  \n",
       "\n",
       "[9999 rows x 19 columns]>"
      ]
     },
     "execution_count": 5,
     "metadata": {},
     "output_type": "execute_result"
    }
   ],
   "source": [
    "df.head"
   ]
  },
  {
   "cell_type": "code",
   "execution_count": 6,
   "id": "b2efdd8c-c4bc-47a3-a3b3-74cfdab2d57c",
   "metadata": {},
   "outputs": [
    {
     "data": {
      "text/html": [
       "<div>\n",
       "<style scoped>\n",
       "    .dataframe tbody tr th:only-of-type {\n",
       "        vertical-align: middle;\n",
       "    }\n",
       "\n",
       "    .dataframe tbody tr th {\n",
       "        vertical-align: top;\n",
       "    }\n",
       "\n",
       "    .dataframe thead th {\n",
       "        text-align: right;\n",
       "    }\n",
       "</style>\n",
       "<table border=\"1\" class=\"dataframe\">\n",
       "  <thead>\n",
       "    <tr style=\"text-align: right;\">\n",
       "      <th></th>\n",
       "      <th>VendorID</th>\n",
       "      <th>tpep_pickup_datetime</th>\n",
       "      <th>tpep_dropoff_datetime</th>\n",
       "      <th>passenger_count</th>\n",
       "      <th>trip_distance</th>\n",
       "      <th>pickup_longitude</th>\n",
       "      <th>pickup_latitude</th>\n",
       "      <th>RateCodeID</th>\n",
       "      <th>store_and_fwd_flag</th>\n",
       "      <th>dropoff_longitude</th>\n",
       "      <th>dropoff_latitude</th>\n",
       "      <th>payment_type</th>\n",
       "      <th>fare_amount</th>\n",
       "      <th>extra</th>\n",
       "      <th>mta_tax</th>\n",
       "      <th>tip_amount</th>\n",
       "      <th>tolls_amount</th>\n",
       "      <th>improvement_surcharge</th>\n",
       "      <th>total_amount</th>\n",
       "    </tr>\n",
       "  </thead>\n",
       "  <tbody>\n",
       "    <tr>\n",
       "      <th>0</th>\n",
       "      <td>2</td>\n",
       "      <td>2015-06-02 11:19:29</td>\n",
       "      <td>2015-06-02 11:47:52</td>\n",
       "      <td>1</td>\n",
       "      <td>1.63</td>\n",
       "      <td>-73.954430</td>\n",
       "      <td>40.764141</td>\n",
       "      <td>1</td>\n",
       "      <td>N</td>\n",
       "      <td>-73.974754</td>\n",
       "      <td>40.754093</td>\n",
       "      <td>2</td>\n",
       "      <td>17.0</td>\n",
       "      <td>0.0</td>\n",
       "      <td>0.5</td>\n",
       "      <td>0.0</td>\n",
       "      <td>0.0</td>\n",
       "      <td>0.3</td>\n",
       "      <td>17.8</td>\n",
       "    </tr>\n",
       "    <tr>\n",
       "      <th>1</th>\n",
       "      <td>2</td>\n",
       "      <td>2015-06-02 11:19:30</td>\n",
       "      <td>2015-06-02 11:27:56</td>\n",
       "      <td>1</td>\n",
       "      <td>0.46</td>\n",
       "      <td>-73.971443</td>\n",
       "      <td>40.758942</td>\n",
       "      <td>1</td>\n",
       "      <td>N</td>\n",
       "      <td>-73.978539</td>\n",
       "      <td>40.761909</td>\n",
       "      <td>1</td>\n",
       "      <td>6.5</td>\n",
       "      <td>0.0</td>\n",
       "      <td>0.5</td>\n",
       "      <td>1.0</td>\n",
       "      <td>0.0</td>\n",
       "      <td>0.3</td>\n",
       "      <td>8.3</td>\n",
       "    </tr>\n",
       "    <tr>\n",
       "      <th>2</th>\n",
       "      <td>2</td>\n",
       "      <td>2015-06-02 11:19:31</td>\n",
       "      <td>2015-06-02 11:30:30</td>\n",
       "      <td>1</td>\n",
       "      <td>0.87</td>\n",
       "      <td>-73.978111</td>\n",
       "      <td>40.738434</td>\n",
       "      <td>1</td>\n",
       "      <td>N</td>\n",
       "      <td>-73.990273</td>\n",
       "      <td>40.745438</td>\n",
       "      <td>1</td>\n",
       "      <td>8.0</td>\n",
       "      <td>0.0</td>\n",
       "      <td>0.5</td>\n",
       "      <td>2.2</td>\n",
       "      <td>0.0</td>\n",
       "      <td>0.3</td>\n",
       "      <td>11.0</td>\n",
       "    </tr>\n",
       "  </tbody>\n",
       "</table>\n",
       "</div>"
      ],
      "text/plain": [
       "   VendorID tpep_pickup_datetime tpep_dropoff_datetime  passenger_count  \\\n",
       "0         2  2015-06-02 11:19:29   2015-06-02 11:47:52                1   \n",
       "1         2  2015-06-02 11:19:30   2015-06-02 11:27:56                1   \n",
       "2         2  2015-06-02 11:19:31   2015-06-02 11:30:30                1   \n",
       "\n",
       "   trip_distance  pickup_longitude  pickup_latitude  RateCodeID  \\\n",
       "0           1.63        -73.954430        40.764141           1   \n",
       "1           0.46        -73.971443        40.758942           1   \n",
       "2           0.87        -73.978111        40.738434           1   \n",
       "\n",
       "  store_and_fwd_flag  dropoff_longitude  dropoff_latitude  payment_type  \\\n",
       "0                  N         -73.974754         40.754093             2   \n",
       "1                  N         -73.978539         40.761909             1   \n",
       "2                  N         -73.990273         40.745438             1   \n",
       "\n",
       "   fare_amount  extra  mta_tax  tip_amount  tolls_amount  \\\n",
       "0         17.0    0.0      0.5         0.0           0.0   \n",
       "1          6.5    0.0      0.5         1.0           0.0   \n",
       "2          8.0    0.0      0.5         2.2           0.0   \n",
       "\n",
       "   improvement_surcharge  total_amount  \n",
       "0                    0.3          17.8  \n",
       "1                    0.3           8.3  \n",
       "2                    0.3          11.0  "
      ]
     },
     "execution_count": 6,
     "metadata": {},
     "output_type": "execute_result"
    }
   ],
   "source": [
    "df.head(3)"
   ]
  },
  {
   "cell_type": "code",
   "execution_count": 8,
   "id": "d3dcab69-cd55-4201-a7d6-a4e298f5618a",
   "metadata": {},
   "outputs": [
    {
     "data": {
      "text/plain": [
       "0       1.63\n",
       "1       0.46\n",
       "2       0.87\n",
       "3       2.13\n",
       "4       1.40\n",
       "        ... \n",
       "9994    2.70\n",
       "9995    4.50\n",
       "9996    5.59\n",
       "9997    1.54\n",
       "9998    5.80\n",
       "Name: trip_distance, Length: 9999, dtype: float64"
      ]
     },
     "execution_count": 8,
     "metadata": {},
     "output_type": "execute_result"
    }
   ],
   "source": [
    "df['trip_distance']"
   ]
  },
  {
   "cell_type": "code",
   "execution_count": 9,
   "id": "991d2cf1-2db9-4d7e-b20c-03c00bbb7d1e",
   "metadata": {},
   "outputs": [
    {
     "data": {
      "text/plain": [
       "0.0"
      ]
     },
     "execution_count": 9,
     "metadata": {},
     "output_type": "execute_result"
    }
   ],
   "source": [
    "df['trip_distance'].min()"
   ]
  },
  {
   "cell_type": "raw",
   "id": "791a74a1-211d-4bc4-b796-dc4fbba48655",
   "metadata": {},
   "source": []
  },
  {
   "cell_type": "code",
   "execution_count": 10,
   "id": "e1c81e1e-53e6-442b-9b59-a6572c2e9f15",
   "metadata": {},
   "outputs": [
    {
     "data": {
      "text/plain": [
       "count    9999.000000\n",
       "mean        3.158511\n",
       "std         4.037516\n",
       "min         0.000000\n",
       "25%         1.000000\n",
       "50%         1.700000\n",
       "75%         3.300000\n",
       "max        64.600000\n",
       "Name: trip_distance, dtype: float64"
      ]
     },
     "execution_count": 10,
     "metadata": {},
     "output_type": "execute_result"
    }
   ],
   "source": [
    "df['trip_distance'].describe()"
   ]
  },
  {
   "cell_type": "code",
   "execution_count": 11,
   "id": "8e8fd952-72de-4778-8ffc-49ca37ba8645",
   "metadata": {},
   "outputs": [
    {
     "data": {
      "text/plain": [
       "4.037516023471018"
      ]
     },
     "execution_count": 11,
     "metadata": {},
     "output_type": "execute_result"
    }
   ],
   "source": [
    "df['trip_distance'].std()"
   ]
  },
  {
   "cell_type": "code",
   "execution_count": 12,
   "id": "ba54062c-bc32-4cd6-9c80-5980c9a2452e",
   "metadata": {},
   "outputs": [
    {
     "data": {
      "text/plain": [
       "0       17.80\n",
       "1        8.30\n",
       "2       11.00\n",
       "3       17.16\n",
       "4       10.30\n",
       "        ...  \n",
       "9994    12.30\n",
       "9995    20.30\n",
       "9996    22.30\n",
       "9997     7.80\n",
       "9998    26.75\n",
       "Name: total_amount, Length: 9999, dtype: float64"
      ]
     },
     "execution_count": 12,
     "metadata": {},
     "output_type": "execute_result"
    }
   ],
   "source": [
    "df['total_amount']"
   ]
  },
  {
   "cell_type": "code",
   "execution_count": 13,
   "id": "730366df-808e-49ae-9322-7a502cc33814",
   "metadata": {},
   "outputs": [
    {
     "data": {
      "text/html": [
       "<div>\n",
       "<style scoped>\n",
       "    .dataframe tbody tr th:only-of-type {\n",
       "        vertical-align: middle;\n",
       "    }\n",
       "\n",
       "    .dataframe tbody tr th {\n",
       "        vertical-align: top;\n",
       "    }\n",
       "\n",
       "    .dataframe thead th {\n",
       "        text-align: right;\n",
       "    }\n",
       "</style>\n",
       "<table border=\"1\" class=\"dataframe\">\n",
       "  <thead>\n",
       "    <tr style=\"text-align: right;\">\n",
       "      <th></th>\n",
       "      <th>VendorID</th>\n",
       "      <th>tpep_pickup_datetime</th>\n",
       "      <th>tpep_dropoff_datetime</th>\n",
       "      <th>passenger_count</th>\n",
       "      <th>trip_distance</th>\n",
       "      <th>pickup_longitude</th>\n",
       "      <th>pickup_latitude</th>\n",
       "      <th>RateCodeID</th>\n",
       "      <th>store_and_fwd_flag</th>\n",
       "      <th>dropoff_longitude</th>\n",
       "      <th>dropoff_latitude</th>\n",
       "      <th>payment_type</th>\n",
       "      <th>fare_amount</th>\n",
       "      <th>extra</th>\n",
       "      <th>mta_tax</th>\n",
       "      <th>tip_amount</th>\n",
       "      <th>tolls_amount</th>\n",
       "      <th>improvement_surcharge</th>\n",
       "      <th>total_amount</th>\n",
       "    </tr>\n",
       "  </thead>\n",
       "  <tbody>\n",
       "    <tr>\n",
       "      <th>0</th>\n",
       "      <td>2</td>\n",
       "      <td>2015-06-02 11:19:29</td>\n",
       "      <td>2015-06-02 11:47:52</td>\n",
       "      <td>1</td>\n",
       "      <td>1.63</td>\n",
       "      <td>-73.954430</td>\n",
       "      <td>40.764141</td>\n",
       "      <td>1</td>\n",
       "      <td>N</td>\n",
       "      <td>-73.974754</td>\n",
       "      <td>40.754093</td>\n",
       "      <td>2</td>\n",
       "      <td>17.0</td>\n",
       "      <td>0.0</td>\n",
       "      <td>0.5</td>\n",
       "      <td>0.0</td>\n",
       "      <td>0.0</td>\n",
       "      <td>0.3</td>\n",
       "      <td>17.8</td>\n",
       "    </tr>\n",
       "    <tr>\n",
       "      <th>1</th>\n",
       "      <td>2</td>\n",
       "      <td>2015-06-02 11:19:30</td>\n",
       "      <td>2015-06-02 11:27:56</td>\n",
       "      <td>1</td>\n",
       "      <td>0.46</td>\n",
       "      <td>-73.971443</td>\n",
       "      <td>40.758942</td>\n",
       "      <td>1</td>\n",
       "      <td>N</td>\n",
       "      <td>-73.978539</td>\n",
       "      <td>40.761909</td>\n",
       "      <td>1</td>\n",
       "      <td>6.5</td>\n",
       "      <td>0.0</td>\n",
       "      <td>0.5</td>\n",
       "      <td>1.0</td>\n",
       "      <td>0.0</td>\n",
       "      <td>0.3</td>\n",
       "      <td>8.3</td>\n",
       "    </tr>\n",
       "    <tr>\n",
       "      <th>2</th>\n",
       "      <td>2</td>\n",
       "      <td>2015-06-02 11:19:31</td>\n",
       "      <td>2015-06-02 11:30:30</td>\n",
       "      <td>1</td>\n",
       "      <td>0.87</td>\n",
       "      <td>-73.978111</td>\n",
       "      <td>40.738434</td>\n",
       "      <td>1</td>\n",
       "      <td>N</td>\n",
       "      <td>-73.990273</td>\n",
       "      <td>40.745438</td>\n",
       "      <td>1</td>\n",
       "      <td>8.0</td>\n",
       "      <td>0.0</td>\n",
       "      <td>0.5</td>\n",
       "      <td>2.2</td>\n",
       "      <td>0.0</td>\n",
       "      <td>0.3</td>\n",
       "      <td>11.0</td>\n",
       "    </tr>\n",
       "  </tbody>\n",
       "</table>\n",
       "</div>"
      ],
      "text/plain": [
       "   VendorID tpep_pickup_datetime tpep_dropoff_datetime  passenger_count  \\\n",
       "0         2  2015-06-02 11:19:29   2015-06-02 11:47:52                1   \n",
       "1         2  2015-06-02 11:19:30   2015-06-02 11:27:56                1   \n",
       "2         2  2015-06-02 11:19:31   2015-06-02 11:30:30                1   \n",
       "\n",
       "   trip_distance  pickup_longitude  pickup_latitude  RateCodeID  \\\n",
       "0           1.63        -73.954430        40.764141           1   \n",
       "1           0.46        -73.971443        40.758942           1   \n",
       "2           0.87        -73.978111        40.738434           1   \n",
       "\n",
       "  store_and_fwd_flag  dropoff_longitude  dropoff_latitude  payment_type  \\\n",
       "0                  N         -73.974754         40.754093             2   \n",
       "1                  N         -73.978539         40.761909             1   \n",
       "2                  N         -73.990273         40.745438             1   \n",
       "\n",
       "   fare_amount  extra  mta_tax  tip_amount  tolls_amount  \\\n",
       "0         17.0    0.0      0.5         0.0           0.0   \n",
       "1          6.5    0.0      0.5         1.0           0.0   \n",
       "2          8.0    0.0      0.5         2.2           0.0   \n",
       "\n",
       "   improvement_surcharge  total_amount  \n",
       "0                    0.3          17.8  \n",
       "1                    0.3           8.3  \n",
       "2                    0.3          11.0  "
      ]
     },
     "execution_count": 13,
     "metadata": {},
     "output_type": "execute_result"
    }
   ],
   "source": [
    "df.loc[[0,1,2]]"
   ]
  },
  {
   "cell_type": "code",
   "execution_count": 14,
   "id": "742488f5-7c08-4986-97e7-0c33a4332b6b",
   "metadata": {},
   "outputs": [
    {
     "data": {
      "text/html": [
       "<div>\n",
       "<style scoped>\n",
       "    .dataframe tbody tr th:only-of-type {\n",
       "        vertical-align: middle;\n",
       "    }\n",
       "\n",
       "    .dataframe tbody tr th {\n",
       "        vertical-align: top;\n",
       "    }\n",
       "\n",
       "    .dataframe thead th {\n",
       "        text-align: right;\n",
       "    }\n",
       "</style>\n",
       "<table border=\"1\" class=\"dataframe\">\n",
       "  <thead>\n",
       "    <tr style=\"text-align: right;\">\n",
       "      <th></th>\n",
       "      <th>trip_distance</th>\n",
       "      <th>passenger_count</th>\n",
       "      <th>total_amount</th>\n",
       "    </tr>\n",
       "  </thead>\n",
       "  <tbody>\n",
       "    <tr>\n",
       "      <th>0</th>\n",
       "      <td>1.63</td>\n",
       "      <td>1</td>\n",
       "      <td>17.8</td>\n",
       "    </tr>\n",
       "    <tr>\n",
       "      <th>1</th>\n",
       "      <td>0.46</td>\n",
       "      <td>1</td>\n",
       "      <td>8.3</td>\n",
       "    </tr>\n",
       "    <tr>\n",
       "      <th>2</th>\n",
       "      <td>0.87</td>\n",
       "      <td>1</td>\n",
       "      <td>11.0</td>\n",
       "    </tr>\n",
       "  </tbody>\n",
       "</table>\n",
       "</div>"
      ],
      "text/plain": [
       "   trip_distance  passenger_count  total_amount\n",
       "0           1.63                1          17.8\n",
       "1           0.46                1           8.3\n",
       "2           0.87                1          11.0"
      ]
     },
     "execution_count": 14,
     "metadata": {},
     "output_type": "execute_result"
    }
   ],
   "source": [
    "df[['trip_distance', 'passenger_count', 'total_amount']].loc[[0,1,2]]"
   ]
  },
  {
   "cell_type": "code",
   "execution_count": 19,
   "id": "eecf9903-8df1-49e9-a6cb-f4b94fdc1ad7",
   "metadata": {},
   "outputs": [
    {
     "data": {
      "text/html": [
       "<div>\n",
       "<style scoped>\n",
       "    .dataframe tbody tr th:only-of-type {\n",
       "        vertical-align: middle;\n",
       "    }\n",
       "\n",
       "    .dataframe tbody tr th {\n",
       "        vertical-align: top;\n",
       "    }\n",
       "\n",
       "    .dataframe thead th {\n",
       "        text-align: right;\n",
       "    }\n",
       "</style>\n",
       "<table border=\"1\" class=\"dataframe\">\n",
       "  <thead>\n",
       "    <tr style=\"text-align: right;\">\n",
       "      <th></th>\n",
       "      <th>VendorID</th>\n",
       "      <th>tpep_pickup_datetime</th>\n",
       "      <th>tpep_dropoff_datetime</th>\n",
       "      <th>passenger_count</th>\n",
       "      <th>trip_distance</th>\n",
       "      <th>pickup_longitude</th>\n",
       "      <th>pickup_latitude</th>\n",
       "      <th>RateCodeID</th>\n",
       "      <th>store_and_fwd_flag</th>\n",
       "      <th>dropoff_longitude</th>\n",
       "      <th>dropoff_latitude</th>\n",
       "      <th>payment_type</th>\n",
       "      <th>fare_amount</th>\n",
       "      <th>extra</th>\n",
       "      <th>mta_tax</th>\n",
       "      <th>tip_amount</th>\n",
       "      <th>tolls_amount</th>\n",
       "      <th>improvement_surcharge</th>\n",
       "      <th>total_amount</th>\n",
       "    </tr>\n",
       "  </thead>\n",
       "  <tbody>\n",
       "    <tr>\n",
       "      <th>0</th>\n",
       "      <td>2</td>\n",
       "      <td>2015-06-02 11:19:29</td>\n",
       "      <td>2015-06-02 11:47:52</td>\n",
       "      <td>1</td>\n",
       "      <td>1.63</td>\n",
       "      <td>-73.954430</td>\n",
       "      <td>40.764141</td>\n",
       "      <td>1</td>\n",
       "      <td>N</td>\n",
       "      <td>-73.974754</td>\n",
       "      <td>40.754093</td>\n",
       "      <td>2</td>\n",
       "      <td>17.0</td>\n",
       "      <td>0.0</td>\n",
       "      <td>0.5</td>\n",
       "      <td>0.00</td>\n",
       "      <td>0.0</td>\n",
       "      <td>0.3</td>\n",
       "      <td>17.80</td>\n",
       "    </tr>\n",
       "    <tr>\n",
       "      <th>1</th>\n",
       "      <td>2</td>\n",
       "      <td>2015-06-02 11:19:30</td>\n",
       "      <td>2015-06-02 11:27:56</td>\n",
       "      <td>1</td>\n",
       "      <td>0.46</td>\n",
       "      <td>-73.971443</td>\n",
       "      <td>40.758942</td>\n",
       "      <td>1</td>\n",
       "      <td>N</td>\n",
       "      <td>-73.978539</td>\n",
       "      <td>40.761909</td>\n",
       "      <td>1</td>\n",
       "      <td>6.5</td>\n",
       "      <td>0.0</td>\n",
       "      <td>0.5</td>\n",
       "      <td>1.00</td>\n",
       "      <td>0.0</td>\n",
       "      <td>0.3</td>\n",
       "      <td>8.30</td>\n",
       "    </tr>\n",
       "    <tr>\n",
       "      <th>2</th>\n",
       "      <td>2</td>\n",
       "      <td>2015-06-02 11:19:31</td>\n",
       "      <td>2015-06-02 11:30:30</td>\n",
       "      <td>1</td>\n",
       "      <td>0.87</td>\n",
       "      <td>-73.978111</td>\n",
       "      <td>40.738434</td>\n",
       "      <td>1</td>\n",
       "      <td>N</td>\n",
       "      <td>-73.990273</td>\n",
       "      <td>40.745438</td>\n",
       "      <td>1</td>\n",
       "      <td>8.0</td>\n",
       "      <td>0.0</td>\n",
       "      <td>0.5</td>\n",
       "      <td>2.20</td>\n",
       "      <td>0.0</td>\n",
       "      <td>0.3</td>\n",
       "      <td>11.00</td>\n",
       "    </tr>\n",
       "    <tr>\n",
       "      <th>3</th>\n",
       "      <td>2</td>\n",
       "      <td>2015-06-02 11:19:31</td>\n",
       "      <td>2015-06-02 11:39:02</td>\n",
       "      <td>1</td>\n",
       "      <td>2.13</td>\n",
       "      <td>-73.945892</td>\n",
       "      <td>40.773529</td>\n",
       "      <td>1</td>\n",
       "      <td>N</td>\n",
       "      <td>-73.971527</td>\n",
       "      <td>40.760330</td>\n",
       "      <td>1</td>\n",
       "      <td>13.5</td>\n",
       "      <td>0.0</td>\n",
       "      <td>0.5</td>\n",
       "      <td>2.86</td>\n",
       "      <td>0.0</td>\n",
       "      <td>0.3</td>\n",
       "      <td>17.16</td>\n",
       "    </tr>\n",
       "    <tr>\n",
       "      <th>4</th>\n",
       "      <td>1</td>\n",
       "      <td>2015-06-02 11:19:32</td>\n",
       "      <td>2015-06-02 11:32:49</td>\n",
       "      <td>1</td>\n",
       "      <td>1.40</td>\n",
       "      <td>-73.979088</td>\n",
       "      <td>40.776772</td>\n",
       "      <td>1</td>\n",
       "      <td>N</td>\n",
       "      <td>-73.982162</td>\n",
       "      <td>40.758999</td>\n",
       "      <td>2</td>\n",
       "      <td>9.5</td>\n",
       "      <td>0.0</td>\n",
       "      <td>0.5</td>\n",
       "      <td>0.00</td>\n",
       "      <td>0.0</td>\n",
       "      <td>0.3</td>\n",
       "      <td>10.30</td>\n",
       "    </tr>\n",
       "  </tbody>\n",
       "</table>\n",
       "</div>"
      ],
      "text/plain": [
       "   VendorID tpep_pickup_datetime tpep_dropoff_datetime  passenger_count  \\\n",
       "0         2  2015-06-02 11:19:29   2015-06-02 11:47:52                1   \n",
       "1         2  2015-06-02 11:19:30   2015-06-02 11:27:56                1   \n",
       "2         2  2015-06-02 11:19:31   2015-06-02 11:30:30                1   \n",
       "3         2  2015-06-02 11:19:31   2015-06-02 11:39:02                1   \n",
       "4         1  2015-06-02 11:19:32   2015-06-02 11:32:49                1   \n",
       "\n",
       "   trip_distance  pickup_longitude  pickup_latitude  RateCodeID  \\\n",
       "0           1.63        -73.954430        40.764141           1   \n",
       "1           0.46        -73.971443        40.758942           1   \n",
       "2           0.87        -73.978111        40.738434           1   \n",
       "3           2.13        -73.945892        40.773529           1   \n",
       "4           1.40        -73.979088        40.776772           1   \n",
       "\n",
       "  store_and_fwd_flag  dropoff_longitude  dropoff_latitude  payment_type  \\\n",
       "0                  N         -73.974754         40.754093             2   \n",
       "1                  N         -73.978539         40.761909             1   \n",
       "2                  N         -73.990273         40.745438             1   \n",
       "3                  N         -73.971527         40.760330             1   \n",
       "4                  N         -73.982162         40.758999             2   \n",
       "\n",
       "   fare_amount  extra  mta_tax  tip_amount  tolls_amount  \\\n",
       "0         17.0    0.0      0.5        0.00           0.0   \n",
       "1          6.5    0.0      0.5        1.00           0.0   \n",
       "2          8.0    0.0      0.5        2.20           0.0   \n",
       "3         13.5    0.0      0.5        2.86           0.0   \n",
       "4          9.5    0.0      0.5        0.00           0.0   \n",
       "\n",
       "   improvement_surcharge  total_amount  \n",
       "0                    0.3         17.80  \n",
       "1                    0.3          8.30  \n",
       "2                    0.3         11.00  \n",
       "3                    0.3         17.16  \n",
       "4                    0.3         10.30  "
      ]
     },
     "execution_count": 19,
     "metadata": {},
     "output_type": "execute_result"
    }
   ],
   "source": [
    "df.head(5)"
   ]
  },
  {
   "cell_type": "code",
   "execution_count": 16,
   "id": "c287aebd-9285-4500-bb16-507140609ac7",
   "metadata": {},
   "outputs": [
    {
     "data": {
      "text/plain": [
       "count    9999.000000\n",
       "mean       17.552472\n",
       "std        15.137990\n",
       "min        -7.800000\n",
       "25%         8.800000\n",
       "50%        12.800000\n",
       "75%        19.800000\n",
       "max       252.350000\n",
       "Name: total_amount, dtype: float64"
      ]
     },
     "execution_count": 16,
     "metadata": {},
     "output_type": "execute_result"
    }
   ],
   "source": [
    "df['total_amount'].describe()"
   ]
  },
  {
   "cell_type": "code",
   "execution_count": 17,
   "id": "3f8e4044-e5f6-4254-8b63-ace883bfeb8f",
   "metadata": {},
   "outputs": [
    {
     "data": {
      "text/plain": [
       "12.8"
      ]
     },
     "execution_count": 17,
     "metadata": {},
     "output_type": "execute_result"
    }
   ],
   "source": [
    "df['total_amount'].median()"
   ]
  },
  {
   "cell_type": "code",
   "execution_count": 21,
   "id": "b4c676a7-7426-4e08-8c3a-c95d30f0cf6d",
   "metadata": {},
   "outputs": [
    {
     "data": {
      "text/html": [
       "<div>\n",
       "<style scoped>\n",
       "    .dataframe tbody tr th:only-of-type {\n",
       "        vertical-align: middle;\n",
       "    }\n",
       "\n",
       "    .dataframe tbody tr th {\n",
       "        vertical-align: top;\n",
       "    }\n",
       "\n",
       "    .dataframe thead th {\n",
       "        text-align: right;\n",
       "    }\n",
       "</style>\n",
       "<table border=\"1\" class=\"dataframe\">\n",
       "  <thead>\n",
       "    <tr style=\"text-align: right;\">\n",
       "      <th></th>\n",
       "      <th>trip_distance</th>\n",
       "      <th>passenger_count</th>\n",
       "      <th>total_amount</th>\n",
       "    </tr>\n",
       "  </thead>\n",
       "  <tbody>\n",
       "    <tr>\n",
       "      <th>count</th>\n",
       "      <td>9999.000000</td>\n",
       "      <td>9999.000000</td>\n",
       "      <td>9999.000000</td>\n",
       "    </tr>\n",
       "    <tr>\n",
       "      <th>mean</th>\n",
       "      <td>3.158511</td>\n",
       "      <td>1.659466</td>\n",
       "      <td>17.552472</td>\n",
       "    </tr>\n",
       "    <tr>\n",
       "      <th>std</th>\n",
       "      <td>4.037516</td>\n",
       "      <td>1.333306</td>\n",
       "      <td>15.137990</td>\n",
       "    </tr>\n",
       "    <tr>\n",
       "      <th>min</th>\n",
       "      <td>0.000000</td>\n",
       "      <td>0.000000</td>\n",
       "      <td>-7.800000</td>\n",
       "    </tr>\n",
       "    <tr>\n",
       "      <th>25%</th>\n",
       "      <td>1.000000</td>\n",
       "      <td>1.000000</td>\n",
       "      <td>8.800000</td>\n",
       "    </tr>\n",
       "    <tr>\n",
       "      <th>50%</th>\n",
       "      <td>1.700000</td>\n",
       "      <td>1.000000</td>\n",
       "      <td>12.800000</td>\n",
       "    </tr>\n",
       "    <tr>\n",
       "      <th>75%</th>\n",
       "      <td>3.300000</td>\n",
       "      <td>2.000000</td>\n",
       "      <td>19.800000</td>\n",
       "    </tr>\n",
       "    <tr>\n",
       "      <th>max</th>\n",
       "      <td>64.600000</td>\n",
       "      <td>6.000000</td>\n",
       "      <td>252.350000</td>\n",
       "    </tr>\n",
       "  </tbody>\n",
       "</table>\n",
       "</div>"
      ],
      "text/plain": [
       "       trip_distance  passenger_count  total_amount\n",
       "count    9999.000000      9999.000000   9999.000000\n",
       "mean        3.158511         1.659466     17.552472\n",
       "std         4.037516         1.333306     15.137990\n",
       "min         0.000000         0.000000     -7.800000\n",
       "25%         1.000000         1.000000      8.800000\n",
       "50%         1.700000         1.000000     12.800000\n",
       "75%         3.300000         2.000000     19.800000\n",
       "max        64.600000         6.000000    252.350000"
      ]
     },
     "execution_count": 21,
     "metadata": {},
     "output_type": "execute_result"
    }
   ],
   "source": [
    "df[['trip_distance', 'passenger_count', 'total_amount']].describe()"
   ]
  },
  {
   "cell_type": "code",
   "execution_count": null,
   "id": "e5ba57d2-716d-4c5d-9a35-2a84bcbb206b",
   "metadata": {},
   "outputs": [],
   "source": []
  },
  {
   "cell_type": "code",
   "execution_count": 22,
   "id": "e4b5157d-1466-4c88-8b89-cf4340559f2c",
   "metadata": {},
   "outputs": [
    {
     "data": {
      "text/html": [
       "<div>\n",
       "<style scoped>\n",
       "    .dataframe tbody tr th:only-of-type {\n",
       "        vertical-align: middle;\n",
       "    }\n",
       "\n",
       "    .dataframe tbody tr th {\n",
       "        vertical-align: top;\n",
       "    }\n",
       "\n",
       "    .dataframe thead th {\n",
       "        text-align: right;\n",
       "    }\n",
       "</style>\n",
       "<table border=\"1\" class=\"dataframe\">\n",
       "  <thead>\n",
       "    <tr style=\"text-align: right;\">\n",
       "      <th></th>\n",
       "      <th>trip_distance</th>\n",
       "      <th>passenger_count</th>\n",
       "      <th>total_amount</th>\n",
       "    </tr>\n",
       "  </thead>\n",
       "  <tbody>\n",
       "    <tr>\n",
       "      <th>0</th>\n",
       "      <td>1.63</td>\n",
       "      <td>1</td>\n",
       "      <td>17.80</td>\n",
       "    </tr>\n",
       "    <tr>\n",
       "      <th>1</th>\n",
       "      <td>0.46</td>\n",
       "      <td>1</td>\n",
       "      <td>8.30</td>\n",
       "    </tr>\n",
       "    <tr>\n",
       "      <th>2</th>\n",
       "      <td>0.87</td>\n",
       "      <td>1</td>\n",
       "      <td>11.00</td>\n",
       "    </tr>\n",
       "    <tr>\n",
       "      <th>3</th>\n",
       "      <td>2.13</td>\n",
       "      <td>1</td>\n",
       "      <td>17.16</td>\n",
       "    </tr>\n",
       "    <tr>\n",
       "      <th>4</th>\n",
       "      <td>1.40</td>\n",
       "      <td>1</td>\n",
       "      <td>10.30</td>\n",
       "    </tr>\n",
       "  </tbody>\n",
       "</table>\n",
       "</div>"
      ],
      "text/plain": [
       "   trip_distance  passenger_count  total_amount\n",
       "0           1.63                1         17.80\n",
       "1           0.46                1          8.30\n",
       "2           0.87                1         11.00\n",
       "3           2.13                1         17.16\n",
       "4           1.40                1         10.30"
      ]
     },
     "execution_count": 22,
     "metadata": {},
     "output_type": "execute_result"
    }
   ],
   "source": [
    "df[['trip_distance', 'passenger_count', 'total_amount']].loc[[0,1,2,3,4]]"
   ]
  },
  {
   "cell_type": "code",
   "execution_count": null,
   "id": "4dd1bb00-f28c-4924-aba3-883e16f674cf",
   "metadata": {},
   "outputs": [],
   "source": []
  },
  {
   "cell_type": "code",
   "execution_count": 23,
   "id": "490cc45e-dc90-4578-96ff-f5ef031626fe",
   "metadata": {},
   "outputs": [
    {
     "data": {
      "text/html": [
       "<div>\n",
       "<style scoped>\n",
       "    .dataframe tbody tr th:only-of-type {\n",
       "        vertical-align: middle;\n",
       "    }\n",
       "\n",
       "    .dataframe tbody tr th {\n",
       "        vertical-align: top;\n",
       "    }\n",
       "\n",
       "    .dataframe thead th {\n",
       "        text-align: right;\n",
       "    }\n",
       "</style>\n",
       "<table border=\"1\" class=\"dataframe\">\n",
       "  <thead>\n",
       "    <tr style=\"text-align: right;\">\n",
       "      <th></th>\n",
       "      <th>trip_distance</th>\n",
       "      <th>passenger_count</th>\n",
       "      <th>total_amount</th>\n",
       "    </tr>\n",
       "  </thead>\n",
       "  <tbody>\n",
       "    <tr>\n",
       "      <th>count</th>\n",
       "      <td>3.000000</td>\n",
       "      <td>3.0</td>\n",
       "      <td>3.000000</td>\n",
       "    </tr>\n",
       "    <tr>\n",
       "      <th>mean</th>\n",
       "      <td>0.986667</td>\n",
       "      <td>1.0</td>\n",
       "      <td>12.366667</td>\n",
       "    </tr>\n",
       "    <tr>\n",
       "      <th>std</th>\n",
       "      <td>0.593661</td>\n",
       "      <td>0.0</td>\n",
       "      <td>4.895236</td>\n",
       "    </tr>\n",
       "    <tr>\n",
       "      <th>min</th>\n",
       "      <td>0.460000</td>\n",
       "      <td>1.0</td>\n",
       "      <td>8.300000</td>\n",
       "    </tr>\n",
       "    <tr>\n",
       "      <th>25%</th>\n",
       "      <td>0.665000</td>\n",
       "      <td>1.0</td>\n",
       "      <td>9.650000</td>\n",
       "    </tr>\n",
       "    <tr>\n",
       "      <th>50%</th>\n",
       "      <td>0.870000</td>\n",
       "      <td>1.0</td>\n",
       "      <td>11.000000</td>\n",
       "    </tr>\n",
       "    <tr>\n",
       "      <th>75%</th>\n",
       "      <td>1.250000</td>\n",
       "      <td>1.0</td>\n",
       "      <td>14.400000</td>\n",
       "    </tr>\n",
       "    <tr>\n",
       "      <th>max</th>\n",
       "      <td>1.630000</td>\n",
       "      <td>1.0</td>\n",
       "      <td>17.800000</td>\n",
       "    </tr>\n",
       "  </tbody>\n",
       "</table>\n",
       "</div>"
      ],
      "text/plain": [
       "       trip_distance  passenger_count  total_amount\n",
       "count       3.000000              3.0      3.000000\n",
       "mean        0.986667              1.0     12.366667\n",
       "std         0.593661              0.0      4.895236\n",
       "min         0.460000              1.0      8.300000\n",
       "25%         0.665000              1.0      9.650000\n",
       "50%         0.870000              1.0     11.000000\n",
       "75%         1.250000              1.0     14.400000\n",
       "max         1.630000              1.0     17.800000"
      ]
     },
     "execution_count": 23,
     "metadata": {},
     "output_type": "execute_result"
    }
   ],
   "source": [
    "df[['trip_distance', 'passenger_count', 'total_amount']].loc[[0,1,2]].describe()"
   ]
  },
  {
   "cell_type": "code",
   "execution_count": 24,
   "id": "cfa54cb0-4f6b-4f09-a980-bb76a54d16ea",
   "metadata": {},
   "outputs": [
    {
     "data": {
      "text/html": [
       "<div>\n",
       "<style scoped>\n",
       "    .dataframe tbody tr th:only-of-type {\n",
       "        vertical-align: middle;\n",
       "    }\n",
       "\n",
       "    .dataframe tbody tr th {\n",
       "        vertical-align: top;\n",
       "    }\n",
       "\n",
       "    .dataframe thead th {\n",
       "        text-align: right;\n",
       "    }\n",
       "</style>\n",
       "<table border=\"1\" class=\"dataframe\">\n",
       "  <thead>\n",
       "    <tr style=\"text-align: right;\">\n",
       "      <th></th>\n",
       "      <th>VendorID</th>\n",
       "      <th>passenger_count</th>\n",
       "      <th>trip_distance</th>\n",
       "      <th>pickup_longitude</th>\n",
       "      <th>pickup_latitude</th>\n",
       "      <th>RateCodeID</th>\n",
       "      <th>dropoff_longitude</th>\n",
       "      <th>dropoff_latitude</th>\n",
       "      <th>payment_type</th>\n",
       "      <th>fare_amount</th>\n",
       "      <th>extra</th>\n",
       "      <th>mta_tax</th>\n",
       "      <th>tip_amount</th>\n",
       "      <th>tolls_amount</th>\n",
       "      <th>improvement_surcharge</th>\n",
       "      <th>total_amount</th>\n",
       "    </tr>\n",
       "  </thead>\n",
       "  <tbody>\n",
       "    <tr>\n",
       "      <th>count</th>\n",
       "      <td>5.000000</td>\n",
       "      <td>5.0</td>\n",
       "      <td>5.00000</td>\n",
       "      <td>5.000000</td>\n",
       "      <td>5.000000</td>\n",
       "      <td>5.0</td>\n",
       "      <td>5.000000</td>\n",
       "      <td>5.000000</td>\n",
       "      <td>5.000000</td>\n",
       "      <td>5.000000</td>\n",
       "      <td>5.0</td>\n",
       "      <td>5.0</td>\n",
       "      <td>5.000000</td>\n",
       "      <td>5.0</td>\n",
       "      <td>5.0</td>\n",
       "      <td>5.000000</td>\n",
       "    </tr>\n",
       "    <tr>\n",
       "      <th>mean</th>\n",
       "      <td>1.800000</td>\n",
       "      <td>1.0</td>\n",
       "      <td>1.29800</td>\n",
       "      <td>-73.965793</td>\n",
       "      <td>40.762363</td>\n",
       "      <td>1.0</td>\n",
       "      <td>-73.979451</td>\n",
       "      <td>40.756154</td>\n",
       "      <td>1.400000</td>\n",
       "      <td>10.900000</td>\n",
       "      <td>0.0</td>\n",
       "      <td>0.5</td>\n",
       "      <td>1.212000</td>\n",
       "      <td>0.0</td>\n",
       "      <td>0.3</td>\n",
       "      <td>12.912000</td>\n",
       "    </tr>\n",
       "    <tr>\n",
       "      <th>std</th>\n",
       "      <td>0.447214</td>\n",
       "      <td>0.0</td>\n",
       "      <td>0.65159</td>\n",
       "      <td>0.014879</td>\n",
       "      <td>0.015164</td>\n",
       "      <td>0.0</td>\n",
       "      <td>0.007248</td>\n",
       "      <td>0.006666</td>\n",
       "      <td>0.547723</td>\n",
       "      <td>4.292435</td>\n",
       "      <td>0.0</td>\n",
       "      <td>0.0</td>\n",
       "      <td>1.291789</td>\n",
       "      <td>0.0</td>\n",
       "      <td>0.0</td>\n",
       "      <td>4.292053</td>\n",
       "    </tr>\n",
       "    <tr>\n",
       "      <th>min</th>\n",
       "      <td>1.000000</td>\n",
       "      <td>1.0</td>\n",
       "      <td>0.46000</td>\n",
       "      <td>-73.979088</td>\n",
       "      <td>40.738434</td>\n",
       "      <td>1.0</td>\n",
       "      <td>-73.990273</td>\n",
       "      <td>40.745438</td>\n",
       "      <td>1.000000</td>\n",
       "      <td>6.500000</td>\n",
       "      <td>0.0</td>\n",
       "      <td>0.5</td>\n",
       "      <td>0.000000</td>\n",
       "      <td>0.0</td>\n",
       "      <td>0.3</td>\n",
       "      <td>8.300000</td>\n",
       "    </tr>\n",
       "    <tr>\n",
       "      <th>25%</th>\n",
       "      <td>2.000000</td>\n",
       "      <td>1.0</td>\n",
       "      <td>0.87000</td>\n",
       "      <td>-73.978111</td>\n",
       "      <td>40.758942</td>\n",
       "      <td>1.0</td>\n",
       "      <td>-73.982162</td>\n",
       "      <td>40.754093</td>\n",
       "      <td>1.000000</td>\n",
       "      <td>8.000000</td>\n",
       "      <td>0.0</td>\n",
       "      <td>0.5</td>\n",
       "      <td>0.000000</td>\n",
       "      <td>0.0</td>\n",
       "      <td>0.3</td>\n",
       "      <td>10.300000</td>\n",
       "    </tr>\n",
       "    <tr>\n",
       "      <th>50%</th>\n",
       "      <td>2.000000</td>\n",
       "      <td>1.0</td>\n",
       "      <td>1.40000</td>\n",
       "      <td>-73.971443</td>\n",
       "      <td>40.764141</td>\n",
       "      <td>1.0</td>\n",
       "      <td>-73.978539</td>\n",
       "      <td>40.758999</td>\n",
       "      <td>1.000000</td>\n",
       "      <td>9.500000</td>\n",
       "      <td>0.0</td>\n",
       "      <td>0.5</td>\n",
       "      <td>1.000000</td>\n",
       "      <td>0.0</td>\n",
       "      <td>0.3</td>\n",
       "      <td>11.000000</td>\n",
       "    </tr>\n",
       "    <tr>\n",
       "      <th>75%</th>\n",
       "      <td>2.000000</td>\n",
       "      <td>1.0</td>\n",
       "      <td>1.63000</td>\n",
       "      <td>-73.954430</td>\n",
       "      <td>40.773529</td>\n",
       "      <td>1.0</td>\n",
       "      <td>-73.974754</td>\n",
       "      <td>40.760330</td>\n",
       "      <td>2.000000</td>\n",
       "      <td>13.500000</td>\n",
       "      <td>0.0</td>\n",
       "      <td>0.5</td>\n",
       "      <td>2.200000</td>\n",
       "      <td>0.0</td>\n",
       "      <td>0.3</td>\n",
       "      <td>17.160000</td>\n",
       "    </tr>\n",
       "    <tr>\n",
       "      <th>max</th>\n",
       "      <td>2.000000</td>\n",
       "      <td>1.0</td>\n",
       "      <td>2.13000</td>\n",
       "      <td>-73.945892</td>\n",
       "      <td>40.776772</td>\n",
       "      <td>1.0</td>\n",
       "      <td>-73.971527</td>\n",
       "      <td>40.761909</td>\n",
       "      <td>2.000000</td>\n",
       "      <td>17.000000</td>\n",
       "      <td>0.0</td>\n",
       "      <td>0.5</td>\n",
       "      <td>2.860000</td>\n",
       "      <td>0.0</td>\n",
       "      <td>0.3</td>\n",
       "      <td>17.800000</td>\n",
       "    </tr>\n",
       "  </tbody>\n",
       "</table>\n",
       "</div>"
      ],
      "text/plain": [
       "       VendorID  passenger_count  trip_distance  pickup_longitude  \\\n",
       "count  5.000000              5.0        5.00000          5.000000   \n",
       "mean   1.800000              1.0        1.29800        -73.965793   \n",
       "std    0.447214              0.0        0.65159          0.014879   \n",
       "min    1.000000              1.0        0.46000        -73.979088   \n",
       "25%    2.000000              1.0        0.87000        -73.978111   \n",
       "50%    2.000000              1.0        1.40000        -73.971443   \n",
       "75%    2.000000              1.0        1.63000        -73.954430   \n",
       "max    2.000000              1.0        2.13000        -73.945892   \n",
       "\n",
       "       pickup_latitude  RateCodeID  dropoff_longitude  dropoff_latitude  \\\n",
       "count         5.000000         5.0           5.000000          5.000000   \n",
       "mean         40.762363         1.0         -73.979451         40.756154   \n",
       "std           0.015164         0.0           0.007248          0.006666   \n",
       "min          40.738434         1.0         -73.990273         40.745438   \n",
       "25%          40.758942         1.0         -73.982162         40.754093   \n",
       "50%          40.764141         1.0         -73.978539         40.758999   \n",
       "75%          40.773529         1.0         -73.974754         40.760330   \n",
       "max          40.776772         1.0         -73.971527         40.761909   \n",
       "\n",
       "       payment_type  fare_amount  extra  mta_tax  tip_amount  tolls_amount  \\\n",
       "count      5.000000     5.000000    5.0      5.0    5.000000           5.0   \n",
       "mean       1.400000    10.900000    0.0      0.5    1.212000           0.0   \n",
       "std        0.547723     4.292435    0.0      0.0    1.291789           0.0   \n",
       "min        1.000000     6.500000    0.0      0.5    0.000000           0.0   \n",
       "25%        1.000000     8.000000    0.0      0.5    0.000000           0.0   \n",
       "50%        1.000000     9.500000    0.0      0.5    1.000000           0.0   \n",
       "75%        2.000000    13.500000    0.0      0.5    2.200000           0.0   \n",
       "max        2.000000    17.000000    0.0      0.5    2.860000           0.0   \n",
       "\n",
       "       improvement_surcharge  total_amount  \n",
       "count                    5.0      5.000000  \n",
       "mean                     0.3     12.912000  \n",
       "std                      0.0      4.292053  \n",
       "min                      0.3      8.300000  \n",
       "25%                      0.3     10.300000  \n",
       "50%                      0.3     11.000000  \n",
       "75%                      0.3     17.160000  \n",
       "max                      0.3     17.800000  "
      ]
     },
     "execution_count": 24,
     "metadata": {},
     "output_type": "execute_result"
    }
   ],
   "source": [
    "df.head(5).describe()"
   ]
  },
  {
   "cell_type": "code",
   "execution_count": 54,
   "id": "16c318d1-d6d8-4144-8f31-621c74d92b1c",
   "metadata": {},
   "outputs": [
    {
     "data": {
      "text/html": [
       "<div>\n",
       "<style scoped>\n",
       "    .dataframe tbody tr th:only-of-type {\n",
       "        vertical-align: middle;\n",
       "    }\n",
       "\n",
       "    .dataframe tbody tr th {\n",
       "        vertical-align: top;\n",
       "    }\n",
       "\n",
       "    .dataframe thead th {\n",
       "        text-align: right;\n",
       "    }\n",
       "</style>\n",
       "<table border=\"1\" class=\"dataframe\">\n",
       "  <thead>\n",
       "    <tr style=\"text-align: right;\">\n",
       "      <th></th>\n",
       "      <th>VendorID</th>\n",
       "      <th>tpep_pickup_datetime</th>\n",
       "      <th>tpep_dropoff_datetime</th>\n",
       "    </tr>\n",
       "  </thead>\n",
       "  <tbody>\n",
       "    <tr>\n",
       "      <th>0</th>\n",
       "      <td>2</td>\n",
       "      <td>2015-06-02 11:19:29</td>\n",
       "      <td>2015-06-02 11:47:52</td>\n",
       "    </tr>\n",
       "    <tr>\n",
       "      <th>1</th>\n",
       "      <td>2</td>\n",
       "      <td>2015-06-02 11:19:30</td>\n",
       "      <td>2015-06-02 11:27:56</td>\n",
       "    </tr>\n",
       "    <tr>\n",
       "      <th>2</th>\n",
       "      <td>2</td>\n",
       "      <td>2015-06-02 11:19:31</td>\n",
       "      <td>2015-06-02 11:30:30</td>\n",
       "    </tr>\n",
       "    <tr>\n",
       "      <th>3</th>\n",
       "      <td>2</td>\n",
       "      <td>2015-06-02 11:19:31</td>\n",
       "      <td>2015-06-02 11:39:02</td>\n",
       "    </tr>\n",
       "    <tr>\n",
       "      <th>4</th>\n",
       "      <td>1</td>\n",
       "      <td>2015-06-02 11:19:32</td>\n",
       "      <td>2015-06-02 11:32:49</td>\n",
       "    </tr>\n",
       "  </tbody>\n",
       "</table>\n",
       "</div>"
      ],
      "text/plain": [
       "   VendorID tpep_pickup_datetime tpep_dropoff_datetime\n",
       "0         2  2015-06-02 11:19:29   2015-06-02 11:47:52\n",
       "1         2  2015-06-02 11:19:30   2015-06-02 11:27:56\n",
       "2         2  2015-06-02 11:19:31   2015-06-02 11:30:30\n",
       "3         2  2015-06-02 11:19:31   2015-06-02 11:39:02\n",
       "4         1  2015-06-02 11:19:32   2015-06-02 11:32:49"
      ]
     },
     "execution_count": 54,
     "metadata": {},
     "output_type": "execute_result"
    }
   ],
   "source": [
    "df.iloc[0:5,0:3]\n"
   ]
  },
  {
   "cell_type": "code",
   "execution_count": 30,
   "id": "3f7df8ab-7db8-4ff4-aab0-3d700ae38cf7",
   "metadata": {},
   "outputs": [
    {
     "data": {
      "text/plain": [
       "<Axes: ylabel='Frequency'>"
      ]
     },
     "execution_count": 30,
     "metadata": {},
     "output_type": "execute_result"
    },
    {
     "data": {
      "image/png": "[encoded data removed]",
      "text/plain": [
       "<Figure size 640x480 with 1 Axes>"
      ]
     },
     "metadata": {},
     "output_type": "display_data"
    }
   ],
   "source": [
    "df['trip_distance'].plot.hist()"
   ]
  },
  {
   "cell_type": "code",
   "execution_count": 35,
   "id": "603e09ad-72fa-4f33-8d89-1784c8b3a380",
   "metadata": {},
   "outputs": [
    {
     "data": {
      "text/html": [
       "<div>\n",
       "<style scoped>\n",
       "    .dataframe tbody tr th:only-of-type {\n",
       "        vertical-align: middle;\n",
       "    }\n",
       "\n",
       "    .dataframe tbody tr th {\n",
       "        vertical-align: top;\n",
       "    }\n",
       "\n",
       "    .dataframe thead th {\n",
       "        text-align: right;\n",
       "    }\n",
       "</style>\n",
       "<table border=\"1\" class=\"dataframe\">\n",
       "  <thead>\n",
       "    <tr style=\"text-align: right;\">\n",
       "      <th></th>\n",
       "      <th>trip_distance</th>\n",
       "      <th>total_amount</th>\n",
       "    </tr>\n",
       "  </thead>\n",
       "  <tbody>\n",
       "    <tr>\n",
       "      <th>trip_distance</th>\n",
       "      <td>1.000000</td>\n",
       "      <td>0.880843</td>\n",
       "    </tr>\n",
       "    <tr>\n",
       "      <th>total_amount</th>\n",
       "      <td>0.880843</td>\n",
       "      <td>1.000000</td>\n",
       "    </tr>\n",
       "  </tbody>\n",
       "</table>\n",
       "</div>"
      ],
      "text/plain": [
       "               trip_distance  total_amount\n",
       "trip_distance       1.000000      0.880843\n",
       "total_amount        0.880843      1.000000"
      ]
     },
     "execution_count": 35,
     "metadata": {},
     "output_type": "execute_result"
    }
   ],
   "source": [
    "df[['trip_distance', 'total_amount']].corr()"
   ]
  },
  {
   "cell_type": "code",
   "execution_count": 39,
   "id": "5384f78e-3ec6-4dfa-a043-9a140608932a",
   "metadata": {},
   "outputs": [
    {
     "data": {
      "text/html": [
       "<div>\n",
       "<style scoped>\n",
       "    .dataframe tbody tr th:only-of-type {\n",
       "        vertical-align: middle;\n",
       "    }\n",
       "\n",
       "    .dataframe tbody tr th {\n",
       "        vertical-align: top;\n",
       "    }\n",
       "\n",
       "    .dataframe thead th {\n",
       "        text-align: right;\n",
       "    }\n",
       "</style>\n",
       "<table border=\"1\" class=\"dataframe\">\n",
       "  <thead>\n",
       "    <tr style=\"text-align: right;\">\n",
       "      <th></th>\n",
       "      <th>trip_distance</th>\n",
       "      <th>total_amount</th>\n",
       "      <th>passenger_count</th>\n",
       "    </tr>\n",
       "  </thead>\n",
       "  <tbody>\n",
       "    <tr>\n",
       "      <th>count</th>\n",
       "      <td>5.00000</td>\n",
       "      <td>5.000000</td>\n",
       "      <td>5.0</td>\n",
       "    </tr>\n",
       "    <tr>\n",
       "      <th>mean</th>\n",
       "      <td>1.29800</td>\n",
       "      <td>12.912000</td>\n",
       "      <td>1.0</td>\n",
       "    </tr>\n",
       "    <tr>\n",
       "      <th>std</th>\n",
       "      <td>0.65159</td>\n",
       "      <td>4.292053</td>\n",
       "      <td>0.0</td>\n",
       "    </tr>\n",
       "    <tr>\n",
       "      <th>min</th>\n",
       "      <td>0.46000</td>\n",
       "      <td>8.300000</td>\n",
       "      <td>1.0</td>\n",
       "    </tr>\n",
       "    <tr>\n",
       "      <th>25%</th>\n",
       "      <td>0.87000</td>\n",
       "      <td>10.300000</td>\n",
       "      <td>1.0</td>\n",
       "    </tr>\n",
       "    <tr>\n",
       "      <th>50%</th>\n",
       "      <td>1.40000</td>\n",
       "      <td>11.000000</td>\n",
       "      <td>1.0</td>\n",
       "    </tr>\n",
       "    <tr>\n",
       "      <th>75%</th>\n",
       "      <td>1.63000</td>\n",
       "      <td>17.160000</td>\n",
       "      <td>1.0</td>\n",
       "    </tr>\n",
       "    <tr>\n",
       "      <th>max</th>\n",
       "      <td>2.13000</td>\n",
       "      <td>17.800000</td>\n",
       "      <td>1.0</td>\n",
       "    </tr>\n",
       "  </tbody>\n",
       "</table>\n",
       "</div>"
      ],
      "text/plain": [
       "       trip_distance  total_amount  passenger_count\n",
       "count        5.00000      5.000000              5.0\n",
       "mean         1.29800     12.912000              1.0\n",
       "std          0.65159      4.292053              0.0\n",
       "min          0.46000      8.300000              1.0\n",
       "25%          0.87000     10.300000              1.0\n",
       "50%          1.40000     11.000000              1.0\n",
       "75%          1.63000     17.160000              1.0\n",
       "max          2.13000     17.800000              1.0"
      ]
     },
     "execution_count": 39,
     "metadata": {},
     "output_type": "execute_result"
    }
   ],
   "source": [
    "(\n",
    "df\n",
    "[['trip_distance', 'total_amount', 'passenger_count']]\n",
    ".head(5)\n",
    ".describe()\n",
    ")"
   ]
  },
  {
   "cell_type": "code",
   "execution_count": 43,
   "id": "c6292fa1-7801-49b7-a7a7-05978c0649bb",
   "metadata": {},
   "outputs": [
    {
     "data": {
      "text/plain": [
       "array([<Axes: ylabel='Frequency'>, <Axes: ylabel='Frequency'>],\n",
       "      dtype=object)"
      ]
     },
     "execution_count": 43,
     "metadata": {},
     "output_type": "execute_result"
    },
    {
     "data": {
      "image/png": "[encoded data removed]",
      "text/plain": [
       "<Figure size 640x480 with 2 Axes>"
      ]
     },
     "metadata": {},
     "output_type": "display_data"
    }
   ],
   "source": [
    "df[['trip_distance', 'total_amount']].plot.hist(subplots = True)"
   ]
  },
  {
   "cell_type": "code",
   "execution_count": 30,
   "id": "a873f088-7a8c-4d44-9dfa-65517e0d1447",
   "metadata": {},
   "outputs": [
    {
     "data": {
      "text/plain": [
       "<Axes: ylabel='Frequency'>"
      ]
     },
     "execution_count": 30,
     "metadata": {},
     "output_type": "execute_result"
    },
    {
     "data": {
      "image/png": "[encoded data removed]",
      "text/plain": [
       "<Figure size 640x480 with 1 Axes>"
      ]
     },
     "metadata": {},
     "output_type": "display_data"
    }
   ],
   "source": [
    "df['trip_distance'].plot.hist()"
   ]
  },
  {
   "cell_type": "code",
   "execution_count": null,
   "id": "49095548-53ae-4e63-91fb-7c671fa3ee03",
   "metadata": {},
   "outputs": [],
   "source": []
  },
  {
   "cell_type": "code",
   "execution_count": 30,
   "id": "6eb2d150-11af-4b77-beba-39a5c96cd35d",
   "metadata": {},
   "outputs": [
    {
     "data": {
      "text/plain": [
       "<Axes: ylabel='Frequency'>"
      ]
     },
     "execution_count": 30,
     "metadata": {},
     "output_type": "execute_result"
    },
    {
     "data": {
      "image/png": "[encoded data removed]",
      "text/plain": [
       "<Figure size 640x480 with 1 Axes>"
      ]
     },
     "metadata": {},
     "output_type": "display_data"
    }
   ],
   "source": [
    "df['trip_distance'].plot.hist()"
   ]
  },
  {
   "cell_type": "code",
   "execution_count": null,
   "id": "1f948cf4-a8a9-4a92-b234-c5840f17ed06",
   "metadata": {},
   "outputs": [],
   "source": []
  },
  {
   "cell_type": "code",
   "execution_count": 44,
   "id": "02fac134-8467-4702-8c25-44bf962207c2",
   "metadata": {},
   "outputs": [
    {
     "data": {
      "text/plain": [
       "<Axes: >"
      ]
     },
     "execution_count": 44,
     "metadata": {},
     "output_type": "execute_result"
    },
    {
     "data": {
      "image/png": "[encoded data removed]",
      "text/plain": [
       "<Figure size 640x480 with 1 Axes>"
      ]
     },
     "metadata": {},
     "output_type": "display_data"
    }
   ],
   "source": [
    "(\n",
    "df\n",
    "[['trip_distance', 'total_amount', 'passenger_count']]\n",
    ".head(100)\n",
    ".plot.line()\n",
    ")"
   ]
  },
  {
   "cell_type": "code",
   "execution_count": 48,
   "id": "afeadccf-a49b-4fc3-8d60-204a8464120f",
   "metadata": {},
   "outputs": [
    {
     "data": {
      "text/plain": [
       "passenger_count\n",
       "1    0.720772\n",
       "2    0.131313\n",
       "5    0.052005\n",
       "3    0.040604\n",
       "6    0.036904\n",
       "4    0.018202\n",
       "0    0.000200\n",
       "Name: proportion, dtype: float64"
      ]
     },
     "execution_count": 48,
     "metadata": {},
     "output_type": "execute_result"
    }
   ],
   "source": [
    "(\n",
    "    df\n",
    "    ['passenger_count']\n",
    "    .value_counts(normalize = True)\n",
    ")"
   ]
  },
  {
   "cell_type": "code",
   "execution_count": null,
   "id": "468eeecf-0ac5-44be-859e-3195193322eb",
   "metadata": {},
   "outputs": [],
   "source": []
  },
  {
   "cell_type": "code",
   "execution_count": 50,
   "id": "eb9b5584-123f-444e-be74-916c0106e3f5",
   "metadata": {},
   "outputs": [
    {
     "data": {
      "text/plain": [
       "<Axes: ylabel='count'>"
      ]
     },
     "execution_count": 50,
     "metadata": {},
     "output_type": "execute_result"
    },
    {
     "data": {
      "image/png": "[encoded data removed]",
      "text/plain": [
       "<Figure size 640x480 with 1 Axes>"
      ]
     },
     "metadata": {},
     "output_type": "display_data"
    }
   ],
   "source": [
    "(\n",
    "    df\n",
    "    ['passenger_count']\n",
    "    .value_counts()\n",
    "    .plot.pie()\n",
    ")"
   ]
  },
  {
   "cell_type": "code",
   "execution_count": 52,
   "id": "9ca2e2ae-55ef-4a69-8d7a-51eb81337fd4",
   "metadata": {},
   "outputs": [
    {
     "data": {
      "text/plain": [
       "'2015-06-02 11:19:29'"
      ]
     },
     "execution_count": 52,
     "metadata": {},
     "output_type": "execute_result"
    }
   ],
   "source": [
    "df.iloc[0,1]"
   ]
  },
  {
   "cell_type": "code",
   "execution_count": 55,
   "id": "9f31cd02-70b3-4418-bc4e-41df17d86340",
   "metadata": {},
   "outputs": [
    {
     "data": {
      "text/html": [
       "<div>\n",
       "<style scoped>\n",
       "    .dataframe tbody tr th:only-of-type {\n",
       "        vertical-align: middle;\n",
       "    }\n",
       "\n",
       "    .dataframe tbody tr th {\n",
       "        vertical-align: top;\n",
       "    }\n",
       "\n",
       "    .dataframe thead th {\n",
       "        text-align: right;\n",
       "    }\n",
       "</style>\n",
       "<table border=\"1\" class=\"dataframe\">\n",
       "  <thead>\n",
       "    <tr style=\"text-align: right;\">\n",
       "      <th></th>\n",
       "      <th>tpep_pickup_datetime</th>\n",
       "      <th>passenger_count</th>\n",
       "    </tr>\n",
       "  </thead>\n",
       "  <tbody>\n",
       "    <tr>\n",
       "      <th>0</th>\n",
       "      <td>2015-06-02 11:19:29</td>\n",
       "      <td>1</td>\n",
       "    </tr>\n",
       "    <tr>\n",
       "      <th>2</th>\n",
       "      <td>2015-06-02 11:19:31</td>\n",
       "      <td>1</td>\n",
       "    </tr>\n",
       "    <tr>\n",
       "      <th>4</th>\n",
       "      <td>2015-06-02 11:19:32</td>\n",
       "      <td>1</td>\n",
       "    </tr>\n",
       "  </tbody>\n",
       "</table>\n",
       "</div>"
      ],
      "text/plain": [
       "  tpep_pickup_datetime  passenger_count\n",
       "0  2015-06-02 11:19:29                1\n",
       "2  2015-06-02 11:19:31                1\n",
       "4  2015-06-02 11:19:32                1"
      ]
     },
     "execution_count": 55,
     "metadata": {},
     "output_type": "execute_result"
    }
   ],
   "source": [
    "df.iloc[[0,2,4],[1,3]]"
   ]
  },
  {
   "cell_type": "code",
   "execution_count": 1,
   "id": "1c96f25a-a58c-4952-9d5e-9cde616a7012",
   "metadata": {},
   "outputs": [],
   "source": [
    "import pandas as pd"
   ]
  },
  {
   "cell_type": "code",
   "execution_count": 2,
   "id": "1f630f26-288b-4a59-91b2-44e2444a91ca",
   "metadata": {},
   "outputs": [],
   "source": [
    "from pandas import Series"
   ]
  },
  {
   "cell_type": "code",
   "execution_count": 5,
   "id": "6cc1fb73-64bf-490b-a3b6-3abcd8490ef0",
   "metadata": {},
   "outputs": [],
   "source": [
    "s = Series ([10,20,30,40,50])"
   ]
  },
  {
   "cell_type": "code",
   "execution_count": 6,
   "id": "61132cc4-bba0-44fe-ba5c-bb4fd7672a2e",
   "metadata": {},
   "outputs": [
    {
     "data": {
      "text/plain": [
       "0    10\n",
       "1    20\n",
       "2    30\n",
       "3    40\n",
       "4    50\n",
       "dtype: int64"
      ]
     },
     "execution_count": 6,
     "metadata": {},
     "output_type": "execute_result"
    }
   ],
   "source": [
    "s"
   ]
  },
  {
   "cell_type": "code",
   "execution_count": 7,
   "id": "23d2517b-b1b0-4b2f-afbc-e8df5d56a59c",
   "metadata": {},
   "outputs": [
    {
     "data": {
      "text/plain": [
       "numpy.int64"
      ]
     },
     "execution_count": 7,
     "metadata": {},
     "output_type": "execute_result"
    }
   ],
   "source": [
    "type (s[1])"
   ]
  },
  {
   "cell_type": "code",
   "execution_count": 8,
   "id": "2abc00d9-8db3-4646-9f14-720ebf77cf90",
   "metadata": {},
   "outputs": [
    {
     "data": {
      "text/plain": [
       "20"
      ]
     },
     "execution_count": 8,
     "metadata": {},
     "output_type": "execute_result"
    }
   ],
   "source": [
    "s[1]"
   ]
  },
  {
   "cell_type": "code",
   "execution_count": 9,
   "id": "081d3179-f8c9-4bcb-87dc-39ecaa41b849",
   "metadata": {},
   "outputs": [
    {
     "data": {
      "text/plain": [
       "30"
      ]
     },
     "execution_count": 9,
     "metadata": {},
     "output_type": "execute_result"
    }
   ],
   "source": [
    "s.loc[2]"
   ]
  },
  {
   "cell_type": "code",
   "execution_count": 10,
   "id": "9bba7333-2e5d-4cb0-a2c8-00186d9555fc",
   "metadata": {},
   "outputs": [
    {
     "data": {
      "text/plain": [
       "19.23"
      ]
     },
     "execution_count": 10,
     "metadata": {},
     "output_type": "execute_result"
    }
   ],
   "source": [
    "s = Series([12, 11.5, 20, 18, 17, 17.8, 20, 21, 25, 30])\n",
    "s.mean()"
   ]
  },
  {
   "cell_type": "code",
   "execution_count": 11,
   "id": "add235f7-fa29-4266-aff2-a55551190d2e",
   "metadata": {},
   "outputs": [
    {
     "data": {
      "text/plain": [
       "19.0"
      ]
     },
     "execution_count": 11,
     "metadata": {},
     "output_type": "execute_result"
    }
   ],
   "source": [
    "s.median()"
   ]
  },
  {
   "cell_type": "code",
   "execution_count": 12,
   "id": "3c2c5d11-3a9d-4750-96e1-0ca167570063",
   "metadata": {},
   "outputs": [
    {
     "data": {
      "text/plain": [
       "count    10.000000\n",
       "mean     19.230000\n",
       "std       5.519269\n",
       "min      11.500000\n",
       "25%      17.200000\n",
       "50%      19.000000\n",
       "75%      20.750000\n",
       "max      30.000000\n",
       "dtype: float64"
      ]
     },
     "execution_count": 12,
     "metadata": {},
     "output_type": "execute_result"
    }
   ],
   "source": [
    "s.describe()"
   ]
  },
  {
   "cell_type": "code",
   "execution_count": 28,
   "id": "2bc108f1-425c-4108-8198-ee8b85d94d27",
   "metadata": {},
   "outputs": [
    {
     "ename": "SyntaxError",
     "evalue": "unmatched ')' (4080997553.py, line 1)",
     "output_type": "error",
     "traceback": [
      "\u001b[0;36m  Cell \u001b[0;32mIn[28], line 1\u001b[0;36m\u001b[0m\n\u001b[0;31m    s=Series([10,20,30,40,50]),index = list('abcde'))\u001b[0m\n\u001b[0m                                                    ^\u001b[0m\n\u001b[0;31mSyntaxError\u001b[0m\u001b[0;31m:\u001b[0m unmatched ')'\n"
     ]
    }
   ],
   "source": [
    "s=Series([10,20,30,40,50]),index = list('abcde'))\n",
    "s\n",
    "s.index = [2,4,5,7,19]\n",
    "s.loc[2]\n",
    "list(s.index)\n"
   ]
  },
  {
   "cell_type": "markdown",
   "id": "1d4cb106-fc8b-4307-a704-9fdb19dbe6cd",
   "metadata": {},
   "source": [
    "s.loc[[2,4]]"
   ]
  },
  {
   "cell_type": "code",
   "execution_count": 20,
   "id": "69acf66e-2d00-4163-8d5b-2619c5724a19",
   "metadata": {},
   "outputs": [
    {
     "data": {
      "text/plain": [
       "15.0"
      ]
     },
     "execution_count": 20,
     "metadata": {},
     "output_type": "execute_result"
    }
   ],
   "source": [
    "s.loc[[2,4]].mean()"
   ]
  },
  {
   "cell_type": "code",
   "execution_count": 35,
   "id": "2d5941da-e101-4416-aa55-0f0dc593b3e3",
   "metadata": {},
   "outputs": [
    {
     "ename": "NameError",
     "evalue": "name 'mon' is not defined",
     "output_type": "error",
     "traceback": [
      "\u001b[0;31m---------------------------------------------------------------------------\u001b[0m",
      "\u001b[0;31mNameError\u001b[0m                                 Traceback (most recent call last)",
      "Cell \u001b[0;32mIn[35], line 2\u001b[0m\n\u001b[1;32m      1\u001b[0m s \u001b[38;5;241m=\u001b[39m Series([\u001b[38;5;241m10\u001b[39m,\u001b[38;5;241m11\u001b[39m,\u001b[38;5;241m12\u001b[39m,\u001b[38;5;241m21\u001b[39m,\u001b[38;5;241m23\u001b[39m,\u001b[38;5;241m34\u001b[39m,\u001b[38;5;241m35\u001b[39m,\u001b[38;5;241m54\u001b[39m,\u001b[38;5;241m32\u001b[39m,\u001b[38;5;241m11\u001b[39m,\u001b[38;5;241m9\u001b[39m,\u001b[38;5;241m10\u001b[39m,\u001b[38;5;241m17\u001b[39m,\u001b[38;5;241m18\u001b[39m])\n\u001b[0;32m----> 2\u001b[0m s\u001b[38;5;241m.\u001b[39mindex \u001b[38;5;241m=\u001b[39m[\u001b[43mmon\u001b[49m,tuesday,wed,thur,fri,sat,sun,mon,tues,wed,thur,fri,sat,sun]\n\u001b[1;32m      3\u001b[0m s\u001b[38;5;241m.\u001b[39mloc[\u001b[38;5;124m'\u001b[39m\u001b[38;5;124mfri\u001b[39m\u001b[38;5;124m'\u001b[39m]\n",
      "\u001b[0;31mNameError\u001b[0m: name 'mon' is not defined"
     ]
    }
   ],
   "source": [
    "s = Series([10,11,12,21,23,34,35,54,32,11,9,10,17,18])\n",
    "s.index =[mon,tuesday,wed,thur,fri,sat,sun,mon,tues,wed,thur,fri,sat,sun]\n",
    "s.loc['fri']"
   ]
  },
  {
   "cell_type": "code",
   "execution_count": 10,
   "id": "35524d4c-ce4c-4c5e-b5c7-1c92e8097707",
   "metadata": {},
   "outputs": [
    {
     "data": {
      "text/plain": [
       "19.23"
      ]
     },
     "execution_count": 10,
     "metadata": {},
     "output_type": "execute_result"
    }
   ],
   "source": [
    "s = Series([12, 11.5, 20, 18, 17, 17.8, 20, 21, 25, 30])\n"
   ]
  },
  {
   "cell_type": "code",
   "execution_count": 30,
   "id": "d6eaf787-fa28-4bba-945f-dd0d89768e1f",
   "metadata": {},
   "outputs": [
    {
     "ename": "SyntaxError",
     "evalue": "unmatched ')' (3006807984.py, line 1)",
     "output_type": "error",
     "traceback": [
      "\u001b[0;36m  Cell \u001b[0;32mIn[30], line 1\u001b[0;36m\u001b[0m\n\u001b[0;31m    s = Series([12, 11.5, 20, 18, 17, 17.8, 20]),index = list('MTWTFSS'))\u001b[0m\n\u001b[0m                                                                        ^\u001b[0m\n\u001b[0;31mSyntaxError\u001b[0m\u001b[0;31m:\u001b[0m unmatched ')'\n"
     ]
    }
   ],
   "source": [
    "s = Series([12, 11.5, 20, 18, 17, 17.8, 20]),index = list('MTWTFSS'))\n",
    "s"
   ]
  },
  {
   "cell_type": "code",
   "execution_count": null,
   "id": "a8baad9b-eeb8-4761-b603-bac020d7a420",
   "metadata": {},
   "outputs": [],
   "source": []
  },
  {
   "cell_type": "code",
   "execution_count": 10,
   "id": "aff11f1b-edab-43b9-8609-702813e4682c",
   "metadata": {},
   "outputs": [
    {
     "data": {
      "text/plain": [
       "19.23"
      ]
     },
     "execution_count": 10,
     "metadata": {},
     "output_type": "execute_result"
    }
   ],
   "source": [
    "s1 = Series([12, 11.5, 20, 18, 17], index = ['abcde'])\n"
   ]
  },
  {
   "cell_type": "code",
   "execution_count": 36,
   "id": "4327b0e9-8dfa-4dab-9151-c7db8cee524f",
   "metadata": {},
   "outputs": [
    {
     "ename": "ValueError",
     "evalue": "Length of values (5) does not match length of index (1)",
     "output_type": "error",
     "traceback": [
      "\u001b[0;31m---------------------------------------------------------------------------\u001b[0m",
      "\u001b[0;31mValueError\u001b[0m                                Traceback (most recent call last)",
      "Cell \u001b[0;32mIn[36], line 1\u001b[0m\n\u001b[0;32m----> 1\u001b[0m s2 \u001b[38;5;241m=\u001b[39m \u001b[43mSeries\u001b[49m\u001b[43m(\u001b[49m\u001b[43m[\u001b[49m\u001b[38;5;241;43m14\u001b[39;49m\u001b[43m,\u001b[49m\u001b[43m \u001b[49m\u001b[38;5;241;43m15\u001b[39;49m\u001b[43m,\u001b[49m\u001b[43m \u001b[49m\u001b[38;5;241;43m25\u001b[39;49m\u001b[43m,\u001b[49m\u001b[43m \u001b[49m\u001b[38;5;241;43m28\u001b[39;49m\u001b[43m,\u001b[49m\u001b[43m \u001b[49m\u001b[38;5;241;43m27\u001b[39;49m\u001b[43m]\u001b[49m\u001b[43m,\u001b[49m\u001b[43m \u001b[49m\u001b[43mindex\u001b[49m\u001b[43m \u001b[49m\u001b[38;5;241;43m=\u001b[39;49m\u001b[43m \u001b[49m\u001b[43m[\u001b[49m\u001b[38;5;124;43m'\u001b[39;49m\u001b[38;5;124;43mabcde\u001b[39;49m\u001b[38;5;124;43m'\u001b[39;49m\u001b[43m]\u001b[49m\u001b[43m)\u001b[49m\n\u001b[1;32m      2\u001b[0m s1\u001b[38;5;241m+\u001b[39ms2\n",
      "File \u001b[0;32m~/.pyenv/versions/3.12.3/lib/python3.12/site-packages/pandas/core/series.py:575\u001b[0m, in \u001b[0;36mSeries.__init__\u001b[0;34m(self, data, index, dtype, name, copy, fastpath)\u001b[0m\n\u001b[1;32m    573\u001b[0m     index \u001b[38;5;241m=\u001b[39m default_index(\u001b[38;5;28mlen\u001b[39m(data))\n\u001b[1;32m    574\u001b[0m \u001b[38;5;28;01melif\u001b[39;00m is_list_like(data):\n\u001b[0;32m--> 575\u001b[0m     \u001b[43mcom\u001b[49m\u001b[38;5;241;43m.\u001b[39;49m\u001b[43mrequire_length_match\u001b[49m\u001b[43m(\u001b[49m\u001b[43mdata\u001b[49m\u001b[43m,\u001b[49m\u001b[43m \u001b[49m\u001b[43mindex\u001b[49m\u001b[43m)\u001b[49m\n\u001b[1;32m    577\u001b[0m \u001b[38;5;66;03m# create/copy the manager\u001b[39;00m\n\u001b[1;32m    578\u001b[0m \u001b[38;5;28;01mif\u001b[39;00m \u001b[38;5;28misinstance\u001b[39m(data, (SingleBlockManager, SingleArrayManager)):\n",
      "File \u001b[0;32m~/.pyenv/versions/3.12.3/lib/python3.12/site-packages/pandas/core/common.py:573\u001b[0m, in \u001b[0;36mrequire_length_match\u001b[0;34m(data, index)\u001b[0m\n\u001b[1;32m    569\u001b[0m \u001b[38;5;250m\u001b[39m\u001b[38;5;124;03m\"\"\"\u001b[39;00m\n\u001b[1;32m    570\u001b[0m \u001b[38;5;124;03mCheck the length of data matches the length of the index.\u001b[39;00m\n\u001b[1;32m    571\u001b[0m \u001b[38;5;124;03m\"\"\"\u001b[39;00m\n\u001b[1;32m    572\u001b[0m \u001b[38;5;28;01mif\u001b[39;00m \u001b[38;5;28mlen\u001b[39m(data) \u001b[38;5;241m!=\u001b[39m \u001b[38;5;28mlen\u001b[39m(index):\n\u001b[0;32m--> 573\u001b[0m     \u001b[38;5;28;01mraise\u001b[39;00m \u001b[38;5;167;01mValueError\u001b[39;00m(\n\u001b[1;32m    574\u001b[0m         \u001b[38;5;124m\"\u001b[39m\u001b[38;5;124mLength of values \u001b[39m\u001b[38;5;124m\"\u001b[39m\n\u001b[1;32m    575\u001b[0m         \u001b[38;5;124mf\u001b[39m\u001b[38;5;124m\"\u001b[39m\u001b[38;5;124m(\u001b[39m\u001b[38;5;132;01m{\u001b[39;00m\u001b[38;5;28mlen\u001b[39m(data)\u001b[38;5;132;01m}\u001b[39;00m\u001b[38;5;124m) \u001b[39m\u001b[38;5;124m\"\u001b[39m\n\u001b[1;32m    576\u001b[0m         \u001b[38;5;124m\"\u001b[39m\u001b[38;5;124mdoes not match length of index \u001b[39m\u001b[38;5;124m\"\u001b[39m\n\u001b[1;32m    577\u001b[0m         \u001b[38;5;124mf\u001b[39m\u001b[38;5;124m\"\u001b[39m\u001b[38;5;124m(\u001b[39m\u001b[38;5;132;01m{\u001b[39;00m\u001b[38;5;28mlen\u001b[39m(index)\u001b[38;5;132;01m}\u001b[39;00m\u001b[38;5;124m)\u001b[39m\u001b[38;5;124m\"\u001b[39m\n\u001b[1;32m    578\u001b[0m     )\n",
      "\u001b[0;31mValueError\u001b[0m: Length of values (5) does not match length of index (1)"
     ]
    }
   ],
   "source": [
    "s2 = Series([14, 15, 25, 28, 27], index = ['abcde'])\n",
    "s1+s2\n"
   ]
  },
  {
   "cell_type": "code",
   "execution_count": 37,
   "id": "acd8a9e4-c355-40a1-8543-9b4e15140f73",
   "metadata": {},
   "outputs": [
    {
     "data": {
      "text/plain": [
       "a    10\n",
       "b    20\n",
       "c    30\n",
       "d    40\n",
       "e    50\n",
       "dtype: int64"
      ]
     },
     "execution_count": 37,
     "metadata": {},
     "output_type": "execute_result"
    }
   ],
   "source": [
    "s = Series([10, 20, 30, 40, 50],\n",
    "           index=list('abcde'))\n",
    "s"
   ]
  },
  {
   "cell_type": "code",
   "execution_count": 38,
   "id": "37dfb1c2-bb07-404d-ae13-6040a684588a",
   "metadata": {},
   "outputs": [
    {
     "data": {
      "text/plain": [
       "Index(['a', 'b', 'c', 'd', 'e'], dtype='object')"
      ]
     },
     "execution_count": 38,
     "metadata": {},
     "output_type": "execute_result"
    }
   ],
   "source": [
    "s.index"
   ]
  },
  {
   "cell_type": "code",
   "execution_count": 39,
   "id": "b1367672-2fc2-483b-9978-531b5e6a28d8",
   "metadata": {},
   "outputs": [
    {
     "data": {
      "text/plain": [
       "Fri    33\n",
       "Sat    38\n",
       "Sun    27\n",
       "Mon    24\n",
       "Tue    23\n",
       "Wed    24\n",
       "Thu    25\n",
       "Fri    27\n",
       "Sat    32\n",
       "Sun    35\n",
       "dtype: int64"
      ]
     },
     "execution_count": 39,
     "metadata": {},
     "output_type": "execute_result"
    }
   ],
   "source": [
    "s = Series([33, 38, 27, 24, 23, 24, 25, 27, 32, 35],\n",
    "          index='Fri Sat Sun Mon Tue Wed Thu Fri Sat Sun'.split())\n",
    "s"
   ]
  },
  {
   "cell_type": "code",
   "execution_count": 40,
   "id": "79cbc46e-baee-4729-ad84-128c99e3fe61",
   "metadata": {},
   "outputs": [
    {
     "data": {
      "text/plain": [
       "Fri    33\n",
       "Fri    27\n",
       "dtype: int64"
      ]
     },
     "execution_count": 40,
     "metadata": {},
     "output_type": "execute_result"
    }
   ],
   "source": [
    "s.loc['Fri']"
   ]
  },
  {
   "cell_type": "code",
   "execution_count": 41,
   "id": "667b4ad0-b967-4270-98c5-a96207307153",
   "metadata": {},
   "outputs": [
    {
     "data": {
      "text/plain": [
       "Mon    24\n",
       "Fri    33\n",
       "Fri    27\n",
       "Mon    24\n",
       "dtype: int64"
      ]
     },
     "execution_count": 41,
     "metadata": {},
     "output_type": "execute_result"
    }
   ],
   "source": [
    "s.loc[['Mon', 'Fri', 'Mon']]"
   ]
  },
  {
   "cell_type": "code",
   "execution_count": 42,
   "id": "f3bd5db0-4f50-41f7-8ff0-7ca3b1c0c9c8",
   "metadata": {},
   "outputs": [
    {
     "data": {
      "text/plain": [
       "11.6"
      ]
     },
     "execution_count": 42,
     "metadata": {},
     "output_type": "execute_result"
    }
   ],
   "source": [
    "highs = Series([33, 38, 27, 24, 23, 24, 25, 27, 32, 35],\n",
    "          index='Fri Sat Sun Mon Tue Wed Thu Fri Sat Sun'.split())\n",
    "lows = Series([19, 19, 17, 16, 16, 15, 14, 16, 19, 21],\n",
    "          index='Fri Sat Sun Mon Tue Wed Thu Fri Sat Sun'.split())\n",
    "diffs = highs - lows\n",
    "diffs.mean()"
   ]
  },
  {
   "cell_type": "code",
   "execution_count": 43,
   "id": "b89305aa-f8e2-4629-a98b-44173d473cf5",
   "metadata": {},
   "outputs": [
    {
     "data": {
      "text/plain": [
       "Fri     91.4\n",
       "Sat    100.4\n",
       "Sun     80.6\n",
       "Mon     75.2\n",
       "Tue     73.4\n",
       "Wed     75.2\n",
       "Thu     77.0\n",
       "Fri     80.6\n",
       "Sat     89.6\n",
       "Sun     95.0\n",
       "dtype: float64"
      ]
     },
     "execution_count": 43,
     "metadata": {},
     "output_type": "execute_result"
    }
   ],
   "source": [
    "(highs * 1.8) + 32"
   ]
  },
  {
   "cell_type": "code",
   "execution_count": 44,
   "id": "61a70d0f-1857-453d-aead-9d34a8377042",
   "metadata": {},
   "outputs": [
    {
     "data": {
      "text/plain": [
       "Fri    33\n",
       "Sat    38\n",
       "Sun    27\n",
       "Mon    24\n",
       "Tue    23\n",
       "Wed    24\n",
       "Thu    25\n",
       "Fri    27\n",
       "Sat    32\n",
       "Sun    35\n",
       "dtype: int64"
      ]
     },
     "execution_count": 44,
     "metadata": {},
     "output_type": "execute_result"
    }
   ],
   "source": [
    "s"
   ]
  },
  {
   "cell_type": "code",
   "execution_count": 45,
   "id": "02419c25-3210-48f9-9371-8ae9474555ea",
   "metadata": {},
   "outputs": [
    {
     "data": {
      "text/plain": [
       "<bound method Series.mean of Fri    33\n",
       "Sat    38\n",
       "Sun    27\n",
       "Mon    24\n",
       "Tue    23\n",
       "Wed    24\n",
       "Thu    25\n",
       "Fri    27\n",
       "Sat    32\n",
       "Sun    35\n",
       "dtype: int64>"
      ]
     },
     "execution_count": 45,
     "metadata": {},
     "output_type": "execute_result"
    }
   ],
   "source": [
    "highs.mean"
   ]
  },
  {
   "cell_type": "code",
   "execution_count": 1,
   "id": "93267786-b9d5-48ff-ad8f-0b265d654bf7",
   "metadata": {},
   "outputs": [
    {
     "ename": "NameError",
     "evalue": "name 'highs' is not defined",
     "output_type": "error",
     "traceback": [
      "\u001b[0;31m---------------------------------------------------------------------------\u001b[0m",
      "\u001b[0;31mNameError\u001b[0m                                 Traceback (most recent call last)",
      "Cell \u001b[0;32mIn[1], line 1\u001b[0m\n\u001b[0;32m----> 1\u001b[0m mean1 \u001b[38;5;241m=\u001b[39m \u001b[43mhighs\u001b[49m\u001b[38;5;241m.\u001b[39mmean()\n\u001b[1;32m      2\u001b[0m mean2 \u001b[38;5;241m=\u001b[39m lows\u001b[38;5;241m.\u001b[39mmean()\n\u001b[1;32m      3\u001b[0m highs_above_mean\u001b[38;5;241m=\u001b[39m highs[highs\u001b[38;5;241m>\u001b[39mmean1]\n",
      "\u001b[0;31mNameError\u001b[0m: name 'highs' is not defined"
     ]
    }
   ],
   "source": [
    "mean1 = highs.mean()\n",
    "mean2 = lows.mean()\n",
    "highs_above_mean= highs[highs>mean1]"
   ]
  },
  {
   "cell_type": "code",
   "execution_count": 2,
   "id": "b43239b1-7c94-4ef8-98cc-41bba643b2dd",
   "metadata": {},
   "outputs": [],
   "source": [
    "import pandas as pd"
   ]
  },
  {
   "cell_type": "code",
   "execution_count": null,
   "id": "8992912d-3b05-4686-a1f5-56da7d961133",
   "metadata": {},
   "outputs": [],
   "source": []
  },
  {
   "cell_type": "code",
   "execution_count": 2,
   "id": "8aab90fb-e47f-4f33-a423-13000b121b16",
   "metadata": {},
   "outputs": [
    {
     "ename": "NameError",
     "evalue": "name 'pd' is not defined",
     "output_type": "error",
     "traceback": [
      "\u001b[0;31m---------------------------------------------------------------------------\u001b[0m",
      "\u001b[0;31mNameError\u001b[0m                                 Traceback (most recent call last)",
      "Cell \u001b[0;32mIn[2], line 1\u001b[0m\n\u001b[0;32m----> 1\u001b[0m highs \u001b[38;5;241m=\u001b[39m \u001b[43mpd\u001b[49m\u001b[38;5;241m.\u001b[39mSeries([\u001b[38;5;241m33\u001b[39m, \u001b[38;5;241m38\u001b[39m, \u001b[38;5;241m27\u001b[39m, \u001b[38;5;241m24\u001b[39m, \u001b[38;5;241m23\u001b[39m, \u001b[38;5;241m24\u001b[39m, \u001b[38;5;241m25\u001b[39m, \u001b[38;5;241m27\u001b[39m, \u001b[38;5;241m32\u001b[39m, \u001b[38;5;241m35\u001b[39m],\n\u001b[1;32m      2\u001b[0m           index\u001b[38;5;241m=\u001b[39m\u001b[38;5;124m'\u001b[39m\u001b[38;5;124mFri Sat Sun Mon Tue Wed Thu Fri Sat Sun\u001b[39m\u001b[38;5;124m'\u001b[39m\u001b[38;5;241m.\u001b[39msplit())\n\u001b[1;32m      3\u001b[0m lows \u001b[38;5;241m=\u001b[39m Series([\u001b[38;5;241m19\u001b[39m, \u001b[38;5;241m19\u001b[39m, \u001b[38;5;241m17\u001b[39m, \u001b[38;5;241m16\u001b[39m, \u001b[38;5;241m16\u001b[39m, \u001b[38;5;241m15\u001b[39m, \u001b[38;5;241m14\u001b[39m, \u001b[38;5;241m16\u001b[39m, \u001b[38;5;241m19\u001b[39m, \u001b[38;5;241m21\u001b[39m],\n\u001b[1;32m      4\u001b[0m           index\u001b[38;5;241m=\u001b[39m\u001b[38;5;124m'\u001b[39m\u001b[38;5;124mFri Sat Sun Mon Tue Wed Thu Fri Sat Sun\u001b[39m\u001b[38;5;124m'\u001b[39m\u001b[38;5;241m.\u001b[39msplit())\n\u001b[1;32m      5\u001b[0m diffs \u001b[38;5;241m=\u001b[39m highs \u001b[38;5;241m-\u001b[39m lows\n",
      "\u001b[0;31mNameError\u001b[0m: name 'pd' is not defined"
     ]
    }
   ],
   "source": [
    "highs = Series([33, 38, 27, 24, 23, 24, 25, 27, 32, 35],\n",
    "          index='Fri Sat Sun Mon Tue Wed Thu Fri Sat Sun'.split())\n",
    "lows = Series([19, 19, 17, 16, 16, 15, 14, 16, 19, 21],\n",
    "          index='Fri Sat Sun Mon Tue Wed Thu Fri Sat Sun'.split())\n",
    "diffs = highs - lows\n",
    "diffs.mean()"
   ]
  },
  {
   "cell_type": "code",
   "execution_count": 8,
   "id": "14a5821a-3782-4901-bcab-0f1c310fc39e",
   "metadata": {},
   "outputs": [],
   "source": [
    "import pandas as pd\n",
    "import numpy as np\n",
    "from pandas import Series, DataFrame\n",
    "highs = Series([33, 38, 27, 24, 23, 24, 25, 27, 32, 35],\n",
    "          index='Fri Sat Sun Mon Tue Wed Thu Fri Sat Sun'.split())\n",
    "lows = Series([19, 19, 17, 16, 16, 15, 14, 16, 19, 21],\n",
    "          index='Fri Sat Sun Mon Tue Wed Thu Fri Sat Sun'.split())\n",
    "highs.mean()\n",
    "lows.mean()\n",
    "mean1 = (highs.mean() + lows.mean() )/2\n",
    "\n",
    "highs_above_mean= highs[ highs>mean1]"
   ]
  },
  {
   "cell_type": "code",
   "execution_count": 10,
   "id": "e148cf53-18d2-4b22-a9bc-6c783833414a",
   "metadata": {},
   "outputs": [
    {
     "ename": "SyntaxError",
     "evalue": "closing parenthesis '}' does not match opening parenthesis '[' (3568464355.py, line 9)",
     "output_type": "error",
     "traceback": [
      "\u001b[0;36m  Cell \u001b[0;32mIn[10], line 9\u001b[0;36m\u001b[0m\n\u001b[0;31m    highs.loc[highs>highs_above_mean}\u001b[0m\n\u001b[0m                                    ^\u001b[0m\n\u001b[0;31mSyntaxError\u001b[0m\u001b[0;31m:\u001b[0m closing parenthesis '}' does not match opening parenthesis '['\n"
     ]
    }
   ],
   "source": [
    "mean_highs = highs.mean()\n",
    "mean_lows = lows.mean()\n",
    "\n",
    "# Calculate the average of the mean high and mean low temperatures\n",
    "mean1 = (mean_highs + mean_lows) / 2\n",
    "\n",
    "# Find highs above the overall mean\n",
    "highs_above_mean = highs[highs > mean1]\n",
    "highs.loc[highs>highs_above_mean}"
   ]
  },
  {
   "cell_type": "code",
   "execution_count": 42,
   "id": "ad00cd7a-afe0-48d5-8c91-e6cb8b36606e",
   "metadata": {},
   "outputs": [
    {
     "data": {
      "text/plain": [
       "11.6"
      ]
     },
     "execution_count": 42,
     "metadata": {},
     "output_type": "execute_result"
    }
   ],
   "source": [
    "highs = Series([33, 38, 27, 24, 23, 24, 25, 27, 32, 35],\n",
    "          index='Fri Sat Sun Mon Tue Wed Thu Fri Sat Sun'.split())\n",
    "lows = Series([19, 19, 17, 16, 16, 15, 14, 16, 19, 21],\n",
    "          index='Fri Sat Sun Mon Tue Wed Thu Fri Sat Sun'.split())\n",
    "diffs = highs - lows\n",
    "diffs.mean()"
   ]
  },
  {
   "cell_type": "code",
   "execution_count": 15,
   "id": "762dd6d0-6b92-4cb1-911c-70e64f2613c2",
   "metadata": {},
   "outputs": [
    {
     "ename": "AttributeError",
     "evalue": "module 'numpy.random' has no attribute 'randit'",
     "output_type": "error",
     "traceback": [
      "\u001b[0;31m---------------------------------------------------------------------------\u001b[0m",
      "\u001b[0;31mAttributeError\u001b[0m                            Traceback (most recent call last)",
      "Cell \u001b[0;32mIn[15], line 2\u001b[0m\n\u001b[1;32m      1\u001b[0m np\u001b[38;5;241m.\u001b[39mrandom\u001b[38;5;241m.\u001b[39mseed(\u001b[38;5;241m0\u001b[39m)\n\u001b[0;32m----> 2\u001b[0m s \u001b[38;5;241m=\u001b[39m Series (\u001b[43mnp\u001b[49m\u001b[38;5;241;43m.\u001b[39;49m\u001b[43mrandom\u001b[49m\u001b[38;5;241;43m.\u001b[39;49m\u001b[43mrandit\u001b[49m(\u001b[38;5;241m0\u001b[39m,\u001b[38;5;241m1000\u001b[39m,\u001b[38;5;241m10\u001b[39m), index \u001b[38;5;241m=\u001b[39m \u001b[38;5;28mlist\u001b[39m (\u001b[38;5;124m'\u001b[39m\u001b[38;5;124mabcdefghij\u001b[39m\u001b[38;5;124m'\u001b[39m))\n\u001b[1;32m      3\u001b[0m s\n",
      "\u001b[0;31mAttributeError\u001b[0m: module 'numpy.random' has no attribute 'randit'"
     ]
    }
   ],
   "source": [
    "np.random.seed(0)\n",
    "s = Series (np.random.randit(0,1000,10), index = list ('abcdefghij'))\n",
    "s"
   ]
  },
  {
   "cell_type": "code",
   "execution_count": 17,
   "id": "a6faf3b5-916c-4e9a-80b4-0260d78e58c8",
   "metadata": {},
   "outputs": [
    {
     "ename": "AttributeError",
     "evalue": "module 'numpy.random' has no attribute 'randit'",
     "output_type": "error",
     "traceback": [
      "\u001b[0;31m---------------------------------------------------------------------------\u001b[0m",
      "\u001b[0;31mAttributeError\u001b[0m                            Traceback (most recent call last)",
      "Cell \u001b[0;32mIn[17], line 6\u001b[0m\n\u001b[1;32m      3\u001b[0m \u001b[38;5;28;01mfrom\u001b[39;00m \u001b[38;5;21;01mpandas\u001b[39;00m \u001b[38;5;28;01mimport\u001b[39;00m Series, DataFrame\n\u001b[1;32m      5\u001b[0m np\u001b[38;5;241m.\u001b[39mrandom\u001b[38;5;241m.\u001b[39mseed(\u001b[38;5;241m0\u001b[39m)\n\u001b[0;32m----> 6\u001b[0m s \u001b[38;5;241m=\u001b[39m Series (\u001b[43mnp\u001b[49m\u001b[38;5;241;43m.\u001b[39;49m\u001b[43mrandom\u001b[49m\u001b[38;5;241;43m.\u001b[39;49m\u001b[43mrandit\u001b[49m(\u001b[38;5;241m1\u001b[39m,\u001b[38;5;241m1000\u001b[39m,\u001b[38;5;241m20\u001b[39m),\n\u001b[1;32m      7\u001b[0m             index \u001b[38;5;241m=\u001b[39m \u001b[38;5;28mlist\u001b[39m (\u001b[38;5;124m'\u001b[39m\u001b[38;5;124mabcdefghijklmnopqrst\u001b[39m\u001b[38;5;124m'\u001b[39m))\n\u001b[1;32m      8\u001b[0m s\n",
      "\u001b[0;31mAttributeError\u001b[0m: module 'numpy.random' has no attribute 'randit'"
     ]
    }
   ],
   "source": [
    "import numpy as np\n",
    "import pandas as pd\n",
    "from pandas import Series, DataFrame\n",
    "\n",
    "np.random.seed(0)\n",
    "s = Series (np.random.randit(1,1000,20),\n",
    "            index = list ('abcdefghijklmnopqrst'))\n",
    "s\n",
    "            "
   ]
  },
  {
   "cell_type": "code",
   "execution_count": 10,
   "id": "dfa61e82-3767-4f50-9127-58b85d7bed41",
   "metadata": {},
   "outputs": [],
   "source": [
    "import pandas as pd\n",
    "import numpy as np\n",
    "from pandas import Series, DataFrame\n"
   ]
  },
  {
   "cell_type": "code",
   "execution_count": 11,
   "id": "959ca904-167f-4529-929e-5dfc8dd0971d",
   "metadata": {},
   "outputs": [
    {
     "data": {
      "text/plain": [
       "a    685\n",
       "b    560\n",
       "c    630\n",
       "d    193\n",
       "e    836\n",
       "f    764\n",
       "g    708\n",
       "h    360\n",
       "i     10\n",
       "j    724\n",
       "k    278\n",
       "l    755\n",
       "m    805\n",
       "n    600\n",
       "o     71\n",
       "p    473\n",
       "q    601\n",
       "r    397\n",
       "s    315\n",
       "t    706\n",
       "dtype: int64"
      ]
     },
     "execution_count": 11,
     "metadata": {},
     "output_type": "execute_result"
    }
   ],
   "source": [
    "np.random.seed(0)\n",
    "from pandas import Series, DataFrame\n",
    "s = pd.Series (np.random.randint(1,1000,20),\n",
    "            index = list ('abcdefghijklmnopqrst'))\n",
    "s"
   ]
  },
  {
   "cell_type": "code",
   "execution_count": 10,
   "id": "3b9b910d-9bc2-4e0a-9495-888981479435",
   "metadata": {},
   "outputs": [],
   "source": [
    "import pandas as pd\n",
    "import numpy as np\n",
    "from pandas import Series, DataFrame\n"
   ]
  },
  {
   "cell_type": "code",
   "execution_count": 13,
   "id": "848c0548-a028-48bf-9820-4af3db4ce38f",
   "metadata": {},
   "outputs": [
    {
     "data": {
      "text/plain": [
       "Series([], dtype: int64)"
      ]
     },
     "execution_count": 13,
     "metadata": {},
     "output_type": "execute_result"
    }
   ],
   "source": [
    "s.mean()\n",
    "s.loc [ s>s.mean() - s.std()]\n",
    "s.loc[ s>s.mean() + s.std()]\n",
    "s.loc[(s>s.mean() +s.std()) & (s<s.mean() -s.std())]"
   ]
  },
  {
   "cell_type": "code",
   "execution_count": 10,
   "id": "1e74f56e-9774-4d0a-9d32-65ba5a87cab7",
   "metadata": {},
   "outputs": [
    {
     "data": {
      "text/plain": [
       "array([6])"
      ]
     },
     "execution_count": 10,
     "metadata": {},
     "output_type": "execute_result"
    }
   ],
   "source": [
    "np.random.seed(0)\n",
    "s = np.random.randint(1,10,1)\n"
   ]
  },
  {
   "cell_type": "code",
   "execution_count": 16,
   "id": "70b55b04-81fe-4284-9e92-207871fef7c4",
   "metadata": {},
   "outputs": [
    {
     "data": {
      "text/plain": [
       "a    684\n",
       "b    559\n",
       "c    629\n",
       "d    192\n",
       "e    835\n",
       "f    763\n",
       "g    707\n",
       "h    359\n",
       "i      9\n",
       "j    723\n",
       "dtype: int64"
      ]
     },
     "execution_count": 16,
     "metadata": {},
     "output_type": "execute_result"
    }
   ],
   "source": [
    "np.random.seed(0)   # this makes it consistent across platforms\n",
    "s = Series(np.random.randint(0, 1000, 10),\n",
    "           index=list('abcdefghij'))\n",
    "s"
   ]
  },
  {
   "cell_type": "code",
   "execution_count": 19,
   "id": "e49a63e1-87b8-4b8f-9ccc-a0f7e8bb57f6",
   "metadata": {},
   "outputs": [
    {
     "data": {
      "text/plain": [
       "a    685\n",
       "b    560\n",
       "c    630\n",
       "d    193\n",
       "e    836\n",
       "f    764\n",
       "g    708\n",
       "h    360\n",
       "i     10\n",
       "j    724\n",
       "k    278\n",
       "l    755\n",
       "m    805\n",
       "n    600\n",
       "o     71\n",
       "p    473\n",
       "q    601\n",
       "r    397\n",
       "s    315\n",
       "t    706\n",
       "dtype: int64"
      ]
     },
     "execution_count": 19,
     "metadata": {},
     "output_type": "execute_result"
    }
   ],
   "source": [
    "np.random.seed(0)\n",
    "s = Series(np.random.randint(1,1000,20),\n",
    "            index = list('abcdefghijklmnopqrst'))\n",
    "s"
   ]
  }
 ],
 "metadata": {
  "kernelspec": {
   "display_name": "Python 3 (ipykernel)",
   "language": "python",
   "name": "python3"
  },
  "language_info": {
   "codemirror_mode": {
    "name": "ipython",
    "version": 3
   },
   "file_extension": ".py",
   "mimetype": "text/x-python",
   "name": "python",
   "nbconvert_exporter": "python",
   "pygments_lexer": "ipython3",
   "version": "3.12.3"
  }
 },
 "nbformat": 4,
 "nbformat_minor": 5
}
