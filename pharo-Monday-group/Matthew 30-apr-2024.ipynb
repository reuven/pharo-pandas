{
 "cells": [
  {
   "cell_type": "code",
   "execution_count": 3,
   "id": "1733b205",
   "metadata": {},
   "outputs": [
    {
     "name": "stdout",
     "output_type": "stream",
     "text": [
      "Running....\n"
     ]
    }
   ],
   "source": [
    "# Whatever I write here will not be executed\n",
    "# Neither will this\n",
    "\n",
    "print('Running....')"
   ]
  },
  {
   "cell_type": "code",
   "execution_count": 11,
   "id": "ee9fe5a8",
   "metadata": {},
   "outputs": [
    {
     "name": "stdout",
     "output_type": "stream",
     "text": [
      "   VendorID tpep_pickup_datetime tpep_dropoff_datetime  passenger_count  \\\n",
      "0         2  2015-06-02 11:19:29   2015-06-02 11:47:52                1   \n",
      "1         2  2015-06-02 11:19:30   2015-06-02 11:27:56                1   \n",
      "2         2  2015-06-02 11:19:31   2015-06-02 11:30:30                1   \n",
      "3         2  2015-06-02 11:19:31   2015-06-02 11:39:02                1   \n",
      "4         1  2015-06-02 11:19:32   2015-06-02 11:32:49                1   \n",
      "\n",
      "   trip_distance  pickup_longitude  pickup_latitude  RateCodeID  \\\n",
      "0           1.63        -73.954430        40.764141           1   \n",
      "1           0.46        -73.971443        40.758942           1   \n",
      "2           0.87        -73.978111        40.738434           1   \n",
      "3           2.13        -73.945892        40.773529           1   \n",
      "4           1.40        -73.979088        40.776772           1   \n",
      "\n",
      "  store_and_fwd_flag  dropoff_longitude  dropoff_latitude  payment_type  \\\n",
      "0                  N         -73.974754         40.754093             2   \n",
      "1                  N         -73.978539         40.761909             1   \n",
      "2                  N         -73.990273         40.745438             1   \n",
      "3                  N         -73.971527         40.760330             1   \n",
      "4                  N         -73.982162         40.758999             2   \n",
      "\n",
      "   fare_amount  extra  mta_tax  tip_amount  tolls_amount  \\\n",
      "0         17.0    0.0      0.5        0.00           0.0   \n",
      "1          6.5    0.0      0.5        1.00           0.0   \n",
      "2          8.0    0.0      0.5        2.20           0.0   \n",
      "3         13.5    0.0      0.5        2.86           0.0   \n",
      "4          9.5    0.0      0.5        0.00           0.0   \n",
      "\n",
      "   improvement_surcharge  total_amount  \n",
      "0                    0.3         17.80  \n",
      "1                    0.3          8.30  \n",
      "2                    0.3         11.00  \n",
      "3                    0.3         17.16  \n",
      "4                    0.3         10.30  \n"
     ]
    }
   ],
   "source": [
    "import pandas as pd\n",
    "\n",
    "filename = \"../data/taxi.csv\"\n",
    "df = pd.read_csv(filename)\n",
    "print(df.head())"
   ]
  },
  {
   "cell_type": "code",
   "execution_count": null,
   "id": "ca1ddff1",
   "metadata": {},
   "outputs": [],
   "source": []
  }
 ],
 "metadata": {
  "kernelspec": {
   "display_name": "Python 3 (ipykernel)",
   "language": "python",
   "name": "python3"
  },
  "language_info": {
   "codemirror_mode": {
    "name": "ipython",
    "version": 3
   },
   "file_extension": ".py",
   "mimetype": "text/x-python",
   "name": "python",
   "nbconvert_exporter": "python",
   "pygments_lexer": "ipython3",
   "version": "3.11.6"
  }
 },
 "nbformat": 4,
 "nbformat_minor": 5
}
